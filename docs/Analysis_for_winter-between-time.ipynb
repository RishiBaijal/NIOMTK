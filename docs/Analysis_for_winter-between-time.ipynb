{
 "metadata": {
  "name": "",
  "signature": "sha256:bfff1a25d3c82bb014e1f9f62c83cb878ba5df2daaa54a7400203e6afd08fb32"
 },
 "nbformat": 3,
 "nbformat_minor": 0,
 "worksheets": [
  {
   "cells": [
    {
     "cell_type": "code",
     "collapsed": false,
     "input": [
      "import numpy as np\n",
      "import pandas as pd\n",
      "from numpy import *\n",
      "from pandas import *\n",
      "import matplotlib\n",
      "import os\n",
      "import os.path\n",
      "from os import *\n",
      "from os.path import *\n",
      "import matplotlib.pyplot as plt\n",
      "\n",
      "%matplotlib inline"
     ],
     "language": "python",
     "metadata": {},
     "outputs": [],
     "prompt_number": 8
    },
    {
     "cell_type": "code",
     "collapsed": false,
     "input": [
      "dir_path='/Users/rishi/Documents/Master_folder/IIITD/6th_semester/BTP/NIOMTK_datasets'\n",
      "store=HDFStore(join(dir_path, 'eco.h5'))"
     ],
     "language": "python",
     "metadata": {},
     "outputs": [],
     "prompt_number": 9
    },
    {
     "cell_type": "code",
     "collapsed": false,
     "input": [
      "df=store['/building2/elec/meter2']\n",
      "mean_df=df.resample('15min', how='mean' )\n",
      "median_df=df.resample('15min', how='median')\n",
      "std_df=df.resample('15min', how=np.std)\n",
      "range_df=df.resample('15min', how=np.max) - df.resample('15min', how=np.min)"
     ],
     "language": "python",
     "metadata": {},
     "outputs": [],
     "prompt_number": 10
    },
    {
     "cell_type": "markdown",
     "metadata": {},
     "source": [
      "For the sake of completeness, I will print the values here.\n",
      "\n",
      "Head values\n",
      "-------"
     ]
    },
    {
     "cell_type": "code",
     "collapsed": false,
     "input": [
      "mean_df.head()"
     ],
     "language": "python",
     "metadata": {},
     "outputs": [
      {
       "html": [
        "<div style=\"max-height:1000px;max-width:1500px;overflow:auto;\">\n",
        "<table border=\"1\" class=\"dataframe\">\n",
        "  <thead>\n",
        "    <tr>\n",
        "      <th></th>\n",
        "      <th>power</th>\n",
        "      <th>current</th>\n",
        "      <th>voltage</th>\n",
        "      <th>phase_angle</th>\n",
        "      <th>power</th>\n",
        "    </tr>\n",
        "    <tr>\n",
        "      <th></th>\n",
        "      <th>active</th>\n",
        "      <th></th>\n",
        "      <th></th>\n",
        "      <th></th>\n",
        "      <th>reactive</th>\n",
        "    </tr>\n",
        "  </thead>\n",
        "  <tbody>\n",
        "    <tr>\n",
        "      <th>2012-06-01 02:00:00+02:00</th>\n",
        "      <td> 21.157919</td>\n",
        "      <td> 0.157437</td>\n",
        "      <td> 235.039993</td>\n",
        "      <td> 0</td>\n",
        "      <td> 0</td>\n",
        "    </tr>\n",
        "    <tr>\n",
        "      <th>2012-06-01 02:15:00+02:00</th>\n",
        "      <td> 21.159485</td>\n",
        "      <td> 0.156040</td>\n",
        "      <td> 235.156662</td>\n",
        "      <td> 0</td>\n",
        "      <td> 0</td>\n",
        "    </tr>\n",
        "    <tr>\n",
        "      <th>2012-06-01 02:30:00+02:00</th>\n",
        "      <td> 21.194288</td>\n",
        "      <td> 0.157210</td>\n",
        "      <td> 235.328888</td>\n",
        "      <td> 0</td>\n",
        "      <td> 0</td>\n",
        "    </tr>\n",
        "    <tr>\n",
        "      <th>2012-06-01 02:45:00+02:00</th>\n",
        "      <td> 21.209436</td>\n",
        "      <td> 0.156509</td>\n",
        "      <td> 236.002228</td>\n",
        "      <td> 0</td>\n",
        "      <td> 0</td>\n",
        "    </tr>\n",
        "    <tr>\n",
        "      <th>2012-06-01 03:00:00+02:00</th>\n",
        "      <td> 21.127615</td>\n",
        "      <td> 0.156815</td>\n",
        "      <td> 234.485550</td>\n",
        "      <td> 0</td>\n",
        "      <td> 0</td>\n",
        "    </tr>\n",
        "  </tbody>\n",
        "</table>\n",
        "</div>"
       ],
       "metadata": {},
       "output_type": "pyout",
       "prompt_number": 4,
       "text": [
        "                               power   current     voltage  phase_angle  \\\n",
        "                              active                                      \n",
        "2012-06-01 02:00:00+02:00  21.157919  0.157437  235.039993            0   \n",
        "2012-06-01 02:15:00+02:00  21.159485  0.156040  235.156662            0   \n",
        "2012-06-01 02:30:00+02:00  21.194288  0.157210  235.328888            0   \n",
        "2012-06-01 02:45:00+02:00  21.209436  0.156509  236.002228            0   \n",
        "2012-06-01 03:00:00+02:00  21.127615  0.156815  234.485550            0   \n",
        "\n",
        "                              power  \n",
        "                           reactive  \n",
        "2012-06-01 02:00:00+02:00         0  \n",
        "2012-06-01 02:15:00+02:00         0  \n",
        "2012-06-01 02:30:00+02:00         0  \n",
        "2012-06-01 02:45:00+02:00         0  \n",
        "2012-06-01 03:00:00+02:00         0  "
       ]
      }
     ],
     "prompt_number": 4
    },
    {
     "cell_type": "code",
     "collapsed": false,
     "input": [
      "median_df.head()"
     ],
     "language": "python",
     "metadata": {},
     "outputs": [
      {
       "html": [
        "<div style=\"max-height:1000px;max-width:1500px;overflow:auto;\">\n",
        "<table border=\"1\" class=\"dataframe\">\n",
        "  <thead>\n",
        "    <tr>\n",
        "      <th></th>\n",
        "      <th>power</th>\n",
        "      <th>current</th>\n",
        "      <th>voltage</th>\n",
        "      <th>phase_angle</th>\n",
        "      <th>power</th>\n",
        "    </tr>\n",
        "    <tr>\n",
        "      <th></th>\n",
        "      <th>active</th>\n",
        "      <th></th>\n",
        "      <th></th>\n",
        "      <th></th>\n",
        "      <th>reactive</th>\n",
        "    </tr>\n",
        "  </thead>\n",
        "  <tbody>\n",
        "    <tr>\n",
        "      <th>2012-06-01 02:00:00+02:00</th>\n",
        "      <td> 21.162001</td>\n",
        "      <td> 0.15800</td>\n",
        "      <td> 235</td>\n",
        "      <td> 0</td>\n",
        "      <td> 0</td>\n",
        "    </tr>\n",
        "    <tr>\n",
        "      <th>2012-06-01 02:15:00+02:00</th>\n",
        "      <td> 21.162001</td>\n",
        "      <td> 0.15635</td>\n",
        "      <td> 235</td>\n",
        "      <td> 0</td>\n",
        "      <td> 0</td>\n",
        "    </tr>\n",
        "    <tr>\n",
        "      <th>2012-06-01 02:30:00+02:00</th>\n",
        "      <td> 21.195000</td>\n",
        "      <td> 0.15710</td>\n",
        "      <td> 235</td>\n",
        "      <td> 0</td>\n",
        "      <td> 0</td>\n",
        "    </tr>\n",
        "    <tr>\n",
        "      <th>2012-06-01 02:45:00+02:00</th>\n",
        "      <td> 21.218000</td>\n",
        "      <td> 0.15660</td>\n",
        "      <td> 236</td>\n",
        "      <td> 0</td>\n",
        "      <td> 0</td>\n",
        "    </tr>\n",
        "    <tr>\n",
        "      <th>2012-06-01 03:00:00+02:00</th>\n",
        "      <td> 21.132999</td>\n",
        "      <td> 0.15680</td>\n",
        "      <td> 234</td>\n",
        "      <td> 0</td>\n",
        "      <td> 0</td>\n",
        "    </tr>\n",
        "  </tbody>\n",
        "</table>\n",
        "</div>"
       ],
       "metadata": {},
       "output_type": "pyout",
       "prompt_number": 5,
       "text": [
        "                               power  current  voltage  phase_angle     power\n",
        "                              active                                 reactive\n",
        "2012-06-01 02:00:00+02:00  21.162001  0.15800      235            0         0\n",
        "2012-06-01 02:15:00+02:00  21.162001  0.15635      235            0         0\n",
        "2012-06-01 02:30:00+02:00  21.195000  0.15710      235            0         0\n",
        "2012-06-01 02:45:00+02:00  21.218000  0.15660      236            0         0\n",
        "2012-06-01 03:00:00+02:00  21.132999  0.15680      234            0         0"
       ]
      }
     ],
     "prompt_number": 5
    },
    {
     "cell_type": "code",
     "collapsed": false,
     "input": [
      "std_df.head()"
     ],
     "language": "python",
     "metadata": {},
     "outputs": [
      {
       "html": [
        "<div style=\"max-height:1000px;max-width:1500px;overflow:auto;\">\n",
        "<table border=\"1\" class=\"dataframe\">\n",
        "  <thead>\n",
        "    <tr>\n",
        "      <th></th>\n",
        "      <th>power</th>\n",
        "      <th>current</th>\n",
        "      <th>voltage</th>\n",
        "      <th>phase_angle</th>\n",
        "      <th>power</th>\n",
        "    </tr>\n",
        "    <tr>\n",
        "      <th></th>\n",
        "      <th>active</th>\n",
        "      <th></th>\n",
        "      <th></th>\n",
        "      <th></th>\n",
        "      <th>reactive</th>\n",
        "    </tr>\n",
        "  </thead>\n",
        "  <tbody>\n",
        "    <tr>\n",
        "      <th>2012-06-01 02:00:00+02:00</th>\n",
        "      <td> 0.144644</td>\n",
        "      <td> 0.001985</td>\n",
        "      <td>      NaN</td>\n",
        "      <td> 0</td>\n",
        "      <td> 0</td>\n",
        "    </tr>\n",
        "    <tr>\n",
        "      <th>2012-06-01 02:15:00+02:00</th>\n",
        "      <td> 0.140201</td>\n",
        "      <td> 0.001313</td>\n",
        "      <td>      NaN</td>\n",
        "      <td> 0</td>\n",
        "      <td> 0</td>\n",
        "    </tr>\n",
        "    <tr>\n",
        "      <th>2012-06-01 02:30:00+02:00</th>\n",
        "      <td> 0.134441</td>\n",
        "      <td> 0.001503</td>\n",
        "      <td>      NaN</td>\n",
        "      <td> 0</td>\n",
        "      <td> 0</td>\n",
        "    </tr>\n",
        "    <tr>\n",
        "      <th>2012-06-01 02:45:00+02:00</th>\n",
        "      <td> 0.143547</td>\n",
        "      <td> 0.000810</td>\n",
        "      <td> 0.000000</td>\n",
        "      <td> 0</td>\n",
        "      <td> 0</td>\n",
        "    </tr>\n",
        "    <tr>\n",
        "      <th>2012-06-01 03:00:00+02:00</th>\n",
        "      <td> 0.132813</td>\n",
        "      <td> 0.000893</td>\n",
        "      <td> 0.301867</td>\n",
        "      <td> 0</td>\n",
        "      <td> 0</td>\n",
        "    </tr>\n",
        "  </tbody>\n",
        "</table>\n",
        "</div>"
       ],
       "metadata": {},
       "output_type": "pyout",
       "prompt_number": 6,
       "text": [
        "                              power   current   voltage  phase_angle     power\n",
        "                             active                                   reactive\n",
        "2012-06-01 02:00:00+02:00  0.144644  0.001985       NaN            0         0\n",
        "2012-06-01 02:15:00+02:00  0.140201  0.001313       NaN            0         0\n",
        "2012-06-01 02:30:00+02:00  0.134441  0.001503       NaN            0         0\n",
        "2012-06-01 02:45:00+02:00  0.143547  0.000810  0.000000            0         0\n",
        "2012-06-01 03:00:00+02:00  0.132813  0.000893  0.301867            0         0"
       ]
      }
     ],
     "prompt_number": 6
    },
    {
     "cell_type": "code",
     "collapsed": false,
     "input": [
      "range_df.head()"
     ],
     "language": "python",
     "metadata": {},
     "outputs": [
      {
       "html": [
        "<div style=\"max-height:1000px;max-width:1500px;overflow:auto;\">\n",
        "<table border=\"1\" class=\"dataframe\">\n",
        "  <thead>\n",
        "    <tr>\n",
        "      <th></th>\n",
        "      <th>power</th>\n",
        "      <th>current</th>\n",
        "      <th>voltage</th>\n",
        "      <th>phase_angle</th>\n",
        "      <th>power</th>\n",
        "    </tr>\n",
        "    <tr>\n",
        "      <th></th>\n",
        "      <th>active</th>\n",
        "      <th></th>\n",
        "      <th></th>\n",
        "      <th></th>\n",
        "      <th>reactive</th>\n",
        "    </tr>\n",
        "  </thead>\n",
        "  <tbody>\n",
        "    <tr>\n",
        "      <th>2012-06-01 02:00:00+02:00</th>\n",
        "      <td> 1.040001</td>\n",
        "      <td> 0.0140</td>\n",
        "      <td> 1</td>\n",
        "      <td> 0</td>\n",
        "      <td> 0</td>\n",
        "    </tr>\n",
        "    <tr>\n",
        "      <th>2012-06-01 02:15:00+02:00</th>\n",
        "      <td> 1.007000</td>\n",
        "      <td> 0.0080</td>\n",
        "      <td> 2</td>\n",
        "      <td> 0</td>\n",
        "      <td> 0</td>\n",
        "    </tr>\n",
        "    <tr>\n",
        "      <th>2012-06-01 02:30:00+02:00</th>\n",
        "      <td> 0.837000</td>\n",
        "      <td> 0.0207</td>\n",
        "      <td> 2</td>\n",
        "      <td> 0</td>\n",
        "      <td> 0</td>\n",
        "    </tr>\n",
        "    <tr>\n",
        "      <th>2012-06-01 02:45:00+02:00</th>\n",
        "      <td> 0.893999</td>\n",
        "      <td> 0.0070</td>\n",
        "      <td> 2</td>\n",
        "      <td> 0</td>\n",
        "      <td> 0</td>\n",
        "    </tr>\n",
        "    <tr>\n",
        "      <th>2012-06-01 03:00:00+02:00</th>\n",
        "      <td> 0.875000</td>\n",
        "      <td> 0.0112</td>\n",
        "      <td> 3</td>\n",
        "      <td> 0</td>\n",
        "      <td> 0</td>\n",
        "    </tr>\n",
        "  </tbody>\n",
        "</table>\n",
        "</div>"
       ],
       "metadata": {},
       "output_type": "pyout",
       "prompt_number": 7,
       "text": [
        "                              power  current  voltage  phase_angle     power\n",
        "                             active                                 reactive\n",
        "2012-06-01 02:00:00+02:00  1.040001   0.0140        1            0         0\n",
        "2012-06-01 02:15:00+02:00  1.007000   0.0080        2            0         0\n",
        "2012-06-01 02:30:00+02:00  0.837000   0.0207        2            0         0\n",
        "2012-06-01 02:45:00+02:00  0.893999   0.0070        2            0         0\n",
        "2012-06-01 03:00:00+02:00  0.875000   0.0112        3            0         0"
       ]
      }
     ],
     "prompt_number": 7
    },
    {
     "cell_type": "markdown",
     "metadata": {},
     "source": [
      "Tail values\n",
      "--------"
     ]
    },
    {
     "cell_type": "code",
     "collapsed": false,
     "input": [
      "mean_df.tail()"
     ],
     "language": "python",
     "metadata": {},
     "outputs": [
      {
       "html": [
        "<div style=\"max-height:1000px;max-width:1500px;overflow:auto;\">\n",
        "<table border=\"1\" class=\"dataframe\">\n",
        "  <thead>\n",
        "    <tr>\n",
        "      <th></th>\n",
        "      <th>power</th>\n",
        "      <th>current</th>\n",
        "      <th>voltage</th>\n",
        "      <th>phase_angle</th>\n",
        "      <th>power</th>\n",
        "    </tr>\n",
        "    <tr>\n",
        "      <th></th>\n",
        "      <th>active</th>\n",
        "      <th></th>\n",
        "      <th></th>\n",
        "      <th></th>\n",
        "      <th>reactive</th>\n",
        "    </tr>\n",
        "  </thead>\n",
        "  <tbody>\n",
        "    <tr>\n",
        "      <th>2013-01-31 23:45:00+01:00</th>\n",
        "      <td> 21.652687</td>\n",
        "      <td> 0.159398</td>\n",
        "      <td> 236.279999</td>\n",
        "      <td> 0</td>\n",
        "      <td> 0</td>\n",
        "    </tr>\n",
        "    <tr>\n",
        "      <th>2013-02-01 00:00:00+01:00</th>\n",
        "      <td> 21.674355</td>\n",
        "      <td> 0.158865</td>\n",
        "      <td> 236.919998</td>\n",
        "      <td> 0</td>\n",
        "      <td> 0</td>\n",
        "    </tr>\n",
        "    <tr>\n",
        "      <th>2013-02-01 00:15:00+01:00</th>\n",
        "      <td> 21.672895</td>\n",
        "      <td> 0.158372</td>\n",
        "      <td> 236.948883</td>\n",
        "      <td> 0</td>\n",
        "      <td> 0</td>\n",
        "    </tr>\n",
        "    <tr>\n",
        "      <th>2013-02-01 00:30:00+01:00</th>\n",
        "      <td> 21.693756</td>\n",
        "      <td> 0.157997</td>\n",
        "      <td> 237.161118</td>\n",
        "      <td> 0</td>\n",
        "      <td> 0</td>\n",
        "    </tr>\n",
        "    <tr>\n",
        "      <th>2013-02-01 00:45:00+01:00</th>\n",
        "      <td> 21.646320</td>\n",
        "      <td> 0.157920</td>\n",
        "      <td> 236.382217</td>\n",
        "      <td> 0</td>\n",
        "      <td> 0</td>\n",
        "    </tr>\n",
        "  </tbody>\n",
        "</table>\n",
        "</div>"
       ],
       "metadata": {},
       "output_type": "pyout",
       "prompt_number": 8,
       "text": [
        "                               power   current     voltage  phase_angle  \\\n",
        "                              active                                      \n",
        "2013-01-31 23:45:00+01:00  21.652687  0.159398  236.279999            0   \n",
        "2013-02-01 00:00:00+01:00  21.674355  0.158865  236.919998            0   \n",
        "2013-02-01 00:15:00+01:00  21.672895  0.158372  236.948883            0   \n",
        "2013-02-01 00:30:00+01:00  21.693756  0.157997  237.161118            0   \n",
        "2013-02-01 00:45:00+01:00  21.646320  0.157920  236.382217            0   \n",
        "\n",
        "                              power  \n",
        "                           reactive  \n",
        "2013-01-31 23:45:00+01:00         0  \n",
        "2013-02-01 00:00:00+01:00         0  \n",
        "2013-02-01 00:15:00+01:00         0  \n",
        "2013-02-01 00:30:00+01:00         0  \n",
        "2013-02-01 00:45:00+01:00         0  "
       ]
      }
     ],
     "prompt_number": 8
    },
    {
     "cell_type": "code",
     "collapsed": false,
     "input": [
      "median_df.tail()"
     ],
     "language": "python",
     "metadata": {},
     "outputs": [
      {
       "html": [
        "<div style=\"max-height:1000px;max-width:1500px;overflow:auto;\">\n",
        "<table border=\"1\" class=\"dataframe\">\n",
        "  <thead>\n",
        "    <tr>\n",
        "      <th></th>\n",
        "      <th>power</th>\n",
        "      <th>current</th>\n",
        "      <th>voltage</th>\n",
        "      <th>phase_angle</th>\n",
        "      <th>power</th>\n",
        "    </tr>\n",
        "    <tr>\n",
        "      <th></th>\n",
        "      <th>active</th>\n",
        "      <th></th>\n",
        "      <th></th>\n",
        "      <th></th>\n",
        "      <th>reactive</th>\n",
        "    </tr>\n",
        "  </thead>\n",
        "  <tbody>\n",
        "    <tr>\n",
        "      <th>2013-01-31 23:45:00+01:00</th>\n",
        "      <td> 21.646000</td>\n",
        "      <td> 0.1594</td>\n",
        "      <td> 236</td>\n",
        "      <td> 0</td>\n",
        "      <td> 0</td>\n",
        "    </tr>\n",
        "    <tr>\n",
        "      <th>2013-02-01 00:00:00+01:00</th>\n",
        "      <td> 21.665001</td>\n",
        "      <td> 0.1588</td>\n",
        "      <td> 237</td>\n",
        "      <td> 0</td>\n",
        "      <td> 0</td>\n",
        "    </tr>\n",
        "    <tr>\n",
        "      <th>2013-02-01 00:15:00+01:00</th>\n",
        "      <td> 21.670000</td>\n",
        "      <td> 0.1584</td>\n",
        "      <td> 237</td>\n",
        "      <td> 0</td>\n",
        "      <td> 0</td>\n",
        "    </tr>\n",
        "    <tr>\n",
        "      <th>2013-02-01 00:30:00+01:00</th>\n",
        "      <td> 21.691000</td>\n",
        "      <td> 0.1580</td>\n",
        "      <td> 237</td>\n",
        "      <td> 0</td>\n",
        "      <td> 0</td>\n",
        "    </tr>\n",
        "    <tr>\n",
        "      <th>2013-02-01 00:45:00+01:00</th>\n",
        "      <td> 21.641001</td>\n",
        "      <td> 0.1578</td>\n",
        "      <td> 237</td>\n",
        "      <td> 0</td>\n",
        "      <td> 0</td>\n",
        "    </tr>\n",
        "  </tbody>\n",
        "</table>\n",
        "</div>"
       ],
       "metadata": {},
       "output_type": "pyout",
       "prompt_number": 9,
       "text": [
        "                               power  current  voltage  phase_angle     power\n",
        "                              active                                 reactive\n",
        "2013-01-31 23:45:00+01:00  21.646000   0.1594      236            0         0\n",
        "2013-02-01 00:00:00+01:00  21.665001   0.1588      237            0         0\n",
        "2013-02-01 00:15:00+01:00  21.670000   0.1584      237            0         0\n",
        "2013-02-01 00:30:00+01:00  21.691000   0.1580      237            0         0\n",
        "2013-02-01 00:45:00+01:00  21.641001   0.1578      237            0         0"
       ]
      }
     ],
     "prompt_number": 9
    },
    {
     "cell_type": "code",
     "collapsed": false,
     "input": [
      "std_df.tail()"
     ],
     "language": "python",
     "metadata": {},
     "outputs": [
      {
       "html": [
        "<div style=\"max-height:1000px;max-width:1500px;overflow:auto;\">\n",
        "<table border=\"1\" class=\"dataframe\">\n",
        "  <thead>\n",
        "    <tr>\n",
        "      <th></th>\n",
        "      <th>power</th>\n",
        "      <th>current</th>\n",
        "      <th>voltage</th>\n",
        "      <th>phase_angle</th>\n",
        "      <th>power</th>\n",
        "    </tr>\n",
        "    <tr>\n",
        "      <th></th>\n",
        "      <th>active</th>\n",
        "      <th></th>\n",
        "      <th></th>\n",
        "      <th></th>\n",
        "      <th>reactive</th>\n",
        "    </tr>\n",
        "  </thead>\n",
        "  <tbody>\n",
        "    <tr>\n",
        "      <th>2013-01-31 23:45:00+01:00</th>\n",
        "      <td> 0.157222</td>\n",
        "      <td> 0.000688</td>\n",
        "      <td>      NaN</td>\n",
        "      <td> 0</td>\n",
        "      <td> 0</td>\n",
        "    </tr>\n",
        "    <tr>\n",
        "      <th>2013-02-01 00:00:00+01:00</th>\n",
        "      <td> 0.157975</td>\n",
        "      <td> 0.001351</td>\n",
        "      <td>      NaN</td>\n",
        "      <td> 0</td>\n",
        "      <td> 0</td>\n",
        "    </tr>\n",
        "    <tr>\n",
        "      <th>2013-02-01 00:15:00+01:00</th>\n",
        "      <td> 0.155451</td>\n",
        "      <td> 0.000832</td>\n",
        "      <td>      NaN</td>\n",
        "      <td> 0</td>\n",
        "      <td> 0</td>\n",
        "    </tr>\n",
        "    <tr>\n",
        "      <th>2013-02-01 00:30:00+01:00</th>\n",
        "      <td> 0.151848</td>\n",
        "      <td> 0.000742</td>\n",
        "      <td>      NaN</td>\n",
        "      <td> 0</td>\n",
        "      <td> 0</td>\n",
        "    </tr>\n",
        "    <tr>\n",
        "      <th>2013-02-01 00:45:00+01:00</th>\n",
        "      <td> 0.174283</td>\n",
        "      <td> 0.001205</td>\n",
        "      <td> 1.158249</td>\n",
        "      <td> 0</td>\n",
        "      <td> 0</td>\n",
        "    </tr>\n",
        "  </tbody>\n",
        "</table>\n",
        "</div>"
       ],
       "metadata": {},
       "output_type": "pyout",
       "prompt_number": 10,
       "text": [
        "                              power   current   voltage  phase_angle     power\n",
        "                             active                                   reactive\n",
        "2013-01-31 23:45:00+01:00  0.157222  0.000688       NaN            0         0\n",
        "2013-02-01 00:00:00+01:00  0.157975  0.001351       NaN            0         0\n",
        "2013-02-01 00:15:00+01:00  0.155451  0.000832       NaN            0         0\n",
        "2013-02-01 00:30:00+01:00  0.151848  0.000742       NaN            0         0\n",
        "2013-02-01 00:45:00+01:00  0.174283  0.001205  1.158249            0         0"
       ]
      }
     ],
     "prompt_number": 10
    },
    {
     "cell_type": "code",
     "collapsed": false,
     "input": [
      "range_df.tail()"
     ],
     "language": "python",
     "metadata": {},
     "outputs": [
      {
       "html": [
        "<div style=\"max-height:1000px;max-width:1500px;overflow:auto;\">\n",
        "<table border=\"1\" class=\"dataframe\">\n",
        "  <thead>\n",
        "    <tr>\n",
        "      <th></th>\n",
        "      <th>power</th>\n",
        "      <th>current</th>\n",
        "      <th>voltage</th>\n",
        "      <th>phase_angle</th>\n",
        "      <th>power</th>\n",
        "    </tr>\n",
        "    <tr>\n",
        "      <th></th>\n",
        "      <th>active</th>\n",
        "      <th></th>\n",
        "      <th></th>\n",
        "      <th></th>\n",
        "      <th>reactive</th>\n",
        "    </tr>\n",
        "  </thead>\n",
        "  <tbody>\n",
        "    <tr>\n",
        "      <th>2013-01-31 23:45:00+01:00</th>\n",
        "      <td> 1.077000</td>\n",
        "      <td> 0.0048</td>\n",
        "      <td> 3</td>\n",
        "      <td> 0</td>\n",
        "      <td> 0</td>\n",
        "    </tr>\n",
        "    <tr>\n",
        "      <th>2013-02-01 00:00:00+01:00</th>\n",
        "      <td> 0.940001</td>\n",
        "      <td> 0.0164</td>\n",
        "      <td> 1</td>\n",
        "      <td> 0</td>\n",
        "      <td> 0</td>\n",
        "    </tr>\n",
        "    <tr>\n",
        "      <th>2013-02-01 00:15:00+01:00</th>\n",
        "      <td> 0.936001</td>\n",
        "      <td> 0.0093</td>\n",
        "      <td> 2</td>\n",
        "      <td> 0</td>\n",
        "      <td> 0</td>\n",
        "    </tr>\n",
        "    <tr>\n",
        "      <th>2013-02-01 00:30:00+01:00</th>\n",
        "      <td> 1.007000</td>\n",
        "      <td> 0.0054</td>\n",
        "      <td> 2</td>\n",
        "      <td> 0</td>\n",
        "      <td> 0</td>\n",
        "    </tr>\n",
        "    <tr>\n",
        "      <th>2013-02-01 00:45:00+01:00</th>\n",
        "      <td> 1.243000</td>\n",
        "      <td> 0.0169</td>\n",
        "      <td> 4</td>\n",
        "      <td> 0</td>\n",
        "      <td> 0</td>\n",
        "    </tr>\n",
        "  </tbody>\n",
        "</table>\n",
        "</div>"
       ],
       "metadata": {},
       "output_type": "pyout",
       "prompt_number": 11,
       "text": [
        "                              power  current  voltage  phase_angle     power\n",
        "                             active                                 reactive\n",
        "2013-01-31 23:45:00+01:00  1.077000   0.0048        3            0         0\n",
        "2013-02-01 00:00:00+01:00  0.940001   0.0164        1            0         0\n",
        "2013-02-01 00:15:00+01:00  0.936001   0.0093        2            0         0\n",
        "2013-02-01 00:30:00+01:00  1.007000   0.0054        2            0         0\n",
        "2013-02-01 00:45:00+01:00  1.243000   0.0169        4            0         0"
       ]
      }
     ],
     "prompt_number": 11
    },
    {
     "cell_type": "markdown",
     "metadata": {},
     "source": [
      "A new approach\n",
      "---------------\n",
      "\n",
      "For the previous notebooks, I was taking the average of the entire dataset. Maybe that was the reason for a lack of accuracy. In this case, the values that I will consider only take into account the relevant dates for winter, which extends from 30/11/2012 to 15/1/2013."
     ]
    },
    {
     "cell_type": "code",
     "collapsed": false,
     "input": [
      "mean_df['power']['active'].head()"
     ],
     "language": "python",
     "metadata": {},
     "outputs": [
      {
       "metadata": {},
       "output_type": "pyout",
       "prompt_number": 11,
       "text": [
        "2012-06-01 02:00:00+02:00    21.157919\n",
        "2012-06-01 02:15:00+02:00    21.159485\n",
        "2012-06-01 02:30:00+02:00    21.194288\n",
        "2012-06-01 02:45:00+02:00    21.209436\n",
        "2012-06-01 03:00:00+02:00    21.127615\n",
        "Freq: 15T, Name: active, dtype: float32"
       ]
      }
     ],
     "prompt_number": 11
    },
    {
     "cell_type": "code",
     "collapsed": false,
     "input": [
      "mean_df_sliced = mean_df['power']['active']['2012-11-30':'2013-1-15']\n",
      "median_df_sliced = median_df['power']['active']['2012-11-30':'2013-1-15']\n",
      "std_df_sliced = std_df['power']['active']['2012-11-30':'2013-1-15']\n",
      "range_df_sliced = range_df['power']['active']['2012-11-30':'2013-1-15']"
     ],
     "language": "python",
     "metadata": {},
     "outputs": [],
     "prompt_number": 12
    },
    {
     "cell_type": "code",
     "collapsed": false,
     "input": [
      "import datetime\n",
      "mean_df_sliced = mean_df_sliced.ix[mean_df_sliced.index.indexer_between_time(datetime.time(10), datetime.time(21))]"
     ],
     "language": "python",
     "metadata": {},
     "outputs": [],
     "prompt_number": 17
    },
    {
     "cell_type": "code",
     "collapsed": false,
     "input": [
      "median_df_sliced = median_df_sliced.ix[median_df_sliced.index.indexer_between_time(datetime.time(10), datetime.time(21))]"
     ],
     "language": "python",
     "metadata": {},
     "outputs": [],
     "prompt_number": 18
    },
    {
     "cell_type": "code",
     "collapsed": false,
     "input": [
      "std_df_sliced = std_df_sliced.ix[std_df_sliced.index.indexer_between_time(datetime.time(10), datetime.time(21))]"
     ],
     "language": "python",
     "metadata": {},
     "outputs": [],
     "prompt_number": 19
    },
    {
     "cell_type": "code",
     "collapsed": false,
     "input": [
      "range_df_sliced = range_df_sliced.ix[range_df_sliced.index.indexer_between_time(datetime.time(10), datetime.time(21))]"
     ],
     "language": "python",
     "metadata": {},
     "outputs": [],
     "prompt_number": 21
    },
    {
     "cell_type": "markdown",
     "metadata": {},
     "source": [
      "Next step\n",
      "----------\n",
      "\n",
      "At this point, we have all the sliced values. Now, we need to plot them and experiment with various thresholds."
     ]
    },
    {
     "cell_type": "code",
     "collapsed": false,
     "input": [
      "threshold_mean = mean_df_sliced.mean()\n",
      "threshold_median = median_df_sliced.mean()\n",
      "threshold_std = std_df_sliced.mean()\n",
      "threshold_range = range_df_sliced.mean()"
     ],
     "language": "python",
     "metadata": {},
     "outputs": [],
     "prompt_number": 22
    },
    {
     "cell_type": "code",
     "collapsed": false,
     "input": [
      "mean_df_sliced > threshold_mean"
     ],
     "language": "python",
     "metadata": {},
     "outputs": [
      {
       "metadata": {},
       "output_type": "pyout",
       "prompt_number": 23,
       "text": [
        "2012-11-30 10:00:00+01:00    False\n",
        "2012-11-30 10:15:00+01:00    False\n",
        "2012-11-30 10:30:00+01:00    False\n",
        "2012-11-30 10:45:00+01:00    False\n",
        "2012-11-30 11:00:00+01:00    False\n",
        "2012-11-30 11:15:00+01:00    False\n",
        "2012-11-30 11:30:00+01:00    False\n",
        "2012-11-30 11:45:00+01:00    False\n",
        "2012-11-30 12:00:00+01:00    False\n",
        "2012-11-30 12:15:00+01:00    False\n",
        "2012-11-30 12:30:00+01:00    False\n",
        "2012-11-30 12:45:00+01:00    False\n",
        "2012-11-30 13:00:00+01:00    False\n",
        "2012-11-30 13:15:00+01:00    False\n",
        "2012-11-30 13:30:00+01:00    False\n",
        "...\n",
        "2013-01-15 17:30:00+01:00    False\n",
        "2013-01-15 17:45:00+01:00    False\n",
        "2013-01-15 18:00:00+01:00    False\n",
        "2013-01-15 18:15:00+01:00    False\n",
        "2013-01-15 18:30:00+01:00    False\n",
        "2013-01-15 18:45:00+01:00    False\n",
        "2013-01-15 19:00:00+01:00    False\n",
        "2013-01-15 19:15:00+01:00    False\n",
        "2013-01-15 19:30:00+01:00    False\n",
        "2013-01-15 19:45:00+01:00     True\n",
        "2013-01-15 20:00:00+01:00     True\n",
        "2013-01-15 20:15:00+01:00     True\n",
        "2013-01-15 20:30:00+01:00     True\n",
        "2013-01-15 20:45:00+01:00     True\n",
        "2013-01-15 21:00:00+01:00     True\n",
        "Name: active, Length: 2115"
       ]
      }
     ],
     "prompt_number": 23
    },
    {
     "cell_type": "code",
     "collapsed": false,
     "input": [
      "median_df_sliced > threshold_median"
     ],
     "language": "python",
     "metadata": {},
     "outputs": [
      {
       "metadata": {},
       "output_type": "pyout",
       "prompt_number": 24,
       "text": [
        "2012-11-30 10:00:00+01:00    False\n",
        "2012-11-30 10:15:00+01:00    False\n",
        "2012-11-30 10:30:00+01:00    False\n",
        "2012-11-30 10:45:00+01:00    False\n",
        "2012-11-30 11:00:00+01:00    False\n",
        "2012-11-30 11:15:00+01:00    False\n",
        "2012-11-30 11:30:00+01:00    False\n",
        "2012-11-30 11:45:00+01:00    False\n",
        "2012-11-30 12:00:00+01:00    False\n",
        "2012-11-30 12:15:00+01:00    False\n",
        "2012-11-30 12:30:00+01:00    False\n",
        "2012-11-30 12:45:00+01:00    False\n",
        "2012-11-30 13:00:00+01:00    False\n",
        "2012-11-30 13:15:00+01:00    False\n",
        "2012-11-30 13:30:00+01:00    False\n",
        "...\n",
        "2013-01-15 17:30:00+01:00    False\n",
        "2013-01-15 17:45:00+01:00    False\n",
        "2013-01-15 18:00:00+01:00    False\n",
        "2013-01-15 18:15:00+01:00    False\n",
        "2013-01-15 18:30:00+01:00    False\n",
        "2013-01-15 18:45:00+01:00    False\n",
        "2013-01-15 19:00:00+01:00    False\n",
        "2013-01-15 19:15:00+01:00    False\n",
        "2013-01-15 19:30:00+01:00    False\n",
        "2013-01-15 19:45:00+01:00     True\n",
        "2013-01-15 20:00:00+01:00     True\n",
        "2013-01-15 20:15:00+01:00     True\n",
        "2013-01-15 20:30:00+01:00     True\n",
        "2013-01-15 20:45:00+01:00     True\n",
        "2013-01-15 21:00:00+01:00     True\n",
        "Name: active, Length: 2115"
       ]
      }
     ],
     "prompt_number": 24
    },
    {
     "cell_type": "code",
     "collapsed": false,
     "input": [
      "std_df_sliced > threshold_std"
     ],
     "language": "python",
     "metadata": {},
     "outputs": [
      {
       "metadata": {},
       "output_type": "pyout",
       "prompt_number": 25,
       "text": [
        "2012-11-30 10:00:00+01:00    False\n",
        "2012-11-30 10:15:00+01:00    False\n",
        "2012-11-30 10:30:00+01:00    False\n",
        "2012-11-30 10:45:00+01:00    False\n",
        "2012-11-30 11:00:00+01:00    False\n",
        "2012-11-30 11:15:00+01:00    False\n",
        "2012-11-30 11:30:00+01:00    False\n",
        "2012-11-30 11:45:00+01:00    False\n",
        "2012-11-30 12:00:00+01:00    False\n",
        "2012-11-30 12:15:00+01:00    False\n",
        "2012-11-30 12:30:00+01:00    False\n",
        "2012-11-30 12:45:00+01:00    False\n",
        "2012-11-30 13:00:00+01:00    False\n",
        "2012-11-30 13:15:00+01:00    False\n",
        "2012-11-30 13:30:00+01:00    False\n",
        "...\n",
        "2013-01-15 17:30:00+01:00    False\n",
        "2013-01-15 17:45:00+01:00    False\n",
        "2013-01-15 18:00:00+01:00    False\n",
        "2013-01-15 18:15:00+01:00    False\n",
        "2013-01-15 18:30:00+01:00    False\n",
        "2013-01-15 18:45:00+01:00    False\n",
        "2013-01-15 19:00:00+01:00    False\n",
        "2013-01-15 19:15:00+01:00    False\n",
        "2013-01-15 19:30:00+01:00    False\n",
        "2013-01-15 19:45:00+01:00     True\n",
        "2013-01-15 20:00:00+01:00    False\n",
        "2013-01-15 20:15:00+01:00    False\n",
        "2013-01-15 20:30:00+01:00    False\n",
        "2013-01-15 20:45:00+01:00     True\n",
        "2013-01-15 21:00:00+01:00    False\n",
        "Name: active, Length: 2115"
       ]
      }
     ],
     "prompt_number": 25
    },
    {
     "cell_type": "code",
     "collapsed": false,
     "input": [
      "range_df_sliced > threshold_range"
     ],
     "language": "python",
     "metadata": {},
     "outputs": [
      {
       "metadata": {},
       "output_type": "pyout",
       "prompt_number": 26,
       "text": [
        "2012-11-30 10:00:00+01:00    False\n",
        "2012-11-30 10:15:00+01:00    False\n",
        "2012-11-30 10:30:00+01:00    False\n",
        "2012-11-30 10:45:00+01:00    False\n",
        "2012-11-30 11:00:00+01:00    False\n",
        "2012-11-30 11:15:00+01:00    False\n",
        "2012-11-30 11:30:00+01:00    False\n",
        "2012-11-30 11:45:00+01:00    False\n",
        "2012-11-30 12:00:00+01:00    False\n",
        "2012-11-30 12:15:00+01:00    False\n",
        "2012-11-30 12:30:00+01:00    False\n",
        "2012-11-30 12:45:00+01:00    False\n",
        "2012-11-30 13:00:00+01:00    False\n",
        "2012-11-30 13:15:00+01:00    False\n",
        "2012-11-30 13:30:00+01:00    False\n",
        "...\n",
        "2013-01-15 17:30:00+01:00    False\n",
        "2013-01-15 17:45:00+01:00    False\n",
        "2013-01-15 18:00:00+01:00    False\n",
        "2013-01-15 18:15:00+01:00    False\n",
        "2013-01-15 18:30:00+01:00    False\n",
        "2013-01-15 18:45:00+01:00    False\n",
        "2013-01-15 19:00:00+01:00    False\n",
        "2013-01-15 19:15:00+01:00    False\n",
        "2013-01-15 19:30:00+01:00    False\n",
        "2013-01-15 19:45:00+01:00     True\n",
        "2013-01-15 20:00:00+01:00     True\n",
        "2013-01-15 20:15:00+01:00    False\n",
        "2013-01-15 20:30:00+01:00    False\n",
        "2013-01-15 20:45:00+01:00     True\n",
        "2013-01-15 21:00:00+01:00    False\n",
        "Name: active, Length: 2115"
       ]
      }
     ],
     "prompt_number": 26
    },
    {
     "cell_type": "markdown",
     "metadata": {},
     "source": [
      "Aggregating results\n",
      "------------"
     ]
    },
    {
     "cell_type": "code",
     "collapsed": false,
     "input": [
      "mean_series = mean_df_sliced > threshold_mean\n",
      "median_series = median_df_sliced > threshold_median\n",
      "std_series = std_df_sliced > threshold_std\n",
      "range_series = range_df_sliced > threshold_range\n",
      "\n",
      "mean_list = [i for i in mean_series]\n",
      "median_list = [i for i in median_series]\n",
      "std_list = [i for i in std_series]\n",
      "range_list = [i for i in range_series]\n",
      "\n",
      "truth_list = mean_list or median_list or std_list or range_list\n",
      "indices = pd.DatetimeIndex(start = '30-11-2012', periods = 4512, freq = \"15min\")\n",
      "init_list = [False] * 4512\n",
      "init_series = Series(init_list, indices)\n",
      "init_series = init_series.ix[init_series.index.indexer_between_time(datetime.time(10), datetime.time(21))] \n",
      "truth_indices = []\n",
      "for i in init_series.keys():\n",
      "    truth_indices.append(i)\n",
      "#truth_series = truth_series.ix[truth_series.index.indexer_between_time(datetime.time(10), datetime.time(21))]\n",
      "truth_series =  Series (truth_list, index=truth_indices) # holds for summer"
     ],
     "language": "python",
     "metadata": {},
     "outputs": [],
     "prompt_number": 30
    },
    {
     "cell_type": "code",
     "collapsed": false,
     "input": [
      "mean_series.head()"
     ],
     "language": "python",
     "metadata": {},
     "outputs": [
      {
       "metadata": {},
       "output_type": "pyout",
       "prompt_number": 31,
       "text": [
        "2012-11-30 10:00:00+01:00    False\n",
        "2012-11-30 10:15:00+01:00    False\n",
        "2012-11-30 10:30:00+01:00    False\n",
        "2012-11-30 10:45:00+01:00    False\n",
        "2012-11-30 11:00:00+01:00    False\n",
        "Name: active, dtype: bool"
       ]
      }
     ],
     "prompt_number": 31
    },
    {
     "cell_type": "code",
     "collapsed": false,
     "input": [
      "mean_series.plot()"
     ],
     "language": "python",
     "metadata": {},
     "outputs": [
      {
       "metadata": {},
       "output_type": "pyout",
       "prompt_number": 32,
       "text": [
        "<matplotlib.axes._subplots.AxesSubplot at 0x11995a910>"
       ]
      },
      {
       "metadata": {},
       "output_type": "display_data",
       "png": "[encoded data removed]",
       "text": [
        "<matplotlib.figure.Figure at 0x11995add0>"
       ]
      }
     ],
     "prompt_number": 32
    },
    {
     "cell_type": "code",
     "collapsed": false,
     "input": [
      "median_series.plot()"
     ],
     "language": "python",
     "metadata": {},
     "outputs": [
      {
       "metadata": {},
       "output_type": "pyout",
       "prompt_number": 33,
       "text": [
        "<matplotlib.axes._subplots.AxesSubplot at 0x119a6ff50>"
       ]
      },
      {
       "metadata": {},
       "output_type": "display_data",
       "png": "[encoded data removed]",
       "text": [
        "<matplotlib.figure.Figure at 0x119a4e510>"
       ]
      }
     ],
     "prompt_number": 33
    },
    {
     "cell_type": "code",
     "collapsed": false,
     "input": [
      "std_series.plot()"
     ],
     "language": "python",
     "metadata": {},
     "outputs": [
      {
       "metadata": {},
       "output_type": "pyout",
       "prompt_number": 34,
       "text": [
        "<matplotlib.axes._subplots.AxesSubplot at 0x119aaa410>"
       ]
      },
      {
       "metadata": {},
       "output_type": "display_data",
       "png": "[encoded data removed]",
       "text": [
        "<matplotlib.figure.Figure at 0x119b65450>"
       ]
      }
     ],
     "prompt_number": 34
    },
    {
     "cell_type": "code",
     "collapsed": false,
     "input": [
      "range_series.plot()"
     ],
     "language": "python",
     "metadata": {},
     "outputs": [
      {
       "metadata": {},
       "output_type": "pyout",
       "prompt_number": 35,
       "text": [
        "<matplotlib.axes._subplots.AxesSubplot at 0x119d18f90>"
       ]
      },
      {
       "metadata": {},
       "output_type": "display_data",
       "png": "[encoded data removed]",
       "text": [
        "<matplotlib.figure.Figure at 0x119dc5c50>"
       ]
      }
     ],
     "prompt_number": 35
    },
    {
     "cell_type": "markdown",
     "metadata": {},
     "source": [
      "Ground truth\n",
      "--------------\n",
      "\n",
      "Now that we have the data as given by the threshold method, our task is to now get the ground truth data, and then compare the two. In this section, I will get the ground truth data and in the next, I will compare the ground truth data with the prediction made by the thresholding algorithm."
     ]
    },
    {
     "cell_type": "code",
     "collapsed": false,
     "input": [
      "index = pd.DatetimeIndex(start=\"30-11-2012\", periods = 45*86400, freq=\"1s\")"
     ],
     "language": "python",
     "metadata": {},
     "outputs": [],
     "prompt_number": 36
    },
    {
     "cell_type": "code",
     "collapsed": false,
     "input": [
      "df = pd.read_csv('/Users/rishi/Documents/Master_folder/IIITD/6th_semester/BTP/NIOMTK/02_occupancy_csv/02_winter.csv')"
     ],
     "language": "python",
     "metadata": {},
     "outputs": [],
     "prompt_number": 37
    },
    {
     "cell_type": "code",
     "collapsed": false,
     "input": [
      "df.head()"
     ],
     "language": "python",
     "metadata": {},
     "outputs": [
      {
       "html": [
        "<div style=\"max-height:1000px;max-width:1500px;overflow:auto;\">\n",
        "<table border=\"1\" class=\"dataframe\">\n",
        "  <thead>\n",
        "    <tr style=\"text-align: right;\">\n",
        "      <th></th>\n",
        "      <th>Unnamed: 0</th>\n",
        "      <th>'00:00:00'</th>\n",
        "      <th>'00:00:01'</th>\n",
        "      <th>'00:00:02'</th>\n",
        "      <th>'00:00:03'</th>\n",
        "      <th>'00:00:04'</th>\n",
        "      <th>'00:00:05'</th>\n",
        "      <th>'00:00:06'</th>\n",
        "      <th>'00:00:07'</th>\n",
        "      <th>'00:00:08'</th>\n",
        "      <th>...</th>\n",
        "      <th>'23:59:50'</th>\n",
        "      <th>'23:59:51'</th>\n",
        "      <th>'23:59:52'</th>\n",
        "      <th>'23:59:53'</th>\n",
        "      <th>'23:59:54'</th>\n",
        "      <th>'23:59:55'</th>\n",
        "      <th>'23:59:56'</th>\n",
        "      <th>'23:59:57'</th>\n",
        "      <th>'23:59:58'</th>\n",
        "      <th>'23:59:59'</th>\n",
        "    </tr>\n",
        "  </thead>\n",
        "  <tbody>\n",
        "    <tr>\n",
        "      <th>0</th>\n",
        "      <td> 30-Nov-2012</td>\n",
        "      <td> 1</td>\n",
        "      <td> 1</td>\n",
        "      <td> 1</td>\n",
        "      <td> 1</td>\n",
        "      <td> 1</td>\n",
        "      <td> 1</td>\n",
        "      <td> 1</td>\n",
        "      <td> 1</td>\n",
        "      <td> 1</td>\n",
        "      <td>...</td>\n",
        "      <td> 1</td>\n",
        "      <td> 1</td>\n",
        "      <td> 1</td>\n",
        "      <td> 1</td>\n",
        "      <td> 1</td>\n",
        "      <td> 1</td>\n",
        "      <td> 1</td>\n",
        "      <td> 1</td>\n",
        "      <td> 1</td>\n",
        "      <td> 1</td>\n",
        "    </tr>\n",
        "    <tr>\n",
        "      <th>1</th>\n",
        "      <td> 01-Dec-2012</td>\n",
        "      <td> 1</td>\n",
        "      <td> 1</td>\n",
        "      <td> 1</td>\n",
        "      <td> 1</td>\n",
        "      <td> 1</td>\n",
        "      <td> 1</td>\n",
        "      <td> 1</td>\n",
        "      <td> 1</td>\n",
        "      <td> 1</td>\n",
        "      <td>...</td>\n",
        "      <td> 1</td>\n",
        "      <td> 1</td>\n",
        "      <td> 1</td>\n",
        "      <td> 1</td>\n",
        "      <td> 1</td>\n",
        "      <td> 1</td>\n",
        "      <td> 1</td>\n",
        "      <td> 1</td>\n",
        "      <td> 1</td>\n",
        "      <td> 1</td>\n",
        "    </tr>\n",
        "    <tr>\n",
        "      <th>2</th>\n",
        "      <td> 02-Dec-2012</td>\n",
        "      <td> 1</td>\n",
        "      <td> 1</td>\n",
        "      <td> 1</td>\n",
        "      <td> 1</td>\n",
        "      <td> 1</td>\n",
        "      <td> 1</td>\n",
        "      <td> 1</td>\n",
        "      <td> 1</td>\n",
        "      <td> 1</td>\n",
        "      <td>...</td>\n",
        "      <td> 1</td>\n",
        "      <td> 1</td>\n",
        "      <td> 1</td>\n",
        "      <td> 1</td>\n",
        "      <td> 1</td>\n",
        "      <td> 1</td>\n",
        "      <td> 1</td>\n",
        "      <td> 1</td>\n",
        "      <td> 1</td>\n",
        "      <td> 1</td>\n",
        "    </tr>\n",
        "    <tr>\n",
        "      <th>3</th>\n",
        "      <td> 03-Dec-2012</td>\n",
        "      <td> 1</td>\n",
        "      <td> 1</td>\n",
        "      <td> 1</td>\n",
        "      <td> 1</td>\n",
        "      <td> 1</td>\n",
        "      <td> 1</td>\n",
        "      <td> 1</td>\n",
        "      <td> 1</td>\n",
        "      <td> 1</td>\n",
        "      <td>...</td>\n",
        "      <td> 1</td>\n",
        "      <td> 1</td>\n",
        "      <td> 1</td>\n",
        "      <td> 1</td>\n",
        "      <td> 1</td>\n",
        "      <td> 1</td>\n",
        "      <td> 1</td>\n",
        "      <td> 1</td>\n",
        "      <td> 1</td>\n",
        "      <td> 1</td>\n",
        "    </tr>\n",
        "    <tr>\n",
        "      <th>4</th>\n",
        "      <td> 04-Dec-2012</td>\n",
        "      <td> 1</td>\n",
        "      <td> 1</td>\n",
        "      <td> 1</td>\n",
        "      <td> 1</td>\n",
        "      <td> 1</td>\n",
        "      <td> 1</td>\n",
        "      <td> 1</td>\n",
        "      <td> 1</td>\n",
        "      <td> 1</td>\n",
        "      <td>...</td>\n",
        "      <td> 1</td>\n",
        "      <td> 1</td>\n",
        "      <td> 1</td>\n",
        "      <td> 1</td>\n",
        "      <td> 1</td>\n",
        "      <td> 1</td>\n",
        "      <td> 1</td>\n",
        "      <td> 1</td>\n",
        "      <td> 1</td>\n",
        "      <td> 1</td>\n",
        "    </tr>\n",
        "  </tbody>\n",
        "</table>\n",
        "<p>5 rows \u00d7 86401 columns</p>\n",
        "</div>"
       ],
       "metadata": {},
       "output_type": "pyout",
       "prompt_number": 38,
       "text": [
        "    Unnamed: 0  '00:00:00'  '00:00:01'  '00:00:02'  '00:00:03'  '00:00:04'  \\\n",
        "0  30-Nov-2012           1           1           1           1           1   \n",
        "1  01-Dec-2012           1           1           1           1           1   \n",
        "2  02-Dec-2012           1           1           1           1           1   \n",
        "3  03-Dec-2012           1           1           1           1           1   \n",
        "4  04-Dec-2012           1           1           1           1           1   \n",
        "\n",
        "   '00:00:05'  '00:00:06'  '00:00:07'  '00:00:08'     ...      '23:59:50'  \\\n",
        "0           1           1           1           1     ...               1   \n",
        "1           1           1           1           1     ...               1   \n",
        "2           1           1           1           1     ...               1   \n",
        "3           1           1           1           1     ...               1   \n",
        "4           1           1           1           1     ...               1   \n",
        "\n",
        "   '23:59:51'  '23:59:52'  '23:59:53'  '23:59:54'  '23:59:55'  '23:59:56'  \\\n",
        "0           1           1           1           1           1           1   \n",
        "1           1           1           1           1           1           1   \n",
        "2           1           1           1           1           1           1   \n",
        "3           1           1           1           1           1           1   \n",
        "4           1           1           1           1           1           1   \n",
        "\n",
        "   '23:59:57'  '23:59:58'  '23:59:59'  \n",
        "0           1           1           1  \n",
        "1           1           1           1  \n",
        "2           1           1           1  \n",
        "3           1           1           1  \n",
        "4           1           1           1  \n",
        "\n",
        "[5 rows x 86401 columns]"
       ]
      }
     ],
     "prompt_number": 38
    },
    {
     "cell_type": "code",
     "collapsed": false,
     "input": [
      "out = []\n",
      "for i in range(len(df)):\n",
      "    out.append(df.ix[i].values[1:])\n",
      "\n",
      "from itertools import chain\n",
      "out_1d = list(chain.from_iterable(out))"
     ],
     "language": "python",
     "metadata": {},
     "outputs": [],
     "prompt_number": 39
    },
    {
     "cell_type": "code",
     "collapsed": false,
     "input": [
      "df_new = pd.Series(out_1d, index=index)\n"
     ],
     "language": "python",
     "metadata": {},
     "outputs": [],
     "prompt_number": 40
    },
    {
     "cell_type": "code",
     "collapsed": false,
     "input": [
      "df_new.head()"
     ],
     "language": "python",
     "metadata": {},
     "outputs": [
      {
       "metadata": {},
       "output_type": "pyout",
       "prompt_number": 41,
       "text": [
        "2012-11-30 00:00:00    1\n",
        "2012-11-30 00:00:01    1\n",
        "2012-11-30 00:00:02    1\n",
        "2012-11-30 00:00:03    1\n",
        "2012-11-30 00:00:04    1\n",
        "Freq: S, dtype: int64"
       ]
      }
     ],
     "prompt_number": 41
    },
    {
     "cell_type": "code",
     "collapsed": false,
     "input": [
      "df_resampled = df_new.resample(\"15min\")\n",
      "df_resampled = df_resampled.ix[df_resampled.index.indexer_between_time(datetime.time(10), datetime.time(21))]\n",
      "truth_series = truth_series[:2025]\n",
      "print (df_resampled)\n",
      "print (truth_series[:2025])"
     ],
     "language": "python",
     "metadata": {},
     "outputs": [
      {
       "output_type": "stream",
       "stream": "stdout",
       "text": [
        "2012-11-30 10:00:00    0.258889\n",
        "2012-11-30 10:15:00    0.000000\n",
        "2012-11-30 10:30:00    0.000000\n",
        "2012-11-30 10:45:00    0.000000\n",
        "2012-11-30 11:00:00    0.000000\n",
        "2012-11-30 11:15:00    0.000000\n",
        "2012-11-30 11:30:00    0.000000\n",
        "2012-11-30 11:45:00    0.000000\n",
        "2012-11-30 12:00:00    0.000000\n",
        "2012-11-30 12:15:00    0.000000\n",
        "2012-11-30 12:30:00    0.000000\n",
        "2012-11-30 12:45:00    0.000000\n",
        "2012-11-30 13:00:00    0.000000\n",
        "2012-11-30 13:15:00    0.000000\n",
        "2012-11-30 13:30:00    0.000000\n",
        "...\n",
        "2013-01-13 17:30:00    0.000000\n",
        "2013-01-13 17:45:00    0.000000\n",
        "2013-01-13 18:00:00    0.000000\n",
        "2013-01-13 18:15:00    0.000000\n",
        "2013-01-13 18:30:00    0.000000\n",
        "2013-01-13 18:45:00    0.991111\n",
        "2013-01-13 19:00:00    1.000000\n",
        "2013-01-13 19:15:00    1.000000\n",
        "2013-01-13 19:30:00    1.000000\n",
        "2013-01-13 19:45:00    1.000000\n",
        "2013-01-13 20:00:00    1.000000\n",
        "2013-01-13 20:15:00    1.000000\n",
        "2013-01-13 20:30:00    1.000000\n",
        "2013-01-13 20:45:00    1.000000\n",
        "2013-01-13 21:00:00    1.000000\n",
        "Length: 2025\n",
        "2012-11-30 10:00:00    False\n",
        "2012-11-30 10:15:00    False\n",
        "2012-11-30 10:30:00    False\n",
        "2012-11-30 10:45:00    False\n",
        "2012-11-30 11:00:00    False\n",
        "2012-11-30 11:15:00    False\n",
        "2012-11-30 11:30:00    False\n",
        "2012-11-30 11:45:00    False\n",
        "2012-11-30 12:00:00    False\n",
        "2012-11-30 12:15:00    False\n",
        "2012-11-30 12:30:00    False\n",
        "2012-11-30 12:45:00    False\n",
        "2012-11-30 13:00:00    False\n",
        "2012-11-30 13:15:00    False\n",
        "2012-11-30 13:30:00    False\n",
        "...\n",
        "2013-01-13 17:30:00     True\n",
        "2013-01-13 17:45:00     True\n",
        "2013-01-13 18:00:00     True\n",
        "2013-01-13 18:15:00     True\n",
        "2013-01-13 18:30:00     True\n",
        "2013-01-13 18:45:00     True\n",
        "2013-01-13 19:00:00     True\n",
        "2013-01-13 19:15:00     True\n",
        "2013-01-13 19:30:00     True\n",
        "2013-01-13 19:45:00     True\n",
        "2013-01-13 20:00:00     True\n",
        "2013-01-13 20:15:00     True\n",
        "2013-01-13 20:30:00     True\n",
        "2013-01-13 20:45:00     True\n",
        "2013-01-13 21:00:00    False\n",
        "Length: 2025\n"
       ]
      }
     ],
     "prompt_number": 45
    },
    {
     "cell_type": "markdown",
     "metadata": {},
     "source": [
      "Determining accuracy, precision and recall\n",
      "-----------------------"
     ]
    },
    {
     "cell_type": "code",
     "collapsed": false,
     "input": [
      "ground_truth = df_resampled.values\n",
      "predicted = truth_series.values\n",
      "tp = 0\n",
      "tn = 0\n",
      "fp = 0\n",
      "fn = 0\n",
      "for i in range(min(len(predicted), len(ground_truth))):\n",
      "    if (predicted[i] == True and round(ground_truth[i] ) == 1):\n",
      "        tp+=1\n",
      "    elif (predicted[i] == True and round(ground_truth[i]) == 0):\n",
      "        fp +=1\n",
      "    elif (predicted[i] == False and round(ground_truth[i]) == 1):\n",
      "        fn+=1\n",
      "    else:\n",
      "        tn+=1\n",
      "print \"TP = \", tp\n",
      "print \"TN = \", tn\n",
      "print \"FP = \", fp\n",
      "print \"FN = \", fn\n",
      "print \"Accuracy = \", (tp + tn + 0.0)/(tp + tn + fp + fn)\n",
      "print \"Precision = \", (tp + 0.0)/ (tp + fp)\n",
      "print \"Recall = \", (tp + 0.0)/(tp + fn)"
     ],
     "language": "python",
     "metadata": {},
     "outputs": [
      {
       "output_type": "stream",
       "stream": "stdout",
       "text": [
        "TP =  520\n",
        "TN =  695\n",
        "FP =  226\n",
        "FN =  584\n",
        "Accuracy =  0.6"
       ]
      },
      {
       "output_type": "stream",
       "stream": "stdout",
       "text": [
        "\n",
        "Precision =  0.697050938338\n",
        "Recall =  0.471014492754\n"
       ]
      }
     ],
     "prompt_number": 46
    },
    {
     "cell_type": "code",
     "collapsed": false,
     "input": [
      "2 * 0.697050938338 * 0.471014492754/(0.471014492754 + 0.697050938338 )"
     ],
     "language": "python",
     "metadata": {},
     "outputs": [
      {
       "metadata": {},
       "output_type": "pyout",
       "prompt_number": 48,
       "text": [
        "0.562162162162495"
       ]
      }
     ],
     "prompt_number": 48
    },
    {
     "cell_type": "code",
     "collapsed": false,
     "input": [
      "mean_df_sliced.mean()"
     ],
     "language": "python",
     "metadata": {},
     "outputs": [
      {
       "metadata": {},
       "output_type": "pyout",
       "prompt_number": 38,
       "text": [
        "88.414912201834056"
       ]
      }
     ],
     "prompt_number": 38
    },
    {
     "cell_type": "code",
     "collapsed": false,
     "input": [],
     "language": "python",
     "metadata": {},
     "outputs": [],
     "prompt_number": 38
    },
    {
     "cell_type": "code",
     "collapsed": false,
     "input": [],
     "language": "python",
     "metadata": {},
     "outputs": [],
     "prompt_number": 40
    },
    {
     "cell_type": "code",
     "collapsed": false,
     "input": [],
     "language": "python",
     "metadata": {},
     "outputs": []
    }
   ],
   "metadata": {}
  }
 ]
}