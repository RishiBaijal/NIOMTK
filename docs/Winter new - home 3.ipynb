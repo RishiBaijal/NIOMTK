{
 "metadata": {
  "name": "",
  "signature": "sha256:9fdb697d738fe4b269e96f4e0f00e6b856f732641a360ac1481fb58bc3cabe7b"
 },
 "nbformat": 3,
 "nbformat_minor": 0,
 "worksheets": [
  {
   "cells": [
    {
     "cell_type": "code",
     "collapsed": false,
     "input": [
      "import numpy as np\n",
      "import pandas as pd\n",
      "from numpy import *\n",
      "from pandas import *\n",
      "import matplotlib\n",
      "import os\n",
      "import os.path\n",
      "from os import *\n",
      "from os.path import *\n",
      "import matplotlib.pyplot as plt\n",
      "from itertools import chain\n",
      "from sklearn import svm, datasets, metrics\n",
      "\n",
      "%matplotlib inline"
     ],
     "language": "python",
     "metadata": {},
     "outputs": [],
     "prompt_number": 1
    },
    {
     "cell_type": "markdown",
     "metadata": {},
     "source": [
      "Ground Truth Values\n",
      "---------------------"
     ]
    },
    {
     "cell_type": "code",
     "collapsed": false,
     "input": [
      "df = pd.read_csv('/Users/rishi/Documents/Master_folder/IIITD/6th_semester/BTP/03_occupancy_csv/03_winter.csv')"
     ],
     "language": "python",
     "metadata": {},
     "outputs": [],
     "prompt_number": 2
    },
    {
     "cell_type": "code",
     "collapsed": false,
     "input": [
      "df.head()"
     ],
     "language": "python",
     "metadata": {},
     "outputs": [
      {
       "html": [
        "<div style=\"max-height:1000px;max-width:1500px;overflow:auto;\">\n",
        "<table border=\"1\" class=\"dataframe\">\n",
        "  <thead>\n",
        "    <tr style=\"text-align: right;\">\n",
        "      <th></th>\n",
        "      <th>Unnamed: 0</th>\n",
        "      <th>'00:00:00'</th>\n",
        "      <th>'00:00:01'</th>\n",
        "      <th>'00:00:02'</th>\n",
        "      <th>'00:00:03'</th>\n",
        "      <th>'00:00:04'</th>\n",
        "      <th>'00:00:05'</th>\n",
        "      <th>'00:00:06'</th>\n",
        "      <th>'00:00:07'</th>\n",
        "      <th>'00:00:08'</th>\n",
        "      <th>...</th>\n",
        "      <th>'23:59:50'</th>\n",
        "      <th>'23:59:51'</th>\n",
        "      <th>'23:59:52'</th>\n",
        "      <th>'23:59:53'</th>\n",
        "      <th>'23:59:54'</th>\n",
        "      <th>'23:59:55'</th>\n",
        "      <th>'23:59:56'</th>\n",
        "      <th>'23:59:57'</th>\n",
        "      <th>'23:59:58'</th>\n",
        "      <th>'23:59:59'</th>\n",
        "    </tr>\n",
        "  </thead>\n",
        "  <tbody>\n",
        "    <tr>\n",
        "      <th>0</th>\n",
        "      <td> 15-Dec-2012</td>\n",
        "      <td> 1</td>\n",
        "      <td> 1</td>\n",
        "      <td> 1</td>\n",
        "      <td> 1</td>\n",
        "      <td> 1</td>\n",
        "      <td> 1</td>\n",
        "      <td> 1</td>\n",
        "      <td> 1</td>\n",
        "      <td> 1</td>\n",
        "      <td>...</td>\n",
        "      <td> 0</td>\n",
        "      <td> 0</td>\n",
        "      <td> 0</td>\n",
        "      <td> 0</td>\n",
        "      <td> 0</td>\n",
        "      <td> 0</td>\n",
        "      <td> 0</td>\n",
        "      <td> 0</td>\n",
        "      <td> 0</td>\n",
        "      <td> 0</td>\n",
        "    </tr>\n",
        "    <tr>\n",
        "      <th>1</th>\n",
        "      <td> 17-Dec-2012</td>\n",
        "      <td> 1</td>\n",
        "      <td> 1</td>\n",
        "      <td> 1</td>\n",
        "      <td> 1</td>\n",
        "      <td> 1</td>\n",
        "      <td> 1</td>\n",
        "      <td> 1</td>\n",
        "      <td> 1</td>\n",
        "      <td> 1</td>\n",
        "      <td>...</td>\n",
        "      <td> 1</td>\n",
        "      <td> 1</td>\n",
        "      <td> 1</td>\n",
        "      <td> 1</td>\n",
        "      <td> 1</td>\n",
        "      <td> 1</td>\n",
        "      <td> 1</td>\n",
        "      <td> 1</td>\n",
        "      <td> 1</td>\n",
        "      <td> 1</td>\n",
        "    </tr>\n",
        "    <tr>\n",
        "      <th>2</th>\n",
        "      <td> 19-Dec-2012</td>\n",
        "      <td> 1</td>\n",
        "      <td> 1</td>\n",
        "      <td> 1</td>\n",
        "      <td> 1</td>\n",
        "      <td> 1</td>\n",
        "      <td> 1</td>\n",
        "      <td> 1</td>\n",
        "      <td> 1</td>\n",
        "      <td> 1</td>\n",
        "      <td>...</td>\n",
        "      <td> 1</td>\n",
        "      <td> 1</td>\n",
        "      <td> 1</td>\n",
        "      <td> 1</td>\n",
        "      <td> 1</td>\n",
        "      <td> 1</td>\n",
        "      <td> 1</td>\n",
        "      <td> 1</td>\n",
        "      <td> 1</td>\n",
        "      <td> 1</td>\n",
        "    </tr>\n",
        "    <tr>\n",
        "      <th>3</th>\n",
        "      <td> 21-Dec-2012</td>\n",
        "      <td> 1</td>\n",
        "      <td> 1</td>\n",
        "      <td> 1</td>\n",
        "      <td> 1</td>\n",
        "      <td> 1</td>\n",
        "      <td> 1</td>\n",
        "      <td> 1</td>\n",
        "      <td> 1</td>\n",
        "      <td> 1</td>\n",
        "      <td>...</td>\n",
        "      <td> 1</td>\n",
        "      <td> 1</td>\n",
        "      <td> 1</td>\n",
        "      <td> 1</td>\n",
        "      <td> 1</td>\n",
        "      <td> 1</td>\n",
        "      <td> 1</td>\n",
        "      <td> 1</td>\n",
        "      <td> 1</td>\n",
        "      <td> 1</td>\n",
        "    </tr>\n",
        "    <tr>\n",
        "      <th>4</th>\n",
        "      <td> 23-Dec-2012</td>\n",
        "      <td> 1</td>\n",
        "      <td> 1</td>\n",
        "      <td> 1</td>\n",
        "      <td> 1</td>\n",
        "      <td> 1</td>\n",
        "      <td> 1</td>\n",
        "      <td> 1</td>\n",
        "      <td> 1</td>\n",
        "      <td> 1</td>\n",
        "      <td>...</td>\n",
        "      <td> 1</td>\n",
        "      <td> 1</td>\n",
        "      <td> 1</td>\n",
        "      <td> 1</td>\n",
        "      <td> 1</td>\n",
        "      <td> 1</td>\n",
        "      <td> 1</td>\n",
        "      <td> 1</td>\n",
        "      <td> 1</td>\n",
        "      <td> 1</td>\n",
        "    </tr>\n",
        "  </tbody>\n",
        "</table>\n",
        "<p>5 rows \u00d7 86401 columns</p>\n",
        "</div>"
       ],
       "metadata": {},
       "output_type": "pyout",
       "prompt_number": 3,
       "text": [
        "    Unnamed: 0  '00:00:00'  '00:00:01'  '00:00:02'  '00:00:03'  '00:00:04'  \\\n",
        "0  15-Dec-2012           1           1           1           1           1   \n",
        "1  17-Dec-2012           1           1           1           1           1   \n",
        "2  19-Dec-2012           1           1           1           1           1   \n",
        "3  21-Dec-2012           1           1           1           1           1   \n",
        "4  23-Dec-2012           1           1           1           1           1   \n",
        "\n",
        "   '00:00:05'  '00:00:06'  '00:00:07'  '00:00:08'     ...      '23:59:50'  \\\n",
        "0           1           1           1           1     ...               0   \n",
        "1           1           1           1           1     ...               1   \n",
        "2           1           1           1           1     ...               1   \n",
        "3           1           1           1           1     ...               1   \n",
        "4           1           1           1           1     ...               1   \n",
        "\n",
        "   '23:59:51'  '23:59:52'  '23:59:53'  '23:59:54'  '23:59:55'  '23:59:56'  \\\n",
        "0           0           0           0           0           0           0   \n",
        "1           1           1           1           1           1           1   \n",
        "2           1           1           1           1           1           1   \n",
        "3           1           1           1           1           1           1   \n",
        "4           1           1           1           1           1           1   \n",
        "\n",
        "   '23:59:57'  '23:59:58'  '23:59:59'  \n",
        "0           0           0           0  \n",
        "1           1           1           1  \n",
        "2           1           1           1  \n",
        "3           1           1           1  \n",
        "4           1           1           1  \n",
        "\n",
        "[5 rows x 86401 columns]"
       ]
      }
     ],
     "prompt_number": 3
    },
    {
     "cell_type": "code",
     "collapsed": false,
     "input": [
      "df.tail()"
     ],
     "language": "python",
     "metadata": {},
     "outputs": [
      {
       "html": [
        "<div style=\"max-height:1000px;max-width:1500px;overflow:auto;\">\n",
        "<table border=\"1\" class=\"dataframe\">\n",
        "  <thead>\n",
        "    <tr style=\"text-align: right;\">\n",
        "      <th></th>\n",
        "      <th>Unnamed: 0</th>\n",
        "      <th>'00:00:00'</th>\n",
        "      <th>'00:00:01'</th>\n",
        "      <th>'00:00:02'</th>\n",
        "      <th>'00:00:03'</th>\n",
        "      <th>'00:00:04'</th>\n",
        "      <th>'00:00:05'</th>\n",
        "      <th>'00:00:06'</th>\n",
        "      <th>'00:00:07'</th>\n",
        "      <th>'00:00:08'</th>\n",
        "      <th>...</th>\n",
        "      <th>'23:59:50'</th>\n",
        "      <th>'23:59:51'</th>\n",
        "      <th>'23:59:52'</th>\n",
        "      <th>'23:59:53'</th>\n",
        "      <th>'23:59:54'</th>\n",
        "      <th>'23:59:55'</th>\n",
        "      <th>'23:59:56'</th>\n",
        "      <th>'23:59:57'</th>\n",
        "      <th>'23:59:58'</th>\n",
        "      <th>'23:59:59'</th>\n",
        "    </tr>\n",
        "  </thead>\n",
        "  <tbody>\n",
        "    <tr>\n",
        "      <th>16</th>\n",
        "      <td> 11-Jan-2013</td>\n",
        "      <td> 1</td>\n",
        "      <td> 1</td>\n",
        "      <td> 1</td>\n",
        "      <td> 1</td>\n",
        "      <td> 1</td>\n",
        "      <td> 1</td>\n",
        "      <td> 1</td>\n",
        "      <td> 1</td>\n",
        "      <td> 1</td>\n",
        "      <td>...</td>\n",
        "      <td> 1</td>\n",
        "      <td> 1</td>\n",
        "      <td> 1</td>\n",
        "      <td> 1</td>\n",
        "      <td> 1</td>\n",
        "      <td> 1</td>\n",
        "      <td> 1</td>\n",
        "      <td> 1</td>\n",
        "      <td> 1</td>\n",
        "      <td> 1</td>\n",
        "    </tr>\n",
        "    <tr>\n",
        "      <th>17</th>\n",
        "      <td> 12-Jan-2013</td>\n",
        "      <td> 1</td>\n",
        "      <td> 1</td>\n",
        "      <td> 1</td>\n",
        "      <td> 1</td>\n",
        "      <td> 1</td>\n",
        "      <td> 1</td>\n",
        "      <td> 1</td>\n",
        "      <td> 1</td>\n",
        "      <td> 1</td>\n",
        "      <td>...</td>\n",
        "      <td> 1</td>\n",
        "      <td> 1</td>\n",
        "      <td> 1</td>\n",
        "      <td> 1</td>\n",
        "      <td> 1</td>\n",
        "      <td> 1</td>\n",
        "      <td> 1</td>\n",
        "      <td> 1</td>\n",
        "      <td> 1</td>\n",
        "      <td> 1</td>\n",
        "    </tr>\n",
        "    <tr>\n",
        "      <th>18</th>\n",
        "      <td> 13-Jan-2013</td>\n",
        "      <td> 1</td>\n",
        "      <td> 1</td>\n",
        "      <td> 1</td>\n",
        "      <td> 1</td>\n",
        "      <td> 1</td>\n",
        "      <td> 1</td>\n",
        "      <td> 1</td>\n",
        "      <td> 1</td>\n",
        "      <td> 1</td>\n",
        "      <td>...</td>\n",
        "      <td> 1</td>\n",
        "      <td> 1</td>\n",
        "      <td> 1</td>\n",
        "      <td> 1</td>\n",
        "      <td> 1</td>\n",
        "      <td> 1</td>\n",
        "      <td> 1</td>\n",
        "      <td> 1</td>\n",
        "      <td> 1</td>\n",
        "      <td> 1</td>\n",
        "    </tr>\n",
        "    <tr>\n",
        "      <th>19</th>\n",
        "      <td> 14-Jan-2013</td>\n",
        "      <td> 1</td>\n",
        "      <td> 1</td>\n",
        "      <td> 1</td>\n",
        "      <td> 1</td>\n",
        "      <td> 1</td>\n",
        "      <td> 1</td>\n",
        "      <td> 1</td>\n",
        "      <td> 1</td>\n",
        "      <td> 1</td>\n",
        "      <td>...</td>\n",
        "      <td> 1</td>\n",
        "      <td> 1</td>\n",
        "      <td> 1</td>\n",
        "      <td> 1</td>\n",
        "      <td> 1</td>\n",
        "      <td> 1</td>\n",
        "      <td> 1</td>\n",
        "      <td> 1</td>\n",
        "      <td> 1</td>\n",
        "      <td> 1</td>\n",
        "    </tr>\n",
        "    <tr>\n",
        "      <th>20</th>\n",
        "      <td> 15-Jan-2013</td>\n",
        "      <td> 1</td>\n",
        "      <td> 1</td>\n",
        "      <td> 1</td>\n",
        "      <td> 1</td>\n",
        "      <td> 1</td>\n",
        "      <td> 1</td>\n",
        "      <td> 1</td>\n",
        "      <td> 1</td>\n",
        "      <td> 1</td>\n",
        "      <td>...</td>\n",
        "      <td> 1</td>\n",
        "      <td> 1</td>\n",
        "      <td> 1</td>\n",
        "      <td> 1</td>\n",
        "      <td> 1</td>\n",
        "      <td> 1</td>\n",
        "      <td> 1</td>\n",
        "      <td> 1</td>\n",
        "      <td> 1</td>\n",
        "      <td> 1</td>\n",
        "    </tr>\n",
        "  </tbody>\n",
        "</table>\n",
        "<p>5 rows \u00d7 86401 columns</p>\n",
        "</div>"
       ],
       "metadata": {},
       "output_type": "pyout",
       "prompt_number": 7,
       "text": [
        "     Unnamed: 0  '00:00:00'  '00:00:01'  '00:00:02'  '00:00:03'  '00:00:04'  \\\n",
        "16  11-Jan-2013           1           1           1           1           1   \n",
        "17  12-Jan-2013           1           1           1           1           1   \n",
        "18  13-Jan-2013           1           1           1           1           1   \n",
        "19  14-Jan-2013           1           1           1           1           1   \n",
        "20  15-Jan-2013           1           1           1           1           1   \n",
        "\n",
        "    '00:00:05'  '00:00:06'  '00:00:07'  '00:00:08'     ...      '23:59:50'  \\\n",
        "16           1           1           1           1     ...               1   \n",
        "17           1           1           1           1     ...               1   \n",
        "18           1           1           1           1     ...               1   \n",
        "19           1           1           1           1     ...               1   \n",
        "20           1           1           1           1     ...               1   \n",
        "\n",
        "    '23:59:51'  '23:59:52'  '23:59:53'  '23:59:54'  '23:59:55'  '23:59:56'  \\\n",
        "16           1           1           1           1           1           1   \n",
        "17           1           1           1           1           1           1   \n",
        "18           1           1           1           1           1           1   \n",
        "19           1           1           1           1           1           1   \n",
        "20           1           1           1           1           1           1   \n",
        "\n",
        "    '23:59:57'  '23:59:58'  '23:59:59'  \n",
        "16           1           1           1  \n",
        "17           1           1           1  \n",
        "18           1           1           1  \n",
        "19           1           1           1  \n",
        "20           1           1           1  \n",
        "\n",
        "[5 rows x 86401 columns]"
       ]
      }
     ],
     "prompt_number": 7
    },
    {
     "cell_type": "code",
     "collapsed": false,
     "input": [
      "index = pd.DatetimeIndex(start = '15-12-2012', periods = len(df)*86400, freq = '1s')"
     ],
     "language": "python",
     "metadata": {},
     "outputs": [],
     "prompt_number": 5
    },
    {
     "cell_type": "code",
     "collapsed": false,
     "input": [],
     "language": "python",
     "metadata": {},
     "outputs": [],
     "prompt_number": 5
    },
    {
     "cell_type": "code",
     "collapsed": false,
     "input": [
      "index"
     ],
     "language": "python",
     "metadata": {},
     "outputs": [
      {
       "metadata": {},
       "output_type": "pyout",
       "prompt_number": 6,
       "text": [
        "<class 'pandas.tseries.index.DatetimeIndex'>\n",
        "[2012-12-15 00:00:00, ..., 2013-01-04 23:59:59]\n",
        "Length: 1814400, Freq: S, Timezone: None"
       ]
      }
     ],
     "prompt_number": 6
    },
    {
     "cell_type": "code",
     "collapsed": false,
     "input": [
      "out = []\n",
      "for i in range(len(df)):\n",
      "    out.append(df.ix[i].values[1:])\n",
      "out_1d = list(chain.from_iterable(out))"
     ],
     "language": "python",
     "metadata": {},
     "outputs": [],
     "prompt_number": 8
    },
    {
     "cell_type": "code",
     "collapsed": true,
     "input": [
      "out_1d[:5]"
     ],
     "language": "python",
     "metadata": {},
     "outputs": [
      {
       "metadata": {},
       "output_type": "pyout",
       "prompt_number": 9,
       "text": [
        "[1, 1, 1, 1, 1]"
       ]
      }
     ],
     "prompt_number": 9
    },
    {
     "cell_type": "code",
     "collapsed": false,
     "input": [
      "len(out_1d)"
     ],
     "language": "python",
     "metadata": {},
     "outputs": [
      {
       "metadata": {},
       "output_type": "pyout",
       "prompt_number": 10,
       "text": [
        "1814400"
       ]
      }
     ],
     "prompt_number": 10
    },
    {
     "cell_type": "code",
     "collapsed": false,
     "input": [
      "df_new = pd.Series(out_1d, index = index)"
     ],
     "language": "python",
     "metadata": {},
     "outputs": [],
     "prompt_number": 11
    },
    {
     "cell_type": "code",
     "collapsed": false,
     "input": [
      "df_new.head()"
     ],
     "language": "python",
     "metadata": {},
     "outputs": [
      {
       "metadata": {},
       "output_type": "pyout",
       "prompt_number": 12,
       "text": [
        "2012-12-15 00:00:00    1\n",
        "2012-12-15 00:00:01    1\n",
        "2012-12-15 00:00:02    1\n",
        "2012-12-15 00:00:03    1\n",
        "2012-12-15 00:00:04    1\n",
        "Freq: S, dtype: int64"
       ]
      }
     ],
     "prompt_number": 12
    },
    {
     "cell_type": "code",
     "collapsed": false,
     "input": [
      "df_new.tail()"
     ],
     "language": "python",
     "metadata": {},
     "outputs": [
      {
       "metadata": {},
       "output_type": "pyout",
       "prompt_number": 13,
       "text": [
        "2013-01-04 23:59:55    1\n",
        "2013-01-04 23:59:56    1\n",
        "2013-01-04 23:59:57    1\n",
        "2013-01-04 23:59:58    1\n",
        "2013-01-04 23:59:59    1\n",
        "Freq: S, dtype: int64"
       ]
      }
     ],
     "prompt_number": 13
    },
    {
     "cell_type": "code",
     "collapsed": false,
     "input": [
      "df_resampled = df_new.resample(\"15min\")"
     ],
     "language": "python",
     "metadata": {},
     "outputs": [],
     "prompt_number": 14
    },
    {
     "cell_type": "code",
     "collapsed": false,
     "input": [
      "df_resampled.plot(kind = 'hist')"
     ],
     "language": "python",
     "metadata": {},
     "outputs": [
      {
       "metadata": {},
       "output_type": "pyout",
       "prompt_number": 15,
       "text": [
        "<matplotlib.axes._subplots.AxesSubplot at 0x10b475890>"
       ]
      },
      {
       "metadata": {},
       "output_type": "display_data",
       "png": "[encoded data removed]",
       "text": [
        "<matplotlib.figure.Figure at 0x10b475190>"
       ]
      }
     ],
     "prompt_number": 15
    },
    {
     "cell_type": "code",
     "collapsed": false,
     "input": [
      "len(df_resampled)"
     ],
     "language": "python",
     "metadata": {},
     "outputs": [
      {
       "metadata": {},
       "output_type": "pyout",
       "prompt_number": 27,
       "text": [
        "2016"
       ]
      }
     ],
     "prompt_number": 27
    },
    {
     "cell_type": "code",
     "collapsed": false,
     "input": [
      "df_resampled.head()"
     ],
     "language": "python",
     "metadata": {},
     "outputs": [
      {
       "metadata": {},
       "output_type": "pyout",
       "prompt_number": 16,
       "text": [
        "2012-12-15 00:00:00    1\n",
        "2012-12-15 00:15:00    1\n",
        "2012-12-15 00:30:00    1\n",
        "2012-12-15 00:45:00    1\n",
        "2012-12-15 01:00:00    1\n",
        "Freq: 15T, dtype: float64"
       ]
      }
     ],
     "prompt_number": 16
    },
    {
     "cell_type": "code",
     "collapsed": false,
     "input": [
      "df_resampled.tail()"
     ],
     "language": "python",
     "metadata": {},
     "outputs": [
      {
       "metadata": {},
       "output_type": "pyout",
       "prompt_number": 17,
       "text": [
        "2013-01-04 22:45:00    1\n",
        "2013-01-04 23:00:00    1\n",
        "2013-01-04 23:15:00    1\n",
        "2013-01-04 23:30:00    1\n",
        "2013-01-04 23:45:00    1\n",
        "Freq: 15T, dtype: float64"
       ]
      }
     ],
     "prompt_number": 17
    },
    {
     "cell_type": "markdown",
     "metadata": {},
     "source": [
      "The ground truth values are now stored in a variable called df_resampled."
     ]
    },
    {
     "cell_type": "markdown",
     "metadata": {},
     "source": [
      "\n",
      "\n",
      "Implementing the Support Vector Machine\n",
      "---------------"
     ]
    },
    {
     "cell_type": "code",
     "collapsed": false,
     "input": [
      "dir_path='/Users/rishi/Documents/Master_folder/IIITD/6th_semester/BTP/NIOMTK_datasets'\n",
      "store=HDFStore(join(dir_path, 'eco.h5'))\n",
      "df=store['/building3/elec/meter3']"
     ],
     "language": "python",
     "metadata": {},
     "outputs": [],
     "prompt_number": 21
    },
    {
     "cell_type": "code",
     "collapsed": false,
     "input": [
      "dataframe = df['power']['active']['2012-12-15':'2013-01-04'].resample('15min')"
     ],
     "language": "python",
     "metadata": {},
     "outputs": [],
     "prompt_number": 32
    },
    {
     "cell_type": "code",
     "collapsed": false,
     "input": [
      "len(dataframe.values)"
     ],
     "language": "python",
     "metadata": {},
     "outputs": [
      {
       "metadata": {},
       "output_type": "pyout",
       "prompt_number": 33,
       "text": [
        "2016"
       ]
      }
     ],
     "prompt_number": 33
    },
    {
     "cell_type": "code",
     "collapsed": false,
     "input": [
      "len(df_resampled.values)"
     ],
     "language": "python",
     "metadata": {},
     "outputs": [
      {
       "metadata": {},
       "output_type": "pyout",
       "prompt_number": 34,
       "text": [
        "2016"
       ]
      }
     ],
     "prompt_number": 34
    },
    {
     "cell_type": "code",
     "collapsed": false,
     "input": [
      "lis = []\n",
      "for i in dataframe.values[:7968]:\n",
      "    if np.isnan(i) == False:\n",
      "        lis.append([i])\n",
      "    else:\n",
      "        lis.append([0])\n",
      "array = np.asarray(lis)\n",
      "print (array)"
     ],
     "language": "python",
     "metadata": {},
     "outputs": [
      {
       "output_type": "stream",
       "stream": "stdout",
       "text": [
        "[[    0.        ]\n",
        " [    0.        ]\n",
        " [    0.        ]\n",
        " ..., \n",
        " [ 1713.22619629]\n",
        " [  576.78723145]\n",
        " [    0.        ]]\n"
       ]
      }
     ],
     "prompt_number": 35
    },
    {
     "cell_type": "code",
     "collapsed": false,
     "input": [],
     "language": "python",
     "metadata": {},
     "outputs": [],
     "prompt_number": 35
    },
    {
     "cell_type": "code",
     "collapsed": false,
     "input": [
      "print (df_resampled.values)"
     ],
     "language": "python",
     "metadata": {},
     "outputs": [
      {
       "output_type": "stream",
       "stream": "stdout",
       "text": [
        "[ 1.  1.  1. ...,  1.  1.  1.]\n"
       ]
      }
     ],
     "prompt_number": 36
    },
    {
     "cell_type": "code",
     "collapsed": false,
     "input": [
      "# classifier = svm.SVC().fit(array, df_resampled.values)"
     ],
     "language": "python",
     "metadata": {},
     "outputs": [],
     "prompt_number": 37
    },
    {
     "cell_type": "code",
     "collapsed": false,
     "input": [
      "# prediction = classifier.predict(array)"
     ],
     "language": "python",
     "metadata": {},
     "outputs": [],
     "prompt_number": 26
    },
    {
     "cell_type": "code",
     "collapsed": false,
     "input": [
      "#     arr1 = np.asarray([int(i) for i in prediction])\n",
      "#     arr2 = np.asarray([int(i) for i in df_resampled.values])\n",
      "\n",
      "#     print (metrics.classification_report(arr1, arr2))"
     ],
     "language": "python",
     "metadata": {},
     "outputs": [],
     "prompt_number": 94
    },
    {
     "cell_type": "code",
     "collapsed": false,
     "input": [
      "import matplotlib.pyplot as plt\n",
      "# plt.scatter(arr1, arr2)\n",
      "# plt.show()"
     ],
     "language": "python",
     "metadata": {},
     "outputs": [],
     "prompt_number": 96
    },
    {
     "cell_type": "code",
     "collapsed": false,
     "input": [
      "dataframe.head()"
     ],
     "language": "python",
     "metadata": {},
     "outputs": [
      {
       "metadata": {},
       "output_type": "pyout",
       "prompt_number": 38,
       "text": [
        "2012-12-15 00:00:00+01:00    0\n",
        "2012-12-15 00:15:00+01:00    0\n",
        "2012-12-15 00:30:00+01:00    0\n",
        "2012-12-15 00:45:00+01:00    0\n",
        "2012-12-15 01:00:00+01:00    0\n",
        "Freq: 15T, Name: active, dtype: float32"
       ]
      }
     ],
     "prompt_number": 38
    },
    {
     "cell_type": "code",
     "collapsed": false,
     "input": [
      "df_resampled.head()"
     ],
     "language": "python",
     "metadata": {},
     "outputs": [
      {
       "metadata": {},
       "output_type": "pyout",
       "prompt_number": 39,
       "text": [
        "2012-12-15 00:00:00    1\n",
        "2012-12-15 00:15:00    1\n",
        "2012-12-15 00:30:00    1\n",
        "2012-12-15 00:45:00    1\n",
        "2012-12-15 01:00:00    1\n",
        "Freq: 15T, dtype: float64"
       ]
      }
     ],
     "prompt_number": 39
    },
    {
     "cell_type": "code",
     "collapsed": false,
     "input": [
      "df_resampled.index"
     ],
     "language": "python",
     "metadata": {},
     "outputs": [
      {
       "metadata": {},
       "output_type": "pyout",
       "prompt_number": 40,
       "text": [
        "<class 'pandas.tseries.index.DatetimeIndex'>\n",
        "[2012-12-15 00:00:00, ..., 2013-01-04 23:45:00]\n",
        "Length: 2016, Freq: 15T, Timezone: None"
       ]
      }
     ],
     "prompt_number": 40
    },
    {
     "cell_type": "code",
     "collapsed": false,
     "input": [
      "a = df_resampled.index[len(df_resampled.values)/2]\n",
      "print a"
     ],
     "language": "python",
     "metadata": {},
     "outputs": [
      {
       "output_type": "stream",
       "stream": "stdout",
       "text": [
        "2012-12-25 12:00:00\n"
       ]
      }
     ],
     "prompt_number": 41
    },
    {
     "cell_type": "code",
     "collapsed": false,
     "input": [
      "df_resampled_train = df_resampled[:a]"
     ],
     "language": "python",
     "metadata": {},
     "outputs": [],
     "prompt_number": 42
    },
    {
     "cell_type": "code",
     "collapsed": false,
     "input": [
      "dataframe_train = dataframe[:a]"
     ],
     "language": "python",
     "metadata": {},
     "outputs": [],
     "prompt_number": 43
    },
    {
     "cell_type": "code",
     "collapsed": false,
     "input": [
      "dataframe_train = dataframe.head(len(dataframe.values)/2)"
     ],
     "language": "python",
     "metadata": {},
     "outputs": [],
     "prompt_number": 44
    },
    {
     "cell_type": "code",
     "collapsed": false,
     "input": [
      "train_length = len(dataframe_train)\n",
      "print train_length"
     ],
     "language": "python",
     "metadata": {},
     "outputs": [
      {
       "output_type": "stream",
       "stream": "stdout",
       "text": [
        "1008\n"
       ]
      }
     ],
     "prompt_number": 47
    },
    {
     "cell_type": "code",
     "collapsed": false,
     "input": [
      "train_resampled_length = len(df_resampled_train)\n",
      "print train_resampled_length"
     ],
     "language": "python",
     "metadata": {},
     "outputs": [
      {
       "output_type": "stream",
       "stream": "stdout",
       "text": [
        "1009\n"
       ]
      }
     ],
     "prompt_number": 48
    },
    {
     "cell_type": "code",
     "collapsed": false,
     "input": [
      "lis = []\n",
      "for i in dataframe_train:\n",
      "    if np.isnan(i) == False:\n",
      "        lis.append([i])\n",
      "    else:\n",
      "        lis.append([0])\n",
      "array = np.asarray(lis)\n",
      "print (array)"
     ],
     "language": "python",
     "metadata": {},
     "outputs": [
      {
       "output_type": "stream",
       "stream": "stdout",
       "text": [
        "[[ 0.]\n",
        " [ 0.]\n",
        " [ 0.]\n",
        " ..., \n",
        " [ 0.]\n",
        " [ 0.]\n",
        " [ 0.]]\n"
       ]
      }
     ],
     "prompt_number": 49
    },
    {
     "cell_type": "code",
     "collapsed": false,
     "input": [],
     "language": "python",
     "metadata": {},
     "outputs": [],
     "prompt_number": 49
    },
    {
     "cell_type": "code",
     "collapsed": false,
     "input": [
      "classifier = svm.SVC().fit(array, df_resampled_train.values[:min(train_length, train_resampled_length)])"
     ],
     "language": "python",
     "metadata": {},
     "outputs": [],
     "prompt_number": 50
    },
    {
     "cell_type": "code",
     "collapsed": false,
     "input": [
      "dataframe_test = dataframe.tail(min(train_length, train_resampled_length))"
     ],
     "language": "python",
     "metadata": {},
     "outputs": [],
     "prompt_number": 52
    },
    {
     "cell_type": "code",
     "collapsed": false,
     "input": [
      "df_resampled_test = df_resampled.tail(min(train_length, train_resampled_length))"
     ],
     "language": "python",
     "metadata": {},
     "outputs": [],
     "prompt_number": 53
    },
    {
     "cell_type": "code",
     "collapsed": false,
     "input": [
      "lis = []\n",
      "for i in dataframe_test:\n",
      "    if np.isnan(i) == False:\n",
      "        lis.append([i])\n",
      "    else:\n",
      "        lis.append([0])\n",
      "array_test = np.asarray(lis)\n",
      "print (array_test)"
     ],
     "language": "python",
     "metadata": {},
     "outputs": [
      {
       "output_type": "stream",
       "stream": "stdout",
       "text": [
        "[[    0.        ]\n",
        " [    0.        ]\n",
        " [    0.        ]\n",
        " ..., \n",
        " [ 1713.22619629]\n",
        " [  576.78723145]\n",
        " [    0.        ]]\n"
       ]
      }
     ],
     "prompt_number": 54
    },
    {
     "cell_type": "code",
     "collapsed": false,
     "input": [
      "prediction = classifier.predict(array_test)"
     ],
     "language": "python",
     "metadata": {},
     "outputs": [],
     "prompt_number": 55
    },
    {
     "cell_type": "code",
     "collapsed": false,
     "input": [
      "arr1 = np.asarray([int(i) for i in prediction])\n",
      "arr2 = np.asarray([int(i) for i in df_resampled_test.values])\n",
      "\n",
      "print (metrics.classification_report(arr1, arr2))"
     ],
     "language": "python",
     "metadata": {},
     "outputs": [
      {
       "output_type": "stream",
       "stream": "stdout",
       "text": [
        "             precision    recall  f1-score   support\n",
        "\n",
        "          0       0.01      0.04      0.01        28\n",
        "          1       0.97      0.88      0.93       980\n",
        "\n",
        "avg / total       0.94      0.86      0.90      1008\n",
        "\n"
       ]
      }
     ],
     "prompt_number": 56
    },
    {
     "cell_type": "code",
     "collapsed": false,
     "input": [
      "count = 0\n",
      "for i  in range(len(arr1)):\n",
      "    if arr1[i] == arr2[i]:\n",
      "        count+=1.0\n",
      "print (count/len(arr1) )"
     ],
     "language": "python",
     "metadata": {},
     "outputs": [
      {
       "output_type": "stream",
       "stream": "stdout",
       "text": [
        "0.861111111111\n"
       ]
      }
     ],
     "prompt_number": 57
    },
    {
     "cell_type": "markdown",
     "metadata": {},
     "source": [
      "Implementing KNN algorithm\n",
      "--------------"
     ]
    },
    {
     "cell_type": "code",
     "collapsed": false,
     "input": [
      "from sklearn.neighbors import NearestNeighbors, KNeighborsClassifier"
     ],
     "language": "python",
     "metadata": {},
     "outputs": [],
     "prompt_number": 69
    },
    {
     "cell_type": "code",
     "collapsed": false,
     "input": [
      "len(array)"
     ],
     "language": "python",
     "metadata": {},
     "outputs": [
      {
       "metadata": {},
       "output_type": "pyout",
       "prompt_number": 70,
       "text": [
        "1008"
       ]
      }
     ],
     "prompt_number": 70
    },
    {
     "cell_type": "code",
     "collapsed": false,
     "input": [
      "df_resampled_test.values"
     ],
     "language": "python",
     "metadata": {},
     "outputs": [
      {
       "metadata": {},
       "output_type": "pyout",
       "prompt_number": 71,
       "text": [
        "array([ 1.,  1.,  1., ...,  1.,  1.,  1.])"
       ]
      }
     ],
     "prompt_number": 71
    },
    {
     "cell_type": "code",
     "collapsed": false,
     "input": [
      "df_resampled_train.values"
     ],
     "language": "python",
     "metadata": {},
     "outputs": [
      {
       "metadata": {},
       "output_type": "pyout",
       "prompt_number": 72,
       "text": [
        "array([ 1.,  1.,  1., ...,  1.,  1.,  1.])"
       ]
      }
     ],
     "prompt_number": 72
    },
    {
     "cell_type": "code",
     "collapsed": false,
     "input": [
      "len(df_resampled_train.values[:-1])"
     ],
     "language": "python",
     "metadata": {},
     "outputs": [
      {
       "metadata": {},
       "output_type": "pyout",
       "prompt_number": 73,
       "text": [
        "1008"
       ]
      }
     ],
     "prompt_number": 73
    },
    {
     "cell_type": "code",
     "collapsed": false,
     "input": [
      "len(df_resampled_test.values)"
     ],
     "language": "python",
     "metadata": {},
     "outputs": [
      {
       "metadata": {},
       "output_type": "pyout",
       "prompt_number": 74,
       "text": [
        "1008"
       ]
      }
     ],
     "prompt_number": 74
    },
    {
     "cell_type": "code",
     "collapsed": false,
     "input": [
      "trainingSet = df_resampled_train.values[:-1]\n",
      "testSet = df_resampled_test.values\n",
      "import random\n",
      "split = 0.5\n",
      "for i in range(len(trainingSet)):\n",
      "    if random.random() < split:\n",
      "        testSet[i], trainingSet[i] = trainingSet[i], testSet[i]\n",
      "        array[i], array_test[i] = array_test[i], array[i]    "
     ],
     "language": "python",
     "metadata": {},
     "outputs": [],
     "prompt_number": 75
    },
    {
     "cell_type": "code",
     "collapsed": false,
     "input": [
      "neigh = KNeighborsClassifier(n_neighbors=3)"
     ],
     "language": "python",
     "metadata": {},
     "outputs": [],
     "prompt_number": 76
    },
    {
     "cell_type": "code",
     "collapsed": false,
     "input": [
      "neigh.fit(array, trainingSet)"
     ],
     "language": "python",
     "metadata": {},
     "outputs": [
      {
       "metadata": {},
       "output_type": "pyout",
       "prompt_number": 77,
       "text": [
        "KNeighborsClassifier(algorithm='auto', leaf_size=30, metric='minkowski',\n",
        "           metric_params=None, n_neighbors=3, p=2, weights='uniform')"
       ]
      }
     ],
     "prompt_number": 77
    },
    {
     "cell_type": "code",
     "collapsed": false,
     "input": [
      "predictions = []\n",
      "for i in array_test:\n",
      "    predictions.append(int(neigh.predict([i])))"
     ],
     "language": "python",
     "metadata": {},
     "outputs": [],
     "prompt_number": 78
    },
    {
     "cell_type": "code",
     "collapsed": false,
     "input": [
      "tp = 0\n",
      "tn = 0\n",
      "fp = 0\n",
      "fn = 0\n",
      "for x in range(len(testSet)):\n",
      "    if int(testSet[x]) == 1 and int(predictions[x]) == 1:\n",
      "        tp+=1\n",
      "    elif (int(testSet[x]) == 0 and int(predictions[x]) == 1):\n",
      "        fp+=1\n",
      "    elif (int(testSet[x]) == 1 and int(predictions[x]) == 0):\n",
      "        fn+=1\n",
      "    else:\n",
      "        tn+=1\n",
      "print \"TP = \", tp\n",
      "print \"TN = \", tn\n",
      "print \"FP = \", fp\n",
      "print \"FN = \", fn\n",
      "print \"Accuracy = \", (tp + tn + 0.0)/(tp + tn + fp + fn)\n",
      "print \"Precision = \", (tp + 0.0)/ (tp + fp)\n",
      "print \"Recall = \", (tp + 0.0)/(tp + fn)"
     ],
     "language": "python",
     "metadata": {},
     "outputs": [
      {
       "output_type": "stream",
       "stream": "stdout",
       "text": [
        "TP =  719\n",
        "TN =  6\n",
        "FP =  250\n",
        "FN =  33\n",
        "Accuracy =  0.719246031746\n",
        "Precision =  0.742002063983\n",
        "Recall =  0.956117021277\n"
       ]
      }
     ],
     "prompt_number": 79
    },
    {
     "cell_type": "code",
     "collapsed": false,
     "input": [],
     "language": "python",
     "metadata": {},
     "outputs": []
    }
   ],
   "metadata": {}
  }
 ]
}