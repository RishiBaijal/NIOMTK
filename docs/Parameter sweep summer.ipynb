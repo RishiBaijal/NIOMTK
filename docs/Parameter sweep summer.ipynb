{
 "metadata": {
  "name": "",
  "signature": "sha256:0e659851b40bc542e129740c63df6a7dc5a043d8c6d9560dd0e67ba33b1a368f"
 },
 "nbformat": 3,
 "nbformat_minor": 0,
 "worksheets": [
  {
   "cells": [
    {
     "cell_type": "code",
     "collapsed": false,
     "input": [
      "import numpy as np\n",
      "import pandas as pd\n",
      "from numpy import *\n",
      "from pandas import *\n",
      "import matplotlib\n",
      "import os\n",
      "import os.path\n",
      "from os import *\n",
      "from os.path import *\n",
      "import matplotlib.pyplot as plt\n",
      "from itertools import chain\n",
      "\n",
      "%matplotlib inline"
     ],
     "language": "python",
     "metadata": {},
     "outputs": [],
     "prompt_number": 29
    },
    {
     "cell_type": "code",
     "collapsed": false,
     "input": [
      "dir_path='/Users/rishi/Documents/Master_folder/IIITD/6th_semester/BTP/NIOMTK_datasets'\n",
      "store=HDFStore(join(dir_path, 'eco.h5'))"
     ],
     "language": "python",
     "metadata": {},
     "outputs": [],
     "prompt_number": 30
    },
    {
     "cell_type": "markdown",
     "metadata": {},
     "source": [
      "Getting ground truth values\n",
      "-----------------------------"
     ]
    },
    {
     "cell_type": "code",
     "collapsed": false,
     "input": [
      "def func(df_resampled, accuracy):\n",
      "    ground_truth = df_resampled.values\n",
      "    predicted = truth_series.values\n",
      "    tp = 0\n",
      "    tn = 0\n",
      "    fp = 0\n",
      "    fn = 0\n",
      "    for i in range(min(len(predicted), len(ground_truth))):\n",
      "        if (predicted[i] == True and round(ground_truth[i] ) == 1):\n",
      "            tp+=1\n",
      "        elif (predicted[i] == True and round(ground_truth[i]) == 0):\n",
      "            fp +=1\n",
      "        elif (predicted[i] == False and round(ground_truth[i]) == 1):\n",
      "            fn+=1\n",
      "        else:\n",
      "            tn+=1\n",
      "    print \"TP = \", tp\n",
      "    print \"TN = \", tn\n",
      "    print \"FP = \", fp\n",
      "    print \"FN = \", fn\n",
      "    print \"Accuracy = \", (tp + tn + 0.0)/(tp + tn + fp + fn)\n",
      "    print \"Precision = \", (tp + 0.0)/ (tp + fp)\n",
      "    print \"Recall = \", (tp + 0.0)/(tp + fn)"
     ],
     "language": "python",
     "metadata": {},
     "outputs": [],
     "prompt_number": 31
    },
    {
     "cell_type": "code",
     "collapsed": false,
     "input": [
      "df = pd.read_csv('/Users/rishi/Documents/Master_folder/IIITD/6th_semester/BTP/NIOMTK/02_occupancy_csv/02_summer.csv')"
     ],
     "language": "python",
     "metadata": {},
     "outputs": [],
     "prompt_number": 32
    },
    {
     "cell_type": "code",
     "collapsed": false,
     "input": [
      "index = pd.DatetimeIndex(start = '01-06-2012', periods = 7171200, freq = '1s')"
     ],
     "language": "python",
     "metadata": {},
     "outputs": [],
     "prompt_number": 33
    },
    {
     "cell_type": "code",
     "collapsed": false,
     "input": [
      "out = []\n",
      "for i in range(len(df)):\n",
      "    out.append(df.ix[i].values[1:])\n",
      "out_1d = list(chain.from_iterable(out))"
     ],
     "language": "python",
     "metadata": {},
     "outputs": [],
     "prompt_number": 34
    },
    {
     "cell_type": "code",
     "collapsed": false,
     "input": [
      "df_new = pd.Series(out_1d, index = index)"
     ],
     "language": "python",
     "metadata": {},
     "outputs": [],
     "prompt_number": 35
    },
    {
     "cell_type": "code",
     "collapsed": false,
     "input": [
      "df_resampled = df_new.resample(\"15min\")"
     ],
     "language": "python",
     "metadata": {},
     "outputs": [],
     "prompt_number": 36
    },
    {
     "cell_type": "code",
     "collapsed": false,
     "input": [
      "df_resampled.head()"
     ],
     "language": "python",
     "metadata": {},
     "outputs": [
      {
       "metadata": {},
       "output_type": "pyout",
       "prompt_number": 37,
       "text": [
        "2012-01-06 00:00:00    1\n",
        "2012-01-06 00:15:00    1\n",
        "2012-01-06 00:30:00    1\n",
        "2012-01-06 00:45:00    1\n",
        "2012-01-06 01:00:00    1\n",
        "Freq: 15T, dtype: float64"
       ]
      }
     ],
     "prompt_number": 37
    },
    {
     "cell_type": "code",
     "collapsed": false,
     "input": [
      "df_resampled.tail()"
     ],
     "language": "python",
     "metadata": {},
     "outputs": [
      {
       "metadata": {},
       "output_type": "pyout",
       "prompt_number": 38,
       "text": [
        "2012-03-28 22:45:00    0.000000\n",
        "2012-03-28 23:00:00    0.000000\n",
        "2012-03-28 23:15:00    0.000000\n",
        "2012-03-28 23:30:00    0.977778\n",
        "2012-03-28 23:45:00    1.000000\n",
        "Freq: 15T, dtype: float64"
       ]
      }
     ],
     "prompt_number": 38
    },
    {
     "cell_type": "code",
     "collapsed": false,
     "input": [
      "df_resampled.plot(kind = 'hist')\n",
      "print (len(df_resampled))"
     ],
     "language": "python",
     "metadata": {},
     "outputs": [
      {
       "output_type": "stream",
       "stream": "stdout",
       "text": [
        "7968\n"
       ]
      },
      {
       "metadata": {},
       "output_type": "display_data",
       "png": "[encoded data removed]",
       "text": [
        "<matplotlib.figure.Figure at 0x10439fe10>"
       ]
      }
     ],
     "prompt_number": 39
    },
    {
     "cell_type": "markdown",
     "metadata": {},
     "source": [
      "At this point, the ground truth values are stored in a variable called df_resampled."
     ]
    },
    {
     "cell_type": "markdown",
     "metadata": {},
     "source": [
      "Getting data from the dataset\n",
      "---------------------\n",
      "\n",
      "At this point, we will get the data from the dataset, resample it, decide a list of thresholds and plot some graphs."
     ]
    },
    {
     "cell_type": "code",
     "collapsed": false,
     "input": [
      "dir_path='/Users/rishi/Documents/Master_folder/IIITD/6th_semester/BTP/NIOMTK_datasets'\n",
      "store=HDFStore(join(dir_path, 'eco.h5'))\n",
      "df=store['/building2/elec/meter2']\n",
      "mean_df=df.resample('15min', how='mean' )\n",
      "median_df=df.resample('15min', how='median')\n",
      "std_df=df.resample('15min', how=np.std)\n",
      "range_df=df.resample('15min', how=np.max) - df.resample('15min', how=np.min)"
     ],
     "language": "python",
     "metadata": {},
     "outputs": [],
     "prompt_number": 40
    },
    {
     "cell_type": "code",
     "collapsed": false,
     "input": [
      "mean_df.head()\n"
     ],
     "language": "python",
     "metadata": {},
     "outputs": [
      {
       "html": [
        "<div style=\"max-height:1000px;max-width:1500px;overflow:auto;\">\n",
        "<table border=\"1\" class=\"dataframe\">\n",
        "  <thead>\n",
        "    <tr>\n",
        "      <th></th>\n",
        "      <th>power</th>\n",
        "      <th>current</th>\n",
        "      <th>voltage</th>\n",
        "      <th>phase_angle</th>\n",
        "      <th>power</th>\n",
        "    </tr>\n",
        "    <tr>\n",
        "      <th></th>\n",
        "      <th>active</th>\n",
        "      <th></th>\n",
        "      <th></th>\n",
        "      <th></th>\n",
        "      <th>reactive</th>\n",
        "    </tr>\n",
        "  </thead>\n",
        "  <tbody>\n",
        "    <tr>\n",
        "      <th>2012-06-01 02:00:00+02:00</th>\n",
        "      <td> 21.157919</td>\n",
        "      <td> 0.157437</td>\n",
        "      <td> 235.039993</td>\n",
        "      <td> 0</td>\n",
        "      <td> 0</td>\n",
        "    </tr>\n",
        "    <tr>\n",
        "      <th>2012-06-01 02:15:00+02:00</th>\n",
        "      <td> 21.159485</td>\n",
        "      <td> 0.156040</td>\n",
        "      <td> 235.156662</td>\n",
        "      <td> 0</td>\n",
        "      <td> 0</td>\n",
        "    </tr>\n",
        "    <tr>\n",
        "      <th>2012-06-01 02:30:00+02:00</th>\n",
        "      <td> 21.194288</td>\n",
        "      <td> 0.157210</td>\n",
        "      <td> 235.328888</td>\n",
        "      <td> 0</td>\n",
        "      <td> 0</td>\n",
        "    </tr>\n",
        "    <tr>\n",
        "      <th>2012-06-01 02:45:00+02:00</th>\n",
        "      <td> 21.209436</td>\n",
        "      <td> 0.156509</td>\n",
        "      <td> 236.002228</td>\n",
        "      <td> 0</td>\n",
        "      <td> 0</td>\n",
        "    </tr>\n",
        "    <tr>\n",
        "      <th>2012-06-01 03:00:00+02:00</th>\n",
        "      <td> 21.127615</td>\n",
        "      <td> 0.156815</td>\n",
        "      <td> 234.485550</td>\n",
        "      <td> 0</td>\n",
        "      <td> 0</td>\n",
        "    </tr>\n",
        "  </tbody>\n",
        "</table>\n",
        "</div>"
       ],
       "metadata": {},
       "output_type": "pyout",
       "prompt_number": 41,
       "text": [
        "                               power   current     voltage  phase_angle  \\\n",
        "                              active                                      \n",
        "2012-06-01 02:00:00+02:00  21.157919  0.157437  235.039993            0   \n",
        "2012-06-01 02:15:00+02:00  21.159485  0.156040  235.156662            0   \n",
        "2012-06-01 02:30:00+02:00  21.194288  0.157210  235.328888            0   \n",
        "2012-06-01 02:45:00+02:00  21.209436  0.156509  236.002228            0   \n",
        "2012-06-01 03:00:00+02:00  21.127615  0.156815  234.485550            0   \n",
        "\n",
        "                              power  \n",
        "                           reactive  \n",
        "2012-06-01 02:00:00+02:00         0  \n",
        "2012-06-01 02:15:00+02:00         0  \n",
        "2012-06-01 02:30:00+02:00         0  \n",
        "2012-06-01 02:45:00+02:00         0  \n",
        "2012-06-01 03:00:00+02:00         0  "
       ]
      }
     ],
     "prompt_number": 41
    },
    {
     "cell_type": "code",
     "collapsed": false,
     "input": [
      "mean_df.tail()"
     ],
     "language": "python",
     "metadata": {},
     "outputs": [
      {
       "html": [
        "<div style=\"max-height:1000px;max-width:1500px;overflow:auto;\">\n",
        "<table border=\"1\" class=\"dataframe\">\n",
        "  <thead>\n",
        "    <tr>\n",
        "      <th></th>\n",
        "      <th>power</th>\n",
        "      <th>current</th>\n",
        "      <th>voltage</th>\n",
        "      <th>phase_angle</th>\n",
        "      <th>power</th>\n",
        "    </tr>\n",
        "    <tr>\n",
        "      <th></th>\n",
        "      <th>active</th>\n",
        "      <th></th>\n",
        "      <th></th>\n",
        "      <th></th>\n",
        "      <th>reactive</th>\n",
        "    </tr>\n",
        "  </thead>\n",
        "  <tbody>\n",
        "    <tr>\n",
        "      <th>2013-01-31 23:45:00+01:00</th>\n",
        "      <td> 21.652687</td>\n",
        "      <td> 0.159398</td>\n",
        "      <td> 236.279999</td>\n",
        "      <td> 0</td>\n",
        "      <td> 0</td>\n",
        "    </tr>\n",
        "    <tr>\n",
        "      <th>2013-02-01 00:00:00+01:00</th>\n",
        "      <td> 21.674355</td>\n",
        "      <td> 0.158865</td>\n",
        "      <td> 236.919998</td>\n",
        "      <td> 0</td>\n",
        "      <td> 0</td>\n",
        "    </tr>\n",
        "    <tr>\n",
        "      <th>2013-02-01 00:15:00+01:00</th>\n",
        "      <td> 21.672895</td>\n",
        "      <td> 0.158372</td>\n",
        "      <td> 236.948883</td>\n",
        "      <td> 0</td>\n",
        "      <td> 0</td>\n",
        "    </tr>\n",
        "    <tr>\n",
        "      <th>2013-02-01 00:30:00+01:00</th>\n",
        "      <td> 21.693756</td>\n",
        "      <td> 0.157997</td>\n",
        "      <td> 237.161118</td>\n",
        "      <td> 0</td>\n",
        "      <td> 0</td>\n",
        "    </tr>\n",
        "    <tr>\n",
        "      <th>2013-02-01 00:45:00+01:00</th>\n",
        "      <td> 21.646320</td>\n",
        "      <td> 0.157920</td>\n",
        "      <td> 236.382217</td>\n",
        "      <td> 0</td>\n",
        "      <td> 0</td>\n",
        "    </tr>\n",
        "  </tbody>\n",
        "</table>\n",
        "</div>"
       ],
       "metadata": {},
       "output_type": "pyout",
       "prompt_number": 42,
       "text": [
        "                               power   current     voltage  phase_angle  \\\n",
        "                              active                                      \n",
        "2013-01-31 23:45:00+01:00  21.652687  0.159398  236.279999            0   \n",
        "2013-02-01 00:00:00+01:00  21.674355  0.158865  236.919998            0   \n",
        "2013-02-01 00:15:00+01:00  21.672895  0.158372  236.948883            0   \n",
        "2013-02-01 00:30:00+01:00  21.693756  0.157997  237.161118            0   \n",
        "2013-02-01 00:45:00+01:00  21.646320  0.157920  236.382217            0   \n",
        "\n",
        "                              power  \n",
        "                           reactive  \n",
        "2013-01-31 23:45:00+01:00         0  \n",
        "2013-02-01 00:00:00+01:00         0  \n",
        "2013-02-01 00:15:00+01:00         0  \n",
        "2013-02-01 00:30:00+01:00         0  \n",
        "2013-02-01 00:45:00+01:00         0  "
       ]
      }
     ],
     "prompt_number": 42
    },
    {
     "cell_type": "code",
     "collapsed": false,
     "input": [
      "mean_df['power']['active']['2012-06-01':'2012-09-01']"
     ],
     "language": "python",
     "metadata": {},
     "outputs": [
      {
       "metadata": {},
       "output_type": "pyout",
       "prompt_number": 43,
       "text": [
        "2012-06-01 02:00:00+02:00    21.157919\n",
        "2012-06-01 02:15:00+02:00    21.159485\n",
        "2012-06-01 02:30:00+02:00    21.194288\n",
        "2012-06-01 02:45:00+02:00    21.209436\n",
        "2012-06-01 03:00:00+02:00    21.127615\n",
        "2012-06-01 03:15:00+02:00    21.163544\n",
        "2012-06-01 03:30:00+02:00    21.191628\n",
        "2012-06-01 03:45:00+02:00    21.239378\n",
        "2012-06-01 04:00:00+02:00    21.224619\n",
        "2012-06-01 04:15:00+02:00    21.232401\n",
        "2012-06-01 04:30:00+02:00    21.233612\n",
        "2012-06-01 04:45:00+02:00    21.220615\n",
        "2012-06-01 05:00:00+02:00    21.185457\n",
        "2012-06-01 05:15:00+02:00    21.141870\n",
        "2012-06-01 05:30:00+02:00    21.165274\n",
        "...\n",
        "2012-09-01 20:15:00+02:00    230.478439\n",
        "2012-09-01 20:30:00+02:00    230.604370\n",
        "2012-09-01 20:45:00+02:00    235.491272\n",
        "2012-09-01 21:00:00+02:00    231.645935\n",
        "2012-09-01 21:15:00+02:00    167.259399\n",
        "2012-09-01 21:30:00+02:00     44.750587\n",
        "2012-09-01 21:45:00+02:00     44.235703\n",
        "2012-09-01 22:00:00+02:00     44.138515\n",
        "2012-09-01 22:15:00+02:00     44.154510\n",
        "2012-09-01 22:30:00+02:00     44.164623\n",
        "2012-09-01 22:45:00+02:00     44.172989\n",
        "2012-09-01 23:00:00+02:00     44.032978\n",
        "2012-09-01 23:15:00+02:00     44.004559\n",
        "2012-09-01 23:30:00+02:00     44.042492\n",
        "2012-09-01 23:45:00+02:00     44.130684\n",
        "Freq: 15T, Name: active, Length: 8920"
       ]
      }
     ],
     "prompt_number": 43
    },
    {
     "cell_type": "code",
     "collapsed": false,
     "input": [
      "mean_df_sliced = mean_df['power']['active']['2012-06-01':'2012-09-01']\n",
      "median_df_sliced = median_df['power']['active']['2012-06-01':'2012-09-01']\n",
      "std_df_sliced = std_df['power']['active']['2012-06-01':'2012-09-01']\n",
      "range_df_sliced = range_df['power']['active']['2012-06-01':'2012-09-01']"
     ],
     "language": "python",
     "metadata": {},
     "outputs": [],
     "prompt_number": 44
    },
    {
     "cell_type": "code",
     "collapsed": false,
     "input": [
      "mean_df_sliced.head()"
     ],
     "language": "python",
     "metadata": {},
     "outputs": [
      {
       "metadata": {},
       "output_type": "pyout",
       "prompt_number": 45,
       "text": [
        "2012-06-01 02:00:00+02:00    21.157919\n",
        "2012-06-01 02:15:00+02:00    21.159485\n",
        "2012-06-01 02:30:00+02:00    21.194288\n",
        "2012-06-01 02:45:00+02:00    21.209436\n",
        "2012-06-01 03:00:00+02:00    21.127615\n",
        "Freq: 15T, Name: active, dtype: float32"
       ]
      }
     ],
     "prompt_number": 45
    },
    {
     "cell_type": "code",
     "collapsed": false,
     "input": [
      "mean_df_sliced.plot(kind = 'hist')"
     ],
     "language": "python",
     "metadata": {},
     "outputs": [
      {
       "metadata": {},
       "output_type": "pyout",
       "prompt_number": 46,
       "text": [
        "<matplotlib.axes._subplots.AxesSubplot at 0x1098a3910>"
       ]
      },
      {
       "metadata": {},
       "output_type": "display_data",
       "png": "[encoded data removed]",
       "text": [
        "<matplotlib.figure.Figure at 0x109afe810>"
       ]
      }
     ],
     "prompt_number": 46
    },
    {
     "cell_type": "code",
     "collapsed": false,
     "input": [
      "median_df_sliced.plot (kind = 'hist')"
     ],
     "language": "python",
     "metadata": {},
     "outputs": [
      {
       "metadata": {},
       "output_type": "pyout",
       "prompt_number": 47,
       "text": [
        "<matplotlib.axes._subplots.AxesSubplot at 0x1167810d0>"
       ]
      },
      {
       "metadata": {},
       "output_type": "display_data",
       "png": "[encoded data removed]",
       "text": [
        "<matplotlib.figure.Figure at 0x116d654d0>"
       ]
      }
     ],
     "prompt_number": 47
    },
    {
     "cell_type": "markdown",
     "metadata": {},
     "source": [
      "\n",
      "Function for mean\n",
      "------------------"
     ]
    },
    {
     "cell_type": "code",
     "collapsed": false,
     "input": [
      "def mean_check(threshold):\n",
      "    mean_series = mean_df_sliced > threshold\n",
      "    mean_list = [i for i in mean_series]\n",
      "    return mean_list"
     ],
     "language": "python",
     "metadata": {},
     "outputs": [],
     "prompt_number": 48
    },
    {
     "cell_type": "markdown",
     "metadata": {},
     "source": [
      "Function for median\n",
      "--------------------"
     ]
    },
    {
     "cell_type": "code",
     "collapsed": false,
     "input": [
      "def median_check(threshold):\n",
      "    median_series  = median_df_sliced > threshold\n",
      "    median_list = [i for i in median_series]\n",
      "    return median_list"
     ],
     "language": "python",
     "metadata": {},
     "outputs": [],
     "prompt_number": 49
    },
    {
     "cell_type": "markdown",
     "metadata": {},
     "source": [
      "Function for Standard deviation\n",
      "----------------------------------"
     ]
    },
    {
     "cell_type": "code",
     "collapsed": false,
     "input": [
      "def std_check(threshold):\n",
      "    std_series = std_df_sliced > threshold\n",
      "    std_list = [i for i in std_series]\n",
      "    return std_list"
     ],
     "language": "python",
     "metadata": {},
     "outputs": [],
     "prompt_number": 50
    },
    {
     "cell_type": "markdown",
     "metadata": {},
     "source": [
      "Function for Range\n",
      "-------------------"
     ]
    },
    {
     "cell_type": "code",
     "collapsed": false,
     "input": [
      "def range_check(threshold):\n",
      "    range_series = range_df_sliced > threshold\n",
      "    range_list = [i for i in range_series]\n",
      "    return range_list"
     ],
     "language": "python",
     "metadata": {},
     "outputs": [],
     "prompt_number": 51
    },
    {
     "cell_type": "markdown",
     "metadata": {},
     "source": [
      "At this point, we have lists for all four parameters. We need to combine them into a single list.\n",
      "\n",
      "Function for combining the parameters\n",
      "-----------------------------------------"
     ]
    },
    {
     "cell_type": "code",
     "collapsed": false,
     "input": [
      "default_mean = mean_df_sliced.mean()\n",
      "default_median = median_df_sliced.mean()\n",
      "default_std = std_df_sliced.mean()\n",
      "default_range = range_df_sliced.mean()\n",
      "def combine(threshold_mean=default_mean, threshold_median=default_median, threshold_std=default_std , threshold_range=default_range):\n",
      "    mean_list = mean_check(threshold_mean)\n",
      "    median_list = median_check(threshold_median)\n",
      "    std_list = std_check(threshold_std)\n",
      "    range_list = range_check(threshold_range)\n",
      "    truth_list = mean_list or median_list or std_list or range_list\n",
      "    indices = pd.DatetimeIndex(start = '01-06-2012', periods = 8920, freq = \"15min\")\n",
      "    truth_series = Series (truth_list, index = indices)\n",
      "    return truth_series"
     ],
     "language": "python",
     "metadata": {},
     "outputs": [],
     "prompt_number": 52
    },
    {
     "cell_type": "markdown",
     "metadata": {},
     "source": [
      "Function to determine accuracy\n",
      "---------------------------------"
     ]
    },
    {
     "cell_type": "code",
     "collapsed": false,
     "input": [
      "def accuracy(df_resampled, truth_series):\n",
      "    ground_truth = df_resampled.values\n",
      "    predicted = truth_series.values\n",
      "    tp = 0\n",
      "    tn = 0\n",
      "    fp = 0\n",
      "    fn = 0\n",
      "    for i in range(min(len(predicted), len(ground_truth))):\n",
      "        if (predicted[i] == True and round(ground_truth[i] ) == 1):\n",
      "            tp+=1\n",
      "        elif (predicted[i] == True and round(ground_truth[i]) == 0):\n",
      "            fp +=1\n",
      "        elif (predicted[i] == False and round(ground_truth[i]) == 1):\n",
      "            fn+=1\n",
      "        else:\n",
      "            tn+=1\n",
      "    #print \"TP = \", tp\n",
      "    #print \"TN = \", tn\n",
      "    #print \"FP = \", fp\n",
      "    #print \"FN = \", fn'''\n",
      "    accuracy = (tp + tn + 0.0)/(tp + tn + fp + fn)\n",
      "    precision = (tp + 0.0)/ (tp + fp)\n",
      "    recall = (tp + 0.0)/(tp + fn)\n",
      "    return [accuracy, precision, recall]\n",
      "#    print \"Accuracy = \", accuracy\n",
      " #   print \"Precision = \", precision\n",
      "  #  print \"Recall = \", recall\n",
      "   # return [accuracy, precision, recall]'''"
     ],
     "language": "python",
     "metadata": {},
     "outputs": [],
     "prompt_number": 53
    },
    {
     "cell_type": "markdown",
     "metadata": {},
     "source": [
      "The Final Step\n",
      "--------------\n",
      "\n",
      "Now that we have the function for calculating accuracy, the function for combining metrics based on a given threshold and a DataFrame that stores the ground truth values, we need to make a function that calls the combine() function using certain thresholds, get the truth series from the combine function, pass that truth series to the accuracy function along with the ground truth values. We will modify this code to incorporate plotting later on.\n",
      "\n",
      "First, we will run testing by checking with the default thresholds."
     ]
    },
    {
     "cell_type": "code",
     "collapsed": false,
     "input": [
      "def initial_sweep():\n",
      "    truth_series = combine()\n",
      "    accuracy(df_resampled, truth_series)"
     ],
     "language": "python",
     "metadata": {},
     "outputs": [],
     "prompt_number": 54
    },
    {
     "cell_type": "code",
     "collapsed": false,
     "input": [
      "initial_sweep()"
     ],
     "language": "python",
     "metadata": {},
     "outputs": [],
     "prompt_number": 55
    },
    {
     "cell_type": "code",
     "collapsed": false,
     "input": [
      "mean = mean_df_sliced.mean()\n",
      "std = mean_df_sliced.std()\n",
      "\n",
      "min_val = int (mean - std + 0.5)\n",
      "\n",
      "max_val = int (mean + std + 0.5)\n",
      "default_list = [i for i in range(min_val, max_val, 1) if i > 0]\n",
      "accuracy_list = []\n",
      "precision_list = []\n",
      "recall_list = []\n",
      "def mean_sweep(list_of_thresholds = default_list):\n",
      "    for i in list_of_thresholds:\n",
      "        truth_series = combine(i)\n",
      "        #print \"Measuring for threshold : \", i\n",
      "        #print \"--------------------------------\"\n",
      "        accuracy_list.append(accuracy(truth_series,df_resampled)[0])\n",
      "        precision_list.append(accuracy(truth_series,df_resampled)[1])\n",
      "        recall_list.append(accuracy(truth_series,df_resampled)[2])\n",
      "    plt.plot(list_of_thresholds, accuracy_list)\n",
      "    plt.xlabel('List of thresholds')\n",
      "    plt.ylabel('Accuracies determined by those thresholds')\n",
      "    plt.show()\n",
      "    \n",
      "    \n",
      "    plt.plot(list_of_thresholds, precision_list)\n",
      "    plt.xlabel('List of thresholds')\n",
      "    plt.ylabel('Precision values determined by those thresholds')\n",
      "    plt.show()\n",
      "    \n",
      "    \n",
      "    plt.plot(list_of_thresholds, recall_list)\n",
      "    plt.xlabel('List of thresholds')\n",
      "    plt.ylabel('Recall values determined by those thresholds')\n",
      "    plt.show()\n",
      "mean_sweep()"
     ],
     "language": "python",
     "metadata": {},
     "outputs": [
      {
       "metadata": {},
       "output_type": "display_data",
       "png": "[encoded data removed]",
       "text": [
        "<matplotlib.figure.Figure at 0x1355b24d0>"
       ]
      },
      {
       "metadata": {},
       "output_type": "display_data",
       "png": "[encoded data removed]",
       "text": [
        "<matplotlib.figure.Figure at 0x10f011110>"
       ]
      },
      {
       "metadata": {},
       "output_type": "display_data",
       "png": "[encoded data removed]",
       "text": [
        "<matplotlib.figure.Figure at 0x115c1ec90>"
       ]
      }
     ],
     "prompt_number": 56
    },
    {
     "cell_type": "code",
     "collapsed": false,
     "input": [],
     "language": "python",
     "metadata": {},
     "outputs": [],
     "prompt_number": 56
    },
    {
     "cell_type": "code",
     "collapsed": false,
     "input": [],
     "language": "python",
     "metadata": {},
     "outputs": [],
     "prompt_number": 56
    },
    {
     "cell_type": "code",
     "collapsed": false,
     "input": [],
     "language": "python",
     "metadata": {},
     "outputs": [],
     "prompt_number": 28
    },
    {
     "cell_type": "code",
     "collapsed": false,
     "input": [],
     "language": "python",
     "metadata": {},
     "outputs": []
    }
   ],
   "metadata": {}
  }
 ]
}