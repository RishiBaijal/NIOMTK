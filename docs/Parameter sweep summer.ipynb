{
 "metadata": {
  "name": "",
  "signature": "sha256:b3b3583a93fe5409c640cc553a5cf25b34a57002f9e3f43b310f489a19ad372c"
 },
 "nbformat": 3,
 "nbformat_minor": 0,
 "worksheets": [
  {
   "cells": [
    {
     "cell_type": "code",
     "collapsed": false,
     "input": [
      "import numpy as np\n",
      "import pandas as pd\n",
      "from numpy import *\n",
      "from pandas import *\n",
      "import matplotlib\n",
      "import os\n",
      "import os.path\n",
      "from os import *\n",
      "from os.path import *\n",
      "import matplotlib.pyplot as plt\n",
      "from itertools import chain\n",
      "\n",
      "%matplotlib inline"
     ],
     "language": "python",
     "metadata": {},
     "outputs": [],
     "prompt_number": 3
    },
    {
     "cell_type": "code",
     "collapsed": false,
     "input": [
      "dir_path='/Users/rishi/Documents/Master_folder/IIITD/6th_semester/BTP/NIOMTK_datasets'\n",
      "store=HDFStore(join(dir_path, 'eco.h5'))"
     ],
     "language": "python",
     "metadata": {},
     "outputs": [],
     "prompt_number": 2
    },
    {
     "cell_type": "markdown",
     "metadata": {},
     "source": [
      "Function to calculate accuracy, precision and recall\n",
      "---------"
     ]
    },
    {
     "cell_type": "code",
     "collapsed": false,
     "input": [
      "def func(df_resampled, accuracy):\n",
      "    ground_truth = df_resampled.values\n",
      "    predicted = truth_series.values\n",
      "    tp = 0\n",
      "    tn = 0\n",
      "    fp = 0\n",
      "    fn = 0\n",
      "    for i in range(min(len(predicted), len(ground_truth))):\n",
      "        if (predicted[i] == True and round(ground_truth[i] ) == 1):\n",
      "            tp+=1\n",
      "        elif (predicted[i] == True and round(ground_truth[i]) == 0):\n",
      "            fp +=1\n",
      "        elif (predicted[i] == False and round(ground_truth[i]) == 1):\n",
      "            fn+=1\n",
      "        else:\n",
      "            tn+=1\n",
      "    print \"TP = \", tp\n",
      "    print \"TN = \", tn\n",
      "    print \"FP = \", fp\n",
      "    print \"FN = \", fn\n",
      "    print \"Accuracy = \", (tp + tn + 0.0)/(tp + tn + fp + fn)\n",
      "    print \"Precision = \", (tn + 0.0)/ (tn + fp)\n",
      "    print \"Recall = \", (tp + 0.0)/(tp + fn)"
     ],
     "language": "python",
     "metadata": {},
     "outputs": [],
     "prompt_number": 1
    },
    {
     "cell_type": "markdown",
     "metadata": {},
     "source": [
      "Getting data from the dataset\n",
      "---------------------\n",
      "\n",
      "At this point, we will get the data from the dataset, resample it, decide a list of thresholds and plot some graphs."
     ]
    },
    {
     "cell_type": "code",
     "collapsed": false,
     "input": [
      "dir_path='/Users/rishi/Documents/Master_folder/IIITD/6th_semester/BTP/NIOMTK_datasets'\n",
      "store=HDFStore(join(dir_path, 'eco.h5'))\n",
      "df=store['/building2/elec/meter2']\n",
      "mean_df=df.resample('15min', how='mean' )\n",
      "median_df=df.resample('15min', how='median')\n",
      "std_df=df.resample('15min', how=np.std)\n",
      "range_df=df.resample('15min', how=np.max) - df.resample('15min', how=np.min)"
     ],
     "language": "python",
     "metadata": {},
     "outputs": [],
     "prompt_number": 5
    },
    {
     "cell_type": "code",
     "collapsed": false,
     "input": [
      "mean_df.head()\n"
     ],
     "language": "python",
     "metadata": {},
     "outputs": [
      {
       "html": [
        "<div style=\"max-height:1000px;max-width:1500px;overflow:auto;\">\n",
        "<table border=\"1\" class=\"dataframe\">\n",
        "  <thead>\n",
        "    <tr>\n",
        "      <th></th>\n",
        "      <th>power</th>\n",
        "      <th>current</th>\n",
        "      <th>voltage</th>\n",
        "      <th>phase_angle</th>\n",
        "      <th>power</th>\n",
        "    </tr>\n",
        "    <tr>\n",
        "      <th></th>\n",
        "      <th>active</th>\n",
        "      <th></th>\n",
        "      <th></th>\n",
        "      <th></th>\n",
        "      <th>reactive</th>\n",
        "    </tr>\n",
        "  </thead>\n",
        "  <tbody>\n",
        "    <tr>\n",
        "      <th>2012-06-01 02:00:00+02:00</th>\n",
        "      <td> 21.157919</td>\n",
        "      <td> 0.157437</td>\n",
        "      <td> 235.039993</td>\n",
        "      <td> 0</td>\n",
        "      <td> 0</td>\n",
        "    </tr>\n",
        "    <tr>\n",
        "      <th>2012-06-01 02:15:00+02:00</th>\n",
        "      <td> 21.159485</td>\n",
        "      <td> 0.156040</td>\n",
        "      <td> 235.156662</td>\n",
        "      <td> 0</td>\n",
        "      <td> 0</td>\n",
        "    </tr>\n",
        "    <tr>\n",
        "      <th>2012-06-01 02:30:00+02:00</th>\n",
        "      <td> 21.194288</td>\n",
        "      <td> 0.157210</td>\n",
        "      <td> 235.328888</td>\n",
        "      <td> 0</td>\n",
        "      <td> 0</td>\n",
        "    </tr>\n",
        "    <tr>\n",
        "      <th>2012-06-01 02:45:00+02:00</th>\n",
        "      <td> 21.209436</td>\n",
        "      <td> 0.156509</td>\n",
        "      <td> 236.002228</td>\n",
        "      <td> 0</td>\n",
        "      <td> 0</td>\n",
        "    </tr>\n",
        "    <tr>\n",
        "      <th>2012-06-01 03:00:00+02:00</th>\n",
        "      <td> 21.127615</td>\n",
        "      <td> 0.156815</td>\n",
        "      <td> 234.485550</td>\n",
        "      <td> 0</td>\n",
        "      <td> 0</td>\n",
        "    </tr>\n",
        "  </tbody>\n",
        "</table>\n",
        "</div>"
       ],
       "metadata": {},
       "output_type": "pyout",
       "prompt_number": 6,
       "text": [
        "                               power   current     voltage  phase_angle  \\\n",
        "                              active                                      \n",
        "2012-06-01 02:00:00+02:00  21.157919  0.157437  235.039993            0   \n",
        "2012-06-01 02:15:00+02:00  21.159485  0.156040  235.156662            0   \n",
        "2012-06-01 02:30:00+02:00  21.194288  0.157210  235.328888            0   \n",
        "2012-06-01 02:45:00+02:00  21.209436  0.156509  236.002228            0   \n",
        "2012-06-01 03:00:00+02:00  21.127615  0.156815  234.485550            0   \n",
        "\n",
        "                              power  \n",
        "                           reactive  \n",
        "2012-06-01 02:00:00+02:00         0  \n",
        "2012-06-01 02:15:00+02:00         0  \n",
        "2012-06-01 02:30:00+02:00         0  \n",
        "2012-06-01 02:45:00+02:00         0  \n",
        "2012-06-01 03:00:00+02:00         0  "
       ]
      }
     ],
     "prompt_number": 6
    },
    {
     "cell_type": "code",
     "collapsed": false,
     "input": [
      "mean_df.tail()"
     ],
     "language": "python",
     "metadata": {},
     "outputs": [
      {
       "html": [
        "<div style=\"max-height:1000px;max-width:1500px;overflow:auto;\">\n",
        "<table border=\"1\" class=\"dataframe\">\n",
        "  <thead>\n",
        "    <tr>\n",
        "      <th></th>\n",
        "      <th>power</th>\n",
        "      <th>current</th>\n",
        "      <th>voltage</th>\n",
        "      <th>phase_angle</th>\n",
        "      <th>power</th>\n",
        "    </tr>\n",
        "    <tr>\n",
        "      <th></th>\n",
        "      <th>active</th>\n",
        "      <th></th>\n",
        "      <th></th>\n",
        "      <th></th>\n",
        "      <th>reactive</th>\n",
        "    </tr>\n",
        "  </thead>\n",
        "  <tbody>\n",
        "    <tr>\n",
        "      <th>2013-01-31 23:45:00+01:00</th>\n",
        "      <td> 21.652687</td>\n",
        "      <td> 0.159398</td>\n",
        "      <td> 236.279999</td>\n",
        "      <td> 0</td>\n",
        "      <td> 0</td>\n",
        "    </tr>\n",
        "    <tr>\n",
        "      <th>2013-02-01 00:00:00+01:00</th>\n",
        "      <td> 21.674355</td>\n",
        "      <td> 0.158865</td>\n",
        "      <td> 236.919998</td>\n",
        "      <td> 0</td>\n",
        "      <td> 0</td>\n",
        "    </tr>\n",
        "    <tr>\n",
        "      <th>2013-02-01 00:15:00+01:00</th>\n",
        "      <td> 21.672895</td>\n",
        "      <td> 0.158372</td>\n",
        "      <td> 236.948883</td>\n",
        "      <td> 0</td>\n",
        "      <td> 0</td>\n",
        "    </tr>\n",
        "    <tr>\n",
        "      <th>2013-02-01 00:30:00+01:00</th>\n",
        "      <td> 21.693756</td>\n",
        "      <td> 0.157997</td>\n",
        "      <td> 237.161118</td>\n",
        "      <td> 0</td>\n",
        "      <td> 0</td>\n",
        "    </tr>\n",
        "    <tr>\n",
        "      <th>2013-02-01 00:45:00+01:00</th>\n",
        "      <td> 21.646320</td>\n",
        "      <td> 0.157920</td>\n",
        "      <td> 236.382217</td>\n",
        "      <td> 0</td>\n",
        "      <td> 0</td>\n",
        "    </tr>\n",
        "  </tbody>\n",
        "</table>\n",
        "</div>"
       ],
       "metadata": {},
       "output_type": "pyout",
       "prompt_number": 7,
       "text": [
        "                               power   current     voltage  phase_angle  \\\n",
        "                              active                                      \n",
        "2013-01-31 23:45:00+01:00  21.652687  0.159398  236.279999            0   \n",
        "2013-02-01 00:00:00+01:00  21.674355  0.158865  236.919998            0   \n",
        "2013-02-01 00:15:00+01:00  21.672895  0.158372  236.948883            0   \n",
        "2013-02-01 00:30:00+01:00  21.693756  0.157997  237.161118            0   \n",
        "2013-02-01 00:45:00+01:00  21.646320  0.157920  236.382217            0   \n",
        "\n",
        "                              power  \n",
        "                           reactive  \n",
        "2013-01-31 23:45:00+01:00         0  \n",
        "2013-02-01 00:00:00+01:00         0  \n",
        "2013-02-01 00:15:00+01:00         0  \n",
        "2013-02-01 00:30:00+01:00         0  \n",
        "2013-02-01 00:45:00+01:00         0  "
       ]
      }
     ],
     "prompt_number": 7
    },
    {
     "cell_type": "code",
     "collapsed": false,
     "input": [
      "mean_df['power']['active']['2012-06-01':'2012-09-01']"
     ],
     "language": "python",
     "metadata": {},
     "outputs": [
      {
       "metadata": {},
       "output_type": "pyout",
       "prompt_number": 8,
       "text": [
        "2012-06-01 02:00:00+02:00    21.157919\n",
        "2012-06-01 02:15:00+02:00    21.159485\n",
        "2012-06-01 02:30:00+02:00    21.194288\n",
        "2012-06-01 02:45:00+02:00    21.209436\n",
        "2012-06-01 03:00:00+02:00    21.127615\n",
        "2012-06-01 03:15:00+02:00    21.163544\n",
        "2012-06-01 03:30:00+02:00    21.191628\n",
        "2012-06-01 03:45:00+02:00    21.239378\n",
        "2012-06-01 04:00:00+02:00    21.224619\n",
        "2012-06-01 04:15:00+02:00    21.232401\n",
        "2012-06-01 04:30:00+02:00    21.233612\n",
        "2012-06-01 04:45:00+02:00    21.220615\n",
        "2012-06-01 05:00:00+02:00    21.185457\n",
        "2012-06-01 05:15:00+02:00    21.141870\n",
        "2012-06-01 05:30:00+02:00    21.165274\n",
        "...\n",
        "2012-09-01 20:15:00+02:00    230.478439\n",
        "2012-09-01 20:30:00+02:00    230.604370\n",
        "2012-09-01 20:45:00+02:00    235.491272\n",
        "2012-09-01 21:00:00+02:00    231.645935\n",
        "2012-09-01 21:15:00+02:00    167.259399\n",
        "2012-09-01 21:30:00+02:00     44.750587\n",
        "2012-09-01 21:45:00+02:00     44.235703\n",
        "2012-09-01 22:00:00+02:00     44.138515\n",
        "2012-09-01 22:15:00+02:00     44.154510\n",
        "2012-09-01 22:30:00+02:00     44.164623\n",
        "2012-09-01 22:45:00+02:00     44.172989\n",
        "2012-09-01 23:00:00+02:00     44.032978\n",
        "2012-09-01 23:15:00+02:00     44.004559\n",
        "2012-09-01 23:30:00+02:00     44.042492\n",
        "2012-09-01 23:45:00+02:00     44.130684\n",
        "Freq: 15T, Name: active, Length: 8920"
       ]
      }
     ],
     "prompt_number": 8
    },
    {
     "cell_type": "code",
     "collapsed": false,
     "input": [
      "mean_df_sliced = mean_df['power']['active']['2012-06-01':'2012-09-01']\n",
      "median_df_sliced = median_df['power']['active']['2012-06-01':'2012-09-01']\n",
      "std_df_sliced = std_df['power']['active']['2012-06-01':'2012-09-01']\n",
      "range_df_sliced = range_df['power']['active']['2012-06-01':'2012-09-01']"
     ],
     "language": "python",
     "metadata": {},
     "outputs": [],
     "prompt_number": 9
    },
    {
     "cell_type": "code",
     "collapsed": false,
     "input": [
      "mean_df_sliced.head()"
     ],
     "language": "python",
     "metadata": {},
     "outputs": [
      {
       "metadata": {},
       "output_type": "pyout",
       "prompt_number": 10,
       "text": [
        "2012-06-01 02:00:00+02:00    21.157919\n",
        "2012-06-01 02:15:00+02:00    21.159485\n",
        "2012-06-01 02:30:00+02:00    21.194288\n",
        "2012-06-01 02:45:00+02:00    21.209436\n",
        "2012-06-01 03:00:00+02:00    21.127615\n",
        "Freq: 15T, Name: active, dtype: float32"
       ]
      }
     ],
     "prompt_number": 10
    },
    {
     "cell_type": "code",
     "collapsed": false,
     "input": [
      "mean_df_sliced.plot(kind = 'hist')"
     ],
     "language": "python",
     "metadata": {},
     "outputs": [
      {
       "metadata": {},
       "output_type": "pyout",
       "prompt_number": 11,
       "text": [
        "<matplotlib.axes._subplots.AxesSubplot at 0x108135d10>"
       ]
      },
      {
       "metadata": {},
       "output_type": "display_data",
       "png": "[encoded data removed]",
       "text": [
        "<matplotlib.figure.Figure at 0x10449f690>"
       ]
      }
     ],
     "prompt_number": 11
    },
    {
     "cell_type": "code",
     "collapsed": false,
     "input": [
      "median_df_sliced.plot (kind = 'hist')"
     ],
     "language": "python",
     "metadata": {},
     "outputs": [
      {
       "metadata": {},
       "output_type": "pyout",
       "prompt_number": 12,
       "text": [
        "<matplotlib.axes._subplots.AxesSubplot at 0x10a4ab710>"
       ]
      },
      {
       "metadata": {},
       "output_type": "display_data",
       "png": "[encoded data removed]",
       "text": [
        "<matplotlib.figure.Figure at 0x10a498450>"
       ]
      }
     ],
     "prompt_number": 12
    },
    {
     "cell_type": "code",
     "collapsed": false,
     "input": [
      "threshold_mean = mean_df_sliced.mean()\n",
      "threshold_median = median_df_sliced.mean()\n",
      "threshold_std = std_df_sliced.mean()\n",
      "threshold_range = range_df_sliced.mean()\n",
      "\n",
      "#threshold_mean_range = range(threshold_mean - mean_df_sliced.std(), threshold_mean + mean_df_sliced.std())\n",
      "#threshold_median_range = range(threshold_median - median_df_sliced.std(), threshold_median + median_df_sliced.std())\n",
      "#threshold_std_range = range(threshold_std - std_df_sliced.std(), threshold_std + std_df_sliced.std())\n",
      "#threshold_range_range = range(threshold_range - range_df_sliced.std(), threshold_range + range_df_sliced.std())\n",
      "\n",
      "mean_series = mean_df_sliced > threshold_mean\n",
      "median_series = median_df_sliced > threshold_median\n",
      "std_series = std_df_sliced > threshold_std\n",
      "range_series = range_df_sliced > threshold_range\n",
      "\n",
      "print (mean_series)\n",
      "mean_list = [i for i in mean_series]\n",
      "median_list = [i for i in median_series]\n",
      "std_list = [i for i in std_series]\n",
      "range_list = [i for i in range_series]\n",
      "    \n",
      "truth_list = mean_list or median_list or std_list or range_list\n",
      "indices = pd.DatetimeIndex(start = '2012-06-01', periods = 8920, freq = \"15min\")\n",
      "truth_series = Series (truth_list, index = indices)\n",
      "        \n",
      "    "
     ],
     "language": "python",
     "metadata": {},
     "outputs": [
      {
       "output_type": "stream",
       "stream": "stdout",
       "text": [
        "2012-06-01 02:00:00+02:00    False\n",
        "2012-06-01 02:15:00+02:00    False\n",
        "2012-06-01 02:30:00+02:00    False\n",
        "2012-06-01 02:45:00+02:00    False\n",
        "2012-06-01 03:00:00+02:00    False\n",
        "2012-06-01 03:15:00+02:00    False\n",
        "2012-06-01 03:30:00+02:00    False\n",
        "2012-06-01 03:45:00+02:00    False\n",
        "2012-06-01 04:00:00+02:00    False\n",
        "2012-06-01 04:15:00+02:00    False\n",
        "2012-06-01 04:30:00+02:00    False\n",
        "2012-06-01 04:45:00+02:00    False\n",
        "2012-06-01 05:00:00+02:00    False\n",
        "2012-06-01 05:15:00+02:00    False\n",
        "2012-06-01 05:30:00+02:00    False\n",
        "...\n",
        "2012-09-01 20:15:00+02:00     True\n",
        "2012-09-01 20:30:00+02:00     True\n",
        "2012-09-01 20:45:00+02:00     True\n",
        "2012-09-01 21:00:00+02:00     True\n",
        "2012-09-01 21:15:00+02:00     True\n",
        "2012-09-01 21:30:00+02:00    False\n",
        "2012-09-01 21:45:00+02:00    False\n",
        "2012-09-01 22:00:00+02:00    False\n",
        "2012-09-01 22:15:00+02:00    False\n",
        "2012-09-01 22:30:00+02:00    False\n",
        "2012-09-01 22:45:00+02:00    False\n",
        "2012-09-01 23:00:00+02:00    False\n",
        "2012-09-01 23:15:00+02:00    False\n",
        "2012-09-01 23:30:00+02:00    False\n",
        "2012-09-01 23:45:00+02:00    False\n",
        "Freq: 15T, Name: active, Length: 8920\n"
       ]
      }
     ],
     "prompt_number": 15
    },
    {
     "cell_type": "markdown",
     "metadata": {},
     "source": [
      "Getting ground truth values\n",
      "----------------------------\n",
      "\n",
      "Here, we will use a function to get the ground truth values."
     ]
    },
    {
     "cell_type": "code",
     "collapsed": false,
     "input": [
      "def get_ground_truth(index, dir_path = '/Users/rishi/Documents/Master_folder/IIITD/6th_semester/BTP/NIOMTK/02_occupancy_csv/02_summer.csv'):\n",
      "    df = pd.read_csv(dir_path)\n",
      "    out = []\n",
      "    for i in range(len(df)):\n",
      "        out.append(df.ix[i].values[1:])\n",
      "    out_1d = list(chain.from_iterable(out))\n",
      "    df_new = pd.Series(out_1d, index=index)\n",
      "    return df_new\n",
      "        \n",
      "        "
     ],
     "language": "python",
     "metadata": {},
     "outputs": [],
     "prompt_number": 5
    },
    {
     "cell_type": "code",
     "collapsed": false,
     "input": [],
     "language": "python",
     "metadata": {},
     "outputs": []
    }
   ],
   "metadata": {}
  }
 ]
}