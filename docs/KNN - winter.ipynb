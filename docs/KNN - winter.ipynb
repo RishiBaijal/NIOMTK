{
 "metadata": {
  "name": "",
  "signature": "sha256:70b64071246d4b64377f291b2964856fb74975709eabd01f4545a12cdfd41bd6"
 },
 "nbformat": 3,
 "nbformat_minor": 0,
 "worksheets": [
  {
   "cells": [
    {
     "cell_type": "code",
     "collapsed": false,
     "input": [
      "import numpy as np\n",
      "import pandas as pd\n",
      "from numpy import *\n",
      "from pandas import *\n",
      "import matplotlib\n",
      "import os\n",
      "import os.path\n",
      "from os import *\n",
      "from os.path import *\n",
      "import matplotlib.pyplot as plt\n",
      "from itertools import chain\n",
      "from sklearn import svm, datasets, metrics\n",
      "import random\n",
      "import operator\n",
      "import math\n",
      "%matplotlib inline"
     ],
     "language": "python",
     "metadata": {},
     "outputs": [],
     "prompt_number": 1
    },
    {
     "cell_type": "code",
     "collapsed": false,
     "input": [
      "df = pd.read_csv('/Users/rishi/Documents/Master_folder/IIITD/6th_semester/BTP/NIOMTK/02_occupancy_csv/02_winter.csv')\n",
      "print (len(df))\n",
      "index = pd.DatetimeIndex(start = '2012-11-30', periods = len(df) * 86400, freq = '1s')\n",
      "out = []\n",
      "for i in range(len(df)):\n",
      "    out.append(df.ix[i].values[1:])\n",
      "out_1d = list(chain.from_iterable(out))\n",
      "df_new = pd.Series(out_1d, index = index)\n",
      "df_resampled = df_new.resample(\"15min\")"
     ],
     "language": "python",
     "metadata": {},
     "outputs": [
      {
       "output_type": "stream",
       "stream": "stdout",
       "text": [
        "45\n"
       ]
      }
     ],
     "prompt_number": 3
    },
    {
     "cell_type": "code",
     "collapsed": false,
     "input": [
      "df_resampled.head()"
     ],
     "language": "python",
     "metadata": {},
     "outputs": [
      {
       "metadata": {},
       "output_type": "pyout",
       "prompt_number": 4,
       "text": [
        "2012-11-30 00:00:00    1\n",
        "2012-11-30 00:15:00    1\n",
        "2012-11-30 00:30:00    1\n",
        "2012-11-30 00:45:00    1\n",
        "2012-11-30 01:00:00    1\n",
        "Freq: 15T, dtype: float64"
       ]
      }
     ],
     "prompt_number": 4
    },
    {
     "cell_type": "code",
     "collapsed": false,
     "input": [
      "df_resampled.tail()"
     ],
     "language": "python",
     "metadata": {},
     "outputs": [
      {
       "metadata": {},
       "output_type": "pyout",
       "prompt_number": 5,
       "text": [
        "2013-01-13 22:45:00    1\n",
        "2013-01-13 23:00:00    1\n",
        "2013-01-13 23:15:00    1\n",
        "2013-01-13 23:30:00    1\n",
        "2013-01-13 23:45:00    1\n",
        "Freq: 15T, dtype: float64"
       ]
      }
     ],
     "prompt_number": 5
    },
    {
     "cell_type": "code",
     "collapsed": false,
     "input": [
      "dir_path='/Users/rishi/Documents/Master_folder/IIITD/6th_semester/BTP/NIOMTK_datasets'\n",
      "store=HDFStore(join(dir_path, 'eco.h5'))\n",
      "df=store['/building2/elec/meter2']\n",
      "dataframe = df['power']['active']['2012-11-30':'2013-01-13'].resample('15min')"
     ],
     "language": "python",
     "metadata": {},
     "outputs": [],
     "prompt_number": 9
    },
    {
     "cell_type": "code",
     "collapsed": false,
     "input": [
      "dataframe.head()"
     ],
     "language": "python",
     "metadata": {},
     "outputs": [
      {
       "metadata": {},
       "output_type": "pyout",
       "prompt_number": 10,
       "text": [
        "2012-11-30 00:00:00+01:00    231.409393\n",
        "2012-11-30 00:15:00+01:00    231.097885\n",
        "2012-11-30 00:30:00+01:00    231.161591\n",
        "2012-11-30 00:45:00+01:00    231.036926\n",
        "2012-11-30 01:00:00+01:00     24.860975\n",
        "Freq: 15T, Name: active, dtype: float32"
       ]
      }
     ],
     "prompt_number": 10
    },
    {
     "cell_type": "code",
     "collapsed": false,
     "input": [
      "dataframe_length = len(dataframe.values)\n",
      "df_resampled_length = len(df_resampled.values)\n",
      "lis = []\n",
      "for i in range(len(dataframe.values[:min(dataframe_length, df_resampled_length)])):\n",
      "    if np.isnan(dataframe.values[i]) == False:\n",
      "        lis.append([dataframe.values[i], df_resampled.values[i]])\n",
      "    else:\n",
      "        lis.append([0, df_resampled.values[i]])\n",
      "power_array = np.asarray(lis)"
     ],
     "language": "python",
     "metadata": {},
     "outputs": [],
     "prompt_number": 11
    },
    {
     "cell_type": "code",
     "collapsed": false,
     "input": [
      "def euclideanDistance(instance1, instance2, length):\n",
      "    distance = 0\n",
      "    for i in range(length):\n",
      "        distance += pow((instance1[i] - instance2[i]), 2)\n",
      "    return (math.sqrt(distance))"
     ],
     "language": "python",
     "metadata": {},
     "outputs": [],
     "prompt_number": 12
    },
    {
     "cell_type": "code",
     "collapsed": false,
     "input": [
      "def loadDataset(dataset, split, trainingSet = [], testSet = []):\n",
      "    for x in range(len(dataset) - 1):\n",
      "        for y in range(2):\n",
      "            dataset[x][y] = float(dataset[x][y])\n",
      "        a = random.random()\n",
      "        if  a < split:\n",
      "            trainingSet.append(dataset[x])\n",
      "        else:\n",
      "            testSet.append(dataset[x])"
     ],
     "language": "python",
     "metadata": {},
     "outputs": [],
     "prompt_number": 13
    },
    {
     "cell_type": "code",
     "collapsed": false,
     "input": [
      "def getNeighbours(trainingSet, testInstance, k):\n",
      "    distances = []\n",
      "    length = len(testInstance) - 1\n",
      "    for x in range(len(trainingSet)):\n",
      "        dist = euclideanDistance(testInstance, trainingSet[x], length)\n",
      "        distances.append((trainingSet[x], dist))\n",
      "    neighbours = []\n",
      "    for i in range(k):\n",
      "        neighbours.append(distances[i][0])\n",
      "    return neighbours"
     ],
     "language": "python",
     "metadata": {},
     "outputs": [],
     "prompt_number": 14
    },
    {
     "cell_type": "code",
     "collapsed": false,
     "input": [
      "def getResponse(neighbours):\n",
      "    votes = {}\n",
      "    for i in range(len(neighbours)):\n",
      "        response = neighbours[i][-1]\n",
      "        if response in votes:\n",
      "            votes[response] +=1\n",
      "        else:\n",
      "            votes[response] = 1\n",
      "    sortedVotes = sorted(votes.iteritems(), key = operator.itemgetter(1), reverse = True)\n",
      "    return sortedVotes[0][0]"
     ],
     "language": "python",
     "metadata": {},
     "outputs": [],
     "prompt_number": 15
    },
    {
     "cell_type": "code",
     "collapsed": false,
     "input": [
      "def getAccuracy(testSet, predictions):\n",
      "    correct = 0\n",
      "    for x in range(len(testSet)):\n",
      "        if int(testSet[x][-1]) == int(predictions[x]):\n",
      "            correct += 1\n",
      "    return (correct/float(len(testSet))) * 100.0\n",
      "\n",
      "def getStats(testSet, predictions):\n",
      "    tp = 0\n",
      "    tn = 0\n",
      "    fp = 0\n",
      "    fn = 0\n",
      "    for x in range(len(testSet)):\n",
      "        if int(testSet[x][-1]) == 1 and int(predictions[x]) == 1:\n",
      "            tp+=1\n",
      "        elif (int(testSet[x][-1]) == 0 and int(predictions[x]) == 1):\n",
      "            fp+=1\n",
      "        elif (int(testSet[x][-1]) == 1 and int(predictions[x]) == 0):\n",
      "            fn+=1\n",
      "        else:\n",
      "            tn+=1\n",
      "    print \"TP = \", tp\n",
      "    print \"TN = \", tn\n",
      "    print \"FP = \", fp\n",
      "    print \"FN = \", fn\n",
      "    print \"Accuracy = \", (tp + tn + 0.0)/(tp + tn + fp + fn)\n",
      "    print \"Precision = \", (tp + 0.0)/ (tp + fp)\n",
      "    print \"Recall = \", (tp + 0.0)/(tp + fn)"
     ],
     "language": "python",
     "metadata": {},
     "outputs": [],
     "prompt_number": 16
    },
    {
     "cell_type": "code",
     "collapsed": false,
     "input": [
      "def main():\n",
      "    trainingSet = []\n",
      "    testSet = []\n",
      "    split = 0.67\n",
      "    loadDataset(power_array, split, trainingSet, testSet)\n",
      "    print 'Training set: ' + repr(len(trainingSet))\n",
      "    print 'Test set: ' + repr(len(testSet))\n",
      "    predictions = []\n",
      "    k = 3\n",
      "    for x in range(len(testSet)):\n",
      "        neighbours = getNeighbours(trainingSet, testSet[x], k)\n",
      "        result = getResponse(neighbours)\n",
      "        predictions.append(result)\n",
      "        print('> predicted=' + repr(result) + ', actual=' + repr(testSet[x][-1]))\n",
      "    getStats(testSet, predictions)"
     ],
     "language": "python",
     "metadata": {},
     "outputs": [],
     "prompt_number": 17
    },
    {
     "cell_type": "code",
     "collapsed": false,
     "input": [
      "main()"
     ],
     "language": "python",
     "metadata": {},
     "outputs": [
      {
       "output_type": "stream",
       "stream": "stdout",
       "text": [
        "Training set: 2824\n",
        "Test set: 1495\n",
        "> predicted=1.0, actual=1.0"
       ]
      },
      {
       "output_type": "stream",
       "stream": "stdout",
       "text": [
        "\n",
        "> predicted=1.0, actual=1.0"
       ]
      },
      {
       "output_type": "stream",
       "stream": "stdout",
       "text": [
        "\n",
        "> predicted=1.0, actual=1.0\n",
        "> predicted=1.0, actual=1.0\n",
        "> predicted=1.0, actual=1.0\n",
        "> predicted=1.0, actual=1.0\n",
        "> predicted=1.0, actual=1.0"
       ]
      },
      {
       "output_type": "stream",
       "stream": "stdout",
       "text": [
        "\n",
        "> predicted=1.0, actual=1.0\n",
        "> predicted=1.0, actual=1.0\n",
        "> predicted=1.0, actual=1.0\n",
        "> predicted=1.0, actual=1.0\n",
        "> predicted=1.0, actual=1.0\n",
        "> predicted=1.0, actual=1.0"
       ]
      },
      {
       "output_type": "stream",
       "stream": "stdout",
       "text": [
        "\n",
        "> predicted=1.0, actual=1.0\n",
        "> predicted=1.0, actual=0.25888888888888889\n",
        "> predicted=1.0, actual=0.0\n",
        "> predicted=1.0, actual=0.0\n",
        "> predicted=1.0, actual=0.0"
       ]
      },
      {
       "output_type": "stream",
       "stream": "stdout",
       "text": [
        "\n",
        "> predicted=1.0, actual=0.0\n",
        "> predicted=1.0, actual=0.0\n",
        "> predicted=1.0, actual=1.0\n",
        "> predicted=1.0, actual=1.0\n",
        "> predicted=1.0, actual=1.0\n",
        "> predicted=1.0, actual=1.0"
       ]
      },
      {
       "output_type": "stream",
       "stream": "stdout",
       "text": [
        "\n",
        "> predicted=1.0, actual=1.0\n",
        "> predicted=1.0, actual=1.0\n",
        "> predicted=1.0, actual=1.0"
       ]
      },
      {
       "output_type": "stream",
       "stream": "stdout",
       "text": [
        "\n",
        "> predicted=1.0, actual=1.0\n",
        "> predicted=1.0, actual=1.0\n",
        "> predicted=1.0, actual=1.0\n",
        "> predicted=1.0, actual=1.0\n",
        "> predicted=1.0, actual=1.0"
       ]
      },
      {
       "output_type": "stream",
       "stream": "stdout",
       "text": [
        "\n",
        "> predicted=1.0, actual=1.0\n",
        "> predicted=1.0, actual=1.0\n",
        "> predicted=1.0, actual=1.0\n",
        "> predicted=1.0, actual=1.0\n",
        "> predicted=1.0, actual=1.0\n",
        "> predicted=1.0, actual=1.0"
       ]
      },
      {
       "output_type": "stream",
       "stream": "stdout",
       "text": [
        "\n",
        "> predicted=1.0, actual=1.0\n",
        "> predicted=1.0, actual=1.0\n",
        "> predicted=1.0, actual=1.0\n",
        "> predicted=1.0, actual=1.0\n",
        "> predicted=1.0, actual=1.0"
       ]
      },
      {
       "output_type": "stream",
       "stream": "stdout",
       "text": [
        "\n",
        "> predicted=1.0, actual=1.0\n",
        "> predicted=1.0, actual=1.0\n",
        "> predicted=1.0, actual=1.0\n",
        "> predicted=1.0, actual=0.0\n",
        "> predicted=1.0, actual=0.0\n",
        "> predicted=1.0, actual=0.0"
       ]
      },
      {
       "output_type": "stream",
       "stream": "stdout",
       "text": [
        "\n",
        "> predicted=1.0, actual=0.0\n",
        "> predicted=1.0, actual=0.0"
       ]
      },
      {
       "output_type": "stream",
       "stream": "stdout",
       "text": [
        "\n",
        "> predicted=1.0, actual=0.0\n",
        "> predicted=1.0, actual=0.0\n",
        "> predicted=1.0, actual=0.0\n",
        "> predicted=1.0, actual=0.0\n",
        "> predicted=1.0, actual=0.0\n",
        "> predicted=1.0, actual=0.0"
       ]
      },
      {
       "output_type": "stream",
       "stream": "stdout",
       "text": [
        "\n",
        "> predicted=1.0, actual=1.0\n",
        "> predicted=1.0, actual=1.0\n",
        "> predicted=1.0, actual=1.0\n",
        "> predicted=1.0, actual=1.0\n",
        "> predicted=1.0, actual=1.0\n",
        "> predicted=1.0, actual=1.0"
       ]
      },
      {
       "output_type": "stream",
       "stream": "stdout",
       "text": [
        "\n",
        "> predicted=1.0, actual=1.0\n",
        "> predicted=1.0, actual=1.0\n",
        "> predicted=1.0, actual=1.0\n",
        "> predicted=1.0, actual=1.0\n",
        "> predicted=1.0, actual=1.0"
       ]
      },
      {
       "output_type": "stream",
       "stream": "stdout",
       "text": [
        "\n",
        "> predicted=1.0, actual=1.0\n",
        "> predicted=1.0, actual=1.0\n",
        "> predicted=1.0, actual=1.0\n",
        "> predicted=1.0, actual=1.0\n",
        "> predicted=1.0, actual=1.0"
       ]
      },
      {
       "output_type": "stream",
       "stream": "stdout",
       "text": [
        "\n",
        "> predicted=1.0, actual=1.0\n",
        "> predicted=1.0, actual=1.0\n",
        "> predicted=1.0, actual=1.0\n",
        "> predicted=1.0, actual=1.0\n",
        "> predicted=1.0, actual=1.0\n",
        "> predicted=1.0, actual=1.0"
       ]
      },
      {
       "output_type": "stream",
       "stream": "stdout",
       "text": [
        "\n",
        "> predicted=1.0, actual=1.0\n",
        "> predicted=1.0, actual=1.0\n",
        "> predicted=1.0, actual=1.0\n",
        "> predicted=1.0, actual=0.40666666666666668\n",
        "> predicted=1.0, actual=0.0\n",
        "> predicted=1.0, actual=0.0"
       ]
      },
      {
       "output_type": "stream",
       "stream": "stdout",
       "text": [
        "\n",
        "> predicted=1.0, actual=0.0\n",
        "> predicted=1.0, actual=0.0\n",
        "> predicted=1.0, actual=0.0\n",
        "> predicted=1.0, actual=0.0\n",
        "> predicted=1.0, actual=0.0\n",
        "> predicted=1.0, actual=0.0"
       ]
      },
      {
       "output_type": "stream",
       "stream": "stdout",
       "text": [
        "\n",
        "> predicted=1.0, actual=0.0\n",
        "> predicted=1.0, actual=0.0\n",
        "> predicted=1.0, actual=1.0\n",
        "> predicted=1.0, actual=1.0\n",
        "> predicted=1.0, actual=1.0\n",
        "> predicted=1.0, actual=1.0"
       ]
      },
      {
       "output_type": "stream",
       "stream": "stdout",
       "text": [
        "\n",
        "> predicted=1.0, actual=1.0\n",
        "> predicted=1.0, actual=1.0\n",
        "> predicted=1.0, actual=1.0\n",
        "> predicted=1.0, actual=1.0\n",
        "> predicted=1.0, actual=1.0\n",
        "> predicted=1.0, actual=1.0"
       ]
      },
      {
       "output_type": "stream",
       "stream": "stdout",
       "text": [
        "\n",
        "> predicted=1.0, actual=1.0\n",
        "> predicted=1.0, actual=1.0\n",
        "> predicted=1.0, actual=1.0\n",
        "> predicted=1.0, actual=1.0\n",
        "> predicted=1.0, actual=1.0\n",
        "> predicted=1.0, actual=1.0"
       ]
      },
      {
       "output_type": "stream",
       "stream": "stdout",
       "text": [
        "\n",
        "> predicted=1.0, actual=0.0\n",
        "> predicted=1.0, actual=0.0\n",
        "> predicted=1.0, actual=0.0\n",
        "> predicted=1.0, actual=0.0\n",
        "> predicted=1.0, actual=0.0\n",
        "> predicted=1.0, actual=0.0"
       ]
      },
      {
       "output_type": "stream",
       "stream": "stdout",
       "text": [
        "\n",
        "> predicted=1.0, actual=0.0\n",
        "> predicted=1.0, actual=0.37888888888888889\n",
        "> predicted=1.0, actual=1.0\n",
        "> predicted=1.0, actual=1.0\n",
        "> predicted=1.0, actual=1.0\n",
        "> predicted=1.0, actual=1.0"
       ]
      },
      {
       "output_type": "stream",
       "stream": "stdout",
       "text": [
        "\n",
        "> predicted=1.0, actual=1.0\n",
        "> predicted=1.0, actual=1.0\n",
        "> predicted=1.0, actual=1.0\n",
        "> predicted=1.0, actual=1.0"
       ]
      },
      {
       "output_type": "stream",
       "stream": "stdout",
       "text": [
        "\n",
        "> predicted=1.0, actual=1.0\n",
        "> predicted=1.0, actual=1.0\n",
        "> predicted=1.0, actual=1.0\n",
        "> predicted=1.0, actual=1.0\n",
        "> predicted=1.0, actual=1.0\n",
        "> predicted=1.0, actual=1.0"
       ]
      },
      {
       "output_type": "stream",
       "stream": "stdout",
       "text": [
        "\n",
        "> predicted=1.0, actual=1.0\n",
        "> predicted=1.0, actual=1.0\n",
        "> predicted=1.0, actual=1.0\n",
        "> predicted=1.0, actual=1.0\n",
        "> predicted=1.0, actual=1.0\n",
        "> predicted=1.0, actual=1.0"
       ]
      },
      {
       "output_type": "stream",
       "stream": "stdout",
       "text": [
        "\n",
        "> predicted=1.0, actual=1.0\n",
        "> predicted=1.0, actual=1.0\n",
        "> predicted=1.0, actual=1.0\n",
        "> predicted=1.0, actual=1.0\n",
        "> predicted=1.0, actual=0.83333333333333337\n",
        "> predicted=1.0, actual=0.0\n",
        "> predicted=1.0, actual=0.0"
       ]
      },
      {
       "output_type": "stream",
       "stream": "stdout",
       "text": [
        "\n",
        "> predicted=1.0, actual=0.0\n",
        "> predicted=1.0, actual=0.0\n",
        "> predicted=1.0, actual=0.0\n",
        "> predicted=1.0, actual=0.0\n",
        "> predicted=1.0, actual=0.0\n",
        "> predicted=1.0, actual=0.0"
       ]
      },
      {
       "output_type": "stream",
       "stream": "stdout",
       "text": [
        "\n",
        "> predicted=1.0, actual=0.0\n",
        "> predicted=1.0, actual=0.0\n",
        "> predicted=1.0, actual=0.0\n",
        "> predicted=1.0, actual=0.0\n",
        "> predicted=1.0, actual=0.0"
       ]
      },
      {
       "output_type": "stream",
       "stream": "stdout",
       "text": [
        "\n",
        "> predicted=1.0, actual=0.0\n",
        "> predicted=1.0, actual=0.60888888888888892\n",
        "> predicted=1.0, actual=1.0\n",
        "> predicted=1.0, actual=1.0\n",
        "> predicted=1.0, actual=1.0\n",
        "> predicted=1.0, actual=1.0"
       ]
      },
      {
       "output_type": "stream",
       "stream": "stdout",
       "text": [
        "\n",
        "> predicted=1.0, actual=1.0\n",
        "> predicted=1.0, actual=1.0\n",
        "> predicted=1.0, actual=1.0\n",
        "> predicted=1.0, actual=1.0\n",
        "> predicted=1.0, actual=1.0\n",
        "> predicted=1.0, actual=1.0"
       ]
      },
      {
       "output_type": "stream",
       "stream": "stdout",
       "text": [
        "\n",
        "> predicted=1.0, actual=1.0\n",
        "> predicted=1.0, actual=1.0\n",
        "> predicted=1.0, actual=1.0\n",
        "> predicted=1.0, actual=1.0\n",
        "> predicted=1.0, actual=1.0\n",
        "> predicted=1.0, actual=1.0\n",
        "> predicted=1.0, actual=1.0"
       ]
      },
      {
       "output_type": "stream",
       "stream": "stdout",
       "text": [
        "\n",
        "> predicted=1.0, actual=1.0\n",
        "> predicted=1.0, actual=1.0\n",
        "> predicted=1.0, actual=1.0\n",
        "> predicted=1.0, actual=1.0\n",
        "> predicted=1.0, actual=1.0\n",
        "> predicted=1.0, actual=1.0"
       ]
      },
      {
       "output_type": "stream",
       "stream": "stdout",
       "text": [
        "\n",
        "> predicted=1.0, actual=1.0\n",
        "> predicted=1.0, actual=1.0\n",
        "> predicted=1.0, actual=0.21777777777777776\n",
        "> predicted=1.0, actual=0.0\n",
        "> predicted=1.0, actual=0.0\n",
        "> predicted=1.0, actual=0.0"
       ]
      },
      {
       "output_type": "stream",
       "stream": "stdout",
       "text": [
        "\n",
        "> predicted=1.0, actual=0.0\n",
        "> predicted=1.0, actual=0.0\n",
        "> predicted=1.0, actual=0.0\n",
        "> predicted=1.0, actual=0.0\n",
        "> predicted=1.0, actual=0.0\n",
        "> predicted=1.0, actual=0.0"
       ]
      },
      {
       "output_type": "stream",
       "stream": "stdout",
       "text": [
        "\n",
        "> predicted=1.0, actual=0.0\n",
        "> predicted=1.0, actual=0.0\n",
        "> predicted=1.0, actual=0.0\n",
        "> predicted=1.0, actual=0.0\n",
        "> predicted=1.0, actual=0.0\n",
        "> predicted=1.0, actual=0.0"
       ]
      },
      {
       "output_type": "stream",
       "stream": "stdout",
       "text": [
        "\n",
        "> predicted=1.0, actual=1.0\n",
        "> predicted=1.0, actual=1.0\n",
        "> predicted=1.0, actual=1.0\n",
        "> predicted=1.0, actual=1.0\n",
        "> predicted=1.0, actual=1.0"
       ]
      },
      {
       "output_type": "stream",
       "stream": "stdout",
       "text": [
        "\n",
        "> predicted=1.0, actual=1.0\n",
        "> predicted=1.0, actual=1.0\n",
        "> predicted=1.0, actual=1.0\n",
        "> predicted=1.0, actual=1.0"
       ]
      },
      {
       "output_type": "stream",
       "stream": "stdout",
       "text": [
        "\n",
        "> predicted=1.0, actual=1.0\n",
        "> predicted=1.0, actual=1.0\n",
        "> predicted=1.0, actual=1.0\n",
        "> predicted=1.0, actual=1.0\n",
        "> predicted=1.0, actual=1.0"
       ]
      },
      {
       "output_type": "stream",
       "stream": "stdout",
       "text": [
        "\n",
        "> predicted=1.0, actual=1.0\n",
        "> predicted=1.0, actual=1.0\n",
        "> predicted=1.0, actual=1.0\n",
        "> predicted=1.0, actual=1.0\n",
        "> predicted=1.0, actual=1.0"
       ]
      },
      {
       "output_type": "stream",
       "stream": "stdout",
       "text": [
        "\n",
        "> predicted=1.0, actual=1.0\n",
        "> predicted=1.0, actual=1.0\n",
        "> predicted=1.0, actual=1.0\n",
        "> predicted=1.0, actual=1.0\n",
        "> predicted=1.0, actual=1.0"
       ]
      },
      {
       "output_type": "stream",
       "stream": "stdout",
       "text": [
        "\n",
        "> predicted=1.0, actual=1.0\n",
        "> predicted=1.0, actual=1.0\n",
        "> predicted=1.0, actual=1.0\n",
        "> predicted=1.0, actual=0.0\n",
        "> predicted=1.0, actual=1.0\n",
        "> predicted=1.0, actual=1.0"
       ]
      },
      {
       "output_type": "stream",
       "stream": "stdout",
       "text": [
        "\n",
        "> predicted=1.0, actual=1.0\n",
        "> predicted=1.0, actual=1.0\n",
        "> predicted=1.0, actual=1.0\n",
        "> predicted=1.0, actual=1.0\n",
        "> predicted=1.0, actual=1.0\n",
        "> predicted=1.0, actual=1.0"
       ]
      },
      {
       "output_type": "stream",
       "stream": "stdout",
       "text": [
        "\n",
        "> predicted=1.0, actual=1.0\n",
        "> predicted=1.0, actual=1.0\n",
        "> predicted=1.0, actual=1.0\n",
        "> predicted=1.0, actual=1.0\n",
        "> predicted=1.0, actual=1.0\n",
        "> predicted=1.0, actual=1.0"
       ]
      },
      {
       "output_type": "stream",
       "stream": "stdout",
       "text": [
        "\n",
        "> predicted=1.0, actual=1.0\n",
        "> predicted=1.0, actual=1.0\n",
        "> predicted=1.0, actual=1.0\n",
        "> predicted=1.0, actual=1.0\n",
        "> predicted=1.0, actual=1.0\n",
        "> predicted=1.0, actual=1.0\n",
        "> predicted=1.0, actual=1.0"
       ]
      },
      {
       "output_type": "stream",
       "stream": "stdout",
       "text": [
        "\n",
        "> predicted=1.0, actual=1.0\n",
        "> predicted=1.0, actual=1.0\n",
        "> predicted=1.0, actual=1.0\n",
        "> predicted=1.0, actual=1.0"
       ]
      },
      {
       "output_type": "stream",
       "stream": "stdout",
       "text": [
        "\n",
        "> predicted=1.0, actual=1.0\n",
        "> predicted=1.0, actual=1.0\n",
        "> predicted=1.0, actual=1.0\n",
        "> predicted=1.0, actual=1.0\n",
        "> predicted=1.0, actual=1.0"
       ]
      },
      {
       "output_type": "stream",
       "stream": "stdout",
       "text": [
        "\n",
        "> predicted=1.0, actual=1.0\n",
        "> predicted=1.0, actual=0.24111111111111111\n",
        "> predicted=1.0, actual=0.0\n",
        "> predicted=1.0, actual=0.0\n",
        "> predicted=1.0, actual=0.0"
       ]
      },
      {
       "output_type": "stream",
       "stream": "stdout",
       "text": [
        "\n",
        "> predicted=1.0, actual=0.0\n",
        "> predicted=1.0, actual=0.0\n",
        "> predicted=1.0, actual=1.0\n",
        "> predicted=1.0, actual=1.0\n",
        "> predicted=1.0, actual=1.0"
       ]
      },
      {
       "output_type": "stream",
       "stream": "stdout",
       "text": [
        "\n",
        "> predicted=1.0, actual=0.0\n",
        "> predicted=1.0, actual=0.0\n",
        "> predicted=1.0, actual=0.0\n",
        "> predicted=1.0, actual=1.0\n",
        "> predicted=1.0, actual=1.0\n",
        "> predicted=1.0, actual=1.0"
       ]
      },
      {
       "output_type": "stream",
       "stream": "stdout",
       "text": [
        "\n",
        "> predicted=1.0, actual=1.0\n",
        "> predicted=1.0, actual=1.0\n",
        "> predicted=1.0, actual=1.0\n",
        "> predicted=1.0, actual=1.0\n",
        "> predicted=1.0, actual=1.0\n",
        "> predicted=1.0, actual=1.0"
       ]
      },
      {
       "output_type": "stream",
       "stream": "stdout",
       "text": [
        "\n",
        "> predicted=1.0, actual=1.0\n",
        "> predicted=1.0, actual=1.0\n",
        "> predicted=1.0, actual=1.0\n",
        "> predicted=1.0, actual=1.0\n",
        "> predicted=1.0, actual=0.64000000000000001"
       ]
      },
      {
       "output_type": "stream",
       "stream": "stdout",
       "text": [
        "\n",
        "> predicted=1.0, actual=0.0\n",
        "> predicted=1.0, actual=0.0\n",
        "> predicted=1.0, actual=0.0\n",
        "> predicted=1.0, actual=0.0\n",
        "> predicted=1.0, actual=0.0"
       ]
      },
      {
       "output_type": "stream",
       "stream": "stdout",
       "text": [
        "\n",
        "> predicted=1.0, actual=0.0\n",
        "> predicted=1.0, actual=0.0\n",
        "> predicted=1.0, actual=0.0\n",
        "> predicted=1.0, actual=0.0"
       ]
      },
      {
       "output_type": "stream",
       "stream": "stdout",
       "text": [
        "\n",
        "> predicted=1.0, actual=1.0\n",
        "> predicted=1.0, actual=1.0\n",
        "> predicted=1.0, actual=1.0\n",
        "> predicted=1.0, actual=1.0"
       ]
      },
      {
       "output_type": "stream",
       "stream": "stdout",
       "text": [
        "\n",
        "> predicted=1.0, actual=1.0\n",
        "> predicted=1.0, actual=1.0\n",
        "> predicted=1.0, actual=1.0\n",
        "> predicted=1.0, actual=1.0\n",
        "> predicted=1.0, actual=1.0"
       ]
      },
      {
       "output_type": "stream",
       "stream": "stdout",
       "text": [
        "\n",
        "> predicted=1.0, actual=1.0\n",
        "> predicted=1.0, actual=1.0\n",
        "> predicted=1.0, actual=1.0\n",
        "> predicted=1.0, actual=1.0"
       ]
      },
      {
       "output_type": "stream",
       "stream": "stdout",
       "text": [
        "\n",
        "> predicted=1.0, actual=1.0\n",
        "> predicted=1.0, actual=1.0\n",
        "> predicted=1.0, actual=1.0\n",
        "> predicted=1.0, actual=1.0"
       ]
      },
      {
       "output_type": "stream",
       "stream": "stdout",
       "text": [
        "\n",
        "> predicted=1.0, actual=1.0\n",
        "> predicted=1.0, actual=1.0\n",
        "> predicted=1.0, actual=1.0\n",
        "> predicted=1.0, actual=1.0\n",
        "> predicted=1.0, actual=1.0\n",
        "> predicted=1.0, actual=1.0"
       ]
      },
      {
       "output_type": "stream",
       "stream": "stdout",
       "text": [
        "\n",
        "> predicted=1.0, actual=1.0\n",
        "> predicted=1.0, actual=1.0\n",
        "> predicted=1.0, actual=1.0\n",
        "> predicted=1.0, actual=1.0\n",
        "> predicted=1.0, actual=0.48888888888888887\n",
        "> predicted=1.0, actual=0.0"
       ]
      },
      {
       "output_type": "stream",
       "stream": "stdout",
       "text": [
        "\n",
        "> predicted=1.0, actual=0.0\n",
        "> predicted=1.0, actual=0.0\n",
        "> predicted=1.0, actual=0.0"
       ]
      },
      {
       "output_type": "stream",
       "stream": "stdout",
       "text": [
        "\n",
        "> predicted=1.0, actual=0.0\n",
        "> predicted=1.0, actual=0.0\n",
        "> predicted=1.0, actual=0.0"
       ]
      },
      {
       "output_type": "stream",
       "stream": "stdout",
       "text": [
        "\n",
        "> predicted=1.0, actual=0.0\n",
        "> predicted=1.0, actual=0.0\n",
        "> predicted=1.0, actual=0.0\n",
        "> predicted=1.0, actual=0.64666666666666661"
       ]
      },
      {
       "output_type": "stream",
       "stream": "stdout",
       "text": [
        "\n",
        "> predicted=1.0, actual=1.0\n",
        "> predicted=1.0, actual=1.0\n",
        "> predicted=1.0, actual=1.0\n",
        "> predicted=1.0, actual=1.0"
       ]
      },
      {
       "output_type": "stream",
       "stream": "stdout",
       "text": [
        "\n",
        "> predicted=1.0, actual=1.0\n",
        "> predicted=1.0, actual=1.0\n",
        "> predicted=1.0, actual=1.0"
       ]
      },
      {
       "output_type": "stream",
       "stream": "stdout",
       "text": [
        "\n",
        "> predicted=1.0, actual=1.0\n",
        "> predicted=1.0, actual=1.0\n",
        "> predicted=1.0, actual=1.0\n",
        "> predicted=1.0, actual=1.0\n",
        "> predicted=1.0, actual=1.0"
       ]
      },
      {
       "output_type": "stream",
       "stream": "stdout",
       "text": [
        "\n",
        "> predicted=1.0, actual=1.0\n",
        "> predicted=1.0, actual=1.0\n",
        "> predicted=1.0, actual=1.0\n",
        "> predicted=1.0, actual=1.0"
       ]
      },
      {
       "output_type": "stream",
       "stream": "stdout",
       "text": [
        "\n",
        "> predicted=1.0, actual=1.0\n",
        "> predicted=1.0, actual=1.0\n",
        "> predicted=1.0, actual=1.0\n",
        "> predicted=1.0, actual=1.0"
       ]
      },
      {
       "output_type": "stream",
       "stream": "stdout",
       "text": [
        "\n",
        "> predicted=1.0, actual=1.0\n",
        "> predicted=1.0, actual=1.0\n",
        "> predicted=1.0, actual=1.0"
       ]
      },
      {
       "output_type": "stream",
       "stream": "stdout",
       "text": [
        "\n",
        "> predicted=1.0, actual=1.0\n",
        "> predicted=1.0, actual=1.0\n",
        "> predicted=1.0, actual=1.0\n",
        "> predicted=1.0, actual=1.0"
       ]
      },
      {
       "output_type": "stream",
       "stream": "stdout",
       "text": [
        "\n",
        "> predicted=1.0, actual=1.0\n",
        "> predicted=1.0, actual=1.0\n",
        "> predicted=1.0, actual=0.42999999999999999\n",
        "> predicted=1.0, actual=0.0"
       ]
      },
      {
       "output_type": "stream",
       "stream": "stdout",
       "text": [
        "\n",
        "> predicted=1.0, actual=0.0\n",
        "> predicted=1.0, actual=0.0\n",
        "> predicted=1.0, actual=0.0\n",
        "> predicted=1.0, actual=0.0"
       ]
      },
      {
       "output_type": "stream",
       "stream": "stdout",
       "text": [
        "\n",
        "> predicted=1.0, actual=0.0\n",
        "> predicted=1.0, actual=0.0\n",
        "> predicted=1.0, actual=0.0\n",
        "> predicted=1.0, actual=0.0"
       ]
      },
      {
       "output_type": "stream",
       "stream": "stdout",
       "text": [
        "\n",
        "> predicted=1.0, actual=0.0\n",
        "> predicted=1.0, actual=0.0\n",
        "> predicted=1.0, actual=0.0"
       ]
      },
      {
       "output_type": "stream",
       "stream": "stdout",
       "text": [
        "\n",
        "> predicted=1.0, actual=1.0\n",
        "> predicted=1.0, actual=1.0\n",
        "> predicted=1.0, actual=1.0\n",
        "> predicted=1.0, actual=1.0\n",
        "> predicted=1.0, actual=1.0"
       ]
      },
      {
       "output_type": "stream",
       "stream": "stdout",
       "text": [
        "\n",
        "> predicted=1.0, actual=1.0\n",
        "> predicted=1.0, actual=1.0\n",
        "> predicted=1.0, actual=1.0\n",
        "> predicted=1.0, actual=1.0"
       ]
      },
      {
       "output_type": "stream",
       "stream": "stdout",
       "text": [
        "\n",
        "> predicted=1.0, actual=1.0\n",
        "> predicted=1.0, actual=1.0\n",
        "> predicted=1.0, actual=1.0\n",
        "> predicted=1.0, actual=1.0"
       ]
      },
      {
       "output_type": "stream",
       "stream": "stdout",
       "text": [
        "\n",
        "> predicted=1.0, actual=1.0\n",
        "> predicted=1.0, actual=1.0"
       ]
      },
      {
       "output_type": "stream",
       "stream": "stdout",
       "text": [
        "\n",
        "> predicted=1.0, actual=1.0\n",
        "> predicted=1.0, actual=1.0\n",
        "> predicted=1.0, actual=1.0\n",
        "> predicted=1.0, actual=1.0"
       ]
      },
      {
       "output_type": "stream",
       "stream": "stdout",
       "text": [
        "\n",
        "> predicted=1.0, actual=1.0\n",
        "> predicted=1.0, actual=1.0\n",
        "> predicted=1.0, actual=1.0\n",
        "> predicted=1.0, actual=1.0\n",
        "> predicted=1.0, actual=1.0\n",
        "> predicted=1.0, actual=1.0"
       ]
      },
      {
       "output_type": "stream",
       "stream": "stdout",
       "text": [
        "\n",
        "> predicted=1.0, actual=1.0\n",
        "> predicted=1.0, actual=1.0\n",
        "> predicted=1.0, actual=1.0\n",
        "> predicted=1.0, actual=1.0\n",
        "> predicted=1.0, actual=1.0\n",
        "> predicted=1.0, actual=1.0"
       ]
      },
      {
       "output_type": "stream",
       "stream": "stdout",
       "text": [
        "\n",
        "> predicted=1.0, actual=1.0\n",
        "> predicted=1.0, actual=1.0\n",
        "> predicted=1.0, actual=1.0\n",
        "> predicted=1.0, actual=0.10222222222222223\n",
        "> predicted=1.0, actual=0.0\n",
        "> predicted=1.0, actual=0.0"
       ]
      },
      {
       "output_type": "stream",
       "stream": "stdout",
       "text": [
        "\n",
        "> predicted=1.0, actual=0.89666666666666661\n",
        "> predicted=1.0, actual=1.0\n",
        "> predicted=1.0, actual=1.0\n",
        "> predicted=1.0, actual=1.0\n",
        "> predicted=1.0, actual=1.0\n",
        "> predicted=1.0, actual=1.0"
       ]
      },
      {
       "output_type": "stream",
       "stream": "stdout",
       "text": [
        "\n",
        "> predicted=1.0, actual=1.0\n",
        "> predicted=1.0, actual=1.0\n",
        "> predicted=1.0, actual=1.0\n",
        "> predicted=1.0, actual=1.0\n",
        "> predicted=1.0, actual=1.0\n",
        "> predicted=1.0, actual=1.0\n",
        "> predicted=1.0, actual=1.0"
       ]
      },
      {
       "output_type": "stream",
       "stream": "stdout",
       "text": [
        "\n",
        "> predicted=1.0, actual=1.0\n",
        "> predicted=1.0, actual=1.0\n",
        "> predicted=1.0, actual=1.0\n",
        "> predicted=1.0, actual=0.0\n",
        "> predicted=1.0, actual=0.0\n",
        "> predicted=1.0, actual=0.0"
       ]
      },
      {
       "output_type": "stream",
       "stream": "stdout",
       "text": [
        "\n",
        "> predicted=1.0, actual=0.0\n",
        "> predicted=1.0, actual=0.0\n",
        "> predicted=1.0, actual=0.0\n",
        "> predicted=1.0, actual=0.0\n",
        "> predicted=1.0, actual=0.0"
       ]
      },
      {
       "output_type": "stream",
       "stream": "stdout",
       "text": [
        "\n",
        "> predicted=1.0, actual=0.0\n",
        "> predicted=1.0, actual=0.0\n",
        "> predicted=1.0, actual=0.0\n",
        "> predicted=1.0, actual=0.0"
       ]
      },
      {
       "output_type": "stream",
       "stream": "stdout",
       "text": [
        "\n",
        "> predicted=1.0, actual=0.0\n",
        "> predicted=1.0, actual=0.0\n",
        "> predicted=1.0, actual=0.0\n",
        "> predicted=1.0, actual=0.0"
       ]
      },
      {
       "output_type": "stream",
       "stream": "stdout",
       "text": [
        "\n",
        "> predicted=1.0, actual=0.0\n",
        "> predicted=1.0, actual=0.0\n",
        "> predicted=1.0, actual=0.89333333333333331\n",
        "> predicted=1.0, actual=1.0"
       ]
      },
      {
       "output_type": "stream",
       "stream": "stdout",
       "text": [
        "\n",
        "> predicted=1.0, actual=1.0\n",
        "> predicted=1.0, actual=1.0\n",
        "> predicted=1.0, actual=1.0\n",
        "> predicted=1.0, actual=1.0"
       ]
      },
      {
       "output_type": "stream",
       "stream": "stdout",
       "text": [
        "\n",
        "> predicted=1.0, actual=1.0\n",
        "> predicted=1.0, actual=1.0\n",
        "> predicted=1.0, actual=1.0\n",
        "> predicted=1.0, actual=1.0\n",
        "> predicted=1.0, actual=1.0"
       ]
      },
      {
       "output_type": "stream",
       "stream": "stdout",
       "text": [
        "\n",
        "> predicted=1.0, actual=1.0\n",
        "> predicted=1.0, actual=1.0\n",
        "> predicted=1.0, actual=1.0\n",
        "> predicted=1.0, actual=1.0\n",
        "> predicted=1.0, actual=1.0"
       ]
      },
      {
       "output_type": "stream",
       "stream": "stdout",
       "text": [
        "\n",
        "> predicted=1.0, actual=1.0\n",
        "> predicted=1.0, actual=1.0\n",
        "> predicted=1.0, actual=1.0\n",
        "> predicted=1.0, actual=1.0"
       ]
      },
      {
       "output_type": "stream",
       "stream": "stdout",
       "text": [
        "\n",
        "> predicted=1.0, actual=1.0\n",
        "> predicted=1.0, actual=1.0\n",
        "> predicted=1.0, actual=0.0\n",
        "> predicted=1.0, actual=0.0"
       ]
      },
      {
       "output_type": "stream",
       "stream": "stdout",
       "text": [
        "\n",
        "> predicted=1.0, actual=0.0\n",
        "> predicted=1.0, actual=0.0\n",
        "> predicted=1.0, actual=0.0\n",
        "> predicted=1.0, actual=0.0"
       ]
      },
      {
       "output_type": "stream",
       "stream": "stdout",
       "text": [
        "\n",
        "> predicted=1.0, actual=0.0\n",
        "> predicted=1.0, actual=0.0\n",
        "> predicted=1.0, actual=0.0\n",
        "> predicted=1.0, actual=0.0\n",
        "> predicted=1.0, actual=0.0"
       ]
      },
      {
       "output_type": "stream",
       "stream": "stdout",
       "text": [
        "\n",
        "> predicted=1.0, actual=0.0\n",
        "> predicted=1.0, actual=0.0\n",
        "> predicted=1.0, actual=0.0\n",
        "> predicted=1.0, actual=0.45555555555555555\n",
        "> predicted=1.0, actual=1.0"
       ]
      },
      {
       "output_type": "stream",
       "stream": "stdout",
       "text": [
        "\n",
        "> predicted=1.0, actual=1.0\n",
        "> predicted=1.0, actual=1.0\n",
        "> predicted=1.0, actual=1.0\n",
        "> predicted=1.0, actual=1.0"
       ]
      },
      {
       "output_type": "stream",
       "stream": "stdout",
       "text": [
        "\n",
        "> predicted=1.0, actual=1.0\n",
        "> predicted=1.0, actual=1.0\n",
        "> predicted=1.0, actual=1.0\n",
        "> predicted=1.0, actual=1.0\n",
        "> predicted=1.0, actual=1.0"
       ]
      },
      {
       "output_type": "stream",
       "stream": "stdout",
       "text": [
        "\n",
        "> predicted=1.0, actual=1.0\n",
        "> predicted=1.0, actual=1.0\n",
        "> predicted=1.0, actual=1.0\n",
        "> predicted=1.0, actual=1.0"
       ]
      },
      {
       "output_type": "stream",
       "stream": "stdout",
       "text": [
        "\n",
        "> predicted=1.0, actual=1.0\n",
        "> predicted=1.0, actual=1.0\n",
        "> predicted=1.0, actual=1.0\n",
        "> predicted=1.0, actual=1.0"
       ]
      },
      {
       "output_type": "stream",
       "stream": "stdout",
       "text": [
        "\n",
        "> predicted=1.0, actual=1.0\n",
        "> predicted=1.0, actual=1.0\n",
        "> predicted=1.0, actual=1.0\n",
        "> predicted=1.0, actual=1.0\n",
        "> predicted=1.0, actual=1.0"
       ]
      },
      {
       "output_type": "stream",
       "stream": "stdout",
       "text": [
        "\n",
        "> predicted=1.0, actual=0.0\n",
        "> predicted=1.0, actual=0.0\n",
        "> predicted=1.0, actual=0.0\n",
        "> predicted=1.0, actual=0.0\n",
        "> predicted=1.0, actual=0.0"
       ]
      },
      {
       "output_type": "stream",
       "stream": "stdout",
       "text": [
        "\n",
        "> predicted=1.0, actual=0.85111111111111115\n",
        "> predicted=1.0, actual=1.0\n",
        "> predicted=1.0, actual=1.0\n",
        "> predicted=1.0, actual=1.0\n",
        "> predicted=1.0, actual=1.0"
       ]
      },
      {
       "output_type": "stream",
       "stream": "stdout",
       "text": [
        "\n",
        "> predicted=1.0, actual=1.0\n",
        "> predicted=1.0, actual=1.0\n",
        "> predicted=1.0, actual=1.0\n",
        "> predicted=1.0, actual=1.0"
       ]
      },
      {
       "output_type": "stream",
       "stream": "stdout",
       "text": [
        "\n",
        "> predicted=1.0, actual=1.0\n",
        "> predicted=1.0, actual=1.0\n",
        "> predicted=1.0, actual=1.0\n",
        "> predicted=1.0, actual=1.0"
       ]
      },
      {
       "output_type": "stream",
       "stream": "stdout",
       "text": [
        "\n",
        "> predicted=1.0, actual=1.0\n",
        "> predicted=1.0, actual=1.0\n",
        "> predicted=1.0, actual=1.0\n",
        "> predicted=1.0, actual=1.0\n",
        "> predicted=1.0, actual=1.0"
       ]
      },
      {
       "output_type": "stream",
       "stream": "stdout",
       "text": [
        "\n",
        "> predicted=1.0, actual=1.0\n",
        "> predicted=1.0, actual=1.0\n",
        "> predicted=1.0, actual=1.0\n",
        "> predicted=1.0, actual=1.0\n",
        "> predicted=1.0, actual=1.0"
       ]
      },
      {
       "output_type": "stream",
       "stream": "stdout",
       "text": [
        "\n",
        "> predicted=1.0, actual=1.0\n",
        "> predicted=1.0, actual=1.0\n",
        "> predicted=1.0, actual=1.0\n",
        "> predicted=1.0, actual=1.0\n",
        "> predicted=1.0, actual=1.0"
       ]
      },
      {
       "output_type": "stream",
       "stream": "stdout",
       "text": [
        "\n",
        "> predicted=1.0, actual=1.0\n",
        "> predicted=1.0, actual=1.0\n",
        "> predicted=1.0, actual=1.0\n",
        "> predicted=1.0, actual=1.0"
       ]
      },
      {
       "output_type": "stream",
       "stream": "stdout",
       "text": [
        "\n",
        "> predicted=1.0, actual=1.0\n",
        "> predicted=1.0, actual=0.70111111111111113\n",
        "> predicted=1.0, actual=0.0\n",
        "> predicted=1.0, actual=0.0\n",
        "> predicted=1.0, actual=0.0\n",
        "> predicted=1.0, actual=0.0"
       ]
      },
      {
       "output_type": "stream",
       "stream": "stdout",
       "text": [
        "\n",
        "> predicted=1.0, actual=0.0\n",
        "> predicted=1.0, actual=0.0\n",
        "> predicted=1.0, actual=0.0\n",
        "> predicted=1.0, actual=1.0"
       ]
      },
      {
       "output_type": "stream",
       "stream": "stdout",
       "text": [
        "\n",
        "> predicted=1.0, actual=1.0\n",
        "> predicted=1.0, actual=1.0\n",
        "> predicted=1.0, actual=1.0\n",
        "> predicted=1.0, actual=1.0\n",
        "> predicted=1.0, actual=1.0"
       ]
      },
      {
       "output_type": "stream",
       "stream": "stdout",
       "text": [
        "\n",
        "> predicted=1.0, actual=1.0\n",
        "> predicted=1.0, actual=1.0\n",
        "> predicted=1.0, actual=1.0\n",
        "> predicted=1.0, actual=1.0\n",
        "> predicted=1.0, actual=1.0"
       ]
      },
      {
       "output_type": "stream",
       "stream": "stdout",
       "text": [
        "\n",
        "> predicted=1.0, actual=1.0\n",
        "> predicted=1.0, actual=1.0\n",
        "> predicted=1.0, actual=1.0\n",
        "> predicted=1.0, actual=1.0\n",
        "> predicted=1.0, actual=0.0\n",
        "> predicted=1.0, actual=0.0"
       ]
      },
      {
       "output_type": "stream",
       "stream": "stdout",
       "text": [
        "\n",
        "> predicted=1.0, actual=0.0\n",
        "> predicted=1.0, actual=0.0\n",
        "> predicted=1.0, actual=0.0\n",
        "> predicted=1.0, actual=0.0\n",
        "> predicted=1.0, actual=0.0"
       ]
      },
      {
       "output_type": "stream",
       "stream": "stdout",
       "text": [
        "\n",
        "> predicted=1.0, actual=0.0\n",
        "> predicted=1.0, actual=0.0\n",
        "> predicted=1.0, actual=0.0\n",
        "> predicted=1.0, actual=0.0"
       ]
      },
      {
       "output_type": "stream",
       "stream": "stdout",
       "text": [
        "\n",
        "> predicted=1.0, actual=0.0\n",
        "> predicted=1.0, actual=0.0\n",
        "> predicted=1.0, actual=0.0\n",
        "> predicted=1.0, actual=1.0\n",
        "> predicted=1.0, actual=1.0"
       ]
      },
      {
       "output_type": "stream",
       "stream": "stdout",
       "text": [
        "\n",
        "> predicted=1.0, actual=1.0\n",
        "> predicted=1.0, actual=1.0\n",
        "> predicted=1.0, actual=1.0"
       ]
      },
      {
       "output_type": "stream",
       "stream": "stdout",
       "text": [
        "\n",
        "> predicted=1.0, actual=1.0\n",
        "> predicted=1.0, actual=1.0\n",
        "> predicted=1.0, actual=1.0\n",
        "> predicted=1.0, actual=1.0"
       ]
      },
      {
       "output_type": "stream",
       "stream": "stdout",
       "text": [
        "\n",
        "> predicted=1.0, actual=1.0\n",
        "> predicted=1.0, actual=1.0\n",
        "> predicted=1.0, actual=1.0\n",
        "> predicted=1.0, actual=1.0\n",
        "> predicted=1.0, actual=1.0"
       ]
      },
      {
       "output_type": "stream",
       "stream": "stdout",
       "text": [
        "\n",
        "> predicted=1.0, actual=1.0\n",
        "> predicted=1.0, actual=1.0\n",
        "> predicted=1.0, actual=0.0\n",
        "> predicted=1.0, actual=0.0\n",
        "> predicted=1.0, actual=0.0"
       ]
      },
      {
       "output_type": "stream",
       "stream": "stdout",
       "text": [
        "\n",
        "> predicted=1.0, actual=0.0\n",
        "> predicted=1.0, actual=0.0\n",
        "> predicted=1.0, actual=0.0\n",
        "> predicted=1.0, actual=0.0\n",
        "> predicted=1.0, actual=0.0"
       ]
      },
      {
       "output_type": "stream",
       "stream": "stdout",
       "text": [
        "\n",
        "> predicted=1.0, actual=0.0\n",
        "> predicted=1.0, actual=0.0\n",
        "> predicted=1.0, actual=0.0\n",
        "> predicted=1.0, actual=0.0\n",
        "> predicted=1.0, actual=0.0"
       ]
      },
      {
       "output_type": "stream",
       "stream": "stdout",
       "text": [
        "\n",
        "> predicted=1.0, actual=0.0\n",
        "> predicted=1.0, actual=1.0\n",
        "> predicted=1.0, actual=1.0\n",
        "> predicted=1.0, actual=1.0"
       ]
      },
      {
       "output_type": "stream",
       "stream": "stdout",
       "text": [
        "\n",
        "> predicted=1.0, actual=1.0\n",
        "> predicted=1.0, actual=1.0\n",
        "> predicted=1.0, actual=1.0\n",
        "> predicted=1.0, actual=1.0"
       ]
      },
      {
       "output_type": "stream",
       "stream": "stdout",
       "text": [
        "\n",
        "> predicted=1.0, actual=1.0\n",
        "> predicted=1.0, actual=1.0\n",
        "> predicted=1.0, actual=1.0\n",
        "> predicted=1.0, actual=1.0\n",
        "> predicted=1.0, actual=0.0"
       ]
      },
      {
       "output_type": "stream",
       "stream": "stdout",
       "text": [
        "\n",
        "> predicted=1.0, actual=0.0\n",
        "> predicted=1.0, actual=0.0\n",
        "> predicted=1.0, actual=0.0\n",
        "> predicted=1.0, actual=0.0\n",
        "> predicted=1.0, actual=0.0"
       ]
      },
      {
       "output_type": "stream",
       "stream": "stdout",
       "text": [
        "\n",
        "> predicted=1.0, actual=0.0\n",
        "> predicted=1.0, actual=0.0\n",
        "> predicted=1.0, actual=0.0\n",
        "> predicted=1.0, actual=0.0\n",
        "> predicted=1.0, actual=1.0"
       ]
      },
      {
       "output_type": "stream",
       "stream": "stdout",
       "text": [
        "\n",
        "> predicted=1.0, actual=1.0\n",
        "> predicted=1.0, actual=1.0\n",
        "> predicted=1.0, actual=1.0\n",
        "> predicted=1.0, actual=1.0\n",
        "> predicted=1.0, actual=1.0"
       ]
      },
      {
       "output_type": "stream",
       "stream": "stdout",
       "text": [
        "\n",
        "> predicted=1.0, actual=1.0\n",
        "> predicted=1.0, actual=1.0"
       ]
      },
      {
       "output_type": "stream",
       "stream": "stdout",
       "text": [
        "\n",
        "> predicted=1.0, actual=1.0\n",
        "> predicted=1.0, actual=1.0\n",
        "> predicted=1.0, actual=1.0\n",
        "> predicted=1.0, actual=1.0"
       ]
      },
      {
       "output_type": "stream",
       "stream": "stdout",
       "text": [
        "\n",
        "> predicted=1.0, actual=1.0\n",
        "> predicted=1.0, actual=1.0\n",
        "> predicted=1.0, actual=1.0\n",
        "> predicted=1.0, actual=1.0\n",
        "> predicted=1.0, actual=1.0"
       ]
      },
      {
       "output_type": "stream",
       "stream": "stdout",
       "text": [
        "\n",
        "> predicted=1.0, actual=1.0\n",
        "> predicted=1.0, actual=1.0\n",
        "> predicted=1.0, actual=1.0"
       ]
      },
      {
       "output_type": "stream",
       "stream": "stdout",
       "text": [
        "\n",
        "> predicted=1.0, actual=1.0\n",
        "> predicted=1.0, actual=1.0\n",
        "> predicted=1.0, actual=1.0"
       ]
      },
      {
       "output_type": "stream",
       "stream": "stdout",
       "text": [
        "\n",
        "> predicted=1.0, actual=1.0\n",
        "> predicted=1.0, actual=1.0\n",
        "> predicted=1.0, actual=1.0\n",
        "> predicted=1.0, actual=0.0"
       ]
      },
      {
       "output_type": "stream",
       "stream": "stdout",
       "text": [
        "\n",
        "> predicted=1.0, actual=0.0\n",
        "> predicted=1.0, actual=1.0\n",
        "> predicted=1.0, actual=0.2911111111111111\n",
        "> predicted=1.0, actual=0.0\n",
        "> predicted=1.0, actual=1.0"
       ]
      },
      {
       "output_type": "stream",
       "stream": "stdout",
       "text": [
        "\n",
        "> predicted=1.0, actual=1.0\n",
        "> predicted=1.0, actual=1.0\n",
        "> predicted=1.0, actual=1.0\n",
        "> predicted=1.0, actual=1.0\n",
        "> predicted=1.0, actual=1.0"
       ]
      },
      {
       "output_type": "stream",
       "stream": "stdout",
       "text": [
        "\n",
        "> predicted=1.0, actual=1.0\n",
        "> predicted=1.0, actual=1.0\n",
        "> predicted=1.0, actual=1.0\n",
        "> predicted=1.0, actual=1.0"
       ]
      },
      {
       "output_type": "stream",
       "stream": "stdout",
       "text": [
        "\n",
        "> predicted=1.0, actual=1.0\n",
        "> predicted=1.0, actual=1.0\n",
        "> predicted=1.0, actual=1.0\n",
        "> predicted=1.0, actual=1.0"
       ]
      },
      {
       "output_type": "stream",
       "stream": "stdout",
       "text": [
        "\n",
        "> predicted=1.0, actual=1.0\n",
        "> predicted=1.0, actual=1.0\n",
        "> predicted=1.0, actual=1.0\n",
        "> predicted=1.0, actual=1.0\n",
        "> predicted=1.0, actual=1.0"
       ]
      },
      {
       "output_type": "stream",
       "stream": "stdout",
       "text": [
        "\n",
        "> predicted=1.0, actual=1.0\n",
        "> predicted=1.0, actual=1.0\n",
        "> predicted=1.0, actual=1.0\n",
        "> predicted=1.0, actual=1.0"
       ]
      },
      {
       "output_type": "stream",
       "stream": "stdout",
       "text": [
        "\n",
        "> predicted=1.0, actual=1.0\n",
        "> predicted=1.0, actual=1.0\n",
        "> predicted=1.0, actual=1.0"
       ]
      },
      {
       "output_type": "stream",
       "stream": "stdout",
       "text": [
        "\n",
        "> predicted=1.0, actual=1.0\n",
        "> predicted=1.0, actual=1.0\n",
        "> predicted=1.0, actual=1.0\n",
        "> predicted=1.0, actual=1.0\n",
        "> predicted=1.0, actual=1.0"
       ]
      },
      {
       "output_type": "stream",
       "stream": "stdout",
       "text": [
        "\n",
        "> predicted=1.0, actual=0.0\n",
        "> predicted=1.0, actual=1.0\n",
        "> predicted=1.0, actual=1.0\n",
        "> predicted=1.0, actual=1.0"
       ]
      },
      {
       "output_type": "stream",
       "stream": "stdout",
       "text": [
        "\n",
        "> predicted=1.0, actual=1.0\n",
        "> predicted=1.0, actual=1.0\n",
        "> predicted=1.0, actual=1.0\n",
        "> predicted=1.0, actual=1.0"
       ]
      },
      {
       "output_type": "stream",
       "stream": "stdout",
       "text": [
        "\n",
        "> predicted=1.0, actual=1.0\n",
        "> predicted=1.0, actual=1.0\n",
        "> predicted=1.0, actual=1.0"
       ]
      },
      {
       "output_type": "stream",
       "stream": "stdout",
       "text": [
        "\n",
        "> predicted=1.0, actual=1.0\n",
        "> predicted=1.0, actual=1.0\n",
        "> predicted=1.0, actual=1.0\n",
        "> predicted=1.0, actual=1.0\n",
        "> predicted=1.0, actual=1.0"
       ]
      },
      {
       "output_type": "stream",
       "stream": "stdout",
       "text": [
        "\n",
        "> predicted=1.0, actual=1.0\n",
        "> predicted=1.0, actual=1.0\n",
        "> predicted=1.0, actual=1.0\n",
        "> predicted=1.0, actual=1.0\n",
        "> predicted=1.0, actual=0.0"
       ]
      },
      {
       "output_type": "stream",
       "stream": "stdout",
       "text": [
        "\n",
        "> predicted=1.0, actual=0.0\n",
        "> predicted=1.0, actual=0.0\n",
        "> predicted=1.0, actual=0.0\n",
        "> predicted=1.0, actual=0.0\n",
        "> predicted=1.0, actual=0.0"
       ]
      },
      {
       "output_type": "stream",
       "stream": "stdout",
       "text": [
        "\n",
        "> predicted=1.0, actual=0.0\n",
        "> predicted=1.0, actual=1.0\n",
        "> predicted=1.0, actual=1.0\n",
        "> predicted=1.0, actual=1.0\n",
        "> predicted=1.0, actual=1.0"
       ]
      },
      {
       "output_type": "stream",
       "stream": "stdout",
       "text": [
        "\n",
        "> predicted=1.0, actual=1.0\n",
        "> predicted=1.0, actual=1.0\n",
        "> predicted=1.0, actual=1.0\n",
        "> predicted=1.0, actual=1.0"
       ]
      },
      {
       "output_type": "stream",
       "stream": "stdout",
       "text": [
        "\n",
        "> predicted=1.0, actual=1.0\n",
        "> predicted=1.0, actual=1.0\n",
        "> predicted=1.0, actual=1.0\n",
        "> predicted=1.0, actual=1.0"
       ]
      },
      {
       "output_type": "stream",
       "stream": "stdout",
       "text": [
        "\n",
        "> predicted=1.0, actual=1.0\n",
        "> predicted=1.0, actual=1.0\n",
        "> predicted=1.0, actual=1.0\n",
        "> predicted=1.0, actual=1.0"
       ]
      },
      {
       "output_type": "stream",
       "stream": "stdout",
       "text": [
        "\n",
        "> predicted=1.0, actual=1.0\n",
        "> predicted=1.0, actual=1.0\n",
        "> predicted=1.0, actual=1.0\n",
        "> predicted=1.0, actual=1.0\n",
        "> predicted=1.0, actual=1.0"
       ]
      },
      {
       "output_type": "stream",
       "stream": "stdout",
       "text": [
        "\n",
        "> predicted=1.0, actual=1.0\n",
        "> predicted=1.0, actual=1.0\n",
        "> predicted=1.0, actual=1.0\n",
        "> predicted=1.0, actual=1.0\n",
        "> predicted=1.0, actual=1.0\n",
        "> predicted=1.0, actual=1.0"
       ]
      },
      {
       "output_type": "stream",
       "stream": "stdout",
       "text": [
        "\n",
        "> predicted=1.0, actual=1.0\n",
        "> predicted=1.0, actual=0.0\n",
        "> predicted=1.0, actual=1.0\n",
        "> predicted=1.0, actual=1.0\n",
        "> predicted=1.0, actual=1.0\n",
        "> predicted=1.0, actual=1.0"
       ]
      },
      {
       "output_type": "stream",
       "stream": "stdout",
       "text": [
        "\n",
        "> predicted=1.0, actual=1.0\n",
        "> predicted=1.0, actual=1.0\n",
        "> predicted=1.0, actual=1.0\n",
        "> predicted=1.0, actual=1.0\n",
        "> predicted=1.0, actual=1.0\n",
        "> predicted=1.0, actual=1.0"
       ]
      },
      {
       "output_type": "stream",
       "stream": "stdout",
       "text": [
        "\n",
        "> predicted=1.0, actual=1.0\n",
        "> predicted=1.0, actual=1.0\n",
        "> predicted=1.0, actual=1.0\n",
        "> predicted=1.0, actual=1.0\n",
        "> predicted=1.0, actual=1.0\n",
        "> predicted=1.0, actual=1.0"
       ]
      },
      {
       "output_type": "stream",
       "stream": "stdout",
       "text": [
        "\n",
        "> predicted=1.0, actual=1.0\n",
        "> predicted=1.0, actual=1.0\n",
        "> predicted=1.0, actual=1.0\n",
        "> predicted=1.0, actual=1.0\n",
        "> predicted=1.0, actual=1.0"
       ]
      },
      {
       "output_type": "stream",
       "stream": "stdout",
       "text": [
        "\n",
        "> predicted=1.0, actual=1.0\n",
        "> predicted=1.0, actual=1.0\n",
        "> predicted=1.0, actual=1.0"
       ]
      },
      {
       "output_type": "stream",
       "stream": "stdout",
       "text": [
        "\n",
        "> predicted=1.0, actual=1.0\n",
        "> predicted=1.0, actual=1.0\n",
        "> predicted=1.0, actual=1.0\n",
        "> predicted=1.0, actual=1.0"
       ]
      },
      {
       "output_type": "stream",
       "stream": "stdout",
       "text": [
        "\n",
        "> predicted=1.0, actual=1.0\n",
        "> predicted=1.0, actual=1.0\n",
        "> predicted=1.0, actual=1.0\n",
        "> predicted=1.0, actual=1.0\n",
        "> predicted=1.0, actual=1.0"
       ]
      },
      {
       "output_type": "stream",
       "stream": "stdout",
       "text": [
        "\n",
        "> predicted=1.0, actual=1.0\n",
        "> predicted=1.0, actual=1.0\n",
        "> predicted=1.0, actual=1.0\n",
        "> predicted=1.0, actual=1.0\n",
        "> predicted=1.0, actual=1.0"
       ]
      },
      {
       "output_type": "stream",
       "stream": "stdout",
       "text": [
        "\n",
        "> predicted=1.0, actual=0.0\n",
        "> predicted=1.0, actual=0.0\n",
        "> predicted=1.0, actual=0.0\n",
        "> predicted=1.0, actual=0.0\n",
        "> predicted=1.0, actual=0.0"
       ]
      },
      {
       "output_type": "stream",
       "stream": "stdout",
       "text": [
        "\n",
        "> predicted=1.0, actual=0.0\n",
        "> predicted=1.0, actual=0.0\n",
        "> predicted=1.0, actual=0.0\n",
        "> predicted=1.0, actual=0.0"
       ]
      },
      {
       "output_type": "stream",
       "stream": "stdout",
       "text": [
        "\n",
        "> predicted=1.0, actual=0.0\n",
        "> predicted=1.0, actual=0.0\n",
        "> predicted=1.0, actual=0.0\n",
        "> predicted=1.0, actual=0.0\n",
        "> predicted=1.0, actual=1.0"
       ]
      },
      {
       "output_type": "stream",
       "stream": "stdout",
       "text": [
        "\n",
        "> predicted=1.0, actual=1.0\n",
        "> predicted=1.0, actual=1.0\n",
        "> predicted=1.0, actual=1.0\n",
        "> predicted=1.0, actual=1.0"
       ]
      },
      {
       "output_type": "stream",
       "stream": "stdout",
       "text": [
        "\n",
        "> predicted=1.0, actual=1.0\n",
        "> predicted=1.0, actual=1.0\n",
        "> predicted=1.0, actual=1.0\n",
        "> predicted=1.0, actual=1.0"
       ]
      },
      {
       "output_type": "stream",
       "stream": "stdout",
       "text": [
        "\n",
        "> predicted=1.0, actual=1.0\n",
        "> predicted=1.0, actual=1.0\n",
        "> predicted=1.0, actual=1.0\n",
        "> predicted=1.0, actual=0.0"
       ]
      },
      {
       "output_type": "stream",
       "stream": "stdout",
       "text": [
        "\n",
        "> predicted=1.0, actual=0.0\n",
        "> predicted=1.0, actual=0.0\n",
        "> predicted=1.0, actual=0.79333333333333333"
       ]
      },
      {
       "output_type": "stream",
       "stream": "stdout",
       "text": [
        "\n",
        "> predicted=1.0, actual=1.0\n",
        "> predicted=1.0, actual=1.0\n",
        "> predicted=1.0, actual=1.0\n",
        "> predicted=1.0, actual=1.0\n",
        "> predicted=1.0, actual=1.0\n",
        "> predicted=1.0, actual=1.0"
       ]
      },
      {
       "output_type": "stream",
       "stream": "stdout",
       "text": [
        "\n",
        "> predicted=1.0, actual=1.0\n",
        "> predicted=1.0, actual=1.0\n",
        "> predicted=1.0, actual=1.0\n",
        "> predicted=1.0, actual=1.0"
       ]
      },
      {
       "output_type": "stream",
       "stream": "stdout",
       "text": [
        "\n",
        "> predicted=1.0, actual=1.0\n",
        "> predicted=1.0, actual=1.0\n",
        "> predicted=1.0, actual=1.0\n",
        "> predicted=1.0, actual=1.0"
       ]
      },
      {
       "output_type": "stream",
       "stream": "stdout",
       "text": [
        "\n",
        "> predicted=1.0, actual=1.0\n",
        "> predicted=1.0, actual=1.0\n",
        "> predicted=1.0, actual=1.0\n",
        "> predicted=1.0, actual=1.0"
       ]
      },
      {
       "output_type": "stream",
       "stream": "stdout",
       "text": [
        "\n",
        "> predicted=1.0, actual=1.0\n",
        "> predicted=1.0, actual=1.0\n",
        "> predicted=1.0, actual=1.0\n",
        "> predicted=1.0, actual=1.0"
       ]
      },
      {
       "output_type": "stream",
       "stream": "stdout",
       "text": [
        "\n",
        "> predicted=1.0, actual=1.0\n",
        "> predicted=1.0, actual=1.0\n",
        "> predicted=1.0, actual=1.0\n",
        "> predicted=1.0, actual=1.0\n",
        "> predicted=1.0, actual=1.0"
       ]
      },
      {
       "output_type": "stream",
       "stream": "stdout",
       "text": [
        "\n",
        "> predicted=1.0, actual=1.0\n",
        "> predicted=1.0, actual=1.0\n",
        "> predicted=1.0, actual=1.0\n",
        "> predicted=1.0, actual=1.0\n",
        "> predicted=1.0, actual=1.0"
       ]
      },
      {
       "output_type": "stream",
       "stream": "stdout",
       "text": [
        "\n",
        "> predicted=1.0, actual=1.0\n",
        "> predicted=1.0, actual=1.0\n",
        "> predicted=1.0, actual=1.0\n",
        "> predicted=1.0, actual=0.68333333333333335"
       ]
      },
      {
       "output_type": "stream",
       "stream": "stdout",
       "text": [
        "\n",
        "> predicted=1.0, actual=0.0\n",
        "> predicted=1.0, actual=0.0\n",
        "> predicted=1.0, actual=0.0\n",
        "> predicted=1.0, actual=0.0"
       ]
      },
      {
       "output_type": "stream",
       "stream": "stdout",
       "text": [
        "\n",
        "> predicted=1.0, actual=0.0\n",
        "> predicted=1.0, actual=0.0\n",
        "> predicted=1.0, actual=0.0\n",
        "> predicted=1.0, actual=0.0"
       ]
      },
      {
       "output_type": "stream",
       "stream": "stdout",
       "text": [
        "\n",
        "> predicted=1.0, actual=0.0\n",
        "> predicted=1.0, actual=0.0\n",
        "> predicted=1.0, actual=0.0\n",
        "> predicted=1.0, actual=0.0\n",
        "> predicted=1.0, actual=0.0"
       ]
      },
      {
       "output_type": "stream",
       "stream": "stdout",
       "text": [
        "\n",
        "> predicted=1.0, actual=0.0\n",
        "> predicted=1.0, actual=1.0\n",
        "> predicted=1.0, actual=1.0\n",
        "> predicted=1.0, actual=1.0"
       ]
      },
      {
       "output_type": "stream",
       "stream": "stdout",
       "text": [
        "\n",
        "> predicted=1.0, actual=1.0\n",
        "> predicted=1.0, actual=1.0\n",
        "> predicted=1.0, actual=1.0\n",
        "> predicted=1.0, actual=1.0"
       ]
      },
      {
       "output_type": "stream",
       "stream": "stdout",
       "text": [
        "\n",
        "> predicted=1.0, actual=1.0\n",
        "> predicted=1.0, actual=1.0\n",
        "> predicted=1.0, actual=1.0\n",
        "> predicted=1.0, actual=1.0\n",
        "> predicted=1.0, actual=1.0"
       ]
      },
      {
       "output_type": "stream",
       "stream": "stdout",
       "text": [
        "\n",
        "> predicted=1.0, actual=1.0\n",
        "> predicted=1.0, actual=1.0\n",
        "> predicted=1.0, actual=1.0\n",
        "> predicted=1.0, actual=1.0\n",
        "> predicted=1.0, actual=1.0"
       ]
      },
      {
       "output_type": "stream",
       "stream": "stdout",
       "text": [
        "\n",
        "> predicted=1.0, actual=1.0\n",
        "> predicted=1.0, actual=1.0\n",
        "> predicted=1.0, actual=1.0\n",
        "> predicted=1.0, actual=1.0\n",
        "> predicted=1.0, actual=1.0"
       ]
      },
      {
       "output_type": "stream",
       "stream": "stdout",
       "text": [
        "\n",
        "> predicted=1.0, actual=1.0\n",
        "> predicted=1.0, actual=0.80333333333333334\n",
        "> predicted=1.0, actual=0.0\n",
        "> predicted=1.0, actual=0.0"
       ]
      },
      {
       "output_type": "stream",
       "stream": "stdout",
       "text": [
        "\n",
        "> predicted=1.0, actual=0.0\n",
        "> predicted=1.0, actual=0.0\n",
        "> predicted=1.0, actual=0.0\n",
        "> predicted=1.0, actual=0.0"
       ]
      },
      {
       "output_type": "stream",
       "stream": "stdout",
       "text": [
        "\n",
        "> predicted=1.0, actual=1.0\n",
        "> predicted=1.0, actual=1.0\n",
        "> predicted=1.0, actual=1.0\n",
        "> predicted=1.0, actual=1.0\n",
        "> predicted=1.0, actual=1.0\n",
        "> predicted=1.0, actual=1.0\n",
        "> predicted=1.0, actual=1.0"
       ]
      },
      {
       "output_type": "stream",
       "stream": "stdout",
       "text": [
        "\n",
        "> predicted=1.0, actual=1.0\n",
        "> predicted=1.0, actual=1.0\n",
        "> predicted=1.0, actual=1.0\n",
        "> predicted=1.0, actual=1.0\n",
        "> predicted=1.0, actual=1.0\n",
        "> predicted=1.0, actual=1.0\n",
        "> predicted=1.0, actual=1.0"
       ]
      },
      {
       "output_type": "stream",
       "stream": "stdout",
       "text": [
        "\n",
        "> predicted=1.0, actual=1.0\n",
        "> predicted=1.0, actual=1.0\n",
        "> predicted=1.0, actual=1.0\n",
        "> predicted=1.0, actual=1.0\n",
        "> predicted=1.0, actual=0.0\n",
        "> predicted=1.0, actual=0.0\n",
        "> predicted=1.0, actual=0.0"
       ]
      },
      {
       "output_type": "stream",
       "stream": "stdout",
       "text": [
        "\n",
        "> predicted=1.0, actual=0.0\n",
        "> predicted=1.0, actual=0.0\n",
        "> predicted=1.0, actual=0.0\n",
        "> predicted=1.0, actual=0.0\n",
        "> predicted=1.0, actual=0.0\n",
        "> predicted=1.0, actual=1.0"
       ]
      },
      {
       "output_type": "stream",
       "stream": "stdout",
       "text": [
        "\n",
        "> predicted=1.0, actual=1.0\n",
        "> predicted=1.0, actual=1.0\n",
        "> predicted=1.0, actual=1.0\n",
        "> predicted=1.0, actual=1.0\n",
        "> predicted=1.0, actual=1.0"
       ]
      },
      {
       "output_type": "stream",
       "stream": "stdout",
       "text": [
        "\n",
        "> predicted=1.0, actual=1.0\n",
        "> predicted=1.0, actual=1.0\n",
        "> predicted=1.0, actual=1.0\n",
        "> predicted=1.0, actual=1.0"
       ]
      },
      {
       "output_type": "stream",
       "stream": "stdout",
       "text": [
        "\n",
        "> predicted=1.0, actual=1.0\n",
        "> predicted=1.0, actual=1.0\n",
        "> predicted=1.0, actual=1.0"
       ]
      },
      {
       "output_type": "stream",
       "stream": "stdout",
       "text": [
        "\n",
        "> predicted=1.0, actual=1.0\n",
        "> predicted=1.0, actual=1.0\n",
        "> predicted=1.0, actual=1.0\n",
        "> predicted=1.0, actual=1.0"
       ]
      },
      {
       "output_type": "stream",
       "stream": "stdout",
       "text": [
        "\n",
        "> predicted=1.0, actual=1.0\n",
        "> predicted=1.0, actual=1.0\n",
        "> predicted=1.0, actual=1.0\n",
        "> predicted=1.0, actual=1.0\n",
        "> predicted=1.0, actual=1.0"
       ]
      },
      {
       "output_type": "stream",
       "stream": "stdout",
       "text": [
        "\n",
        "> predicted=1.0, actual=1.0\n",
        "> predicted=1.0, actual=1.0\n",
        "> predicted=1.0, actual=1.0\n",
        "> predicted=1.0, actual=1.0"
       ]
      },
      {
       "output_type": "stream",
       "stream": "stdout",
       "text": [
        "\n",
        "> predicted=1.0, actual=1.0\n",
        "> predicted=1.0, actual=1.0\n",
        "> predicted=1.0, actual=1.0\n",
        "> predicted=1.0, actual=1.0\n",
        "> predicted=1.0, actual=1.0"
       ]
      },
      {
       "output_type": "stream",
       "stream": "stdout",
       "text": [
        "\n",
        "> predicted=1.0, actual=1.0\n",
        "> predicted=1.0, actual=0.4177777777777778\n",
        "> predicted=1.0, actual=0.0\n",
        "> predicted=1.0, actual=1.0"
       ]
      },
      {
       "output_type": "stream",
       "stream": "stdout",
       "text": [
        "\n",
        "> predicted=1.0, actual=1.0\n",
        "> predicted=1.0, actual=1.0\n",
        "> predicted=1.0, actual=1.0\n",
        "> predicted=1.0, actual=1.0"
       ]
      },
      {
       "output_type": "stream",
       "stream": "stdout",
       "text": [
        "\n",
        "> predicted=1.0, actual=1.0\n",
        "> predicted=1.0, actual=1.0\n",
        "> predicted=1.0, actual=1.0\n",
        "> predicted=1.0, actual=1.0"
       ]
      },
      {
       "output_type": "stream",
       "stream": "stdout",
       "text": [
        "\n",
        "> predicted=1.0, actual=1.0\n",
        "> predicted=1.0, actual=1.0\n",
        "> predicted=1.0, actual=1.0\n",
        "> predicted=1.0, actual=1.0\n",
        "> predicted=1.0, actual=1.0"
       ]
      },
      {
       "output_type": "stream",
       "stream": "stdout",
       "text": [
        "\n",
        "> predicted=1.0, actual=1.0\n",
        "> predicted=1.0, actual=1.0\n",
        "> predicted=1.0, actual=1.0\n",
        "> predicted=1.0, actual=1.0\n",
        "> predicted=1.0, actual=1.0"
       ]
      },
      {
       "output_type": "stream",
       "stream": "stdout",
       "text": [
        "\n",
        "> predicted=1.0, actual=1.0\n",
        "> predicted=1.0, actual=1.0\n",
        "> predicted=1.0, actual=1.0\n",
        "> predicted=1.0, actual=1.0"
       ]
      },
      {
       "output_type": "stream",
       "stream": "stdout",
       "text": [
        "\n",
        "> predicted=1.0, actual=1.0\n",
        "> predicted=1.0, actual=1.0\n",
        "> predicted=1.0, actual=1.0\n",
        "> predicted=1.0, actual=1.0\n",
        "> predicted=1.0, actual=1.0\n",
        "> predicted=1.0, actual=1.0"
       ]
      },
      {
       "output_type": "stream",
       "stream": "stdout",
       "text": [
        "\n",
        "> predicted=1.0, actual=1.0\n",
        "> predicted=1.0, actual=1.0\n",
        "> predicted=1.0, actual=1.0\n",
        "> predicted=1.0, actual=1.0\n",
        "> predicted=1.0, actual=0.0"
       ]
      },
      {
       "output_type": "stream",
       "stream": "stdout",
       "text": [
        "\n",
        "> predicted=1.0, actual=0.0\n",
        "> predicted=1.0, actual=0.0\n",
        "> predicted=1.0, actual=0.0\n",
        "> predicted=1.0, actual=0.0\n",
        "> predicted=1.0, actual=0.0"
       ]
      },
      {
       "output_type": "stream",
       "stream": "stdout",
       "text": [
        "\n",
        "> predicted=1.0, actual=0.0\n",
        "> predicted=1.0, actual=0.0\n",
        "> predicted=1.0, actual=0.0\n",
        "> predicted=1.0, actual=0.0\n",
        "> predicted=1.0, actual=0.0\n",
        "> predicted=1.0, actual=0.0"
       ]
      },
      {
       "output_type": "stream",
       "stream": "stdout",
       "text": [
        "\n",
        "> predicted=1.0, actual=0.0\n",
        "> predicted=1.0, actual=0.0\n",
        "> predicted=1.0, actual=0.0\n",
        "> predicted=1.0, actual=0.0"
       ]
      },
      {
       "output_type": "stream",
       "stream": "stdout",
       "text": [
        "\n",
        "> predicted=1.0, actual=0.0\n",
        "> predicted=1.0, actual=0.0\n",
        "> predicted=1.0, actual=0.0\n",
        "> predicted=1.0, actual=0.0\n",
        "> predicted=1.0, actual=0.0\n",
        "> predicted=1.0, actual=0.0"
       ]
      },
      {
       "output_type": "stream",
       "stream": "stdout",
       "text": [
        "\n",
        "> predicted=1.0, actual=0.0\n",
        "> predicted=1.0, actual=0.0\n",
        "> predicted=1.0, actual=0.0\n",
        "> predicted=1.0, actual=0.0\n",
        "> predicted=1.0, actual=0.0"
       ]
      },
      {
       "output_type": "stream",
       "stream": "stdout",
       "text": [
        "\n",
        "> predicted=1.0, actual=0.0\n",
        "> predicted=1.0, actual=0.0\n",
        "> predicted=1.0, actual=0.0\n",
        "> predicted=1.0, actual=0.0\n",
        "> predicted=1.0, actual=0.0"
       ]
      },
      {
       "output_type": "stream",
       "stream": "stdout",
       "text": [
        "\n",
        "> predicted=1.0, actual=0.0\n",
        "> predicted=1.0, actual=0.0\n",
        "> predicted=1.0, actual=0.0\n",
        "> predicted=1.0, actual=0.0\n",
        "> predicted=1.0, actual=0.0\n",
        "> predicted=1.0, actual=0.0"
       ]
      },
      {
       "output_type": "stream",
       "stream": "stdout",
       "text": [
        "\n",
        "> predicted=1.0, actual=0.0\n",
        "> predicted=1.0, actual=0.0\n",
        "> predicted=1.0, actual=0.0\n",
        "> predicted=1.0, actual=0.0\n",
        "> predicted=1.0, actual=0.0\n",
        "> predicted=1.0, actual=0.0"
       ]
      },
      {
       "output_type": "stream",
       "stream": "stdout",
       "text": [
        "\n",
        "> predicted=1.0, actual=0.0\n",
        "> predicted=1.0, actual=0.0\n",
        "> predicted=1.0, actual=0.0\n",
        "> predicted=1.0, actual=0.0\n",
        "> predicted=1.0, actual=0.0\n",
        "> predicted=1.0, actual=0.0"
       ]
      },
      {
       "output_type": "stream",
       "stream": "stdout",
       "text": [
        "\n",
        "> predicted=1.0, actual=0.0\n",
        "> predicted=1.0, actual=0.0\n",
        "> predicted=1.0, actual=0.0\n",
        "> predicted=1.0, actual=0.0\n",
        "> predicted=1.0, actual=0.0"
       ]
      },
      {
       "output_type": "stream",
       "stream": "stdout",
       "text": [
        "\n",
        "> predicted=1.0, actual=0.0\n",
        "> predicted=1.0, actual=0.0\n",
        "> predicted=1.0, actual=0.0\n",
        "> predicted=1.0, actual=0.0\n",
        "> predicted=1.0, actual=0.0"
       ]
      },
      {
       "output_type": "stream",
       "stream": "stdout",
       "text": [
        "\n",
        "> predicted=1.0, actual=0.0\n",
        "> predicted=1.0, actual=0.0\n",
        "> predicted=1.0, actual=0.0\n",
        "> predicted=1.0, actual=0.0\n",
        "> predicted=1.0, actual=0.0"
       ]
      },
      {
       "output_type": "stream",
       "stream": "stdout",
       "text": [
        "\n",
        "> predicted=1.0, actual=0.0\n",
        "> predicted=1.0, actual=0.0\n",
        "> predicted=1.0, actual=0.0\n",
        "> predicted=1.0, actual=0.0\n",
        "> predicted=1.0, actual=0.0\n",
        "> predicted=1.0, actual=0.0"
       ]
      },
      {
       "output_type": "stream",
       "stream": "stdout",
       "text": [
        "\n",
        "> predicted=1.0, actual=0.0\n",
        "> predicted=1.0, actual=0.0\n",
        "> predicted=1.0, actual=0.0\n",
        "> predicted=1.0, actual=0.0"
       ]
      },
      {
       "output_type": "stream",
       "stream": "stdout",
       "text": [
        "\n",
        "> predicted=1.0, actual=0.0\n",
        "> predicted=1.0, actual=0.0\n",
        "> predicted=1.0, actual=0.0\n",
        "> predicted=1.0, actual=0.0"
       ]
      },
      {
       "output_type": "stream",
       "stream": "stdout",
       "text": [
        "\n",
        "> predicted=1.0, actual=0.0\n",
        "> predicted=1.0, actual=0.0\n",
        "> predicted=1.0, actual=0.0\n",
        "> predicted=1.0, actual=0.0\n",
        "> predicted=1.0, actual=0.0"
       ]
      },
      {
       "output_type": "stream",
       "stream": "stdout",
       "text": [
        "\n",
        "> predicted=1.0, actual=0.0\n",
        "> predicted=1.0, actual=0.0\n",
        "> predicted=1.0, actual=0.0\n",
        "> predicted=1.0, actual=0.0"
       ]
      },
      {
       "output_type": "stream",
       "stream": "stdout",
       "text": [
        "\n",
        "> predicted=1.0, actual=0.0\n",
        "> predicted=1.0, actual=0.0\n",
        "> predicted=1.0, actual=1.0\n",
        "> predicted=1.0, actual=1.0\n",
        "> predicted=1.0, actual=1.0\n",
        "> predicted=1.0, actual=1.0"
       ]
      },
      {
       "output_type": "stream",
       "stream": "stdout",
       "text": [
        "\n",
        "> predicted=1.0, actual=1.0\n",
        "> predicted=1.0, actual=1.0\n",
        "> predicted=1.0, actual=1.0\n",
        "> predicted=1.0, actual=1.0\n",
        "> predicted=1.0, actual=1.0"
       ]
      },
      {
       "output_type": "stream",
       "stream": "stdout",
       "text": [
        "\n",
        "> predicted=1.0, actual=1.0\n",
        "> predicted=1.0, actual=1.0\n",
        "> predicted=1.0, actual=1.0\n",
        "> predicted=1.0, actual=1.0\n",
        "> predicted=1.0, actual=1.0\n",
        "> predicted=1.0, actual=1.0"
       ]
      },
      {
       "output_type": "stream",
       "stream": "stdout",
       "text": [
        "\n",
        "> predicted=1.0, actual=1.0\n",
        "> predicted=1.0, actual=1.0\n",
        "> predicted=1.0, actual=1.0\n",
        "> predicted=1.0, actual=1.0\n",
        "> predicted=1.0, actual=1.0\n",
        "> predicted=1.0, actual=1.0"
       ]
      },
      {
       "output_type": "stream",
       "stream": "stdout",
       "text": [
        "\n",
        "> predicted=1.0, actual=1.0\n",
        "> predicted=1.0, actual=1.0\n",
        "> predicted=1.0, actual=1.0\n",
        "> predicted=1.0, actual=1.0\n",
        "> predicted=1.0, actual=1.0\n",
        "> predicted=1.0, actual=1.0"
       ]
      },
      {
       "output_type": "stream",
       "stream": "stdout",
       "text": [
        "\n",
        "> predicted=1.0, actual=1.0\n",
        "> predicted=1.0, actual=1.0\n",
        "> predicted=1.0, actual=1.0\n",
        "> predicted=1.0, actual=1.0\n",
        "> predicted=1.0, actual=1.0"
       ]
      },
      {
       "output_type": "stream",
       "stream": "stdout",
       "text": [
        "\n",
        "> predicted=1.0, actual=1.0\n",
        "> predicted=1.0, actual=1.0\n",
        "> predicted=1.0, actual=1.0\n",
        "> predicted=1.0, actual=1.0\n",
        "> predicted=1.0, actual=1.0"
       ]
      },
      {
       "output_type": "stream",
       "stream": "stdout",
       "text": [
        "\n",
        "> predicted=1.0, actual=1.0\n",
        "> predicted=1.0, actual=1.0\n",
        "> predicted=1.0, actual=0.0\n",
        "> predicted=1.0, actual=0.0\n",
        "> predicted=1.0, actual=0.44111111111111112\n",
        "> predicted=1.0, actual=1.0"
       ]
      },
      {
       "output_type": "stream",
       "stream": "stdout",
       "text": [
        "\n",
        "> predicted=1.0, actual=1.0\n",
        "> predicted=1.0, actual=1.0\n",
        "> predicted=1.0, actual=1.0\n",
        "> predicted=1.0, actual=1.0\n",
        "> predicted=1.0, actual=1.0\n",
        "> predicted=1.0, actual=1.0\n",
        "> predicted=1.0, actual=1.0"
       ]
      },
      {
       "output_type": "stream",
       "stream": "stdout",
       "text": [
        "\n",
        "> predicted=1.0, actual=1.0\n",
        "> predicted=1.0, actual=1.0\n",
        "> predicted=1.0, actual=1.0\n",
        "> predicted=1.0, actual=1.0\n",
        "> predicted=1.0, actual=1.0\n",
        "> predicted=1.0, actual=1.0"
       ]
      },
      {
       "output_type": "stream",
       "stream": "stdout",
       "text": [
        "\n",
        "> predicted=1.0, actual=1.0\n",
        "> predicted=1.0, actual=1.0\n",
        "> predicted=1.0, actual=1.0\n",
        "> predicted=1.0, actual=1.0\n",
        "> predicted=1.0, actual=1.0\n",
        "> predicted=1.0, actual=1.0\n",
        "> predicted=1.0, actual=1.0"
       ]
      },
      {
       "output_type": "stream",
       "stream": "stdout",
       "text": [
        "\n",
        "> predicted=1.0, actual=1.0\n",
        "> predicted=1.0, actual=1.0\n",
        "> predicted=1.0, actual=1.0\n",
        "> predicted=1.0, actual=1.0\n",
        "> predicted=1.0, actual=1.0\n",
        "> predicted=1.0, actual=1.0"
       ]
      },
      {
       "output_type": "stream",
       "stream": "stdout",
       "text": [
        "\n",
        "> predicted=1.0, actual=1.0\n",
        "> predicted=1.0, actual=1.0\n",
        "> predicted=1.0, actual=1.0\n",
        "> predicted=1.0, actual=1.0"
       ]
      },
      {
       "output_type": "stream",
       "stream": "stdout",
       "text": [
        "\n",
        "> predicted=1.0, actual=1.0\n",
        "> predicted=1.0, actual=1.0\n",
        "> predicted=1.0, actual=1.0\n",
        "> predicted=1.0, actual=1.0"
       ]
      },
      {
       "output_type": "stream",
       "stream": "stdout",
       "text": [
        "\n",
        "> predicted=1.0, actual=0.0\n",
        "> predicted=1.0, actual=0.0\n",
        "> predicted=1.0, actual=0.0\n",
        "> predicted=1.0, actual=0.0\n",
        "> predicted=1.0, actual=0.0"
       ]
      },
      {
       "output_type": "stream",
       "stream": "stdout",
       "text": [
        "\n",
        "> predicted=1.0, actual=0.0\n",
        "> predicted=1.0, actual=1.0\n",
        "> predicted=1.0, actual=1.0\n",
        "> predicted=1.0, actual=1.0\n",
        "> predicted=1.0, actual=1.0\n",
        "> predicted=1.0, actual=1.0"
       ]
      },
      {
       "output_type": "stream",
       "stream": "stdout",
       "text": [
        "\n",
        "> predicted=1.0, actual=1.0\n",
        "> predicted=1.0, actual=1.0\n",
        "> predicted=1.0, actual=1.0\n",
        "> predicted=1.0, actual=1.0\n",
        "> predicted=1.0, actual=1.0\n",
        "> predicted=1.0, actual=1.0"
       ]
      },
      {
       "output_type": "stream",
       "stream": "stdout",
       "text": [
        "\n",
        "> predicted=1.0, actual=1.0\n",
        "> predicted=1.0, actual=1.0\n",
        "> predicted=1.0, actual=1.0\n",
        "> predicted=1.0, actual=1.0\n",
        "> predicted=1.0, actual=1.0\n",
        "> predicted=1.0, actual=1.0"
       ]
      },
      {
       "output_type": "stream",
       "stream": "stdout",
       "text": [
        "\n",
        "> predicted=1.0, actual=1.0\n",
        "> predicted=1.0, actual=1.0\n",
        "> predicted=1.0, actual=1.0\n",
        "> predicted=1.0, actual=1.0\n",
        "> predicted=1.0, actual=1.0\n",
        "> predicted=1.0, actual=0.99888888888888894"
       ]
      },
      {
       "output_type": "stream",
       "stream": "stdout",
       "text": [
        "\n",
        "> predicted=1.0, actual=0.0\n",
        "> predicted=1.0, actual=0.0\n",
        "> predicted=1.0, actual=1.0\n",
        "> predicted=1.0, actual=1.0\n",
        "> predicted=1.0, actual=1.0"
       ]
      },
      {
       "output_type": "stream",
       "stream": "stdout",
       "text": [
        "\n",
        "> predicted=1.0, actual=1.0\n",
        "> predicted=1.0, actual=1.0\n",
        "> predicted=1.0, actual=1.0\n",
        "> predicted=1.0, actual=1.0\n",
        "> predicted=1.0, actual=1.0"
       ]
      },
      {
       "output_type": "stream",
       "stream": "stdout",
       "text": [
        "\n",
        "> predicted=1.0, actual=1.0\n",
        "> predicted=1.0, actual=1.0\n",
        "> predicted=1.0, actual=1.0\n",
        "> predicted=1.0, actual=1.0\n",
        "> predicted=1.0, actual=1.0\n",
        "> predicted=1.0, actual=1.0"
       ]
      },
      {
       "output_type": "stream",
       "stream": "stdout",
       "text": [
        "\n",
        "> predicted=1.0, actual=1.0\n",
        "> predicted=1.0, actual=1.0\n",
        "> predicted=1.0, actual=1.0\n",
        "> predicted=1.0, actual=0.0\n",
        "> predicted=1.0, actual=0.0\n",
        "> predicted=1.0, actual=0.0"
       ]
      },
      {
       "output_type": "stream",
       "stream": "stdout",
       "text": [
        "\n",
        "> predicted=1.0, actual=0.0\n",
        "> predicted=1.0, actual=0.0\n",
        "> predicted=1.0, actual=0.0\n",
        "> predicted=1.0, actual=0.0\n",
        "> predicted=1.0, actual=0.0\n",
        "> predicted=1.0, actual=0.0\n",
        "> predicted=1.0, actual=0.0"
       ]
      },
      {
       "output_type": "stream",
       "stream": "stdout",
       "text": [
        "\n",
        "> predicted=1.0, actual=0.8288888888888889\n",
        "> predicted=1.0, actual=1.0\n",
        "> predicted=1.0, actual=1.0\n",
        "> predicted=1.0, actual=1.0\n",
        "> predicted=1.0, actual=1.0\n",
        "> predicted=1.0, actual=1.0\n",
        "> predicted=1.0, actual=1.0"
       ]
      },
      {
       "output_type": "stream",
       "stream": "stdout",
       "text": [
        "\n",
        "> predicted=1.0, actual=1.0\n",
        "> predicted=1.0, actual=1.0\n",
        "> predicted=1.0, actual=1.0\n",
        "> predicted=1.0, actual=1.0\n",
        "> predicted=1.0, actual=1.0\n",
        "> predicted=1.0, actual=1.0\n",
        "> predicted=1.0, actual=1.0"
       ]
      },
      {
       "output_type": "stream",
       "stream": "stdout",
       "text": [
        "\n",
        "> predicted=1.0, actual=1.0\n",
        "> predicted=1.0, actual=1.0\n",
        "> predicted=1.0, actual=1.0\n",
        "> predicted=1.0, actual=1.0\n",
        "> predicted=1.0, actual=1.0\n",
        "> predicted=1.0, actual=1.0\n",
        "> predicted=1.0, actual=1.0"
       ]
      },
      {
       "output_type": "stream",
       "stream": "stdout",
       "text": [
        "\n",
        "> predicted=1.0, actual=1.0\n",
        "> predicted=1.0, actual=1.0\n",
        "> predicted=1.0, actual=1.0\n",
        "> predicted=1.0, actual=1.0"
       ]
      },
      {
       "output_type": "stream",
       "stream": "stdout",
       "text": [
        "\n",
        "> predicted=1.0, actual=1.0\n",
        "> predicted=1.0, actual=0.13"
       ]
      },
      {
       "output_type": "stream",
       "stream": "stdout",
       "text": [
        "\n",
        "> predicted=1.0, actual=0.6166666666666667\n",
        "> predicted=1.0, actual=1.0\n",
        "> predicted=1.0, actual=1.0"
       ]
      },
      {
       "output_type": "stream",
       "stream": "stdout",
       "text": [
        "\n",
        "> predicted=1.0, actual=1.0\n",
        "> predicted=1.0, actual=1.0\n",
        "> predicted=1.0, actual=1.0\n",
        "> predicted=1.0, actual=1.0"
       ]
      },
      {
       "output_type": "stream",
       "stream": "stdout",
       "text": [
        "\n",
        "> predicted=1.0, actual=1.0\n",
        "> predicted=1.0, actual=1.0\n",
        "> predicted=1.0, actual=0.0\n",
        "> predicted=1.0, actual=1.0\n",
        "> predicted=1.0, actual=1.0"
       ]
      },
      {
       "output_type": "stream",
       "stream": "stdout",
       "text": [
        "\n",
        "> predicted=1.0, actual=1.0\n",
        "> predicted=1.0, actual=1.0\n",
        "> predicted=1.0, actual=1.0\n",
        "> predicted=1.0, actual=1.0\n",
        "> predicted=1.0, actual=1.0\n",
        "> predicted=1.0, actual=1.0"
       ]
      },
      {
       "output_type": "stream",
       "stream": "stdout",
       "text": [
        "\n",
        "> predicted=1.0, actual=1.0\n",
        "> predicted=1.0, actual=1.0\n",
        "> predicted=1.0, actual=1.0\n",
        "> predicted=1.0, actual=1.0\n",
        "> predicted=1.0, actual=0.0\n",
        "> predicted=1.0, actual=0.0"
       ]
      },
      {
       "output_type": "stream",
       "stream": "stdout",
       "text": [
        "\n",
        "> predicted=1.0, actual=0.0\n",
        "> predicted=1.0, actual=0.0\n",
        "> predicted=1.0, actual=0.0\n",
        "> predicted=1.0, actual=0.0\n",
        "> predicted=1.0, actual=0.0\n",
        "> predicted=1.0, actual=0.0"
       ]
      },
      {
       "output_type": "stream",
       "stream": "stdout",
       "text": [
        "\n",
        "> predicted=1.0, actual=0.0\n",
        "> predicted=1.0, actual=0.0\n",
        "> predicted=1.0, actual=0.0\n",
        "> predicted=1.0, actual=0.0\n",
        "> predicted=1.0, actual=0.0\n",
        "> predicted=1.0, actual=0.0"
       ]
      },
      {
       "output_type": "stream",
       "stream": "stdout",
       "text": [
        "\n",
        "> predicted=1.0, actual=0.0\n",
        "> predicted=1.0, actual=0.0\n",
        "> predicted=1.0, actual=0.0\n",
        "> predicted=1.0, actual=0.0\n",
        "> predicted=1.0, actual=0.0\n",
        "> predicted=1.0, actual=0.0\n",
        "> predicted=1.0, actual=0.0"
       ]
      },
      {
       "output_type": "stream",
       "stream": "stdout",
       "text": [
        "\n",
        "> predicted=1.0, actual=0.10444444444444445\n",
        "> predicted=1.0, actual=1.0\n",
        "> predicted=1.0, actual=1.0\n",
        "> predicted=1.0, actual=1.0\n",
        "> predicted=1.0, actual=1.0\n",
        "> predicted=1.0, actual=1.0"
       ]
      },
      {
       "output_type": "stream",
       "stream": "stdout",
       "text": [
        "\n",
        "> predicted=1.0, actual=1.0\n",
        "> predicted=1.0, actual=1.0\n",
        "> predicted=1.0, actual=1.0\n",
        "> predicted=1.0, actual=1.0\n",
        "> predicted=1.0, actual=1.0\n",
        "> predicted=1.0, actual=1.0"
       ]
      },
      {
       "output_type": "stream",
       "stream": "stdout",
       "text": [
        "\n",
        "> predicted=1.0, actual=1.0\n",
        "> predicted=1.0, actual=1.0\n",
        "> predicted=1.0, actual=1.0\n",
        "> predicted=1.0, actual=1.0\n",
        "> predicted=1.0, actual=1.0\n",
        "> predicted=1.0, actual=1.0"
       ]
      },
      {
       "output_type": "stream",
       "stream": "stdout",
       "text": [
        "\n",
        "> predicted=1.0, actual=1.0\n",
        "> predicted=1.0, actual=1.0\n",
        "> predicted=1.0, actual=1.0\n",
        "> predicted=1.0, actual=0.15111111111111111\n",
        "> predicted=1.0, actual=0.0\n",
        "> predicted=1.0, actual=0.0"
       ]
      },
      {
       "output_type": "stream",
       "stream": "stdout",
       "text": [
        "\n",
        "> predicted=1.0, actual=0.0\n",
        "> predicted=1.0, actual=0.0\n",
        "> predicted=1.0, actual=0.0\n",
        "> predicted=1.0, actual=0.0"
       ]
      },
      {
       "output_type": "stream",
       "stream": "stdout",
       "text": [
        "\n",
        "> predicted=1.0, actual=0.0\n",
        "> predicted=1.0, actual=0.0\n",
        "> predicted=1.0, actual=0.0\n",
        "> predicted=1.0, actual=0.0\n",
        "> predicted=1.0, actual=0.0"
       ]
      },
      {
       "output_type": "stream",
       "stream": "stdout",
       "text": [
        "\n",
        "> predicted=1.0, actual=0.0\n",
        "> predicted=1.0, actual=0.0\n",
        "> predicted=1.0, actual=0.0\n",
        "> predicted=1.0, actual=0.0"
       ]
      },
      {
       "output_type": "stream",
       "stream": "stdout",
       "text": [
        "\n",
        "> predicted=1.0, actual=1.0\n",
        "> predicted=1.0, actual=1.0\n",
        "> predicted=1.0, actual=1.0\n",
        "> predicted=1.0, actual=1.0\n",
        "> predicted=1.0, actual=1.0"
       ]
      },
      {
       "output_type": "stream",
       "stream": "stdout",
       "text": [
        "\n",
        "> predicted=1.0, actual=1.0\n",
        "> predicted=1.0, actual=1.0\n",
        "> predicted=1.0, actual=1.0\n",
        "> predicted=1.0, actual=1.0\n",
        "> predicted=1.0, actual=1.0"
       ]
      },
      {
       "output_type": "stream",
       "stream": "stdout",
       "text": [
        "\n",
        "> predicted=1.0, actual=1.0\n",
        "> predicted=1.0, actual=1.0\n",
        "> predicted=1.0, actual=1.0\n",
        "> predicted=1.0, actual=1.0\n",
        "> predicted=1.0, actual=1.0"
       ]
      },
      {
       "output_type": "stream",
       "stream": "stdout",
       "text": [
        "\n",
        "> predicted=1.0, actual=0.82222222222222219\n",
        "> predicted=1.0, actual=0.0\n",
        "> predicted=1.0, actual=0.0\n",
        "> predicted=1.0, actual=0.0\n",
        "> predicted=1.0, actual=0.0\n",
        "> predicted=1.0, actual=0.0"
       ]
      },
      {
       "output_type": "stream",
       "stream": "stdout",
       "text": [
        "\n",
        "> predicted=1.0, actual=0.0\n",
        "> predicted=1.0, actual=0.0\n",
        "> predicted=1.0, actual=0.0\n",
        "> predicted=1.0, actual=0.18777777777777777\n",
        "> predicted=1.0, actual=1.0\n",
        "> predicted=1.0, actual=1.0\n",
        "> predicted=1.0, actual=1.0"
       ]
      },
      {
       "output_type": "stream",
       "stream": "stdout",
       "text": [
        "\n",
        "> predicted=1.0, actual=1.0\n",
        "> predicted=1.0, actual=1.0\n",
        "> predicted=1.0, actual=1.0\n",
        "> predicted=1.0, actual=1.0\n",
        "> predicted=1.0, actual=1.0\n",
        "> predicted=1.0, actual=1.0"
       ]
      },
      {
       "output_type": "stream",
       "stream": "stdout",
       "text": [
        "\n",
        "> predicted=1.0, actual=1.0\n",
        "> predicted=1.0, actual=1.0\n",
        "> predicted=1.0, actual=1.0\n",
        "> predicted=1.0, actual=1.0\n",
        "> predicted=1.0, actual=1.0"
       ]
      },
      {
       "output_type": "stream",
       "stream": "stdout",
       "text": [
        "\n",
        "> predicted=1.0, actual=1.0\n",
        "> predicted=1.0, actual=1.0\n",
        "> predicted=1.0, actual=1.0\n",
        "> predicted=1.0, actual=1.0\n",
        "> predicted=1.0, actual=1.0"
       ]
      },
      {
       "output_type": "stream",
       "stream": "stdout",
       "text": [
        "\n",
        "> predicted=1.0, actual=1.0\n",
        "> predicted=1.0, actual=1.0\n",
        "> predicted=1.0, actual=1.0\n",
        "> predicted=1.0, actual=1.0"
       ]
      },
      {
       "output_type": "stream",
       "stream": "stdout",
       "text": [
        "\n",
        "> predicted=1.0, actual=1.0\n",
        "> predicted=1.0, actual=1.0\n",
        "> predicted=1.0, actual=1.0\n",
        "> predicted=1.0, actual=1.0"
       ]
      },
      {
       "output_type": "stream",
       "stream": "stdout",
       "text": [
        "\n",
        "> predicted=1.0, actual=1.0\n",
        "> predicted=1.0, actual=1.0\n",
        "> predicted=1.0, actual=1.0\n",
        "> predicted=1.0, actual=1.0"
       ]
      },
      {
       "output_type": "stream",
       "stream": "stdout",
       "text": [
        "\n",
        "> predicted=1.0, actual=1.0\n",
        "> predicted=1.0, actual=0.0\n",
        "> predicted=1.0, actual=1.0\n",
        "> predicted=1.0, actual=1.0\n",
        "> predicted=1.0, actual=1.0"
       ]
      },
      {
       "output_type": "stream",
       "stream": "stdout",
       "text": [
        "\n",
        "> predicted=1.0, actual=1.0\n",
        "> predicted=1.0, actual=1.0\n",
        "> predicted=1.0, actual=1.0\n",
        "> predicted=1.0, actual=0.0"
       ]
      },
      {
       "output_type": "stream",
       "stream": "stdout",
       "text": [
        "\n",
        "> predicted=1.0, actual=0.0\n",
        "> predicted=1.0, actual=0.0\n",
        "> predicted=1.0, actual=0.0\n",
        "> predicted=1.0, actual=0.0\n",
        "> predicted=1.0, actual=0.0"
       ]
      },
      {
       "output_type": "stream",
       "stream": "stdout",
       "text": [
        "\n",
        "> predicted=1.0, actual=0.0\n",
        "> predicted=1.0, actual=1.0\n",
        "> predicted=1.0, actual=1.0\n",
        "> predicted=1.0, actual=1.0"
       ]
      },
      {
       "output_type": "stream",
       "stream": "stdout",
       "text": [
        "\n",
        "> predicted=1.0, actual=1.0\n",
        "> predicted=1.0, actual=1.0\n",
        "> predicted=1.0, actual=1.0\n",
        "> predicted=1.0, actual=1.0"
       ]
      },
      {
       "output_type": "stream",
       "stream": "stdout",
       "text": [
        "\n",
        "> predicted=1.0, actual=1.0\n",
        "> predicted=1.0, actual=1.0\n",
        "> predicted=1.0, actual=1.0\n",
        "> predicted=1.0, actual=1.0"
       ]
      },
      {
       "output_type": "stream",
       "stream": "stdout",
       "text": [
        "\n",
        "> predicted=1.0, actual=1.0\n",
        "> predicted=1.0, actual=1.0\n",
        "> predicted=1.0, actual=1.0\n",
        "> predicted=1.0, actual=1.0\n",
        "> predicted=1.0, actual=1.0"
       ]
      },
      {
       "output_type": "stream",
       "stream": "stdout",
       "text": [
        "\n",
        "> predicted=1.0, actual=1.0\n",
        "> predicted=1.0, actual=1.0\n",
        "> predicted=1.0, actual=1.0\n",
        "> predicted=1.0, actual=1.0\n",
        "> predicted=1.0, actual=1.0\n",
        "> predicted=1.0, actual=1.0\n",
        "> predicted=1.0, actual=1.0"
       ]
      },
      {
       "output_type": "stream",
       "stream": "stdout",
       "text": [
        "\n",
        "> predicted=1.0, actual=1.0\n",
        "> predicted=1.0, actual=1.0\n",
        "> predicted=1.0, actual=1.0\n",
        "> predicted=1.0, actual=1.0\n",
        "> predicted=1.0, actual=1.0\n",
        "> predicted=1.0, actual=1.0"
       ]
      },
      {
       "output_type": "stream",
       "stream": "stdout",
       "text": [
        "\n",
        "> predicted=1.0, actual=1.0\n",
        "> predicted=1.0, actual=1.0\n",
        "> predicted=1.0, actual=1.0\n",
        "> predicted=1.0, actual=1.0\n",
        "> predicted=1.0, actual=1.0\n",
        "> predicted=1.0, actual=1.0"
       ]
      },
      {
       "output_type": "stream",
       "stream": "stdout",
       "text": [
        "\n",
        "> predicted=1.0, actual=1.0\n",
        "> predicted=1.0, actual=1.0\n",
        "> predicted=1.0, actual=1.0\n",
        "> predicted=1.0, actual=1.0\n",
        "> predicted=1.0, actual=1.0"
       ]
      },
      {
       "output_type": "stream",
       "stream": "stdout",
       "text": [
        "\n",
        "> predicted=1.0, actual=1.0\n",
        "> predicted=1.0, actual=1.0\n",
        "> predicted=1.0, actual=1.0\n",
        "> predicted=1.0, actual=1.0\n",
        "> predicted=1.0, actual=1.0"
       ]
      },
      {
       "output_type": "stream",
       "stream": "stdout",
       "text": [
        "\n",
        "> predicted=1.0, actual=1.0\n",
        "> predicted=1.0, actual=1.0\n",
        "> predicted=1.0, actual=1.0\n",
        "> predicted=1.0, actual=1.0\n",
        "> predicted=1.0, actual=1.0\n",
        "> predicted=1.0, actual=1.0"
       ]
      },
      {
       "output_type": "stream",
       "stream": "stdout",
       "text": [
        "\n",
        "> predicted=1.0, actual=1.0\n",
        "> predicted=1.0, actual=1.0\n",
        "> predicted=1.0, actual=0.6544444444444445\n",
        "> predicted=1.0, actual=0.0\n",
        "> predicted=1.0, actual=0.0\n",
        "> predicted=1.0, actual=0.0"
       ]
      },
      {
       "output_type": "stream",
       "stream": "stdout",
       "text": [
        "\n",
        "> predicted=1.0, actual=0.0\n",
        "> predicted=1.0, actual=0.0\n",
        "> predicted=1.0, actual=0.0\n",
        "> predicted=1.0, actual=0.0\n",
        "> predicted=1.0, actual=1.0\n",
        "> predicted=1.0, actual=1.0"
       ]
      },
      {
       "output_type": "stream",
       "stream": "stdout",
       "text": [
        "\n",
        "> predicted=1.0, actual=1.0\n",
        "> predicted=1.0, actual=1.0\n",
        "> predicted=1.0, actual=1.0\n",
        "> predicted=1.0, actual=1.0\n",
        "> predicted=1.0, actual=1.0\n",
        "> predicted=1.0, actual=0.43777777777777777"
       ]
      },
      {
       "output_type": "stream",
       "stream": "stdout",
       "text": [
        "\n",
        "> predicted=1.0, actual=1.0\n",
        "> predicted=1.0, actual=1.0\n",
        "> predicted=1.0, actual=1.0\n",
        "> predicted=1.0, actual=1.0\n",
        "> predicted=1.0, actual=1.0\n",
        "> predicted=1.0, actual=1.0"
       ]
      },
      {
       "output_type": "stream",
       "stream": "stdout",
       "text": [
        "\n",
        "> predicted=1.0, actual=1.0\n",
        "> predicted=1.0, actual=1.0\n",
        "> predicted=1.0, actual=1.0\n",
        "> predicted=1.0, actual=1.0\n",
        "> predicted=1.0, actual=1.0"
       ]
      },
      {
       "output_type": "stream",
       "stream": "stdout",
       "text": [
        "\n",
        "> predicted=1.0, actual=1.0\n",
        "> predicted=1.0, actual=1.0\n",
        "> predicted=1.0, actual=1.0\n",
        "> predicted=1.0, actual=1.0\n",
        "> predicted=1.0, actual=1.0\n",
        "> predicted=1.0, actual=0.0"
       ]
      },
      {
       "output_type": "stream",
       "stream": "stdout",
       "text": [
        "\n",
        "> predicted=1.0, actual=1.0\n",
        "> predicted=1.0, actual=0.0\n",
        "> predicted=1.0, actual=0.0\n",
        "> predicted=1.0, actual=0.0\n",
        "> predicted=1.0, actual=0.0\n",
        "> predicted=1.0, actual=0.0"
       ]
      },
      {
       "output_type": "stream",
       "stream": "stdout",
       "text": [
        "\n",
        "> predicted=1.0, actual=0.0\n",
        "> predicted=1.0, actual=0.0\n",
        "> predicted=1.0, actual=0.0\n",
        "> predicted=1.0, actual=0.0\n",
        "> predicted=1.0, actual=0.99111111111111116\n",
        "> predicted=1.0, actual=1.0\n",
        "> predicted=1.0, actual=1.0"
       ]
      },
      {
       "output_type": "stream",
       "stream": "stdout",
       "text": [
        "\n",
        "> predicted=1.0, actual=1.0\n",
        "> predicted=1.0, actual=1.0\n",
        "> predicted=1.0, actual=1.0\n",
        "> predicted=1.0, actual=1.0\n",
        "> predicted=1.0, actual=1.0\n",
        "TP =  1038\n",
        "TN =  0\n",
        "FP =  457\n",
        "FN =  0\n",
        "Accuracy =  0.694314381271"
       ]
      },
      {
       "output_type": "stream",
       "stream": "stdout",
       "text": [
        "\n",
        "Precision =  0.694314381271\n",
        "Recall =  1.0\n"
       ]
      }
     ],
     "prompt_number": 18
    },
    {
     "cell_type": "code",
     "collapsed": false,
     "input": [],
     "language": "python",
     "metadata": {},
     "outputs": []
    }
   ],
   "metadata": {}
  }
 ]
}