{
 "cells": [
  {
   "cell_type": "code",
   "execution_count": 6,
   "metadata": {
    "collapsed": false
   },
   "outputs": [],
   "source": [
    "import numpy as np\n",
    "import pandas as pd\n",
    "from numpy import *\n",
    "from pandas import *\n",
    "import matplotlib\n",
    "import os\n",
    "import os.path\n",
    "from os import *\n",
    "from os.path import *\n",
    "import matplotlib.pyplot as plt\n",
    "from itertools import chain\n",
    "from sklearn import svm, datasets, metrics\n",
    "\n",
    "%matplotlib inline"
   ]
  },
  {
   "cell_type": "markdown",
   "metadata": {},
   "source": [
    "Ground Truth Values\n",
    "---------------------"
   ]
  },
  {
   "cell_type": "code",
   "execution_count": 8,
   "metadata": {
    "collapsed": false
   },
   "outputs": [],
   "source": [
    "df = pd.read_csv('/Users/Rishi/csv_files/02_occupancy_csv/02_summer.csv')"
   ]
  },
  {
   "cell_type": "code",
   "execution_count": 9,
   "metadata": {
    "collapsed": false
   },
   "outputs": [
    {
     "data": {
      "text/html": [
       "<div>\n",
       "<table border=\"1\" class=\"dataframe\">\n",
       "  <thead>\n",
       "    <tr style=\"text-align: right;\">\n",
       "      <th></th>\n",
       "      <th>Unnamed: 0</th>\n",
       "      <th>'00:00:00'</th>\n",
       "      <th>'00:00:01'</th>\n",
       "      <th>'00:00:02'</th>\n",
       "      <th>'00:00:03'</th>\n",
       "      <th>'00:00:04'</th>\n",
       "      <th>'00:00:05'</th>\n",
       "      <th>'00:00:06'</th>\n",
       "      <th>'00:00:07'</th>\n",
       "      <th>'00:00:08'</th>\n",
       "      <th>...</th>\n",
       "      <th>'23:59:50'</th>\n",
       "      <th>'23:59:51'</th>\n",
       "      <th>'23:59:52'</th>\n",
       "      <th>'23:59:53'</th>\n",
       "      <th>'23:59:54'</th>\n",
       "      <th>'23:59:55'</th>\n",
       "      <th>'23:59:56'</th>\n",
       "      <th>'23:59:57'</th>\n",
       "      <th>'23:59:58'</th>\n",
       "      <th>'23:59:59'</th>\n",
       "    </tr>\n",
       "  </thead>\n",
       "  <tbody>\n",
       "    <tr>\n",
       "      <th>0</th>\n",
       "      <td>30-May-2012</td>\n",
       "      <td>1</td>\n",
       "      <td>1</td>\n",
       "      <td>1</td>\n",
       "      <td>1</td>\n",
       "      <td>1</td>\n",
       "      <td>1</td>\n",
       "      <td>1</td>\n",
       "      <td>1</td>\n",
       "      <td>1</td>\n",
       "      <td>...</td>\n",
       "      <td>1</td>\n",
       "      <td>1</td>\n",
       "      <td>1</td>\n",
       "      <td>1</td>\n",
       "      <td>1</td>\n",
       "      <td>1</td>\n",
       "      <td>1</td>\n",
       "      <td>1</td>\n",
       "      <td>1</td>\n",
       "      <td>1</td>\n",
       "    </tr>\n",
       "    <tr>\n",
       "      <th>1</th>\n",
       "      <td>31-May-2012</td>\n",
       "      <td>1</td>\n",
       "      <td>1</td>\n",
       "      <td>1</td>\n",
       "      <td>1</td>\n",
       "      <td>1</td>\n",
       "      <td>1</td>\n",
       "      <td>1</td>\n",
       "      <td>1</td>\n",
       "      <td>1</td>\n",
       "      <td>...</td>\n",
       "      <td>1</td>\n",
       "      <td>1</td>\n",
       "      <td>1</td>\n",
       "      <td>1</td>\n",
       "      <td>1</td>\n",
       "      <td>1</td>\n",
       "      <td>1</td>\n",
       "      <td>1</td>\n",
       "      <td>1</td>\n",
       "      <td>1</td>\n",
       "    </tr>\n",
       "    <tr>\n",
       "      <th>2</th>\n",
       "      <td>01-Jun-2012</td>\n",
       "      <td>1</td>\n",
       "      <td>1</td>\n",
       "      <td>1</td>\n",
       "      <td>1</td>\n",
       "      <td>1</td>\n",
       "      <td>1</td>\n",
       "      <td>1</td>\n",
       "      <td>1</td>\n",
       "      <td>1</td>\n",
       "      <td>...</td>\n",
       "      <td>1</td>\n",
       "      <td>1</td>\n",
       "      <td>1</td>\n",
       "      <td>1</td>\n",
       "      <td>1</td>\n",
       "      <td>1</td>\n",
       "      <td>1</td>\n",
       "      <td>1</td>\n",
       "      <td>1</td>\n",
       "      <td>1</td>\n",
       "    </tr>\n",
       "    <tr>\n",
       "      <th>3</th>\n",
       "      <td>02-Jun-2012</td>\n",
       "      <td>1</td>\n",
       "      <td>1</td>\n",
       "      <td>1</td>\n",
       "      <td>1</td>\n",
       "      <td>1</td>\n",
       "      <td>1</td>\n",
       "      <td>1</td>\n",
       "      <td>1</td>\n",
       "      <td>1</td>\n",
       "      <td>...</td>\n",
       "      <td>1</td>\n",
       "      <td>1</td>\n",
       "      <td>1</td>\n",
       "      <td>1</td>\n",
       "      <td>1</td>\n",
       "      <td>1</td>\n",
       "      <td>1</td>\n",
       "      <td>1</td>\n",
       "      <td>1</td>\n",
       "      <td>1</td>\n",
       "    </tr>\n",
       "    <tr>\n",
       "      <th>4</th>\n",
       "      <td>03-Jun-2012</td>\n",
       "      <td>1</td>\n",
       "      <td>1</td>\n",
       "      <td>1</td>\n",
       "      <td>1</td>\n",
       "      <td>1</td>\n",
       "      <td>1</td>\n",
       "      <td>1</td>\n",
       "      <td>1</td>\n",
       "      <td>1</td>\n",
       "      <td>...</td>\n",
       "      <td>1</td>\n",
       "      <td>1</td>\n",
       "      <td>1</td>\n",
       "      <td>1</td>\n",
       "      <td>1</td>\n",
       "      <td>1</td>\n",
       "      <td>1</td>\n",
       "      <td>1</td>\n",
       "      <td>1</td>\n",
       "      <td>1</td>\n",
       "    </tr>\n",
       "  </tbody>\n",
       "</table>\n",
       "<p>5 rows × 86401 columns</p>\n",
       "</div>"
      ],
      "text/plain": [
       "    Unnamed: 0  '00:00:00'  '00:00:01'  '00:00:02'  '00:00:03'  '00:00:04'  \\\n",
       "0  30-May-2012           1           1           1           1           1   \n",
       "1  31-May-2012           1           1           1           1           1   \n",
       "2  01-Jun-2012           1           1           1           1           1   \n",
       "3  02-Jun-2012           1           1           1           1           1   \n",
       "4  03-Jun-2012           1           1           1           1           1   \n",
       "\n",
       "   '00:00:05'  '00:00:06'  '00:00:07'  '00:00:08'     ...      '23:59:50'  \\\n",
       "0           1           1           1           1     ...               1   \n",
       "1           1           1           1           1     ...               1   \n",
       "2           1           1           1           1     ...               1   \n",
       "3           1           1           1           1     ...               1   \n",
       "4           1           1           1           1     ...               1   \n",
       "\n",
       "   '23:59:51'  '23:59:52'  '23:59:53'  '23:59:54'  '23:59:55'  '23:59:56'  \\\n",
       "0           1           1           1           1           1           1   \n",
       "1           1           1           1           1           1           1   \n",
       "2           1           1           1           1           1           1   \n",
       "3           1           1           1           1           1           1   \n",
       "4           1           1           1           1           1           1   \n",
       "\n",
       "   '23:59:57'  '23:59:58'  '23:59:59'  \n",
       "0           1           1           1  \n",
       "1           1           1           1  \n",
       "2           1           1           1  \n",
       "3           1           1           1  \n",
       "4           1           1           1  \n",
       "\n",
       "[5 rows x 86401 columns]"
      ]
     },
     "execution_count": 9,
     "metadata": {},
     "output_type": "execute_result"
    }
   ],
   "source": [
    "df.head()"
   ]
  },
  {
   "cell_type": "code",
   "execution_count": 10,
   "metadata": {
    "collapsed": false
   },
   "outputs": [
    {
     "data": {
      "text/html": [
       "<div>\n",
       "<table border=\"1\" class=\"dataframe\">\n",
       "  <thead>\n",
       "    <tr style=\"text-align: right;\">\n",
       "      <th></th>\n",
       "      <th>Unnamed: 0</th>\n",
       "      <th>'00:00:00'</th>\n",
       "      <th>'00:00:01'</th>\n",
       "      <th>'00:00:02'</th>\n",
       "      <th>'00:00:03'</th>\n",
       "      <th>'00:00:04'</th>\n",
       "      <th>'00:00:05'</th>\n",
       "      <th>'00:00:06'</th>\n",
       "      <th>'00:00:07'</th>\n",
       "      <th>'00:00:08'</th>\n",
       "      <th>...</th>\n",
       "      <th>'23:59:50'</th>\n",
       "      <th>'23:59:51'</th>\n",
       "      <th>'23:59:52'</th>\n",
       "      <th>'23:59:53'</th>\n",
       "      <th>'23:59:54'</th>\n",
       "      <th>'23:59:55'</th>\n",
       "      <th>'23:59:56'</th>\n",
       "      <th>'23:59:57'</th>\n",
       "      <th>'23:59:58'</th>\n",
       "      <th>'23:59:59'</th>\n",
       "    </tr>\n",
       "  </thead>\n",
       "  <tbody>\n",
       "    <tr>\n",
       "      <th>78</th>\n",
       "      <td>28-Aug-2012</td>\n",
       "      <td>1</td>\n",
       "      <td>1</td>\n",
       "      <td>1</td>\n",
       "      <td>1</td>\n",
       "      <td>1</td>\n",
       "      <td>1</td>\n",
       "      <td>1</td>\n",
       "      <td>1</td>\n",
       "      <td>1</td>\n",
       "      <td>...</td>\n",
       "      <td>1</td>\n",
       "      <td>1</td>\n",
       "      <td>1</td>\n",
       "      <td>1</td>\n",
       "      <td>1</td>\n",
       "      <td>1</td>\n",
       "      <td>1</td>\n",
       "      <td>1</td>\n",
       "      <td>1</td>\n",
       "      <td>1</td>\n",
       "    </tr>\n",
       "    <tr>\n",
       "      <th>79</th>\n",
       "      <td>29-Aug-2012</td>\n",
       "      <td>1</td>\n",
       "      <td>1</td>\n",
       "      <td>1</td>\n",
       "      <td>1</td>\n",
       "      <td>1</td>\n",
       "      <td>1</td>\n",
       "      <td>1</td>\n",
       "      <td>1</td>\n",
       "      <td>1</td>\n",
       "      <td>...</td>\n",
       "      <td>1</td>\n",
       "      <td>1</td>\n",
       "      <td>1</td>\n",
       "      <td>1</td>\n",
       "      <td>1</td>\n",
       "      <td>1</td>\n",
       "      <td>1</td>\n",
       "      <td>1</td>\n",
       "      <td>1</td>\n",
       "      <td>1</td>\n",
       "    </tr>\n",
       "    <tr>\n",
       "      <th>80</th>\n",
       "      <td>30-Aug-2012</td>\n",
       "      <td>1</td>\n",
       "      <td>1</td>\n",
       "      <td>1</td>\n",
       "      <td>1</td>\n",
       "      <td>1</td>\n",
       "      <td>1</td>\n",
       "      <td>1</td>\n",
       "      <td>1</td>\n",
       "      <td>1</td>\n",
       "      <td>...</td>\n",
       "      <td>1</td>\n",
       "      <td>1</td>\n",
       "      <td>1</td>\n",
       "      <td>1</td>\n",
       "      <td>1</td>\n",
       "      <td>1</td>\n",
       "      <td>1</td>\n",
       "      <td>1</td>\n",
       "      <td>1</td>\n",
       "      <td>1</td>\n",
       "    </tr>\n",
       "    <tr>\n",
       "      <th>81</th>\n",
       "      <td>31-Aug-2012</td>\n",
       "      <td>1</td>\n",
       "      <td>1</td>\n",
       "      <td>1</td>\n",
       "      <td>1</td>\n",
       "      <td>1</td>\n",
       "      <td>1</td>\n",
       "      <td>1</td>\n",
       "      <td>1</td>\n",
       "      <td>1</td>\n",
       "      <td>...</td>\n",
       "      <td>1</td>\n",
       "      <td>1</td>\n",
       "      <td>1</td>\n",
       "      <td>1</td>\n",
       "      <td>1</td>\n",
       "      <td>1</td>\n",
       "      <td>1</td>\n",
       "      <td>1</td>\n",
       "      <td>1</td>\n",
       "      <td>1</td>\n",
       "    </tr>\n",
       "    <tr>\n",
       "      <th>82</th>\n",
       "      <td>01-Sep-2012</td>\n",
       "      <td>1</td>\n",
       "      <td>1</td>\n",
       "      <td>1</td>\n",
       "      <td>1</td>\n",
       "      <td>1</td>\n",
       "      <td>1</td>\n",
       "      <td>1</td>\n",
       "      <td>1</td>\n",
       "      <td>1</td>\n",
       "      <td>...</td>\n",
       "      <td>1</td>\n",
       "      <td>1</td>\n",
       "      <td>1</td>\n",
       "      <td>1</td>\n",
       "      <td>1</td>\n",
       "      <td>1</td>\n",
       "      <td>1</td>\n",
       "      <td>1</td>\n",
       "      <td>1</td>\n",
       "      <td>1</td>\n",
       "    </tr>\n",
       "  </tbody>\n",
       "</table>\n",
       "<p>5 rows × 86401 columns</p>\n",
       "</div>"
      ],
      "text/plain": [
       "     Unnamed: 0  '00:00:00'  '00:00:01'  '00:00:02'  '00:00:03'  '00:00:04'  \\\n",
       "78  28-Aug-2012           1           1           1           1           1   \n",
       "79  29-Aug-2012           1           1           1           1           1   \n",
       "80  30-Aug-2012           1           1           1           1           1   \n",
       "81  31-Aug-2012           1           1           1           1           1   \n",
       "82  01-Sep-2012           1           1           1           1           1   \n",
       "\n",
       "    '00:00:05'  '00:00:06'  '00:00:07'  '00:00:08'     ...      '23:59:50'  \\\n",
       "78           1           1           1           1     ...               1   \n",
       "79           1           1           1           1     ...               1   \n",
       "80           1           1           1           1     ...               1   \n",
       "81           1           1           1           1     ...               1   \n",
       "82           1           1           1           1     ...               1   \n",
       "\n",
       "    '23:59:51'  '23:59:52'  '23:59:53'  '23:59:54'  '23:59:55'  '23:59:56'  \\\n",
       "78           1           1           1           1           1           1   \n",
       "79           1           1           1           1           1           1   \n",
       "80           1           1           1           1           1           1   \n",
       "81           1           1           1           1           1           1   \n",
       "82           1           1           1           1           1           1   \n",
       "\n",
       "    '23:59:57'  '23:59:58'  '23:59:59'  \n",
       "78           1           1           1  \n",
       "79           1           1           1  \n",
       "80           1           1           1  \n",
       "81           1           1           1  \n",
       "82           1           1           1  \n",
       "\n",
       "[5 rows x 86401 columns]"
      ]
     },
     "execution_count": 10,
     "metadata": {},
     "output_type": "execute_result"
    }
   ],
   "source": [
    "df.tail()"
   ]
  },
  {
   "cell_type": "code",
   "execution_count": 11,
   "metadata": {
    "collapsed": false
   },
   "outputs": [],
   "source": [
    "index = pd.DatetimeIndex(start = '01-06-2012', periods = 7171200, freq = '1s')"
   ]
  },
  {
   "cell_type": "code",
   "execution_count": null,
   "metadata": {
    "collapsed": false
   },
   "outputs": [],
   "source": []
  },
  {
   "cell_type": "code",
   "execution_count": 12,
   "metadata": {
    "collapsed": false
   },
   "outputs": [
    {
     "data": {
      "text/plain": [
       "DatetimeIndex(['2012-01-06 00:00:00', '2012-01-06 00:00:01',\n",
       "               '2012-01-06 00:00:02', '2012-01-06 00:00:03',\n",
       "               '2012-01-06 00:00:04', '2012-01-06 00:00:05',\n",
       "               '2012-01-06 00:00:06', '2012-01-06 00:00:07',\n",
       "               '2012-01-06 00:00:08', '2012-01-06 00:00:09', \n",
       "               ...\n",
       "               '2012-03-28 23:59:50', '2012-03-28 23:59:51',\n",
       "               '2012-03-28 23:59:52', '2012-03-28 23:59:53',\n",
       "               '2012-03-28 23:59:54', '2012-03-28 23:59:55',\n",
       "               '2012-03-28 23:59:56', '2012-03-28 23:59:57',\n",
       "               '2012-03-28 23:59:58', '2012-03-28 23:59:59'],\n",
       "              dtype='datetime64[ns]', length=7171200, freq='S', tz=None)"
      ]
     },
     "execution_count": 12,
     "metadata": {},
     "output_type": "execute_result"
    }
   ],
   "source": [
    "index"
   ]
  },
  {
   "cell_type": "code",
   "execution_count": 13,
   "metadata": {
    "collapsed": false
   },
   "outputs": [],
   "source": [
    "out = []\n",
    "for i in range(len(df)):\n",
    "    out.append(df.ix[i].values[1:])\n",
    "out_1d = list(chain.from_iterable(out))"
   ]
  },
  {
   "cell_type": "code",
   "execution_count": 14,
   "metadata": {
    "collapsed": false
   },
   "outputs": [
    {
     "data": {
      "text/plain": [
       "[1, 1, 1, 1, 1]"
      ]
     },
     "execution_count": 14,
     "metadata": {},
     "output_type": "execute_result"
    }
   ],
   "source": [
    "out_1d[:5]"
   ]
  },
  {
   "cell_type": "code",
   "execution_count": 15,
   "metadata": {
    "collapsed": false
   },
   "outputs": [
    {
     "data": {
      "text/plain": [
       "7171200"
      ]
     },
     "execution_count": 15,
     "metadata": {},
     "output_type": "execute_result"
    }
   ],
   "source": [
    "len(out_1d)"
   ]
  },
  {
   "cell_type": "code",
   "execution_count": 16,
   "metadata": {
    "collapsed": false
   },
   "outputs": [],
   "source": [
    "df_new = pd.Series(out_1d, index = index)"
   ]
  },
  {
   "cell_type": "code",
   "execution_count": 17,
   "metadata": {
    "collapsed": false
   },
   "outputs": [
    {
     "data": {
      "text/plain": [
       "2012-01-06 00:00:00    1\n",
       "2012-01-06 00:00:01    1\n",
       "2012-01-06 00:00:02    1\n",
       "2012-01-06 00:00:03    1\n",
       "2012-01-06 00:00:04    1\n",
       "Freq: S, dtype: int64"
      ]
     },
     "execution_count": 17,
     "metadata": {},
     "output_type": "execute_result"
    }
   ],
   "source": [
    "df_new.head()"
   ]
  },
  {
   "cell_type": "code",
   "execution_count": 18,
   "metadata": {
    "collapsed": false
   },
   "outputs": [
    {
     "data": {
      "text/plain": [
       "2012-03-28 23:59:55    1\n",
       "2012-03-28 23:59:56    1\n",
       "2012-03-28 23:59:57    1\n",
       "2012-03-28 23:59:58    1\n",
       "2012-03-28 23:59:59    1\n",
       "Freq: S, dtype: int64"
      ]
     },
     "execution_count": 18,
     "metadata": {},
     "output_type": "execute_result"
    }
   ],
   "source": [
    "df_new.tail()"
   ]
  },
  {
   "cell_type": "code",
   "execution_count": 19,
   "metadata": {
    "collapsed": false
   },
   "outputs": [],
   "source": [
    "df_resampled = df_new.resample(\"15min\")"
   ]
  },
  {
   "cell_type": "code",
   "execution_count": 20,
   "metadata": {
    "collapsed": false
   },
   "outputs": [
    {
     "data": {
      "text/plain": [
       "<matplotlib.axes._subplots.AxesSubplot at 0x10951bed0>"
      ]
     },
     "execution_count": 20,
     "metadata": {},
     "output_type": "execute_result"
    },
    {
     "data": {
      "image/png": "[encoded data removed]",
      "text/plain": [
       "<matplotlib.figure.Figure at 0x10b8adad0>"
      ]
     },
     "metadata": {},
     "output_type": "display_data"
    }
   ],
   "source": [
    "df_resampled.plot(kind = 'hist')"
   ]
  },
  {
   "cell_type": "code",
   "execution_count": 21,
   "metadata": {
    "collapsed": false
   },
   "outputs": [],
   "source": [
    "#df_resampled = df_resampled['2012-06-01':]"
   ]
  },
  {
   "cell_type": "code",
   "execution_count": 22,
   "metadata": {
    "collapsed": false
   },
   "outputs": [
    {
     "data": {
      "text/plain": [
       "2012-01-06 00:00:00    1\n",
       "2012-01-06 00:15:00    1\n",
       "2012-01-06 00:30:00    1\n",
       "2012-01-06 00:45:00    1\n",
       "2012-01-06 01:00:00    1\n",
       "Freq: 15T, dtype: float64"
      ]
     },
     "execution_count": 22,
     "metadata": {},
     "output_type": "execute_result"
    }
   ],
   "source": [
    "df_resampled.head()"
   ]
  },
  {
   "cell_type": "code",
   "execution_count": 23,
   "metadata": {
    "collapsed": false
   },
   "outputs": [
    {
     "data": {
      "text/plain": [
       "2012-03-28 22:45:00    0.000000\n",
       "2012-03-28 23:00:00    0.000000\n",
       "2012-03-28 23:15:00    0.000000\n",
       "2012-03-28 23:30:00    0.977778\n",
       "2012-03-28 23:45:00    1.000000\n",
       "Freq: 15T, dtype: float64"
      ]
     },
     "execution_count": 23,
     "metadata": {},
     "output_type": "execute_result"
    }
   ],
   "source": [
    "df_resampled.tail()"
   ]
  },
  {
   "cell_type": "markdown",
   "metadata": {},
   "source": [
    "The ground truth values are now stored in a variable called df_resampled."
   ]
  },
  {
   "cell_type": "markdown",
   "metadata": {},
   "source": [
    "\n",
    "\n",
    "Implementing the Support Vector Machine\n",
    "---------------"
   ]
  },
  {
   "cell_type": "code",
   "execution_count": 25,
   "metadata": {
    "collapsed": false
   },
   "outputs": [],
   "source": [
    "dir_path='/Users/Rishi/NIOMTK_datasets'\n",
    "store=HDFStore(join(dir_path, 'eco.h5'))\n",
    "df=store['/building2/elec/meter2']"
   ]
  },
  {
   "cell_type": "code",
   "execution_count": 26,
   "metadata": {
    "collapsed": false
   },
   "outputs": [],
   "source": [
    "dataframe = df['power']['active']['2012-06-01':'2012-08-31'].resample('15min')"
   ]
  },
  {
   "cell_type": "code",
   "execution_count": 27,
   "metadata": {
    "collapsed": false
   },
   "outputs": [],
   "source": [
    "len_df_values = len(dataframe.values)"
   ]
  },
  {
   "cell_type": "code",
   "execution_count": 28,
   "metadata": {
    "collapsed": false
   },
   "outputs": [],
   "source": [
    "len_ground_truth_values = len(df_resampled.values)"
   ]
  },
  {
   "cell_type": "code",
   "execution_count": 29,
   "metadata": {
    "collapsed": false
   },
   "outputs": [
    {
     "name": "stdout",
     "output_type": "stream",
     "text": [
      "[[ 21.15794373]\n",
      " [ 21.1594944 ]\n",
      " [ 21.19431496]\n",
      " ..., \n",
      " [ 21.63126755]\n",
      " [ 21.64588356]\n",
      " [ 21.591362  ]]\n"
     ]
    }
   ],
   "source": [
    "lis = []\n",
    "for i in dataframe.values[:min(len_df_values, len_ground_truth_values)]:\n",
    "    if np.isnan(i) == False:\n",
    "        lis.append([i])\n",
    "    else:\n",
    "        lis.append([0])\n",
    "power_array = np.asarray(lis)\n",
    "print (power_array)"
   ]
  },
  {
   "cell_type": "code",
   "execution_count": null,
   "metadata": {
    "collapsed": false
   },
   "outputs": [],
   "source": []
  },
  {
   "cell_type": "code",
   "execution_count": null,
   "metadata": {
    "collapsed": false
   },
   "outputs": [],
   "source": []
  },
  {
   "cell_type": "code",
   "execution_count": null,
   "metadata": {
    "collapsed": false
   },
   "outputs": [],
   "source": []
  },
  {
   "cell_type": "code",
   "execution_count": null,
   "metadata": {
    "collapsed": false
   },
   "outputs": [],
   "source": []
  },
  {
   "cell_type": "code",
   "execution_count": null,
   "metadata": {
    "collapsed": false
   },
   "outputs": [],
   "source": []
  },
  {
   "cell_type": "code",
   "execution_count": 30,
   "metadata": {
    "collapsed": false
   },
   "outputs": [
    {
     "ename": "NameError",
     "evalue": "name 'arr1' is not defined",
     "output_type": "error",
     "traceback": [
      "\u001b[0;31m---------------------------------------------------------------------------\u001b[0m",
      "\u001b[0;31mNameError\u001b[0m                                 Traceback (most recent call last)",
      "\u001b[0;32m<ipython-input-30-a1f08ab87fcd>\u001b[0m in \u001b[0;36m<module>\u001b[0;34m()\u001b[0m\n\u001b[1;32m      1\u001b[0m \u001b[0;32mimport\u001b[0m \u001b[0mmatplotlib\u001b[0m\u001b[0;34m.\u001b[0m\u001b[0mpyplot\u001b[0m \u001b[0;32mas\u001b[0m \u001b[0mplt\u001b[0m\u001b[0;34m\u001b[0m\u001b[0m\n\u001b[0;32m----> 2\u001b[0;31m \u001b[0mplt\u001b[0m\u001b[0;34m.\u001b[0m\u001b[0mscatter\u001b[0m\u001b[0;34m(\u001b[0m\u001b[0marr1\u001b[0m\u001b[0;34m,\u001b[0m \u001b[0marr2\u001b[0m\u001b[0;34m)\u001b[0m\u001b[0;34m\u001b[0m\u001b[0m\n\u001b[0m\u001b[1;32m      3\u001b[0m \u001b[0mplt\u001b[0m\u001b[0;34m.\u001b[0m\u001b[0mshow\u001b[0m\u001b[0;34m(\u001b[0m\u001b[0;34m)\u001b[0m\u001b[0;34m\u001b[0m\u001b[0m\n",
      "\u001b[0;31mNameError\u001b[0m: name 'arr1' is not defined"
     ]
    }
   ],
   "source": [
    "import matplotlib.pyplot as plt\n",
    "plt.scatter(arr1, arr2)\n",
    "plt.show()"
   ]
  },
  {
   "cell_type": "code",
   "execution_count": 32,
   "metadata": {
    "collapsed": false
   },
   "outputs": [
    {
     "data": {
      "text/plain": [
       "2012-06-01 02:00:00+02:00    21.157944\n",
       "2012-06-01 02:15:00+02:00    21.159494\n",
       "2012-06-01 02:30:00+02:00    21.194315\n",
       "2012-06-01 02:45:00+02:00    21.209457\n",
       "2012-06-01 03:00:00+02:00    21.127626\n",
       "Freq: 15T, Name: active, dtype: float32"
      ]
     },
     "execution_count": 32,
     "metadata": {},
     "output_type": "execute_result"
    }
   ],
   "source": [
    "dataframe.head()"
   ]
  },
  {
   "cell_type": "code",
   "execution_count": 33,
   "metadata": {
    "collapsed": false
   },
   "outputs": [
    {
     "data": {
      "text/plain": [
       "2012-01-06 00:00:00    1\n",
       "2012-01-06 00:15:00    1\n",
       "2012-01-06 00:30:00    1\n",
       "2012-01-06 00:45:00    1\n",
       "2012-01-06 01:00:00    1\n",
       "Freq: 15T, dtype: float64"
      ]
     },
     "execution_count": 33,
     "metadata": {},
     "output_type": "execute_result"
    }
   ],
   "source": [
    "df_resampled.head()"
   ]
  },
  {
   "cell_type": "code",
   "execution_count": 34,
   "metadata": {
    "collapsed": false
   },
   "outputs": [
    {
     "data": {
      "text/plain": [
       "DatetimeIndex(['2012-01-06 00:00:00', '2012-01-06 00:15:00',\n",
       "               '2012-01-06 00:30:00', '2012-01-06 00:45:00',\n",
       "               '2012-01-06 01:00:00', '2012-01-06 01:15:00',\n",
       "               '2012-01-06 01:30:00', '2012-01-06 01:45:00',\n",
       "               '2012-01-06 02:00:00', '2012-01-06 02:15:00', \n",
       "               ...\n",
       "               '2012-03-28 21:30:00', '2012-03-28 21:45:00',\n",
       "               '2012-03-28 22:00:00', '2012-03-28 22:15:00',\n",
       "               '2012-03-28 22:30:00', '2012-03-28 22:45:00',\n",
       "               '2012-03-28 23:00:00', '2012-03-28 23:15:00',\n",
       "               '2012-03-28 23:30:00', '2012-03-28 23:45:00'],\n",
       "              dtype='datetime64[ns]', length=7968, freq='15T', tz=None)"
      ]
     },
     "execution_count": 34,
     "metadata": {},
     "output_type": "execute_result"
    }
   ],
   "source": [
    "df_resampled.index"
   ]
  },
  {
   "cell_type": "code",
   "execution_count": 35,
   "metadata": {
    "collapsed": false
   },
   "outputs": [
    {
     "data": {
      "text/plain": [
       "Timestamp('2012-02-16 12:00:00', offset='15T')"
      ]
     },
     "execution_count": 35,
     "metadata": {},
     "output_type": "execute_result"
    }
   ],
   "source": [
    "df_resampled.index[7968/2]"
   ]
  },
  {
   "cell_type": "code",
   "execution_count": 36,
   "metadata": {
    "collapsed": false
   },
   "outputs": [],
   "source": [
    "df_resampled_train = df_resampled[:\"2012-02-16 12:00:00\"]"
   ]
  },
  {
   "cell_type": "code",
   "execution_count": 37,
   "metadata": {
    "collapsed": false
   },
   "outputs": [],
   "source": [
    "dataframe_train = dataframe[:\"2012-02-16 12:00:00 +02:00\"]"
   ]
  },
  {
   "cell_type": "code",
   "execution_count": 38,
   "metadata": {
    "collapsed": false
   },
   "outputs": [],
   "source": [
    "dataframe_train = dataframe.head(3985)"
   ]
  },
  {
   "cell_type": "code",
   "execution_count": 39,
   "metadata": {
    "collapsed": false
   },
   "outputs": [
    {
     "data": {
      "text/plain": [
       "3985"
      ]
     },
     "execution_count": 39,
     "metadata": {},
     "output_type": "execute_result"
    }
   ],
   "source": [
    "len(dataframe_train)"
   ]
  },
  {
   "cell_type": "code",
   "execution_count": 40,
   "metadata": {
    "collapsed": false
   },
   "outputs": [
    {
     "data": {
      "text/plain": [
       "3985"
      ]
     },
     "execution_count": 40,
     "metadata": {},
     "output_type": "execute_result"
    }
   ],
   "source": [
    "len(df_resampled_train)"
   ]
  },
  {
   "cell_type": "code",
   "execution_count": 41,
   "metadata": {
    "collapsed": false
   },
   "outputs": [],
   "source": [
    "#classify= svm.SVC().fit(dataframe_train.values, df_resampled_train.values)"
   ]
  },
  {
   "cell_type": "code",
   "execution_count": 42,
   "metadata": {
    "collapsed": false
   },
   "outputs": [
    {
     "name": "stdout",
     "output_type": "stream",
     "text": [
      "[[ 21.15794373]\n",
      " [ 21.1594944 ]\n",
      " [ 21.19431496]\n",
      " ..., \n",
      " [ 21.65459824]\n",
      " [ 21.66837692]\n",
      " [ 21.63931656]]\n"
     ]
    }
   ],
   "source": [
    "lis = []\n",
    "for i in dataframe_train:\n",
    "    if np.isnan(i) == False:\n",
    "        lis.append([i])\n",
    "    else:\n",
    "        lis.append([0])\n",
    "array = np.asarray(lis)\n",
    "print (array)"
   ]
  },
  {
   "cell_type": "code",
   "execution_count": 50,
   "metadata": {
    "collapsed": false
   },
   "outputs": [
    {
     "name": "stdout",
     "output_type": "stream",
     "text": [
      "[ 1.  1.  1. ...,  0.  0.  0.]\n"
     ]
    }
   ],
   "source": [
    "print df_resampled_train.values\n",
    "classifier = svm.SVC().fit(array, df_resampled_train.values)"
   ]
  },
  {
   "cell_type": "code",
   "execution_count": 44,
   "metadata": {
    "collapsed": false
   },
   "outputs": [],
   "source": [
    "dataframe_test = dataframe.tail(3985)"
   ]
  },
  {
   "cell_type": "code",
   "execution_count": 45,
   "metadata": {
    "collapsed": false
   },
   "outputs": [],
   "source": [
    "df_resampled_test = df_resampled.tail(3985)"
   ]
  },
  {
   "cell_type": "code",
   "execution_count": 46,
   "metadata": {
    "collapsed": false
   },
   "outputs": [
    {
     "name": "stdout",
     "output_type": "stream",
     "text": [
      "[[  42.62877274]\n",
      " [  42.4310379 ]\n",
      " [   0.        ]\n",
      " ..., \n",
      " [ 229.89735413]\n",
      " [ 229.85005188]\n",
      " [ 230.28823853]]\n"
     ]
    }
   ],
   "source": [
    "lis = []\n",
    "for i in dataframe_test:\n",
    "    if np.isnan(i) == False:\n",
    "        lis.append([i])\n",
    "    else:\n",
    "        lis.append([0])\n",
    "array_test = np.asarray(lis)\n",
    "print (array_test)"
   ]
  },
  {
   "cell_type": "code",
   "execution_count": 47,
   "metadata": {
    "collapsed": false
   },
   "outputs": [],
   "source": [
    "prediction = classifier.predict(array_test)"
   ]
  },
  {
   "cell_type": "code",
   "execution_count": 48,
   "metadata": {
    "collapsed": false
   },
   "outputs": [
    {
     "name": "stdout",
     "output_type": "stream",
     "text": [
      "             precision    recall  f1-score   support\n",
      "\n",
      "          0       0.08      0.40      0.13       182\n",
      "          1       0.96      0.78      0.86      3803\n",
      "\n",
      "avg / total       0.92      0.76      0.83      3985\n",
      "\n"
     ]
    }
   ],
   "source": [
    "arr1 = np.asarray([int(i) for i in prediction])\n",
    "arr2 = np.asarray([int(i) for i in df_resampled_test.values])\n",
    "\n",
    "print (metrics.classification_report(arr1, arr2))"
   ]
  },
  {
   "cell_type": "code",
   "execution_count": 49,
   "metadata": {
    "collapsed": false
   },
   "outputs": [
    {
     "name": "stdout",
     "output_type": "stream",
     "text": [
      "0.758845671267\n"
     ]
    }
   ],
   "source": [
    "count = 0\n",
    "for i  in range(len(arr1)):\n",
    "    if arr1[i] == arr2[i]:\n",
    "        count+=1.0\n",
    "print (count/len(arr1) )"
   ]
  },
  {
   "cell_type": "markdown",
   "metadata": {},
   "source": [
    "Implementing the KNN algorithm\n",
    "----------------------------------"
   ]
  },
  {
   "cell_type": "code",
   "execution_count": null,
   "metadata": {
    "collapsed": false
   },
   "outputs": [],
   "source": [
    "from sklearn.neighbors import NearestNeighbors, KNeighborsClassifier"
   ]
  },
  {
   "cell_type": "code",
   "execution_count": null,
   "metadata": {
    "collapsed": false
   },
   "outputs": [],
   "source": [
    "array"
   ]
  },
  {
   "cell_type": "code",
   "execution_count": null,
   "metadata": {
    "collapsed": false
   },
   "outputs": [],
   "source": [
    "trainingSet = df_resampled_train.values\n",
    "testSet = df_resampled_test.values\n",
    "for i in range(len(trainingSet)):\n",
    "    if random.random() < split:\n",
    "        testSet[i], trainingSet[i] = trainingSet[i], testSet[i]\n",
    "        array[i], array_test[i] = array_test[i], array[i]  "
   ]
  },
  {
   "cell_type": "code",
   "execution_count": 31,
   "metadata": {
    "collapsed": false
   },
   "outputs": [
    {
     "ename": "NameError",
     "evalue": "name 'testValues' is not defined",
     "output_type": "error",
     "traceback": [
      "\u001b[0;31m---------------------------------------------------------------------------\u001b[0m",
      "\u001b[0;31mNameError\u001b[0m                                 Traceback (most recent call last)",
      "\u001b[0;32m<ipython-input-31-884e6a9ce0c6>\u001b[0m in \u001b[0;36m<module>\u001b[0;34m()\u001b[0m\n\u001b[0;32m----> 1\u001b[0;31m \u001b[0mtestValues\u001b[0m\u001b[0;34m\u001b[0m\u001b[0m\n\u001b[0m",
      "\u001b[0;31mNameError\u001b[0m: name 'testValues' is not defined"
     ]
    }
   ],
   "source": [
    "testValues"
   ]
  },
  {
   "cell_type": "code",
   "execution_count": 236,
   "metadata": {
    "collapsed": false
   },
   "outputs": [
    {
     "data": {
      "text/plain": [
       "array([[  42.62880325],\n",
       "       [  42.43106461],\n",
       "       [   0.        ],\n",
       "       ..., \n",
       "       [ 229.89730835],\n",
       "       [ 229.84979248],\n",
       "       [ 230.28807068]])"
      ]
     },
     "execution_count": 236,
     "metadata": {},
     "output_type": "execute_result"
    }
   ],
   "source": [
    "array_test"
   ]
  },
  {
   "cell_type": "code",
   "execution_count": 236,
   "metadata": {
    "collapsed": false
   },
   "outputs": [],
   "source": [
    "\n"
   ]
  },
  {
   "cell_type": "code",
   "execution_count": 236,
   "metadata": {
    "collapsed": false
   },
   "outputs": [],
   "source": []
  },
  {
   "cell_type": "code",
   "execution_count": 237,
   "metadata": {
    "collapsed": false
   },
   "outputs": [
    {
     "data": {
      "text/plain": [
       "3985"
      ]
     },
     "execution_count": 237,
     "metadata": {},
     "output_type": "execute_result"
    }
   ],
   "source": [
    "len(df_resampled_train.values)"
   ]
  },
  {
   "cell_type": "code",
   "execution_count": 238,
   "metadata": {
    "collapsed": false
   },
   "outputs": [
    {
     "data": {
      "text/plain": [
       "3985"
      ]
     },
     "execution_count": 238,
     "metadata": {},
     "output_type": "execute_result"
    }
   ],
   "source": [
    "len(df_resampled_test.values)"
   ]
  },
  {
   "cell_type": "code",
   "execution_count": 239,
   "metadata": {
    "collapsed": false
   },
   "outputs": [],
   "source": [
    "neigh = KNeighborsClassifier(n_neighbors=3)"
   ]
  },
  {
   "cell_type": "code",
   "execution_count": 240,
   "metadata": {
    "collapsed": false
   },
   "outputs": [
    {
     "data": {
      "text/plain": [
       "KNeighborsClassifier(algorithm='auto', leaf_size=30, metric='minkowski',\n",
       "           metric_params=None, n_neighbors=3, p=2, weights='uniform')"
      ]
     },
     "execution_count": 240,
     "metadata": {},
     "output_type": "execute_result"
    }
   ],
   "source": [
    "neigh.fit(array, df_resampled_train.values)"
   ]
  },
  {
   "cell_type": "code",
   "execution_count": 241,
   "metadata": {
    "collapsed": false
   },
   "outputs": [],
   "source": [
    "predictions = []\n",
    "for i in array_test:\n",
    "    predictions.append(int(neigh.predict([i])))"
   ]
  },
  {
   "cell_type": "code",
   "execution_count": 242,
   "metadata": {
    "collapsed": false
   },
   "outputs": [
    {
     "name": "stdout",
     "output_type": "stream",
     "text": [
      "TP =  2256\n",
      "TN =  125\n",
      "FP =  1128\n",
      "FN =  476\n",
      "Accuracy =  0.597490589711\n",
      "Precision =  0.666666666667\n",
      "Recall =  0.825768667643\n"
     ]
    }
   ],
   "source": [
    "tp = 0\n",
    "tn = 0\n",
    "fp = 0\n",
    "fn = 0\n",
    "for x in range(len(testSet)):\n",
    "    if int(testSet[x]) == 1 and int(predictions[x]) == 1:\n",
    "        tp+=1\n",
    "    elif (int(testSet[x]) == 0 and int(predictions[x]) == 1):\n",
    "        fp+=1\n",
    "    elif (int(testSet[x]) == 1 and int(predictions[x]) == 0):\n",
    "        fn+=1\n",
    "    else:\n",
    "        tn+=1\n",
    "print \"TP = \", tp\n",
    "print \"TN = \", tn\n",
    "print \"FP = \", fp\n",
    "print \"FN = \", fn\n",
    "print \"Accuracy = \", (tp + tn + 0.0)/(tp + tn + fp + fn)\n",
    "print \"Precision = \", (tp + 0.0)/ (tp + fp)\n",
    "print \"Recall = \", (tp + 0.0)/(tp + fn)"
   ]
  },
  {
   "cell_type": "code",
   "execution_count": null,
   "metadata": {
    "collapsed": false
   },
   "outputs": [],
   "source": []
  }
 ],
 "metadata": {
  "kernelspec": {
   "display_name": "Python 2",
   "language": "python",
   "name": "python2"
  },
  "language_info": {
   "codemirror_mode": {
    "name": "ipython",
    "version": 2
   },
   "file_extension": ".py",
   "mimetype": "text/x-python",
   "name": "python",
   "nbconvert_exporter": "python",
   "pygments_lexer": "ipython2",
   "version": "2.7.10"
  }
 },
 "nbformat": 4,
 "nbformat_minor": 0
}
