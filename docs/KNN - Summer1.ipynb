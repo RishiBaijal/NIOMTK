{
 "metadata": {
  "name": "",
  "signature": "sha256:77f7196853ecdd79c1fdeed405b607beb9b44026a3db0fb10441d5bcceed1327"
 },
 "nbformat": 3,
 "nbformat_minor": 0,
 "worksheets": [
  {
   "cells": [
    {
     "cell_type": "code",
     "collapsed": false,
     "input": [
      "import numpy as np\n",
      "import pandas as pd\n",
      "from numpy import *\n",
      "from pandas import *\n",
      "import matplotlib\n",
      "import os\n",
      "import os.path\n",
      "from os import *\n",
      "from os.path import *\n",
      "import matplotlib.pyplot as plt\n",
      "from itertools import chain\n",
      "from sklearn import svm, datasets, metrics\n",
      "import random\n",
      "import operator\n",
      "import math\n",
      "%matplotlib inline"
     ],
     "language": "python",
     "metadata": {},
     "outputs": [],
     "prompt_number": 82
    },
    {
     "cell_type": "code",
     "collapsed": false,
     "input": [
      "df = pd.read_csv('/Users/rishi/Documents/Master_folder/IIITD/6th_semester/BTP/NIOMTK/02_occupancy_csv/02_summer.csv')\n",
      "print (len(df))\n",
      "index = pd.DatetimeIndex(start = '01-06-2012', periods = len(df) * 86400, freq = '1s')\n",
      "out = []\n",
      "for i in range(len(df)):\n",
      "    out.append(df.ix[i].values[1:])\n",
      "out_1d = list(chain.from_iterable(out))\n",
      "df_new = pd.Series(out_1d, index = ind`ex)\n",
      "df_resampled = df_new.resample(\"15min\")"
     ],
     "language": "python",
     "metadata": {},
     "outputs": [
      {
       "output_type": "stream",
       "stream": "stdout",
       "text": [
        "83\n"
       ]
      }
     ],
     "prompt_number": 83
    },
    {
     "cell_type": "code",
     "collapsed": false,
     "input": [
      "df_resampled.head()"
     ],
     "language": "python",
     "metadata": {},
     "outputs": [
      {
       "metadata": {},
       "output_type": "pyout",
       "prompt_number": 84,
       "text": [
        "2012-01-06 00:00:00    1\n",
        "2012-01-06 00:15:00    1\n",
        "2012-01-06 00:30:00    1\n",
        "2012-01-06 00:45:00    1\n",
        "2012-01-06 01:00:00    1\n",
        "Freq: 15T, dtype: float64"
       ]
      }
     ],
     "prompt_number": 84
    },
    {
     "cell_type": "code",
     "collapsed": false,
     "input": [
      "dir_path='/Users/rishi/Documents/Master_folder/IIITD/6th_semester/BTP/NIOMTK_datasets'\n",
      "store=HDFStore(join(dir_path, 'eco.h5'))\n",
      "df=store['/building2/elec/meter2']"
     ],
     "language": "python",
     "metadata": {},
     "outputs": [],
     "prompt_number": 85
    },
    {
     "cell_type": "code",
     "collapsed": false,
     "input": [
      "dataframe = df['power']['active']['2012-06-01':'2012-08-31'].resample('15min')"
     ],
     "language": "python",
     "metadata": {},
     "outputs": [],
     "prompt_number": 86
    },
    {
     "cell_type": "code",
     "collapsed": false,
     "input": [
      "dataframe.head()"
     ],
     "language": "python",
     "metadata": {},
     "outputs": [
      {
       "metadata": {},
       "output_type": "pyout",
       "prompt_number": 87,
       "text": [
        "2012-06-01 02:00:00+02:00    21.157919\n",
        "2012-06-01 02:15:00+02:00    21.159485\n",
        "2012-06-01 02:30:00+02:00    21.194288\n",
        "2012-06-01 02:45:00+02:00    21.209436\n",
        "2012-06-01 03:00:00+02:00    21.127615\n",
        "Freq: 15T, Name: active, dtype: float32"
       ]
      }
     ],
     "prompt_number": 87
    },
    {
     "cell_type": "code",
     "collapsed": false,
     "input": [
      "dataframe_length = len(dataframe.values)"
     ],
     "language": "python",
     "metadata": {},
     "outputs": [],
     "prompt_number": 88
    },
    {
     "cell_type": "code",
     "collapsed": false,
     "input": [
      "df_resampled_length = len(df_resampled.values)"
     ],
     "language": "python",
     "metadata": {},
     "outputs": [],
     "prompt_number": 89
    },
    {
     "cell_type": "code",
     "collapsed": false,
     "input": [
      "lis = []\n",
      "for i in range(len(dataframe.values[:min(dataframe_length, df_resampled_length)])):\n",
      "    if np.isnan(dataframe.values[i]) == False:\n",
      "        lis.append([dataframe.values[i], df_resampled.values[i]])\n",
      "    else:\n",
      "        lis.append([0, df_resampled.values[i]])\n",
      "power_array = np.asarray(lis)"
     ],
     "language": "python",
     "metadata": {},
     "outputs": [],
     "prompt_number": 90
    },
    {
     "cell_type": "code",
     "collapsed": false,
     "input": [
      "print len(dataframe.values)\n",
      "print len(df_resampled.values)"
     ],
     "language": "python",
     "metadata": {},
     "outputs": [
      {
       "output_type": "stream",
       "stream": "stdout",
       "text": [
        "8824\n",
        "7968\n"
       ]
      }
     ],
     "prompt_number": 91
    },
    {
     "cell_type": "code",
     "collapsed": false,
     "input": [
      "def euclideanDistance(instance1, instance2, length):\n",
      "    distance = 0\n",
      "    for i in range(length):\n",
      "        distance += pow((instance1[i] - instance2[i]), 2)\n",
      "    return (math.sqrt(distance))"
     ],
     "language": "python",
     "metadata": {},
     "outputs": [],
     "prompt_number": 92
    },
    {
     "cell_type": "code",
     "collapsed": false,
     "input": [
      "def loadDataset(dataset, split, trainingSet = [], testSet = []):\n",
      "    for x in range(len(dataset) - 1):\n",
      "        for y in range(2):\n",
      "            dataset[x][y] = float(dataset[x][y])\n",
      "        a = random.random()\n",
      "        if  a < split:\n",
      "            trainingSet.append(dataset[x])\n",
      "        else:\n",
      "            testSet.append(dataset[x])"
     ],
     "language": "python",
     "metadata": {},
     "outputs": [],
     "prompt_number": 93
    },
    {
     "cell_type": "code",
     "collapsed": false,
     "input": [
      "def getNeighbours(trainingSet, testInstance, k):\n",
      "    distances = []\n",
      "    length = len(testInstance) - 1\n",
      "    for x in range(len(trainingSet)):\n",
      "        dist = euclideanDistance(testInstance, trainingSet[x], length)\n",
      "        distances.append((trainingSet[x], dist))\n",
      "    neighbours = []\n",
      "    for i in range(k):\n",
      "        neighbours.append(distances[i][0])\n",
      "    return neighbours"
     ],
     "language": "python",
     "metadata": {},
     "outputs": [],
     "prompt_number": 94
    },
    {
     "cell_type": "code",
     "collapsed": false,
     "input": [
      "def getResponse(neighbours):\n",
      "    votes = {}\n",
      "    for i in range(len(neighbours)):\n",
      "        response = neighbours[i][-1]\n",
      "        if response in votes:\n",
      "            votes[response] +=1\n",
      "        else:\n",
      "            votes[response] = 1\n",
      "    sortedVotes = sorted(votes.iteritems(), key = operator.itemgetter(1), reverse = True)\n",
      "    return sortedVotes[0][0]"
     ],
     "language": "python",
     "metadata": {},
     "outputs": [],
     "prompt_number": 95
    },
    {
     "cell_type": "code",
     "collapsed": false,
     "input": [
      "def getAccuracy(testSet, predictions):\n",
      "    correct = 0\n",
      "    for x in range(len(testSet)):\n",
      "        if int(testSet[x][-1]) == int(predictions[x]):\n",
      "            correct += 1\n",
      "    return (correct/float(len(testSet))) * 100.0\n",
      "\n",
      "def getStats(testSet, predictions):\n",
      "    tp = 0\n",
      "    tn = 0\n",
      "    fp = 0\n",
      "    fn = 0\n",
      "    for x in range(len(testSet)):\n",
      "        if int(testSet[x][-1]) == 1 and int(predictions[x]) == 1:\n",
      "            tp+=1\n",
      "        elif (int(testSet[x][-1]) == 0 and int(predictions[x]) == 1):\n",
      "            fp+=1\n",
      "        elif (int(testSet[x][-1]) == 1 and int(predictions[x]) == 0):\n",
      "            fn+=1\n",
      "        else:\n",
      "            tn+=1\n",
      "    print \"TP = \", tp\n",
      "    print \"TN = \", tn\n",
      "    print \"FP = \", fp\n",
      "    print \"FN = \", fn\n",
      "    print \"Accuracy = \", (tp + tn + 0.0)/(tp + tn + fp + fn)\n",
      "    print \"Precision = \", (tp + 0.0)/ (tp + fp)\n",
      "    print \"Recall = \", (tp + 0.0)/(tp + fn)"
     ],
     "language": "python",
     "metadata": {},
     "outputs": [],
     "prompt_number": 103
    },
    {
     "cell_type": "code",
     "collapsed": false,
     "input": [
      "trainingSet = []\n",
      "testSet = []\n",
      "split = 0.67\n",
      "loadDataset(power_array, split, trainingSet, testSet)\n",
      "print 'Training set: ' + repr(len(trainingSet))\n",
      "print 'Test set: ' + repr(len(testSet))\n",
      "\n",
      "predictions = []\n",
      "k = 3\n",
      "for x in range(len(testSet)):\n",
      "    neighbours = getNeighbours(trainingSet, testSet[x], k)\n",
      "    result = getResponse(neighbours)\n",
      "    predictions.append(result)\n",
      "    print('> predicted=' + repr(result) + ', actual=' + repr(testSet[x][-1]))\n",
      "getStats(testSet, predictions)"
     ],
     "language": "python",
     "metadata": {},
     "outputs": [
      {
       "output_type": "stream",
       "stream": "stdout",
       "text": [
        "Training set: 5366\n",
        "Test set: 2601\n",
        "> predicted=1.0, actual=1.0\n",
        "> predicted=1.0, actual=1.0\n",
        "> predicted=1.0, actual=1.0"
       ]
      },
      {
       "output_type": "stream",
       "stream": "stdout",
       "text": [
        "\n",
        "> predicted=1.0, actual=1.0\n",
        "> predicted=1.0, actual=1.0\n",
        "> predicted=1.0, actual=1.0"
       ]
      },
      {
       "output_type": "stream",
       "stream": "stdout",
       "text": [
        "\n",
        "> predicted=1.0, actual=1.0\n",
        "> predicted=1.0, actual=1.0\n",
        "> predicted=1.0, actual=1.0"
       ]
      },
      {
       "output_type": "stream",
       "stream": "stdout",
       "text": [
        "\n",
        "> predicted=1.0, actual=0.0\n",
        "> predicted=1.0, actual=0.0\n",
        "> predicted=1.0, actual=0.0"
       ]
      },
      {
       "output_type": "stream",
       "stream": "stdout",
       "text": [
        "\n",
        "> predicted=1.0, actual=0.0\n",
        "> predicted=1.0, actual=0.0\n",
        "> predicted=1.0, actual=0.0\n",
        "> predicted=1.0, actual=0.0"
       ]
      },
      {
       "output_type": "stream",
       "stream": "stdout",
       "text": [
        "\n",
        "> predicted=1.0, actual=0.0\n",
        "> predicted=1.0, actual=0.0\n",
        "> predicted=1.0, actual=0.0"
       ]
      },
      {
       "output_type": "stream",
       "stream": "stdout",
       "text": [
        "\n",
        "> predicted=1.0, actual=0.0\n",
        "> predicted=1.0, actual=0.0\n",
        "> predicted=1.0, actual=0.0\n",
        "> predicted=1.0, actual=0.0"
       ]
      },
      {
       "output_type": "stream",
       "stream": "stdout",
       "text": [
        "\n",
        "> predicted=1.0, actual=0.0\n",
        "> predicted=1.0, actual=0.0\n",
        "> predicted=1.0, actual=0.0\n",
        "> predicted=1.0, actual=0.0"
       ]
      },
      {
       "output_type": "stream",
       "stream": "stdout",
       "text": [
        "\n",
        "> predicted=1.0, actual=0.45111111111111113\n",
        "> predicted=1.0, actual=0.0\n",
        "> predicted=1.0, actual=0.0\n",
        "> predicted=1.0, actual=0.0"
       ]
      },
      {
       "output_type": "stream",
       "stream": "stdout",
       "text": [
        "\n",
        "> predicted=1.0, actual=0.0\n",
        "> predicted=1.0, actual=0.0\n",
        "> predicted=1.0, actual=1.0\n",
        "> predicted=1.0, actual=1.0"
       ]
      },
      {
       "output_type": "stream",
       "stream": "stdout",
       "text": [
        "\n",
        "> predicted=1.0, actual=1.0\n",
        "> predicted=1.0, actual=1.0\n",
        "> predicted=1.0, actual=1.0\n",
        "> predicted=1.0, actual=1.0"
       ]
      },
      {
       "output_type": "stream",
       "stream": "stdout",
       "text": [
        "\n",
        "> predicted=1.0, actual=1.0\n",
        "> predicted=1.0, actual=1.0\n",
        "> predicted=1.0, actual=1.0\n",
        "> predicted=1.0, actual=1.0"
       ]
      },
      {
       "output_type": "stream",
       "stream": "stdout",
       "text": [
        "\n",
        "> predicted=1.0, actual=1.0\n",
        "> predicted=1.0, actual=1.0\n",
        "> predicted=1.0, actual=1.0\n",
        "> predicted=1.0, actual=1.0"
       ]
      },
      {
       "output_type": "stream",
       "stream": "stdout",
       "text": [
        "\n",
        "> predicted=1.0, actual=1.0\n",
        "> predicted=1.0, actual=0.0\n",
        "> predicted=1.0, actual=0.0"
       ]
      },
      {
       "output_type": "stream",
       "stream": "stdout",
       "text": [
        "\n",
        "> predicted=1.0, actual=0.0\n",
        "> predicted=1.0, actual=0.0\n",
        "> predicted=1.0, actual=0.0"
       ]
      },
      {
       "output_type": "stream",
       "stream": "stdout",
       "text": [
        "\n",
        "> predicted=1.0, actual=0.0\n",
        "> predicted=1.0, actual=0.0\n",
        "> predicted=1.0, actual=0.0"
       ]
      },
      {
       "output_type": "stream",
       "stream": "stdout",
       "text": [
        "\n",
        "> predicted=1.0, actual=0.0\n",
        "> predicted=1.0, actual=0.0\n",
        "> predicted=1.0, actual=0.0"
       ]
      },
      {
       "output_type": "stream",
       "stream": "stdout",
       "text": [
        "\n",
        "> predicted=1.0, actual=0.0\n",
        "> predicted=1.0, actual=0.99777777777777776\n",
        "> predicted=1.0, actual=0.0"
       ]
      },
      {
       "output_type": "stream",
       "stream": "stdout",
       "text": [
        "\n",
        "> predicted=1.0, actual=0.0\n",
        "> predicted=1.0, actual=0.0\n",
        "> predicted=1.0, actual=0.0"
       ]
      },
      {
       "output_type": "stream",
       "stream": "stdout",
       "text": [
        "\n",
        "> predicted=1.0, actual=0.0\n",
        "> predicted=1.0, actual=0.0\n",
        "> predicted=1.0, actual=0.0"
       ]
      },
      {
       "output_type": "stream",
       "stream": "stdout",
       "text": [
        "\n",
        "> predicted=1.0, actual=0.0\n",
        "> predicted=1.0, actual=0.0\n",
        "> predicted=1.0, actual=1.0"
       ]
      },
      {
       "output_type": "stream",
       "stream": "stdout",
       "text": [
        "\n",
        "> predicted=1.0, actual=1.0\n",
        "> predicted=1.0, actual=1.0\n",
        "> predicted=1.0, actual=1.0\n"
       ]
      },
      {
       "output_type": "stream",
       "stream": "stdout",
       "text": [
        "> predicted=1.0, actual=1.0\n",
        "> predicted=1.0, actual=1.0\n",
        "> predicted=1.0, actual=1.0\n",
        "> predicted=1.0, actual=1.0\n",
        "> predicted=1.0, actual=1.0"
       ]
      },
      {
       "output_type": "stream",
       "stream": "stdout",
       "text": [
        "\n",
        "> predicted=1.0, actual=1.0\n",
        "> predicted=1.0, actual=1.0\n",
        "> predicted=1.0, actual=1.0"
       ]
      },
      {
       "output_type": "stream",
       "stream": "stdout",
       "text": [
        "\n",
        "> predicted=1.0, actual=1.0\n",
        "> predicted=1.0, actual=1.0\n",
        "> predicted=1.0, actual=1.0"
       ]
      },
      {
       "output_type": "stream",
       "stream": "stdout",
       "text": [
        "\n",
        "> predicted=1.0, actual=1.0\n",
        "> predicted=1.0, actual=1.0\n",
        "> predicted=1.0, actual=1.0"
       ]
      },
      {
       "output_type": "stream",
       "stream": "stdout",
       "text": [
        "\n",
        "> predicted=1.0, actual=1.0\n",
        "> predicted=1.0, actual=1.0\n",
        "> predicted=1.0, actual=1.0"
       ]
      },
      {
       "output_type": "stream",
       "stream": "stdout",
       "text": [
        "\n",
        "> predicted=1.0, actual=1.0\n",
        "> predicted=1.0, actual=1.0\n",
        "> predicted=1.0, actual=1.0"
       ]
      },
      {
       "output_type": "stream",
       "stream": "stdout",
       "text": [
        "\n",
        "> predicted=1.0, actual=1.0\n",
        "> predicted=1.0, actual=1.0\n",
        "> predicted=1.0, actual=0.0"
       ]
      },
      {
       "output_type": "stream",
       "stream": "stdout",
       "text": [
        "\n",
        "> predicted=1.0, actual=0.0\n",
        "> predicted=1.0, actual=0.0\n",
        "> predicted=1.0, actual=0.0"
       ]
      },
      {
       "output_type": "stream",
       "stream": "stdout",
       "text": [
        "\n",
        "> predicted=1.0, actual=0.0\n",
        "> predicted=1.0, actual=0.0\n",
        "> predicted=1.0, actual=1.0"
       ]
      },
      {
       "output_type": "stream",
       "stream": "stdout",
       "text": [
        "\n",
        "> predicted=1.0, actual=1.0\n",
        "> predicted=1.0, actual=1.0\n",
        "> predicted=1.0, actual=1.0"
       ]
      },
      {
       "output_type": "stream",
       "stream": "stdout",
       "text": [
        "\n",
        "> predicted=1.0, actual=1.0\n",
        "> predicted=1.0, actual=1.0"
       ]
      },
      {
       "output_type": "stream",
       "stream": "stdout",
       "text": [
        "\n",
        "> predicted=1.0, actual=1.0\n",
        "> predicted=1.0, actual=1.0"
       ]
      },
      {
       "output_type": "stream",
       "stream": "stdout",
       "text": [
        "\n",
        "> predicted=1.0, actual=1.0\n",
        "> predicted=1.0, actual=1.0"
       ]
      },
      {
       "output_type": "stream",
       "stream": "stdout",
       "text": [
        "\n",
        "> predicted=1.0, actual=1.0\n",
        "> predicted=1.0, actual=1.0"
       ]
      },
      {
       "output_type": "stream",
       "stream": "stdout",
       "text": [
        "\n",
        "> predicted=1.0, actual=1.0\n",
        "> predicted=1.0, actual=1.0"
       ]
      },
      {
       "output_type": "stream",
       "stream": "stdout",
       "text": [
        "\n",
        "> predicted=1.0, actual=1.0\n",
        "> predicted=1.0, actual=1.0"
       ]
      },
      {
       "output_type": "stream",
       "stream": "stdout",
       "text": [
        "\n",
        "> predicted=1.0, actual=1.0\n",
        "> predicted=1.0, actual=1.0\n",
        "> predicted=1.0, actual=1.0"
       ]
      },
      {
       "output_type": "stream",
       "stream": "stdout",
       "text": [
        "\n",
        "> predicted=1.0, actual=1.0\n",
        "> predicted=1.0, actual=1.0\n",
        "> predicted=1.0, actual=1.0"
       ]
      },
      {
       "output_type": "stream",
       "stream": "stdout",
       "text": [
        "\n",
        "> predicted=1.0, actual=1.0\n",
        "> predicted=1.0, actual=1.0\n",
        "> predicted=1.0, actual=1.0"
       ]
      },
      {
       "output_type": "stream",
       "stream": "stdout",
       "text": [
        "\n",
        "> predicted=1.0, actual=1.0\n",
        "> predicted=1.0, actual=1.0\n",
        "> predicted=1.0, actual=1.0\n",
        "> predicted=1.0, actual=1.0"
       ]
      },
      {
       "output_type": "stream",
       "stream": "stdout",
       "text": [
        "\n",
        "> predicted=1.0, actual=1.0\n",
        "> predicted=1.0, actual=1.0\n",
        "> predicted=1.0, actual=1.0\n",
        "> predicted=1.0, actual=0.85444444444444445"
       ]
      },
      {
       "output_type": "stream",
       "stream": "stdout",
       "text": [
        "\n",
        "> predicted=1.0, actual=0.0\n",
        "> predicted=1.0, actual=0.0\n",
        "> predicted=1.0, actual=0.0"
       ]
      },
      {
       "output_type": "stream",
       "stream": "stdout",
       "text": [
        "\n",
        "> predicted=1.0, actual=0.0\n",
        "> predicted=1.0, actual=0.0\n",
        "> predicted=1.0, actual=0.0"
       ]
      },
      {
       "output_type": "stream",
       "stream": "stdout",
       "text": [
        "\n",
        "> predicted=1.0, actual=0.0\n",
        "> predicted=1.0, actual=0.0\n",
        "> predicted=1.0, actual=0.0"
       ]
      },
      {
       "output_type": "stream",
       "stream": "stdout",
       "text": [
        "\n",
        "> predicted=1.0, actual=1.0\n",
        "> predicted=1.0, actual=1.0\n",
        "> predicted=1.0, actual=1.0\n",
        "> predicted=1.0, actual=1.0"
       ]
      },
      {
       "output_type": "stream",
       "stream": "stdout",
       "text": [
        "\n",
        "> predicted=1.0, actual=1.0\n",
        "> predicted=1.0, actual=1.0\n",
        "> predicted=1.0, actual=1.0\n",
        "> predicted=1.0, actual=1.0"
       ]
      },
      {
       "output_type": "stream",
       "stream": "stdout",
       "text": [
        "\n",
        "> predicted=1.0, actual=1.0\n",
        "> predicted=1.0, actual=1.0\n",
        "> predicted=1.0, actual=1.0\n",
        "> predicted=1.0, actual=1.0"
       ]
      },
      {
       "output_type": "stream",
       "stream": "stdout",
       "text": [
        "\n",
        "> predicted=1.0, actual=1.0\n",
        "> predicted=1.0, actual=1.0\n",
        "> predicted=1.0, actual=1.0"
       ]
      },
      {
       "output_type": "stream",
       "stream": "stdout",
       "text": [
        "\n",
        "> predicted=1.0, actual=1.0\n",
        "> predicted=1.0, actual=1.0"
       ]
      },
      {
       "output_type": "stream",
       "stream": "stdout",
       "text": [
        "\n",
        "> predicted=1.0, actual=1.0\n",
        "> predicted=1.0, actual=1.0"
       ]
      },
      {
       "output_type": "stream",
       "stream": "stdout",
       "text": [
        "\n",
        "> predicted=1.0, actual=1.0\n",
        "> predicted=1.0, actual=0.95777777777777773"
       ]
      },
      {
       "output_type": "stream",
       "stream": "stdout",
       "text": [
        "\n",
        "> predicted=1.0, actual=0.0\n",
        "> predicted=1.0, actual=0.0"
       ]
      },
      {
       "output_type": "stream",
       "stream": "stdout",
       "text": [
        "\n",
        "> predicted=1.0, actual=0.0\n",
        "> predicted=1.0, actual=0.0"
       ]
      },
      {
       "output_type": "stream",
       "stream": "stdout",
       "text": [
        "\n",
        "> predicted=1.0, actual=0.0\n",
        "> predicted=1.0, actual=0.0"
       ]
      },
      {
       "output_type": "stream",
       "stream": "stdout",
       "text": [
        "\n",
        "> predicted=1.0, actual=0.0\n",
        "> predicted=1.0, actual=0.0"
       ]
      },
      {
       "output_type": "stream",
       "stream": "stdout",
       "text": [
        "\n",
        "> predicted=1.0, actual=0.0\n",
        "> predicted=1.0, actual=0.0"
       ]
      },
      {
       "output_type": "stream",
       "stream": "stdout",
       "text": [
        "\n",
        "> predicted=1.0, actual=0.0\n",
        "> predicted=1.0, actual=0.0"
       ]
      },
      {
       "output_type": "stream",
       "stream": "stdout",
       "text": [
        "\n",
        "> predicted=1.0, actual=0.0\n",
        "> predicted=1.0, actual=0.11555555555555555\n",
        "> predicted=1.0, actual=1.0"
       ]
      },
      {
       "output_type": "stream",
       "stream": "stdout",
       "text": [
        "\n",
        "> predicted=1.0, actual=1.0\n",
        "> predicted=1.0, actual=1.0"
       ]
      },
      {
       "output_type": "stream",
       "stream": "stdout",
       "text": [
        "\n",
        "> predicted=1.0, actual=1.0\n",
        "> predicted=1.0, actual=1.0"
       ]
      },
      {
       "output_type": "stream",
       "stream": "stdout",
       "text": [
        "\n",
        "> predicted=1.0, actual=1.0\n",
        "> predicted=1.0, actual=1.0"
       ]
      },
      {
       "output_type": "stream",
       "stream": "stdout",
       "text": [
        "\n",
        "> predicted=1.0, actual=1.0\n",
        "> predicted=1.0, actual=1.0\n",
        "> predicted=1.0, actual=1.0"
       ]
      },
      {
       "output_type": "stream",
       "stream": "stdout",
       "text": [
        "\n",
        "> predicted=1.0, actual=1.0\n",
        "> predicted=1.0, actual=1.0\n",
        "> predicted=1.0, actual=1.0"
       ]
      },
      {
       "output_type": "stream",
       "stream": "stdout",
       "text": [
        "\n",
        "> predicted=1.0, actual=1.0\n",
        "> predicted=1.0, actual=1.0"
       ]
      },
      {
       "output_type": "stream",
       "stream": "stdout",
       "text": [
        "\n",
        "> predicted=1.0, actual=1.0\n",
        "> predicted=1.0, actual=1.0"
       ]
      },
      {
       "output_type": "stream",
       "stream": "stdout",
       "text": [
        "\n",
        "> predicted=1.0, actual=1.0\n",
        "> predicted=1.0, actual=1.0"
       ]
      },
      {
       "output_type": "stream",
       "stream": "stdout",
       "text": [
        "\n",
        "> predicted=1.0, actual=0.0\n",
        "> predicted=1.0, actual=1.0\n",
        "> predicted=1.0, actual=1.0"
       ]
      },
      {
       "output_type": "stream",
       "stream": "stdout",
       "text": [
        "\n",
        "> predicted=1.0, actual=1.0\n",
        "> predicted=1.0, actual=1.0\n",
        "> predicted=1.0, actual=1.0"
       ]
      },
      {
       "output_type": "stream",
       "stream": "stdout",
       "text": [
        "\n",
        "> predicted=1.0, actual=1.0\n",
        "> predicted=1.0, actual=1.0\n",
        "> predicted=1.0, actual=1.0"
       ]
      },
      {
       "output_type": "stream",
       "stream": "stdout",
       "text": [
        "\n",
        "> predicted=1.0, actual=1.0\n",
        "> predicted=1.0, actual=1.0\n",
        "> predicted=1.0, actual=1.0"
       ]
      },
      {
       "output_type": "stream",
       "stream": "stdout",
       "text": [
        "\n",
        "> predicted=1.0, actual=1.0\n",
        "> predicted=1.0, actual=1.0"
       ]
      },
      {
       "output_type": "stream",
       "stream": "stdout",
       "text": [
        "\n",
        "> predicted=1.0, actual=1.0\n",
        "> predicted=1.0, actual=1.0"
       ]
      },
      {
       "output_type": "stream",
       "stream": "stdout",
       "text": [
        "\n",
        "> predicted=1.0, actual=1.0\n",
        "> predicted=1.0, actual=1.0"
       ]
      },
      {
       "output_type": "stream",
       "stream": "stdout",
       "text": [
        "\n",
        "> predicted=1.0, actual=1.0\n",
        "> predicted=1.0, actual=1.0"
       ]
      },
      {
       "output_type": "stream",
       "stream": "stdout",
       "text": [
        "\n",
        "> predicted=1.0, actual=1.0\n",
        "> predicted=1.0, actual=1.0"
       ]
      },
      {
       "output_type": "stream",
       "stream": "stdout",
       "text": [
        "\n",
        "> predicted=1.0, actual=1.0\n",
        "> predicted=1.0, actual=1.0\n",
        "> predicted=1.0, actual=1.0"
       ]
      },
      {
       "output_type": "stream",
       "stream": "stdout",
       "text": [
        "\n",
        "> predicted=1.0, actual=1.0\n",
        "> predicted=1.0, actual=1.0"
       ]
      },
      {
       "output_type": "stream",
       "stream": "stdout",
       "text": [
        "\n",
        "> predicted=1.0, actual=1.0\n",
        "> predicted=1.0, actual=1.0"
       ]
      },
      {
       "output_type": "stream",
       "stream": "stdout",
       "text": [
        "\n",
        "> predicted=1.0, actual=1.0\n",
        "> predicted=1.0, actual=0.0\n",
        "> predicted=1.0, actual=0.0"
       ]
      },
      {
       "output_type": "stream",
       "stream": "stdout",
       "text": [
        "\n",
        "> predicted=1.0, actual=0.0\n",
        "> predicted=1.0, actual=0.0\n",
        "> predicted=1.0, actual=0.0"
       ]
      },
      {
       "output_type": "stream",
       "stream": "stdout",
       "text": [
        "\n",
        "> predicted=1.0, actual=0.0\n",
        "> predicted=1.0, actual=0.0\n",
        "> predicted=1.0, actual=0.0"
       ]
      },
      {
       "output_type": "stream",
       "stream": "stdout",
       "text": [
        "\n",
        "> predicted=1.0, actual=0.0\n",
        "> predicted=1.0, actual=0.0\n",
        "> predicted=1.0, actual=0.0\n",
        "> predicted=1.0, actual=0.0"
       ]
      },
      {
       "output_type": "stream",
       "stream": "stdout",
       "text": [
        "\n",
        "> predicted=1.0, actual=0.0\n",
        "> predicted=1.0, actual=0.0\n",
        "> predicted=1.0, actual=0.0"
       ]
      },
      {
       "output_type": "stream",
       "stream": "stdout",
       "text": [
        "\n",
        "> predicted=1.0, actual=0.0\n",
        "> predicted=1.0, actual=0.0\n",
        "> predicted=1.0, actual=1.0\n",
        "> predicted=1.0, actual=1.0"
       ]
      },
      {
       "output_type": "stream",
       "stream": "stdout",
       "text": [
        "\n",
        "> predicted=1.0, actual=1.0\n",
        "> predicted=1.0, actual=1.0\n",
        "> predicted=1.0, actual=1.0"
       ]
      },
      {
       "output_type": "stream",
       "stream": "stdout",
       "text": [
        "\n",
        "> predicted=1.0, actual=1.0\n",
        "> predicted=1.0, actual=1.0\n",
        "> predicted=1.0, actual=1.0"
       ]
      },
      {
       "output_type": "stream",
       "stream": "stdout",
       "text": [
        "\n",
        "> predicted=1.0, actual=1.0\n",
        "> predicted=1.0, actual=1.0\n",
        "> predicted=1.0, actual=1.0"
       ]
      },
      {
       "output_type": "stream",
       "stream": "stdout",
       "text": [
        "\n",
        "> predicted=1.0, actual=1.0\n",
        "> predicted=1.0, actual=1.0\n",
        "> predicted=1.0, actual=1.0"
       ]
      },
      {
       "output_type": "stream",
       "stream": "stdout",
       "text": [
        "\n",
        "> predicted=1.0, actual=1.0\n",
        "> predicted=1.0, actual=0.29666666666666669\n",
        "> predicted=1.0, actual=0.0"
       ]
      },
      {
       "output_type": "stream",
       "stream": "stdout",
       "text": [
        "\n",
        "> predicted=1.0, actual=0.0\n",
        "> predicted=1.0, actual=0.0"
       ]
      },
      {
       "output_type": "stream",
       "stream": "stdout",
       "text": [
        "\n",
        "> predicted=1.0, actual=1.0\n",
        "> predicted=1.0, actual=1.0"
       ]
      },
      {
       "output_type": "stream",
       "stream": "stdout",
       "text": [
        "\n",
        "> predicted=1.0, actual=1.0\n",
        "> predicted=1.0, actual=1.0"
       ]
      },
      {
       "output_type": "stream",
       "stream": "stdout",
       "text": [
        "\n",
        "> predicted=1.0, actual=0.0\n",
        "> predicted=1.0, actual=0.0\n",
        "> predicted=1.0, actual=0.55555555555555558"
       ]
      },
      {
       "output_type": "stream",
       "stream": "stdout",
       "text": [
        "\n",
        "> predicted=1.0, actual=0.0\n",
        "> predicted=1.0, actual=0.0"
       ]
      },
      {
       "output_type": "stream",
       "stream": "stdout",
       "text": [
        "\n",
        "> predicted=1.0, actual=0.0\n",
        "> predicted=1.0, actual=0.0\n",
        "> predicted=1.0, actual=0.0"
       ]
      },
      {
       "output_type": "stream",
       "stream": "stdout",
       "text": [
        "\n",
        "> predicted=1.0, actual=0.0\n",
        "> predicted=1.0, actual=0.0\n",
        "> predicted=1.0, actual=0.0"
       ]
      },
      {
       "output_type": "stream",
       "stream": "stdout",
       "text": [
        "\n",
        "> predicted=1.0, actual=1.0\n",
        "> predicted=1.0, actual=1.0\n",
        "> predicted=1.0, actual=1.0"
       ]
      },
      {
       "output_type": "stream",
       "stream": "stdout",
       "text": [
        "\n",
        "> predicted=1.0, actual=1.0\n",
        "> predicted=1.0, actual=1.0\n",
        "> predicted=1.0, actual=1.0"
       ]
      },
      {
       "output_type": "stream",
       "stream": "stdout",
       "text": [
        "\n",
        "> predicted=1.0, actual=1.0\n",
        "> predicted=1.0, actual=1.0\n",
        "> predicted=1.0, actual=1.0"
       ]
      },
      {
       "output_type": "stream",
       "stream": "stdout",
       "text": [
        "\n",
        "> predicted=1.0, actual=1.0\n",
        "> predicted=1.0, actual=1.0\n",
        "> predicted=1.0, actual=1.0"
       ]
      },
      {
       "output_type": "stream",
       "stream": "stdout",
       "text": [
        "\n",
        "> predicted=1.0, actual=1.0\n",
        "> predicted=1.0, actual=0.0\n",
        "> predicted=1.0, actual=0.0"
       ]
      },
      {
       "output_type": "stream",
       "stream": "stdout",
       "text": [
        "\n",
        "> predicted=1.0, actual=0.0\n",
        "> predicted=1.0, actual=0.0\n",
        "> predicted=1.0, actual=0.0"
       ]
      },
      {
       "output_type": "stream",
       "stream": "stdout",
       "text": [
        "\n",
        "> predicted=1.0, actual=0.0\n",
        "> predicted=1.0, actual=0.0\n",
        "> predicted=1.0, actual=1.0"
       ]
      },
      {
       "output_type": "stream",
       "stream": "stdout",
       "text": [
        "\n",
        "> predicted=1.0, actual=0.52777777777777779\n",
        "> predicted=1.0, actual=0.0\n",
        "> predicted=1.0, actual=1.0"
       ]
      },
      {
       "output_type": "stream",
       "stream": "stdout",
       "text": [
        "\n",
        "> predicted=1.0, actual=1.0\n",
        "> predicted=1.0, actual=1.0\n",
        "> predicted=1.0, actual=1.0"
       ]
      },
      {
       "output_type": "stream",
       "stream": "stdout",
       "text": [
        "\n",
        "> predicted=1.0, actual=1.0\n",
        "> predicted=1.0, actual=1.0\n",
        "> predicted=1.0, actual=1.0"
       ]
      },
      {
       "output_type": "stream",
       "stream": "stdout",
       "text": [
        "\n",
        "> predicted=1.0, actual=1.0\n",
        "> predicted=1.0, actual=1.0\n",
        "> predicted=1.0, actual=1.0"
       ]
      },
      {
       "output_type": "stream",
       "stream": "stdout",
       "text": [
        "\n",
        "> predicted=1.0, actual=1.0\n",
        "> predicted=1.0, actual=1.0\n",
        "> predicted=1.0, actual=1.0"
       ]
      },
      {
       "output_type": "stream",
       "stream": "stdout",
       "text": [
        "\n",
        "> predicted=1.0, actual=1.0\n",
        "> predicted=1.0, actual=1.0\n",
        "> predicted=1.0, actual=1.0"
       ]
      },
      {
       "output_type": "stream",
       "stream": "stdout",
       "text": [
        "\n",
        "> predicted=1.0, actual=1.0\n",
        "> predicted=1.0, actual=1.0\n",
        "> predicted=1.0, actual=1.0"
       ]
      },
      {
       "output_type": "stream",
       "stream": "stdout",
       "text": [
        "\n",
        "> predicted=1.0, actual=1.0\n",
        "> predicted=1.0, actual=1.0\n",
        "> predicted=1.0, actual=1.0"
       ]
      },
      {
       "output_type": "stream",
       "stream": "stdout",
       "text": [
        "\n",
        "> predicted=1.0, actual=1.0\n",
        "> predicted=1.0, actual=1.0\n",
        "> predicted=1.0, actual=1.0"
       ]
      },
      {
       "output_type": "stream",
       "stream": "stdout",
       "text": [
        "\n",
        "> predicted=1.0, actual=1.0\n",
        "> predicted=1.0, actual=1.0\n",
        "> predicted=1.0, actual=1.0"
       ]
      },
      {
       "output_type": "stream",
       "stream": "stdout",
       "text": [
        "\n",
        "> predicted=1.0, actual=1.0\n",
        "> predicted=1.0, actual=1.0\n",
        "> predicted=1.0, actual=1.0"
       ]
      },
      {
       "output_type": "stream",
       "stream": "stdout",
       "text": [
        "\n",
        "> predicted=1.0, actual=1.0\n",
        "> predicted=1.0, actual=1.0\n",
        "> predicted=1.0, actual=1.0"
       ]
      },
      {
       "output_type": "stream",
       "stream": "stdout",
       "text": [
        "\n",
        "> predicted=1.0, actual=1.0\n",
        "> predicted=1.0, actual=1.0\n",
        "> predicted=1.0, actual=1.0"
       ]
      },
      {
       "output_type": "stream",
       "stream": "stdout",
       "text": [
        "\n",
        "> predicted=1.0, actual=1.0\n",
        "> predicted=1.0, actual=1.0\n",
        "> predicted=1.0, actual=1.0"
       ]
      },
      {
       "output_type": "stream",
       "stream": "stdout",
       "text": [
        "\n",
        "> predicted=1.0, actual=1.0\n",
        "> predicted=1.0, actual=1.0"
       ]
      },
      {
       "output_type": "stream",
       "stream": "stdout",
       "text": [
        "\n",
        "> predicted=1.0, actual=1.0\n",
        "> predicted=1.0, actual=1.0\n",
        "> predicted=1.0, actual=1.0"
       ]
      },
      {
       "output_type": "stream",
       "stream": "stdout",
       "text": [
        "\n",
        "> predicted=1.0, actual=1.0\n",
        "> predicted=1.0, actual=1.0\n",
        "> predicted=1.0, actual=1.0"
       ]
      },
      {
       "output_type": "stream",
       "stream": "stdout",
       "text": [
        "\n",
        "> predicted=1.0, actual=1.0\n",
        "> predicted=1.0, actual=1.0\n",
        "> predicted=1.0, actual=1.0"
       ]
      },
      {
       "output_type": "stream",
       "stream": "stdout",
       "text": [
        "\n",
        "> predicted=1.0, actual=1.0\n",
        "> predicted=1.0, actual=1.0\n",
        "> predicted=1.0, actual=1.0"
       ]
      },
      {
       "output_type": "stream",
       "stream": "stdout",
       "text": [
        "\n",
        "> predicted=1.0, actual=1.0\n",
        "> predicted=1.0, actual=1.0\n",
        "> predicted=1.0, actual=1.0"
       ]
      },
      {
       "output_type": "stream",
       "stream": "stdout",
       "text": [
        "\n",
        "> predicted=1.0, actual=1.0\n",
        "> predicted=1.0, actual=1.0\n",
        "> predicted=1.0, actual=1.0"
       ]
      },
      {
       "output_type": "stream",
       "stream": "stdout",
       "text": [
        "\n",
        "> predicted=1.0, actual=1.0\n",
        "> predicted=1.0, actual=1.0\n",
        "> predicted=1.0, actual=1.0"
       ]
      },
      {
       "output_type": "stream",
       "stream": "stdout",
       "text": [
        "\n",
        "> predicted=1.0, actual=1.0\n",
        "> predicted=1.0, actual=1.0"
       ]
      },
      {
       "output_type": "stream",
       "stream": "stdout",
       "text": [
        "\n",
        "> predicted=1.0, actual=1.0\n",
        "> predicted=1.0, actual=1.0\n",
        "> predicted=1.0, actual=0.0"
       ]
      },
      {
       "output_type": "stream",
       "stream": "stdout",
       "text": [
        "\n",
        "> predicted=1.0, actual=0.0\n",
        "> predicted=1.0, actual=1.0\n",
        "> predicted=1.0, actual=1.0"
       ]
      },
      {
       "output_type": "stream",
       "stream": "stdout",
       "text": [
        "\n",
        "> predicted=1.0, actual=1.0\n",
        "> predicted=1.0, actual=1.0\n",
        "> predicted=1.0, actual=1.0"
       ]
      },
      {
       "output_type": "stream",
       "stream": "stdout",
       "text": [
        "\n",
        "> predicted=1.0, actual=1.0\n",
        "> predicted=1.0, actual=1.0\n",
        "> predicted=1.0, actual=1.0"
       ]
      },
      {
       "output_type": "stream",
       "stream": "stdout",
       "text": [
        "\n",
        "> predicted=1.0, actual=1.0\n",
        "> predicted=1.0, actual=1.0\n",
        "> predicted=1.0, actual=1.0"
       ]
      },
      {
       "output_type": "stream",
       "stream": "stdout",
       "text": [
        "\n",
        "> predicted=1.0, actual=1.0\n",
        "> predicted=1.0, actual=1.0\n",
        "> predicted=1.0, actual=1.0"
       ]
      },
      {
       "output_type": "stream",
       "stream": "stdout",
       "text": [
        "\n",
        "> predicted=1.0, actual=1.0\n",
        "> predicted=1.0, actual=1.0\n",
        "> predicted=1.0, actual=1.0"
       ]
      },
      {
       "output_type": "stream",
       "stream": "stdout",
       "text": [
        "\n",
        "> predicted=1.0, actual=1.0\n",
        "> predicted=1.0, actual=1.0\n",
        "> predicted=1.0, actual=1.0"
       ]
      },
      {
       "output_type": "stream",
       "stream": "stdout",
       "text": [
        "\n",
        "> predicted=1.0, actual=1.0\n",
        "> predicted=1.0, actual=1.0\n",
        "> predicted=1.0, actual=1.0"
       ]
      },
      {
       "output_type": "stream",
       "stream": "stdout",
       "text": [
        "\n",
        "> predicted=1.0, actual=1.0\n",
        "> predicted=1.0, actual=1.0\n",
        "> predicted=1.0, actual=1.0"
       ]
      },
      {
       "output_type": "stream",
       "stream": "stdout",
       "text": [
        "\n",
        "> predicted=1.0, actual=1.0\n",
        "> predicted=1.0, actual=1.0\n",
        "> predicted=1.0, actual=1.0"
       ]
      },
      {
       "output_type": "stream",
       "stream": "stdout",
       "text": [
        "\n",
        "> predicted=1.0, actual=1.0\n",
        "> predicted=1.0, actual=1.0\n",
        "> predicted=1.0, actual=1.0"
       ]
      },
      {
       "output_type": "stream",
       "stream": "stdout",
       "text": [
        "\n",
        "> predicted=1.0, actual=1.0\n",
        "> predicted=1.0, actual=1.0\n",
        "> predicted=1.0, actual=1.0"
       ]
      },
      {
       "output_type": "stream",
       "stream": "stdout",
       "text": [
        "\n",
        "> predicted=1.0, actual=1.0\n",
        "> predicted=1.0, actual=1.0"
       ]
      },
      {
       "output_type": "stream",
       "stream": "stdout",
       "text": [
        "\n",
        "> predicted=1.0, actual=1.0\n",
        "> predicted=1.0, actual=1.0"
       ]
      },
      {
       "output_type": "stream",
       "stream": "stdout",
       "text": [
        "\n",
        "> predicted=1.0, actual=1.0\n",
        "> predicted=1.0, actual=1.0"
       ]
      },
      {
       "output_type": "stream",
       "stream": "stdout",
       "text": [
        "\n",
        "> predicted=1.0, actual=1.0\n",
        "> predicted=1.0, actual=1.0"
       ]
      },
      {
       "output_type": "stream",
       "stream": "stdout",
       "text": [
        "\n",
        "> predicted=1.0, actual=1.0\n",
        "> predicted=1.0, actual=1.0\n",
        "> predicted=1.0, actual=1.0"
       ]
      },
      {
       "output_type": "stream",
       "stream": "stdout",
       "text": [
        "\n",
        "> predicted=1.0, actual=1.0\n",
        "> predicted=1.0, actual=1.0\n",
        "> predicted=1.0, actual=1.0"
       ]
      },
      {
       "output_type": "stream",
       "stream": "stdout",
       "text": [
        "\n",
        "> predicted=1.0, actual=1.0\n",
        "> predicted=1.0, actual=1.0\n",
        "> predicted=1.0, actual=1.0"
       ]
      },
      {
       "output_type": "stream",
       "stream": "stdout",
       "text": [
        "\n",
        "> predicted=1.0, actual=1.0\n",
        "> predicted=1.0, actual=1.0\n",
        "> predicted=1.0, actual=1.0"
       ]
      },
      {
       "output_type": "stream",
       "stream": "stdout",
       "text": [
        "\n",
        "> predicted=1.0, actual=1.0\n",
        "> predicted=1.0, actual=1.0\n",
        "> predicted=1.0, actual=1.0"
       ]
      },
      {
       "output_type": "stream",
       "stream": "stdout",
       "text": [
        "\n",
        "> predicted=1.0, actual=1.0\n",
        "> predicted=1.0, actual=1.0\n",
        "> predicted=1.0, actual=1.0"
       ]
      },
      {
       "output_type": "stream",
       "stream": "stdout",
       "text": [
        "\n",
        "> predicted=1.0, actual=1.0\n",
        "> predicted=1.0, actual=1.0\n",
        "> predicted=1.0, actual=1.0"
       ]
      },
      {
       "output_type": "stream",
       "stream": "stdout",
       "text": [
        "\n",
        "> predicted=1.0, actual=1.0\n",
        "> predicted=1.0, actual=1.0\n",
        "> predicted=1.0, actual=1.0"
       ]
      },
      {
       "output_type": "stream",
       "stream": "stdout",
       "text": [
        "\n",
        "> predicted=1.0, actual=1.0\n",
        "> predicted=1.0, actual=1.0\n",
        "> predicted=1.0, actual=1.0"
       ]
      },
      {
       "output_type": "stream",
       "stream": "stdout",
       "text": [
        "\n",
        "> predicted=1.0, actual=1.0\n",
        "> predicted=1.0, actual=1.0\n",
        "> predicted=1.0, actual=1.0"
       ]
      },
      {
       "output_type": "stream",
       "stream": "stdout",
       "text": [
        "\n",
        "> predicted=1.0, actual=1.0\n",
        "> predicted=1.0, actual=0.12333333333333334\n",
        "> predicted=1.0, actual=0.0"
       ]
      },
      {
       "output_type": "stream",
       "stream": "stdout",
       "text": [
        "\n",
        "> predicted=1.0, actual=0.0\n",
        "> predicted=1.0, actual=0.0\n",
        "> predicted=1.0, actual=0.0"
       ]
      },
      {
       "output_type": "stream",
       "stream": "stdout",
       "text": [
        "\n",
        "> predicted=1.0, actual=0.0\n",
        "> predicted=1.0, actual=0.0\n",
        "> predicted=1.0, actual=0.0\n",
        "> predicted=1.0, actual=0.0"
       ]
      },
      {
       "output_type": "stream",
       "stream": "stdout",
       "text": [
        "\n",
        "> predicted=1.0, actual=0.0\n",
        "> predicted=1.0, actual=0.0\n",
        "> predicted=1.0, actual=0.0"
       ]
      },
      {
       "output_type": "stream",
       "stream": "stdout",
       "text": [
        "\n",
        "> predicted=1.0, actual=1.0\n",
        "> predicted=1.0, actual=1.0\n",
        "> predicted=1.0, actual=1.0"
       ]
      },
      {
       "output_type": "stream",
       "stream": "stdout",
       "text": [
        "\n",
        "> predicted=1.0, actual=1.0\n",
        "> predicted=1.0, actual=0.5033333333333333\n",
        "> predicted=1.0, actual=0.0"
       ]
      },
      {
       "output_type": "stream",
       "stream": "stdout",
       "text": [
        "\n",
        "> predicted=1.0, actual=0.0\n",
        "> predicted=1.0, actual=0.0\n",
        "> predicted=1.0, actual=0.0"
       ]
      },
      {
       "output_type": "stream",
       "stream": "stdout",
       "text": [
        "\n",
        "> predicted=1.0, actual=0.0\n",
        "> predicted=1.0, actual=0.0\n",
        "> predicted=1.0, actual=0.95444444444444443"
       ]
      },
      {
       "output_type": "stream",
       "stream": "stdout",
       "text": [
        "\n",
        "> predicted=1.0, actual=1.0\n",
        "> predicted=1.0, actual=1.0\n",
        "> predicted=1.0, actual=1.0"
       ]
      },
      {
       "output_type": "stream",
       "stream": "stdout",
       "text": [
        "\n",
        "> predicted=1.0, actual=1.0\n",
        "> predicted=1.0, actual=1.0\n",
        "> predicted=1.0, actual=1.0\n"
       ]
      },
      {
       "output_type": "stream",
       "stream": "stdout",
       "text": [
        "> predicted=1.0, actual=1.0\n",
        "> predicted=1.0, actual=1.0\n",
        "> predicted=1.0, actual=1.0\n",
        "> predicted=1.0, actual=1.0\n",
        "> predicted=1.0, actual=0.0"
       ]
      },
      {
       "output_type": "stream",
       "stream": "stdout",
       "text": [
        "\n",
        "> predicted=1.0, actual=0.0\n",
        "> predicted=1.0, actual=0.0\n",
        "> predicted=1.0, actual=0.0"
       ]
      },
      {
       "output_type": "stream",
       "stream": "stdout",
       "text": [
        "\n",
        "> predicted=1.0, actual=0.0\n",
        "> predicted=1.0, actual=0.0\n",
        "> predicted=1.0, actual=0.0"
       ]
      },
      {
       "output_type": "stream",
       "stream": "stdout",
       "text": [
        "\n",
        "> predicted=1.0, actual=0.0\n",
        "> predicted=1.0, actual=0.0\n",
        "> predicted=1.0, actual=0.0\n",
        "> predicted=1.0, actual=0.0"
       ]
      },
      {
       "output_type": "stream",
       "stream": "stdout",
       "text": [
        "\n",
        "> predicted=1.0, actual=0.0\n",
        "> predicted=1.0, actual=0.0\n",
        "> predicted=1.0, actual=0.0"
       ]
      },
      {
       "output_type": "stream",
       "stream": "stdout",
       "text": [
        "\n",
        "> predicted=1.0, actual=0.0\n",
        "> predicted=1.0, actual=0.0\n",
        "> predicted=1.0, actual=0.98999999999999999"
       ]
      },
      {
       "output_type": "stream",
       "stream": "stdout",
       "text": [
        "\n",
        "> predicted=1.0, actual=1.0\n",
        "> predicted=1.0, actual=1.0\n",
        "> predicted=1.0, actual=1.0"
       ]
      },
      {
       "output_type": "stream",
       "stream": "stdout",
       "text": [
        "\n",
        "> predicted=1.0, actual=1.0\n",
        "> predicted=1.0, actual=1.0\n",
        "> predicted=1.0, actual=1.0"
       ]
      },
      {
       "output_type": "stream",
       "stream": "stdout",
       "text": [
        "\n",
        "> predicted=1.0, actual=1.0\n",
        "> predicted=1.0, actual=1.0\n",
        "> predicted=1.0, actual=1.0"
       ]
      },
      {
       "output_type": "stream",
       "stream": "stdout",
       "text": [
        "\n",
        "> predicted=1.0, actual=1.0\n",
        "> predicted=1.0, actual=1.0\n",
        "> predicted=1.0, actual=1.0"
       ]
      },
      {
       "output_type": "stream",
       "stream": "stdout",
       "text": [
        "\n",
        "> predicted=1.0, actual=0.0\n",
        "> predicted=1.0, actual=0.0\n",
        "> predicted=1.0, actual=0.0"
       ]
      },
      {
       "output_type": "stream",
       "stream": "stdout",
       "text": [
        "\n",
        "> predicted=1.0, actual=0.0\n",
        "> predicted=1.0, actual=0.0\n",
        "> predicted=1.0, actual=0.0"
       ]
      },
      {
       "output_type": "stream",
       "stream": "stdout",
       "text": [
        "\n",
        "> predicted=1.0, actual=0.0\n",
        "> predicted=1.0, actual=0.0\n",
        "> predicted=1.0, actual=0.0"
       ]
      },
      {
       "output_type": "stream",
       "stream": "stdout",
       "text": [
        "\n",
        "> predicted=1.0, actual=0.0\n",
        "> predicted=1.0, actual=0.0\n",
        "> predicted=1.0, actual=0.0\n",
        "> predicted=1.0, actual=0.0"
       ]
      },
      {
       "output_type": "stream",
       "stream": "stdout",
       "text": [
        "\n",
        "> predicted=1.0, actual=0.0\n",
        "> predicted=1.0, actual=1.0\n",
        "> predicted=1.0, actual=0.0\n",
        "> predicted=1.0, actual=0.62"
       ]
      },
      {
       "output_type": "stream",
       "stream": "stdout",
       "text": [
        "\n",
        "> predicted=1.0, actual=1.0\n",
        "> predicted=1.0, actual=1.0\n",
        "> predicted=1.0, actual=1.0"
       ]
      },
      {
       "output_type": "stream",
       "stream": "stdout",
       "text": [
        "\n",
        "> predicted=1.0, actual=1.0\n",
        "> predicted=1.0, actual=1.0\n",
        "> predicted=1.0, actual=1.0"
       ]
      },
      {
       "output_type": "stream",
       "stream": "stdout",
       "text": [
        "\n",
        "> predicted=1.0, actual=1.0\n",
        "> predicted=1.0, actual=1.0\n",
        "> predicted=1.0, actual=1.0"
       ]
      },
      {
       "output_type": "stream",
       "stream": "stdout",
       "text": [
        "\n",
        "> predicted=1.0, actual=1.0\n",
        "> predicted=1.0, actual=1.0\n",
        "> predicted=1.0, actual=1.0"
       ]
      },
      {
       "output_type": "stream",
       "stream": "stdout",
       "text": [
        "\n",
        "> predicted=1.0, actual=1.0\n",
        "> predicted=1.0, actual=1.0\n",
        "> predicted=1.0, actual=1.0"
       ]
      },
      {
       "output_type": "stream",
       "stream": "stdout",
       "text": [
        "\n",
        "> predicted=1.0, actual=1.0\n",
        "> predicted=1.0, actual=1.0\n",
        "> predicted=1.0, actual=1.0"
       ]
      },
      {
       "output_type": "stream",
       "stream": "stdout",
       "text": [
        "\n",
        "> predicted=1.0, actual=1.0\n",
        "> predicted=1.0, actual=1.0\n",
        "> predicted=1.0, actual=1.0"
       ]
      },
      {
       "output_type": "stream",
       "stream": "stdout",
       "text": [
        "\n",
        "> predicted=1.0, actual=1.0\n",
        "> predicted=1.0, actual=1.0\n",
        "> predicted=1.0, actual=1.0"
       ]
      },
      {
       "output_type": "stream",
       "stream": "stdout",
       "text": [
        "\n",
        "> predicted=1.0, actual=1.0\n",
        "> predicted=1.0, actual=1.0\n",
        "> predicted=1.0, actual=1.0\n",
        "> predicted=1.0, actual=1.0"
       ]
      },
      {
       "output_type": "stream",
       "stream": "stdout",
       "text": [
        "\n",
        "> predicted=1.0, actual=1.0\n",
        "> predicted=1.0, actual=1.0\n",
        "> predicted=1.0, actual=1.0"
       ]
      },
      {
       "output_type": "stream",
       "stream": "stdout",
       "text": [
        "\n",
        "> predicted=1.0, actual=1.0\n",
        "> predicted=1.0, actual=1.0\n",
        "> predicted=1.0, actual=1.0"
       ]
      },
      {
       "output_type": "stream",
       "stream": "stdout",
       "text": [
        "\n",
        "> predicted=1.0, actual=1.0\n",
        "> predicted=1.0, actual=1.0\n",
        "> predicted=1.0, actual=1.0"
       ]
      },
      {
       "output_type": "stream",
       "stream": "stdout",
       "text": [
        "\n",
        "> predicted=1.0, actual=1.0\n",
        "> predicted=1.0, actual=1.0\n",
        "> predicted=1.0, actual=1.0"
       ]
      },
      {
       "output_type": "stream",
       "stream": "stdout",
       "text": [
        "\n",
        "> predicted=1.0, actual=1.0\n",
        "> predicted=1.0, actual=1.0\n",
        "> predicted=1.0, actual=1.0"
       ]
      },
      {
       "output_type": "stream",
       "stream": "stdout",
       "text": [
        "\n",
        "> predicted=1.0, actual=1.0\n",
        "> predicted=1.0, actual=1.0\n",
        "> predicted=1.0, actual=1.0"
       ]
      },
      {
       "output_type": "stream",
       "stream": "stdout",
       "text": [
        "\n",
        "> predicted=1.0, actual=1.0\n",
        "> predicted=1.0, actual=1.0\n",
        "> predicted=1.0, actual=1.0"
       ]
      },
      {
       "output_type": "stream",
       "stream": "stdout",
       "text": [
        "\n",
        "> predicted=1.0, actual=1.0\n",
        "> predicted=1.0, actual=1.0\n",
        "> predicted=1.0, actual=1.0"
       ]
      },
      {
       "output_type": "stream",
       "stream": "stdout",
       "text": [
        "\n",
        "> predicted=1.0, actual=1.0\n",
        "> predicted=1.0, actual=1.0\n",
        "> predicted=1.0, actual=1.0"
       ]
      },
      {
       "output_type": "stream",
       "stream": "stdout",
       "text": [
        "\n",
        "> predicted=1.0, actual=1.0\n",
        "> predicted=1.0, actual=1.0\n",
        "> predicted=1.0, actual=1.0"
       ]
      },
      {
       "output_type": "stream",
       "stream": "stdout",
       "text": [
        "\n",
        "> predicted=1.0, actual=1.0\n",
        "> predicted=1.0, actual=1.0\n",
        "> predicted=1.0, actual=1.0"
       ]
      },
      {
       "output_type": "stream",
       "stream": "stdout",
       "text": [
        "\n",
        "> predicted=1.0, actual=1.0\n",
        "> predicted=1.0, actual=1.0\n",
        "> predicted=1.0, actual=1.0\n",
        "> predicted=1.0, actual=1.0"
       ]
      },
      {
       "output_type": "stream",
       "stream": "stdout",
       "text": [
        "\n",
        "> predicted=1.0, actual=1.0\n",
        "> predicted=1.0, actual=1.0\n",
        "> predicted=1.0, actual=1.0\n",
        "> predicted=1.0, actual=1.0"
       ]
      },
      {
       "output_type": "stream",
       "stream": "stdout",
       "text": [
        "\n",
        "> predicted=1.0, actual=1.0\n",
        "> predicted=1.0, actual=1.0\n",
        "> predicted=1.0, actual=1.0"
       ]
      },
      {
       "output_type": "stream",
       "stream": "stdout",
       "text": [
        "\n",
        "> predicted=1.0, actual=1.0\n",
        "> predicted=1.0, actual=1.0\n",
        "> predicted=1.0, actual=1.0\n",
        "> predicted=1.0, actual=1.0"
       ]
      },
      {
       "output_type": "stream",
       "stream": "stdout",
       "text": [
        "\n",
        "> predicted=1.0, actual=1.0\n",
        "> predicted=1.0, actual=1.0\n",
        "> predicted=1.0, actual=1.0"
       ]
      },
      {
       "output_type": "stream",
       "stream": "stdout",
       "text": [
        "\n",
        "> predicted=1.0, actual=1.0\n",
        "> predicted=1.0, actual=1.0\n",
        "> predicted=1.0, actual=1.0"
       ]
      },
      {
       "output_type": "stream",
       "stream": "stdout",
       "text": [
        "\n",
        "> predicted=1.0, actual=1.0\n",
        "> predicted=1.0, actual=0.0\n",
        "> predicted=1.0, actual=0.0"
       ]
      },
      {
       "output_type": "stream",
       "stream": "stdout",
       "text": [
        "\n",
        "> predicted=1.0, actual=0.0\n",
        "> predicted=1.0, actual=0.0\n",
        "> predicted=1.0, actual=0.0"
       ]
      },
      {
       "output_type": "stream",
       "stream": "stdout",
       "text": [
        "\n",
        "> predicted=1.0, actual=0.0\n",
        "> predicted=1.0, actual=0.0\n",
        "> predicted=1.0, actual=0.43777777777777777"
       ]
      },
      {
       "output_type": "stream",
       "stream": "stdout",
       "text": [
        "\n",
        "> predicted=1.0, actual=1.0\n",
        "> predicted=1.0, actual=1.0\n",
        "> predicted=1.0, actual=1.0"
       ]
      },
      {
       "output_type": "stream",
       "stream": "stdout",
       "text": [
        "\n",
        "> predicted=1.0, actual=1.0\n",
        "> predicted=1.0, actual=1.0\n",
        "> predicted=1.0, actual=1.0"
       ]
      },
      {
       "output_type": "stream",
       "stream": "stdout",
       "text": [
        "\n",
        "> predicted=1.0, actual=1.0\n",
        "> predicted=1.0, actual=1.0\n",
        "> predicted=1.0, actual=1.0"
       ]
      },
      {
       "output_type": "stream",
       "stream": "stdout",
       "text": [
        "\n",
        "> predicted=1.0, actual=1.0\n",
        "> predicted=1.0, actual=1.0\n",
        "> predicted=1.0, actual=1.0"
       ]
      },
      {
       "output_type": "stream",
       "stream": "stdout",
       "text": [
        "\n",
        "> predicted=1.0, actual=1.0\n",
        "> predicted=1.0, actual=1.0\n",
        "> predicted=1.0, actual=1.0"
       ]
      },
      {
       "output_type": "stream",
       "stream": "stdout",
       "text": [
        "\n",
        "> predicted=1.0, actual=1.0\n",
        "> predicted=1.0, actual=1.0\n",
        "> predicted=1.0, actual=1.0"
       ]
      },
      {
       "output_type": "stream",
       "stream": "stdout",
       "text": [
        "\n",
        "> predicted=1.0, actual=1.0\n",
        "> predicted=1.0, actual=0.87666666666666671\n",
        "> predicted=1.0, actual=0.0"
       ]
      },
      {
       "output_type": "stream",
       "stream": "stdout",
       "text": [
        "\n",
        "> predicted=1.0, actual=0.96666666666666667\n",
        "> predicted=1.0, actual=1.0\n",
        "> predicted=1.0, actual=1.0"
       ]
      },
      {
       "output_type": "stream",
       "stream": "stdout",
       "text": [
        "\n",
        "> predicted=1.0, actual=1.0\n",
        "> predicted=1.0, actual=1.0\n",
        "> predicted=1.0, actual=1.0\n",
        "> predicted=1.0, actual=1.0"
       ]
      },
      {
       "output_type": "stream",
       "stream": "stdout",
       "text": [
        "\n",
        "> predicted=1.0, actual=0.0\n",
        "> predicted=1.0, actual=0.0\n",
        "> predicted=1.0, actual=0.0"
       ]
      },
      {
       "output_type": "stream",
       "stream": "stdout",
       "text": [
        "\n",
        "> predicted=1.0, actual=0.0\n",
        "> predicted=1.0, actual=0.0\n",
        "> predicted=1.0, actual=1.0"
       ]
      },
      {
       "output_type": "stream",
       "stream": "stdout",
       "text": [
        "\n",
        "> predicted=1.0, actual=1.0\n",
        "> predicted=1.0, actual=1.0\n",
        "> predicted=1.0, actual=1.0"
       ]
      },
      {
       "output_type": "stream",
       "stream": "stdout",
       "text": [
        "\n",
        "> predicted=1.0, actual=1.0\n",
        "> predicted=1.0, actual=1.0\n",
        "> predicted=1.0, actual=1.0"
       ]
      },
      {
       "output_type": "stream",
       "stream": "stdout",
       "text": [
        "\n",
        "> predicted=1.0, actual=1.0\n",
        "> predicted=1.0, actual=1.0\n",
        "> predicted=1.0, actual=1.0"
       ]
      },
      {
       "output_type": "stream",
       "stream": "stdout",
       "text": [
        "\n",
        "> predicted=1.0, actual=1.0\n",
        "> predicted=1.0, actual=1.0\n",
        "> predicted=1.0, actual=1.0"
       ]
      },
      {
       "output_type": "stream",
       "stream": "stdout",
       "text": [
        "\n",
        "> predicted=1.0, actual=1.0\n",
        "> predicted=1.0, actual=1.0\n",
        "> predicted=1.0, actual=1.0"
       ]
      },
      {
       "output_type": "stream",
       "stream": "stdout",
       "text": [
        "\n",
        "> predicted=1.0, actual=1.0\n",
        "> predicted=1.0, actual=1.0\n",
        "> predicted=1.0, actual=1.0"
       ]
      },
      {
       "output_type": "stream",
       "stream": "stdout",
       "text": [
        "\n",
        "> predicted=1.0, actual=1.0\n",
        "> predicted=1.0, actual=1.0\n",
        "> predicted=1.0, actual=1.0"
       ]
      },
      {
       "output_type": "stream",
       "stream": "stdout",
       "text": [
        "\n",
        "> predicted=1.0, actual=1.0\n",
        "> predicted=1.0, actual=1.0\n",
        "> predicted=1.0, actual=1.0"
       ]
      },
      {
       "output_type": "stream",
       "stream": "stdout",
       "text": [
        "\n",
        "> predicted=1.0, actual=1.0\n",
        "> predicted=1.0, actual=1.0\n",
        "> predicted=1.0, actual=1.0"
       ]
      },
      {
       "output_type": "stream",
       "stream": "stdout",
       "text": [
        "\n",
        "> predicted=1.0, actual=1.0\n",
        "> predicted=1.0, actual=1.0\n",
        "> predicted=1.0, actual=1.0\n",
        "> predicted=1.0, actual=1.0"
       ]
      },
      {
       "output_type": "stream",
       "stream": "stdout",
       "text": [
        "\n",
        "> predicted=1.0, actual=1.0\n",
        "> predicted=1.0, actual=1.0\n",
        "> predicted=1.0, actual=1.0"
       ]
      },
      {
       "output_type": "stream",
       "stream": "stdout",
       "text": [
        "\n",
        "> predicted=1.0, actual=1.0\n",
        "> predicted=1.0, actual=1.0\n",
        "> predicted=1.0, actual=1.0"
       ]
      },
      {
       "output_type": "stream",
       "stream": "stdout",
       "text": [
        "\n",
        "> predicted=1.0, actual=1.0\n",
        "> predicted=1.0, actual=1.0\n",
        "> predicted=1.0, actual=1.0"
       ]
      },
      {
       "output_type": "stream",
       "stream": "stdout",
       "text": [
        "\n",
        "> predicted=1.0, actual=1.0\n",
        "> predicted=1.0, actual=1.0\n",
        "> predicted=1.0, actual=1.0"
       ]
      },
      {
       "output_type": "stream",
       "stream": "stdout",
       "text": [
        "\n",
        "> predicted=1.0, actual=1.0\n",
        "> predicted=1.0, actual=1.0\n",
        "> predicted=1.0, actual=1.0"
       ]
      },
      {
       "output_type": "stream",
       "stream": "stdout",
       "text": [
        "\n",
        "> predicted=1.0, actual=1.0\n",
        "> predicted=1.0, actual=1.0\n",
        "> predicted=1.0, actual=1.0"
       ]
      },
      {
       "output_type": "stream",
       "stream": "stdout",
       "text": [
        "\n",
        "> predicted=1.0, actual=1.0\n",
        "> predicted=1.0, actual=1.0\n",
        "> predicted=1.0, actual=1.0"
       ]
      },
      {
       "output_type": "stream",
       "stream": "stdout",
       "text": [
        "\n",
        "> predicted=1.0, actual=1.0\n",
        "> predicted=1.0, actual=1.0\n",
        "> predicted=1.0, actual=1.0"
       ]
      },
      {
       "output_type": "stream",
       "stream": "stdout",
       "text": [
        "\n",
        "> predicted=1.0, actual=1.0\n",
        "> predicted=1.0, actual=1.0\n",
        "> predicted=1.0, actual=1.0"
       ]
      },
      {
       "output_type": "stream",
       "stream": "stdout",
       "text": [
        "\n",
        "> predicted=1.0, actual=1.0\n",
        "> predicted=1.0, actual=0.55888888888888888\n",
        "> predicted=1.0, actual=0.0"
       ]
      },
      {
       "output_type": "stream",
       "stream": "stdout",
       "text": [
        "\n",
        "> predicted=1.0, actual=0.0\n",
        "> predicted=1.0, actual=0.091111111111111115\n",
        "> predicted=1.0, actual=1.0"
       ]
      },
      {
       "output_type": "stream",
       "stream": "stdout",
       "text": [
        "\n",
        "> predicted=1.0, actual=1.0\n",
        "> predicted=1.0, actual=1.0"
       ]
      },
      {
       "output_type": "stream",
       "stream": "stdout",
       "text": [
        "\n",
        "> predicted=1.0, actual=1.0\n",
        "> predicted=1.0, actual=1.0"
       ]
      },
      {
       "output_type": "stream",
       "stream": "stdout",
       "text": [
        "\n",
        "> predicted=1.0, actual=1.0\n",
        "> predicted=1.0, actual=1.0"
       ]
      },
      {
       "output_type": "stream",
       "stream": "stdout",
       "text": [
        "\n",
        "> predicted=1.0, actual=1.0\n",
        "> predicted=1.0, actual=1.0"
       ]
      },
      {
       "output_type": "stream",
       "stream": "stdout",
       "text": [
        "\n",
        "> predicted=1.0, actual=1.0\n",
        "> predicted=1.0, actual=1.0\n",
        "> predicted=1.0, actual=1.0"
       ]
      },
      {
       "output_type": "stream",
       "stream": "stdout",
       "text": [
        "\n",
        "> predicted=1.0, actual=1.0\n",
        "> predicted=1.0, actual=1.0\n",
        "> predicted=1.0, actual=1.0"
       ]
      },
      {
       "output_type": "stream",
       "stream": "stdout",
       "text": [
        "\n",
        "> predicted=1.0, actual=1.0\n",
        "> predicted=1.0, actual=1.0\n",
        "> predicted=1.0, actual=1.0"
       ]
      },
      {
       "output_type": "stream",
       "stream": "stdout",
       "text": [
        "\n",
        "> predicted=1.0, actual=1.0\n",
        "> predicted=1.0, actual=1.0\n",
        "> predicted=1.0, actual=0.94666666666666666"
       ]
      },
      {
       "output_type": "stream",
       "stream": "stdout",
       "text": [
        "\n",
        "> predicted=1.0, actual=0.0\n",
        "> predicted=1.0, actual=0.0\n",
        "> predicted=1.0, actual=0.0"
       ]
      },
      {
       "output_type": "stream",
       "stream": "stdout",
       "text": [
        "\n",
        "> predicted=1.0, actual=0.0\n",
        "> predicted=1.0, actual=0.0\n",
        "> predicted=1.0, actual=0.69666666666666666"
       ]
      },
      {
       "output_type": "stream",
       "stream": "stdout",
       "text": [
        "\n",
        "> predicted=1.0, actual=1.0\n",
        "> predicted=1.0, actual=1.0\n",
        "> predicted=1.0, actual=1.0"
       ]
      },
      {
       "output_type": "stream",
       "stream": "stdout",
       "text": [
        "\n",
        "> predicted=1.0, actual=1.0\n",
        "> predicted=1.0, actual=1.0\n",
        "> predicted=1.0, actual=1.0"
       ]
      },
      {
       "output_type": "stream",
       "stream": "stdout",
       "text": [
        "\n",
        "> predicted=1.0, actual=1.0\n",
        "> predicted=1.0, actual=1.0\n",
        "> predicted=1.0, actual=1.0"
       ]
      },
      {
       "output_type": "stream",
       "stream": "stdout",
       "text": [
        "\n",
        "> predicted=1.0, actual=1.0\n",
        "> predicted=1.0, actual=1.0\n",
        "> predicted=1.0, actual=1.0"
       ]
      },
      {
       "output_type": "stream",
       "stream": "stdout",
       "text": [
        "\n",
        "> predicted=1.0, actual=1.0\n",
        "> predicted=1.0, actual=1.0\n",
        "> predicted=1.0, actual=1.0"
       ]
      },
      {
       "output_type": "stream",
       "stream": "stdout",
       "text": [
        "\n",
        "> predicted=1.0, actual=1.0\n",
        "> predicted=1.0, actual=0.40555555555555556\n",
        "> predicted=1.0, actual=0.0"
       ]
      },
      {
       "output_type": "stream",
       "stream": "stdout",
       "text": [
        "\n",
        "> predicted=1.0, actual=0.0\n",
        "> predicted=1.0, actual=0.0\n",
        "> predicted=1.0, actual=0.0"
       ]
      },
      {
       "output_type": "stream",
       "stream": "stdout",
       "text": [
        "\n",
        "> predicted=1.0, actual=0.0\n",
        "> predicted=1.0, actual=0.0\n",
        "> predicted=1.0, actual=0.0"
       ]
      },
      {
       "output_type": "stream",
       "stream": "stdout",
       "text": [
        "\n",
        "> predicted=1.0, actual=0.0\n",
        "> predicted=1.0, actual=0.0\n",
        "> predicted=1.0, actual=0.0"
       ]
      },
      {
       "output_type": "stream",
       "stream": "stdout",
       "text": [
        "\n",
        "> predicted=1.0, actual=1.0\n",
        "> predicted=1.0, actual=1.0\n",
        "> predicted=1.0, actual=1.0"
       ]
      },
      {
       "output_type": "stream",
       "stream": "stdout",
       "text": [
        "\n",
        "> predicted=1.0, actual=1.0\n",
        "> predicted=1.0, actual=1.0\n",
        "> predicted=1.0, actual=1.0"
       ]
      },
      {
       "output_type": "stream",
       "stream": "stdout",
       "text": [
        "\n",
        "> predicted=1.0, actual=1.0\n",
        "> predicted=1.0, actual=1.0\n",
        "> predicted=1.0, actual=1.0"
       ]
      },
      {
       "output_type": "stream",
       "stream": "stdout",
       "text": [
        "\n",
        "> predicted=1.0, actual=1.0\n",
        "> predicted=1.0, actual=1.0\n",
        "> predicted=1.0, actual=1.0"
       ]
      },
      {
       "output_type": "stream",
       "stream": "stdout",
       "text": [
        "\n",
        "> predicted=1.0, actual=1.0\n",
        "> predicted=1.0, actual=1.0\n",
        "> predicted=1.0, actual=1.0"
       ]
      },
      {
       "output_type": "stream",
       "stream": "stdout",
       "text": [
        "\n",
        "> predicted=1.0, actual=1.0\n",
        "> predicted=1.0, actual=1.0\n",
        "> predicted=1.0, actual=1.0"
       ]
      },
      {
       "output_type": "stream",
       "stream": "stdout",
       "text": [
        "\n",
        "> predicted=1.0, actual=1.0\n",
        "> predicted=1.0, actual=1.0"
       ]
      },
      {
       "output_type": "stream",
       "stream": "stdout",
       "text": [
        "\n",
        "> predicted=1.0, actual=1.0\n",
        "> predicted=1.0, actual=1.0"
       ]
      },
      {
       "output_type": "stream",
       "stream": "stdout",
       "text": [
        "\n",
        "> predicted=1.0, actual=1.0\n",
        "> predicted=1.0, actual=1.0"
       ]
      },
      {
       "output_type": "stream",
       "stream": "stdout",
       "text": [
        "\n",
        "> predicted=1.0, actual=1.0\n",
        "> predicted=1.0, actual=1.0"
       ]
      },
      {
       "output_type": "stream",
       "stream": "stdout",
       "text": [
        "\n",
        "> predicted=1.0, actual=0.37111111111111111\n",
        "> predicted=1.0, actual=1.0\n",
        "> predicted=1.0, actual=1.0"
       ]
      },
      {
       "output_type": "stream",
       "stream": "stdout",
       "text": [
        "\n",
        "> predicted=1.0, actual=1.0\n",
        "> predicted=1.0, actual=1.0\n",
        "> predicted=1.0, actual=1.0"
       ]
      },
      {
       "output_type": "stream",
       "stream": "stdout",
       "text": [
        "\n",
        "> predicted=1.0, actual=1.0\n",
        "> predicted=1.0, actual=1.0\n",
        "> predicted=1.0, actual=1.0"
       ]
      },
      {
       "output_type": "stream",
       "stream": "stdout",
       "text": [
        "\n",
        "> predicted=1.0, actual=1.0\n",
        "> predicted=1.0, actual=1.0\n",
        "> predicted=1.0, actual=1.0"
       ]
      },
      {
       "output_type": "stream",
       "stream": "stdout",
       "text": [
        "\n",
        "> predicted=1.0, actual=1.0\n",
        "> predicted=1.0, actual=1.0\n",
        "> predicted=1.0, actual=1.0"
       ]
      },
      {
       "output_type": "stream",
       "stream": "stdout",
       "text": [
        "\n",
        "> predicted=1.0, actual=1.0\n",
        "> predicted=1.0, actual=1.0\n",
        "> predicted=1.0, actual=1.0"
       ]
      },
      {
       "output_type": "stream",
       "stream": "stdout",
       "text": [
        "\n",
        "> predicted=1.0, actual=1.0\n",
        "> predicted=1.0, actual=1.0\n",
        "> predicted=1.0, actual=1.0"
       ]
      },
      {
       "output_type": "stream",
       "stream": "stdout",
       "text": [
        "\n",
        "> predicted=1.0, actual=1.0\n",
        "> predicted=1.0, actual=1.0"
       ]
      },
      {
       "output_type": "stream",
       "stream": "stdout",
       "text": [
        "\n",
        "> predicted=1.0, actual=1.0\n",
        "> predicted=1.0, actual=1.0"
       ]
      },
      {
       "output_type": "stream",
       "stream": "stdout",
       "text": [
        "\n",
        "> predicted=1.0, actual=1.0\n",
        "> predicted=1.0, actual=1.0"
       ]
      },
      {
       "output_type": "stream",
       "stream": "stdout",
       "text": [
        "\n",
        "> predicted=1.0, actual=0.0\n",
        "> predicted=1.0, actual=0.0\n",
        "> predicted=1.0, actual=0.0"
       ]
      },
      {
       "output_type": "stream",
       "stream": "stdout",
       "text": [
        "\n",
        "> predicted=1.0, actual=0.0\n",
        "> predicted=1.0, actual=0.0\n",
        "> predicted=1.0, actual=1.0"
       ]
      },
      {
       "output_type": "stream",
       "stream": "stdout",
       "text": [
        "\n",
        "> predicted=1.0, actual=1.0\n",
        "> predicted=1.0, actual=0.16777777777777778\n",
        "> predicted=1.0, actual=0.0"
       ]
      },
      {
       "output_type": "stream",
       "stream": "stdout",
       "text": [
        "\n",
        "> predicted=1.0, actual=0.85888888888888892\n",
        "> predicted=1.0, actual=1.0\n",
        "> predicted=1.0, actual=1.0"
       ]
      },
      {
       "output_type": "stream",
       "stream": "stdout",
       "text": [
        "\n",
        "> predicted=1.0, actual=1.0\n",
        "> predicted=1.0, actual=1.0\n",
        "> predicted=1.0, actual=1.0"
       ]
      },
      {
       "output_type": "stream",
       "stream": "stdout",
       "text": [
        "\n",
        "> predicted=1.0, actual=1.0\n",
        "> predicted=1.0, actual=0.0\n",
        "> predicted=1.0, actual=1.0"
       ]
      },
      {
       "output_type": "stream",
       "stream": "stdout",
       "text": [
        "\n",
        "> predicted=1.0, actual=1.0\n",
        "> predicted=1.0, actual=1.0"
       ]
      },
      {
       "output_type": "stream",
       "stream": "stdout",
       "text": [
        "\n",
        "> predicted=1.0, actual=1.0\n",
        "> predicted=1.0, actual=1.0"
       ]
      },
      {
       "output_type": "stream",
       "stream": "stdout",
       "text": [
        "\n",
        "> predicted=1.0, actual=1.0\n",
        "> predicted=1.0, actual=1.0\n",
        "> predicted=1.0, actual=1.0"
       ]
      },
      {
       "output_type": "stream",
       "stream": "stdout",
       "text": [
        "\n",
        "> predicted=1.0, actual=1.0\n",
        "> predicted=1.0, actual=1.0\n",
        "> predicted=1.0, actual=1.0"
       ]
      },
      {
       "output_type": "stream",
       "stream": "stdout",
       "text": [
        "\n",
        "> predicted=1.0, actual=1.0\n",
        "> predicted=1.0, actual=1.0\n",
        "> predicted=1.0, actual=1.0"
       ]
      },
      {
       "output_type": "stream",
       "stream": "stdout",
       "text": [
        "\n",
        "> predicted=1.0, actual=0.58777777777777773\n",
        "> predicted=1.0, actual=0.0\n",
        "> predicted=1.0, actual=0.0"
       ]
      },
      {
       "output_type": "stream",
       "stream": "stdout",
       "text": [
        "\n",
        "> predicted=1.0, actual=0.0\n",
        "> predicted=1.0, actual=0.0\n",
        "> predicted=1.0, actual=0.0"
       ]
      },
      {
       "output_type": "stream",
       "stream": "stdout",
       "text": [
        "\n",
        "> predicted=1.0, actual=0.0\n",
        "> predicted=1.0, actual=0.0\n",
        "> predicted=1.0, actual=0.0"
       ]
      },
      {
       "output_type": "stream",
       "stream": "stdout",
       "text": [
        "\n",
        "> predicted=1.0, actual=0.0\n",
        "> predicted=1.0, actual=0.0\n",
        "> predicted=1.0, actual=0.0"
       ]
      },
      {
       "output_type": "stream",
       "stream": "stdout",
       "text": [
        "\n",
        "> predicted=1.0, actual=0.0\n",
        "> predicted=1.0, actual=0.0\n",
        "> predicted=1.0, actual=1.0"
       ]
      },
      {
       "output_type": "stream",
       "stream": "stdout",
       "text": [
        "\n",
        "> predicted=1.0, actual=1.0\n",
        "> predicted=1.0, actual=1.0\n",
        "> predicted=1.0, actual=1.0"
       ]
      },
      {
       "output_type": "stream",
       "stream": "stdout",
       "text": [
        "\n",
        "> predicted=1.0, actual=1.0\n",
        "> predicted=1.0, actual=1.0"
       ]
      },
      {
       "output_type": "stream",
       "stream": "stdout",
       "text": [
        "\n",
        "> predicted=1.0, actual=1.0\n",
        "> predicted=1.0, actual=1.0"
       ]
      },
      {
       "output_type": "stream",
       "stream": "stdout",
       "text": [
        "\n",
        "> predicted=1.0, actual=1.0\n",
        "> predicted=1.0, actual=1.0"
       ]
      },
      {
       "output_type": "stream",
       "stream": "stdout",
       "text": [
        "\n",
        "> predicted=1.0, actual=1.0\n",
        "> predicted=1.0, actual=1.0"
       ]
      },
      {
       "output_type": "stream",
       "stream": "stdout",
       "text": [
        "\n",
        "> predicted=1.0, actual=1.0\n",
        "> predicted=1.0, actual=1.0\n",
        "> predicted=1.0, actual=1.0"
       ]
      },
      {
       "output_type": "stream",
       "stream": "stdout",
       "text": [
        "\n",
        "> predicted=1.0, actual=1.0\n",
        "> predicted=1.0, actual=1.0\n",
        "> predicted=1.0, actual=1.0"
       ]
      },
      {
       "output_type": "stream",
       "stream": "stdout",
       "text": [
        "\n",
        "> predicted=1.0, actual=1.0\n",
        "> predicted=1.0, actual=1.0"
       ]
      },
      {
       "output_type": "stream",
       "stream": "stdout",
       "text": [
        "\n",
        "> predicted=1.0, actual=1.0\n",
        "> predicted=1.0, actual=1.0"
       ]
      },
      {
       "output_type": "stream",
       "stream": "stdout",
       "text": [
        "\n",
        "> predicted=1.0, actual=1.0\n",
        "> predicted=1.0, actual=1.0\n",
        "> predicted=1.0, actual=1.0"
       ]
      },
      {
       "output_type": "stream",
       "stream": "stdout",
       "text": [
        "\n",
        "> predicted=1.0, actual=0.0\n",
        "> predicted=1.0, actual=1.0\n",
        "> predicted=1.0, actual=1.0"
       ]
      },
      {
       "output_type": "stream",
       "stream": "stdout",
       "text": [
        "\n",
        "> predicted=1.0, actual=1.0\n",
        "> predicted=1.0, actual=1.0"
       ]
      },
      {
       "output_type": "stream",
       "stream": "stdout",
       "text": [
        "\n",
        "> predicted=1.0, actual=1.0\n",
        "> predicted=1.0, actual=1.0"
       ]
      },
      {
       "output_type": "stream",
       "stream": "stdout",
       "text": [
        "\n",
        "> predicted=1.0, actual=1.0\n",
        "> predicted=1.0, actual=1.0"
       ]
      },
      {
       "output_type": "stream",
       "stream": "stdout",
       "text": [
        "\n",
        "> predicted=1.0, actual=1.0\n",
        "> predicted=1.0, actual=1.0"
       ]
      },
      {
       "output_type": "stream",
       "stream": "stdout",
       "text": [
        "\n",
        "> predicted=1.0, actual=1.0\n",
        "> predicted=1.0, actual=1.0"
       ]
      },
      {
       "output_type": "stream",
       "stream": "stdout",
       "text": [
        "\n",
        "> predicted=1.0, actual=1.0\n",
        "> predicted=1.0, actual=1.0\n",
        "> predicted=1.0, actual=1.0"
       ]
      },
      {
       "output_type": "stream",
       "stream": "stdout",
       "text": [
        "\n",
        "> predicted=1.0, actual=1.0\n",
        "> predicted=1.0, actual=1.0\n",
        "> predicted=1.0, actual=1.0"
       ]
      },
      {
       "output_type": "stream",
       "stream": "stdout",
       "text": [
        "\n",
        "> predicted=1.0, actual=1.0\n",
        "> predicted=1.0, actual=1.0\n",
        "> predicted=1.0, actual=1.0"
       ]
      },
      {
       "output_type": "stream",
       "stream": "stdout",
       "text": [
        "\n",
        "> predicted=1.0, actual=1.0\n",
        "> predicted=1.0, actual=1.0\n",
        "> predicted=1.0, actual=0.0"
       ]
      },
      {
       "output_type": "stream",
       "stream": "stdout",
       "text": [
        "\n",
        "> predicted=1.0, actual=0.0\n",
        "> predicted=1.0, actual=1.0\n",
        "> predicted=1.0, actual=1.0"
       ]
      },
      {
       "output_type": "stream",
       "stream": "stdout",
       "text": [
        "\n",
        "> predicted=1.0, actual=1.0\n",
        "> predicted=1.0, actual=1.0\n",
        "> predicted=1.0, actual=1.0"
       ]
      },
      {
       "output_type": "stream",
       "stream": "stdout",
       "text": [
        "\n",
        "> predicted=1.0, actual=1.0\n",
        "> predicted=1.0, actual=1.0\n",
        "> predicted=1.0, actual=1.0"
       ]
      },
      {
       "output_type": "stream",
       "stream": "stdout",
       "text": [
        "\n",
        "> predicted=1.0, actual=1.0\n",
        "> predicted=1.0, actual=1.0\n",
        "> predicted=1.0, actual=1.0"
       ]
      },
      {
       "output_type": "stream",
       "stream": "stdout",
       "text": [
        "\n",
        "> predicted=1.0, actual=1.0\n",
        "> predicted=1.0, actual=1.0\n",
        "> predicted=1.0, actual=1.0"
       ]
      },
      {
       "output_type": "stream",
       "stream": "stdout",
       "text": [
        "\n",
        "> predicted=1.0, actual=1.0\n",
        "> predicted=1.0, actual=1.0\n",
        "> predicted=1.0, actual=1.0"
       ]
      },
      {
       "output_type": "stream",
       "stream": "stdout",
       "text": [
        "\n",
        "> predicted=1.0, actual=1.0\n",
        "> predicted=1.0, actual=1.0\n",
        "> predicted=1.0, actual=1.0"
       ]
      },
      {
       "output_type": "stream",
       "stream": "stdout",
       "text": [
        "\n",
        "> predicted=1.0, actual=1.0\n",
        "> predicted=1.0, actual=1.0\n",
        "> predicted=1.0, actual=1.0"
       ]
      },
      {
       "output_type": "stream",
       "stream": "stdout",
       "text": [
        "\n",
        "> predicted=1.0, actual=1.0\n",
        "> predicted=1.0, actual=1.0\n",
        "> predicted=1.0, actual=1.0"
       ]
      },
      {
       "output_type": "stream",
       "stream": "stdout",
       "text": [
        "\n",
        "> predicted=1.0, actual=1.0\n",
        "> predicted=1.0, actual=1.0\n",
        "> predicted=1.0, actual=1.0"
       ]
      },
      {
       "output_type": "stream",
       "stream": "stdout",
       "text": [
        "\n",
        "> predicted=1.0, actual=0.0\n",
        "> predicted=1.0, actual=0.0\n",
        "> predicted=1.0, actual=0.0"
       ]
      },
      {
       "output_type": "stream",
       "stream": "stdout",
       "text": [
        "\n",
        "> predicted=1.0, actual=0.0\n",
        "> predicted=1.0, actual=0.0\n",
        "> predicted=1.0, actual=0.0"
       ]
      },
      {
       "output_type": "stream",
       "stream": "stdout",
       "text": [
        "\n",
        "> predicted=1.0, actual=0.0\n",
        "> predicted=1.0, actual=0.0\n",
        "> predicted=1.0, actual=0.0"
       ]
      },
      {
       "output_type": "stream",
       "stream": "stdout",
       "text": [
        "\n",
        "> predicted=1.0, actual=0.0\n",
        "> predicted=1.0, actual=0.0\n",
        "> predicted=1.0, actual=0.0"
       ]
      },
      {
       "output_type": "stream",
       "stream": "stdout",
       "text": [
        "\n",
        "> predicted=1.0, actual=0.0\n",
        "> predicted=1.0, actual=1.0\n",
        "> predicted=1.0, actual=1.0"
       ]
      },
      {
       "output_type": "stream",
       "stream": "stdout",
       "text": [
        "\n",
        "> predicted=1.0, actual=1.0\n",
        "> predicted=1.0, actual=1.0\n",
        "> predicted=1.0, actual=1.0"
       ]
      },
      {
       "output_type": "stream",
       "stream": "stdout",
       "text": [
        "\n",
        "> predicted=1.0, actual=1.0\n",
        "> predicted=1.0, actual=1.0\n",
        "> predicted=1.0, actual=1.0"
       ]
      },
      {
       "output_type": "stream",
       "stream": "stdout",
       "text": [
        "\n",
        "> predicted=1.0, actual=1.0\n",
        "> predicted=1.0, actual=1.0\n",
        "> predicted=1.0, actual=1.0"
       ]
      },
      {
       "output_type": "stream",
       "stream": "stdout",
       "text": [
        "\n",
        "> predicted=1.0, actual=1.0\n",
        "> predicted=1.0, actual=1.0\n",
        "> predicted=1.0, actual=1.0"
       ]
      },
      {
       "output_type": "stream",
       "stream": "stdout",
       "text": [
        "\n",
        "> predicted=1.0, actual=1.0\n",
        "> predicted=1.0, actual=0.0\n",
        "> predicted=1.0, actual=0.0"
       ]
      },
      {
       "output_type": "stream",
       "stream": "stdout",
       "text": [
        "\n",
        "> predicted=1.0, actual=0.0\n",
        "> predicted=1.0, actual=0.0"
       ]
      },
      {
       "output_type": "stream",
       "stream": "stdout",
       "text": [
        "\n",
        "> predicted=1.0, actual=0.0\n",
        "> predicted=1.0, actual=0.0\n",
        "> predicted=1.0, actual=0.0"
       ]
      },
      {
       "output_type": "stream",
       "stream": "stdout",
       "text": [
        "\n",
        "> predicted=1.0, actual=0.0\n",
        "> predicted=1.0, actual=0.0\n",
        "> predicted=1.0, actual=0.0"
       ]
      },
      {
       "output_type": "stream",
       "stream": "stdout",
       "text": [
        "\n",
        "> predicted=1.0, actual=0.0\n",
        "> predicted=1.0, actual=0.0\n",
        "> predicted=1.0, actual=1.0"
       ]
      },
      {
       "output_type": "stream",
       "stream": "stdout",
       "text": [
        "\n",
        "> predicted=1.0, actual=1.0\n",
        "> predicted=1.0, actual=1.0\n",
        "> predicted=1.0, actual=1.0"
       ]
      },
      {
       "output_type": "stream",
       "stream": "stdout",
       "text": [
        "\n",
        "> predicted=1.0, actual=1.0\n",
        "> predicted=1.0, actual=1.0\n",
        "> predicted=1.0, actual=1.0"
       ]
      },
      {
       "output_type": "stream",
       "stream": "stdout",
       "text": [
        "\n",
        "> predicted=1.0, actual=1.0\n",
        "> predicted=1.0, actual=1.0\n",
        "> predicted=1.0, actual=1.0"
       ]
      },
      {
       "output_type": "stream",
       "stream": "stdout",
       "text": [
        "\n",
        "> predicted=1.0, actual=1.0\n",
        "> predicted=1.0, actual=1.0\n",
        "> predicted=1.0, actual=1.0"
       ]
      },
      {
       "output_type": "stream",
       "stream": "stdout",
       "text": [
        "\n",
        "> predicted=1.0, actual=1.0\n",
        "> predicted=1.0, actual=1.0\n",
        "> predicted=1.0, actual=1.0"
       ]
      },
      {
       "output_type": "stream",
       "stream": "stdout",
       "text": [
        "\n",
        "> predicted=1.0, actual=0.0\n",
        "> predicted=1.0, actual=0.0\n",
        "> predicted=1.0, actual=0.0"
       ]
      },
      {
       "output_type": "stream",
       "stream": "stdout",
       "text": [
        "\n",
        "> predicted=1.0, actual=0.0\n",
        "> predicted=1.0, actual=0.0\n",
        "> predicted=1.0, actual=0.0"
       ]
      },
      {
       "output_type": "stream",
       "stream": "stdout",
       "text": [
        "\n",
        "> predicted=1.0, actual=0.0\n",
        "> predicted=1.0, actual=0.0\n",
        "> predicted=1.0, actual=0.0"
       ]
      },
      {
       "output_type": "stream",
       "stream": "stdout",
       "text": [
        "\n",
        "> predicted=1.0, actual=1.0\n",
        "> predicted=1.0, actual=1.0\n",
        "> predicted=1.0, actual=1.0"
       ]
      },
      {
       "output_type": "stream",
       "stream": "stdout",
       "text": [
        "\n",
        "> predicted=1.0, actual=1.0\n",
        "> predicted=1.0, actual=1.0\n",
        "> predicted=1.0, actual=1.0"
       ]
      },
      {
       "output_type": "stream",
       "stream": "stdout",
       "text": [
        "\n",
        "> predicted=1.0, actual=1.0\n",
        "> predicted=1.0, actual=1.0\n",
        "> predicted=1.0, actual=1.0"
       ]
      },
      {
       "output_type": "stream",
       "stream": "stdout",
       "text": [
        "\n",
        "> predicted=1.0, actual=1.0\n",
        "> predicted=1.0, actual=1.0\n",
        "> predicted=1.0, actual=1.0"
       ]
      },
      {
       "output_type": "stream",
       "stream": "stdout",
       "text": [
        "\n",
        "> predicted=1.0, actual=1.0\n",
        "> predicted=1.0, actual=1.0\n",
        "> predicted=1.0, actual=1.0"
       ]
      },
      {
       "output_type": "stream",
       "stream": "stdout",
       "text": [
        "\n",
        "> predicted=1.0, actual=1.0\n",
        "> predicted=1.0, actual=1.0\n",
        "> predicted=1.0, actual=1.0"
       ]
      },
      {
       "output_type": "stream",
       "stream": "stdout",
       "text": [
        "\n",
        "> predicted=1.0, actual=1.0\n",
        "> predicted=1.0, actual=1.0\n",
        "> predicted=1.0, actual=1.0"
       ]
      },
      {
       "output_type": "stream",
       "stream": "stdout",
       "text": [
        "\n",
        "> predicted=1.0, actual=1.0\n",
        "> predicted=1.0, actual=0.0\n",
        "> predicted=1.0, actual=0.0"
       ]
      },
      {
       "output_type": "stream",
       "stream": "stdout",
       "text": [
        "\n",
        "> predicted=1.0, actual=1.0\n",
        "> predicted=1.0, actual=1.0\n",
        "> predicted=1.0, actual=1.0"
       ]
      },
      {
       "output_type": "stream",
       "stream": "stdout",
       "text": [
        "\n",
        "> predicted=1.0, actual=1.0\n",
        "> predicted=1.0, actual=1.0\n",
        "> predicted=1.0, actual=1.0"
       ]
      },
      {
       "output_type": "stream",
       "stream": "stdout",
       "text": [
        "\n",
        "> predicted=1.0, actual=1.0\n",
        "> predicted=1.0, actual=1.0\n",
        "> predicted=1.0, actual=1.0"
       ]
      },
      {
       "output_type": "stream",
       "stream": "stdout",
       "text": [
        "\n",
        "> predicted=1.0, actual=1.0\n",
        "> predicted=1.0, actual=1.0\n",
        "> predicted=1.0, actual=1.0"
       ]
      },
      {
       "output_type": "stream",
       "stream": "stdout",
       "text": [
        "\n",
        "> predicted=1.0, actual=1.0\n",
        "> predicted=1.0, actual=1.0\n",
        "> predicted=1.0, actual=1.0"
       ]
      },
      {
       "output_type": "stream",
       "stream": "stdout",
       "text": [
        "\n",
        "> predicted=1.0, actual=1.0\n",
        "> predicted=1.0, actual=1.0\n",
        "> predicted=1.0, actual=1.0"
       ]
      },
      {
       "output_type": "stream",
       "stream": "stdout",
       "text": [
        "\n",
        "> predicted=1.0, actual=1.0\n",
        "> predicted=1.0, actual=0.0\n",
        "> predicted=1.0, actual=0.0"
       ]
      },
      {
       "output_type": "stream",
       "stream": "stdout",
       "text": [
        "\n",
        "> predicted=1.0, actual=0.0\n",
        "> predicted=1.0, actual=0.0\n",
        "> predicted=1.0, actual=0.0"
       ]
      },
      {
       "output_type": "stream",
       "stream": "stdout",
       "text": [
        "\n",
        "> predicted=1.0, actual=0.0\n",
        "> predicted=1.0, actual=0.0\n",
        "> predicted=1.0, actual=0.0"
       ]
      },
      {
       "output_type": "stream",
       "stream": "stdout",
       "text": [
        "\n",
        "> predicted=1.0, actual=0.0\n",
        "> predicted=1.0, actual=0.0\n",
        "> predicted=1.0, actual=0.0"
       ]
      },
      {
       "output_type": "stream",
       "stream": "stdout",
       "text": [
        "\n",
        "> predicted=1.0, actual=0.0\n",
        "> predicted=1.0, actual=0.0\n",
        "> predicted=1.0, actual=0.0"
       ]
      },
      {
       "output_type": "stream",
       "stream": "stdout",
       "text": [
        "\n",
        "> predicted=1.0, actual=1.0\n",
        "> predicted=1.0, actual=1.0\n",
        "> predicted=1.0, actual=1.0"
       ]
      },
      {
       "output_type": "stream",
       "stream": "stdout",
       "text": [
        "\n",
        "> predicted=1.0, actual=1.0\n",
        "> predicted=1.0, actual=1.0\n",
        "> predicted=1.0, actual=1.0"
       ]
      },
      {
       "output_type": "stream",
       "stream": "stdout",
       "text": [
        "\n",
        "> predicted=1.0, actual=1.0\n",
        "> predicted=1.0, actual=1.0\n",
        "> predicted=1.0, actual=1.0"
       ]
      },
      {
       "output_type": "stream",
       "stream": "stdout",
       "text": [
        "\n",
        "> predicted=1.0, actual=1.0\n",
        "> predicted=1.0, actual=1.0\n",
        "> predicted=1.0, actual=1.0"
       ]
      },
      {
       "output_type": "stream",
       "stream": "stdout",
       "text": [
        "\n",
        "> predicted=1.0, actual=1.0\n",
        "> predicted=1.0, actual=1.0\n",
        "> predicted=1.0, actual=1.0"
       ]
      },
      {
       "output_type": "stream",
       "stream": "stdout",
       "text": [
        "\n",
        "> predicted=1.0, actual=1.0\n",
        "> predicted=1.0, actual=1.0\n",
        "> predicted=1.0, actual=1.0"
       ]
      },
      {
       "output_type": "stream",
       "stream": "stdout",
       "text": [
        "\n",
        "> predicted=1.0, actual=1.0\n",
        "> predicted=1.0, actual=1.0\n",
        "> predicted=1.0, actual=0.0"
       ]
      },
      {
       "output_type": "stream",
       "stream": "stdout",
       "text": [
        "\n",
        "> predicted=1.0, actual=0.0\n",
        "> predicted=1.0, actual=0.0\n",
        "> predicted=1.0, actual=0.0"
       ]
      },
      {
       "output_type": "stream",
       "stream": "stdout",
       "text": [
        "\n",
        "> predicted=1.0, actual=0.0\n",
        "> predicted=1.0, actual=0.0\n",
        "> predicted=1.0, actual=0.0"
       ]
      },
      {
       "output_type": "stream",
       "stream": "stdout",
       "text": [
        "\n",
        "> predicted=1.0, actual=0.0\n",
        "> predicted=1.0, actual=0.0\n",
        "> predicted=1.0, actual=0.0"
       ]
      },
      {
       "output_type": "stream",
       "stream": "stdout",
       "text": [
        "\n",
        "> predicted=1.0, actual=0.0\n",
        "> predicted=1.0, actual=0.0\n",
        "> predicted=1.0, actual=0.0"
       ]
      },
      {
       "output_type": "stream",
       "stream": "stdout",
       "text": [
        "\n",
        "> predicted=1.0, actual=0.0\n",
        "> predicted=1.0, actual=0.0\n",
        "> predicted=1.0, actual=0.0"
       ]
      },
      {
       "output_type": "stream",
       "stream": "stdout",
       "text": [
        "\n",
        "> predicted=1.0, actual=0.39000000000000001\n",
        "> predicted=1.0, actual=1.0\n",
        "> predicted=1.0, actual=0.8322222222222222"
       ]
      },
      {
       "output_type": "stream",
       "stream": "stdout",
       "text": [
        "\n",
        "> predicted=1.0, actual=0.0\n",
        "> predicted=1.0, actual=0.0\n",
        "> predicted=1.0, actual=0.0"
       ]
      },
      {
       "output_type": "stream",
       "stream": "stdout",
       "text": [
        "\n",
        "> predicted=1.0, actual=0.0\n",
        "> predicted=1.0, actual=0.90555555555555556\n",
        "> predicted=1.0, actual=1.0"
       ]
      },
      {
       "output_type": "stream",
       "stream": "stdout",
       "text": [
        "\n",
        "> predicted=1.0, actual=1.0\n",
        "> predicted=1.0, actual=1.0\n",
        "> predicted=1.0, actual=1.0"
       ]
      },
      {
       "output_type": "stream",
       "stream": "stdout",
       "text": [
        "\n",
        "> predicted=1.0, actual=1.0\n",
        "> predicted=1.0, actual=1.0\n",
        "> predicted=1.0, actual=1.0"
       ]
      },
      {
       "output_type": "stream",
       "stream": "stdout",
       "text": [
        "\n",
        "> predicted=1.0, actual=1.0\n",
        "> predicted=1.0, actual=1.0\n",
        "> predicted=1.0, actual=0.58666666666666667"
       ]
      },
      {
       "output_type": "stream",
       "stream": "stdout",
       "text": [
        "\n",
        "> predicted=1.0, actual=0.0\n",
        "> predicted=1.0, actual=0.0\n",
        "> predicted=1.0, actual=0.0"
       ]
      },
      {
       "output_type": "stream",
       "stream": "stdout",
       "text": [
        "\n",
        "> predicted=1.0, actual=0.0\n",
        "> predicted=1.0, actual=0.0\n",
        "> predicted=1.0, actual=0.0"
       ]
      },
      {
       "output_type": "stream",
       "stream": "stdout",
       "text": [
        "\n",
        "> predicted=1.0, actual=0.0\n",
        "> predicted=1.0, actual=0.0\n",
        "> predicted=1.0, actual=0.0"
       ]
      },
      {
       "output_type": "stream",
       "stream": "stdout",
       "text": [
        "\n",
        "> predicted=1.0, actual=0.0\n",
        "> predicted=1.0, actual=0.0\n",
        "> predicted=1.0, actual=0.0"
       ]
      },
      {
       "output_type": "stream",
       "stream": "stdout",
       "text": [
        "\n",
        "> predicted=1.0, actual=0.0\n",
        "> predicted=1.0, actual=0.0\n",
        "> predicted=1.0, actual=0.0"
       ]
      },
      {
       "output_type": "stream",
       "stream": "stdout",
       "text": [
        "\n",
        "> predicted=1.0, actual=0.0\n",
        "> predicted=1.0, actual=0.0\n",
        "> predicted=1.0, actual=0.0"
       ]
      },
      {
       "output_type": "stream",
       "stream": "stdout",
       "text": [
        "\n",
        "> predicted=1.0, actual=1.0\n",
        "> predicted=1.0, actual=0.0\n",
        "> predicted=1.0, actual=0.0"
       ]
      },
      {
       "output_type": "stream",
       "stream": "stdout",
       "text": [
        "\n",
        "> predicted=1.0, actual=0.0\n",
        "> predicted=1.0, actual=0.0\n",
        "> predicted=1.0, actual=0.0"
       ]
      },
      {
       "output_type": "stream",
       "stream": "stdout",
       "text": [
        "\n",
        "> predicted=1.0, actual=0.0\n",
        "> predicted=1.0, actual=0.0\n",
        "> predicted=1.0, actual=1.0"
       ]
      },
      {
       "output_type": "stream",
       "stream": "stdout",
       "text": [
        "\n",
        "> predicted=1.0, actual=1.0\n",
        "> predicted=1.0, actual=1.0\n",
        "> predicted=1.0, actual=1.0"
       ]
      },
      {
       "output_type": "stream",
       "stream": "stdout",
       "text": [
        "\n",
        "> predicted=1.0, actual=1.0\n",
        "> predicted=1.0, actual=1.0\n",
        "> predicted=1.0, actual=1.0"
       ]
      },
      {
       "output_type": "stream",
       "stream": "stdout",
       "text": [
        "\n",
        "> predicted=1.0, actual=1.0\n",
        "> predicted=1.0, actual=1.0\n",
        "> predicted=1.0, actual=1.0"
       ]
      },
      {
       "output_type": "stream",
       "stream": "stdout",
       "text": [
        "\n",
        "> predicted=1.0, actual=1.0\n",
        "> predicted=1.0, actual=1.0\n",
        "> predicted=1.0, actual=1.0"
       ]
      },
      {
       "output_type": "stream",
       "stream": "stdout",
       "text": [
        "\n",
        "> predicted=1.0, actual=0.0\n",
        "> predicted=1.0, actual=0.0\n",
        "> predicted=1.0, actual=0.0"
       ]
      },
      {
       "output_type": "stream",
       "stream": "stdout",
       "text": [
        "\n",
        "> predicted=1.0, actual=0.0\n",
        "> predicted=1.0, actual=0.0\n",
        "> predicted=1.0, actual=0.0"
       ]
      },
      {
       "output_type": "stream",
       "stream": "stdout",
       "text": [
        "\n",
        "> predicted=1.0, actual=0.0\n",
        "> predicted=1.0, actual=0.0\n",
        "> predicted=1.0, actual=0.0"
       ]
      },
      {
       "output_type": "stream",
       "stream": "stdout",
       "text": [
        "\n",
        "> predicted=1.0, actual=0.0\n",
        "> predicted=1.0, actual=0.0\n",
        "> predicted=1.0, actual=1.0"
       ]
      },
      {
       "output_type": "stream",
       "stream": "stdout",
       "text": [
        "\n",
        "> predicted=1.0, actual=1.0\n",
        "> predicted=1.0, actual=1.0\n",
        "> predicted=1.0, actual=1.0"
       ]
      },
      {
       "output_type": "stream",
       "stream": "stdout",
       "text": [
        "\n",
        "> predicted=1.0, actual=1.0\n",
        "> predicted=1.0, actual=1.0\n",
        "> predicted=1.0, actual=1.0"
       ]
      },
      {
       "output_type": "stream",
       "stream": "stdout",
       "text": [
        "\n",
        "> predicted=1.0, actual=1.0\n",
        "> predicted=1.0, actual=1.0\n",
        "> predicted=1.0, actual=1.0"
       ]
      },
      {
       "output_type": "stream",
       "stream": "stdout",
       "text": [
        "\n",
        "> predicted=1.0, actual=1.0\n",
        "> predicted=1.0, actual=1.0\n",
        "> predicted=1.0, actual=1.0"
       ]
      },
      {
       "output_type": "stream",
       "stream": "stdout",
       "text": [
        "\n",
        "> predicted=1.0, actual=1.0\n",
        "> predicted=1.0, actual=1.0\n",
        "> predicted=1.0, actual=1.0"
       ]
      },
      {
       "output_type": "stream",
       "stream": "stdout",
       "text": [
        "\n",
        "> predicted=1.0, actual=1.0\n",
        "> predicted=1.0, actual=1.0\n",
        "> predicted=1.0, actual=1.0"
       ]
      },
      {
       "output_type": "stream",
       "stream": "stdout",
       "text": [
        "\n",
        "> predicted=1.0, actual=1.0\n",
        "> predicted=1.0, actual=1.0\n",
        "> predicted=1.0, actual=1.0"
       ]
      },
      {
       "output_type": "stream",
       "stream": "stdout",
       "text": [
        "\n",
        "> predicted=1.0, actual=1.0\n",
        "> predicted=1.0, actual=1.0\n",
        "> predicted=1.0, actual=1.0"
       ]
      },
      {
       "output_type": "stream",
       "stream": "stdout",
       "text": [
        "\n",
        "> predicted=1.0, actual=1.0\n",
        "> predicted=1.0, actual=0.39000000000000001\n",
        "> predicted=1.0, actual=0.0"
       ]
      },
      {
       "output_type": "stream",
       "stream": "stdout",
       "text": [
        "\n",
        "> predicted=1.0, actual=0.0\n",
        "> predicted=1.0, actual=1.0\n",
        "> predicted=1.0, actual=1.0"
       ]
      },
      {
       "output_type": "stream",
       "stream": "stdout",
       "text": [
        "\n",
        "> predicted=1.0, actual=0.024444444444444446\n",
        "> predicted=1.0, actual=0.0\n",
        "> predicted=1.0, actual=0.0"
       ]
      },
      {
       "output_type": "stream",
       "stream": "stdout",
       "text": [
        "\n",
        "> predicted=1.0, actual=0.0\n",
        "> predicted=1.0, actual=0.0\n",
        "> predicted=1.0, actual=0.0"
       ]
      },
      {
       "output_type": "stream",
       "stream": "stdout",
       "text": [
        "\n",
        "> predicted=1.0, actual=0.0\n",
        "> predicted=1.0, actual=0.0\n",
        "> predicted=1.0, actual=0.0"
       ]
      },
      {
       "output_type": "stream",
       "stream": "stdout",
       "text": [
        "\n",
        "> predicted=1.0, actual=0.0\n",
        "> predicted=1.0, actual=0.0\n",
        "> predicted=1.0, actual=0.0\n",
        "> predicted=1.0, actual=1.0"
       ]
      },
      {
       "output_type": "stream",
       "stream": "stdout",
       "text": [
        "\n",
        "> predicted=1.0, actual=1.0\n",
        "> predicted=1.0, actual=1.0\n",
        "> predicted=1.0, actual=1.0\n",
        "> predicted=1.0, actual=1.0"
       ]
      },
      {
       "output_type": "stream",
       "stream": "stdout",
       "text": [
        "\n",
        "> predicted=1.0, actual=1.0\n",
        "> predicted=1.0, actual=1.0\n",
        "> predicted=1.0, actual=1.0"
       ]
      },
      {
       "output_type": "stream",
       "stream": "stdout",
       "text": [
        "\n",
        "> predicted=1.0, actual=1.0\n",
        "> predicted=1.0, actual=1.0\n",
        "> predicted=1.0, actual=0.40999999999999998"
       ]
      },
      {
       "output_type": "stream",
       "stream": "stdout",
       "text": [
        "\n",
        "> predicted=1.0, actual=0.0\n",
        "> predicted=1.0, actual=0.0\n",
        "> predicted=1.0, actual=0.0"
       ]
      },
      {
       "output_type": "stream",
       "stream": "stdout",
       "text": [
        "\n",
        "> predicted=1.0, actual=0.0\n",
        "> predicted=1.0, actual=0.0\n",
        "> predicted=1.0, actual=0.0"
       ]
      },
      {
       "output_type": "stream",
       "stream": "stdout",
       "text": [
        "\n",
        "> predicted=1.0, actual=0.0\n",
        "> predicted=1.0, actual=0.0\n",
        "> predicted=1.0, actual=0.52222222222222225"
       ]
      },
      {
       "output_type": "stream",
       "stream": "stdout",
       "text": [
        "\n",
        "> predicted=1.0, actual=0.0\n",
        "> predicted=1.0, actual=0.0\n",
        "> predicted=1.0, actual=0.0"
       ]
      },
      {
       "output_type": "stream",
       "stream": "stdout",
       "text": [
        "\n",
        "> predicted=1.0, actual=0.0\n",
        "> predicted=1.0, actual=1.0\n",
        "> predicted=1.0, actual=1.0"
       ]
      },
      {
       "output_type": "stream",
       "stream": "stdout",
       "text": [
        "\n",
        "> predicted=1.0, actual=1.0\n",
        "> predicted=1.0, actual=1.0\n",
        "> predicted=1.0, actual=1.0"
       ]
      },
      {
       "output_type": "stream",
       "stream": "stdout",
       "text": [
        "\n",
        "> predicted=1.0, actual=1.0\n",
        "> predicted=1.0, actual=1.0\n",
        "> predicted=1.0, actual=1.0"
       ]
      },
      {
       "output_type": "stream",
       "stream": "stdout",
       "text": [
        "\n",
        "> predicted=1.0, actual=1.0\n",
        "> predicted=1.0, actual=1.0\n",
        "> predicted=1.0, actual=1.0"
       ]
      },
      {
       "output_type": "stream",
       "stream": "stdout",
       "text": [
        "\n",
        "> predicted=1.0, actual=1.0\n",
        "> predicted=1.0, actual=0.92666666666666664\n",
        "> predicted=1.0, actual=0.0"
       ]
      },
      {
       "output_type": "stream",
       "stream": "stdout",
       "text": [
        "\n",
        "> predicted=1.0, actual=0.0\n",
        "> predicted=1.0, actual=0.0\n",
        "> predicted=1.0, actual=0.0"
       ]
      },
      {
       "output_type": "stream",
       "stream": "stdout",
       "text": [
        "\n",
        "> predicted=1.0, actual=0.0\n",
        "> predicted=1.0, actual=0.0\n",
        "> predicted=1.0, actual=0.0"
       ]
      },
      {
       "output_type": "stream",
       "stream": "stdout",
       "text": [
        "\n",
        "> predicted=1.0, actual=0.0\n",
        "> predicted=1.0, actual=0.0\n",
        "> predicted=1.0, actual=0.0"
       ]
      },
      {
       "output_type": "stream",
       "stream": "stdout",
       "text": [
        "\n",
        "> predicted=1.0, actual=0.0\n",
        "> predicted=1.0, actual=0.0\n",
        "> predicted=1.0, actual=0.0"
       ]
      },
      {
       "output_type": "stream",
       "stream": "stdout",
       "text": [
        "\n",
        "> predicted=1.0, actual=0.0\n",
        "> predicted=1.0, actual=1.0\n",
        "> predicted=1.0, actual=1.0"
       ]
      },
      {
       "output_type": "stream",
       "stream": "stdout",
       "text": [
        "\n",
        "> predicted=1.0, actual=1.0\n",
        "> predicted=1.0, actual=1.0\n",
        "> predicted=1.0, actual=1.0"
       ]
      },
      {
       "output_type": "stream",
       "stream": "stdout",
       "text": [
        "\n",
        "> predicted=1.0, actual=1.0\n",
        "> predicted=1.0, actual=1.0\n",
        "> predicted=1.0, actual=1.0"
       ]
      },
      {
       "output_type": "stream",
       "stream": "stdout",
       "text": [
        "\n",
        "> predicted=1.0, actual=1.0\n",
        "> predicted=1.0, actual=1.0\n",
        "> predicted=1.0, actual=1.0"
       ]
      },
      {
       "output_type": "stream",
       "stream": "stdout",
       "text": [
        "\n",
        "> predicted=1.0, actual=1.0\n",
        "> predicted=1.0, actual=1.0\n",
        "> predicted=1.0, actual=1.0"
       ]
      },
      {
       "output_type": "stream",
       "stream": "stdout",
       "text": [
        "\n",
        "> predicted=1.0, actual=1.0\n",
        "> predicted=1.0, actual=1.0\n",
        "> predicted=1.0, actual=1.0"
       ]
      },
      {
       "output_type": "stream",
       "stream": "stdout",
       "text": [
        "\n",
        "> predicted=1.0, actual=0.0\n",
        "> predicted=1.0, actual=0.0\n",
        "> predicted=1.0, actual=0.0"
       ]
      },
      {
       "output_type": "stream",
       "stream": "stdout",
       "text": [
        "\n",
        "> predicted=1.0, actual=0.0\n",
        "> predicted=1.0, actual=0.0\n",
        "> predicted=1.0, actual=0.0"
       ]
      },
      {
       "output_type": "stream",
       "stream": "stdout",
       "text": [
        "\n",
        "> predicted=1.0, actual=0.0\n",
        "> predicted=1.0, actual=0.0\n",
        "> predicted=1.0, actual=0.0"
       ]
      },
      {
       "output_type": "stream",
       "stream": "stdout",
       "text": [
        "\n",
        "> predicted=1.0, actual=0.0\n",
        "> predicted=1.0, actual=0.0\n",
        "> predicted=1.0, actual=0.0"
       ]
      },
      {
       "output_type": "stream",
       "stream": "stdout",
       "text": [
        "\n",
        "> predicted=1.0, actual=0.0\n",
        "> predicted=1.0, actual=1.0\n",
        "> predicted=1.0, actual=1.0"
       ]
      },
      {
       "output_type": "stream",
       "stream": "stdout",
       "text": [
        "\n",
        "> predicted=1.0, actual=1.0\n",
        "> predicted=1.0, actual=1.0\n",
        "> predicted=1.0, actual=1.0"
       ]
      },
      {
       "output_type": "stream",
       "stream": "stdout",
       "text": [
        "\n",
        "> predicted=1.0, actual=1.0\n",
        "> predicted=1.0, actual=1.0\n",
        "> predicted=1.0, actual=1.0"
       ]
      },
      {
       "output_type": "stream",
       "stream": "stdout",
       "text": [
        "\n",
        "> predicted=1.0, actual=1.0\n",
        "> predicted=1.0, actual=1.0\n",
        "> predicted=1.0, actual=1.0"
       ]
      },
      {
       "output_type": "stream",
       "stream": "stdout",
       "text": [
        "\n",
        "> predicted=1.0, actual=1.0\n",
        "> predicted=1.0, actual=1.0\n",
        "> predicted=1.0, actual=1.0"
       ]
      },
      {
       "output_type": "stream",
       "stream": "stdout",
       "text": [
        "\n",
        "> predicted=1.0, actual=1.0\n",
        "> predicted=1.0, actual=1.0\n",
        "> predicted=1.0, actual=1.0"
       ]
      },
      {
       "output_type": "stream",
       "stream": "stdout",
       "text": [
        "\n",
        "> predicted=1.0, actual=0.0\n",
        "> predicted=1.0, actual=0.0\n",
        "> predicted=1.0, actual=0.0"
       ]
      },
      {
       "output_type": "stream",
       "stream": "stdout",
       "text": [
        "\n",
        "> predicted=1.0, actual=0.0\n",
        "> predicted=1.0, actual=0.0"
       ]
      },
      {
       "output_type": "stream",
       "stream": "stdout",
       "text": [
        "\n",
        "> predicted=1.0, actual=0.0\n",
        "> predicted=1.0, actual=0.0\n",
        "> predicted=1.0, actual=0.15888888888888889"
       ]
      },
      {
       "output_type": "stream",
       "stream": "stdout",
       "text": [
        "\n",
        "> predicted=1.0, actual=1.0\n",
        "> predicted=1.0, actual=1.0\n",
        "> predicted=1.0, actual=1.0"
       ]
      },
      {
       "output_type": "stream",
       "stream": "stdout",
       "text": [
        "\n",
        "> predicted=1.0, actual=1.0\n",
        "> predicted=1.0, actual=1.0\n",
        "> predicted=1.0, actual=1.0"
       ]
      },
      {
       "output_type": "stream",
       "stream": "stdout",
       "text": [
        "\n",
        "> predicted=1.0, actual=1.0\n",
        "> predicted=1.0, actual=1.0"
       ]
      },
      {
       "output_type": "stream",
       "stream": "stdout",
       "text": [
        "\n",
        "> predicted=1.0, actual=1.0\n",
        "> predicted=1.0, actual=1.0"
       ]
      },
      {
       "output_type": "stream",
       "stream": "stdout",
       "text": [
        "\n",
        "> predicted=1.0, actual=1.0\n",
        "> predicted=1.0, actual=1.0"
       ]
      },
      {
       "output_type": "stream",
       "stream": "stdout",
       "text": [
        "\n",
        "> predicted=1.0, actual=1.0\n",
        "> predicted=1.0, actual=1.0"
       ]
      },
      {
       "output_type": "stream",
       "stream": "stdout",
       "text": [
        "\n",
        "> predicted=1.0, actual=1.0\n",
        "> predicted=1.0, actual=1.0\n",
        "> predicted=1.0, actual=1.0"
       ]
      },
      {
       "output_type": "stream",
       "stream": "stdout",
       "text": [
        "\n",
        "> predicted=1.0, actual=1.0\n",
        "> predicted=1.0, actual=1.0\n",
        "> predicted=1.0, actual=1.0"
       ]
      },
      {
       "output_type": "stream",
       "stream": "stdout",
       "text": [
        "\n",
        "> predicted=1.0, actual=1.0\n",
        "> predicted=1.0, actual=1.0\n",
        "> predicted=1.0, actual=1.0"
       ]
      },
      {
       "output_type": "stream",
       "stream": "stdout",
       "text": [
        "\n",
        "> predicted=1.0, actual=1.0\n",
        "> predicted=1.0, actual=0.0\n",
        "> predicted=1.0, actual=0.89666666666666661"
       ]
      },
      {
       "output_type": "stream",
       "stream": "stdout",
       "text": [
        "\n",
        "> predicted=1.0, actual=1.0\n",
        "> predicted=1.0, actual=1.0\n",
        "> predicted=1.0, actual=1.0"
       ]
      },
      {
       "output_type": "stream",
       "stream": "stdout",
       "text": [
        "\n",
        "> predicted=1.0, actual=1.0\n",
        "> predicted=1.0, actual=1.0\n",
        "> predicted=1.0, actual=1.0"
       ]
      },
      {
       "output_type": "stream",
       "stream": "stdout",
       "text": [
        "\n",
        "> predicted=1.0, actual=1.0\n",
        "> predicted=1.0, actual=1.0\n",
        "> predicted=1.0, actual=1.0"
       ]
      },
      {
       "output_type": "stream",
       "stream": "stdout",
       "text": [
        "\n",
        "> predicted=1.0, actual=1.0\n",
        "> predicted=1.0, actual=1.0"
       ]
      },
      {
       "output_type": "stream",
       "stream": "stdout",
       "text": [
        "\n",
        "> predicted=1.0, actual=1.0\n",
        "> predicted=1.0, actual=1.0\n",
        "> predicted=1.0, actual=1.0"
       ]
      },
      {
       "output_type": "stream",
       "stream": "stdout",
       "text": [
        "\n",
        "> predicted=1.0, actual=1.0\n",
        "> predicted=1.0, actual=1.0\n",
        "> predicted=1.0, actual=1.0"
       ]
      },
      {
       "output_type": "stream",
       "stream": "stdout",
       "text": [
        "\n",
        "> predicted=1.0, actual=1.0\n",
        "> predicted=1.0, actual=1.0\n",
        "> predicted=1.0, actual=1.0"
       ]
      },
      {
       "output_type": "stream",
       "stream": "stdout",
       "text": [
        "\n",
        "> predicted=1.0, actual=1.0\n",
        "> predicted=1.0, actual=1.0\n",
        "> predicted=1.0, actual=1.0"
       ]
      },
      {
       "output_type": "stream",
       "stream": "stdout",
       "text": [
        "\n",
        "> predicted=1.0, actual=1.0\n",
        "> predicted=1.0, actual=1.0\n",
        "> predicted=1.0, actual=1.0"
       ]
      },
      {
       "output_type": "stream",
       "stream": "stdout",
       "text": [
        "\n",
        "> predicted=1.0, actual=1.0\n",
        "> predicted=1.0, actual=1.0\n",
        "> predicted=1.0, actual=1.0"
       ]
      },
      {
       "output_type": "stream",
       "stream": "stdout",
       "text": [
        "\n",
        "> predicted=1.0, actual=1.0\n",
        "> predicted=1.0, actual=1.0\n",
        "> predicted=1.0, actual=1.0"
       ]
      },
      {
       "output_type": "stream",
       "stream": "stdout",
       "text": [
        "\n",
        "> predicted=1.0, actual=1.0\n",
        "> predicted=1.0, actual=0.0\n",
        "> predicted=1.0, actual=0.0"
       ]
      },
      {
       "output_type": "stream",
       "stream": "stdout",
       "text": [
        "\n",
        "> predicted=1.0, actual=1.0\n",
        "> predicted=1.0, actual=1.0\n",
        "> predicted=1.0, actual=1.0"
       ]
      },
      {
       "output_type": "stream",
       "stream": "stdout",
       "text": [
        "\n",
        "> predicted=1.0, actual=1.0\n",
        "> predicted=1.0, actual=1.0\n",
        "> predicted=1.0, actual=1.0"
       ]
      },
      {
       "output_type": "stream",
       "stream": "stdout",
       "text": [
        "\n",
        "> predicted=1.0, actual=1.0\n",
        "> predicted=1.0, actual=1.0\n",
        "> predicted=1.0, actual=1.0"
       ]
      },
      {
       "output_type": "stream",
       "stream": "stdout",
       "text": [
        "\n",
        "> predicted=1.0, actual=1.0\n",
        "> predicted=1.0, actual=1.0\n",
        "> predicted=1.0, actual=1.0"
       ]
      },
      {
       "output_type": "stream",
       "stream": "stdout",
       "text": [
        "\n",
        "> predicted=1.0, actual=1.0\n",
        "> predicted=1.0, actual=1.0\n",
        "> predicted=1.0, actual=1.0"
       ]
      },
      {
       "output_type": "stream",
       "stream": "stdout",
       "text": [
        "\n",
        "> predicted=1.0, actual=1.0\n",
        "> predicted=1.0, actual=1.0\n",
        "> predicted=1.0, actual=1.0"
       ]
      },
      {
       "output_type": "stream",
       "stream": "stdout",
       "text": [
        "\n",
        "> predicted=1.0, actual=1.0\n",
        "> predicted=1.0, actual=1.0\n",
        "> predicted=1.0, actual=1.0"
       ]
      },
      {
       "output_type": "stream",
       "stream": "stdout",
       "text": [
        "\n",
        "> predicted=1.0, actual=1.0\n",
        "> predicted=1.0, actual=0.0\n",
        "> predicted=1.0, actual=1.0"
       ]
      },
      {
       "output_type": "stream",
       "stream": "stdout",
       "text": [
        "\n",
        "> predicted=1.0, actual=1.0\n",
        "> predicted=1.0, actual=1.0\n",
        "> predicted=1.0, actual=1.0"
       ]
      },
      {
       "output_type": "stream",
       "stream": "stdout",
       "text": [
        "\n",
        "> predicted=1.0, actual=0.065555555555555561\n",
        "> predicted=1.0, actual=0.0\n",
        "> predicted=1.0, actual=0.0"
       ]
      },
      {
       "output_type": "stream",
       "stream": "stdout",
       "text": [
        "\n",
        "> predicted=1.0, actual=0.0\n",
        "> predicted=1.0, actual=0.0\n",
        "> predicted=1.0, actual=0.0"
       ]
      },
      {
       "output_type": "stream",
       "stream": "stdout",
       "text": [
        "\n",
        "> predicted=1.0, actual=1.0\n",
        "> predicted=1.0, actual=1.0\n",
        "> predicted=1.0, actual=1.0"
       ]
      },
      {
       "output_type": "stream",
       "stream": "stdout",
       "text": [
        "\n",
        "> predicted=1.0, actual=1.0\n",
        "> predicted=1.0, actual=1.0\n",
        "> predicted=1.0, actual=1.0"
       ]
      },
      {
       "output_type": "stream",
       "stream": "stdout",
       "text": [
        "\n",
        "> predicted=1.0, actual=1.0\n",
        "> predicted=1.0, actual=1.0\n",
        "> predicted=1.0, actual=1.0"
       ]
      },
      {
       "output_type": "stream",
       "stream": "stdout",
       "text": [
        "\n",
        "> predicted=1.0, actual=1.0\n",
        "> predicted=1.0, actual=1.0\n",
        "> predicted=1.0, actual=1.0"
       ]
      },
      {
       "output_type": "stream",
       "stream": "stdout",
       "text": [
        "\n",
        "> predicted=1.0, actual=1.0\n",
        "> predicted=1.0, actual=0.0\n",
        "> predicted=1.0, actual=0.0"
       ]
      },
      {
       "output_type": "stream",
       "stream": "stdout",
       "text": [
        "\n",
        "> predicted=1.0, actual=0.0\n",
        "> predicted=1.0, actual=0.0"
       ]
      },
      {
       "output_type": "stream",
       "stream": "stdout",
       "text": [
        "\n",
        "> predicted=1.0, actual=0.0\n",
        "> predicted=1.0, actual=0.0"
       ]
      },
      {
       "output_type": "stream",
       "stream": "stdout",
       "text": [
        "\n",
        "> predicted=1.0, actual=0.0\n",
        "> predicted=1.0, actual=0.0"
       ]
      },
      {
       "output_type": "stream",
       "stream": "stdout",
       "text": [
        "\n",
        "> predicted=1.0, actual=0.0\n",
        "> predicted=1.0, actual=0.0"
       ]
      },
      {
       "output_type": "stream",
       "stream": "stdout",
       "text": [
        "\n",
        "> predicted=1.0, actual=0.0\n",
        "> predicted=1.0, actual=0.0"
       ]
      },
      {
       "output_type": "stream",
       "stream": "stdout",
       "text": [
        "\n",
        "> predicted=1.0, actual=0.0\n",
        "> predicted=1.0, actual=1.0\n",
        "> predicted=1.0, actual=1.0"
       ]
      },
      {
       "output_type": "stream",
       "stream": "stdout",
       "text": [
        "\n",
        "> predicted=1.0, actual=1.0\n",
        "> predicted=1.0, actual=1.0\n",
        "> predicted=1.0, actual=1.0"
       ]
      },
      {
       "output_type": "stream",
       "stream": "stdout",
       "text": [
        "\n",
        "> predicted=1.0, actual=1.0\n",
        "> predicted=1.0, actual=1.0\n",
        "> predicted=1.0, actual=1.0"
       ]
      },
      {
       "output_type": "stream",
       "stream": "stdout",
       "text": [
        "\n",
        "> predicted=1.0, actual=1.0\n",
        "> predicted=1.0, actual=1.0\n",
        "> predicted=1.0, actual=1.0"
       ]
      },
      {
       "output_type": "stream",
       "stream": "stdout",
       "text": [
        "\n",
        "> predicted=1.0, actual=1.0\n",
        "> predicted=1.0, actual=1.0\n",
        "> predicted=1.0, actual=1.0"
       ]
      },
      {
       "output_type": "stream",
       "stream": "stdout",
       "text": [
        "\n",
        "> predicted=1.0, actual=1.0\n",
        "> predicted=1.0, actual=1.0\n",
        "> predicted=1.0, actual=1.0"
       ]
      },
      {
       "output_type": "stream",
       "stream": "stdout",
       "text": [
        "\n",
        "> predicted=1.0, actual=1.0\n",
        "> predicted=1.0, actual=1.0\n",
        "> predicted=1.0, actual=1.0"
       ]
      },
      {
       "output_type": "stream",
       "stream": "stdout",
       "text": [
        "\n",
        "> predicted=1.0, actual=1.0\n",
        "> predicted=1.0, actual=1.0\n",
        "> predicted=1.0, actual=1.0"
       ]
      },
      {
       "output_type": "stream",
       "stream": "stdout",
       "text": [
        "\n",
        "> predicted=1.0, actual=1.0\n",
        "> predicted=1.0, actual=1.0\n",
        "> predicted=1.0, actual=1.0"
       ]
      },
      {
       "output_type": "stream",
       "stream": "stdout",
       "text": [
        "\n",
        "> predicted=1.0, actual=0.60555555555555551\n",
        "> predicted=1.0, actual=1.0\n",
        "> predicted=1.0, actual=1.0"
       ]
      },
      {
       "output_type": "stream",
       "stream": "stdout",
       "text": [
        "\n",
        "> predicted=1.0, actual=1.0\n",
        "> predicted=1.0, actual=1.0\n",
        "> predicted=1.0, actual=1.0"
       ]
      },
      {
       "output_type": "stream",
       "stream": "stdout",
       "text": [
        "\n",
        "> predicted=1.0, actual=1.0\n",
        "> predicted=1.0, actual=1.0\n",
        "> predicted=1.0, actual=1.0"
       ]
      },
      {
       "output_type": "stream",
       "stream": "stdout",
       "text": [
        "\n",
        "> predicted=1.0, actual=1.0\n",
        "> predicted=1.0, actual=1.0\n",
        "> predicted=1.0, actual=1.0"
       ]
      },
      {
       "output_type": "stream",
       "stream": "stdout",
       "text": [
        "\n",
        "> predicted=1.0, actual=1.0\n",
        "> predicted=1.0, actual=1.0\n",
        "> predicted=1.0, actual=0.8322222222222222"
       ]
      },
      {
       "output_type": "stream",
       "stream": "stdout",
       "text": [
        "\n",
        "> predicted=1.0, actual=0.0\n",
        "> predicted=1.0, actual=0.0\n",
        "> predicted=1.0, actual=0.0"
       ]
      },
      {
       "output_type": "stream",
       "stream": "stdout",
       "text": [
        "\n",
        "> predicted=1.0, actual=0.0\n",
        "> predicted=1.0, actual=0.0\n",
        "> predicted=1.0, actual=0.0"
       ]
      },
      {
       "output_type": "stream",
       "stream": "stdout",
       "text": [
        "\n",
        "> predicted=1.0, actual=0.0\n",
        "> predicted=1.0, actual=0.0\n",
        "> predicted=1.0, actual=0.0"
       ]
      },
      {
       "output_type": "stream",
       "stream": "stdout",
       "text": [
        "\n",
        "> predicted=1.0, actual=1.0\n",
        "> predicted=1.0, actual=1.0\n",
        "> predicted=1.0, actual=1.0"
       ]
      },
      {
       "output_type": "stream",
       "stream": "stdout",
       "text": [
        "\n",
        "> predicted=1.0, actual=1.0\n",
        "> predicted=1.0, actual=1.0\n",
        "> predicted=1.0, actual=1.0"
       ]
      },
      {
       "output_type": "stream",
       "stream": "stdout",
       "text": [
        "\n",
        "> predicted=1.0, actual=1.0\n",
        "> predicted=1.0, actual=1.0\n",
        "> predicted=1.0, actual=1.0"
       ]
      },
      {
       "output_type": "stream",
       "stream": "stdout",
       "text": [
        "\n",
        "> predicted=1.0, actual=1.0\n",
        "> predicted=1.0, actual=1.0\n",
        "> predicted=1.0, actual=1.0"
       ]
      },
      {
       "output_type": "stream",
       "stream": "stdout",
       "text": [
        "\n",
        "> predicted=1.0, actual=1.0\n",
        "> predicted=1.0, actual=1.0\n",
        "> predicted=1.0, actual=1.0"
       ]
      },
      {
       "output_type": "stream",
       "stream": "stdout",
       "text": [
        "\n",
        "> predicted=1.0, actual=1.0\n",
        "> predicted=1.0, actual=0.0\n",
        "> predicted=1.0, actual=0.0"
       ]
      },
      {
       "output_type": "stream",
       "stream": "stdout",
       "text": [
        "\n",
        "> predicted=1.0, actual=0.0\n",
        "> predicted=1.0, actual=1.0\n",
        "> predicted=1.0, actual=1.0"
       ]
      },
      {
       "output_type": "stream",
       "stream": "stdout",
       "text": [
        "\n",
        "> predicted=1.0, actual=1.0\n",
        "> predicted=1.0, actual=1.0\n",
        "> predicted=1.0, actual=1.0"
       ]
      },
      {
       "output_type": "stream",
       "stream": "stdout",
       "text": [
        "\n",
        "> predicted=1.0, actual=1.0\n",
        "> predicted=1.0, actual=1.0\n",
        "> predicted=1.0, actual=1.0"
       ]
      },
      {
       "output_type": "stream",
       "stream": "stdout",
       "text": [
        "\n",
        "> predicted=1.0, actual=1.0\n",
        "> predicted=1.0, actual=1.0\n",
        "> predicted=1.0, actual=1.0"
       ]
      },
      {
       "output_type": "stream",
       "stream": "stdout",
       "text": [
        "\n",
        "> predicted=1.0, actual=1.0\n",
        "> predicted=1.0, actual=1.0\n",
        "> predicted=1.0, actual=1.0"
       ]
      },
      {
       "output_type": "stream",
       "stream": "stdout",
       "text": [
        "\n",
        "> predicted=1.0, actual=1.0\n",
        "> predicted=1.0, actual=1.0\n",
        "> predicted=1.0, actual=1.0"
       ]
      },
      {
       "output_type": "stream",
       "stream": "stdout",
       "text": [
        "\n",
        "> predicted=1.0, actual=1.0\n",
        "> predicted=1.0, actual=1.0\n",
        "> predicted=1.0, actual=1.0"
       ]
      },
      {
       "output_type": "stream",
       "stream": "stdout",
       "text": [
        "\n",
        "> predicted=1.0, actual=1.0\n",
        "> predicted=1.0, actual=1.0\n",
        "> predicted=1.0, actual=0.0"
       ]
      },
      {
       "output_type": "stream",
       "stream": "stdout",
       "text": [
        "\n",
        "> predicted=1.0, actual=1.0\n",
        "> predicted=1.0, actual=1.0\n",
        "> predicted=1.0, actual=1.0"
       ]
      },
      {
       "output_type": "stream",
       "stream": "stdout",
       "text": [
        "\n",
        "> predicted=1.0, actual=1.0\n",
        "> predicted=1.0, actual=1.0\n",
        "> predicted=1.0, actual=1.0"
       ]
      },
      {
       "output_type": "stream",
       "stream": "stdout",
       "text": [
        "\n",
        "> predicted=1.0, actual=1.0\n",
        "> predicted=1.0, actual=1.0\n",
        "> predicted=1.0, actual=0.0"
       ]
      },
      {
       "output_type": "stream",
       "stream": "stdout",
       "text": [
        "\n",
        "> predicted=1.0, actual=0.0\n",
        "> predicted=1.0, actual=0.0\n",
        "> predicted=1.0, actual=0.0"
       ]
      },
      {
       "output_type": "stream",
       "stream": "stdout",
       "text": [
        "\n",
        "> predicted=1.0, actual=1.0\n",
        "> predicted=1.0, actual=1.0\n",
        "> predicted=1.0, actual=1.0"
       ]
      },
      {
       "output_type": "stream",
       "stream": "stdout",
       "text": [
        "\n",
        "> predicted=1.0, actual=1.0\n",
        "> predicted=1.0, actual=1.0\n",
        "> predicted=1.0, actual=1.0"
       ]
      },
      {
       "output_type": "stream",
       "stream": "stdout",
       "text": [
        "\n",
        "> predicted=1.0, actual=1.0\n",
        "> predicted=1.0, actual=1.0"
       ]
      },
      {
       "output_type": "stream",
       "stream": "stdout",
       "text": [
        "\n",
        "> predicted=1.0, actual=1.0\n",
        "> predicted=1.0, actual=1.0\n",
        "> predicted=1.0, actual=1.0"
       ]
      },
      {
       "output_type": "stream",
       "stream": "stdout",
       "text": [
        "\n",
        "> predicted=1.0, actual=1.0\n",
        "> predicted=1.0, actual=1.0\n",
        "> predicted=1.0, actual=1.0"
       ]
      },
      {
       "output_type": "stream",
       "stream": "stdout",
       "text": [
        "\n",
        "> predicted=1.0, actual=1.0\n",
        "> predicted=1.0, actual=1.0\n",
        "> predicted=1.0, actual=1.0"
       ]
      },
      {
       "output_type": "stream",
       "stream": "stdout",
       "text": [
        "\n",
        "> predicted=1.0, actual=1.0\n",
        "> predicted=1.0, actual=1.0\n",
        "> predicted=1.0, actual=1.0"
       ]
      },
      {
       "output_type": "stream",
       "stream": "stdout",
       "text": [
        "\n",
        "> predicted=1.0, actual=1.0\n",
        "> predicted=1.0, actual=1.0\n",
        "> predicted=1.0, actual=1.0"
       ]
      },
      {
       "output_type": "stream",
       "stream": "stdout",
       "text": [
        "\n",
        "> predicted=1.0, actual=1.0\n",
        "> predicted=1.0, actual=1.0\n",
        "> predicted=1.0, actual=1.0"
       ]
      },
      {
       "output_type": "stream",
       "stream": "stdout",
       "text": [
        "\n",
        "> predicted=1.0, actual=1.0\n",
        "> predicted=1.0, actual=1.0\n",
        "> predicted=1.0, actual=1.0"
       ]
      },
      {
       "output_type": "stream",
       "stream": "stdout",
       "text": [
        "\n",
        "> predicted=1.0, actual=1.0\n",
        "> predicted=1.0, actual=1.0\n",
        "> predicted=1.0, actual=1.0"
       ]
      },
      {
       "output_type": "stream",
       "stream": "stdout",
       "text": [
        "\n",
        "> predicted=1.0, actual=1.0\n",
        "> predicted=1.0, actual=1.0\n",
        "> predicted=1.0, actual=1.0"
       ]
      },
      {
       "output_type": "stream",
       "stream": "stdout",
       "text": [
        "\n",
        "> predicted=1.0, actual=1.0\n",
        "> predicted=1.0, actual=1.0\n",
        "> predicted=1.0, actual=1.0"
       ]
      },
      {
       "output_type": "stream",
       "stream": "stdout",
       "text": [
        "\n",
        "> predicted=1.0, actual=1.0\n",
        "> predicted=1.0, actual=1.0\n",
        "> predicted=1.0, actual=1.0"
       ]
      },
      {
       "output_type": "stream",
       "stream": "stdout",
       "text": [
        "\n",
        "> predicted=1.0, actual=1.0\n",
        "> predicted=1.0, actual=1.0\n",
        "> predicted=1.0, actual=1.0"
       ]
      },
      {
       "output_type": "stream",
       "stream": "stdout",
       "text": [
        "\n",
        "> predicted=1.0, actual=1.0\n",
        "> predicted=1.0, actual=0.0"
       ]
      },
      {
       "output_type": "stream",
       "stream": "stdout",
       "text": [
        "\n",
        "> predicted=1.0, actual=0.0\n",
        "> predicted=1.0, actual=0.0\n",
        "> predicted=1.0, actual=0.0"
       ]
      },
      {
       "output_type": "stream",
       "stream": "stdout",
       "text": [
        "\n",
        "> predicted=1.0, actual=0.25222222222222224\n",
        "> predicted=1.0, actual=1.0\n",
        "> predicted=1.0, actual=1.0"
       ]
      },
      {
       "output_type": "stream",
       "stream": "stdout",
       "text": [
        "\n",
        "> predicted=1.0, actual=1.0\n",
        "> predicted=1.0, actual=1.0\n",
        "> predicted=1.0, actual=1.0"
       ]
      },
      {
       "output_type": "stream",
       "stream": "stdout",
       "text": [
        "\n",
        "> predicted=1.0, actual=1.0\n",
        "> predicted=1.0, actual=0.0\n",
        "> predicted=1.0, actual=0.0"
       ]
      },
      {
       "output_type": "stream",
       "stream": "stdout",
       "text": [
        "\n",
        "> predicted=1.0, actual=0.0\n",
        "> predicted=1.0, actual=1.0\n",
        "> predicted=1.0, actual=1.0"
       ]
      },
      {
       "output_type": "stream",
       "stream": "stdout",
       "text": [
        "\n",
        "> predicted=1.0, actual=1.0\n",
        "> predicted=1.0, actual=1.0\n",
        "> predicted=1.0, actual=1.0"
       ]
      },
      {
       "output_type": "stream",
       "stream": "stdout",
       "text": [
        "\n",
        "> predicted=1.0, actual=1.0\n",
        "> predicted=1.0, actual=1.0\n",
        "> predicted=1.0, actual=1.0"
       ]
      },
      {
       "output_type": "stream",
       "stream": "stdout",
       "text": [
        "\n",
        "> predicted=1.0, actual=1.0\n",
        "> predicted=1.0, actual=1.0\n",
        "> predicted=1.0, actual=1.0"
       ]
      },
      {
       "output_type": "stream",
       "stream": "stdout",
       "text": [
        "\n",
        "> predicted=1.0, actual=1.0\n",
        "> predicted=1.0, actual=0.0\n",
        "> predicted=1.0, actual=0.0"
       ]
      },
      {
       "output_type": "stream",
       "stream": "stdout",
       "text": [
        "\n",
        "> predicted=1.0, actual=0.0\n",
        "> predicted=1.0, actual=0.0\n",
        "> predicted=1.0, actual=0.0"
       ]
      },
      {
       "output_type": "stream",
       "stream": "stdout",
       "text": [
        "\n",
        "> predicted=1.0, actual=0.0\n",
        "> predicted=1.0, actual=0.0\n",
        "> predicted=1.0, actual=0.0"
       ]
      },
      {
       "output_type": "stream",
       "stream": "stdout",
       "text": [
        "\n",
        "> predicted=1.0, actual=0.0\n",
        "> predicted=1.0, actual=0.0\n",
        "> predicted=1.0, actual=0.81777777777777783"
       ]
      },
      {
       "output_type": "stream",
       "stream": "stdout",
       "text": [
        "\n",
        "> predicted=1.0, actual=1.0\n",
        "> predicted=1.0, actual=1.0\n",
        "> predicted=1.0, actual=1.0"
       ]
      },
      {
       "output_type": "stream",
       "stream": "stdout",
       "text": [
        "\n",
        "> predicted=1.0, actual=1.0\n",
        "> predicted=1.0, actual=1.0\n",
        "> predicted=1.0, actual=1.0"
       ]
      },
      {
       "output_type": "stream",
       "stream": "stdout",
       "text": [
        "\n",
        "> predicted=1.0, actual=1.0\n",
        "> predicted=1.0, actual=1.0\n",
        "> predicted=1.0, actual=1.0"
       ]
      },
      {
       "output_type": "stream",
       "stream": "stdout",
       "text": [
        "\n",
        "> predicted=1.0, actual=1.0\n",
        "> predicted=1.0, actual=1.0\n",
        "> predicted=1.0, actual=1.0"
       ]
      },
      {
       "output_type": "stream",
       "stream": "stdout",
       "text": [
        "\n",
        "> predicted=1.0, actual=1.0\n",
        "> predicted=1.0, actual=1.0\n",
        "> predicted=1.0, actual=1.0"
       ]
      },
      {
       "output_type": "stream",
       "stream": "stdout",
       "text": [
        "\n",
        "> predicted=1.0, actual=1.0\n",
        "> predicted=1.0, actual=1.0\n",
        "> predicted=1.0, actual=1.0"
       ]
      },
      {
       "output_type": "stream",
       "stream": "stdout",
       "text": [
        "\n",
        "> predicted=1.0, actual=1.0\n",
        "> predicted=1.0, actual=1.0\n",
        "> predicted=1.0, actual=1.0"
       ]
      },
      {
       "output_type": "stream",
       "stream": "stdout",
       "text": [
        "\n",
        "> predicted=1.0, actual=1.0\n",
        "> predicted=1.0, actual=1.0\n",
        "> predicted=1.0, actual=1.0"
       ]
      },
      {
       "output_type": "stream",
       "stream": "stdout",
       "text": [
        "\n",
        "> predicted=1.0, actual=1.0\n",
        "> predicted=1.0, actual=1.0\n",
        "> predicted=1.0, actual=1.0"
       ]
      },
      {
       "output_type": "stream",
       "stream": "stdout",
       "text": [
        "\n",
        "> predicted=1.0, actual=1.0\n",
        "> predicted=1.0, actual=1.0\n",
        "> predicted=1.0, actual=1.0"
       ]
      },
      {
       "output_type": "stream",
       "stream": "stdout",
       "text": [
        "\n",
        "> predicted=1.0, actual=1.0\n",
        "> predicted=1.0, actual=1.0\n",
        "> predicted=1.0, actual=0.23222222222222222"
       ]
      },
      {
       "output_type": "stream",
       "stream": "stdout",
       "text": [
        "\n",
        "> predicted=1.0, actual=0.0\n",
        "> predicted=1.0, actual=0.0\n",
        "> predicted=1.0, actual=1.0"
       ]
      },
      {
       "output_type": "stream",
       "stream": "stdout",
       "text": [
        "\n",
        "> predicted=1.0, actual=1.0\n",
        "> predicted=1.0, actual=1.0\n",
        "> predicted=1.0, actual=1.0"
       ]
      },
      {
       "output_type": "stream",
       "stream": "stdout",
       "text": [
        "\n",
        "> predicted=1.0, actual=1.0\n",
        "> predicted=1.0, actual=1.0\n",
        "> predicted=1.0, actual=1.0"
       ]
      },
      {
       "output_type": "stream",
       "stream": "stdout",
       "text": [
        "\n",
        "> predicted=1.0, actual=1.0\n",
        "> predicted=1.0, actual=1.0\n",
        "> predicted=1.0, actual=1.0"
       ]
      },
      {
       "output_type": "stream",
       "stream": "stdout",
       "text": [
        "\n",
        "> predicted=1.0, actual=1.0\n",
        "> predicted=1.0, actual=1.0\n",
        "> predicted=1.0, actual=1.0"
       ]
      },
      {
       "output_type": "stream",
       "stream": "stdout",
       "text": [
        "\n",
        "> predicted=1.0, actual=1.0\n",
        "> predicted=1.0, actual=1.0\n",
        "> predicted=1.0, actual=1.0"
       ]
      },
      {
       "output_type": "stream",
       "stream": "stdout",
       "text": [
        "\n",
        "> predicted=1.0, actual=1.0\n",
        "> predicted=1.0, actual=1.0\n",
        "> predicted=1.0, actual=1.0"
       ]
      },
      {
       "output_type": "stream",
       "stream": "stdout",
       "text": [
        "\n",
        "> predicted=1.0, actual=1.0\n",
        "> predicted=1.0, actual=1.0\n",
        "> predicted=1.0, actual=1.0"
       ]
      },
      {
       "output_type": "stream",
       "stream": "stdout",
       "text": [
        "\n",
        "> predicted=1.0, actual=1.0\n",
        "> predicted=1.0, actual=1.0\n",
        "> predicted=1.0, actual=1.0"
       ]
      },
      {
       "output_type": "stream",
       "stream": "stdout",
       "text": [
        "\n",
        "> predicted=1.0, actual=1.0\n",
        "> predicted=1.0, actual=1.0\n",
        "> predicted=1.0, actual=1.0"
       ]
      },
      {
       "output_type": "stream",
       "stream": "stdout",
       "text": [
        "\n",
        "> predicted=1.0, actual=1.0\n",
        "> predicted=1.0, actual=1.0\n",
        "> predicted=1.0, actual=1.0"
       ]
      },
      {
       "output_type": "stream",
       "stream": "stdout",
       "text": [
        "\n",
        "> predicted=1.0, actual=1.0\n",
        "> predicted=1.0, actual=1.0\n",
        "> predicted=1.0, actual=1.0"
       ]
      },
      {
       "output_type": "stream",
       "stream": "stdout",
       "text": [
        "\n",
        "> predicted=1.0, actual=1.0\n",
        "> predicted=1.0, actual=1.0\n",
        "> predicted=1.0, actual=0.0"
       ]
      },
      {
       "output_type": "stream",
       "stream": "stdout",
       "text": [
        "\n",
        "> predicted=1.0, actual=0.0\n",
        "> predicted=1.0, actual=0.0\n",
        "> predicted=1.0, actual=0.0"
       ]
      },
      {
       "output_type": "stream",
       "stream": "stdout",
       "text": [
        "\n",
        "> predicted=1.0, actual=0.0\n",
        "> predicted=1.0, actual=0.0\n",
        "> predicted=1.0, actual=0.0"
       ]
      },
      {
       "output_type": "stream",
       "stream": "stdout",
       "text": [
        "\n",
        "> predicted=1.0, actual=0.0\n",
        "> predicted=1.0, actual=0.0\n",
        "> predicted=1.0, actual=1.0"
       ]
      },
      {
       "output_type": "stream",
       "stream": "stdout",
       "text": [
        "\n",
        "> predicted=1.0, actual=1.0\n",
        "> predicted=1.0, actual=1.0\n",
        "> predicted=1.0, actual=1.0"
       ]
      },
      {
       "output_type": "stream",
       "stream": "stdout",
       "text": [
        "\n",
        "> predicted=1.0, actual=1.0\n",
        "> predicted=1.0, actual=1.0\n",
        "> predicted=1.0, actual=1.0"
       ]
      },
      {
       "output_type": "stream",
       "stream": "stdout",
       "text": [
        "\n",
        "> predicted=1.0, actual=1.0\n",
        "> predicted=1.0, actual=1.0\n",
        "> predicted=1.0, actual=1.0"
       ]
      },
      {
       "output_type": "stream",
       "stream": "stdout",
       "text": [
        "\n",
        "> predicted=1.0, actual=1.0\n",
        "> predicted=1.0, actual=1.0\n",
        "> predicted=1.0, actual=1.0"
       ]
      },
      {
       "output_type": "stream",
       "stream": "stdout",
       "text": [
        "\n",
        "> predicted=1.0, actual=1.0\n",
        "> predicted=1.0, actual=1.0"
       ]
      },
      {
       "output_type": "stream",
       "stream": "stdout",
       "text": [
        "\n",
        "> predicted=1.0, actual=1.0\n",
        "> predicted=1.0, actual=1.0"
       ]
      },
      {
       "output_type": "stream",
       "stream": "stdout",
       "text": [
        "\n",
        "> predicted=1.0, actual=1.0\n",
        "> predicted=1.0, actual=1.0"
       ]
      },
      {
       "output_type": "stream",
       "stream": "stdout",
       "text": [
        "\n",
        "> predicted=1.0, actual=1.0\n",
        "> predicted=1.0, actual=1.0"
       ]
      },
      {
       "output_type": "stream",
       "stream": "stdout",
       "text": [
        "\n",
        "> predicted=1.0, actual=1.0\n",
        "> predicted=1.0, actual=1.0\n",
        "> predicted=1.0, actual=1.0"
       ]
      },
      {
       "output_type": "stream",
       "stream": "stdout",
       "text": [
        "\n",
        "> predicted=1.0, actual=1.0\n",
        "> predicted=1.0, actual=1.0\n",
        "> predicted=1.0, actual=1.0"
       ]
      },
      {
       "output_type": "stream",
       "stream": "stdout",
       "text": [
        "\n",
        "> predicted=1.0, actual=1.0\n",
        "> predicted=1.0, actual=1.0\n",
        "> predicted=1.0, actual=1.0"
       ]
      },
      {
       "output_type": "stream",
       "stream": "stdout",
       "text": [
        "\n",
        "> predicted=1.0, actual=1.0\n",
        "> predicted=1.0, actual=1.0"
       ]
      },
      {
       "output_type": "stream",
       "stream": "stdout",
       "text": [
        "\n",
        "> predicted=1.0, actual=1.0\n",
        "> predicted=1.0, actual=1.0"
       ]
      },
      {
       "output_type": "stream",
       "stream": "stdout",
       "text": [
        "\n",
        "> predicted=1.0, actual=1.0\n",
        "> predicted=1.0, actual=1.0"
       ]
      },
      {
       "output_type": "stream",
       "stream": "stdout",
       "text": [
        "\n",
        "> predicted=1.0, actual=1.0\n",
        "> predicted=1.0, actual=1.0\n",
        "> predicted=1.0, actual=1.0"
       ]
      },
      {
       "output_type": "stream",
       "stream": "stdout",
       "text": [
        "\n",
        "> predicted=1.0, actual=1.0\n",
        "> predicted=1.0, actual=1.0\n",
        "> predicted=1.0, actual=1.0"
       ]
      },
      {
       "output_type": "stream",
       "stream": "stdout",
       "text": [
        "\n",
        "> predicted=1.0, actual=1.0\n",
        "> predicted=1.0, actual=1.0\n",
        "> predicted=1.0, actual=1.0"
       ]
      },
      {
       "output_type": "stream",
       "stream": "stdout",
       "text": [
        "\n",
        "> predicted=1.0, actual=1.0\n",
        "> predicted=1.0, actual=1.0\n",
        "> predicted=1.0, actual=1.0"
       ]
      },
      {
       "output_type": "stream",
       "stream": "stdout",
       "text": [
        "\n",
        "> predicted=1.0, actual=1.0\n",
        "> predicted=1.0, actual=1.0\n",
        "> predicted=1.0, actual=1.0"
       ]
      },
      {
       "output_type": "stream",
       "stream": "stdout",
       "text": [
        "\n",
        "> predicted=1.0, actual=1.0\n",
        "> predicted=1.0, actual=1.0\n",
        "> predicted=1.0, actual=1.0"
       ]
      },
      {
       "output_type": "stream",
       "stream": "stdout",
       "text": [
        "\n",
        "> predicted=1.0, actual=1.0\n",
        "> predicted=1.0, actual=1.0\n",
        "> predicted=1.0, actual=1.0"
       ]
      },
      {
       "output_type": "stream",
       "stream": "stdout",
       "text": [
        "\n",
        "> predicted=1.0, actual=1.0\n",
        "> predicted=1.0, actual=1.0\n",
        "> predicted=1.0, actual=1.0"
       ]
      },
      {
       "output_type": "stream",
       "stream": "stdout",
       "text": [
        "\n",
        "> predicted=1.0, actual=1.0\n",
        "> predicted=1.0, actual=1.0"
       ]
      },
      {
       "output_type": "stream",
       "stream": "stdout",
       "text": [
        "\n",
        "> predicted=1.0, actual=1.0\n",
        "> predicted=1.0, actual=1.0"
       ]
      },
      {
       "output_type": "stream",
       "stream": "stdout",
       "text": [
        "\n",
        "> predicted=1.0, actual=1.0\n",
        "> predicted=1.0, actual=1.0"
       ]
      },
      {
       "output_type": "stream",
       "stream": "stdout",
       "text": [
        "\n",
        "> predicted=1.0, actual=1.0\n",
        "> predicted=1.0, actual=1.0\n",
        "> predicted=1.0, actual=1.0"
       ]
      },
      {
       "output_type": "stream",
       "stream": "stdout",
       "text": [
        "\n",
        "> predicted=1.0, actual=1.0\n",
        "> predicted=1.0, actual=1.0\n",
        "> predicted=1.0, actual=1.0"
       ]
      },
      {
       "output_type": "stream",
       "stream": "stdout",
       "text": [
        "\n",
        "> predicted=1.0, actual=1.0\n",
        "> predicted=1.0, actual=1.0\n",
        "> predicted=1.0, actual=1.0"
       ]
      },
      {
       "output_type": "stream",
       "stream": "stdout",
       "text": [
        "\n",
        "> predicted=1.0, actual=1.0\n",
        "> predicted=1.0, actual=1.0\n",
        "> predicted=1.0, actual=1.0\n",
        "> predicted=1.0, actual=1.0"
       ]
      },
      {
       "output_type": "stream",
       "stream": "stdout",
       "text": [
        "\n",
        "> predicted=1.0, actual=1.0\n",
        "> predicted=1.0, actual=1.0\n",
        "> predicted=1.0, actual=1.0"
       ]
      },
      {
       "output_type": "stream",
       "stream": "stdout",
       "text": [
        "\n",
        "> predicted=1.0, actual=1.0\n",
        "> predicted=1.0, actual=1.0"
       ]
      },
      {
       "output_type": "stream",
       "stream": "stdout",
       "text": [
        "\n",
        "> predicted=1.0, actual=1.0\n",
        "> predicted=1.0, actual=1.0"
       ]
      },
      {
       "output_type": "stream",
       "stream": "stdout",
       "text": [
        "\n",
        "> predicted=1.0, actual=1.0\n",
        "> predicted=1.0, actual=1.0"
       ]
      },
      {
       "output_type": "stream",
       "stream": "stdout",
       "text": [
        "\n",
        "> predicted=1.0, actual=1.0\n",
        "> predicted=1.0, actual=1.0\n",
        "> predicted=1.0, actual=1.0"
       ]
      },
      {
       "output_type": "stream",
       "stream": "stdout",
       "text": [
        "\n",
        "> predicted=1.0, actual=1.0\n",
        "> predicted=1.0, actual=1.0\n",
        "> predicted=1.0, actual=1.0"
       ]
      },
      {
       "output_type": "stream",
       "stream": "stdout",
       "text": [
        "\n",
        "> predicted=1.0, actual=1.0\n",
        "> predicted=1.0, actual=1.0\n",
        "> predicted=1.0, actual=1.0"
       ]
      },
      {
       "output_type": "stream",
       "stream": "stdout",
       "text": [
        "\n",
        "> predicted=1.0, actual=1.0\n",
        "> predicted=1.0, actual=1.0\n",
        "> predicted=1.0, actual=1.0"
       ]
      },
      {
       "output_type": "stream",
       "stream": "stdout",
       "text": [
        "\n",
        "> predicted=1.0, actual=1.0\n",
        "> predicted=1.0, actual=1.0\n",
        "> predicted=1.0, actual=1.0"
       ]
      },
      {
       "output_type": "stream",
       "stream": "stdout",
       "text": [
        "\n",
        "> predicted=1.0, actual=1.0\n",
        "> predicted=1.0, actual=1.0\n",
        "> predicted=1.0, actual=1.0"
       ]
      },
      {
       "output_type": "stream",
       "stream": "stdout",
       "text": [
        "\n",
        "> predicted=1.0, actual=1.0\n",
        "> predicted=1.0, actual=1.0"
       ]
      },
      {
       "output_type": "stream",
       "stream": "stdout",
       "text": [
        "\n",
        "> predicted=1.0, actual=1.0\n",
        "> predicted=1.0, actual=1.0\n",
        "> predicted=1.0, actual=1.0"
       ]
      },
      {
       "output_type": "stream",
       "stream": "stdout",
       "text": [
        "\n",
        "> predicted=1.0, actual=1.0\n",
        "> predicted=1.0, actual=1.0\n",
        "> predicted=1.0, actual=1.0"
       ]
      },
      {
       "output_type": "stream",
       "stream": "stdout",
       "text": [
        "\n",
        "> predicted=1.0, actual=1.0\n",
        "> predicted=1.0, actual=1.0\n",
        "> predicted=1.0, actual=1.0"
       ]
      },
      {
       "output_type": "stream",
       "stream": "stdout",
       "text": [
        "\n",
        "> predicted=1.0, actual=1.0\n",
        "> predicted=1.0, actual=1.0\n",
        "> predicted=1.0, actual=1.0"
       ]
      },
      {
       "output_type": "stream",
       "stream": "stdout",
       "text": [
        "\n",
        "> predicted=1.0, actual=1.0\n",
        "> predicted=1.0, actual=1.0\n",
        "> predicted=1.0, actual=1.0"
       ]
      },
      {
       "output_type": "stream",
       "stream": "stdout",
       "text": [
        "\n",
        "> predicted=1.0, actual=1.0\n",
        "> predicted=1.0, actual=1.0\n",
        "> predicted=1.0, actual=1.0"
       ]
      },
      {
       "output_type": "stream",
       "stream": "stdout",
       "text": [
        "\n",
        "> predicted=1.0, actual=1.0\n",
        "> predicted=1.0, actual=1.0\n",
        "> predicted=1.0, actual=1.0"
       ]
      },
      {
       "output_type": "stream",
       "stream": "stdout",
       "text": [
        "\n",
        "> predicted=1.0, actual=1.0\n",
        "> predicted=1.0, actual=1.0\n",
        "> predicted=1.0, actual=1.0"
       ]
      },
      {
       "output_type": "stream",
       "stream": "stdout",
       "text": [
        "\n",
        "> predicted=1.0, actual=0.51333333333333331\n",
        "> predicted=1.0, actual=0.30777777777777776"
       ]
      },
      {
       "output_type": "stream",
       "stream": "stdout",
       "text": [
        "\n",
        "> predicted=1.0, actual=1.0\n",
        "> predicted=1.0, actual=1.0\n",
        "> predicted=1.0, actual=1.0"
       ]
      },
      {
       "output_type": "stream",
       "stream": "stdout",
       "text": [
        "\n",
        "> predicted=1.0, actual=1.0\n",
        "> predicted=1.0, actual=1.0\n",
        "> predicted=1.0, actual=1.0"
       ]
      },
      {
       "output_type": "stream",
       "stream": "stdout",
       "text": [
        "\n",
        "> predicted=1.0, actual=1.0\n",
        "> predicted=1.0, actual=1.0\n",
        "> predicted=1.0, actual=1.0"
       ]
      },
      {
       "output_type": "stream",
       "stream": "stdout",
       "text": [
        "\n",
        "> predicted=1.0, actual=1.0\n",
        "> predicted=1.0, actual=1.0\n",
        "> predicted=1.0, actual=1.0"
       ]
      },
      {
       "output_type": "stream",
       "stream": "stdout",
       "text": [
        "\n",
        "> predicted=1.0, actual=1.0\n",
        "> predicted=1.0, actual=1.0\n",
        "> predicted=1.0, actual=1.0"
       ]
      },
      {
       "output_type": "stream",
       "stream": "stdout",
       "text": [
        "\n",
        "> predicted=1.0, actual=1.0\n",
        "> predicted=1.0, actual=1.0\n",
        "> predicted=1.0, actual=1.0"
       ]
      },
      {
       "output_type": "stream",
       "stream": "stdout",
       "text": [
        "\n",
        "> predicted=1.0, actual=1.0\n",
        "> predicted=1.0, actual=1.0\n",
        "> predicted=1.0, actual=1.0"
       ]
      },
      {
       "output_type": "stream",
       "stream": "stdout",
       "text": [
        "\n",
        "> predicted=1.0, actual=0.30222222222222223\n",
        "> predicted=1.0, actual=0.69888888888888889\n",
        "> predicted=1.0, actual=1.0"
       ]
      },
      {
       "output_type": "stream",
       "stream": "stdout",
       "text": [
        "\n",
        "> predicted=1.0, actual=1.0\n",
        "> predicted=1.0, actual=1.0\n",
        "> predicted=1.0, actual=1.0"
       ]
      },
      {
       "output_type": "stream",
       "stream": "stdout",
       "text": [
        "\n",
        "> predicted=1.0, actual=1.0\n",
        "> predicted=1.0, actual=1.0\n",
        "> predicted=1.0, actual=1.0"
       ]
      },
      {
       "output_type": "stream",
       "stream": "stdout",
       "text": [
        "\n",
        "> predicted=1.0, actual=1.0\n",
        "> predicted=1.0, actual=1.0\n",
        "> predicted=1.0, actual=1.0"
       ]
      },
      {
       "output_type": "stream",
       "stream": "stdout",
       "text": [
        "\n",
        "> predicted=1.0, actual=1.0\n",
        "> predicted=1.0, actual=1.0\n",
        "> predicted=1.0, actual=1.0"
       ]
      },
      {
       "output_type": "stream",
       "stream": "stdout",
       "text": [
        "\n",
        "> predicted=1.0, actual=1.0\n",
        "> predicted=1.0, actual=1.0\n",
        "> predicted=1.0, actual=1.0"
       ]
      },
      {
       "output_type": "stream",
       "stream": "stdout",
       "text": [
        "\n",
        "> predicted=1.0, actual=1.0\n",
        "> predicted=1.0, actual=1.0\n",
        "> predicted=1.0, actual=1.0"
       ]
      },
      {
       "output_type": "stream",
       "stream": "stdout",
       "text": [
        "\n",
        "> predicted=1.0, actual=1.0\n",
        "> predicted=1.0, actual=1.0"
       ]
      },
      {
       "output_type": "stream",
       "stream": "stdout",
       "text": [
        "\n",
        "> predicted=1.0, actual=1.0\n",
        "> predicted=1.0, actual=1.0"
       ]
      },
      {
       "output_type": "stream",
       "stream": "stdout",
       "text": [
        "\n",
        "> predicted=1.0, actual=1.0\n",
        "> predicted=1.0, actual=1.0\n",
        "> predicted=1.0, actual=1.0"
       ]
      },
      {
       "output_type": "stream",
       "stream": "stdout",
       "text": [
        "\n",
        "> predicted=1.0, actual=1.0\n",
        "> predicted=1.0, actual=1.0\n",
        "> predicted=1.0, actual=1.0"
       ]
      },
      {
       "output_type": "stream",
       "stream": "stdout",
       "text": [
        "\n",
        "> predicted=1.0, actual=0.46666666666666667\n",
        "> predicted=1.0, actual=0.0\n",
        "> predicted=1.0, actual=0.34111111111111109"
       ]
      },
      {
       "output_type": "stream",
       "stream": "stdout",
       "text": [
        "\n",
        "> predicted=1.0, actual=1.0\n",
        "> predicted=1.0, actual=1.0\n",
        "> predicted=1.0, actual=1.0"
       ]
      },
      {
       "output_type": "stream",
       "stream": "stdout",
       "text": [
        "\n",
        "> predicted=1.0, actual=1.0\n",
        "> predicted=1.0, actual=1.0\n",
        "> predicted=1.0, actual=1.0"
       ]
      },
      {
       "output_type": "stream",
       "stream": "stdout",
       "text": [
        "\n",
        "> predicted=1.0, actual=1.0\n",
        "> predicted=1.0, actual=1.0\n",
        "> predicted=1.0, actual=1.0"
       ]
      },
      {
       "output_type": "stream",
       "stream": "stdout",
       "text": [
        "\n",
        "> predicted=1.0, actual=1.0\n",
        "> predicted=1.0, actual=1.0\n",
        "> predicted=1.0, actual=1.0"
       ]
      },
      {
       "output_type": "stream",
       "stream": "stdout",
       "text": [
        "\n",
        "> predicted=1.0, actual=1.0\n",
        "> predicted=1.0, actual=1.0\n",
        "> predicted=1.0, actual=1.0"
       ]
      },
      {
       "output_type": "stream",
       "stream": "stdout",
       "text": [
        "\n",
        "> predicted=1.0, actual=1.0\n",
        "> predicted=1.0, actual=1.0\n",
        "> predicted=1.0, actual=1.0"
       ]
      },
      {
       "output_type": "stream",
       "stream": "stdout",
       "text": [
        "\n",
        "> predicted=1.0, actual=1.0\n",
        "> predicted=1.0, actual=1.0\n",
        "> predicted=1.0, actual=1.0"
       ]
      },
      {
       "output_type": "stream",
       "stream": "stdout",
       "text": [
        "\n",
        "> predicted=1.0, actual=1.0\n",
        "> predicted=1.0, actual=1.0\n",
        "> predicted=1.0, actual=1.0"
       ]
      },
      {
       "output_type": "stream",
       "stream": "stdout",
       "text": [
        "\n",
        "> predicted=1.0, actual=1.0\n",
        "> predicted=1.0, actual=1.0\n",
        "> predicted=1.0, actual=1.0"
       ]
      },
      {
       "output_type": "stream",
       "stream": "stdout",
       "text": [
        "\n",
        "> predicted=1.0, actual=1.0\n",
        "> predicted=1.0, actual=1.0\n",
        "> predicted=1.0, actual=1.0"
       ]
      },
      {
       "output_type": "stream",
       "stream": "stdout",
       "text": [
        "\n",
        "> predicted=1.0, actual=1.0\n",
        "> predicted=1.0, actual=1.0\n",
        "> predicted=1.0, actual=1.0"
       ]
      },
      {
       "output_type": "stream",
       "stream": "stdout",
       "text": [
        "\n",
        "> predicted=1.0, actual=1.0\n",
        "> predicted=1.0, actual=1.0\n",
        "> predicted=1.0, actual=1.0"
       ]
      },
      {
       "output_type": "stream",
       "stream": "stdout",
       "text": [
        "\n",
        "> predicted=1.0, actual=1.0\n",
        "> predicted=1.0, actual=1.0\n",
        "> predicted=1.0, actual=1.0"
       ]
      },
      {
       "output_type": "stream",
       "stream": "stdout",
       "text": [
        "\n",
        "> predicted=1.0, actual=1.0\n",
        "> predicted=1.0, actual=1.0\n",
        "> predicted=1.0, actual=1.0"
       ]
      },
      {
       "output_type": "stream",
       "stream": "stdout",
       "text": [
        "\n",
        "> predicted=1.0, actual=1.0\n",
        "> predicted=1.0, actual=1.0\n",
        "> predicted=1.0, actual=1.0"
       ]
      },
      {
       "output_type": "stream",
       "stream": "stdout",
       "text": [
        "\n",
        "> predicted=1.0, actual=1.0\n",
        "> predicted=1.0, actual=1.0\n",
        "> predicted=1.0, actual=1.0"
       ]
      },
      {
       "output_type": "stream",
       "stream": "stdout",
       "text": [
        "\n",
        "> predicted=1.0, actual=1.0\n",
        "> predicted=1.0, actual=1.0\n",
        "> predicted=1.0, actual=1.0"
       ]
      },
      {
       "output_type": "stream",
       "stream": "stdout",
       "text": [
        "\n",
        "> predicted=1.0, actual=1.0\n",
        "> predicted=1.0, actual=1.0\n",
        "> predicted=1.0, actual=1.0"
       ]
      },
      {
       "output_type": "stream",
       "stream": "stdout",
       "text": [
        "\n",
        "> predicted=1.0, actual=1.0\n",
        "> predicted=1.0, actual=1.0\n",
        "> predicted=1.0, actual=1.0"
       ]
      },
      {
       "output_type": "stream",
       "stream": "stdout",
       "text": [
        "\n",
        "> predicted=1.0, actual=1.0\n",
        "> predicted=1.0, actual=1.0\n",
        "> predicted=1.0, actual=1.0"
       ]
      },
      {
       "output_type": "stream",
       "stream": "stdout",
       "text": [
        "\n",
        "> predicted=1.0, actual=1.0\n",
        "> predicted=1.0, actual=1.0\n",
        "> predicted=1.0, actual=1.0"
       ]
      },
      {
       "output_type": "stream",
       "stream": "stdout",
       "text": [
        "\n",
        "> predicted=1.0, actual=1.0\n",
        "> predicted=1.0, actual=1.0\n",
        "> predicted=1.0, actual=1.0"
       ]
      },
      {
       "output_type": "stream",
       "stream": "stdout",
       "text": [
        "\n",
        "> predicted=1.0, actual=1.0\n",
        "> predicted=1.0, actual=0.77666666666666662\n",
        "> predicted=1.0, actual=0.0"
       ]
      },
      {
       "output_type": "stream",
       "stream": "stdout",
       "text": [
        "\n",
        "> predicted=1.0, actual=0.0\n",
        "> predicted=1.0, actual=0.0\n",
        "> predicted=1.0, actual=0.0"
       ]
      },
      {
       "output_type": "stream",
       "stream": "stdout",
       "text": [
        "\n",
        "> predicted=1.0, actual=0.0\n",
        "> predicted=1.0, actual=0.0\n",
        "> predicted=1.0, actual=0.0"
       ]
      },
      {
       "output_type": "stream",
       "stream": "stdout",
       "text": [
        "\n",
        "> predicted=1.0, actual=1.0\n",
        "> predicted=1.0, actual=1.0\n",
        "> predicted=1.0, actual=1.0"
       ]
      },
      {
       "output_type": "stream",
       "stream": "stdout",
       "text": [
        "\n",
        "> predicted=1.0, actual=1.0\n",
        "> predicted=1.0, actual=1.0\n",
        "> predicted=1.0, actual=1.0"
       ]
      },
      {
       "output_type": "stream",
       "stream": "stdout",
       "text": [
        "\n",
        "> predicted=1.0, actual=1.0\n",
        "> predicted=1.0, actual=1.0\n",
        "> predicted=1.0, actual=1.0"
       ]
      },
      {
       "output_type": "stream",
       "stream": "stdout",
       "text": [
        "\n",
        "> predicted=1.0, actual=1.0\n",
        "> predicted=1.0, actual=1.0\n",
        "> predicted=1.0, actual=1.0"
       ]
      },
      {
       "output_type": "stream",
       "stream": "stdout",
       "text": [
        "\n",
        "> predicted=1.0, actual=1.0\n",
        "> predicted=1.0, actual=1.0"
       ]
      },
      {
       "output_type": "stream",
       "stream": "stdout",
       "text": [
        "\n",
        "> predicted=1.0, actual=1.0\n",
        "> predicted=1.0, actual=0.0\n",
        "> predicted=1.0, actual=0.0"
       ]
      },
      {
       "output_type": "stream",
       "stream": "stdout",
       "text": [
        "\n",
        "> predicted=1.0, actual=0.0\n",
        "> predicted=1.0, actual=0.0\n",
        "> predicted=1.0, actual=0.0"
       ]
      },
      {
       "output_type": "stream",
       "stream": "stdout",
       "text": [
        "\n",
        "> predicted=1.0, actual=0.0\n",
        "> predicted=1.0, actual=0.0\n",
        "> predicted=1.0, actual=0.0"
       ]
      },
      {
       "output_type": "stream",
       "stream": "stdout",
       "text": [
        "\n",
        "> predicted=1.0, actual=0.0\n",
        "> predicted=1.0, actual=0.0\n",
        "> predicted=1.0, actual=0.0"
       ]
      },
      {
       "output_type": "stream",
       "stream": "stdout",
       "text": [
        "\n",
        "> predicted=1.0, actual=0.0\n",
        "> predicted=1.0, actual=0.0\n",
        "> predicted=1.0, actual=0.59666666666666668"
       ]
      },
      {
       "output_type": "stream",
       "stream": "stdout",
       "text": [
        "\n",
        "> predicted=1.0, actual=1.0\n",
        "> predicted=1.0, actual=1.0\n",
        "> predicted=1.0, actual=1.0"
       ]
      },
      {
       "output_type": "stream",
       "stream": "stdout",
       "text": [
        "\n",
        "> predicted=1.0, actual=1.0\n",
        "> predicted=1.0, actual=1.0\n",
        "> predicted=1.0, actual=1.0"
       ]
      },
      {
       "output_type": "stream",
       "stream": "stdout",
       "text": [
        "\n",
        "> predicted=1.0, actual=1.0\n",
        "> predicted=1.0, actual=1.0\n",
        "> predicted=1.0, actual=1.0"
       ]
      },
      {
       "output_type": "stream",
       "stream": "stdout",
       "text": [
        "\n",
        "> predicted=1.0, actual=1.0\n",
        "> predicted=1.0, actual=1.0\n",
        "> predicted=1.0, actual=1.0"
       ]
      },
      {
       "output_type": "stream",
       "stream": "stdout",
       "text": [
        "\n",
        "> predicted=1.0, actual=1.0\n",
        "> predicted=1.0, actual=1.0\n",
        "> predicted=1.0, actual=1.0"
       ]
      },
      {
       "output_type": "stream",
       "stream": "stdout",
       "text": [
        "\n",
        "> predicted=1.0, actual=1.0\n",
        "> predicted=1.0, actual=1.0\n",
        "> predicted=1.0, actual=1.0"
       ]
      },
      {
       "output_type": "stream",
       "stream": "stdout",
       "text": [
        "\n",
        "> predicted=1.0, actual=1.0\n",
        "> predicted=1.0, actual=1.0\n",
        "> predicted=1.0, actual=0.0"
       ]
      },
      {
       "output_type": "stream",
       "stream": "stdout",
       "text": [
        "\n",
        "> predicted=1.0, actual=0.0\n",
        "> predicted=1.0, actual=0.0\n",
        "> predicted=1.0, actual=0.0"
       ]
      },
      {
       "output_type": "stream",
       "stream": "stdout",
       "text": [
        "\n",
        "> predicted=1.0, actual=0.0\n",
        "> predicted=1.0, actual=0.0\n",
        "> predicted=1.0, actual=0.0"
       ]
      },
      {
       "output_type": "stream",
       "stream": "stdout",
       "text": [
        "\n",
        "> predicted=1.0, actual=0.0\n",
        "> predicted=1.0, actual=0.0\n",
        "> predicted=1.0, actual=0.0"
       ]
      },
      {
       "output_type": "stream",
       "stream": "stdout",
       "text": [
        "\n",
        "> predicted=1.0, actual=0.0\n",
        "> predicted=1.0, actual=0.71444444444444444\n",
        "> predicted=1.0, actual=0.0"
       ]
      },
      {
       "output_type": "stream",
       "stream": "stdout",
       "text": [
        "\n",
        "> predicted=1.0, actual=1.0\n",
        "> predicted=1.0, actual=1.0\n",
        "> predicted=1.0, actual=1.0"
       ]
      },
      {
       "output_type": "stream",
       "stream": "stdout",
       "text": [
        "\n",
        "> predicted=1.0, actual=1.0\n",
        "> predicted=1.0, actual=1.0\n",
        "> predicted=1.0, actual=1.0"
       ]
      },
      {
       "output_type": "stream",
       "stream": "stdout",
       "text": [
        "\n",
        "> predicted=1.0, actual=1.0\n",
        "> predicted=1.0, actual=1.0\n",
        "> predicted=1.0, actual=1.0"
       ]
      },
      {
       "output_type": "stream",
       "stream": "stdout",
       "text": [
        "\n",
        "> predicted=1.0, actual=1.0\n",
        "> predicted=1.0, actual=1.0\n",
        "> predicted=1.0, actual=1.0"
       ]
      },
      {
       "output_type": "stream",
       "stream": "stdout",
       "text": [
        "\n",
        "> predicted=1.0, actual=1.0\n",
        "> predicted=1.0, actual=1.0\n",
        "> predicted=1.0, actual=1.0"
       ]
      },
      {
       "output_type": "stream",
       "stream": "stdout",
       "text": [
        "\n",
        "> predicted=1.0, actual=1.0\n",
        "> predicted=1.0, actual=0.0\n",
        "> predicted=1.0, actual=0.0"
       ]
      },
      {
       "output_type": "stream",
       "stream": "stdout",
       "text": [
        "\n",
        "> predicted=1.0, actual=0.0\n",
        "> predicted=1.0, actual=0.0"
       ]
      },
      {
       "output_type": "stream",
       "stream": "stdout",
       "text": [
        "\n",
        "> predicted=1.0, actual=0.0\n",
        "> predicted=1.0, actual=0.0\n",
        "> predicted=1.0, actual=0.0"
       ]
      },
      {
       "output_type": "stream",
       "stream": "stdout",
       "text": [
        "\n",
        "> predicted=1.0, actual=0.0\n",
        "> predicted=1.0, actual=0.0\n",
        "> predicted=1.0, actual=0.0"
       ]
      },
      {
       "output_type": "stream",
       "stream": "stdout",
       "text": [
        "\n",
        "> predicted=1.0, actual=0.0\n",
        "> predicted=1.0, actual=0.0\n",
        "> predicted=1.0, actual=1.0"
       ]
      },
      {
       "output_type": "stream",
       "stream": "stdout",
       "text": [
        "\n",
        "> predicted=1.0, actual=1.0\n",
        "> predicted=1.0, actual=1.0\n",
        "> predicted=1.0, actual=1.0"
       ]
      },
      {
       "output_type": "stream",
       "stream": "stdout",
       "text": [
        "\n",
        "> predicted=1.0, actual=1.0\n",
        "> predicted=1.0, actual=1.0\n",
        "> predicted=1.0, actual=1.0"
       ]
      },
      {
       "output_type": "stream",
       "stream": "stdout",
       "text": [
        "\n",
        "> predicted=1.0, actual=1.0\n",
        "> predicted=1.0, actual=1.0\n",
        "> predicted=1.0, actual=1.0"
       ]
      },
      {
       "output_type": "stream",
       "stream": "stdout",
       "text": [
        "\n",
        "> predicted=1.0, actual=1.0\n",
        "> predicted=1.0, actual=1.0\n",
        "> predicted=1.0, actual=1.0"
       ]
      },
      {
       "output_type": "stream",
       "stream": "stdout",
       "text": [
        "\n",
        "> predicted=1.0, actual=1.0\n",
        "> predicted=1.0, actual=1.0\n",
        "> predicted=1.0, actual=1.0"
       ]
      },
      {
       "output_type": "stream",
       "stream": "stdout",
       "text": [
        "\n",
        "> predicted=1.0, actual=1.0\n",
        "> predicted=1.0, actual=1.0\n",
        "> predicted=1.0, actual=1.0"
       ]
      },
      {
       "output_type": "stream",
       "stream": "stdout",
       "text": [
        "\n",
        "> predicted=1.0, actual=1.0\n",
        "> predicted=1.0, actual=1.0\n",
        "> predicted=1.0, actual=1.0"
       ]
      },
      {
       "output_type": "stream",
       "stream": "stdout",
       "text": [
        "\n",
        "> predicted=1.0, actual=1.0\n",
        "> predicted=1.0, actual=1.0\n",
        "> predicted=1.0, actual=1.0"
       ]
      },
      {
       "output_type": "stream",
       "stream": "stdout",
       "text": [
        "\n",
        "> predicted=1.0, actual=1.0\n",
        "> predicted=1.0, actual=1.0\n",
        "> predicted=1.0, actual=1.0"
       ]
      },
      {
       "output_type": "stream",
       "stream": "stdout",
       "text": [
        "\n",
        "> predicted=1.0, actual=0.026666666666666668\n",
        "> predicted=1.0, actual=0.0\n",
        "> predicted=1.0, actual=0.0"
       ]
      },
      {
       "output_type": "stream",
       "stream": "stdout",
       "text": [
        "\n",
        "> predicted=1.0, actual=0.0\n",
        "> predicted=1.0, actual=0.0\n",
        "> predicted=1.0, actual=0.0"
       ]
      },
      {
       "output_type": "stream",
       "stream": "stdout",
       "text": [
        "\n",
        "> predicted=1.0, actual=0.0\n",
        "> predicted=1.0, actual=0.0\n",
        "> predicted=1.0, actual=0.0"
       ]
      },
      {
       "output_type": "stream",
       "stream": "stdout",
       "text": [
        "\n",
        "> predicted=1.0, actual=0.0\n",
        "> predicted=1.0, actual=0.0\n",
        "> predicted=1.0, actual=0.0"
       ]
      },
      {
       "output_type": "stream",
       "stream": "stdout",
       "text": [
        "\n",
        "> predicted=1.0, actual=0.0\n",
        "> predicted=1.0, actual=0.0\n",
        "> predicted=1.0, actual=0.0"
       ]
      },
      {
       "output_type": "stream",
       "stream": "stdout",
       "text": [
        "\n",
        "> predicted=1.0, actual=0.0\n",
        "> predicted=1.0, actual=0.0\n",
        "> predicted=1.0, actual=1.0"
       ]
      },
      {
       "output_type": "stream",
       "stream": "stdout",
       "text": [
        "\n",
        "> predicted=1.0, actual=1.0\n",
        "> predicted=1.0, actual=1.0\n",
        "> predicted=1.0, actual=1.0"
       ]
      },
      {
       "output_type": "stream",
       "stream": "stdout",
       "text": [
        "\n",
        "> predicted=1.0, actual=1.0\n",
        "> predicted=1.0, actual=1.0\n",
        "> predicted=1.0, actual=1.0"
       ]
      },
      {
       "output_type": "stream",
       "stream": "stdout",
       "text": [
        "\n",
        "> predicted=1.0, actual=1.0\n",
        "> predicted=1.0, actual=1.0\n",
        "> predicted=1.0, actual=1.0"
       ]
      },
      {
       "output_type": "stream",
       "stream": "stdout",
       "text": [
        "\n",
        "> predicted=1.0, actual=1.0\n",
        "> predicted=1.0, actual=1.0\n",
        "> predicted=1.0, actual=1.0"
       ]
      },
      {
       "output_type": "stream",
       "stream": "stdout",
       "text": [
        "\n",
        "> predicted=1.0, actual=1.0\n",
        "> predicted=1.0, actual=1.0\n",
        "> predicted=1.0, actual=1.0"
       ]
      },
      {
       "output_type": "stream",
       "stream": "stdout",
       "text": [
        "\n",
        "> predicted=1.0, actual=1.0\n",
        "> predicted=1.0, actual=1.0\n",
        "> predicted=1.0, actual=1.0"
       ]
      },
      {
       "output_type": "stream",
       "stream": "stdout",
       "text": [
        "\n",
        "> predicted=1.0, actual=1.0\n",
        "> predicted=1.0, actual=1.0\n",
        "> predicted=1.0, actual=1.0"
       ]
      },
      {
       "output_type": "stream",
       "stream": "stdout",
       "text": [
        "\n",
        "> predicted=1.0, actual=1.0\n",
        "> predicted=1.0, actual=0.0\n",
        "> predicted=1.0, actual=0.0"
       ]
      },
      {
       "output_type": "stream",
       "stream": "stdout",
       "text": [
        "\n",
        "> predicted=1.0, actual=0.65222222222222226\n",
        "> predicted=1.0, actual=1.0\n",
        "> predicted=1.0, actual=0.0"
       ]
      },
      {
       "output_type": "stream",
       "stream": "stdout",
       "text": [
        "\n",
        "> predicted=1.0, actual=0.0\n",
        "> predicted=1.0, actual=0.0"
       ]
      },
      {
       "output_type": "stream",
       "stream": "stdout",
       "text": [
        "\n",
        "> predicted=1.0, actual=0.0\n",
        "> predicted=1.0, actual=0.0"
       ]
      },
      {
       "output_type": "stream",
       "stream": "stdout",
       "text": [
        "\n",
        "> predicted=1.0, actual=0.0\n",
        "> predicted=1.0, actual=0.97222222222222221"
       ]
      },
      {
       "output_type": "stream",
       "stream": "stdout",
       "text": [
        "\n",
        "> predicted=1.0, actual=1.0\n",
        "> predicted=1.0, actual=1.0"
       ]
      },
      {
       "output_type": "stream",
       "stream": "stdout",
       "text": [
        "\n",
        "> predicted=1.0, actual=1.0\n",
        "> predicted=1.0, actual=1.0"
       ]
      },
      {
       "output_type": "stream",
       "stream": "stdout",
       "text": [
        "\n",
        "> predicted=1.0, actual=1.0\n",
        "> predicted=1.0, actual=1.0\n",
        "> predicted=1.0, actual=1.0"
       ]
      },
      {
       "output_type": "stream",
       "stream": "stdout",
       "text": [
        "\n",
        "> predicted=1.0, actual=1.0\n",
        "> predicted=1.0, actual=1.0"
       ]
      },
      {
       "output_type": "stream",
       "stream": "stdout",
       "text": [
        "\n",
        "> predicted=1.0, actual=1.0\n",
        "> predicted=1.0, actual=1.0"
       ]
      },
      {
       "output_type": "stream",
       "stream": "stdout",
       "text": [
        "\n",
        "> predicted=1.0, actual=1.0\n",
        "> predicted=1.0, actual=1.0\n",
        "> predicted=1.0, actual=1.0"
       ]
      },
      {
       "output_type": "stream",
       "stream": "stdout",
       "text": [
        "\n",
        "> predicted=1.0, actual=1.0\n",
        "> predicted=1.0, actual=1.0\n",
        "> predicted=1.0, actual=1.0"
       ]
      },
      {
       "output_type": "stream",
       "stream": "stdout",
       "text": [
        "\n",
        "> predicted=1.0, actual=1.0\n",
        "> predicted=1.0, actual=0.37666666666666665\n",
        "> predicted=1.0, actual=0.0"
       ]
      },
      {
       "output_type": "stream",
       "stream": "stdout",
       "text": [
        "\n",
        "> predicted=1.0, actual=0.0\n",
        "> predicted=1.0, actual=0.0\n",
        "> predicted=1.0, actual=0.0"
       ]
      },
      {
       "output_type": "stream",
       "stream": "stdout",
       "text": [
        "\n",
        "> predicted=1.0, actual=0.0\n",
        "> predicted=1.0, actual=0.0\n",
        "> predicted=1.0, actual=0.0"
       ]
      },
      {
       "output_type": "stream",
       "stream": "stdout",
       "text": [
        "\n",
        "> predicted=1.0, actual=0.0\n",
        "> predicted=1.0, actual=0.0\n",
        "> predicted=1.0, actual=0.0"
       ]
      },
      {
       "output_type": "stream",
       "stream": "stdout",
       "text": [
        "\n",
        "> predicted=1.0, actual=0.0\n",
        "> predicted=1.0, actual=0.0\n",
        "> predicted=1.0, actual=0.0"
       ]
      },
      {
       "output_type": "stream",
       "stream": "stdout",
       "text": [
        "\n",
        "> predicted=1.0, actual=0.0\n",
        "> predicted=1.0, actual=0.0\n",
        "> predicted=1.0, actual=0.0"
       ]
      },
      {
       "output_type": "stream",
       "stream": "stdout",
       "text": [
        "\n",
        "> predicted=1.0, actual=0.0\n",
        "> predicted=1.0, actual=1.0\n",
        "> predicted=1.0, actual=1.0"
       ]
      },
      {
       "output_type": "stream",
       "stream": "stdout",
       "text": [
        "\n",
        "> predicted=1.0, actual=1.0\n",
        "> predicted=1.0, actual=1.0\n",
        "> predicted=1.0, actual=1.0"
       ]
      },
      {
       "output_type": "stream",
       "stream": "stdout",
       "text": [
        "\n",
        "> predicted=1.0, actual=1.0\n",
        "> predicted=1.0, actual=1.0\n",
        "> predicted=1.0, actual=1.0"
       ]
      },
      {
       "output_type": "stream",
       "stream": "stdout",
       "text": [
        "\n",
        "> predicted=1.0, actual=1.0\n",
        "> predicted=1.0, actual=1.0\n",
        "> predicted=1.0, actual=1.0"
       ]
      },
      {
       "output_type": "stream",
       "stream": "stdout",
       "text": [
        "\n",
        "> predicted=1.0, actual=1.0\n",
        "> predicted=1.0, actual=1.0\n",
        "> predicted=1.0, actual=1.0"
       ]
      },
      {
       "output_type": "stream",
       "stream": "stdout",
       "text": [
        "\n",
        "> predicted=1.0, actual=1.0\n",
        "> predicted=1.0, actual=1.0\n",
        "> predicted=1.0, actual=1.0"
       ]
      },
      {
       "output_type": "stream",
       "stream": "stdout",
       "text": [
        "\n",
        "> predicted=1.0, actual=1.0\n",
        "> predicted=1.0, actual=1.0\n",
        "> predicted=1.0, actual=1.0"
       ]
      },
      {
       "output_type": "stream",
       "stream": "stdout",
       "text": [
        "\n",
        "> predicted=1.0, actual=0.96666666666666667\n",
        "> predicted=1.0, actual=0.0\n",
        "> predicted=1.0, actual=0.0"
       ]
      },
      {
       "output_type": "stream",
       "stream": "stdout",
       "text": [
        "\n",
        "> predicted=1.0, actual=0.0\n",
        "> predicted=1.0, actual=1.0\n",
        "> predicted=1.0, actual=1.0"
       ]
      },
      {
       "output_type": "stream",
       "stream": "stdout",
       "text": [
        "\n",
        "> predicted=1.0, actual=1.0\n",
        "> predicted=1.0, actual=1.0\n",
        "> predicted=1.0, actual=1.0"
       ]
      },
      {
       "output_type": "stream",
       "stream": "stdout",
       "text": [
        "\n",
        "> predicted=1.0, actual=1.0\n",
        "> predicted=1.0, actual=1.0\n",
        "> predicted=1.0, actual=1.0"
       ]
      },
      {
       "output_type": "stream",
       "stream": "stdout",
       "text": [
        "\n",
        "> predicted=1.0, actual=1.0\n",
        "> predicted=1.0, actual=1.0\n",
        "> predicted=1.0, actual=1.0"
       ]
      },
      {
       "output_type": "stream",
       "stream": "stdout",
       "text": [
        "\n",
        "> predicted=1.0, actual=1.0\n",
        "> predicted=1.0, actual=1.0\n",
        "> predicted=1.0, actual=1.0"
       ]
      },
      {
       "output_type": "stream",
       "stream": "stdout",
       "text": [
        "\n",
        "> predicted=1.0, actual=1.0\n",
        "> predicted=1.0, actual=1.0\n",
        "> predicted=1.0, actual=1.0"
       ]
      },
      {
       "output_type": "stream",
       "stream": "stdout",
       "text": [
        "\n",
        "> predicted=1.0, actual=1.0\n",
        "> predicted=1.0, actual=1.0\n",
        "> predicted=1.0, actual=1.0"
       ]
      },
      {
       "output_type": "stream",
       "stream": "stdout",
       "text": [
        "\n",
        "> predicted=1.0, actual=1.0\n",
        "> predicted=1.0, actual=1.0\n",
        "> predicted=1.0, actual=1.0"
       ]
      },
      {
       "output_type": "stream",
       "stream": "stdout",
       "text": [
        "\n",
        "> predicted=1.0, actual=0.0\n",
        "> predicted=1.0, actual=1.0\n",
        "> predicted=1.0, actual=1.0"
       ]
      },
      {
       "output_type": "stream",
       "stream": "stdout",
       "text": [
        "\n",
        "> predicted=1.0, actual=0.0\n",
        "> predicted=1.0, actual=0.0\n",
        "> predicted=1.0, actual=1.0"
       ]
      },
      {
       "output_type": "stream",
       "stream": "stdout",
       "text": [
        "\n",
        "> predicted=1.0, actual=1.0\n",
        "> predicted=1.0, actual=1.0\n",
        "> predicted=1.0, actual=1.0"
       ]
      },
      {
       "output_type": "stream",
       "stream": "stdout",
       "text": [
        "\n",
        "> predicted=1.0, actual=1.0\n",
        "> predicted=1.0, actual=1.0\n",
        "> predicted=1.0, actual=1.0"
       ]
      },
      {
       "output_type": "stream",
       "stream": "stdout",
       "text": [
        "\n",
        "> predicted=1.0, actual=1.0\n",
        "> predicted=1.0, actual=1.0\n",
        "> predicted=1.0, actual=1.0"
       ]
      },
      {
       "output_type": "stream",
       "stream": "stdout",
       "text": [
        "\n",
        "> predicted=1.0, actual=1.0\n",
        "> predicted=1.0, actual=1.0\n",
        "> predicted=1.0, actual=1.0"
       ]
      },
      {
       "output_type": "stream",
       "stream": "stdout",
       "text": [
        "\n",
        "> predicted=1.0, actual=1.0\n",
        "> predicted=1.0, actual=1.0\n",
        "> predicted=1.0, actual=1.0"
       ]
      },
      {
       "output_type": "stream",
       "stream": "stdout",
       "text": [
        "\n",
        "> predicted=1.0, actual=1.0\n",
        "> predicted=1.0, actual=1.0\n",
        "> predicted=1.0, actual=1.0"
       ]
      },
      {
       "output_type": "stream",
       "stream": "stdout",
       "text": [
        "\n",
        "> predicted=1.0, actual=1.0\n",
        "> predicted=1.0, actual=1.0\n",
        "> predicted=1.0, actual=1.0"
       ]
      },
      {
       "output_type": "stream",
       "stream": "stdout",
       "text": [
        "\n",
        "> predicted=1.0, actual=1.0\n",
        "> predicted=1.0, actual=1.0\n",
        "> predicted=1.0, actual=1.0"
       ]
      },
      {
       "output_type": "stream",
       "stream": "stdout",
       "text": [
        "\n",
        "> predicted=1.0, actual=1.0\n",
        "> predicted=1.0, actual=0.0\n",
        "> predicted=1.0, actual=0.0"
       ]
      },
      {
       "output_type": "stream",
       "stream": "stdout",
       "text": [
        "\n",
        "> predicted=1.0, actual=0.0\n",
        "> predicted=1.0, actual=0.0\n",
        "> predicted=1.0, actual=0.79222222222222227"
       ]
      },
      {
       "output_type": "stream",
       "stream": "stdout",
       "text": [
        "\n",
        "> predicted=1.0, actual=1.0\n",
        "> predicted=1.0, actual=1.0\n",
        "> predicted=1.0, actual=1.0"
       ]
      },
      {
       "output_type": "stream",
       "stream": "stdout",
       "text": [
        "\n",
        "> predicted=1.0, actual=1.0\n",
        "> predicted=1.0, actual=1.0\n",
        "> predicted=1.0, actual=1.0"
       ]
      },
      {
       "output_type": "stream",
       "stream": "stdout",
       "text": [
        "\n",
        "> predicted=1.0, actual=1.0\n",
        "> predicted=1.0, actual=1.0\n",
        "> predicted=1.0, actual=1.0"
       ]
      },
      {
       "output_type": "stream",
       "stream": "stdout",
       "text": [
        "\n",
        "> predicted=1.0, actual=1.0\n",
        "> predicted=1.0, actual=1.0\n",
        "> predicted=1.0, actual=1.0"
       ]
      },
      {
       "output_type": "stream",
       "stream": "stdout",
       "text": [
        "\n",
        "> predicted=1.0, actual=1.0\n",
        "> predicted=1.0, actual=1.0\n",
        "> predicted=1.0, actual=1.0"
       ]
      },
      {
       "output_type": "stream",
       "stream": "stdout",
       "text": [
        "\n",
        "> predicted=1.0, actual=1.0\n",
        "> predicted=1.0, actual=1.0\n",
        "> predicted=1.0, actual=1.0"
       ]
      },
      {
       "output_type": "stream",
       "stream": "stdout",
       "text": [
        "\n",
        "> predicted=1.0, actual=1.0\n",
        "> predicted=1.0, actual=1.0\n",
        "> predicted=1.0, actual=1.0"
       ]
      },
      {
       "output_type": "stream",
       "stream": "stdout",
       "text": [
        "\n",
        "> predicted=1.0, actual=0.0\n",
        "> predicted=1.0, actual=1.0\n",
        "> predicted=1.0, actual=1.0"
       ]
      },
      {
       "output_type": "stream",
       "stream": "stdout",
       "text": [
        "\n",
        "> predicted=1.0, actual=1.0\n",
        "> predicted=1.0, actual=1.0\n",
        "> predicted=1.0, actual=1.0"
       ]
      },
      {
       "output_type": "stream",
       "stream": "stdout",
       "text": [
        "\n",
        "> predicted=1.0, actual=1.0\n",
        "> predicted=1.0, actual=1.0\n",
        "> predicted=1.0, actual=1.0"
       ]
      },
      {
       "output_type": "stream",
       "stream": "stdout",
       "text": [
        "\n",
        "> predicted=1.0, actual=1.0\n",
        "> predicted=1.0, actual=1.0\n",
        "> predicted=1.0, actual=1.0"
       ]
      },
      {
       "output_type": "stream",
       "stream": "stdout",
       "text": [
        "\n",
        "> predicted=1.0, actual=1.0\n",
        "> predicted=1.0, actual=1.0\n",
        "> predicted=1.0, actual=1.0"
       ]
      },
      {
       "output_type": "stream",
       "stream": "stdout",
       "text": [
        "\n",
        "> predicted=1.0, actual=1.0\n",
        "> predicted=1.0, actual=1.0\n",
        "> predicted=1.0, actual=1.0"
       ]
      },
      {
       "output_type": "stream",
       "stream": "stdout",
       "text": [
        "\n",
        "> predicted=1.0, actual=0.0\n",
        "> predicted=1.0, actual=0.0\n",
        "> predicted=1.0, actual=1.0"
       ]
      },
      {
       "output_type": "stream",
       "stream": "stdout",
       "text": [
        "\n",
        "> predicted=1.0, actual=1.0\n",
        "> predicted=1.0, actual=1.0\n",
        "> predicted=1.0, actual=1.0"
       ]
      },
      {
       "output_type": "stream",
       "stream": "stdout",
       "text": [
        "\n",
        "> predicted=1.0, actual=1.0\n",
        "> predicted=1.0, actual=1.0\n",
        "> predicted=1.0, actual=1.0"
       ]
      },
      {
       "output_type": "stream",
       "stream": "stdout",
       "text": [
        "\n",
        "> predicted=1.0, actual=1.0\n",
        "> predicted=1.0, actual=1.0\n",
        "> predicted=1.0, actual=1.0"
       ]
      },
      {
       "output_type": "stream",
       "stream": "stdout",
       "text": [
        "\n",
        "> predicted=1.0, actual=1.0\n",
        "> predicted=1.0, actual=1.0\n",
        "> predicted=1.0, actual=1.0"
       ]
      },
      {
       "output_type": "stream",
       "stream": "stdout",
       "text": [
        "\n",
        "> predicted=1.0, actual=0.0\n",
        "> predicted=1.0, actual=1.0\n",
        "> predicted=1.0, actual=1.0"
       ]
      },
      {
       "output_type": "stream",
       "stream": "stdout",
       "text": [
        "\n",
        "> predicted=1.0, actual=1.0\n",
        "> predicted=1.0, actual=1.0\n",
        "> predicted=1.0, actual=1.0"
       ]
      },
      {
       "output_type": "stream",
       "stream": "stdout",
       "text": [
        "\n",
        "> predicted=1.0, actual=1.0\n",
        "> predicted=1.0, actual=1.0\n",
        "> predicted=1.0, actual=1.0"
       ]
      },
      {
       "output_type": "stream",
       "stream": "stdout",
       "text": [
        "\n",
        "> predicted=1.0, actual=1.0\n",
        "> predicted=1.0, actual=1.0\n",
        "> predicted=1.0, actual=1.0"
       ]
      },
      {
       "output_type": "stream",
       "stream": "stdout",
       "text": [
        "\n",
        "> predicted=1.0, actual=1.0\n",
        "> predicted=1.0, actual=1.0\n",
        "> predicted=1.0, actual=1.0"
       ]
      },
      {
       "output_type": "stream",
       "stream": "stdout",
       "text": [
        "\n",
        "> predicted=1.0, actual=1.0\n",
        "> predicted=1.0, actual=1.0\n",
        "> predicted=1.0, actual=1.0"
       ]
      },
      {
       "output_type": "stream",
       "stream": "stdout",
       "text": [
        "\n",
        "> predicted=1.0, actual=1.0\n",
        "> predicted=1.0, actual=1.0"
       ]
      },
      {
       "output_type": "stream",
       "stream": "stdout",
       "text": [
        "\n",
        "> predicted=1.0, actual=1.0\n",
        "> predicted=1.0, actual=1.0"
       ]
      },
      {
       "output_type": "stream",
       "stream": "stdout",
       "text": [
        "\n",
        "> predicted=1.0, actual=1.0\n",
        "> predicted=1.0, actual=1.0\n",
        "> predicted=1.0, actual=1.0"
       ]
      },
      {
       "output_type": "stream",
       "stream": "stdout",
       "text": [
        "\n",
        "> predicted=1.0, actual=1.0\n",
        "> predicted=1.0, actual=1.0\n",
        "> predicted=1.0, actual=1.0"
       ]
      },
      {
       "output_type": "stream",
       "stream": "stdout",
       "text": [
        "\n",
        "> predicted=1.0, actual=1.0\n",
        "> predicted=1.0, actual=1.0\n",
        "> predicted=1.0, actual=1.0"
       ]
      },
      {
       "output_type": "stream",
       "stream": "stdout",
       "text": [
        "\n",
        "> predicted=1.0, actual=1.0\n",
        "> predicted=1.0, actual=1.0\n",
        "> predicted=1.0, actual=1.0"
       ]
      },
      {
       "output_type": "stream",
       "stream": "stdout",
       "text": [
        "\n",
        "> predicted=1.0, actual=1.0\n",
        "> predicted=1.0, actual=1.0\n",
        "> predicted=1.0, actual=1.0"
       ]
      },
      {
       "output_type": "stream",
       "stream": "stdout",
       "text": [
        "\n",
        "> predicted=1.0, actual=0.0\n",
        "> predicted=1.0, actual=0.0\n",
        "> predicted=1.0, actual=0.0"
       ]
      },
      {
       "output_type": "stream",
       "stream": "stdout",
       "text": [
        "\n",
        "> predicted=1.0, actual=0.0\n",
        "> predicted=1.0, actual=0.0\n",
        "> predicted=1.0, actual=0.0"
       ]
      },
      {
       "output_type": "stream",
       "stream": "stdout",
       "text": [
        "\n",
        "> predicted=1.0, actual=0.0\n",
        "> predicted=1.0, actual=0.0\n",
        "> predicted=1.0, actual=0.0"
       ]
      },
      {
       "output_type": "stream",
       "stream": "stdout",
       "text": [
        "\n",
        "> predicted=1.0, actual=0.0\n",
        "> predicted=1.0, actual=0.0\n",
        "> predicted=1.0, actual=0.58555555555555561\n",
        "> predicted=1.0, actual=1.0"
       ]
      },
      {
       "output_type": "stream",
       "stream": "stdout",
       "text": [
        "\n",
        "> predicted=1.0, actual=1.0\n",
        "> predicted=1.0, actual=1.0\n",
        "> predicted=1.0, actual=1.0"
       ]
      },
      {
       "output_type": "stream",
       "stream": "stdout",
       "text": [
        "\n",
        "> predicted=1.0, actual=1.0\n",
        "> predicted=1.0, actual=1.0\n",
        "> predicted=1.0, actual=1.0"
       ]
      },
      {
       "output_type": "stream",
       "stream": "stdout",
       "text": [
        "\n",
        "> predicted=1.0, actual=1.0\n",
        "> predicted=1.0, actual=1.0\n",
        "> predicted=1.0, actual=1.0"
       ]
      },
      {
       "output_type": "stream",
       "stream": "stdout",
       "text": [
        "\n",
        "> predicted=1.0, actual=1.0\n",
        "> predicted=1.0, actual=1.0\n",
        "> predicted=1.0, actual=1.0"
       ]
      },
      {
       "output_type": "stream",
       "stream": "stdout",
       "text": [
        "\n",
        "> predicted=1.0, actual=1.0\n",
        "> predicted=1.0, actual=1.0\n",
        "> predicted=1.0, actual=1.0"
       ]
      },
      {
       "output_type": "stream",
       "stream": "stdout",
       "text": [
        "\n",
        "> predicted=1.0, actual=1.0\n",
        "> predicted=1.0, actual=1.0\n",
        "> predicted=1.0, actual=1.0"
       ]
      },
      {
       "output_type": "stream",
       "stream": "stdout",
       "text": [
        "\n",
        "> predicted=1.0, actual=1.0\n",
        "> predicted=1.0, actual=1.0\n",
        "> predicted=1.0, actual=1.0"
       ]
      },
      {
       "output_type": "stream",
       "stream": "stdout",
       "text": [
        "\n",
        "> predicted=1.0, actual=1.0\n",
        "> predicted=1.0, actual=0.0\n",
        "> predicted=1.0, actual=0.0"
       ]
      },
      {
       "output_type": "stream",
       "stream": "stdout",
       "text": [
        "\n",
        "> predicted=1.0, actual=0.35333333333333333\n",
        "> predicted=1.0, actual=1.0\n",
        "> predicted=1.0, actual=1.0"
       ]
      },
      {
       "output_type": "stream",
       "stream": "stdout",
       "text": [
        "\n",
        "> predicted=1.0, actual=1.0\n",
        "> predicted=1.0, actual=1.0\n",
        "> predicted=1.0, actual=1.0"
       ]
      },
      {
       "output_type": "stream",
       "stream": "stdout",
       "text": [
        "\n",
        "> predicted=1.0, actual=1.0\n",
        "> predicted=1.0, actual=1.0\n",
        "> predicted=1.0, actual=1.0"
       ]
      },
      {
       "output_type": "stream",
       "stream": "stdout",
       "text": [
        "\n",
        "> predicted=1.0, actual=1.0\n",
        "> predicted=1.0, actual=1.0\n",
        "> predicted=1.0, actual=1.0"
       ]
      },
      {
       "output_type": "stream",
       "stream": "stdout",
       "text": [
        "\n",
        "> predicted=1.0, actual=1.0\n",
        "> predicted=1.0, actual=1.0\n",
        "> predicted=1.0, actual=1.0"
       ]
      },
      {
       "output_type": "stream",
       "stream": "stdout",
       "text": [
        "\n",
        "> predicted=1.0, actual=1.0\n",
        "> predicted=1.0, actual=1.0\n",
        "> predicted=1.0, actual=1.0"
       ]
      },
      {
       "output_type": "stream",
       "stream": "stdout",
       "text": [
        "\n",
        "> predicted=1.0, actual=1.0\n",
        "> predicted=1.0, actual=1.0\n",
        "> predicted=1.0, actual=1.0"
       ]
      },
      {
       "output_type": "stream",
       "stream": "stdout",
       "text": [
        "\n",
        "> predicted=1.0, actual=1.0\n",
        "> predicted=1.0, actual=1.0\n",
        "> predicted=1.0, actual=1.0"
       ]
      },
      {
       "output_type": "stream",
       "stream": "stdout",
       "text": [
        "\n",
        "> predicted=1.0, actual=1.0\n",
        "> predicted=1.0, actual=1.0\n",
        "> predicted=1.0, actual=0.0"
       ]
      },
      {
       "output_type": "stream",
       "stream": "stdout",
       "text": [
        "\n",
        "> predicted=1.0, actual=0.0\n",
        "> predicted=1.0, actual=0.0\n",
        "> predicted=1.0, actual=0.0"
       ]
      },
      {
       "output_type": "stream",
       "stream": "stdout",
       "text": [
        "\n",
        "> predicted=1.0, actual=0.0\n",
        "> predicted=1.0, actual=0.0\n",
        "> predicted=1.0, actual=0.0"
       ]
      },
      {
       "output_type": "stream",
       "stream": "stdout",
       "text": [
        "\n",
        "> predicted=1.0, actual=1.0\n",
        "> predicted=1.0, actual=1.0\n",
        "> predicted=1.0, actual=1.0"
       ]
      },
      {
       "output_type": "stream",
       "stream": "stdout",
       "text": [
        "\n",
        "> predicted=1.0, actual=1.0\n",
        "> predicted=1.0, actual=1.0"
       ]
      },
      {
       "output_type": "stream",
       "stream": "stdout",
       "text": [
        "\n",
        "> predicted=1.0, actual=1.0\n",
        "> predicted=1.0, actual=1.0\n",
        "> predicted=1.0, actual=1.0"
       ]
      },
      {
       "output_type": "stream",
       "stream": "stdout",
       "text": [
        "\n",
        "> predicted=1.0, actual=1.0\n",
        "> predicted=1.0, actual=1.0\n",
        "> predicted=1.0, actual=1.0"
       ]
      },
      {
       "output_type": "stream",
       "stream": "stdout",
       "text": [
        "\n",
        "> predicted=1.0, actual=1.0\n",
        "> predicted=1.0, actual=1.0\n",
        "> predicted=1.0, actual=1.0"
       ]
      },
      {
       "output_type": "stream",
       "stream": "stdout",
       "text": [
        "\n",
        "> predicted=1.0, actual=1.0\n",
        "> predicted=1.0, actual=1.0\n",
        "> predicted=1.0, actual=0.89666666666666661"
       ]
      },
      {
       "output_type": "stream",
       "stream": "stdout",
       "text": [
        "\n",
        "> predicted=1.0, actual=0.0\n",
        "> predicted=1.0, actual=0.0\n",
        "> predicted=1.0, actual=0.0"
       ]
      },
      {
       "output_type": "stream",
       "stream": "stdout",
       "text": [
        "\n",
        "> predicted=1.0, actual=0.0\n",
        "> predicted=1.0, actual=0.0\n",
        "> predicted=1.0, actual=0.0"
       ]
      },
      {
       "output_type": "stream",
       "stream": "stdout",
       "text": [
        "\n",
        "> predicted=1.0, actual=0.0\n",
        "> predicted=1.0, actual=0.0\n",
        "> predicted=1.0, actual=0.0"
       ]
      },
      {
       "output_type": "stream",
       "stream": "stdout",
       "text": [
        "\n",
        "> predicted=1.0, actual=1.0\n",
        "> predicted=1.0, actual=1.0\n",
        "> predicted=1.0, actual=1.0"
       ]
      },
      {
       "output_type": "stream",
       "stream": "stdout",
       "text": [
        "\n",
        "> predicted=1.0, actual=1.0\n",
        "> predicted=1.0, actual=1.0"
       ]
      },
      {
       "output_type": "stream",
       "stream": "stdout",
       "text": [
        "\n",
        "> predicted=1.0, actual=1.0\n",
        "> predicted=1.0, actual=1.0"
       ]
      },
      {
       "output_type": "stream",
       "stream": "stdout",
       "text": [
        "\n",
        "> predicted=1.0, actual=1.0\n",
        "> predicted=1.0, actual=1.0\n",
        "> predicted=1.0, actual=1.0"
       ]
      },
      {
       "output_type": "stream",
       "stream": "stdout",
       "text": [
        "\n",
        "> predicted=1.0, actual=1.0\n",
        "> predicted=1.0, actual=1.0\n",
        "> predicted=1.0, actual=1.0"
       ]
      },
      {
       "output_type": "stream",
       "stream": "stdout",
       "text": [
        "\n",
        "> predicted=1.0, actual=1.0\n",
        "> predicted=1.0, actual=1.0\n",
        "> predicted=1.0, actual=1.0"
       ]
      },
      {
       "output_type": "stream",
       "stream": "stdout",
       "text": [
        "\n",
        "> predicted=1.0, actual=1.0\n",
        "> predicted=1.0, actual=1.0\n",
        "> predicted=1.0, actual=0.0"
       ]
      },
      {
       "output_type": "stream",
       "stream": "stdout",
       "text": [
        "\n",
        "> predicted=1.0, actual=0.0\n",
        "> predicted=1.0, actual=0.0\n",
        "> predicted=1.0, actual=0.0"
       ]
      },
      {
       "output_type": "stream",
       "stream": "stdout",
       "text": [
        "\n",
        "> predicted=1.0, actual=0.0\n",
        "> predicted=1.0, actual=0.0\n",
        "> predicted=1.0, actual=1.0"
       ]
      },
      {
       "output_type": "stream",
       "stream": "stdout",
       "text": [
        "\n",
        "> predicted=1.0, actual=0.82111111111111112\n",
        "> predicted=1.0, actual=0.0\n",
        "> predicted=1.0, actual=0.0"
       ]
      },
      {
       "output_type": "stream",
       "stream": "stdout",
       "text": [
        "\n",
        "> predicted=1.0, actual=1.0\n",
        "> predicted=1.0, actual=1.0\n",
        "> predicted=1.0, actual=1.0"
       ]
      },
      {
       "output_type": "stream",
       "stream": "stdout",
       "text": [
        "\n",
        "> predicted=1.0, actual=1.0\n",
        "> predicted=1.0, actual=1.0\n",
        "> predicted=1.0, actual=1.0"
       ]
      },
      {
       "output_type": "stream",
       "stream": "stdout",
       "text": [
        "\n",
        "> predicted=1.0, actual=1.0\n",
        "> predicted=1.0, actual=1.0\n",
        "> predicted=1.0, actual=1.0"
       ]
      },
      {
       "output_type": "stream",
       "stream": "stdout",
       "text": [
        "\n",
        "> predicted=1.0, actual=1.0\n",
        "> predicted=1.0, actual=1.0\n",
        "> predicted=1.0, actual=1.0"
       ]
      },
      {
       "output_type": "stream",
       "stream": "stdout",
       "text": [
        "\n",
        "> predicted=1.0, actual=1.0\n",
        "> predicted=1.0, actual=1.0\n",
        "> predicted=1.0, actual=1.0"
       ]
      },
      {
       "output_type": "stream",
       "stream": "stdout",
       "text": [
        "\n",
        "> predicted=1.0, actual=1.0\n",
        "> predicted=1.0, actual=1.0\n",
        "> predicted=1.0, actual=0.67555555555555558"
       ]
      },
      {
       "output_type": "stream",
       "stream": "stdout",
       "text": [
        "\n",
        "> predicted=1.0, actual=0.0\n",
        "> predicted=1.0, actual=0.0\n",
        "> predicted=1.0, actual=0.0"
       ]
      },
      {
       "output_type": "stream",
       "stream": "stdout",
       "text": [
        "\n",
        "> predicted=1.0, actual=0.0\n",
        "> predicted=1.0, actual=0.0\n",
        "> predicted=1.0, actual=0.0"
       ]
      },
      {
       "output_type": "stream",
       "stream": "stdout",
       "text": [
        "\n",
        "> predicted=1.0, actual=0.0\n",
        "> predicted=1.0, actual=1.0\n",
        "> predicted=1.0, actual=1.0"
       ]
      },
      {
       "output_type": "stream",
       "stream": "stdout",
       "text": [
        "\n",
        "> predicted=1.0, actual=1.0\n",
        "> predicted=1.0, actual=1.0\n",
        "> predicted=1.0, actual=1.0"
       ]
      },
      {
       "output_type": "stream",
       "stream": "stdout",
       "text": [
        "\n",
        "> predicted=1.0, actual=1.0\n",
        "> predicted=1.0, actual=1.0\n",
        "> predicted=1.0, actual=1.0"
       ]
      },
      {
       "output_type": "stream",
       "stream": "stdout",
       "text": [
        "\n",
        "> predicted=1.0, actual=1.0\n",
        "> predicted=1.0, actual=1.0\n",
        "> predicted=1.0, actual=1.0"
       ]
      },
      {
       "output_type": "stream",
       "stream": "stdout",
       "text": [
        "\n",
        "> predicted=1.0, actual=1.0\n",
        "> predicted=1.0, actual=1.0\n",
        "> predicted=1.0, actual=1.0"
       ]
      },
      {
       "output_type": "stream",
       "stream": "stdout",
       "text": [
        "\n",
        "> predicted=1.0, actual=1.0\n",
        "> predicted=1.0, actual=1.0\n",
        "> predicted=1.0, actual=1.0"
       ]
      },
      {
       "output_type": "stream",
       "stream": "stdout",
       "text": [
        "\n",
        "> predicted=1.0, actual=1.0\n",
        "> predicted=1.0, actual=1.0\n",
        "> predicted=1.0, actual=1.0"
       ]
      },
      {
       "output_type": "stream",
       "stream": "stdout",
       "text": [
        "\n",
        "> predicted=1.0, actual=1.0\n",
        "> predicted=1.0, actual=1.0\n",
        "> predicted=1.0, actual=0.80222222222222217"
       ]
      },
      {
       "output_type": "stream",
       "stream": "stdout",
       "text": [
        "\n",
        "> predicted=1.0, actual=1.0\n",
        "> predicted=1.0, actual=1.0\n",
        "> predicted=1.0, actual=1.0"
       ]
      },
      {
       "output_type": "stream",
       "stream": "stdout",
       "text": [
        "\n",
        "> predicted=1.0, actual=1.0\n",
        "> predicted=1.0, actual=1.0\n",
        "> predicted=1.0, actual=1.0"
       ]
      },
      {
       "output_type": "stream",
       "stream": "stdout",
       "text": [
        "\n",
        "> predicted=1.0, actual=1.0\n",
        "> predicted=1.0, actual=1.0\n",
        "> predicted=1.0, actual=1.0"
       ]
      },
      {
       "output_type": "stream",
       "stream": "stdout",
       "text": [
        "\n",
        "> predicted=1.0, actual=1.0\n",
        "> predicted=1.0, actual=1.0\n",
        "> predicted=1.0, actual=1.0"
       ]
      },
      {
       "output_type": "stream",
       "stream": "stdout",
       "text": [
        "\n",
        "> predicted=1.0, actual=1.0\n",
        "> predicted=1.0, actual=1.0\n",
        "> predicted=1.0, actual=1.0"
       ]
      },
      {
       "output_type": "stream",
       "stream": "stdout",
       "text": [
        "\n",
        "> predicted=1.0, actual=1.0\n",
        "> predicted=1.0, actual=1.0"
       ]
      },
      {
       "output_type": "stream",
       "stream": "stdout",
       "text": [
        "\n",
        "> predicted=1.0, actual=1.0\n",
        "> predicted=1.0, actual=1.0\n",
        "> predicted=1.0, actual=1.0"
       ]
      },
      {
       "output_type": "stream",
       "stream": "stdout",
       "text": [
        "\n",
        "> predicted=1.0, actual=1.0\n",
        "> predicted=1.0, actual=1.0\n",
        "> predicted=1.0, actual=1.0"
       ]
      },
      {
       "output_type": "stream",
       "stream": "stdout",
       "text": [
        "\n",
        "> predicted=1.0, actual=1.0\n",
        "> predicted=1.0, actual=1.0\n",
        "> predicted=1.0, actual=1.0"
       ]
      },
      {
       "output_type": "stream",
       "stream": "stdout",
       "text": [
        "\n",
        "> predicted=1.0, actual=1.0\n",
        "> predicted=1.0, actual=1.0\n",
        "> predicted=1.0, actual=1.0"
       ]
      },
      {
       "output_type": "stream",
       "stream": "stdout",
       "text": [
        "\n",
        "> predicted=1.0, actual=1.0\n",
        "> predicted=1.0, actual=1.0\n",
        "> predicted=1.0, actual=1.0"
       ]
      },
      {
       "output_type": "stream",
       "stream": "stdout",
       "text": [
        "\n",
        "> predicted=1.0, actual=1.0\n",
        "> predicted=1.0, actual=1.0\n",
        "> predicted=1.0, actual=0.0"
       ]
      },
      {
       "output_type": "stream",
       "stream": "stdout",
       "text": [
        "\n",
        "> predicted=1.0, actual=0.0\n",
        "> predicted=1.0, actual=0.0\n",
        "> predicted=1.0, actual=0.0"
       ]
      },
      {
       "output_type": "stream",
       "stream": "stdout",
       "text": [
        "\n",
        "> predicted=1.0, actual=0.0\n",
        "> predicted=1.0, actual=1.0\n",
        "> predicted=1.0, actual=1.0"
       ]
      },
      {
       "output_type": "stream",
       "stream": "stdout",
       "text": [
        "\n",
        "> predicted=1.0, actual=1.0\n",
        "> predicted=1.0, actual=1.0\n",
        "> predicted=1.0, actual=1.0"
       ]
      },
      {
       "output_type": "stream",
       "stream": "stdout",
       "text": [
        "\n",
        "> predicted=1.0, actual=1.0\n",
        "> predicted=1.0, actual=1.0\n",
        "> predicted=1.0, actual=1.0"
       ]
      },
      {
       "output_type": "stream",
       "stream": "stdout",
       "text": [
        "\n",
        "> predicted=1.0, actual=1.0\n",
        "> predicted=1.0, actual=1.0\n",
        "> predicted=1.0, actual=1.0"
       ]
      },
      {
       "output_type": "stream",
       "stream": "stdout",
       "text": [
        "\n",
        "> predicted=1.0, actual=1.0\n",
        "> predicted=1.0, actual=1.0\n",
        "> predicted=1.0, actual=1.0"
       ]
      },
      {
       "output_type": "stream",
       "stream": "stdout",
       "text": [
        "\n",
        "> predicted=1.0, actual=1.0\n",
        "> predicted=1.0, actual=1.0\n",
        "> predicted=1.0, actual=1.0"
       ]
      },
      {
       "output_type": "stream",
       "stream": "stdout",
       "text": [
        "\n",
        "> predicted=1.0, actual=1.0\n",
        "> predicted=1.0, actual=1.0\n",
        "> predicted=1.0, actual=1.0"
       ]
      },
      {
       "output_type": "stream",
       "stream": "stdout",
       "text": [
        "\n",
        "> predicted=1.0, actual=1.0\n",
        "> predicted=1.0, actual=1.0\n",
        "> predicted=1.0, actual=1.0"
       ]
      },
      {
       "output_type": "stream",
       "stream": "stdout",
       "text": [
        "\n",
        "> predicted=1.0, actual=1.0\n",
        "> predicted=1.0, actual=0.0\n",
        "> predicted=1.0, actual=0.0"
       ]
      },
      {
       "output_type": "stream",
       "stream": "stdout",
       "text": [
        "\n",
        "> predicted=1.0, actual=0.0\n",
        "> predicted=1.0, actual=0.0\n",
        "> predicted=1.0, actual=0.0"
       ]
      },
      {
       "output_type": "stream",
       "stream": "stdout",
       "text": [
        "\n",
        "> predicted=1.0, actual=0.0\n",
        "> predicted=1.0, actual=0.0\n",
        "> predicted=1.0, actual=1.0"
       ]
      },
      {
       "output_type": "stream",
       "stream": "stdout",
       "text": [
        "\n",
        "> predicted=1.0, actual=1.0\n",
        "> predicted=1.0, actual=0.0\n",
        "> predicted=1.0, actual=0.0"
       ]
      },
      {
       "output_type": "stream",
       "stream": "stdout",
       "text": [
        "\n",
        "> predicted=1.0, actual=0.0\n",
        "> predicted=1.0, actual=0.0\n",
        "> predicted=1.0, actual=0.0"
       ]
      },
      {
       "output_type": "stream",
       "stream": "stdout",
       "text": [
        "\n",
        "> predicted=1.0, actual=0.0\n",
        "> predicted=1.0, actual=0.0\n",
        "> predicted=1.0, actual=0.97777777777777775"
       ]
      },
      {
       "output_type": "stream",
       "stream": "stdout",
       "text": [
        "\n",
        "TP =  1928\n",
        "TN =  0\n",
        "FP =  673\n",
        "FN =  0\n",
        "Accuracy =  0.741253364091\n",
        "Precision =  0.741253364091\n",
        "Recall =  1.0\n"
       ]
      }
     ],
     "prompt_number": 112
    },
    {
     "cell_type": "code",
     "collapsed": false,
     "input": [
      "testSet"
     ],
     "language": "python",
     "metadata": {},
     "outputs": [
      {
       "metadata": {},
       "output_type": "pyout",
       "prompt_number": 113,
       "text": [
        "[array([ 21.12761497,   1.        ]),\n",
        " array([ 21.23937798,   1.        ]),\n",
        " array([ 21.22461891,   1.        ]),\n",
        " array([ 21.16527367,   1.        ]),\n",
        " array([ 21.25184822,   1.        ]),\n",
        " array([ 21.15100479,   1.        ]),\n",
        " array([ 21.11224365,   1.        ]),\n",
        " array([ 21.12451744,   1.        ]),\n",
        " array([ 21.70443535,   1.        ]),\n",
        " array([ 21.65041351,   0.        ]),\n",
        " array([ 199.30403137,    0.        ]),\n",
        " array([ 231.43688965,    0.        ]),\n",
        " array([ 231.4125824,    0.       ]),\n",
        " array([ 231.35079956,    0.        ]),\n",
        " array([ 230.89376831,    0.        ]),\n",
        " array([ 230.75524902,    0.        ]),\n",
        " array([ 230.69139099,    0.        ]),\n",
        " array([ 23.51662064,   0.        ]),\n",
        " array([ 21.49104309,   0.        ]),\n",
        " array([ 21.54072189,   0.        ]),\n",
        " array([ 21.56087875,   0.        ]),\n",
        " array([ 21.56691933,   0.        ]),\n",
        " array([ 21.60417175,   0.        ]),\n",
        " array([ 1139.84765625,     0.        ]),\n",
        " array([ 231.89117432,    0.        ]),\n",
        " array([ 229.50657654,    0.        ]),\n",
        " array([ 229.55584717,    0.        ]),\n",
        " array([ 229.43296814,    0.45111111]),\n",
        " array([ 432.95608521,    0.        ]),\n",
        " array([ 229.13726807,    0.        ]),\n",
        " array([ 229.64697266,    0.        ]),\n",
        " array([ 229.74447632,    0.        ]),\n",
        " array([ 229.93096924,    0.        ]),\n",
        " array([ 76.42147064,   1.        ]),\n",
        " array([ 65.13639832,   1.        ]),\n",
        " array([ 21.54550743,   1.        ]),\n",
        " array([ 21.44452095,   1.        ]),\n",
        " array([ 21.44399834,   1.        ]),\n",
        " array([ 21.40300941,   1.        ]),\n",
        " array([ 21.58612823,   1.        ]),\n",
        " array([ 21.63724518,   1.        ]),\n",
        " array([ 21.62320328,   1.        ]),\n",
        " array([ 21.53051376,   1.        ]),\n",
        " array([ 21.52711296,   1.        ]),\n",
        " array([ 21.52568817,   1.        ]),\n",
        " array([ 21.55043602,   1.        ]),\n",
        " array([ 21.49602127,   1.        ]),\n",
        " array([ 21.49495888,   1.        ]),\n",
        " array([ 21.44324303,   0.        ]),\n",
        " array([ 68.10553741,   0.        ]),\n",
        " array([ 81.27552032,   0.        ]),\n",
        " array([ 81.41027832,   0.        ]),\n",
        " array([ 81.14450836,   0.        ]),\n",
        " array([ 81.22731781,   0.        ]),\n",
        " array([ 31.63895416,   0.        ]),\n",
        " array([ 21.52859116,   0.        ]),\n",
        " array([ 21.5178566,   0.       ]),\n",
        " array([ 21.52393913,   0.        ]),\n",
        " array([ 21.53148079,   0.        ]),\n",
        " array([ 21.55852127,   0.        ]),\n",
        " array([ 21.56429291,   0.99777778]),\n",
        " array([ 21.56211281,   0.        ]),\n",
        " array([ 21.57727051,   0.        ]),\n",
        " array([ 21.61579895,   0.        ]),\n",
        " array([ 21.57530212,   0.        ]),\n",
        " array([ 21.59009171,   0.        ]),\n",
        " array([ 21.51748466,   0.        ]),\n",
        " array([ 21.52751541,   0.        ]),\n",
        " array([ 141.53323364,    0.        ]),\n",
        " array([ 285.88568115,    0.        ]),\n",
        " array([ 197.21051025,    1.        ]),\n",
        " array([ 187.7227478,    1.       ]),\n",
        " array([ 185.64480591,    1.        ]),\n",
        " array([ 184.54727173,    1.        ]),\n",
        " array([ 21.50695801,   1.        ]),\n",
        " array([ 21.55629158,   1.        ]),\n",
        " array([ 21.59760666,   1.        ]),\n",
        " array([ 21.61642647,   1.        ]),\n",
        " array([ 21.61115265,   1.        ]),\n",
        " array([ 21.63432312,   1.        ]),\n",
        " array([ 21.63729095,   1.        ]),\n",
        " array([ 21.58049202,   1.        ]),\n",
        " array([ 21.55204201,   1.        ]),\n",
        " array([ 21.56956863,   1.        ]),\n",
        " array([ 21.60757828,   1.        ]),\n",
        " array([ 21.60656166,   1.        ]),\n",
        " array([ 21.6208744,   1.       ]),\n",
        " array([ 22.75377464,   1.        ]),\n",
        " array([ 21.66443825,   1.        ]),\n",
        " array([ 21.61127853,   1.        ]),\n",
        " array([ 192.21430969,    1.        ]),\n",
        " array([ 214.36187744,    1.        ]),\n",
        " array([ 207.72169495,    1.        ]),\n",
        " array([ 230.85391235,    1.        ]),\n",
        " array([ 230.65553284,    1.        ]),\n",
        " array([ 230.03855896,    1.        ]),\n",
        " array([ 21.47460556,   0.        ]),\n",
        " array([ 21.46799469,   0.        ]),\n",
        " array([ 21.46588707,   0.        ]),\n",
        " array([ 21.45798302,   0.        ]),\n",
        " array([ 21.48703003,   0.        ]),\n",
        " array([ 21.48668098,   0.        ]),\n",
        " array([ 21.51276207,   1.        ]),\n",
        " array([ 21.50208282,   1.        ]),\n",
        " array([ 21.54694176,   1.        ]),\n",
        " array([ 21.55757523,   1.        ]),\n",
        " array([ 21.51475716,   1.        ]),\n",
        " array([ 21.5122757,   1.       ]),\n",
        " array([ 21.44178391,   1.        ]),\n",
        " array([ 21.44280434,   1.        ]),\n",
        " array([ 21.4607048,   1.       ]),\n",
        " array([ 21.45400238,   1.        ]),\n",
        " array([ 21.46815491,   1.        ]),\n",
        " array([ 21.49014473,   1.        ]),\n",
        " array([ 21.50820541,   1.        ]),\n",
        " array([ 21.45733643,   1.        ]),\n",
        " array([ 21.52180481,   1.        ]),\n",
        " array([ 21.52133942,   1.        ]),\n",
        " array([ 234.35066223,    1.        ]),\n",
        " array([ 43.96924591,   1.        ]),\n",
        " array([ 43.97507858,   1.        ]),\n",
        " array([ 43.91098785,   1.        ]),\n",
        " array([ 51.10525131,   1.        ]),\n",
        " array([ 51.03735733,   1.        ]),\n",
        " array([ 44.07489014,   1.        ]),\n",
        " array([ 44.08996582,   1.        ]),\n",
        " array([ 43.98511124,   1.        ]),\n",
        " array([ 44.00508118,   1.        ]),\n",
        " array([ 43.96575928,   1.        ]),\n",
        " array([ 43.94988632,   1.        ]),\n",
        " array([ 88.02371216,   1.        ]),\n",
        " array([ 154.77694702,    1.        ]),\n",
        " array([ 21.50601006,   1.        ]),\n",
        " array([ 23.7514267,   1.       ]),\n",
        " array([ 21.45580482,   0.85444444]),\n",
        " array([ 21.46180534,   0.        ]),\n",
        " array([ 21.57488632,   0.        ]),\n",
        " array([ 21.60737228,   0.        ]),\n",
        " array([ 21.57057762,   0.        ]),\n",
        " array([ 21.88498116,   0.        ]),\n",
        " array([ 21.54257584,   0.        ]),\n",
        " array([ 21.60880661,   0.        ]),\n",
        " array([ 21.69067764,   0.        ]),\n",
        " array([ 21.59071159,   0.        ]),\n",
        " array([ 227.91661072,    1.        ]),\n",
        " array([ 230.909729,    1.      ]),\n",
        " array([ 231.39848328,    1.        ]),\n",
        " array([ 231.1394043,    1.       ]),\n",
        " array([ 230.47517395,    1.        ]),\n",
        " array([ 230.60202026,    1.        ]),\n",
        " array([ 21.37150192,   1.        ]),\n",
        " array([ 21.41513824,   1.        ]),\n",
        " array([ 21.44081879,   1.        ]),\n",
        " array([ 21.53528786,   1.        ]),\n",
        " array([ 21.51373672,   1.        ]),\n",
        " array([ 21.5525322,   1.       ]),\n",
        " array([ 21.57177353,   1.        ]),\n",
        " array([ 21.54660606,   1.        ]),\n",
        " array([ 21.55942726,   1.        ]),\n",
        " array([ 21.48685265,   1.        ]),\n",
        " array([ 21.4563961,   1.       ]),\n",
        " array([ 21.49631691,   1.        ]),\n",
        " array([ 21.59712219,   1.        ]),\n",
        " array([ 21.51489639,   1.        ]),\n",
        " array([ 21.53394318,   0.95777778]),\n",
        " array([ 21.52710915,   0.        ]),\n",
        " array([ 21.56829643,   0.        ]),\n",
        " array([ 21.50307655,   0.        ]),\n",
        " array([ 21.54128838,   0.        ]),\n",
        " array([ 21.53866196,   0.        ]),\n",
        " array([ 21.46497345,   0.        ]),\n",
        " array([ 21.52984238,   0.        ]),\n",
        " array([ 637.48175049,    0.        ]),\n",
        " array([ 229.48260498,    0.        ]),\n",
        " array([ 229.28721619,    0.        ]),\n",
        " array([ 237.15934753,    0.        ]),\n",
        " array([ 229.00944519,    0.        ]),\n",
        " array([ 229.73323059,    0.        ]),\n",
        " array([  2.85502502e+02,   1.15555556e-01]),\n",
        " array([ 21.25009346,   1.        ]),\n",
        " array([ 21.21288681,   1.        ]),\n",
        " array([ 21.17254639,   1.        ]),\n",
        " array([ 21.23853111,   1.        ]),\n",
        " array([ 21.20565796,   1.        ]),\n",
        " array([ 21.20752525,   1.        ]),\n",
        " array([ 21.26043892,   1.        ]),\n",
        " array([ 21.16451836,   1.        ]),\n",
        " array([ 21.203619,   1.      ]),\n",
        " array([ 21.18540192,   1.        ]),\n",
        " array([ 21.16294098,   1.        ]),\n",
        " array([ 21.11230469,   1.        ]),\n",
        " array([ 21.60567665,   1.        ]),\n",
        " array([ 21.51177979,   1.        ]),\n",
        " array([ 21.49334908,   1.        ]),\n",
        " array([ 21.43976212,   1.        ]),\n",
        " array([ 21.49929237,   1.        ]),\n",
        " array([ 21.65276718,   1.        ]),\n",
        " array([ 230.89227295,    1.        ]),\n",
        " array([ 76.2389679,   0.       ]),\n",
        " array([ 21.61304665,   1.        ]),\n",
        " array([ 21.63871765,   1.        ]),\n",
        " array([ 21.60229874,   1.        ]),\n",
        " array([ 21.6447258,   1.       ]),\n",
        " array([ 21.61041832,   1.        ]),\n",
        " array([ 21.63443375,   1.        ]),\n",
        " array([ 21.60549545,   1.        ]),\n",
        " array([ 21.65672493,   1.        ]),\n",
        " array([ 21.70799828,   1.        ]),\n",
        " array([ 21.65980911,   1.        ]),\n",
        " array([ 21.67806244,   1.        ]),\n",
        " array([ 21.58253479,   1.        ]),\n",
        " array([ 21.63230896,   1.        ]),\n",
        " array([ 21.70290184,   1.        ]),\n",
        " array([ 123.18252563,    1.        ]),\n",
        " array([ 230.57354736,    1.        ]),\n",
        " array([ 58.33111572,   1.        ]),\n",
        " array([ 21.40576553,   1.        ]),\n",
        " array([ 21.47933197,   1.        ]),\n",
        " array([ 21.4621315,   1.       ]),\n",
        " array([ 21.52279663,   1.        ]),\n",
        " array([ 21.45648003,   1.        ]),\n",
        " array([ 21.50880051,   1.        ]),\n",
        " array([ 21.54301262,   1.        ]),\n",
        " array([ 21.61483765,   1.        ]),\n",
        " array([ 21.53384209,   1.        ]),\n",
        " array([ 21.56109619,   1.        ]),\n",
        " array([ 21.58874321,   1.        ]),\n",
        " array([ 26.60027122,   1.        ]),\n",
        " array([ 21.46305466,   0.        ]),\n",
        " array([ 21.50620842,   0.        ]),\n",
        " array([ 21.57850838,   0.        ]),\n",
        " array([ 21.58263397,   0.        ]),\n",
        " array([ 21.54214287,   0.        ]),\n",
        " array([ 21.47131538,   0.        ]),\n",
        " array([ 21.50812531,   0.        ]),\n",
        " array([ 21.47364807,   0.        ]),\n",
        " array([ 21.47866058,   0.        ]),\n",
        " array([ 21.46841431,   0.        ]),\n",
        " array([ 21.51829147,   0.        ]),\n",
        " array([ 21.51773453,   0.        ]),\n",
        " array([ 21.48375702,   0.        ]),\n",
        " array([ 21.54599571,   0.        ]),\n",
        " array([ 339.02572632,    0.        ]),\n",
        " array([ 230.76977539,    0.        ]),\n",
        " array([ 229.99699402,    0.        ]),\n",
        " array([ 230.37483215,    1.        ]),\n",
        " array([ 238.86143494,    1.        ]),\n",
        " array([ 230.91963196,    1.        ]),\n",
        " array([ 230.91694641,    1.        ]),\n",
        " array([ 175.85160828,    1.        ]),\n",
        " array([ 21.42089653,   1.        ]),\n",
        " array([ 21.53271866,   1.        ]),\n",
        " array([ 21.5993309,   1.       ]),\n",
        " array([ 21.5105648,   1.       ]),\n",
        " array([ 21.62737274,   1.        ]),\n",
        " array([ 21.5677166,   1.       ]),\n",
        " array([ 21.50647736,   1.        ]),\n",
        " array([ 21.61253548,   1.        ]),\n",
        " array([ 21.51855087,   1.        ]),\n",
        " array([ 21.92538071,   1.        ]),\n",
        " array([ 21.43461418,   0.29666667]),\n",
        " array([ 21.5118866,   0.       ]),\n",
        " array([ 21.57711983,   0.        ]),\n",
        " array([ 21.4980793,   0.       ]),\n",
        " array([ 199.69322205,    1.        ]),\n",
        " array([ 238.40496826,    1.        ]),\n",
        " array([ 93.09408569,   1.        ]),\n",
        " array([ 86.63924408,   1.        ]),\n",
        " array([ 83.65945435,   0.        ]),\n",
        " array([ 410.00354004,    0.        ]),\n",
        " array([ 258.15130615,    0.55555556]),\n",
        " array([ 597.76428223,    0.        ]),\n",
        " array([ 84.91122437,   0.        ]),\n",
        " array([ 74.02822876,   0.        ]),\n",
        " array([ 74.05204773,   0.        ]),\n",
        " array([ 73.99440002,   0.        ]),\n",
        " array([ 73.86481476,   0.        ]),\n",
        " array([ 75.07967377,   0.        ]),\n",
        " array([ 73.59679413,   0.        ]),\n",
        " array([ 173.39141846,    1.        ]),\n",
        " array([ 230.20526123,    1.        ]),\n",
        " array([ 21.15005493,   1.        ]),\n",
        " array([ 21.21734238,   1.        ]),\n",
        " array([ 21.22798538,   1.        ]),\n",
        " array([ 21.2393837,   1.       ]),\n",
        " array([ 21.19086456,   1.        ]),\n",
        " array([ 21.240839,   1.      ]),\n",
        " array([ 21.20207214,   1.        ]),\n",
        " array([ 21.17793846,   1.        ]),\n",
        " array([ 21.22984314,   1.        ]),\n",
        " array([ 21.22524452,   1.        ]),\n",
        " array([ 21.19182777,   1.        ]),\n",
        " array([ 21.12661171,   0.        ]),\n",
        " array([ 260.46585083,    0.        ]),\n",
        " array([ 613.94372559,    0.        ]),\n",
        " array([ 138.15260315,    0.        ]),\n",
        " array([ 36.17162323,   0.        ]),\n",
        " array([ 80.42685699,   0.        ]),\n",
        " array([ 82.38543701,   0.        ]),\n",
        " array([ 74.33715057,   1.        ]),\n",
        " array([ 74.46180725,   0.52777778]),\n",
        " array([ 74.46469879,   0.        ]),\n",
        " array([ 21.54591179,   1.        ]),\n",
        " array([ 21.52166367,   1.        ]),\n",
        " array([ 21.50056839,   1.        ]),\n",
        " array([ 423.98257446,    1.        ]),\n",
        " array([ 230.26274109,    1.        ]),\n",
        " array([ 229.5463562,    1.       ]),\n",
        " array([ 229.6423645,    1.       ]),\n",
        " array([ 229.79647827,    1.        ]),\n",
        " array([ 21.52733231,   1.        ]),\n",
        " array([ 21.50035667,   1.        ]),\n",
        " array([ 21.50826454,   1.        ]),\n",
        " array([ 21.48091316,   1.        ]),\n",
        " array([ 21.53378677,   1.        ]),\n",
        " array([ 21.55659103,   1.        ]),\n",
        " array([ 21.53767586,   1.        ]),\n",
        " array([ 21.5704422,   1.       ]),\n",
        " array([ 21.54854584,   1.        ]),\n",
        " array([ 21.54426384,   1.        ]),\n",
        " array([ 21.57234001,   1.        ]),\n",
        " array([ 21.5568161,   1.       ]),\n",
        " array([ 21.56622887,   1.        ]),\n",
        " array([ 21.53113556,   1.        ]),\n",
        " array([ 21.5802002,   1.       ]),\n",
        " array([ 21.49069405,   1.        ]),\n",
        " array([ 21.45185852,   1.        ]),\n",
        " array([ 82.31557465,   1.        ]),\n",
        " array([ 21.54843712,   1.        ]),\n",
        " array([ 21.53581429,   1.        ]),\n",
        " array([ 21.50416374,   1.        ]),\n",
        " array([ 21.66248894,   1.        ]),\n",
        " array([ 21.68548965,   1.        ]),\n",
        " array([ 21.57613754,   1.        ]),\n",
        " array([ 21.6101532,   1.       ]),\n",
        " array([ 21.61672783,   1.        ]),\n",
        " array([ 21.58781624,   1.        ]),\n",
        " array([ 21.56352425,   1.        ]),\n",
        " array([ 169.38935852,    1.        ]),\n",
        " array([ 231.36123657,    1.        ]),\n",
        " array([ 231.08009338,    1.        ]),\n",
        " array([ 230.94451904,    1.        ]),\n",
        " array([ 230.9594574,    1.       ]),\n",
        " array([ 242.03846741,    1.        ]),\n",
        " array([ 237.74214172,    1.        ]),\n",
        " array([ 234.45422363,    1.        ]),\n",
        " array([ 21.66771317,   1.        ]),\n",
        " array([ 21.63660812,   1.        ]),\n",
        " array([ 21.61715889,   1.        ]),\n",
        " array([ 21.59645462,   1.        ]),\n",
        " array([ 21.66305542,   1.        ]),\n",
        " array([ 21.65021133,   1.        ]),\n",
        " array([ 21.66454697,   1.        ]),\n",
        " array([ 21.64917374,   1.        ]),\n",
        " array([ 21.64282417,   1.        ]),\n",
        " array([ 21.62336159,   1.        ]),\n",
        " array([ 21.66247749,   1.        ]),\n",
        " array([ 21.67414474,   1.        ]),\n",
        " array([ 21.62972069,   1.        ]),\n",
        " array([ 21.54628944,   1.        ]),\n",
        " array([ 29.1713562,   1.       ]),\n",
        " array([ 31.02578735,   1.        ]),\n",
        " array([ 21.66906929,   1.        ]),\n",
        " array([ 22.19770432,   1.        ]),\n",
        " array([ 21.14737701,   1.        ]),\n",
        " array([ 775.79547119,    1.        ]),\n",
        " array([ 332.94592285,    1.        ]),\n",
        " array([ 334.17337036,    1.        ]),\n",
        " array([ 473.93304443,    1.        ]),\n",
        " array([ 233.85116577,    0.        ]),\n",
        " array([ 231.26000977,    0.        ]),\n",
        " array([ 230.84687805,    1.        ]),\n",
        " array([ 436.00686646,    1.        ]),\n",
        " array([ 230.30734253,    1.        ]),\n",
        " array([ 230.0801239,    1.       ]),\n",
        " array([ 229.65161133,    1.        ]),\n",
        " array([ 266.34924316,    1.        ]),\n",
        " array([ 81.97771454,   1.        ]),\n",
        " array([ 21.28034782,   1.        ]),\n",
        " array([ 21.3205471,   1.       ]),\n",
        " array([ 21.26856804,   1.        ]),\n",
        " array([ 21.22763062,   1.        ]),\n",
        " array([ 21.26332474,   1.        ]),\n",
        " array([ 21.27589226,   1.        ]),\n",
        " array([ 21.2738533,   1.       ]),\n",
        " array([ 21.15925407,   1.        ]),\n",
        " array([ 21.26040459,   1.        ]),\n",
        " array([ 21.11537552,   1.        ]),\n",
        " array([ 164.56707764,    1.        ]),\n",
        " array([ 21.16225052,   1.        ]),\n",
        " array([ 21.15712738,   1.        ]),\n",
        " array([ 21.25043488,   1.        ]),\n",
        " array([ 21.27030563,   1.        ]),\n",
        " array([ 179.11755371,    1.        ]),\n",
        " array([ 76.78070068,   1.        ]),\n",
        " array([ 56.87732315,   1.        ]),\n",
        " array([ 21.23720551,   1.        ]),\n",
        " array([ 21.28707504,   1.        ]),\n",
        " array([ 21.23539543,   1.        ]),\n",
        " array([ 21.27443886,   1.        ]),\n",
        " array([ 231.29216003,    1.        ]),\n",
        " array([ 230.07069397,    1.        ]),\n",
        " array([ 230.79234314,    1.        ]),\n",
        " array([ 230.70970154,    1.        ]),\n",
        " array([ 230.97332764,    1.        ]),\n",
        " array([ 230.54840088,    1.        ]),\n",
        " array([ 21.17896843,   1.        ]),\n",
        " array([ 26.01143456,   1.        ]),\n",
        " array([ 25.72108269,   1.        ]),\n",
        " array([ 26.18787193,   1.        ]),\n",
        " array([ 25.54625702,   1.        ]),\n",
        " array([ 25.86667442,   1.        ]),\n",
        " array([ 26.7455883,   1.       ]),\n",
        " array([ 21.16361237,   1.        ]),\n",
        " array([ 21.3792572,   1.       ]),\n",
        " array([ 21.36578369,   1.        ]),\n",
        " array([ 21.41929436,   1.        ]),\n",
        " array([ 21.4542942,   1.       ]),\n",
        " array([ 21.49701881,   1.        ]),\n",
        " array([ 21.26189804,   1.        ]),\n",
        " array([ 21.28928185,   1.        ]),\n",
        " array([ 21.37103653,   1.        ]),\n",
        " array([ 21.35093307,   1.        ]),\n",
        " array([ 21.35068512,   1.        ]),\n",
        " array([ 21.38681221,   1.        ]),\n",
        " array([ 21.20286751,   1.        ]),\n",
        " array([ 230.63815308,    1.        ]),\n",
        " array([ 115.30358887,    1.        ]),\n",
        " array([ 21.45690155,   1.        ]),\n",
        " array([ 21.33893585,   1.        ]),\n",
        " array([ 21.27006721,   1.        ]),\n",
        " array([ 38.36619949,   1.        ]),\n",
        " array([ 58.42660904,   1.        ]),\n",
        " array([ 25.2992363,   1.       ]),\n",
        " array([ 22.96103668,   1.        ]),\n",
        " array([ 21.73725891,   1.        ]),\n",
        " array([ 21.64601135,   1.        ]),\n",
        " array([ 21.68968964,   1.        ]),\n",
        " array([ 21.69192886,   1.        ]),\n",
        " array([ 21.60849571,   1.        ]),\n",
        " array([ 21.48138046,   1.        ]),\n",
        " array([ 21.4459877,   1.       ]),\n",
        " array([ 21.30415726,   1.        ]),\n",
        " array([ 36.49884033,   1.        ]),\n",
        " array([ 26.26974487,   1.        ]),\n",
        " array([ 21.23941422,   0.12333333]),\n",
        " array([ 21.20238304,   0.        ]),\n",
        " array([ 21.17001915,   0.        ]),\n",
        " array([ 21.23226357,   0.        ]),\n",
        " array([ 21.30198479,   0.        ]),\n",
        " array([ 21.28350449,   0.        ]),\n",
        " array([ 21.27920341,   0.        ]),\n",
        " array([ 21.29035187,   0.        ]),\n",
        " array([ 21.4286232,   0.       ]),\n",
        " array([ 21.25490189,   0.        ]),\n",
        " array([ 21.36705208,   0.        ]),\n",
        " array([ 21.36876106,   0.        ]),\n",
        " array([ 21.40858269,   1.        ]),\n",
        " array([ 21.40928841,   1.        ]),\n",
        " array([ 21.39743614,   1.        ]),\n",
        " array([ 21.33574486,   1.        ]),\n",
        " array([ 21.33553123,   0.50333333]),\n",
        " array([ 21.33073997,   0.        ]),\n",
        " array([ 21.40700531,   0.        ]),\n",
        " array([ 21.24658585,   0.        ]),\n",
        " array([ 21.22978783,   0.        ]),\n",
        " array([ 253.6990509,    0.       ]),\n",
        " array([ 262.93502808,    0.        ]),\n",
        " array([ 166.00616455,    0.95444444]),\n",
        " array([ 22.09083366,   1.        ]),\n",
        " array([ 22.15472412,   1.        ]),\n",
        " array([ 22.19035149,   1.        ]),\n",
        " array([ 22.16149521,   1.        ]),\n",
        " array([ 22.16726112,   1.        ]),\n",
        " array([ 22.16638947,   1.        ]),\n",
        " array([ 22.18548203,   1.        ]),\n",
        " array([ 22.0857029,   1.       ]),\n",
        " array([ 22.08946419,   1.        ]),\n",
        " array([ 23.57380486,   1.        ]),\n",
        " array([ 21.75922775,   0.        ]),\n",
        " array([ 21.61803436,   0.        ]),\n",
        " array([ 21.70441437,   0.        ]),\n",
        " array([ 21.75007248,   0.        ]),\n",
        " array([ 21.67126656,   0.        ]),\n",
        " array([ 21.70093346,   0.        ]),\n",
        " array([ 21.62373352,   0.        ]),\n",
        " array([ 25.63266754,   0.        ]),\n",
        " array([ 21.77853012,   0.        ]),\n",
        " array([ 35.06658173,   0.        ]),\n",
        " array([ 21.66779518,   0.        ]),\n",
        " array([ 75.9311142,   0.       ]),\n",
        " array([ 108.80015564,    0.        ]),\n",
        " array([ 231.33558655,    0.        ]),\n",
        " array([ 229.82475281,    0.        ]),\n",
        " array([ 230.29141235,    0.        ]),\n",
        " array([ 229.87208557,    0.99      ]),\n",
        " array([ 229.61779785,    1.        ]),\n",
        " array([ 230.15875244,    1.        ]),\n",
        " array([ 230.13833618,    1.        ]),\n",
        " array([ 21.6571846,   1.       ]),\n",
        " array([ 21.75744438,   1.        ]),\n",
        " array([ 21.74774361,   1.        ]),\n",
        " array([ 21.6364193,   1.       ]),\n",
        " array([ 21.64781761,   1.        ]),\n",
        " array([ 21.71084404,   1.        ]),\n",
        " array([ 21.75434113,   1.        ]),\n",
        " array([ 21.7878437,   1.       ]),\n",
        " array([ 21.73032951,   1.        ]),\n",
        " array([ 21.73192406,   0.        ]),\n",
        " array([ 21.70685196,   0.        ]),\n",
        " array([ 21.62264633,   0.        ]),\n",
        " array([ 21.63988304,   0.        ]),\n",
        " array([ 21.53935051,   0.        ]),\n",
        " array([ 21.50981522,   0.        ]),\n",
        " array([ 75.91898346,   0.        ]),\n",
        " array([ 75.24848175,   0.        ]),\n",
        " array([ 78.53786469,   0.        ]),\n",
        " array([ 75.94499207,   0.        ]),\n",
        " array([ 75.29767609,   0.        ]),\n",
        " array([ 74.23097992,   0.        ]),\n",
        " array([ 74.37078857,   0.        ]),\n",
        " array([ 230.76679993,    0.        ]),\n",
        " array([ 228.18696594,    1.        ]),\n",
        " array([ 228.33233643,    0.        ]),\n",
        " array([ 228.75062561,    0.62      ]),\n",
        " array([ 228.85978699,    1.        ]),\n",
        " array([ 21.6131649,   1.       ]),\n",
        " array([ 21.60619545,   1.        ]),\n",
        " array([ 21.5022831,   1.       ]),\n",
        " array([ 21.50951576,   1.        ]),\n",
        " array([ 21.43663788,   1.        ]),\n",
        " array([ 21.48855972,   1.        ]),\n",
        " array([ 21.46471405,   1.        ]),\n",
        " array([ 21.51707649,   1.        ]),\n",
        " array([ 21.38407135,   1.        ]),\n",
        " array([ 21.4268074,   1.       ]),\n",
        " array([ 74.5687561,   1.       ]),\n",
        " array([ 74.60043335,   1.        ]),\n",
        " array([ 230.60194397,    1.        ]),\n",
        " array([ 230.19520569,    1.        ]),\n",
        " array([ 230.21115112,    1.        ]),\n",
        " array([ 230.38284302,    1.        ]),\n",
        " array([ 230.51739502,    1.        ]),\n",
        " array([ 229.66807556,    1.        ]),\n",
        " array([ 229.64666748,    1.        ]),\n",
        " array([ 229.88909912,    1.        ]),\n",
        " array([ 230.38423157,    1.        ]),\n",
        " array([ 230.76794434,    1.        ]),\n",
        " array([ 230.74743652,    1.        ]),\n",
        " array([ 232.88386536,    1.        ]),\n",
        " array([ 21.60092735,   1.        ]),\n",
        " array([ 21.48082733,   1.        ]),\n",
        " array([ 21.56507301,   1.        ]),\n",
        " array([ 21.61437798,   1.        ]),\n",
        " array([ 21.59951019,   1.        ]),\n",
        " array([ 21.61563301,   1.        ]),\n",
        " array([ 21.65610886,   1.        ]),\n",
        " array([ 21.62597656,   1.        ]),\n",
        " array([ 21.66959572,   1.        ]),\n",
        " array([ 21.67154503,   1.        ]),\n",
        " array([ 21.61554718,   1.        ]),\n",
        " array([ 21.64134026,   1.        ]),\n",
        " array([ 21.52361298,   1.        ]),\n",
        " array([ 21.45335579,   1.        ]),\n",
        " array([ 21.58327293,   1.        ]),\n",
        " array([ 21.57238579,   1.        ]),\n",
        " array([ 21.60247421,   1.        ]),\n",
        " array([ 21.54087067,   1.        ]),\n",
        " array([ 21.61348915,   1.        ]),\n",
        " array([ 21.54175568,   1.        ]),\n",
        " array([ 228.74371338,    1.        ]),\n",
        " array([ 228.71240234,    1.        ]),\n",
        " array([ 228.7419281,    1.       ]),\n",
        " array([ 229.67158508,    1.        ]),\n",
        " array([ 228.57977295,    1.        ]),\n",
        " array([ 228.72174072,    1.        ]),\n",
        " array([ 229.58665466,    1.        ]),\n",
        " array([ 229.36865234,    1.        ]),\n",
        " array([ 229.45843506,    1.        ]),\n",
        " array([ 21.47901535,   1.        ]),\n",
        " array([ 21.52178764,   1.        ]),\n",
        " array([ 21.61495399,   1.        ]),\n",
        " array([ 21.60949898,   1.        ]),\n",
        " array([ 21.59256363,   1.        ]),\n",
        " array([ 21.48402786,   1.        ]),\n",
        " array([ 21.48901176,   1.        ]),\n",
        " array([ 21.48551941,   1.        ]),\n",
        " array([ 21.48845291,   1.        ]),\n",
        " array([ 21.47227478,   1.        ]),\n",
        " array([ 55.24254608,   1.        ]),\n",
        " array([ 219.69342041,    1.        ]),\n",
        " array([ 21.629179,   1.      ]),\n",
        " array([ 236.14051819,    1.        ]),\n",
        " array([ 31.01781654,   1.        ]),\n",
        " array([ 21.21141052,   1.        ]),\n",
        " array([ 21.24777985,   1.        ]),\n",
        " array([ 230.81124878,    1.        ]),\n",
        " array([ 386.5385437,    1.       ]),\n",
        " array([ 228.89273071,    1.        ]),\n",
        " array([ 228.67597961,    1.        ]),\n",
        " array([ 21.30770493,   1.        ]),\n",
        " array([ 21.19800568,   1.        ]),\n",
        " array([ 21.17341995,   1.        ]),\n",
        " array([ 21.23078728,   1.        ]),\n",
        " array([ 21.22214127,   1.        ]),\n",
        " array([ 21.22925758,   1.        ]),\n",
        " array([ 21.15594101,   1.        ]),\n",
        " array([ 21.07541466,   1.        ]),\n",
        " array([ 21.21352196,   0.        ]),\n",
        " array([ 21.20345306,   0.        ]),\n",
        " array([ 21.15426636,   0.        ]),\n",
        " array([ 21.15929031,   0.        ]),\n",
        " array([ 21.15426445,   0.        ]),\n",
        " array([ 21.30426407,   0.        ]),\n",
        " array([ 21.3111763,   0.       ]),\n",
        " array([ 21.17077446,   0.43777778]),\n",
        " array([ 29.91001511,   1.        ]),\n",
        " array([ 218.02192688,    1.        ]),\n",
        " array([ 230.98789978,    1.        ]),\n",
        " array([ 229.64691162,    1.        ]),\n",
        " array([ 229.77020264,    1.        ]),\n",
        " array([ 230.38560486,    1.        ]),\n",
        " array([ 112.51856232,    1.        ]),\n",
        " array([ 21.99254417,   1.        ]),\n",
        " array([ 22.05646896,   1.        ]),\n",
        " array([ 22.02035332,   1.        ]),\n",
        " array([ 22.00536156,   1.        ]),\n",
        " array([ 21.98344994,   1.        ]),\n",
        " array([ 21.5287571,   1.       ]),\n",
        " array([ 21.53606033,   1.        ]),\n",
        " array([ 21.46011734,   1.        ]),\n",
        " array([ 21.42105103,   1.        ]),\n",
        " array([ 21.53881073,   1.        ]),\n",
        " array([ 21.55948067,   1.        ]),\n",
        " array([ 28.34037781,   1.        ]),\n",
        " array([ 230.6408844 ,    0.87666667]),\n",
        " array([ 28.97639847,   0.        ]),\n",
        " array([ 21.13712502,   0.96666667]),\n",
        " array([ 21.22018433,   1.        ]),\n",
        " array([ 21.24809837,   1.        ]),\n",
        " array([ 21.24419785,   1.        ]),\n",
        " array([ 21.10873413,   1.        ]),\n",
        " array([ 21.25690269,   1.        ]),\n",
        " array([ 21.19478035,   1.        ]),\n",
        " array([ 21.29607582,   0.        ]),\n",
        " array([ 21.30871964,   0.        ]),\n",
        " array([ 21.34930992,   0.        ]),\n",
        " array([ 21.25145912,   0.        ]),\n",
        " array([ 21.30878448,   0.        ]),\n",
        " array([ 230.65760803,    1.        ]),\n",
        " array([ 230.39265442,    1.        ]),\n",
        " array([ 231.00309753,    1.        ]),\n",
        " array([ 230.13719177,    1.        ]),\n",
        " array([ 230.06027222,    1.        ]),\n",
        " array([ 21.22185516,   1.        ]),\n",
        " array([ 21.23726654,   1.        ]),\n",
        " array([ 21.24146271,   1.        ]),\n",
        " array([ 21.18806267,   1.        ]),\n",
        " array([ 21.18654823,   1.        ]),\n",
        " array([ 21.21252823,   1.        ]),\n",
        " array([ 21.21710205,   1.        ]),\n",
        " array([ 21.22400665,   1.        ]),\n",
        " array([ 21.21074295,   1.        ]),\n",
        " array([ 21.21798325,   1.        ]),\n",
        " array([ 21.16312981,   1.        ]),\n",
        " array([ 20.99022484,   1.        ]),\n",
        " array([ 21.1073761,   1.       ]),\n",
        " array([ 21.07403183,   1.        ]),\n",
        " array([ 21.13502121,   1.        ]),\n",
        " array([ 22.72906303,   1.        ]),\n",
        " array([ 21.61774445,   1.        ]),\n",
        " array([ 21.59986305,   1.        ]),\n",
        " array([ 21.65269089,   1.        ]),\n",
        " array([ 21.64742851,   1.        ]),\n",
        " array([ 21.63783264,   1.        ]),\n",
        " array([ 21.66495895,   1.        ]),\n",
        " array([ 21.55474663,   1.        ]),\n",
        " array([ 21.61997032,   1.        ]),\n",
        " array([ 21.5971508,   1.       ]),\n",
        " array([ 328.52825928,    1.        ]),\n",
        " array([ 133.49488831,    1.        ]),\n",
        " array([ 232.26791382,    1.        ]),\n",
        " array([ 231.50975037,    1.        ]),\n",
        " array([ 231.27723694,    1.        ]),\n",
        " array([ 230.21244812,    1.        ]),\n",
        " array([ 85.78289795,   1.        ]),\n",
        " array([ 68.40246582,   1.        ]),\n",
        " array([ 21.48304367,   1.        ]),\n",
        " array([ 21.50470734,   1.        ]),\n",
        " array([ 21.45294189,   1.        ]),\n",
        " array([ 21.47214127,   1.        ]),\n",
        " array([ 21.49565125,   1.        ]),\n",
        " array([ 21.54298973,   1.        ]),\n",
        " array([ 21.54966545,   1.        ]),\n",
        " array([ 21.53881454,   1.        ]),\n",
        " array([ 21.59960938,   1.        ]),\n",
        " array([ 21.4949646,   1.       ]),\n",
        " array([ 21.44328308,   1.        ]),\n",
        " array([ 21.43491364,   1.        ]),\n",
        " array([ 21.47849846,   1.        ]),\n",
        " array([ 21.41672707,   1.        ]),\n",
        " array([ 21.66386414,   1.        ]),\n",
        " array([ 21.67538452,   1.        ]),\n",
        " array([ 21.59428787,   1.        ]),\n",
        " array([ 21.60058975,   1.        ]),\n",
        " array([ 21.53880119,   1.        ]),\n",
        " array([ 103.41160583,    1.        ]),\n",
        " array([ 230.55267334,    1.        ]),\n",
        " array([ 229.8861084,    1.       ]),\n",
        " array([ 230.40885925,    0.55888889]),\n",
        " array([ 230.3712616,    0.       ]),\n",
        " array([ 715.35284424,    0.        ]),\n",
        " array([  2.95401733e+02,   9.11111111e-02]),\n",
        " array([ 252.26036072,    1.        ]),\n",
        " array([ 230.53666687,    1.        ]),\n",
        " array([ 230.10623169,    1.        ]),\n",
        " array([ 230.48374939,    1.        ]),\n",
        " array([ 230.91043091,    1.        ]),\n",
        " array([ 21.63096809,   1.        ]),\n",
        " array([ 21.61176872,   1.        ]),\n",
        " array([ 21.5723896,   1.       ]),\n",
        " array([ 21.6069355,   1.       ]),\n",
        " array([ 21.64830971,   1.        ]),\n",
        " array([ 21.61105919,   1.        ]),\n",
        " array([ 21.59650803,   1.        ]),\n",
        " array([ 21.60435486,   1.        ]),\n",
        " array([ 21.58275986,   1.        ]),\n",
        " array([ 21.54665756,   1.        ]),\n",
        " array([ 21.56485748,   1.        ]),\n",
        " array([ 22.45909691,   1.        ]),\n",
        " array([ 61.98805618,   1.        ]),\n",
        " array([ 21.95363998,   1.        ]),\n",
        " array([ 21.53527832,   1.        ]),\n",
        " array([ 21.54271507,   0.94666667]),\n",
        " array([ 21.55363846,   0.        ]),\n",
        " array([ 21.68454933,   0.        ]),\n",
        " array([ 21.59300041,   0.        ]),\n",
        " array([ 74.28164673,   0.        ]),\n",
        " array([ 75.08889008,   0.        ]),\n",
        " array([ 75.01513672,   0.69666667]),\n",
        " array([ 44.13980484,   1.        ]),\n",
        " array([ 27.31869507,   1.        ]),\n",
        " array([ 23.61765099,   1.        ]),\n",
        " array([ 217.81588745,    1.        ]),\n",
        " array([ 232.30128479,    1.        ]),\n",
        " array([ 232.56051636,    1.        ]),\n",
        " array([ 236.65629578,    1.        ]),\n",
        " array([ 21.53123093,   1.        ]),\n",
        " array([ 21.55808449,   1.        ]),\n",
        " array([ 21.57686806,   1.        ]),\n",
        " array([ 21.56630135,   1.        ]),\n",
        " array([ 21.56099319,   1.        ]),\n",
        " array([ 21.54751015,   1.        ]),\n",
        " array([ 21.5103302,   1.       ]),\n",
        " array([ 21.61345863,   1.        ]),\n",
        " array([ 21.51054764,   1.        ]),\n",
        " array([ 21.51026917,   0.40555556]),\n",
        " array([ 21.49555206,   0.        ]),\n",
        " array([ 21.41991997,   0.        ]),\n",
        " array([ 21.38182259,   0.        ]),\n",
        " array([ 21.64403725,   0.        ]),\n",
        " array([ 74.3815155,   0.       ]),\n",
        " array([ 374.51730347,    0.        ]),\n",
        " array([ 21.56364632,   0.        ]),\n",
        " array([ 21.7118206,   0.       ]),\n",
        " array([ 21.63683891,   0.        ]),\n",
        " array([ 607.91369629,    0.        ]),\n",
        " array([ 231.81610107,    1.        ]),\n",
        " array([ 229.63067627,    1.        ]),\n",
        " array([ 229.82429504,    1.        ]),\n",
        " array([ 229.34725952,    1.        ]),\n",
        " array([ 229.70523071,    1.        ]),\n",
        " array([ 230.10806274,    1.        ]),\n",
        " array([ 229.70109558,    1.        ]),\n",
        " array([ 229.59313965,    1.        ]),\n",
        " array([ 285.29449463,    1.        ]),\n",
        " array([ 35.31177902,   1.        ]),\n",
        " array([ 21.58505249,   1.        ]),\n",
        " array([ 21.64443588,   1.        ]),\n",
        " array([ 21.62597084,   1.        ]),\n",
        " array([ 21.68030739,   1.        ]),\n",
        " array([ 21.70438957,   1.        ]),\n",
        " array([ 21.67469788,   1.        ]),\n",
        " array([ 21.63952065,   1.        ]),\n",
        " array([ 21.63240623,   1.        ]),\n",
        " array([ 21.67489243,   1.        ]),\n",
        " array([ 21.64215851,   1.        ]),\n",
        " array([ 21.36732292,   1.        ]),\n",
        " array([ 21.53239632,   1.        ]),\n",
        " array([ 21.50415993,   1.        ]),\n",
        " array([ 21.61651039,   1.        ]),\n",
        " array([ 21.66269302,   1.        ]),\n",
        " array([ 21.58765793,   1.        ]),\n",
        " array([ 21.64141273,   0.37111111]),\n",
        " array([ 21.58628082,   1.        ]),\n",
        " array([ 21.51989555,   1.        ]),\n",
        " array([ 21.51012611,   1.        ]),\n",
        " array([ 21.4658165,   1.       ]),\n",
        " array([ 21.62124062,   1.        ]),\n",
        " array([ 21.55561066,   1.        ]),\n",
        " array([ 231.61343384,    1.        ]),\n",
        " array([ 230.7134552,    1.       ]),\n",
        " array([ 272.52954102,    1.        ]),\n",
        " array([ 21.51774788,   1.        ]),\n",
        " array([ 21.52954674,   1.        ]),\n",
        " array([ 21.53727913,   1.        ]),\n",
        " array([ 21.57808876,   1.        ]),\n",
        " array([ 21.57609558,   1.        ]),\n",
        " array([ 21.67414474,   1.        ]),\n",
        " array([ 21.70785522,   1.        ]),\n",
        " array([ 21.73185349,   1.        ]),\n",
        " array([ 21.58858109,   1.        ]),\n",
        " array([ 21.59625244,   1.        ]),\n",
        " array([ 21.62933731,   1.        ]),\n",
        " array([ 21.57822227,   1.        ]),\n",
        " array([ 21.47655869,   1.        ]),\n",
        " array([ 21.48801422,   1.        ]),\n",
        " array([ 21.49182129,   1.        ]),\n",
        " array([ 21.50701904,   1.        ]),\n",
        " array([ 21.50731087,   1.        ]),\n",
        " array([ 21.61655807,   0.        ]),\n",
        " array([ 21.63456535,   0.        ]),\n",
        " array([ 21.59761047,   0.        ]),\n",
        " array([ 21.59051514,   0.        ]),\n",
        " array([ 21.57690239,   0.        ]),\n",
        " array([ 21.45154953,   1.        ]),\n",
        " array([ 21.52257538,   1.        ]),\n",
        " array([ 21.46772003,   0.16777778]),\n",
        " array([ 21.58936119,   0.        ]),\n",
        " array([ 21.6370182 ,   0.85888889]),\n",
        " array([ 21.63702774,   1.        ]),\n",
        " array([ 21.53512764,   1.        ]),\n",
        " array([ 21.66902161,   1.        ]),\n",
        " array([ 21.7062645,   1.       ]),\n",
        " array([ 21.09949684,   1.        ]),\n",
        " array([ 21.27187157,   1.        ]),\n",
        " array([ 21.25442886,   0.        ]),\n",
        " array([ 232.00718689,    1.        ]),\n",
        " array([ 230.61920166,    1.        ]),\n",
        " array([ 230.32565308,    1.        ]),\n",
        " array([ 234.3656311,    1.       ]),\n",
        " array([ 215.65248108,    1.        ]),\n",
        " array([ 21.82400513,   1.        ]),\n",
        " array([ 21.59628677,   1.        ]),\n",
        " array([ 21.61385918,   1.        ]),\n",
        " array([ 21.63829422,   1.        ]),\n",
        " array([ 21.57726097,   1.        ]),\n",
        " array([ 21.63948631,   1.        ]),\n",
        " array([ 21.86408043,   1.        ]),\n",
        " array([ 21.52843666,   1.        ]),\n",
        " array([ 21.49782562,   1.        ]),\n",
        " array([ 21.51290512,   0.58777778]),\n",
        " array([ 25.58546448,   0.        ]),\n",
        " array([ 21.59798431,   0.        ]),\n",
        " array([ 21.52649689,   0.        ]),\n",
        " array([ 21.63445282,   0.        ]),\n",
        " array([ 21.66376305,   0.        ]),\n",
        " array([ 186.69772339,    0.        ]),\n",
        " array([ 231.83180237,    0.        ]),\n",
        " array([ 230.6975708,    0.       ]),\n",
        " array([ 230.24847412,    0.        ]),\n",
        " array([ 21.19531059,   0.        ]),\n",
        " array([ 21.27419853,   0.        ]),\n",
        " array([ 230.31274414,    0.        ]),\n",
        " array([ 230.03775024,    0.        ]),\n",
        " array([ 229.9974823,    1.       ]),\n",
        " array([ 21.36119652,   1.        ]),\n",
        " array([ 21.35183144,   1.        ]),\n",
        " array([ 21.6259346,   1.       ]),\n",
        " array([ 21.6176548,   1.       ]),\n",
        " array([ 21.41025162,   1.        ]),\n",
        " array([ 21.45585251,   1.        ]),\n",
        " array([ 21.62451744,   1.        ]),\n",
        " array([ 21.55019188,   1.        ]),\n",
        " array([ 21.57375908,   1.        ]),\n",
        " array([ 21.56698608,   1.        ]),\n",
        " array([ 21.39317513,   1.        ]),\n",
        " array([ 21.51581192,   1.        ]),\n",
        " array([ 21.5007267,   1.       ]),\n",
        " array([ 21.50576591,   1.        ]),\n",
        " array([ 21.4394474,   1.       ]),\n",
        " array([ 21.6491127,   1.       ]),\n",
        " array([ 21.53787804,   1.        ]),\n",
        " array([ 21.52928352,   1.        ]),\n",
        " array([ 21.4583168,   1.       ]),\n",
        " array([ 230.74003601,    1.        ]),\n",
        " array([ 229.80879211,    1.        ]),\n",
        " array([ 229.07397461,    1.        ]),\n",
        " array([ 21.48983383,   1.        ]),\n",
        " array([ 21.3934803,   1.       ]),\n",
        " array([ 21.51198387,   0.        ]),\n",
        " array([ 21.58494949,   1.        ]),\n",
        " array([ 21.63320351,   1.        ]),\n",
        " array([ 21.65540123,   1.        ]),\n",
        " array([ 250.43406677,    1.        ]),\n",
        " array([ 230.80867004,    1.        ]),\n",
        " array([ 230.22949219,    1.        ]),\n",
        " array([ 229.44094849,    1.        ]),\n",
        " array([ 229.43507385,    1.        ]),\n",
        " array([ 21.57857513,   1.        ]),\n",
        " array([ 21.5184269,   1.       ]),\n",
        " array([ 21.5514679,   1.       ]),\n",
        " array([ 21.56601906,   1.        ]),\n",
        " array([ 21.58376312,   1.        ]),\n",
        " array([ 21.59156036,   1.        ]),\n",
        " array([ 21.490942,   1.      ]),\n",
        " array([ 21.59385872,   1.        ]),\n",
        " array([ 21.60025215,   1.        ]),\n",
        " array([ 21.64053154,   1.        ]),\n",
        " array([ 21.63044739,   1.        ]),\n",
        " array([ 21.58856964,   1.        ]),\n",
        " array([ 21.5584774,   1.       ]),\n",
        " array([ 21.68921852,   1.        ]),\n",
        " array([ 21.45961761,   1.        ]),\n",
        " array([ 21.50114822,   0.        ]),\n",
        " array([ 21.47187424,   0.        ]),\n",
        " array([ 21.5333786,   1.       ]),\n",
        " array([ 21.50881767,   1.        ]),\n",
        " array([ 21.49464035,   1.        ]),\n",
        " array([ 21.51364517,   1.        ]),\n",
        " array([ 21.59251022,   1.        ]),\n",
        " array([ 21.52563286,   1.        ]),\n",
        " array([ 21.46106911,   1.        ]),\n",
        " array([ 21.43520546,   1.        ]),\n",
        " array([ 21.46188354,   1.        ]),\n",
        " array([ 21.57595253,   1.        ]),\n",
        " array([ 21.51211548,   1.        ]),\n",
        " array([ 60.06962967,   1.        ]),\n",
        " array([ 230.29499817,    1.        ]),\n",
        " array([ 228.87507629,    1.        ]),\n",
        " array([ 229.21046448,    1.        ]),\n",
        " array([ 21.47766304,   1.        ]),\n",
        " array([ 21.53617668,   1.        ]),\n",
        " array([ 21.5118084,   1.       ]),\n",
        " array([ 21.50113106,   1.        ]),\n",
        " array([ 21.62564659,   1.        ]),\n",
        " array([ 21.51794243,   1.        ]),\n",
        " array([ 21.53808022,   1.        ]),\n",
        " array([ 21.5347805,   1.       ]),\n",
        " array([ 21.51600075,   1.        ]),\n",
        " array([ 21.55956459,   1.        ]),\n",
        " array([ 21.52572441,   1.        ]),\n",
        " array([ 21.49523735,   1.        ]),\n",
        " array([ 228.75985718,    1.        ]),\n",
        " array([ 231.00727844,    1.        ]),\n",
        " array([ 230.43215942,    0.        ]),\n",
        " array([ 230.61212158,    0.        ]),\n",
        " array([ 231.82038879,    0.        ]),\n",
        " array([ 230.41716003,    0.        ]),\n",
        " array([ 29.66947937,   0.        ]),\n",
        " array([ 153.295578,    0.      ]),\n",
        " array([ 355.18453979,    0.        ]),\n",
        " array([ 342.9604187,    0.       ]),\n",
        " array([ 342.43218994,    0.        ]),\n",
        " array([ 231.08854675,    0.        ]),\n",
        " array([ 230.35769653,    0.        ]),\n",
        " array([ 242.62728882,    0.        ]),\n",
        " array([ 21.43494987,   0.        ]),\n",
        " array([ 231.06832886,    1.        ]),\n",
        " array([ 231.5579834,    1.       ]),\n",
        " array([ 231.17996216,    1.        ]),\n",
        " array([ 231.69972229,    1.        ]),\n",
        " array([ 231.70204163,    1.        ]),\n",
        " array([ 231.62158203,    1.        ]),\n",
        " array([ 198.61482239,    1.        ]),\n",
        " array([ 21.52550697,   1.        ]),\n",
        " array([ 21.64649773,   1.        ]),\n",
        " array([ 21.66695023,   1.        ]),\n",
        " array([ 21.54109001,   1.        ]),\n",
        " array([ 21.62921524,   1.        ]),\n",
        " array([ 21.54532242,   1.        ]),\n",
        " array([ 21.50338936,   1.        ]),\n",
        " array([ 21.49469185,   1.        ]),\n",
        " array([ 21.71084213,   0.        ]),\n",
        " array([ 21.44833183,   0.        ]),\n",
        " array([ 21.61497116,   0.        ]),\n",
        " array([ 21.61881638,   0.        ]),\n",
        " array([ 21.65365791,   0.        ]),\n",
        " array([ 231.22454834,    0.        ]),\n",
        " array([ 0.,  0.]),\n",
        " array([ 0.,  0.]),\n",
        " array([ 0.,  0.]),\n",
        " array([ 0.,  0.]),\n",
        " array([ 0.,  0.]),\n",
        " array([ 0.,  0.]),\n",
        " array([ 0.,  1.]),\n",
        " array([ 0.,  1.]),\n",
        " array([ 0.,  1.]),\n",
        " array([ 0.,  1.]),\n",
        " array([ 0.,  1.]),\n",
        " array([ 0.,  1.]),\n",
        " array([ 0.,  1.]),\n",
        " array([ 0.,  1.]),\n",
        " array([ 0.,  1.]),\n",
        " array([ 0.,  1.]),\n",
        " array([ 0.,  1.]),\n",
        " array([ 0.,  1.]),\n",
        " array([ 0.,  1.]),\n",
        " array([ 0.,  1.]),\n",
        " array([ 0.,  1.]),\n",
        " ...]"
       ]
      }
     ],
     "prompt_number": 113
    },
    {
     "cell_type": "code",
     "collapsed": false,
     "input": [],
     "language": "python",
     "metadata": {},
     "outputs": []
    }
   ],
   "metadata": {}
  }
 ]
}