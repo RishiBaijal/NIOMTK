{
 "metadata": {
  "name": "",
  "signature": "sha256:61535e92c6fca0e288e2a51f772da9730db97f534bee538a1164c5eaf17be553"
 },
 "nbformat": 3,
 "nbformat_minor": 0,
 "worksheets": [
  {
   "cells": [
    {
     "cell_type": "code",
     "collapsed": false,
     "input": [
      "import numpy as np\n",
      "import pandas as pd\n",
      "from numpy import *\n",
      "from pandas import *\n",
      "import matplotlib\n",
      "import os\n",
      "import os.path\n",
      "from os import *\n",
      "from os.path import *\n",
      "import matplotlib.pyplot as plt\n",
      "from itertools import chain\n",
      "\n",
      "%matplotlib inline"
     ],
     "language": "python",
     "metadata": {},
     "outputs": [],
     "prompt_number": 1
    },
    {
     "cell_type": "markdown",
     "metadata": {},
     "source": [
      "Ground truth values\n",
      "----------------------\n",
      "\n",
      "Here we will get the groundd truth values."
     ]
    },
    {
     "cell_type": "code",
     "collapsed": false,
     "input": [
      "index = pd.DatetimeIndex(start=\"30-11-2012\", periods = 45*86400, freq=\"1s\")"
     ],
     "language": "python",
     "metadata": {},
     "outputs": [],
     "prompt_number": 2
    },
    {
     "cell_type": "code",
     "collapsed": false,
     "input": [
      "df = pd.read_csv('/Users/rishi/Documents/Master_folder/IIITD/6th_semester/BTP/NIOMTK/02_occupancy_csv/02_winter.csv')"
     ],
     "language": "python",
     "metadata": {},
     "outputs": [],
     "prompt_number": 3
    },
    {
     "cell_type": "code",
     "collapsed": false,
     "input": [
      "df.head()"
     ],
     "language": "python",
     "metadata": {},
     "outputs": [
      {
       "html": [
        "<div style=\"max-height:1000px;max-width:1500px;overflow:auto;\">\n",
        "<table border=\"1\" class=\"dataframe\">\n",
        "  <thead>\n",
        "    <tr style=\"text-align: right;\">\n",
        "      <th></th>\n",
        "      <th>Unnamed: 0</th>\n",
        "      <th>'00:00:00'</th>\n",
        "      <th>'00:00:01'</th>\n",
        "      <th>'00:00:02'</th>\n",
        "      <th>'00:00:03'</th>\n",
        "      <th>'00:00:04'</th>\n",
        "      <th>'00:00:05'</th>\n",
        "      <th>'00:00:06'</th>\n",
        "      <th>'00:00:07'</th>\n",
        "      <th>'00:00:08'</th>\n",
        "      <th>...</th>\n",
        "      <th>'23:59:50'</th>\n",
        "      <th>'23:59:51'</th>\n",
        "      <th>'23:59:52'</th>\n",
        "      <th>'23:59:53'</th>\n",
        "      <th>'23:59:54'</th>\n",
        "      <th>'23:59:55'</th>\n",
        "      <th>'23:59:56'</th>\n",
        "      <th>'23:59:57'</th>\n",
        "      <th>'23:59:58'</th>\n",
        "      <th>'23:59:59'</th>\n",
        "    </tr>\n",
        "  </thead>\n",
        "  <tbody>\n",
        "    <tr>\n",
        "      <th>0</th>\n",
        "      <td> 30-Nov-2012</td>\n",
        "      <td> 1</td>\n",
        "      <td> 1</td>\n",
        "      <td> 1</td>\n",
        "      <td> 1</td>\n",
        "      <td> 1</td>\n",
        "      <td> 1</td>\n",
        "      <td> 1</td>\n",
        "      <td> 1</td>\n",
        "      <td> 1</td>\n",
        "      <td>...</td>\n",
        "      <td> 1</td>\n",
        "      <td> 1</td>\n",
        "      <td> 1</td>\n",
        "      <td> 1</td>\n",
        "      <td> 1</td>\n",
        "      <td> 1</td>\n",
        "      <td> 1</td>\n",
        "      <td> 1</td>\n",
        "      <td> 1</td>\n",
        "      <td> 1</td>\n",
        "    </tr>\n",
        "    <tr>\n",
        "      <th>1</th>\n",
        "      <td> 01-Dec-2012</td>\n",
        "      <td> 1</td>\n",
        "      <td> 1</td>\n",
        "      <td> 1</td>\n",
        "      <td> 1</td>\n",
        "      <td> 1</td>\n",
        "      <td> 1</td>\n",
        "      <td> 1</td>\n",
        "      <td> 1</td>\n",
        "      <td> 1</td>\n",
        "      <td>...</td>\n",
        "      <td> 1</td>\n",
        "      <td> 1</td>\n",
        "      <td> 1</td>\n",
        "      <td> 1</td>\n",
        "      <td> 1</td>\n",
        "      <td> 1</td>\n",
        "      <td> 1</td>\n",
        "      <td> 1</td>\n",
        "      <td> 1</td>\n",
        "      <td> 1</td>\n",
        "    </tr>\n",
        "    <tr>\n",
        "      <th>2</th>\n",
        "      <td> 02-Dec-2012</td>\n",
        "      <td> 1</td>\n",
        "      <td> 1</td>\n",
        "      <td> 1</td>\n",
        "      <td> 1</td>\n",
        "      <td> 1</td>\n",
        "      <td> 1</td>\n",
        "      <td> 1</td>\n",
        "      <td> 1</td>\n",
        "      <td> 1</td>\n",
        "      <td>...</td>\n",
        "      <td> 1</td>\n",
        "      <td> 1</td>\n",
        "      <td> 1</td>\n",
        "      <td> 1</td>\n",
        "      <td> 1</td>\n",
        "      <td> 1</td>\n",
        "      <td> 1</td>\n",
        "      <td> 1</td>\n",
        "      <td> 1</td>\n",
        "      <td> 1</td>\n",
        "    </tr>\n",
        "    <tr>\n",
        "      <th>3</th>\n",
        "      <td> 03-Dec-2012</td>\n",
        "      <td> 1</td>\n",
        "      <td> 1</td>\n",
        "      <td> 1</td>\n",
        "      <td> 1</td>\n",
        "      <td> 1</td>\n",
        "      <td> 1</td>\n",
        "      <td> 1</td>\n",
        "      <td> 1</td>\n",
        "      <td> 1</td>\n",
        "      <td>...</td>\n",
        "      <td> 1</td>\n",
        "      <td> 1</td>\n",
        "      <td> 1</td>\n",
        "      <td> 1</td>\n",
        "      <td> 1</td>\n",
        "      <td> 1</td>\n",
        "      <td> 1</td>\n",
        "      <td> 1</td>\n",
        "      <td> 1</td>\n",
        "      <td> 1</td>\n",
        "    </tr>\n",
        "    <tr>\n",
        "      <th>4</th>\n",
        "      <td> 04-Dec-2012</td>\n",
        "      <td> 1</td>\n",
        "      <td> 1</td>\n",
        "      <td> 1</td>\n",
        "      <td> 1</td>\n",
        "      <td> 1</td>\n",
        "      <td> 1</td>\n",
        "      <td> 1</td>\n",
        "      <td> 1</td>\n",
        "      <td> 1</td>\n",
        "      <td>...</td>\n",
        "      <td> 1</td>\n",
        "      <td> 1</td>\n",
        "      <td> 1</td>\n",
        "      <td> 1</td>\n",
        "      <td> 1</td>\n",
        "      <td> 1</td>\n",
        "      <td> 1</td>\n",
        "      <td> 1</td>\n",
        "      <td> 1</td>\n",
        "      <td> 1</td>\n",
        "    </tr>\n",
        "  </tbody>\n",
        "</table>\n",
        "<p>5 rows \u00d7 86401 columns</p>\n",
        "</div>"
       ],
       "metadata": {},
       "output_type": "pyout",
       "prompt_number": 4,
       "text": [
        "    Unnamed: 0  '00:00:00'  '00:00:01'  '00:00:02'  '00:00:03'  '00:00:04'  \\\n",
        "0  30-Nov-2012           1           1           1           1           1   \n",
        "1  01-Dec-2012           1           1           1           1           1   \n",
        "2  02-Dec-2012           1           1           1           1           1   \n",
        "3  03-Dec-2012           1           1           1           1           1   \n",
        "4  04-Dec-2012           1           1           1           1           1   \n",
        "\n",
        "   '00:00:05'  '00:00:06'  '00:00:07'  '00:00:08'     ...      '23:59:50'  \\\n",
        "0           1           1           1           1     ...               1   \n",
        "1           1           1           1           1     ...               1   \n",
        "2           1           1           1           1     ...               1   \n",
        "3           1           1           1           1     ...               1   \n",
        "4           1           1           1           1     ...               1   \n",
        "\n",
        "   '23:59:51'  '23:59:52'  '23:59:53'  '23:59:54'  '23:59:55'  '23:59:56'  \\\n",
        "0           1           1           1           1           1           1   \n",
        "1           1           1           1           1           1           1   \n",
        "2           1           1           1           1           1           1   \n",
        "3           1           1           1           1           1           1   \n",
        "4           1           1           1           1           1           1   \n",
        "\n",
        "   '23:59:57'  '23:59:58'  '23:59:59'  \n",
        "0           1           1           1  \n",
        "1           1           1           1  \n",
        "2           1           1           1  \n",
        "3           1           1           1  \n",
        "4           1           1           1  \n",
        "\n",
        "[5 rows x 86401 columns]"
       ]
      }
     ],
     "prompt_number": 4
    },
    {
     "cell_type": "code",
     "collapsed": false,
     "input": [
      "out = []\n",
      "for i in range(len(df)):\n",
      "    out.append(df.ix[i].values[1:])\n",
      "out_1d = list(chain.from_iterable(out))\n",
      "df_new = pd.Series(out_1d, index=index)"
     ],
     "language": "python",
     "metadata": {},
     "outputs": [],
     "prompt_number": 5
    },
    {
     "cell_type": "code",
     "collapsed": false,
     "input": [
      "df_new.head()"
     ],
     "language": "python",
     "metadata": {},
     "outputs": [
      {
       "metadata": {},
       "output_type": "pyout",
       "prompt_number": 6,
       "text": [
        "2012-11-30 00:00:00    1\n",
        "2012-11-30 00:00:01    1\n",
        "2012-11-30 00:00:02    1\n",
        "2012-11-30 00:00:03    1\n",
        "2012-11-30 00:00:04    1\n",
        "Freq: S, dtype: int64"
       ]
      }
     ],
     "prompt_number": 6
    },
    {
     "cell_type": "code",
     "collapsed": false,
     "input": [
      "df_resampled = df_new.resample(\"15min\")"
     ],
     "language": "python",
     "metadata": {},
     "outputs": [],
     "prompt_number": 7
    },
    {
     "cell_type": "code",
     "collapsed": false,
     "input": [
      "df_resampled.head()"
     ],
     "language": "python",
     "metadata": {},
     "outputs": [
      {
       "metadata": {},
       "output_type": "pyout",
       "prompt_number": 8,
       "text": [
        "2012-11-30 00:00:00    1\n",
        "2012-11-30 00:15:00    1\n",
        "2012-11-30 00:30:00    1\n",
        "2012-11-30 00:45:00    1\n",
        "2012-11-30 01:00:00    1\n",
        "Freq: 15T, dtype: float64"
       ]
      }
     ],
     "prompt_number": 8
    },
    {
     "cell_type": "code",
     "collapsed": false,
     "input": [
      "df_resampled.tail()"
     ],
     "language": "python",
     "metadata": {},
     "outputs": [
      {
       "metadata": {},
       "output_type": "pyout",
       "prompt_number": 9,
       "text": [
        "2013-01-13 22:45:00    1\n",
        "2013-01-13 23:00:00    1\n",
        "2013-01-13 23:15:00    1\n",
        "2013-01-13 23:30:00    1\n",
        "2013-01-13 23:45:00    1\n",
        "Freq: 15T, dtype: float64"
       ]
      }
     ],
     "prompt_number": 9
    },
    {
     "cell_type": "code",
     "collapsed": false,
     "input": [
      "df_resampled.plot(kind = 'hist')"
     ],
     "language": "python",
     "metadata": {},
     "outputs": [
      {
       "metadata": {},
       "output_type": "pyout",
       "prompt_number": 10,
       "text": [
        "<matplotlib.axes._subplots.AxesSubplot at 0x10add6590>"
       ]
      },
      {
       "metadata": {},
       "output_type": "display_data",
       "png": "[encoded data removed]",
       "text": [
        "<matplotlib.figure.Figure at 0x107815f90>"
       ]
      }
     ],
     "prompt_number": 10
    },
    {
     "cell_type": "code",
     "collapsed": false,
     "input": [
      "df_resampled[:96].plot()"
     ],
     "language": "python",
     "metadata": {},
     "outputs": [
      {
       "metadata": {},
       "output_type": "pyout",
       "prompt_number": 11,
       "text": [
        "<matplotlib.axes._subplots.AxesSubplot at 0x1213f23d0>"
       ]
      },
      {
       "metadata": {},
       "output_type": "display_data",
       "png": "[encoded data removed]",
       "text": [
        "<matplotlib.figure.Figure at 0x107815450>"
       ]
      }
     ],
     "prompt_number": 11
    },
    {
     "cell_type": "code",
     "collapsed": false,
     "input": [
      "df_resampled[:200].plot()"
     ],
     "language": "python",
     "metadata": {},
     "outputs": [
      {
       "metadata": {},
       "output_type": "pyout",
       "prompt_number": 12,
       "text": [
        "<matplotlib.axes._subplots.AxesSubplot at 0x121469ed0>"
       ]
      },
      {
       "metadata": {},
       "output_type": "display_data",
       "png": "[encoded data removed]",
       "text": [
        "<matplotlib.figure.Figure at 0x1214b7190>"
       ]
      }
     ],
     "prompt_number": 12
    },
    {
     "cell_type": "code",
     "collapsed": false,
     "input": [
      "df_resampled[:1000].plot()"
     ],
     "language": "python",
     "metadata": {},
     "outputs": [
      {
       "metadata": {},
       "output_type": "pyout",
       "prompt_number": 13,
       "text": [
        "<matplotlib.axes._subplots.AxesSubplot at 0x12169a910>"
       ]
      },
      {
       "metadata": {},
       "output_type": "display_data",
       "png": "[encoded data removed]",
       "text": [
        "<matplotlib.figure.Figure at 0x1216d0250>"
       ]
      }
     ],
     "prompt_number": 13
    },
    {
     "cell_type": "markdown",
     "metadata": {},
     "source": [
      "At the end of this section, the final ground truth values are stored in the variable called df_resampled."
     ]
    },
    {
     "cell_type": "markdown",
     "metadata": {},
     "source": [
      "The H5 file\n",
      "------------\n",
      "\n",
      "Now, we need to get the data from the actual h5 file. We will be making four different functions:\n",
      "1. Mean\n",
      "2. Median\n",
      "3. Standard deviation\n",
      "4. Range\n",
      "\n",
      "Each of these functions will look at a particular dataset, and take as input an integer threshold. It will return a Series which will be used in the parameter sweep later on."
     ]
    },
    {
     "cell_type": "code",
     "collapsed": false,
     "input": [
      "dir_path='/Users/rishi/Documents/Master_folder/IIITD/6th_semester/BTP/NIOMTK_datasets'\n",
      "store=HDFStore(join(dir_path, 'eco.h5'))"
     ],
     "language": "python",
     "metadata": {},
     "outputs": [],
     "prompt_number": 14
    },
    {
     "cell_type": "code",
     "collapsed": false,
     "input": [
      "df=store['/building2/elec/meter2']\n",
      "mean_df=df.resample('15min', how='mean' )\n",
      "median_df=df.resample('15min', how='median')\n",
      "std_df=df.resample('15min', how=np.std)\n",
      "range_df=df.resample('15min', how=np.max) - df.resample('15min', how=np.min)"
     ],
     "language": "python",
     "metadata": {},
     "outputs": [],
     "prompt_number": 15
    },
    {
     "cell_type": "code",
     "collapsed": false,
     "input": [
      "mean_df.head()"
     ],
     "language": "python",
     "metadata": {},
     "outputs": [
      {
       "html": [
        "<div style=\"max-height:1000px;max-width:1500px;overflow:auto;\">\n",
        "<table border=\"1\" class=\"dataframe\">\n",
        "  <thead>\n",
        "    <tr>\n",
        "      <th></th>\n",
        "      <th>power</th>\n",
        "      <th>current</th>\n",
        "      <th>voltage</th>\n",
        "      <th>phase_angle</th>\n",
        "      <th>power</th>\n",
        "    </tr>\n",
        "    <tr>\n",
        "      <th></th>\n",
        "      <th>active</th>\n",
        "      <th></th>\n",
        "      <th></th>\n",
        "      <th></th>\n",
        "      <th>reactive</th>\n",
        "    </tr>\n",
        "  </thead>\n",
        "  <tbody>\n",
        "    <tr>\n",
        "      <th>2012-06-01 02:00:00+02:00</th>\n",
        "      <td> 21.157919</td>\n",
        "      <td> 0.157437</td>\n",
        "      <td> 235.039993</td>\n",
        "      <td> 0</td>\n",
        "      <td> 0</td>\n",
        "    </tr>\n",
        "    <tr>\n",
        "      <th>2012-06-01 02:15:00+02:00</th>\n",
        "      <td> 21.159485</td>\n",
        "      <td> 0.156040</td>\n",
        "      <td> 235.156662</td>\n",
        "      <td> 0</td>\n",
        "      <td> 0</td>\n",
        "    </tr>\n",
        "    <tr>\n",
        "      <th>2012-06-01 02:30:00+02:00</th>\n",
        "      <td> 21.194288</td>\n",
        "      <td> 0.157210</td>\n",
        "      <td> 235.328888</td>\n",
        "      <td> 0</td>\n",
        "      <td> 0</td>\n",
        "    </tr>\n",
        "    <tr>\n",
        "      <th>2012-06-01 02:45:00+02:00</th>\n",
        "      <td> 21.209436</td>\n",
        "      <td> 0.156509</td>\n",
        "      <td> 236.002228</td>\n",
        "      <td> 0</td>\n",
        "      <td> 0</td>\n",
        "    </tr>\n",
        "    <tr>\n",
        "      <th>2012-06-01 03:00:00+02:00</th>\n",
        "      <td> 21.127615</td>\n",
        "      <td> 0.156815</td>\n",
        "      <td> 234.485550</td>\n",
        "      <td> 0</td>\n",
        "      <td> 0</td>\n",
        "    </tr>\n",
        "  </tbody>\n",
        "</table>\n",
        "</div>"
       ],
       "metadata": {},
       "output_type": "pyout",
       "prompt_number": 16,
       "text": [
        "                               power   current     voltage  phase_angle  \\\n",
        "                              active                                      \n",
        "2012-06-01 02:00:00+02:00  21.157919  0.157437  235.039993            0   \n",
        "2012-06-01 02:15:00+02:00  21.159485  0.156040  235.156662            0   \n",
        "2012-06-01 02:30:00+02:00  21.194288  0.157210  235.328888            0   \n",
        "2012-06-01 02:45:00+02:00  21.209436  0.156509  236.002228            0   \n",
        "2012-06-01 03:00:00+02:00  21.127615  0.156815  234.485550            0   \n",
        "\n",
        "                              power  \n",
        "                           reactive  \n",
        "2012-06-01 02:00:00+02:00         0  \n",
        "2012-06-01 02:15:00+02:00         0  \n",
        "2012-06-01 02:30:00+02:00         0  \n",
        "2012-06-01 02:45:00+02:00         0  \n",
        "2012-06-01 03:00:00+02:00         0  "
       ]
      }
     ],
     "prompt_number": 16
    },
    {
     "cell_type": "code",
     "collapsed": false,
     "input": [
      "median_df.head()"
     ],
     "language": "python",
     "metadata": {},
     "outputs": [
      {
       "html": [
        "<div style=\"max-height:1000px;max-width:1500px;overflow:auto;\">\n",
        "<table border=\"1\" class=\"dataframe\">\n",
        "  <thead>\n",
        "    <tr>\n",
        "      <th></th>\n",
        "      <th>power</th>\n",
        "      <th>current</th>\n",
        "      <th>voltage</th>\n",
        "      <th>phase_angle</th>\n",
        "      <th>power</th>\n",
        "    </tr>\n",
        "    <tr>\n",
        "      <th></th>\n",
        "      <th>active</th>\n",
        "      <th></th>\n",
        "      <th></th>\n",
        "      <th></th>\n",
        "      <th>reactive</th>\n",
        "    </tr>\n",
        "  </thead>\n",
        "  <tbody>\n",
        "    <tr>\n",
        "      <th>2012-06-01 02:00:00+02:00</th>\n",
        "      <td> 21.162001</td>\n",
        "      <td> 0.15800</td>\n",
        "      <td> 235</td>\n",
        "      <td> 0</td>\n",
        "      <td> 0</td>\n",
        "    </tr>\n",
        "    <tr>\n",
        "      <th>2012-06-01 02:15:00+02:00</th>\n",
        "      <td> 21.162001</td>\n",
        "      <td> 0.15635</td>\n",
        "      <td> 235</td>\n",
        "      <td> 0</td>\n",
        "      <td> 0</td>\n",
        "    </tr>\n",
        "    <tr>\n",
        "      <th>2012-06-01 02:30:00+02:00</th>\n",
        "      <td> 21.195000</td>\n",
        "      <td> 0.15710</td>\n",
        "      <td> 235</td>\n",
        "      <td> 0</td>\n",
        "      <td> 0</td>\n",
        "    </tr>\n",
        "    <tr>\n",
        "      <th>2012-06-01 02:45:00+02:00</th>\n",
        "      <td> 21.218000</td>\n",
        "      <td> 0.15660</td>\n",
        "      <td> 236</td>\n",
        "      <td> 0</td>\n",
        "      <td> 0</td>\n",
        "    </tr>\n",
        "    <tr>\n",
        "      <th>2012-06-01 03:00:00+02:00</th>\n",
        "      <td> 21.132999</td>\n",
        "      <td> 0.15680</td>\n",
        "      <td> 234</td>\n",
        "      <td> 0</td>\n",
        "      <td> 0</td>\n",
        "    </tr>\n",
        "  </tbody>\n",
        "</table>\n",
        "</div>"
       ],
       "metadata": {},
       "output_type": "pyout",
       "prompt_number": 17,
       "text": [
        "                               power  current  voltage  phase_angle     power\n",
        "                              active                                 reactive\n",
        "2012-06-01 02:00:00+02:00  21.162001  0.15800      235            0         0\n",
        "2012-06-01 02:15:00+02:00  21.162001  0.15635      235            0         0\n",
        "2012-06-01 02:30:00+02:00  21.195000  0.15710      235            0         0\n",
        "2012-06-01 02:45:00+02:00  21.218000  0.15660      236            0         0\n",
        "2012-06-01 03:00:00+02:00  21.132999  0.15680      234            0         0"
       ]
      }
     ],
     "prompt_number": 17
    },
    {
     "cell_type": "code",
     "collapsed": false,
     "input": [
      "std_df.head()"
     ],
     "language": "python",
     "metadata": {},
     "outputs": [
      {
       "html": [
        "<div style=\"max-height:1000px;max-width:1500px;overflow:auto;\">\n",
        "<table border=\"1\" class=\"dataframe\">\n",
        "  <thead>\n",
        "    <tr>\n",
        "      <th></th>\n",
        "      <th>power</th>\n",
        "      <th>current</th>\n",
        "      <th>voltage</th>\n",
        "      <th>phase_angle</th>\n",
        "      <th>power</th>\n",
        "    </tr>\n",
        "    <tr>\n",
        "      <th></th>\n",
        "      <th>active</th>\n",
        "      <th></th>\n",
        "      <th></th>\n",
        "      <th></th>\n",
        "      <th>reactive</th>\n",
        "    </tr>\n",
        "  </thead>\n",
        "  <tbody>\n",
        "    <tr>\n",
        "      <th>2012-06-01 02:00:00+02:00</th>\n",
        "      <td> 0.144644</td>\n",
        "      <td> 0.001985</td>\n",
        "      <td>      NaN</td>\n",
        "      <td> 0</td>\n",
        "      <td> 0</td>\n",
        "    </tr>\n",
        "    <tr>\n",
        "      <th>2012-06-01 02:15:00+02:00</th>\n",
        "      <td> 0.140201</td>\n",
        "      <td> 0.001313</td>\n",
        "      <td>      NaN</td>\n",
        "      <td> 0</td>\n",
        "      <td> 0</td>\n",
        "    </tr>\n",
        "    <tr>\n",
        "      <th>2012-06-01 02:30:00+02:00</th>\n",
        "      <td> 0.134441</td>\n",
        "      <td> 0.001503</td>\n",
        "      <td>      NaN</td>\n",
        "      <td> 0</td>\n",
        "      <td> 0</td>\n",
        "    </tr>\n",
        "    <tr>\n",
        "      <th>2012-06-01 02:45:00+02:00</th>\n",
        "      <td> 0.143547</td>\n",
        "      <td> 0.000810</td>\n",
        "      <td> 0.000000</td>\n",
        "      <td> 0</td>\n",
        "      <td> 0</td>\n",
        "    </tr>\n",
        "    <tr>\n",
        "      <th>2012-06-01 03:00:00+02:00</th>\n",
        "      <td> 0.132813</td>\n",
        "      <td> 0.000893</td>\n",
        "      <td> 0.301867</td>\n",
        "      <td> 0</td>\n",
        "      <td> 0</td>\n",
        "    </tr>\n",
        "  </tbody>\n",
        "</table>\n",
        "</div>"
       ],
       "metadata": {},
       "output_type": "pyout",
       "prompt_number": 18,
       "text": [
        "                              power   current   voltage  phase_angle     power\n",
        "                             active                                   reactive\n",
        "2012-06-01 02:00:00+02:00  0.144644  0.001985       NaN            0         0\n",
        "2012-06-01 02:15:00+02:00  0.140201  0.001313       NaN            0         0\n",
        "2012-06-01 02:30:00+02:00  0.134441  0.001503       NaN            0         0\n",
        "2012-06-01 02:45:00+02:00  0.143547  0.000810  0.000000            0         0\n",
        "2012-06-01 03:00:00+02:00  0.132813  0.000893  0.301867            0         0"
       ]
      }
     ],
     "prompt_number": 18
    },
    {
     "cell_type": "code",
     "collapsed": false,
     "input": [
      "range_df.head()"
     ],
     "language": "python",
     "metadata": {},
     "outputs": [
      {
       "html": [
        "<div style=\"max-height:1000px;max-width:1500px;overflow:auto;\">\n",
        "<table border=\"1\" class=\"dataframe\">\n",
        "  <thead>\n",
        "    <tr>\n",
        "      <th></th>\n",
        "      <th>power</th>\n",
        "      <th>current</th>\n",
        "      <th>voltage</th>\n",
        "      <th>phase_angle</th>\n",
        "      <th>power</th>\n",
        "    </tr>\n",
        "    <tr>\n",
        "      <th></th>\n",
        "      <th>active</th>\n",
        "      <th></th>\n",
        "      <th></th>\n",
        "      <th></th>\n",
        "      <th>reactive</th>\n",
        "    </tr>\n",
        "  </thead>\n",
        "  <tbody>\n",
        "    <tr>\n",
        "      <th>2012-06-01 02:00:00+02:00</th>\n",
        "      <td> 1.040001</td>\n",
        "      <td> 0.0140</td>\n",
        "      <td> 1</td>\n",
        "      <td> 0</td>\n",
        "      <td> 0</td>\n",
        "    </tr>\n",
        "    <tr>\n",
        "      <th>2012-06-01 02:15:00+02:00</th>\n",
        "      <td> 1.007000</td>\n",
        "      <td> 0.0080</td>\n",
        "      <td> 2</td>\n",
        "      <td> 0</td>\n",
        "      <td> 0</td>\n",
        "    </tr>\n",
        "    <tr>\n",
        "      <th>2012-06-01 02:30:00+02:00</th>\n",
        "      <td> 0.837000</td>\n",
        "      <td> 0.0207</td>\n",
        "      <td> 2</td>\n",
        "      <td> 0</td>\n",
        "      <td> 0</td>\n",
        "    </tr>\n",
        "    <tr>\n",
        "      <th>2012-06-01 02:45:00+02:00</th>\n",
        "      <td> 0.893999</td>\n",
        "      <td> 0.0070</td>\n",
        "      <td> 2</td>\n",
        "      <td> 0</td>\n",
        "      <td> 0</td>\n",
        "    </tr>\n",
        "    <tr>\n",
        "      <th>2012-06-01 03:00:00+02:00</th>\n",
        "      <td> 0.875000</td>\n",
        "      <td> 0.0112</td>\n",
        "      <td> 3</td>\n",
        "      <td> 0</td>\n",
        "      <td> 0</td>\n",
        "    </tr>\n",
        "  </tbody>\n",
        "</table>\n",
        "</div>"
       ],
       "metadata": {},
       "output_type": "pyout",
       "prompt_number": 19,
       "text": [
        "                              power  current  voltage  phase_angle     power\n",
        "                             active                                 reactive\n",
        "2012-06-01 02:00:00+02:00  1.040001   0.0140        1            0         0\n",
        "2012-06-01 02:15:00+02:00  1.007000   0.0080        2            0         0\n",
        "2012-06-01 02:30:00+02:00  0.837000   0.0207        2            0         0\n",
        "2012-06-01 02:45:00+02:00  0.893999   0.0070        2            0         0\n",
        "2012-06-01 03:00:00+02:00  0.875000   0.0112        3            0         0"
       ]
      }
     ],
     "prompt_number": 19
    },
    {
     "cell_type": "code",
     "collapsed": false,
     "input": [
      "mean_df_sliced = mean_df['power']['active']['2012-11-30':'2013-1-15']\n",
      "median_df_sliced = median_df['power']['active']['2012-11-30':'2013-1-15']\n",
      "std_df_sliced = std_df['power']['active']['2012-11-30':'2013-1-15']\n",
      "range_df_sliced = range_df['power']['active']['2012-11-30':'2013-1-15']"
     ],
     "language": "python",
     "metadata": {},
     "outputs": [],
     "prompt_number": 20
    },
    {
     "cell_type": "markdown",
     "metadata": {},
     "source": [
      "At this point, we have the sliced datasets, where we are looking at active powers. Now, we need to start working on the four functions.\n",
      "\n",
      "Function for mean\n",
      "------------------"
     ]
    },
    {
     "cell_type": "code",
     "collapsed": false,
     "input": [
      "def mean_check(threshold):\n",
      "    mean_series = mean_df_sliced > threshold\n",
      "    mean_list = [i for i in mean_series]\n",
      "    return mean_list"
     ],
     "language": "python",
     "metadata": {},
     "outputs": [],
     "prompt_number": 21
    },
    {
     "cell_type": "markdown",
     "metadata": {},
     "source": [
      "Function for median\n",
      "--------------------"
     ]
    },
    {
     "cell_type": "code",
     "collapsed": false,
     "input": [
      "def median_check(threshold):\n",
      "    median_series  = median_df_sliced > threshold\n",
      "    median_list = [i for i in median_series]\n",
      "    return median_list"
     ],
     "language": "python",
     "metadata": {},
     "outputs": [],
     "prompt_number": 22
    },
    {
     "cell_type": "markdown",
     "metadata": {},
     "source": [
      "Function for Standard deviation\n",
      "----------------------------------"
     ]
    },
    {
     "cell_type": "code",
     "collapsed": false,
     "input": [
      "def std_check(threshold):\n",
      "    std_series = std_df_sliced > threshold\n",
      "    std_list = [i for i in std_series]\n",
      "    return std_list"
     ],
     "language": "python",
     "metadata": {},
     "outputs": [],
     "prompt_number": 23
    },
    {
     "cell_type": "markdown",
     "metadata": {},
     "source": [
      "Function for Range\n",
      "-------------------"
     ]
    },
    {
     "cell_type": "code",
     "collapsed": false,
     "input": [
      "def range_check(threshold):\n",
      "    range_series = range_df_sliced > threshold\n",
      "    range_list = [i for i in range_series]\n",
      "    return range_list"
     ],
     "language": "python",
     "metadata": {},
     "outputs": [],
     "prompt_number": 24
    },
    {
     "cell_type": "markdown",
     "metadata": {},
     "source": [
      "At this point, we have lists for all four parameters. We need to combine them into a single list.\n",
      "\n",
      "Function for combining the parameters\n",
      "-----------------------------------------"
     ]
    },
    {
     "cell_type": "code",
     "collapsed": false,
     "input": [
      "default_mean = mean_df_sliced.mean()\n",
      "default_median = median_df_sliced.mean()\n",
      "default_std = std_df_sliced.mean()\n",
      "default_range = range_df_sliced.mean()\n",
      "def combine(threshold_mean=default_mean, threshold_median=default_median, threshold_std=default_std , threshold_range=default_range):\n",
      "    mean_list = mean_check(threshold_mean)\n",
      "    median_list = median_check(threshold_median)\n",
      "    std_list = std_check(threshold_std)\n",
      "    range_list = range_check(threshold_range)\n",
      "    truth_list = mean_list or median_list or std_list or range_list\n",
      "    indices = pd.DatetimeIndex(start = '30-11-2012', periods = 4512, freq = \"15min\")\n",
      "    truth_series = Series (truth_list, index = indices)\n",
      "    return truth_series"
     ],
     "language": "python",
     "metadata": {},
     "outputs": [],
     "prompt_number": 25
    },
    {
     "cell_type": "markdown",
     "metadata": {},
     "source": [
      "At this point, things seem to be looking up. We are close to the end. Now we need to come up with a function for accuracy.\n",
      "\n",
      "Function to determine accuracy\n",
      "---------------------------------"
     ]
    },
    {
     "cell_type": "code",
     "collapsed": false,
     "input": [
      "def accuracy(df_resampled, truth_series):\n",
      "    ground_truth = df_resampled.values\n",
      "    predicted = truth_series.values\n",
      "    tp = 0\n",
      "    tn = 0\n",
      "    fp = 0\n",
      "    fn = 0\n",
      "    for i in range(min(len(predicted), len(ground_truth))):\n",
      "        if (predicted[i] == True and round(ground_truth[i] ) == 1):\n",
      "            tp+=1\n",
      "        elif (predicted[i] == True and round(ground_truth[i]) == 0):\n",
      "            fp +=1\n",
      "        elif (predicted[i] == False and round(ground_truth[i]) == 1):\n",
      "            fn+=1\n",
      "        else:\n",
      "            tn+=1\n",
      "    #print \"TP = \", tp\n",
      "    #print \"TN = \", tn\n",
      "    #print \"FP = \", fp\n",
      "    #print \"FN = \", fn\n",
      "    accuracy = (tp + tn + 0.0)/(tp + tn + fp + fn)\n",
      "    precision = (tn + 0.0)/ (tn + fp)\n",
      "    recall = (tp + 0.0)/(tp + fn)\n",
      "    #print \"Accuracy = \", accuracy\n",
      "    #print \"Precision = \", precision\n",
      "    #print \"Recall = \", recall\n",
      "    return [accuracy, precision, recall]"
     ],
     "language": "python",
     "metadata": {},
     "outputs": [],
     "prompt_number": 57
    },
    {
     "cell_type": "markdown",
     "metadata": {},
     "source": [
      "The Final Step\n",
      "--------------\n",
      "\n",
      "Now that we have the function for calculating accuracy, the function for combining metrics based on a given threshold and a DataFrame that stores the ground truth values, we need to make a function that calls the combine() function using certain thresholds, get the truth series from the combine function, pass that truth series to the accuracy function along with the ground truth values. We will modify this code to incorporate plotting later on.\n",
      "\n",
      "First, we will run testing by checking with the default thresholds."
     ]
    },
    {
     "cell_type": "code",
     "collapsed": false,
     "input": [
      "def initial_sweep():\n",
      "    truth_series = combine()\n",
      "    accuracy(df_resampled, truth_series)"
     ],
     "language": "python",
     "metadata": {},
     "outputs": [],
     "prompt_number": 50
    },
    {
     "cell_type": "code",
     "collapsed": false,
     "input": [
      "initial_sweep()"
     ],
     "language": "python",
     "metadata": {},
     "outputs": [
      {
       "output_type": "stream",
       "stream": "stdout",
       "text": [
        "TP =  955\n",
        "TN =  965\n",
        "FP =  282\n",
        "FN =  2118\n",
        "Accuracy =  0.444444444444\n",
        "Precision =  0.773857257418\n",
        "Recall =  0.310771233322\n"
       ]
      }
     ],
     "prompt_number": 51
    },
    {
     "cell_type": "markdown",
     "metadata": {},
     "source": [
      "Now, we need to modify the code for the initial sweep to run on a given list of thresholds by putting in a for loop. We will do this as follows:\n",
      "1. Vary the thresholds for the mean and keep the rest of the parameters constant.\n",
      "2. Vary the thresholds for the median and keep the rest of the parameters constant.\n",
      "3. Vary the thresholds for the standard deviation and keep the rest of the parameters constant.\n",
      "4. Vary the thresholds for the range and keep the rest of the parameters constant.\n",
      "\n",
      "We will investigate the other methods later."
     ]
    },
    {
     "cell_type": "code",
     "collapsed": false,
     "input": [
      "mean = mean_df_sliced.mean()\n",
      "std = mean_df_sliced.std()\n",
      "\n",
      "min_val = int (mean - std + 0.5)\n",
      "\n",
      "max_val = int (mean + std + 0.5)\n",
      "default_list = [i for i in range(min_val, max_val, 1) if i > 0]\n",
      "accuracy_list = []\n",
      "precision_list = []\n",
      "recall_list = []\n",
      "def mean_sweep(list_of_thresholds = default_list):\n",
      "    for i in list_of_thresholds:\n",
      "        truth_series = combine(i)\n",
      "        #print \"Measuring for threshold : \", i\n",
      "        #print \"--------------------------------\"\n",
      "        accuracy_list.append(accuracy(truth_series,df_resampled)[0])\n",
      "        precision_list.append(accuracy(truth_series,df_resampled)[1])\n",
      "        recall_list.append(accuracy(truth_series,df_resampled)[2])\n",
      "    plt.plot(list_of_thresholds, accuracy_list)\n",
      "    plt.xlabel('List of thresholds')\n",
      "    plt.ylabel('Accuracies determined by those thresholds')\n",
      "    plt.show()\n",
      "    \n",
      "    \n",
      "    plt.plot(list_of_thresholds, precision_list)\n",
      "    plt.xlabel('List of thresholds')\n",
      "    plt.ylabel('Precision values determined by those thresholds')\n",
      "    plt.show()\n",
      "    \n",
      "    \n",
      "    plt.plot(list_of_thresholds, recall_list)\n",
      "    plt.xlabel('List of thresholds')\n",
      "    plt.ylabel('Recall values determined by those thresholds')\n",
      "    plt.show()\n",
      "mean_sweep()"
     ],
     "language": "python",
     "metadata": {},
     "outputs": [
      {
       "metadata": {},
       "output_type": "display_data",
       "png": "[encoded data removed]",
       "text": [
        "<matplotlib.figure.Figure at 0x128d29d90>"
       ]
      },
      {
       "metadata": {},
       "output_type": "display_data",
       "png": "[encoded data removed]",
       "text": [
        "<matplotlib.figure.Figure at 0x12890bc10>"
       ]
      },
      {
       "metadata": {},
       "output_type": "display_data",
       "png": "[encoded data removed]",
       "text": [
        "<matplotlib.figure.Figure at 0x1222f6290>"
       ]
      }
     ],
     "prompt_number": 70
    },
    {
     "cell_type": "markdown",
     "metadata": {},
     "source": [
      "The three graphs present varying results."
     ]
    },
    {
     "cell_type": "markdown",
     "metadata": {},
     "source": [
      "Some of the results from this sweep are really weird. Somehow the mean is less than the standard deviation. As the graph indicates, the highest achievable accuracy is at the threshold 0. After that, it is a steady decline. This may be because there is a lot of fluctuation in the dataset and just the mean itself is not a reliable indicator of occupancy.\n",
      "\n",
      "An alternate approach\n",
      "-------------------------------------\n",
      "\n",
      "At this point, it is clear that the mean itself does not suffice as an adequate threshold. As a result, I will now adopt the following approach:\n",
      "1. For mean_df_sliced, take the threshold to be the median of the dataset.\n",
      "2. For median_df_sliced, take the threshold to be the median of the dataset.\n",
      "3. For std_df_sliced, take the threshold to be the median of the dataset.\n",
      "4. For range_df_sliced, take the threshold to be the median of the dataset.\n",
      "\n",
      "Once we have taken these thresholds, we calculate the standard deviation of each dataset. Once that is done, we calculate the threshold list, with the lower limit being median - standard deviation and the upper limit being median + standard deviation."
     ]
    },
    {
     "cell_type": "code",
     "collapsed": false,
     "input": [
      "def drange(start, stop, step):\n",
      "    lis = []\n",
      "    r = start\n",
      "    while r < stop:\n",
      "        r += step\n",
      "        lis.append(r)\n",
      "    return lis\n",
      "        \n",
      "\n",
      "\n",
      "\n",
      "\n",
      "\n",
      "\n",
      "    \n",
      "        \n",
      "    \n",
      "    "
     ],
     "language": "python",
     "metadata": {},
     "outputs": [],
     "prompt_number": 95
    },
    {
     "cell_type": "code",
     "collapsed": false,
     "input": [
      "def mean_threshold_list():\n",
      "    median = mean_df_sliced.median()\n",
      "    std = mean_df_sliced.std()\n",
      "    return drange (median - std, median + std, 1)\n"
     ],
     "language": "python",
     "metadata": {},
     "outputs": [],
     "prompt_number": 96
    },
    {
     "cell_type": "code",
     "collapsed": false,
     "input": [
      "def median_threshold_list():\n",
      "    median = median_df_sliced.median()\n",
      "    std = median_df_sliced.std()\n",
      "    return drange (median - std, median + std, 1)\n",
      "    "
     ],
     "language": "python",
     "metadata": {},
     "outputs": [],
     "prompt_number": 97
    },
    {
     "cell_type": "code",
     "collapsed": false,
     "input": [
      "def std_threshold_list():\n",
      "    median = std_df_sliced.median()\n",
      "    std = std_df_sliced.std()\n",
      "    return drange (median - std, median + std, 1)\n"
     ],
     "language": "python",
     "metadata": {},
     "outputs": [],
     "prompt_number": 98
    },
    {
     "cell_type": "code",
     "collapsed": false,
     "input": [
      "def range_threshold_list():\n",
      "    median = range_df_sliced.median()\n",
      "    std = range_df_sliced.std()\n",
      "    return drange (median - std, median + std, 1)\n"
     ],
     "language": "python",
     "metadata": {},
     "outputs": [],
     "prompt_number": 99
    },
    {
     "cell_type": "code",
     "collapsed": false,
     "input": [
      "def sweep():\n",
      "    threshold_list = mean_threshold_list()\n",
      "    accuracy_list = []\n",
      "    precision_list = []\n",
      "    recall_list = []\n",
      "    for i in threshold_list:\n",
      "        truth_series = combine(i, default_median, default_range, default_std)\n",
      "        accuracy_list.append(accuracy(truth_series,df_resampled)[0])\n",
      "        precision_list.append(accuracy(truth_series,df_resampled)[1])\n",
      "        recall_list.append(accuracy(truth_series,df_resampled)[2])\n",
      "    plt.plot(threshold_list, accuracy_list)\n",
      "    plt.xlabel('List of thresholds')\n",
      "    plt.ylabel('Accuracies determined by those thresholds')\n",
      "    plt.show()\n",
      "    \n",
      "    \n",
      "    plt.plot(threshold_list, precision_list)\n",
      "    plt.xlabel('List of thresholds')\n",
      "    plt.ylabel('Precision values determined by those thresholds')\n",
      "    plt.show()\n",
      "    \n",
      "    \n",
      "    plt.plot(threshold_list, recall_list)\n",
      "    plt.xlabel('List of thresholds')\n",
      "    plt.ylabel('Recall values determined by those thresholds')\n",
      "    plt.show()\n",
      "   \n",
      "    \n",
      "    accuracy_list = []\n",
      "    precision_list = []\n",
      "    recall_list = []\n",
      "    \n",
      "    threshold_list = median_threshold_list()\n",
      "    \n",
      "    for i in threshold_list:\n",
      "        truth_series = combine(default_mean, i, default_range, default_std)\n",
      "        accuracy_list.append(accuracy(truth_series,df_resampled)[0])\n",
      "        precision_list.append(accuracy(truth_series,df_resampled)[1])\n",
      "        recall_list.append(accuracy(truth_series,df_resampled)[2])\n",
      "    plt.plot(threshold_list, accuracy_list)\n",
      "    plt.xlabel('List of thresholds')\n",
      "    plt.ylabel('Accuracies determined by those thresholds')\n",
      "    plt.show()\n",
      "    \n",
      "    \n",
      "    plt.plot(threshold_list, precision_list)\n",
      "    plt.xlabel('List of thresholds')\n",
      "    plt.ylabel('Precision values determined by those thresholds')\n",
      "    plt.show()\n",
      "    \n",
      "    \n",
      "    plt.plot(threshold_list, recall_list)\n",
      "    plt.xlabel('List of thresholds')\n",
      "    plt.ylabel('Recall values determined by those thresholds')\n",
      "    plt.show()\n",
      "   \n",
      "sweep()"
     ],
     "language": "python",
     "metadata": {},
     "outputs": [
      {
       "metadata": {},
       "output_type": "display_data",
       "png": "[encoded data removed]",
       "text": [
        "<matplotlib.figure.Figure at 0x122779d90>"
       ]
      },
      {
       "metadata": {},
       "output_type": "display_data",
       "png": "[encoded data removed]",
       "text": [
        "<matplotlib.figure.Figure at 0x128a39710>"
       ]
      },
      {
       "metadata": {},
       "output_type": "display_data",
       "png": "[encoded data removed]",
       "text": [
        "<matplotlib.figure.Figure at 0x12886af90>"
       ]
      },
      {
       "metadata": {},
       "output_type": "display_data",
       "png": "[encoded data removed]",
       "text": [
        "<matplotlib.figure.Figure at 0x1288245d0>"
       ]
      },
      {
       "metadata": {},
       "output_type": "display_data",
       "png": "[encoded data removed]",
       "text": [
        "<matplotlib.figure.Figure at 0x1223264d0>"
       ]
      },
      {
       "metadata": {},
       "output_type": "display_data",
       "png": "[encoded data removed]",
       "text": [
        "<matplotlib.figure.Figure at 0x10cd85bd0>"
       ]
      }
     ],
     "prompt_number": 100
    },
    {
     "cell_type": "code",
     "collapsed": false,
     "input": [
      "truth_series = combine(default_mean, default_median, default_std, default_range)"
     ],
     "language": "python",
     "metadata": {},
     "outputs": [],
     "prompt_number": 104
    },
    {
     "cell_type": "code",
     "collapsed": false,
     "input": [
      "truth_series"
     ],
     "language": "python",
     "metadata": {},
     "outputs": [
      {
       "metadata": {},
       "output_type": "pyout",
       "prompt_number": 105,
       "text": [
        "2012-11-30 00:00:00     True\n",
        "2012-11-30 00:15:00     True\n",
        "2012-11-30 00:30:00     True\n",
        "2012-11-30 00:45:00     True\n",
        "2012-11-30 01:00:00    False\n",
        "2012-11-30 01:15:00    False\n",
        "2012-11-30 01:30:00    False\n",
        "2012-11-30 01:45:00    False\n",
        "2012-11-30 02:00:00    False\n",
        "2012-11-30 02:15:00    False\n",
        "2012-11-30 02:30:00    False\n",
        "2012-11-30 02:45:00    False\n",
        "2012-11-30 03:00:00    False\n",
        "2012-11-30 03:15:00    False\n",
        "2012-11-30 03:30:00    False\n",
        "...\n",
        "2013-01-15 20:15:00     True\n",
        "2013-01-15 20:30:00     True\n",
        "2013-01-15 20:45:00     True\n",
        "2013-01-15 21:00:00     True\n",
        "2013-01-15 21:15:00     True\n",
        "2013-01-15 21:30:00     True\n",
        "2013-01-15 21:45:00     True\n",
        "2013-01-15 22:00:00     True\n",
        "2013-01-15 22:15:00     True\n",
        "2013-01-15 22:30:00     True\n",
        "2013-01-15 22:45:00     True\n",
        "2013-01-15 23:00:00     True\n",
        "2013-01-15 23:15:00     True\n",
        "2013-01-15 23:30:00     True\n",
        "2013-01-15 23:45:00    False\n",
        "Freq: 15T, Length: 4512"
       ]
      }
     ],
     "prompt_number": 105
    },
    {
     "cell_type": "code",
     "collapsed": false,
     "input": [
      "accuracy(truth_series, df_resampled)"
     ],
     "language": "python",
     "metadata": {},
     "outputs": [
      {
       "metadata": {},
       "output_type": "pyout",
       "prompt_number": 106,
       "text": [
        "[0.45578703703703705, 0.3303312962367321, 0.7778695293146161]"
       ]
      }
     ],
     "prompt_number": 106
    },
    {
     "cell_type": "code",
     "collapsed": false,
     "input": [
      "truth_series = combine(default_mean, (default_median + 10), default_std, default_range)"
     ],
     "language": "python",
     "metadata": {},
     "outputs": [],
     "prompt_number": 107
    },
    {
     "cell_type": "code",
     "collapsed": false,
     "input": [
      "truth_series"
     ],
     "language": "python",
     "metadata": {},
     "outputs": [
      {
       "metadata": {},
       "output_type": "pyout",
       "prompt_number": 108,
       "text": [
        "2012-11-30 00:00:00     True\n",
        "2012-11-30 00:15:00     True\n",
        "2012-11-30 00:30:00     True\n",
        "2012-11-30 00:45:00     True\n",
        "2012-11-30 01:00:00    False\n",
        "2012-11-30 01:15:00    False\n",
        "2012-11-30 01:30:00    False\n",
        "2012-11-30 01:45:00    False\n",
        "2012-11-30 02:00:00    False\n",
        "2012-11-30 02:15:00    False\n",
        "2012-11-30 02:30:00    False\n",
        "2012-11-30 02:45:00    False\n",
        "2012-11-30 03:00:00    False\n",
        "2012-11-30 03:15:00    False\n",
        "2012-11-30 03:30:00    False\n",
        "...\n",
        "2013-01-15 20:15:00     True\n",
        "2013-01-15 20:30:00     True\n",
        "2013-01-15 20:45:00     True\n",
        "2013-01-15 21:00:00     True\n",
        "2013-01-15 21:15:00     True\n",
        "2013-01-15 21:30:00     True\n",
        "2013-01-15 21:45:00     True\n",
        "2013-01-15 22:00:00     True\n",
        "2013-01-15 22:15:00     True\n",
        "2013-01-15 22:30:00     True\n",
        "2013-01-15 22:45:00     True\n",
        "2013-01-15 23:00:00     True\n",
        "2013-01-15 23:15:00     True\n",
        "2013-01-15 23:30:00     True\n",
        "2013-01-15 23:45:00    False\n",
        "Freq: 15T, Length: 4512"
       ]
      }
     ],
     "prompt_number": 108
    },
    {
     "cell_type": "code",
     "collapsed": false,
     "input": [
      "accuracy(truth_series, df_resampled)"
     ],
     "language": "python",
     "metadata": {},
     "outputs": [
      {
       "metadata": {},
       "output_type": "pyout",
       "prompt_number": 109,
       "text": [
        "[0.45578703703703705, 0.3303312962367321, 0.7778695293146161]"
       ]
      }
     ],
     "prompt_number": 109
    },
    {
     "cell_type": "code",
     "collapsed": false,
     "input": [
      "for i in range(-1000, 1000):\n",
      "    truth_series = combine(default_mean, (default_median + i ), default_std, default_range)\n",
      "    print (accuracy(truth_series, df_resampled))"
     ],
     "language": "python",
     "metadata": {},
     "outputs": [
      {
       "output_type": "stream",
       "stream": "stdout",
       "text": [
        "[0.45578703703703705, 0.3303312962367321, 0.7778695293146161]\n",
        "[0.45578703703703705, 0.3303312962367321, 0.7778695293146161]"
       ]
      },
      {
       "output_type": "stream",
       "stream": "stdout",
       "text": [
        "\n",
        "[0.45578703703703705, 0.3303312962367321, 0.7778695293146161]\n",
        "[0.45578703703703705, 0.3303312962367321, 0.7778695293146161]"
       ]
      },
      {
       "output_type": "stream",
       "stream": "stdout",
       "text": [
        "\n",
        "[0.45578703703703705, 0.3303312962367321, 0.7778695293146161]\n",
        "[0.45578703703703705, 0.3303312962367321, 0.7778695293146161]"
       ]
      },
      {
       "output_type": "stream",
       "stream": "stdout",
       "text": [
        "\n",
        "[0.45578703703703705, 0.3303312962367321, 0.7778695293146161]"
       ]
      },
      {
       "output_type": "stream",
       "stream": "stdout",
       "text": [
        "\n",
        "[0.45578703703703705, 0.3303312962367321, 0.7778695293146161]\n",
        "[0.45578703703703705, 0.3303312962367321, 0.7778695293146161]"
       ]
      },
      {
       "output_type": "stream",
       "stream": "stdout",
       "text": [
        "\n",
        "[0.45578703703703705, 0.3303312962367321, 0.7778695293146161]\n",
        "[0.45578703703703705, 0.3303312962367321, 0.7778695293146161]"
       ]
      },
      {
       "output_type": "stream",
       "stream": "stdout",
       "text": [
        "\n",
        "[0.45578703703703705, 0.3303312962367321, 0.7778695293146161]\n",
        "[0.45578703703703705, 0.3303312962367321, 0.7778695293146161]"
       ]
      },
      {
       "output_type": "stream",
       "stream": "stdout",
       "text": [
        "\n",
        "[0.45578703703703705, 0.3303312962367321, 0.7778695293146161]"
       ]
      },
      {
       "output_type": "stream",
       "stream": "stdout",
       "text": [
        "\n",
        "[0.45578703703703705, 0.3303312962367321, 0.7778695293146161]\n",
        "[0.45578703703703705, 0.3303312962367321, 0.7778695293146161]"
       ]
      },
      {
       "output_type": "stream",
       "stream": "stdout",
       "text": [
        "\n",
        "[0.45578703703703705, 0.3303312962367321, 0.7778695293146161]\n",
        "[0.45578703703703705, 0.3303312962367321, 0.7778695293146161]"
       ]
      },
      {
       "output_type": "stream",
       "stream": "stdout",
       "text": [
        "\n",
        "[0.45578703703703705, 0.3303312962367321, 0.7778695293146161]\n",
        "[0.45578703703703705, 0.3303312962367321, 0.7778695293146161]"
       ]
      },
      {
       "output_type": "stream",
       "stream": "stdout",
       "text": [
        "\n",
        "[0.45578703703703705, 0.3303312962367321, 0.7778695293146161]\n",
        "[0.45578703703703705, 0.3303312962367321, 0.7778695293146161]"
       ]
      },
      {
       "output_type": "stream",
       "stream": "stdout",
       "text": [
        "\n",
        "[0.45578703703703705, 0.3303312962367321, 0.7778695293146161]\n",
        "[0.45578703703703705, 0.3303312962367321, 0.7778695293146161]"
       ]
      },
      {
       "output_type": "stream",
       "stream": "stdout",
       "text": [
        "\n",
        "[0.45578703703703705, 0.3303312962367321, 0.7778695293146161]\n",
        "[0.45578703703703705, 0.3303312962367321, 0.7778695293146161]"
       ]
      },
      {
       "output_type": "stream",
       "stream": "stdout",
       "text": [
        "\n",
        "[0.45578703703703705, 0.3303312962367321, 0.7778695293146161]\n",
        "[0.45578703703703705, 0.3303312962367321, 0.7778695293146161]"
       ]
      },
      {
       "output_type": "stream",
       "stream": "stdout",
       "text": [
        "\n",
        "[0.45578703703703705, 0.3303312962367321, 0.7778695293146161]\n",
        "[0.45578703703703705, 0.3303312962367321, 0.7778695293146161]"
       ]
      },
      {
       "output_type": "stream",
       "stream": "stdout",
       "text": [
        "\n",
        "[0.45578703703703705, 0.3303312962367321, 0.7778695293146161]\n",
        "[0.45578703703703705, 0.3303312962367321, 0.7778695293146161]"
       ]
      },
      {
       "output_type": "stream",
       "stream": "stdout",
       "text": [
        "\n",
        "[0.45578703703703705, 0.3303312962367321, 0.7778695293146161]"
       ]
      },
      {
       "output_type": "stream",
       "stream": "stdout",
       "text": [
        "\n",
        "[0.45578703703703705, 0.3303312962367321, 0.7778695293146161]\n",
        "[0.45578703703703705, 0.3303312962367321, 0.7778695293146161]"
       ]
      },
      {
       "output_type": "stream",
       "stream": "stdout",
       "text": [
        "\n",
        "[0.45578703703703705, 0.3303312962367321, 0.7778695293146161]\n",
        "[0.45578703703703705, 0.3303312962367321, 0.7778695293146161]"
       ]
      },
      {
       "output_type": "stream",
       "stream": "stdout",
       "text": [
        "\n",
        "[0.45578703703703705, 0.3303312962367321, 0.7778695293146161]\n",
        "[0.45578703703703705, 0.3303312962367321, 0.7778695293146161]"
       ]
      },
      {
       "output_type": "stream",
       "stream": "stdout",
       "text": [
        "\n",
        "[0.45578703703703705, 0.3303312962367321, 0.7778695293146161]\n",
        "[0.45578703703703705, 0.3303312962367321, 0.7778695293146161]"
       ]
      },
      {
       "output_type": "stream",
       "stream": "stdout",
       "text": [
        "\n",
        "[0.45578703703703705, 0.3303312962367321, 0.7778695293146161]\n",
        "[0.45578703703703705, 0.3303312962367321, 0.7778695293146161]"
       ]
      },
      {
       "output_type": "stream",
       "stream": "stdout",
       "text": [
        "\n",
        "[0.45578703703703705, 0.3303312962367321, 0.7778695293146161]"
       ]
      },
      {
       "output_type": "stream",
       "stream": "stdout",
       "text": [
        "\n",
        "[0.45578703703703705, 0.3303312962367321, 0.7778695293146161]\n",
        "[0.45578703703703705, 0.3303312962367321, 0.7778695293146161]"
       ]
      },
      {
       "output_type": "stream",
       "stream": "stdout",
       "text": [
        "\n",
        "[0.45578703703703705, 0.3303312962367321, 0.7778695293146161]\n",
        "[0.45578703703703705, 0.3303312962367321, 0.7778695293146161]"
       ]
      },
      {
       "output_type": "stream",
       "stream": "stdout",
       "text": [
        "\n",
        "[0.45578703703703705, 0.3303312962367321, 0.7778695293146161]\n",
        "[0.45578703703703705, 0.3303312962367321, 0.7778695293146161]"
       ]
      },
      {
       "output_type": "stream",
       "stream": "stdout",
       "text": [
        "\n",
        "[0.45578703703703705, 0.3303312962367321, 0.7778695293146161]\n",
        "[0.45578703703703705, 0.3303312962367321, 0.7778695293146161]"
       ]
      },
      {
       "output_type": "stream",
       "stream": "stdout",
       "text": [
        "\n",
        "[0.45578703703703705, 0.3303312962367321, 0.7778695293146161]"
       ]
      },
      {
       "output_type": "stream",
       "stream": "stdout",
       "text": [
        "\n",
        "[0.45578703703703705, 0.3303312962367321, 0.7778695293146161]"
       ]
      },
      {
       "output_type": "stream",
       "stream": "stdout",
       "text": [
        "\n",
        "[0.45578703703703705, 0.3303312962367321, 0.7778695293146161]\n",
        "[0.45578703703703705, 0.3303312962367321, 0.7778695293146161]"
       ]
      },
      {
       "output_type": "stream",
       "stream": "stdout",
       "text": [
        "\n",
        "[0.45578703703703705, 0.3303312962367321, 0.7778695293146161]\n",
        "[0.45578703703703705, 0.3303312962367321, 0.7778695293146161]"
       ]
      },
      {
       "output_type": "stream",
       "stream": "stdout",
       "text": [
        "\n",
        "[0.45578703703703705, 0.3303312962367321, 0.7778695293146161]\n",
        "[0.45578703703703705, 0.3303312962367321, 0.7778695293146161]"
       ]
      },
      {
       "output_type": "stream",
       "stream": "stdout",
       "text": [
        "\n",
        "[0.45578703703703705, 0.3303312962367321, 0.7778695293146161]"
       ]
      },
      {
       "output_type": "stream",
       "stream": "stdout",
       "text": [
        "\n",
        "[0.45578703703703705, 0.3303312962367321, 0.7778695293146161]"
       ]
      },
      {
       "output_type": "stream",
       "stream": "stdout",
       "text": [
        "\n",
        "[0.45578703703703705, 0.3303312962367321, 0.7778695293146161]"
       ]
      },
      {
       "output_type": "stream",
       "stream": "stdout",
       "text": [
        "\n",
        "[0.45578703703703705, 0.3303312962367321, 0.7778695293146161]"
       ]
      },
      {
       "output_type": "stream",
       "stream": "stdout",
       "text": [
        "\n",
        "[0.45578703703703705, 0.3303312962367321, 0.7778695293146161]"
       ]
      },
      {
       "output_type": "stream",
       "stream": "stdout",
       "text": [
        "\n",
        "[0.45578703703703705, 0.3303312962367321, 0.7778695293146161]"
       ]
      },
      {
       "output_type": "stream",
       "stream": "stdout",
       "text": [
        "\n",
        "[0.45578703703703705, 0.3303312962367321, 0.7778695293146161]\n",
        "[0.45578703703703705, 0.3303312962367321, 0.7778695293146161]"
       ]
      },
      {
       "output_type": "stream",
       "stream": "stdout",
       "text": [
        "\n",
        "[0.45578703703703705, 0.3303312962367321, 0.7778695293146161]"
       ]
      },
      {
       "output_type": "stream",
       "stream": "stdout",
       "text": [
        "\n",
        "[0.45578703703703705, 0.3303312962367321, 0.7778695293146161]"
       ]
      },
      {
       "output_type": "stream",
       "stream": "stdout",
       "text": [
        "\n",
        "[0.45578703703703705, 0.3303312962367321, 0.7778695293146161]"
       ]
      },
      {
       "output_type": "stream",
       "stream": "stdout",
       "text": [
        "\n",
        "[0.45578703703703705, 0.3303312962367321, 0.7778695293146161]"
       ]
      },
      {
       "output_type": "stream",
       "stream": "stdout",
       "text": [
        "\n",
        "[0.45578703703703705, 0.3303312962367321, 0.7778695293146161]\n",
        "[0.45578703703703705, 0.3303312962367321, 0.7778695293146161]"
       ]
      },
      {
       "output_type": "stream",
       "stream": "stdout",
       "text": [
        "\n",
        "[0.45578703703703705, 0.3303312962367321, 0.7778695293146161]\n",
        "[0.45578703703703705, 0.3303312962367321, 0.7778695293146161]"
       ]
      },
      {
       "output_type": "stream",
       "stream": "stdout",
       "text": [
        "\n",
        "[0.45578703703703705, 0.3303312962367321, 0.7778695293146161]"
       ]
      },
      {
       "output_type": "stream",
       "stream": "stdout",
       "text": [
        "\n",
        "[0.45578703703703705, 0.3303312962367321, 0.7778695293146161]\n",
        "[0.45578703703703705, 0.3303312962367321, 0.7778695293146161]"
       ]
      },
      {
       "output_type": "stream",
       "stream": "stdout",
       "text": [
        "\n",
        "[0.45578703703703705, 0.3303312962367321, 0.7778695293146161]\n",
        "[0.45578703703703705, 0.3303312962367321, 0.7778695293146161]"
       ]
      },
      {
       "output_type": "stream",
       "stream": "stdout",
       "text": [
        "\n",
        "[0.45578703703703705, 0.3303312962367321, 0.7778695293146161]\n",
        "[0.45578703703703705, 0.3303312962367321, 0.7778695293146161]"
       ]
      },
      {
       "output_type": "stream",
       "stream": "stdout",
       "text": [
        "\n",
        "[0.45578703703703705, 0.3303312962367321, 0.7778695293146161]\n",
        "[0.45578703703703705, 0.3303312962367321, 0.7778695293146161]"
       ]
      },
      {
       "output_type": "stream",
       "stream": "stdout",
       "text": [
        "\n",
        "[0.45578703703703705, 0.3303312962367321, 0.7778695293146161]\n",
        "[0.45578703703703705, 0.3303312962367321, 0.7778695293146161]"
       ]
      },
      {
       "output_type": "stream",
       "stream": "stdout",
       "text": [
        "\n",
        "[0.45578703703703705, 0.3303312962367321, 0.7778695293146161]\n",
        "[0.45578703703703705, 0.3303312962367321, 0.7778695293146161]"
       ]
      },
      {
       "output_type": "stream",
       "stream": "stdout",
       "text": [
        "\n",
        "[0.45578703703703705, 0.3303312962367321, 0.7778695293146161]"
       ]
      },
      {
       "output_type": "stream",
       "stream": "stdout",
       "text": [
        "\n",
        "[0.45578703703703705, 0.3303312962367321, 0.7778695293146161]"
       ]
      },
      {
       "output_type": "stream",
       "stream": "stdout",
       "text": [
        "\n",
        "[0.45578703703703705, 0.3303312962367321, 0.7778695293146161]"
       ]
      },
      {
       "output_type": "stream",
       "stream": "stdout",
       "text": [
        "\n",
        "[0.45578703703703705, 0.3303312962367321, 0.7778695293146161]"
       ]
      },
      {
       "output_type": "stream",
       "stream": "stdout",
       "text": [
        "\n",
        "[0.45578703703703705, 0.3303312962367321, 0.7778695293146161]"
       ]
      },
      {
       "output_type": "stream",
       "stream": "stdout",
       "text": [
        "\n",
        "[0.45578703703703705, 0.3303312962367321, 0.7778695293146161]"
       ]
      },
      {
       "output_type": "stream",
       "stream": "stdout",
       "text": [
        "\n",
        "[0.45578703703703705, 0.3303312962367321, 0.7778695293146161]"
       ]
      },
      {
       "output_type": "stream",
       "stream": "stdout",
       "text": [
        "\n",
        "[0.45578703703703705, 0.3303312962367321, 0.7778695293146161]"
       ]
      },
      {
       "output_type": "stream",
       "stream": "stdout",
       "text": [
        "\n",
        "[0.45578703703703705, 0.3303312962367321, 0.7778695293146161]"
       ]
      },
      {
       "output_type": "stream",
       "stream": "stdout",
       "text": [
        "\n",
        "[0.45578703703703705, 0.3303312962367321, 0.7778695293146161]"
       ]
      },
      {
       "output_type": "stream",
       "stream": "stdout",
       "text": [
        "\n",
        "[0.45578703703703705, 0.3303312962367321, 0.7778695293146161]"
       ]
      },
      {
       "output_type": "stream",
       "stream": "stdout",
       "text": [
        "\n",
        "[0.45578703703703705, 0.3303312962367321, 0.7778695293146161]"
       ]
      },
      {
       "output_type": "stream",
       "stream": "stdout",
       "text": [
        "\n",
        "[0.45578703703703705, 0.3303312962367321, 0.7778695293146161]"
       ]
      },
      {
       "output_type": "stream",
       "stream": "stdout",
       "text": [
        "\n",
        "[0.45578703703703705, 0.3303312962367321, 0.7778695293146161]"
       ]
      },
      {
       "output_type": "stream",
       "stream": "stdout",
       "text": [
        "\n",
        "[0.45578703703703705, 0.3303312962367321, 0.7778695293146161]"
       ]
      },
      {
       "output_type": "stream",
       "stream": "stdout",
       "text": [
        "\n",
        "[0.45578703703703705, 0.3303312962367321, 0.7778695293146161]"
       ]
      },
      {
       "output_type": "stream",
       "stream": "stdout",
       "text": [
        "\n",
        "[0.45578703703703705, 0.3303312962367321, 0.7778695293146161]\n",
        "[0.45578703703703705, 0.3303312962367321, 0.7778695293146161]"
       ]
      },
      {
       "output_type": "stream",
       "stream": "stdout",
       "text": [
        "\n",
        "[0.45578703703703705, 0.3303312962367321, 0.7778695293146161]\n",
        "[0.45578703703703705, 0.3303312962367321, 0.7778695293146161]"
       ]
      },
      {
       "output_type": "stream",
       "stream": "stdout",
       "text": [
        "\n",
        "[0.45578703703703705, 0.3303312962367321, 0.7778695293146161]\n",
        "[0.45578703703703705, 0.3303312962367321, 0.7778695293146161]"
       ]
      },
      {
       "output_type": "stream",
       "stream": "stdout",
       "text": [
        "\n",
        "[0.45578703703703705, 0.3303312962367321, 0.7778695293146161]"
       ]
      },
      {
       "output_type": "stream",
       "stream": "stdout",
       "text": [
        "\n",
        "[0.45578703703703705, 0.3303312962367321, 0.7778695293146161]"
       ]
      },
      {
       "output_type": "stream",
       "stream": "stdout",
       "text": [
        "\n",
        "[0.45578703703703705, 0.3303312962367321, 0.7778695293146161]"
       ]
      },
      {
       "output_type": "stream",
       "stream": "stdout",
       "text": [
        "\n",
        "[0.45578703703703705, 0.3303312962367321, 0.7778695293146161]\n",
        "[0.45578703703703705, 0.3303312962367321, 0.7778695293146161]"
       ]
      },
      {
       "output_type": "stream",
       "stream": "stdout",
       "text": [
        "\n",
        "[0.45578703703703705, 0.3303312962367321, 0.7778695293146161]\n",
        "[0.45578703703703705, 0.3303312962367321, 0.7778695293146161]"
       ]
      },
      {
       "output_type": "stream",
       "stream": "stdout",
       "text": [
        "\n",
        "[0.45578703703703705, 0.3303312962367321, 0.7778695293146161]\n",
        "[0.45578703703703705, 0.3303312962367321, 0.7778695293146161]"
       ]
      },
      {
       "output_type": "stream",
       "stream": "stdout",
       "text": [
        "\n",
        "[0.45578703703703705, 0.3303312962367321, 0.7778695293146161]\n",
        "[0.45578703703703705, 0.3303312962367321, 0.7778695293146161]"
       ]
      },
      {
       "output_type": "stream",
       "stream": "stdout",
       "text": [
        "\n",
        "[0.45578703703703705, 0.3303312962367321, 0.7778695293146161]"
       ]
      },
      {
       "output_type": "stream",
       "stream": "stdout",
       "text": [
        "\n",
        "[0.45578703703703705, 0.3303312962367321, 0.7778695293146161]"
       ]
      },
      {
       "output_type": "stream",
       "stream": "stdout",
       "text": [
        "\n",
        "[0.45578703703703705, 0.3303312962367321, 0.7778695293146161]"
       ]
      },
      {
       "output_type": "stream",
       "stream": "stdout",
       "text": [
        "\n",
        "[0.45578703703703705, 0.3303312962367321, 0.7778695293146161]\n",
        "[0.45578703703703705, 0.3303312962367321, 0.7778695293146161]"
       ]
      },
      {
       "output_type": "stream",
       "stream": "stdout",
       "text": [
        "\n",
        "[0.45578703703703705, 0.3303312962367321, 0.7778695293146161]\n",
        "[0.45578703703703705, 0.3303312962367321, 0.7778695293146161]"
       ]
      },
      {
       "output_type": "stream",
       "stream": "stdout",
       "text": [
        "\n",
        "[0.45578703703703705, 0.3303312962367321, 0.7778695293146161]\n",
        "[0.45578703703703705, 0.3303312962367321, 0.7778695293146161]"
       ]
      },
      {
       "output_type": "stream",
       "stream": "stdout",
       "text": [
        "\n",
        "[0.45578703703703705, 0.3303312962367321, 0.7778695293146161]"
       ]
      },
      {
       "output_type": "stream",
       "stream": "stdout",
       "text": [
        "\n",
        "[0.45578703703703705, 0.3303312962367321, 0.7778695293146161]\n",
        "[0.45578703703703705, 0.3303312962367321, 0.7778695293146161]"
       ]
      },
      {
       "output_type": "stream",
       "stream": "stdout",
       "text": [
        "\n",
        "[0.45578703703703705, 0.3303312962367321, 0.7778695293146161]\n",
        "[0.45578703703703705, 0.3303312962367321, 0.7778695293146161]"
       ]
      },
      {
       "output_type": "stream",
       "stream": "stdout",
       "text": [
        "\n",
        "[0.45578703703703705, 0.3303312962367321, 0.7778695293146161]\n",
        "[0.45578703703703705, 0.3303312962367321, 0.7778695293146161]"
       ]
      },
      {
       "output_type": "stream",
       "stream": "stdout",
       "text": [
        "\n",
        "[0.45578703703703705, 0.3303312962367321, 0.7778695293146161]\n",
        "[0.45578703703703705, 0.3303312962367321, 0.7778695293146161]"
       ]
      },
      {
       "output_type": "stream",
       "stream": "stdout",
       "text": [
        "\n",
        "[0.45578703703703705, 0.3303312962367321, 0.7778695293146161]\n",
        "[0.45578703703703705, 0.3303312962367321, 0.7778695293146161]"
       ]
      },
      {
       "output_type": "stream",
       "stream": "stdout",
       "text": [
        "\n",
        "[0.45578703703703705, 0.3303312962367321, 0.7778695293146161]\n",
        "[0.45578703703703705, 0.3303312962367321, 0.7778695293146161]"
       ]
      },
      {
       "output_type": "stream",
       "stream": "stdout",
       "text": [
        "\n",
        "[0.45578703703703705, 0.3303312962367321, 0.7778695293146161]"
       ]
      },
      {
       "output_type": "stream",
       "stream": "stdout",
       "text": [
        "\n",
        "[0.45578703703703705, 0.3303312962367321, 0.7778695293146161]\n",
        "[0.45578703703703705, 0.3303312962367321, 0.7778695293146161]"
       ]
      },
      {
       "output_type": "stream",
       "stream": "stdout",
       "text": [
        "\n",
        "[0.45578703703703705, 0.3303312962367321, 0.7778695293146161]\n",
        "[0.45578703703703705, 0.3303312962367321, 0.7778695293146161]"
       ]
      },
      {
       "output_type": "stream",
       "stream": "stdout",
       "text": [
        "\n",
        "[0.45578703703703705, 0.3303312962367321, 0.7778695293146161]\n",
        "[0.45578703703703705, 0.3303312962367321, 0.7778695293146161]"
       ]
      },
      {
       "output_type": "stream",
       "stream": "stdout",
       "text": [
        "\n",
        "[0.45578703703703705, 0.3303312962367321, 0.7778695293146161]\n",
        "[0.45578703703703705, 0.3303312962367321, 0.7778695293146161]"
       ]
      },
      {
       "output_type": "stream",
       "stream": "stdout",
       "text": [
        "\n",
        "[0.45578703703703705, 0.3303312962367321, 0.7778695293146161]\n",
        "[0.45578703703703705, 0.3303312962367321, 0.7778695293146161]"
       ]
      },
      {
       "output_type": "stream",
       "stream": "stdout",
       "text": [
        "\n",
        "[0.45578703703703705, 0.3303312962367321, 0.7778695293146161]\n",
        "[0.45578703703703705, 0.3303312962367321, 0.7778695293146161]"
       ]
      },
      {
       "output_type": "stream",
       "stream": "stdout",
       "text": [
        "\n",
        "[0.45578703703703705, 0.3303312962367321, 0.7778695293146161]"
       ]
      },
      {
       "output_type": "stream",
       "stream": "stdout",
       "text": [
        "\n",
        "[0.45578703703703705, 0.3303312962367321, 0.7778695293146161]"
       ]
      },
      {
       "output_type": "stream",
       "stream": "stdout",
       "text": [
        "\n",
        "[0.45578703703703705, 0.3303312962367321, 0.7778695293146161]"
       ]
      },
      {
       "output_type": "stream",
       "stream": "stdout",
       "text": [
        "\n",
        "[0.45578703703703705, 0.3303312962367321, 0.7778695293146161]\n",
        "[0.45578703703703705, 0.3303312962367321, 0.7778695293146161]"
       ]
      },
      {
       "output_type": "stream",
       "stream": "stdout",
       "text": [
        "\n",
        "[0.45578703703703705, 0.3303312962367321, 0.7778695293146161]\n",
        "[0.45578703703703705, 0.3303312962367321, 0.7778695293146161]"
       ]
      },
      {
       "output_type": "stream",
       "stream": "stdout",
       "text": [
        "\n",
        "[0.45578703703703705, 0.3303312962367321, 0.7778695293146161]"
       ]
      },
      {
       "output_type": "stream",
       "stream": "stdout",
       "text": [
        "\n",
        "[0.45578703703703705, 0.3303312962367321, 0.7778695293146161]"
       ]
      },
      {
       "output_type": "stream",
       "stream": "stdout",
       "text": [
        "\n",
        "[0.45578703703703705, 0.3303312962367321, 0.7778695293146161]\n",
        "[0.45578703703703705, 0.3303312962367321, 0.7778695293146161]"
       ]
      },
      {
       "output_type": "stream",
       "stream": "stdout",
       "text": [
        "\n",
        "[0.45578703703703705, 0.3303312962367321, 0.7778695293146161]"
       ]
      },
      {
       "output_type": "stream",
       "stream": "stdout",
       "text": [
        "\n",
        "[0.45578703703703705, 0.3303312962367321, 0.7778695293146161]"
       ]
      },
      {
       "output_type": "stream",
       "stream": "stdout",
       "text": [
        "\n",
        "[0.45578703703703705, 0.3303312962367321, 0.7778695293146161]"
       ]
      },
      {
       "output_type": "stream",
       "stream": "stdout",
       "text": [
        "\n",
        "[0.45578703703703705, 0.3303312962367321, 0.7778695293146161]\n",
        "[0.45578703703703705, 0.3303312962367321, 0.7778695293146161]"
       ]
      },
      {
       "output_type": "stream",
       "stream": "stdout",
       "text": [
        "\n",
        "[0.45578703703703705, 0.3303312962367321, 0.7778695293146161]\n",
        "[0.45578703703703705, 0.3303312962367321, 0.7778695293146161]"
       ]
      },
      {
       "output_type": "stream",
       "stream": "stdout",
       "text": [
        "\n",
        "[0.45578703703703705, 0.3303312962367321, 0.7778695293146161]\n",
        "[0.45578703703703705, 0.3303312962367321, 0.7778695293146161]"
       ]
      },
      {
       "output_type": "stream",
       "stream": "stdout",
       "text": [
        "\n",
        "[0.45578703703703705, 0.3303312962367321, 0.7778695293146161]\n",
        "[0.45578703703703705, 0.3303312962367321, 0.7778695293146161]"
       ]
      },
      {
       "output_type": "stream",
       "stream": "stdout",
       "text": [
        "\n",
        "[0.45578703703703705, 0.3303312962367321, 0.7778695293146161]"
       ]
      },
      {
       "output_type": "stream",
       "stream": "stdout",
       "text": [
        "\n",
        "[0.45578703703703705, 0.3303312962367321, 0.7778695293146161]"
       ]
      },
      {
       "output_type": "stream",
       "stream": "stdout",
       "text": [
        "\n",
        "[0.45578703703703705, 0.3303312962367321, 0.7778695293146161]\n",
        "[0.45578703703703705, 0.3303312962367321, 0.7778695293146161]"
       ]
      },
      {
       "output_type": "stream",
       "stream": "stdout",
       "text": [
        "\n",
        "[0.45578703703703705, 0.3303312962367321, 0.7778695293146161]\n",
        "[0.45578703703703705, 0.3303312962367321, 0.7778695293146161]"
       ]
      },
      {
       "output_type": "stream",
       "stream": "stdout",
       "text": [
        "\n",
        "[0.45578703703703705, 0.3303312962367321, 0.7778695293146161]"
       ]
      },
      {
       "output_type": "stream",
       "stream": "stdout",
       "text": [
        "\n",
        "[0.45578703703703705, 0.3303312962367321, 0.7778695293146161]"
       ]
      },
      {
       "output_type": "stream",
       "stream": "stdout",
       "text": [
        "\n",
        "[0.45578703703703705, 0.3303312962367321, 0.7778695293146161]"
       ]
      },
      {
       "output_type": "stream",
       "stream": "stdout",
       "text": [
        "\n",
        "[0.45578703703703705, 0.3303312962367321, 0.7778695293146161]\n",
        "[0.45578703703703705, 0.3303312962367321, 0.7778695293146161]"
       ]
      },
      {
       "output_type": "stream",
       "stream": "stdout",
       "text": [
        "\n",
        "[0.45578703703703705, 0.3303312962367321, 0.7778695293146161]\n",
        "[0.45578703703703705, 0.3303312962367321, 0.7778695293146161]"
       ]
      },
      {
       "output_type": "stream",
       "stream": "stdout",
       "text": [
        "\n",
        "[0.45578703703703705, 0.3303312962367321, 0.7778695293146161]"
       ]
      },
      {
       "output_type": "stream",
       "stream": "stdout",
       "text": [
        "\n",
        "[0.45578703703703705, 0.3303312962367321, 0.7778695293146161]"
       ]
      },
      {
       "output_type": "stream",
       "stream": "stdout",
       "text": [
        "\n",
        "[0.45578703703703705, 0.3303312962367321, 0.7778695293146161]"
       ]
      },
      {
       "output_type": "stream",
       "stream": "stdout",
       "text": [
        "\n",
        "[0.45578703703703705, 0.3303312962367321, 0.7778695293146161]"
       ]
      },
      {
       "output_type": "stream",
       "stream": "stdout",
       "text": [
        "\n",
        "[0.45578703703703705, 0.3303312962367321, 0.7778695293146161]"
       ]
      },
      {
       "output_type": "stream",
       "stream": "stdout",
       "text": [
        "\n",
        "[0.45578703703703705, 0.3303312962367321, 0.7778695293146161]"
       ]
      },
      {
       "output_type": "stream",
       "stream": "stdout",
       "text": [
        "\n",
        "[0.45578703703703705, 0.3303312962367321, 0.7778695293146161]"
       ]
      },
      {
       "output_type": "stream",
       "stream": "stdout",
       "text": [
        "\n",
        "[0.45578703703703705, 0.3303312962367321, 0.7778695293146161]"
       ]
      },
      {
       "output_type": "stream",
       "stream": "stdout",
       "text": [
        "\n",
        "[0.45578703703703705, 0.3303312962367321, 0.7778695293146161]"
       ]
      },
      {
       "output_type": "stream",
       "stream": "stdout",
       "text": [
        "\n",
        "[0.45578703703703705, 0.3303312962367321, 0.7778695293146161]"
       ]
      },
      {
       "output_type": "stream",
       "stream": "stdout",
       "text": [
        "\n",
        "[0.45578703703703705, 0.3303312962367321, 0.7778695293146161]"
       ]
      },
      {
       "output_type": "stream",
       "stream": "stdout",
       "text": [
        "\n",
        "[0.45578703703703705, 0.3303312962367321, 0.7778695293146161]"
       ]
      },
      {
       "output_type": "stream",
       "stream": "stdout",
       "text": [
        "\n",
        "[0.45578703703703705, 0.3303312962367321, 0.7778695293146161]\n",
        "[0.45578703703703705, 0.3303312962367321, 0.7778695293146161]"
       ]
      },
      {
       "output_type": "stream",
       "stream": "stdout",
       "text": [
        "\n",
        "[0.45578703703703705, 0.3303312962367321, 0.7778695293146161]"
       ]
      },
      {
       "output_type": "stream",
       "stream": "stdout",
       "text": [
        "\n",
        "[0.45578703703703705, 0.3303312962367321, 0.7778695293146161]"
       ]
      },
      {
       "output_type": "stream",
       "stream": "stdout",
       "text": [
        "\n",
        "[0.45578703703703705, 0.3303312962367321, 0.7778695293146161]"
       ]
      },
      {
       "output_type": "stream",
       "stream": "stdout",
       "text": [
        "\n",
        "[0.45578703703703705, 0.3303312962367321, 0.7778695293146161]"
       ]
      },
      {
       "output_type": "stream",
       "stream": "stdout",
       "text": [
        "\n",
        "[0.45578703703703705, 0.3303312962367321, 0.7778695293146161]"
       ]
      },
      {
       "output_type": "stream",
       "stream": "stdout",
       "text": [
        "\n",
        "[0.45578703703703705, 0.3303312962367321, 0.7778695293146161]"
       ]
      },
      {
       "output_type": "stream",
       "stream": "stdout",
       "text": [
        "\n",
        "[0.45578703703703705, 0.3303312962367321, 0.7778695293146161]"
       ]
      },
      {
       "output_type": "stream",
       "stream": "stdout",
       "text": [
        "\n",
        "[0.45578703703703705, 0.3303312962367321, 0.7778695293146161]"
       ]
      },
      {
       "output_type": "stream",
       "stream": "stdout",
       "text": [
        "\n",
        "[0.45578703703703705, 0.3303312962367321, 0.7778695293146161]"
       ]
      },
      {
       "output_type": "stream",
       "stream": "stdout",
       "text": [
        "\n",
        "[0.45578703703703705, 0.3303312962367321, 0.7778695293146161]"
       ]
      },
      {
       "output_type": "stream",
       "stream": "stdout",
       "text": [
        "\n",
        "[0.45578703703703705, 0.3303312962367321, 0.7778695293146161]\n",
        "[0.45578703703703705, 0.3303312962367321, 0.7778695293146161]"
       ]
      },
      {
       "output_type": "stream",
       "stream": "stdout",
       "text": [
        "\n",
        "[0.45578703703703705, 0.3303312962367321, 0.7778695293146161]"
       ]
      },
      {
       "output_type": "stream",
       "stream": "stdout",
       "text": [
        "\n",
        "[0.45578703703703705, 0.3303312962367321, 0.7778695293146161]"
       ]
      },
      {
       "output_type": "stream",
       "stream": "stdout",
       "text": [
        "\n",
        "[0.45578703703703705, 0.3303312962367321, 0.7778695293146161]"
       ]
      },
      {
       "output_type": "stream",
       "stream": "stdout",
       "text": [
        "\n",
        "[0.45578703703703705, 0.3303312962367321, 0.7778695293146161]"
       ]
      },
      {
       "output_type": "stream",
       "stream": "stdout",
       "text": [
        "\n",
        "[0.45578703703703705, 0.3303312962367321, 0.7778695293146161]"
       ]
      },
      {
       "output_type": "stream",
       "stream": "stdout",
       "text": [
        "\n",
        "[0.45578703703703705, 0.3303312962367321, 0.7778695293146161]"
       ]
      },
      {
       "output_type": "stream",
       "stream": "stdout",
       "text": [
        "\n",
        "[0.45578703703703705, 0.3303312962367321, 0.7778695293146161]\n",
        "[0.45578703703703705, 0.3303312962367321, 0.7778695293146161]"
       ]
      },
      {
       "output_type": "stream",
       "stream": "stdout",
       "text": [
        "\n",
        "[0.45578703703703705, 0.3303312962367321, 0.7778695293146161]"
       ]
      },
      {
       "output_type": "stream",
       "stream": "stdout",
       "text": [
        "\n",
        "[0.45578703703703705, 0.3303312962367321, 0.7778695293146161]\n",
        "[0.45578703703703705, 0.3303312962367321, 0.7778695293146161]"
       ]
      },
      {
       "output_type": "stream",
       "stream": "stdout",
       "text": [
        "\n",
        "[0.45578703703703705, 0.3303312962367321, 0.7778695293146161]"
       ]
      },
      {
       "output_type": "stream",
       "stream": "stdout",
       "text": [
        "\n",
        "[0.45578703703703705, 0.3303312962367321, 0.7778695293146161]\n",
        "[0.45578703703703705, 0.3303312962367321, 0.7778695293146161]"
       ]
      },
      {
       "output_type": "stream",
       "stream": "stdout",
       "text": [
        "\n",
        "[0.45578703703703705, 0.3303312962367321, 0.7778695293146161]\n",
        "[0.45578703703703705, 0.3303312962367321, 0.7778695293146161]"
       ]
      },
      {
       "output_type": "stream",
       "stream": "stdout",
       "text": [
        "\n",
        "[0.45578703703703705, 0.3303312962367321, 0.7778695293146161]"
       ]
      },
      {
       "output_type": "stream",
       "stream": "stdout",
       "text": [
        "\n",
        "[0.45578703703703705, 0.3303312962367321, 0.7778695293146161]"
       ]
      },
      {
       "output_type": "stream",
       "stream": "stdout",
       "text": [
        "\n",
        "[0.45578703703703705, 0.3303312962367321, 0.7778695293146161]\n",
        "[0.45578703703703705, 0.3303312962367321, 0.7778695293146161]"
       ]
      },
      {
       "output_type": "stream",
       "stream": "stdout",
       "text": [
        "\n",
        "[0.45578703703703705, 0.3303312962367321, 0.7778695293146161]\n",
        "[0.45578703703703705, 0.3303312962367321, 0.7778695293146161]"
       ]
      },
      {
       "output_type": "stream",
       "stream": "stdout",
       "text": [
        "\n",
        "[0.45578703703703705, 0.3303312962367321, 0.7778695293146161]\n",
        "[0.45578703703703705, 0.3303312962367321, 0.7778695293146161]"
       ]
      },
      {
       "output_type": "stream",
       "stream": "stdout",
       "text": [
        "\n",
        "[0.45578703703703705, 0.3303312962367321, 0.7778695293146161]"
       ]
      },
      {
       "output_type": "stream",
       "stream": "stdout",
       "text": [
        "\n",
        "[0.45578703703703705, 0.3303312962367321, 0.7778695293146161]\n",
        "[0.45578703703703705, 0.3303312962367321, 0.7778695293146161]"
       ]
      },
      {
       "output_type": "stream",
       "stream": "stdout",
       "text": [
        "\n",
        "[0.45578703703703705, 0.3303312962367321, 0.7778695293146161]\n",
        "[0.45578703703703705, 0.3303312962367321, 0.7778695293146161]"
       ]
      },
      {
       "output_type": "stream",
       "stream": "stdout",
       "text": [
        "\n",
        "[0.45578703703703705, 0.3303312962367321, 0.7778695293146161]"
       ]
      },
      {
       "output_type": "stream",
       "stream": "stdout",
       "text": [
        "\n",
        "[0.45578703703703705, 0.3303312962367321, 0.7778695293146161]"
       ]
      },
      {
       "output_type": "stream",
       "stream": "stdout",
       "text": [
        "\n",
        "[0.45578703703703705, 0.3303312962367321, 0.7778695293146161]"
       ]
      },
      {
       "output_type": "stream",
       "stream": "stdout",
       "text": [
        "\n",
        "[0.45578703703703705, 0.3303312962367321, 0.7778695293146161]"
       ]
      },
      {
       "output_type": "stream",
       "stream": "stdout",
       "text": [
        "\n",
        "[0.45578703703703705, 0.3303312962367321, 0.7778695293146161]"
       ]
      },
      {
       "output_type": "stream",
       "stream": "stdout",
       "text": [
        "\n",
        "[0.45578703703703705, 0.3303312962367321, 0.7778695293146161]"
       ]
      },
      {
       "output_type": "stream",
       "stream": "stdout",
       "text": [
        "\n",
        "[0.45578703703703705, 0.3303312962367321, 0.7778695293146161]"
       ]
      },
      {
       "output_type": "stream",
       "stream": "stdout",
       "text": [
        "\n",
        "[0.45578703703703705, 0.3303312962367321, 0.7778695293146161]"
       ]
      },
      {
       "output_type": "stream",
       "stream": "stdout",
       "text": [
        "\n",
        "[0.45578703703703705, 0.3303312962367321, 0.7778695293146161]"
       ]
      },
      {
       "output_type": "stream",
       "stream": "stdout",
       "text": [
        "\n",
        "[0.45578703703703705, 0.3303312962367321, 0.7778695293146161]"
       ]
      },
      {
       "output_type": "stream",
       "stream": "stdout",
       "text": [
        "\n",
        "[0.45578703703703705, 0.3303312962367321, 0.7778695293146161]"
       ]
      },
      {
       "output_type": "stream",
       "stream": "stdout",
       "text": [
        "\n",
        "[0.45578703703703705, 0.3303312962367321, 0.7778695293146161]\n",
        "[0.45578703703703705, 0.3303312962367321, 0.7778695293146161]"
       ]
      },
      {
       "output_type": "stream",
       "stream": "stdout",
       "text": [
        "\n",
        "[0.45578703703703705, 0.3303312962367321, 0.7778695293146161]\n",
        "[0.45578703703703705, 0.3303312962367321, 0.7778695293146161]"
       ]
      },
      {
       "output_type": "stream",
       "stream": "stdout",
       "text": [
        "\n",
        "[0.45578703703703705, 0.3303312962367321, 0.7778695293146161]\n",
        "[0.45578703703703705, 0.3303312962367321, 0.7778695293146161]"
       ]
      },
      {
       "output_type": "stream",
       "stream": "stdout",
       "text": [
        "\n",
        "[0.45578703703703705, 0.3303312962367321, 0.7778695293146161]"
       ]
      },
      {
       "output_type": "stream",
       "stream": "stdout",
       "text": [
        "\n",
        "[0.45578703703703705, 0.3303312962367321, 0.7778695293146161]\n",
        "[0.45578703703703705, 0.3303312962367321, 0.7778695293146161]"
       ]
      },
      {
       "output_type": "stream",
       "stream": "stdout",
       "text": [
        "\n",
        "[0.45578703703703705, 0.3303312962367321, 0.7778695293146161]\n",
        "[0.45578703703703705, 0.3303312962367321, 0.7778695293146161]"
       ]
      },
      {
       "output_type": "stream",
       "stream": "stdout",
       "text": [
        "\n",
        "[0.45578703703703705, 0.3303312962367321, 0.7778695293146161]"
       ]
      },
      {
       "output_type": "stream",
       "stream": "stdout",
       "text": [
        "\n",
        "[0.45578703703703705, 0.3303312962367321, 0.7778695293146161]"
       ]
      },
      {
       "output_type": "stream",
       "stream": "stdout",
       "text": [
        "\n",
        "[0.45578703703703705, 0.3303312962367321, 0.7778695293146161]\n",
        "[0.45578703703703705, 0.3303312962367321, 0.7778695293146161]"
       ]
      },
      {
       "output_type": "stream",
       "stream": "stdout",
       "text": [
        "\n",
        "[0.45578703703703705, 0.3303312962367321, 0.7778695293146161]\n",
        "[0.45578703703703705, 0.3303312962367321, 0.7778695293146161]"
       ]
      },
      {
       "output_type": "stream",
       "stream": "stdout",
       "text": [
        "\n",
        "[0.45578703703703705, 0.3303312962367321, 0.7778695293146161]\n",
        "[0.45578703703703705, 0.3303312962367321, 0.7778695293146161]"
       ]
      },
      {
       "output_type": "stream",
       "stream": "stdout",
       "text": [
        "\n",
        "[0.45578703703703705, 0.3303312962367321, 0.7778695293146161]"
       ]
      },
      {
       "output_type": "stream",
       "stream": "stdout",
       "text": [
        "\n",
        "[0.45578703703703705, 0.3303312962367321, 0.7778695293146161]\n",
        "[0.45578703703703705, 0.3303312962367321, 0.7778695293146161]"
       ]
      },
      {
       "output_type": "stream",
       "stream": "stdout",
       "text": [
        "\n",
        "[0.45578703703703705, 0.3303312962367321, 0.7778695293146161]"
       ]
      },
      {
       "output_type": "stream",
       "stream": "stdout",
       "text": [
        "\n",
        "[0.45578703703703705, 0.3303312962367321, 0.7778695293146161]"
       ]
      },
      {
       "output_type": "stream",
       "stream": "stdout",
       "text": [
        "\n",
        "[0.45578703703703705, 0.3303312962367321, 0.7778695293146161]\n",
        "[0.45578703703703705, 0.3303312962367321, 0.7778695293146161]"
       ]
      },
      {
       "output_type": "stream",
       "stream": "stdout",
       "text": [
        "\n",
        "[0.45578703703703705, 0.3303312962367321, 0.7778695293146161]\n",
        "[0.45578703703703705, 0.3303312962367321, 0.7778695293146161]"
       ]
      },
      {
       "output_type": "stream",
       "stream": "stdout",
       "text": [
        "\n",
        "[0.45578703703703705, 0.3303312962367321, 0.7778695293146161]\n",
        "[0.45578703703703705, 0.3303312962367321, 0.7778695293146161]"
       ]
      },
      {
       "output_type": "stream",
       "stream": "stdout",
       "text": [
        "\n",
        "[0.45578703703703705, 0.3303312962367321, 0.7778695293146161]\n",
        "[0.45578703703703705, 0.3303312962367321, 0.7778695293146161]"
       ]
      },
      {
       "output_type": "stream",
       "stream": "stdout",
       "text": [
        "\n",
        "[0.45578703703703705, 0.3303312962367321, 0.7778695293146161]\n",
        "[0.45578703703703705, 0.3303312962367321, 0.7778695293146161]"
       ]
      },
      {
       "output_type": "stream",
       "stream": "stdout",
       "text": [
        "\n",
        "[0.45578703703703705, 0.3303312962367321, 0.7778695293146161]\n",
        "[0.45578703703703705, 0.3303312962367321, 0.7778695293146161]"
       ]
      },
      {
       "output_type": "stream",
       "stream": "stdout",
       "text": [
        "\n",
        "[0.45578703703703705, 0.3303312962367321, 0.7778695293146161]\n",
        "[0.45578703703703705, 0.3303312962367321, 0.7778695293146161]"
       ]
      },
      {
       "output_type": "stream",
       "stream": "stdout",
       "text": [
        "\n",
        "[0.45578703703703705, 0.3303312962367321, 0.7778695293146161]\n",
        "[0.45578703703703705, 0.3303312962367321, 0.7778695293146161]"
       ]
      },
      {
       "output_type": "stream",
       "stream": "stdout",
       "text": [
        "\n",
        "[0.45578703703703705, 0.3303312962367321, 0.7778695293146161]\n",
        "[0.45578703703703705, 0.3303312962367321, 0.7778695293146161]"
       ]
      },
      {
       "output_type": "stream",
       "stream": "stdout",
       "text": [
        "\n",
        "[0.45578703703703705, 0.3303312962367321, 0.7778695293146161]"
       ]
      },
      {
       "output_type": "stream",
       "stream": "stdout",
       "text": [
        "\n",
        "[0.45578703703703705, 0.3303312962367321, 0.7778695293146161]\n",
        "[0.45578703703703705, 0.3303312962367321, 0.7778695293146161]"
       ]
      },
      {
       "output_type": "stream",
       "stream": "stdout",
       "text": [
        "\n",
        "[0.45578703703703705, 0.3303312962367321, 0.7778695293146161]"
       ]
      },
      {
       "output_type": "stream",
       "stream": "stdout",
       "text": [
        "\n",
        "[0.45578703703703705, 0.3303312962367321, 0.7778695293146161]"
       ]
      },
      {
       "output_type": "stream",
       "stream": "stdout",
       "text": [
        "\n",
        "[0.45578703703703705, 0.3303312962367321, 0.7778695293146161]"
       ]
      },
      {
       "output_type": "stream",
       "stream": "stdout",
       "text": [
        "\n",
        "[0.45578703703703705, 0.3303312962367321, 0.7778695293146161]"
       ]
      },
      {
       "output_type": "stream",
       "stream": "stdout",
       "text": [
        "\n",
        "[0.45578703703703705, 0.3303312962367321, 0.7778695293146161]"
       ]
      },
      {
       "output_type": "stream",
       "stream": "stdout",
       "text": [
        "\n",
        "[0.45578703703703705, 0.3303312962367321, 0.7778695293146161]\n",
        "[0.45578703703703705, 0.3303312962367321, 0.7778695293146161]"
       ]
      },
      {
       "output_type": "stream",
       "stream": "stdout",
       "text": [
        "\n",
        "[0.45578703703703705, 0.3303312962367321, 0.7778695293146161]"
       ]
      },
      {
       "output_type": "stream",
       "stream": "stdout",
       "text": [
        "\n",
        "[0.45578703703703705, 0.3303312962367321, 0.7778695293146161]\n",
        "[0.45578703703703705, 0.3303312962367321, 0.7778695293146161]"
       ]
      },
      {
       "output_type": "stream",
       "stream": "stdout",
       "text": [
        "\n",
        "[0.45578703703703705, 0.3303312962367321, 0.7778695293146161]\n",
        "[0.45578703703703705, 0.3303312962367321, 0.7778695293146161]"
       ]
      },
      {
       "output_type": "stream",
       "stream": "stdout",
       "text": [
        "\n",
        "[0.45578703703703705, 0.3303312962367321, 0.7778695293146161]"
       ]
      },
      {
       "output_type": "stream",
       "stream": "stdout",
       "text": [
        "\n",
        "[0.45578703703703705, 0.3303312962367321, 0.7778695293146161]\n",
        "[0.45578703703703705, 0.3303312962367321, 0.7778695293146161]"
       ]
      },
      {
       "output_type": "stream",
       "stream": "stdout",
       "text": [
        "\n",
        "[0.45578703703703705, 0.3303312962367321, 0.7778695293146161]"
       ]
      },
      {
       "output_type": "stream",
       "stream": "stdout",
       "text": [
        "\n",
        "[0.45578703703703705, 0.3303312962367321, 0.7778695293146161]"
       ]
      },
      {
       "output_type": "stream",
       "stream": "stdout",
       "text": [
        "\n",
        "[0.45578703703703705, 0.3303312962367321, 0.7778695293146161]"
       ]
      },
      {
       "output_type": "stream",
       "stream": "stdout",
       "text": [
        "\n",
        "[0.45578703703703705, 0.3303312962367321, 0.7778695293146161]\n",
        "[0.45578703703703705, 0.3303312962367321, 0.7778695293146161]"
       ]
      },
      {
       "output_type": "stream",
       "stream": "stdout",
       "text": [
        "\n",
        "[0.45578703703703705, 0.3303312962367321, 0.7778695293146161]\n",
        "[0.45578703703703705, 0.3303312962367321, 0.7778695293146161]"
       ]
      },
      {
       "output_type": "stream",
       "stream": "stdout",
       "text": [
        "\n",
        "[0.45578703703703705, 0.3303312962367321, 0.7778695293146161]\n",
        "[0.45578703703703705, 0.3303312962367321, 0.7778695293146161]"
       ]
      },
      {
       "output_type": "stream",
       "stream": "stdout",
       "text": [
        "\n",
        "[0.45578703703703705, 0.3303312962367321, 0.7778695293146161]\n",
        "[0.45578703703703705, 0.3303312962367321, 0.7778695293146161]"
       ]
      },
      {
       "output_type": "stream",
       "stream": "stdout",
       "text": [
        "\n",
        "[0.45578703703703705, 0.3303312962367321, 0.7778695293146161]"
       ]
      },
      {
       "output_type": "stream",
       "stream": "stdout",
       "text": [
        "\n",
        "[0.45578703703703705, 0.3303312962367321, 0.7778695293146161]\n",
        "[0.45578703703703705, 0.3303312962367321, 0.7778695293146161]"
       ]
      },
      {
       "output_type": "stream",
       "stream": "stdout",
       "text": [
        "\n",
        "[0.45578703703703705, 0.3303312962367321, 0.7778695293146161]\n",
        "[0.45578703703703705, 0.3303312962367321, 0.7778695293146161]"
       ]
      },
      {
       "output_type": "stream",
       "stream": "stdout",
       "text": [
        "\n",
        "[0.45578703703703705, 0.3303312962367321, 0.7778695293146161]"
       ]
      },
      {
       "output_type": "stream",
       "stream": "stdout",
       "text": [
        "\n",
        "[0.45578703703703705, 0.3303312962367321, 0.7778695293146161]"
       ]
      },
      {
       "output_type": "stream",
       "stream": "stdout",
       "text": [
        "\n",
        "[0.45578703703703705, 0.3303312962367321, 0.7778695293146161]"
       ]
      },
      {
       "output_type": "stream",
       "stream": "stdout",
       "text": [
        "\n",
        "[0.45578703703703705, 0.3303312962367321, 0.7778695293146161]\n",
        "[0.45578703703703705, 0.3303312962367321, 0.7778695293146161]"
       ]
      },
      {
       "output_type": "stream",
       "stream": "stdout",
       "text": [
        "\n",
        "[0.45578703703703705, 0.3303312962367321, 0.7778695293146161]"
       ]
      },
      {
       "output_type": "stream",
       "stream": "stdout",
       "text": [
        "\n",
        "[0.45578703703703705, 0.3303312962367321, 0.7778695293146161]"
       ]
      },
      {
       "output_type": "stream",
       "stream": "stdout",
       "text": [
        "\n",
        "[0.45578703703703705, 0.3303312962367321, 0.7778695293146161]"
       ]
      },
      {
       "output_type": "stream",
       "stream": "stdout",
       "text": [
        "\n",
        "[0.45578703703703705, 0.3303312962367321, 0.7778695293146161]"
       ]
      },
      {
       "output_type": "stream",
       "stream": "stdout",
       "text": [
        "\n",
        "[0.45578703703703705, 0.3303312962367321, 0.7778695293146161]\n",
        "[0.45578703703703705, 0.3303312962367321, 0.7778695293146161]"
       ]
      },
      {
       "output_type": "stream",
       "stream": "stdout",
       "text": [
        "\n",
        "[0.45578703703703705, 0.3303312962367321, 0.7778695293146161]\n",
        "[0.45578703703703705, 0.3303312962367321, 0.7778695293146161]"
       ]
      },
      {
       "output_type": "stream",
       "stream": "stdout",
       "text": [
        "\n",
        "[0.45578703703703705, 0.3303312962367321, 0.7778695293146161]\n",
        "[0.45578703703703705, 0.3303312962367321, 0.7778695293146161]"
       ]
      },
      {
       "output_type": "stream",
       "stream": "stdout",
       "text": [
        "\n",
        "[0.45578703703703705, 0.3303312962367321, 0.7778695293146161]\n",
        "[0.45578703703703705, 0.3303312962367321, 0.7778695293146161]"
       ]
      },
      {
       "output_type": "stream",
       "stream": "stdout",
       "text": [
        "\n",
        "[0.45578703703703705, 0.3303312962367321, 0.7778695293146161]\n",
        "[0.45578703703703705, 0.3303312962367321, 0.7778695293146161]"
       ]
      },
      {
       "output_type": "stream",
       "stream": "stdout",
       "text": [
        "\n",
        "[0.45578703703703705, 0.3303312962367321, 0.7778695293146161]\n",
        "[0.45578703703703705, 0.3303312962367321, 0.7778695293146161]"
       ]
      },
      {
       "output_type": "stream",
       "stream": "stdout",
       "text": [
        "\n",
        "[0.45578703703703705, 0.3303312962367321, 0.7778695293146161]\n",
        "[0.45578703703703705, 0.3303312962367321, 0.7778695293146161]"
       ]
      },
      {
       "output_type": "stream",
       "stream": "stdout",
       "text": [
        "\n",
        "[0.45578703703703705, 0.3303312962367321, 0.7778695293146161]\n",
        "[0.45578703703703705, 0.3303312962367321, 0.7778695293146161]"
       ]
      },
      {
       "output_type": "stream",
       "stream": "stdout",
       "text": [
        "\n",
        "[0.45578703703703705, 0.3303312962367321, 0.7778695293146161]"
       ]
      },
      {
       "output_type": "stream",
       "stream": "stdout",
       "text": [
        "\n",
        "[0.45578703703703705, 0.3303312962367321, 0.7778695293146161]"
       ]
      },
      {
       "output_type": "stream",
       "stream": "stdout",
       "text": [
        "\n",
        "[0.45578703703703705, 0.3303312962367321, 0.7778695293146161]"
       ]
      },
      {
       "output_type": "stream",
       "stream": "stdout",
       "text": [
        "\n",
        "[0.45578703703703705, 0.3303312962367321, 0.7778695293146161]"
       ]
      },
      {
       "output_type": "stream",
       "stream": "stdout",
       "text": [
        "\n",
        "[0.45578703703703705, 0.3303312962367321, 0.7778695293146161]\n",
        "[0.45578703703703705, 0.3303312962367321, 0.7778695293146161]"
       ]
      },
      {
       "output_type": "stream",
       "stream": "stdout",
       "text": [
        "\n",
        "[0.45578703703703705, 0.3303312962367321, 0.7778695293146161]\n",
        "[0.45578703703703705, 0.3303312962367321, 0.7778695293146161]"
       ]
      },
      {
       "output_type": "stream",
       "stream": "stdout",
       "text": [
        "\n",
        "[0.45578703703703705, 0.3303312962367321, 0.7778695293146161]\n",
        "[0.45578703703703705, 0.3303312962367321, 0.7778695293146161]"
       ]
      },
      {
       "output_type": "stream",
       "stream": "stdout",
       "text": [
        "\n",
        "[0.45578703703703705, 0.3303312962367321, 0.7778695293146161]\n",
        "[0.45578703703703705, 0.3303312962367321, 0.7778695293146161]"
       ]
      },
      {
       "output_type": "stream",
       "stream": "stdout",
       "text": [
        "\n",
        "[0.45578703703703705, 0.3303312962367321, 0.7778695293146161]"
       ]
      },
      {
       "output_type": "stream",
       "stream": "stdout",
       "text": [
        "\n",
        "[0.45578703703703705, 0.3303312962367321, 0.7778695293146161]"
       ]
      },
      {
       "output_type": "stream",
       "stream": "stdout",
       "text": [
        "\n",
        "[0.45578703703703705, 0.3303312962367321, 0.7778695293146161]\n",
        "[0.45578703703703705, 0.3303312962367321, 0.7778695293146161]"
       ]
      },
      {
       "output_type": "stream",
       "stream": "stdout",
       "text": [
        "\n",
        "[0.45578703703703705, 0.3303312962367321, 0.7778695293146161]\n",
        "[0.45578703703703705, 0.3303312962367321, 0.7778695293146161]"
       ]
      },
      {
       "output_type": "stream",
       "stream": "stdout",
       "text": [
        "\n",
        "[0.45578703703703705, 0.3303312962367321, 0.7778695293146161]\n",
        "[0.45578703703703705, 0.3303312962367321, 0.7778695293146161]"
       ]
      },
      {
       "output_type": "stream",
       "stream": "stdout",
       "text": [
        "\n",
        "[0.45578703703703705, 0.3303312962367321, 0.7778695293146161]"
       ]
      },
      {
       "output_type": "stream",
       "stream": "stdout",
       "text": [
        "\n",
        "[0.45578703703703705, 0.3303312962367321, 0.7778695293146161]"
       ]
      },
      {
       "output_type": "stream",
       "stream": "stdout",
       "text": [
        "\n",
        "[0.45578703703703705, 0.3303312962367321, 0.7778695293146161]\n",
        "[0.45578703703703705, 0.3303312962367321, 0.7778695293146161]"
       ]
      },
      {
       "output_type": "stream",
       "stream": "stdout",
       "text": [
        "\n",
        "[0.45578703703703705, 0.3303312962367321, 0.7778695293146161]\n"
       ]
      },
      {
       "output_type": "stream",
       "stream": "stdout",
       "text": [
        "[0.45578703703703705, 0.3303312962367321, 0.7778695293146161]\n",
        "[0.45578703703703705, 0.3303312962367321, 0.7778695293146161]\n",
        "[0.45578703703703705, 0.3303312962367321, 0.7778695293146161]"
       ]
      },
      {
       "output_type": "stream",
       "stream": "stdout",
       "text": [
        "\n",
        "[0.45578703703703705, 0.3303312962367321, 0.7778695293146161]\n",
        "[0.45578703703703705, 0.3303312962367321, 0.7778695293146161]"
       ]
      },
      {
       "output_type": "stream",
       "stream": "stdout",
       "text": [
        "\n",
        "[0.45578703703703705, 0.3303312962367321, 0.7778695293146161]\n",
        "[0.45578703703703705, 0.3303312962367321, 0.7778695293146161]"
       ]
      },
      {
       "output_type": "stream",
       "stream": "stdout",
       "text": [
        "\n",
        "[0.45578703703703705, 0.3303312962367321, 0.7778695293146161]\n",
        "[0.45578703703703705, 0.3303312962367321, 0.7778695293146161]"
       ]
      },
      {
       "output_type": "stream",
       "stream": "stdout",
       "text": [
        "\n",
        "[0.45578703703703705, 0.3303312962367321, 0.7778695293146161]"
       ]
      },
      {
       "output_type": "stream",
       "stream": "stdout",
       "text": [
        "\n",
        "[0.45578703703703705, 0.3303312962367321, 0.7778695293146161]"
       ]
      },
      {
       "output_type": "stream",
       "stream": "stdout",
       "text": [
        "\n",
        "[0.45578703703703705, 0.3303312962367321, 0.7778695293146161]"
       ]
      },
      {
       "output_type": "stream",
       "stream": "stdout",
       "text": [
        "\n",
        "[0.45578703703703705, 0.3303312962367321, 0.7778695293146161]"
       ]
      },
      {
       "output_type": "stream",
       "stream": "stdout",
       "text": [
        "\n",
        "[0.45578703703703705, 0.3303312962367321, 0.7778695293146161]"
       ]
      },
      {
       "output_type": "stream",
       "stream": "stdout",
       "text": [
        "\n",
        "[0.45578703703703705, 0.3303312962367321, 0.7778695293146161]"
       ]
      },
      {
       "output_type": "stream",
       "stream": "stdout",
       "text": [
        "\n",
        "[0.45578703703703705, 0.3303312962367321, 0.7778695293146161]"
       ]
      },
      {
       "output_type": "stream",
       "stream": "stdout",
       "text": [
        "\n",
        "[0.45578703703703705, 0.3303312962367321, 0.7778695293146161]\n",
        "[0.45578703703703705, 0.3303312962367321, 0.7778695293146161]"
       ]
      },
      {
       "output_type": "stream",
       "stream": "stdout",
       "text": [
        "\n",
        "[0.45578703703703705, 0.3303312962367321, 0.7778695293146161]\n",
        "[0.45578703703703705, 0.3303312962367321, 0.7778695293146161]"
       ]
      },
      {
       "output_type": "stream",
       "stream": "stdout",
       "text": [
        "\n",
        "[0.45578703703703705, 0.3303312962367321, 0.7778695293146161]\n",
        "[0.45578703703703705, 0.3303312962367321, 0.7778695293146161]"
       ]
      },
      {
       "output_type": "stream",
       "stream": "stdout",
       "text": [
        "\n",
        "[0.45578703703703705, 0.3303312962367321, 0.7778695293146161]"
       ]
      },
      {
       "output_type": "stream",
       "stream": "stdout",
       "text": [
        "\n",
        "[0.45578703703703705, 0.3303312962367321, 0.7778695293146161]"
       ]
      },
      {
       "output_type": "stream",
       "stream": "stdout",
       "text": [
        "\n",
        "[0.45578703703703705, 0.3303312962367321, 0.7778695293146161]"
       ]
      },
      {
       "output_type": "stream",
       "stream": "stdout",
       "text": [
        "\n",
        "[0.45578703703703705, 0.3303312962367321, 0.7778695293146161]\n",
        "[0.45578703703703705, 0.3303312962367321, 0.7778695293146161]"
       ]
      },
      {
       "output_type": "stream",
       "stream": "stdout",
       "text": [
        "\n",
        "[0.45578703703703705, 0.3303312962367321, 0.7778695293146161]\n",
        "[0.45578703703703705, 0.3303312962367321, 0.7778695293146161]"
       ]
      },
      {
       "output_type": "stream",
       "stream": "stdout",
       "text": [
        "\n",
        "[0.45578703703703705, 0.3303312962367321, 0.7778695293146161]\n",
        "[0.45578703703703705, 0.3303312962367321, 0.7778695293146161]"
       ]
      },
      {
       "output_type": "stream",
       "stream": "stdout",
       "text": [
        "\n",
        "[0.45578703703703705, 0.3303312962367321, 0.7778695293146161]"
       ]
      },
      {
       "output_type": "stream",
       "stream": "stdout",
       "text": [
        "\n",
        "[0.45578703703703705, 0.3303312962367321, 0.7778695293146161]\n",
        "[0.45578703703703705, 0.3303312962367321, 0.7778695293146161]"
       ]
      },
      {
       "output_type": "stream",
       "stream": "stdout",
       "text": [
        "\n",
        "[0.45578703703703705, 0.3303312962367321, 0.7778695293146161]"
       ]
      },
      {
       "output_type": "stream",
       "stream": "stdout",
       "text": [
        "\n",
        "[0.45578703703703705, 0.3303312962367321, 0.7778695293146161]"
       ]
      },
      {
       "output_type": "stream",
       "stream": "stdout",
       "text": [
        "\n",
        "[0.45578703703703705, 0.3303312962367321, 0.7778695293146161]"
       ]
      },
      {
       "output_type": "stream",
       "stream": "stdout",
       "text": [
        "\n",
        "[0.45578703703703705, 0.3303312962367321, 0.7778695293146161]"
       ]
      },
      {
       "output_type": "stream",
       "stream": "stdout",
       "text": [
        "\n",
        "[0.45578703703703705, 0.3303312962367321, 0.7778695293146161]\n",
        "[0.45578703703703705, 0.3303312962367321, 0.7778695293146161]"
       ]
      },
      {
       "output_type": "stream",
       "stream": "stdout",
       "text": [
        "\n",
        "[0.45578703703703705, 0.3303312962367321, 0.7778695293146161]"
       ]
      },
      {
       "output_type": "stream",
       "stream": "stdout",
       "text": [
        "\n",
        "[0.45578703703703705, 0.3303312962367321, 0.7778695293146161]"
       ]
      },
      {
       "output_type": "stream",
       "stream": "stdout",
       "text": [
        "\n",
        "[0.45578703703703705, 0.3303312962367321, 0.7778695293146161]"
       ]
      },
      {
       "output_type": "stream",
       "stream": "stdout",
       "text": [
        "\n",
        "[0.45578703703703705, 0.3303312962367321, 0.7778695293146161]\n",
        "[0.45578703703703705, 0.3303312962367321, 0.7778695293146161]"
       ]
      },
      {
       "output_type": "stream",
       "stream": "stdout",
       "text": [
        "\n",
        "[0.45578703703703705, 0.3303312962367321, 0.7778695293146161]\n",
        "[0.45578703703703705, 0.3303312962367321, 0.7778695293146161]"
       ]
      },
      {
       "output_type": "stream",
       "stream": "stdout",
       "text": [
        "\n",
        "[0.45578703703703705, 0.3303312962367321, 0.7778695293146161]\n",
        "[0.45578703703703705, 0.3303312962367321, 0.7778695293146161]"
       ]
      },
      {
       "output_type": "stream",
       "stream": "stdout",
       "text": [
        "\n",
        "[0.45578703703703705, 0.3303312962367321, 0.7778695293146161]\n",
        "[0.45578703703703705, 0.3303312962367321, 0.7778695293146161]"
       ]
      },
      {
       "output_type": "stream",
       "stream": "stdout",
       "text": [
        "\n",
        "[0.45578703703703705, 0.3303312962367321, 0.7778695293146161]\n",
        "[0.45578703703703705, 0.3303312962367321, 0.7778695293146161]"
       ]
      },
      {
       "output_type": "stream",
       "stream": "stdout",
       "text": [
        "\n",
        "[0.45578703703703705, 0.3303312962367321, 0.7778695293146161]\n",
        "[0.45578703703703705, 0.3303312962367321, 0.7778695293146161]"
       ]
      },
      {
       "output_type": "stream",
       "stream": "stdout",
       "text": [
        "\n",
        "[0.45578703703703705, 0.3303312962367321, 0.7778695293146161]"
       ]
      },
      {
       "output_type": "stream",
       "stream": "stdout",
       "text": [
        "\n",
        "[0.45578703703703705, 0.3303312962367321, 0.7778695293146161]"
       ]
      },
      {
       "output_type": "stream",
       "stream": "stdout",
       "text": [
        "\n",
        "[0.45578703703703705, 0.3303312962367321, 0.7778695293146161]"
       ]
      },
      {
       "output_type": "stream",
       "stream": "stdout",
       "text": [
        "\n",
        "[0.45578703703703705, 0.3303312962367321, 0.7778695293146161]\n",
        "[0.45578703703703705, 0.3303312962367321, 0.7778695293146161]"
       ]
      },
      {
       "output_type": "stream",
       "stream": "stdout",
       "text": [
        "\n",
        "[0.45578703703703705, 0.3303312962367321, 0.7778695293146161]\n",
        "[0.45578703703703705, 0.3303312962367321, 0.7778695293146161]"
       ]
      },
      {
       "output_type": "stream",
       "stream": "stdout",
       "text": [
        "\n",
        "[0.45578703703703705, 0.3303312962367321, 0.7778695293146161]"
       ]
      },
      {
       "output_type": "stream",
       "stream": "stdout",
       "text": [
        "\n",
        "[0.45578703703703705, 0.3303312962367321, 0.7778695293146161]\n",
        "[0.45578703703703705, 0.3303312962367321, 0.7778695293146161]"
       ]
      },
      {
       "output_type": "stream",
       "stream": "stdout",
       "text": [
        "\n",
        "[0.45578703703703705, 0.3303312962367321, 0.7778695293146161]\n",
        "[0.45578703703703705, 0.3303312962367321, 0.7778695293146161]"
       ]
      },
      {
       "output_type": "stream",
       "stream": "stdout",
       "text": [
        "\n",
        "[0.45578703703703705, 0.3303312962367321, 0.7778695293146161]\n",
        "[0.45578703703703705, 0.3303312962367321, 0.7778695293146161]"
       ]
      },
      {
       "output_type": "stream",
       "stream": "stdout",
       "text": [
        "\n",
        "[0.45578703703703705, 0.3303312962367321, 0.7778695293146161]"
       ]
      },
      {
       "output_type": "stream",
       "stream": "stdout",
       "text": [
        "\n",
        "[0.45578703703703705, 0.3303312962367321, 0.7778695293146161]\n",
        "[0.45578703703703705, 0.3303312962367321, 0.7778695293146161]"
       ]
      },
      {
       "output_type": "stream",
       "stream": "stdout",
       "text": [
        "\n",
        "[0.45578703703703705, 0.3303312962367321, 0.7778695293146161]\n",
        "[0.45578703703703705, 0.3303312962367321, 0.7778695293146161]"
       ]
      },
      {
       "output_type": "stream",
       "stream": "stdout",
       "text": [
        "\n",
        "[0.45578703703703705, 0.3303312962367321, 0.7778695293146161]\n",
        "[0.45578703703703705, 0.3303312962367321, 0.7778695293146161]"
       ]
      },
      {
       "output_type": "stream",
       "stream": "stdout",
       "text": [
        "\n",
        "[0.45578703703703705, 0.3303312962367321, 0.7778695293146161]"
       ]
      },
      {
       "output_type": "stream",
       "stream": "stdout",
       "text": [
        "\n",
        "[0.45578703703703705, 0.3303312962367321, 0.7778695293146161]"
       ]
      },
      {
       "output_type": "stream",
       "stream": "stdout",
       "text": [
        "\n",
        "[0.45578703703703705, 0.3303312962367321, 0.7778695293146161]\n",
        "[0.45578703703703705, 0.3303312962367321, 0.7778695293146161]"
       ]
      },
      {
       "output_type": "stream",
       "stream": "stdout",
       "text": [
        "\n",
        "[0.45578703703703705, 0.3303312962367321, 0.7778695293146161]\n",
        "[0.45578703703703705, 0.3303312962367321, 0.7778695293146161]"
       ]
      },
      {
       "output_type": "stream",
       "stream": "stdout",
       "text": [
        "\n",
        "[0.45578703703703705, 0.3303312962367321, 0.7778695293146161]"
       ]
      },
      {
       "output_type": "stream",
       "stream": "stdout",
       "text": [
        "\n",
        "[0.45578703703703705, 0.3303312962367321, 0.7778695293146161]\n",
        "[0.45578703703703705, 0.3303312962367321, 0.7778695293146161]"
       ]
      },
      {
       "output_type": "stream",
       "stream": "stdout",
       "text": [
        "\n",
        "[0.45578703703703705, 0.3303312962367321, 0.7778695293146161]\n",
        "[0.45578703703703705, 0.3303312962367321, 0.7778695293146161]"
       ]
      },
      {
       "output_type": "stream",
       "stream": "stdout",
       "text": [
        "\n",
        "[0.45578703703703705, 0.3303312962367321, 0.7778695293146161]"
       ]
      },
      {
       "output_type": "stream",
       "stream": "stdout",
       "text": [
        "\n",
        "[0.45578703703703705, 0.3303312962367321, 0.7778695293146161]\n",
        "[0.45578703703703705, 0.3303312962367321, 0.7778695293146161]"
       ]
      },
      {
       "output_type": "stream",
       "stream": "stdout",
       "text": [
        "\n",
        "[0.45578703703703705, 0.3303312962367321, 0.7778695293146161]"
       ]
      },
      {
       "output_type": "stream",
       "stream": "stdout",
       "text": [
        "\n",
        "[0.45578703703703705, 0.3303312962367321, 0.7778695293146161]"
       ]
      },
      {
       "output_type": "stream",
       "stream": "stdout",
       "text": [
        "\n",
        "[0.45578703703703705, 0.3303312962367321, 0.7778695293146161]\n",
        "[0.45578703703703705, 0.3303312962367321, 0.7778695293146161]"
       ]
      },
      {
       "output_type": "stream",
       "stream": "stdout",
       "text": [
        "\n",
        "[0.45578703703703705, 0.3303312962367321, 0.7778695293146161]\n",
        "[0.45578703703703705, 0.3303312962367321, 0.7778695293146161]"
       ]
      },
      {
       "output_type": "stream",
       "stream": "stdout",
       "text": [
        "\n",
        "[0.45578703703703705, 0.3303312962367321, 0.7778695293146161]"
       ]
      },
      {
       "output_type": "stream",
       "stream": "stdout",
       "text": [
        "\n",
        "[0.45578703703703705, 0.3303312962367321, 0.7778695293146161]"
       ]
      },
      {
       "output_type": "stream",
       "stream": "stdout",
       "text": [
        "\n",
        "[0.45578703703703705, 0.3303312962367321, 0.7778695293146161]"
       ]
      },
      {
       "output_type": "stream",
       "stream": "stdout",
       "text": [
        "\n",
        "[0.45578703703703705, 0.3303312962367321, 0.7778695293146161]\n",
        "[0.45578703703703705, 0.3303312962367321, 0.7778695293146161]"
       ]
      },
      {
       "output_type": "stream",
       "stream": "stdout",
       "text": [
        "\n",
        "[0.45578703703703705, 0.3303312962367321, 0.7778695293146161]"
       ]
      },
      {
       "output_type": "stream",
       "stream": "stdout",
       "text": [
        "\n",
        "[0.45578703703703705, 0.3303312962367321, 0.7778695293146161]"
       ]
      },
      {
       "output_type": "stream",
       "stream": "stdout",
       "text": [
        "\n",
        "[0.45578703703703705, 0.3303312962367321, 0.7778695293146161]\n",
        "[0.45578703703703705, 0.3303312962367321, 0.7778695293146161]"
       ]
      },
      {
       "output_type": "stream",
       "stream": "stdout",
       "text": [
        "\n",
        "[0.45578703703703705, 0.3303312962367321, 0.7778695293146161]"
       ]
      },
      {
       "output_type": "stream",
       "stream": "stdout",
       "text": [
        "\n",
        "[0.45578703703703705, 0.3303312962367321, 0.7778695293146161]"
       ]
      },
      {
       "output_type": "stream",
       "stream": "stdout",
       "text": [
        "\n",
        "[0.45578703703703705, 0.3303312962367321, 0.7778695293146161]\n",
        "[0.45578703703703705, 0.3303312962367321, 0.7778695293146161]"
       ]
      },
      {
       "output_type": "stream",
       "stream": "stdout",
       "text": [
        "\n",
        "[0.45578703703703705, 0.3303312962367321, 0.7778695293146161]\n",
        "[0.45578703703703705, 0.3303312962367321, 0.7778695293146161]"
       ]
      },
      {
       "output_type": "stream",
       "stream": "stdout",
       "text": [
        "\n",
        "[0.45578703703703705, 0.3303312962367321, 0.7778695293146161]\n",
        "[0.45578703703703705, 0.3303312962367321, 0.7778695293146161]"
       ]
      },
      {
       "output_type": "stream",
       "stream": "stdout",
       "text": [
        "\n",
        "[0.45578703703703705, 0.3303312962367321, 0.7778695293146161]\n",
        "[0.45578703703703705, 0.3303312962367321, 0.7778695293146161]"
       ]
      },
      {
       "output_type": "stream",
       "stream": "stdout",
       "text": [
        "\n",
        "[0.45578703703703705, 0.3303312962367321, 0.7778695293146161]"
       ]
      },
      {
       "output_type": "stream",
       "stream": "stdout",
       "text": [
        "\n",
        "[0.45578703703703705, 0.3303312962367321, 0.7778695293146161]"
       ]
      },
      {
       "output_type": "stream",
       "stream": "stdout",
       "text": [
        "\n",
        "[0.45578703703703705, 0.3303312962367321, 0.7778695293146161]"
       ]
      },
      {
       "output_type": "stream",
       "stream": "stdout",
       "text": [
        "\n",
        "[0.45578703703703705, 0.3303312962367321, 0.7778695293146161]\n",
        "[0.45578703703703705, 0.3303312962367321, 0.7778695293146161]"
       ]
      },
      {
       "output_type": "stream",
       "stream": "stdout",
       "text": [
        "\n",
        "[0.45578703703703705, 0.3303312962367321, 0.7778695293146161]\n",
        "[0.45578703703703705, 0.3303312962367321, 0.7778695293146161]"
       ]
      },
      {
       "output_type": "stream",
       "stream": "stdout",
       "text": [
        "\n",
        "[0.45578703703703705, 0.3303312962367321, 0.7778695293146161]"
       ]
      },
      {
       "output_type": "stream",
       "stream": "stdout",
       "text": [
        "\n",
        "[0.45578703703703705, 0.3303312962367321, 0.7778695293146161]\n",
        "[0.45578703703703705, 0.3303312962367321, 0.7778695293146161]"
       ]
      },
      {
       "output_type": "stream",
       "stream": "stdout",
       "text": [
        "\n",
        "[0.45578703703703705, 0.3303312962367321, 0.7778695293146161]\n",
        "[0.45578703703703705, 0.3303312962367321, 0.7778695293146161]"
       ]
      },
      {
       "output_type": "stream",
       "stream": "stdout",
       "text": [
        "\n",
        "[0.45578703703703705, 0.3303312962367321, 0.7778695293146161]"
       ]
      },
      {
       "output_type": "stream",
       "stream": "stdout",
       "text": [
        "\n",
        "[0.45578703703703705, 0.3303312962367321, 0.7778695293146161]"
       ]
      },
      {
       "output_type": "stream",
       "stream": "stdout",
       "text": [
        "\n",
        "[0.45578703703703705, 0.3303312962367321, 0.7778695293146161]"
       ]
      },
      {
       "output_type": "stream",
       "stream": "stdout",
       "text": [
        "\n",
        "[0.45578703703703705, 0.3303312962367321, 0.7778695293146161]"
       ]
      },
      {
       "output_type": "stream",
       "stream": "stdout",
       "text": [
        "\n",
        "[0.45578703703703705, 0.3303312962367321, 0.7778695293146161]"
       ]
      },
      {
       "output_type": "stream",
       "stream": "stdout",
       "text": [
        "\n",
        "[0.45578703703703705, 0.3303312962367321, 0.7778695293146161]\n",
        "[0.45578703703703705, 0.3303312962367321, 0.7778695293146161]"
       ]
      },
      {
       "output_type": "stream",
       "stream": "stdout",
       "text": [
        "\n",
        "[0.45578703703703705, 0.3303312962367321, 0.7778695293146161]"
       ]
      },
      {
       "output_type": "stream",
       "stream": "stdout",
       "text": [
        "\n",
        "[0.45578703703703705, 0.3303312962367321, 0.7778695293146161]"
       ]
      },
      {
       "output_type": "stream",
       "stream": "stdout",
       "text": [
        "\n",
        "[0.45578703703703705, 0.3303312962367321, 0.7778695293146161]"
       ]
      },
      {
       "output_type": "stream",
       "stream": "stdout",
       "text": [
        "\n",
        "[0.45578703703703705, 0.3303312962367321, 0.7778695293146161]"
       ]
      },
      {
       "output_type": "stream",
       "stream": "stdout",
       "text": [
        "\n",
        "[0.45578703703703705, 0.3303312962367321, 0.7778695293146161]\n",
        "[0.45578703703703705, 0.3303312962367321, 0.7778695293146161]"
       ]
      },
      {
       "output_type": "stream",
       "stream": "stdout",
       "text": [
        "\n",
        "[0.45578703703703705, 0.3303312962367321, 0.7778695293146161]"
       ]
      },
      {
       "output_type": "stream",
       "stream": "stdout",
       "text": [
        "\n",
        "[0.45578703703703705, 0.3303312962367321, 0.7778695293146161]"
       ]
      },
      {
       "output_type": "stream",
       "stream": "stdout",
       "text": [
        "\n",
        "[0.45578703703703705, 0.3303312962367321, 0.7778695293146161]\n",
        "[0.45578703703703705, 0.3303312962367321, 0.7778695293146161]"
       ]
      },
      {
       "output_type": "stream",
       "stream": "stdout",
       "text": [
        "\n",
        "[0.45578703703703705, 0.3303312962367321, 0.7778695293146161]\n",
        "[0.45578703703703705, 0.3303312962367321, 0.7778695293146161]"
       ]
      },
      {
       "output_type": "stream",
       "stream": "stdout",
       "text": [
        "\n",
        "[0.45578703703703705, 0.3303312962367321, 0.7778695293146161]\n",
        "[0.45578703703703705, 0.3303312962367321, 0.7778695293146161]"
       ]
      },
      {
       "output_type": "stream",
       "stream": "stdout",
       "text": [
        "\n",
        "[0.45578703703703705, 0.3303312962367321, 0.7778695293146161]"
       ]
      },
      {
       "output_type": "stream",
       "stream": "stdout",
       "text": [
        "\n",
        "[0.45578703703703705, 0.3303312962367321, 0.7778695293146161]\n",
        "[0.45578703703703705, 0.3303312962367321, 0.7778695293146161]"
       ]
      },
      {
       "output_type": "stream",
       "stream": "stdout",
       "text": [
        "\n",
        "[0.45578703703703705, 0.3303312962367321, 0.7778695293146161]\n",
        "[0.45578703703703705, 0.3303312962367321, 0.7778695293146161]"
       ]
      },
      {
       "output_type": "stream",
       "stream": "stdout",
       "text": [
        "\n",
        "[0.45578703703703705, 0.3303312962367321, 0.7778695293146161]\n",
        "[0.45578703703703705, 0.3303312962367321, 0.7778695293146161]"
       ]
      },
      {
       "output_type": "stream",
       "stream": "stdout",
       "text": [
        "\n",
        "[0.45578703703703705, 0.3303312962367321, 0.7778695293146161]"
       ]
      },
      {
       "output_type": "stream",
       "stream": "stdout",
       "text": [
        "\n",
        "[0.45578703703703705, 0.3303312962367321, 0.7778695293146161]"
       ]
      },
      {
       "output_type": "stream",
       "stream": "stdout",
       "text": [
        "\n",
        "[0.45578703703703705, 0.3303312962367321, 0.7778695293146161]\n",
        "[0.45578703703703705, 0.3303312962367321, 0.7778695293146161]"
       ]
      },
      {
       "output_type": "stream",
       "stream": "stdout",
       "text": [
        "\n",
        "[0.45578703703703705, 0.3303312962367321, 0.7778695293146161]\n",
        "[0.45578703703703705, 0.3303312962367321, 0.7778695293146161]"
       ]
      },
      {
       "output_type": "stream",
       "stream": "stdout",
       "text": [
        "\n",
        "[0.45578703703703705, 0.3303312962367321, 0.7778695293146161]\n",
        "[0.45578703703703705, 0.3303312962367321, 0.7778695293146161]"
       ]
      },
      {
       "output_type": "stream",
       "stream": "stdout",
       "text": [
        "\n",
        "[0.45578703703703705, 0.3303312962367321, 0.7778695293146161]"
       ]
      },
      {
       "output_type": "stream",
       "stream": "stdout",
       "text": [
        "\n",
        "[0.45578703703703705, 0.3303312962367321, 0.7778695293146161]\n",
        "[0.45578703703703705, 0.3303312962367321, 0.7778695293146161]"
       ]
      },
      {
       "output_type": "stream",
       "stream": "stdout",
       "text": [
        "\n",
        "[0.45578703703703705, 0.3303312962367321, 0.7778695293146161]\n",
        "[0.45578703703703705, 0.3303312962367321, 0.7778695293146161]"
       ]
      },
      {
       "output_type": "stream",
       "stream": "stdout",
       "text": [
        "\n",
        "[0.45578703703703705, 0.3303312962367321, 0.7778695293146161]\n",
        "[0.45578703703703705, 0.3303312962367321, 0.7778695293146161]"
       ]
      },
      {
       "output_type": "stream",
       "stream": "stdout",
       "text": [
        "\n",
        "[0.45578703703703705, 0.3303312962367321, 0.7778695293146161]"
       ]
      },
      {
       "output_type": "stream",
       "stream": "stdout",
       "text": [
        "\n",
        "[0.45578703703703705, 0.3303312962367321, 0.7778695293146161]\n",
        "[0.45578703703703705, 0.3303312962367321, 0.7778695293146161]"
       ]
      },
      {
       "output_type": "stream",
       "stream": "stdout",
       "text": [
        "\n",
        "[0.45578703703703705, 0.3303312962367321, 0.7778695293146161]\n",
        "[0.45578703703703705, 0.3303312962367321, 0.7778695293146161]"
       ]
      },
      {
       "output_type": "stream",
       "stream": "stdout",
       "text": [
        "\n",
        "[0.45578703703703705, 0.3303312962367321, 0.7778695293146161]\n",
        "[0.45578703703703705, 0.3303312962367321, 0.7778695293146161]"
       ]
      },
      {
       "output_type": "stream",
       "stream": "stdout",
       "text": [
        "\n",
        "[0.45578703703703705, 0.3303312962367321, 0.7778695293146161]"
       ]
      },
      {
       "output_type": "stream",
       "stream": "stdout",
       "text": [
        "\n",
        "[0.45578703703703705, 0.3303312962367321, 0.7778695293146161]\n",
        "[0.45578703703703705, 0.3303312962367321, 0.7778695293146161]"
       ]
      },
      {
       "output_type": "stream",
       "stream": "stdout",
       "text": [
        "\n",
        "[0.45578703703703705, 0.3303312962367321, 0.7778695293146161]\n",
        "[0.45578703703703705, 0.3303312962367321, 0.7778695293146161]"
       ]
      },
      {
       "output_type": "stream",
       "stream": "stdout",
       "text": [
        "\n",
        "[0.45578703703703705, 0.3303312962367321, 0.7778695293146161]\n",
        "[0.45578703703703705, 0.3303312962367321, 0.7778695293146161]"
       ]
      },
      {
       "output_type": "stream",
       "stream": "stdout",
       "text": [
        "\n",
        "[0.45578703703703705, 0.3303312962367321, 0.7778695293146161]\n",
        "[0.45578703703703705, 0.3303312962367321, 0.7778695293146161]"
       ]
      },
      {
       "output_type": "stream",
       "stream": "stdout",
       "text": [
        "\n",
        "[0.45578703703703705, 0.3303312962367321, 0.7778695293146161]"
       ]
      },
      {
       "output_type": "stream",
       "stream": "stdout",
       "text": [
        "\n",
        "[0.45578703703703705, 0.3303312962367321, 0.7778695293146161]\n",
        "[0.45578703703703705, 0.3303312962367321, 0.7778695293146161]"
       ]
      },
      {
       "output_type": "stream",
       "stream": "stdout",
       "text": [
        "\n",
        "[0.45578703703703705, 0.3303312962367321, 0.7778695293146161]\n",
        "[0.45578703703703705, 0.3303312962367321, 0.7778695293146161]"
       ]
      },
      {
       "output_type": "stream",
       "stream": "stdout",
       "text": [
        "\n",
        "[0.45578703703703705, 0.3303312962367321, 0.7778695293146161]\n",
        "[0.45578703703703705, 0.3303312962367321, 0.7778695293146161]"
       ]
      },
      {
       "output_type": "stream",
       "stream": "stdout",
       "text": [
        "\n",
        "[0.45578703703703705, 0.3303312962367321, 0.7778695293146161]"
       ]
      },
      {
       "output_type": "stream",
       "stream": "stdout",
       "text": [
        "\n",
        "[0.45578703703703705, 0.3303312962367321, 0.7778695293146161]\n",
        "[0.45578703703703705, 0.3303312962367321, 0.7778695293146161]"
       ]
      },
      {
       "output_type": "stream",
       "stream": "stdout",
       "text": [
        "\n",
        "[0.45578703703703705, 0.3303312962367321, 0.7778695293146161]\n",
        "[0.45578703703703705, 0.3303312962367321, 0.7778695293146161]"
       ]
      },
      {
       "output_type": "stream",
       "stream": "stdout",
       "text": [
        "\n",
        "[0.45578703703703705, 0.3303312962367321, 0.7778695293146161]"
       ]
      },
      {
       "output_type": "stream",
       "stream": "stdout",
       "text": [
        "\n",
        "[0.45578703703703705, 0.3303312962367321, 0.7778695293146161]\n",
        "[0.45578703703703705, 0.3303312962367321, 0.7778695293146161]"
       ]
      },
      {
       "output_type": "stream",
       "stream": "stdout",
       "text": [
        "\n",
        "[0.45578703703703705, 0.3303312962367321, 0.7778695293146161]"
       ]
      },
      {
       "output_type": "stream",
       "stream": "stdout",
       "text": [
        "\n",
        "[0.45578703703703705, 0.3303312962367321, 0.7778695293146161]"
       ]
      },
      {
       "output_type": "stream",
       "stream": "stdout",
       "text": [
        "\n",
        "[0.45578703703703705, 0.3303312962367321, 0.7778695293146161]"
       ]
      },
      {
       "output_type": "stream",
       "stream": "stdout",
       "text": [
        "\n",
        "[0.45578703703703705, 0.3303312962367321, 0.7778695293146161]"
       ]
      },
      {
       "output_type": "stream",
       "stream": "stdout",
       "text": [
        "\n",
        "[0.45578703703703705, 0.3303312962367321, 0.7778695293146161]"
       ]
      },
      {
       "output_type": "stream",
       "stream": "stdout",
       "text": [
        "\n",
        "[0.45578703703703705, 0.3303312962367321, 0.7778695293146161]"
       ]
      },
      {
       "output_type": "stream",
       "stream": "stdout",
       "text": [
        "\n",
        "[0.45578703703703705, 0.3303312962367321, 0.7778695293146161]"
       ]
      },
      {
       "output_type": "stream",
       "stream": "stdout",
       "text": [
        "\n",
        "[0.45578703703703705, 0.3303312962367321, 0.7778695293146161]"
       ]
      },
      {
       "output_type": "stream",
       "stream": "stdout",
       "text": [
        "\n",
        "[0.45578703703703705, 0.3303312962367321, 0.7778695293146161]"
       ]
      },
      {
       "output_type": "stream",
       "stream": "stdout",
       "text": [
        "\n",
        "[0.45578703703703705, 0.3303312962367321, 0.7778695293146161]"
       ]
      },
      {
       "output_type": "stream",
       "stream": "stdout",
       "text": [
        "\n",
        "[0.45578703703703705, 0.3303312962367321, 0.7778695293146161]"
       ]
      },
      {
       "output_type": "stream",
       "stream": "stdout",
       "text": [
        "\n",
        "[0.45578703703703705, 0.3303312962367321, 0.7778695293146161]"
       ]
      },
      {
       "output_type": "stream",
       "stream": "stdout",
       "text": [
        "\n",
        "[0.45578703703703705, 0.3303312962367321, 0.7778695293146161]"
       ]
      },
      {
       "output_type": "stream",
       "stream": "stdout",
       "text": [
        "\n",
        "[0.45578703703703705, 0.3303312962367321, 0.7778695293146161]"
       ]
      },
      {
       "output_type": "stream",
       "stream": "stdout",
       "text": [
        "\n",
        "[0.45578703703703705, 0.3303312962367321, 0.7778695293146161]"
       ]
      },
      {
       "output_type": "stream",
       "stream": "stdout",
       "text": [
        "\n",
        "[0.45578703703703705, 0.3303312962367321, 0.7778695293146161]"
       ]
      },
      {
       "output_type": "stream",
       "stream": "stdout",
       "text": [
        "\n",
        "[0.45578703703703705, 0.3303312962367321, 0.7778695293146161]"
       ]
      },
      {
       "output_type": "stream",
       "stream": "stdout",
       "text": [
        "\n",
        "[0.45578703703703705, 0.3303312962367321, 0.7778695293146161]"
       ]
      },
      {
       "output_type": "stream",
       "stream": "stdout",
       "text": [
        "\n",
        "[0.45578703703703705, 0.3303312962367321, 0.7778695293146161]"
       ]
      },
      {
       "output_type": "stream",
       "stream": "stdout",
       "text": [
        "\n",
        "[0.45578703703703705, 0.3303312962367321, 0.7778695293146161]"
       ]
      },
      {
       "output_type": "stream",
       "stream": "stdout",
       "text": [
        "\n",
        "[0.45578703703703705, 0.3303312962367321, 0.7778695293146161]"
       ]
      },
      {
       "output_type": "stream",
       "stream": "stdout",
       "text": [
        "\n",
        "[0.45578703703703705, 0.3303312962367321, 0.7778695293146161]"
       ]
      },
      {
       "output_type": "stream",
       "stream": "stdout",
       "text": [
        "\n",
        "[0.45578703703703705, 0.3303312962367321, 0.7778695293146161]"
       ]
      },
      {
       "output_type": "stream",
       "stream": "stdout",
       "text": [
        "\n",
        "[0.45578703703703705, 0.3303312962367321, 0.7778695293146161]\n",
        "[0.45578703703703705, 0.3303312962367321, 0.7778695293146161]"
       ]
      },
      {
       "output_type": "stream",
       "stream": "stdout",
       "text": [
        "\n",
        "[0.45578703703703705, 0.3303312962367321, 0.7778695293146161]"
       ]
      },
      {
       "output_type": "stream",
       "stream": "stdout",
       "text": [
        "\n",
        "[0.45578703703703705, 0.3303312962367321, 0.7778695293146161]"
       ]
      },
      {
       "output_type": "stream",
       "stream": "stdout",
       "text": [
        "\n",
        "[0.45578703703703705, 0.3303312962367321, 0.7778695293146161]"
       ]
      },
      {
       "output_type": "stream",
       "stream": "stdout",
       "text": [
        "\n",
        "[0.45578703703703705, 0.3303312962367321, 0.7778695293146161]"
       ]
      },
      {
       "output_type": "stream",
       "stream": "stdout",
       "text": [
        "\n",
        "[0.45578703703703705, 0.3303312962367321, 0.7778695293146161]"
       ]
      },
      {
       "output_type": "stream",
       "stream": "stdout",
       "text": [
        "\n",
        "[0.45578703703703705, 0.3303312962367321, 0.7778695293146161]"
       ]
      },
      {
       "output_type": "stream",
       "stream": "stdout",
       "text": [
        "\n",
        "[0.45578703703703705, 0.3303312962367321, 0.7778695293146161]"
       ]
      },
      {
       "output_type": "stream",
       "stream": "stdout",
       "text": [
        "\n",
        "[0.45578703703703705, 0.3303312962367321, 0.7778695293146161]"
       ]
      },
      {
       "output_type": "stream",
       "stream": "stdout",
       "text": [
        "\n",
        "[0.45578703703703705, 0.3303312962367321, 0.7778695293146161]"
       ]
      },
      {
       "output_type": "stream",
       "stream": "stdout",
       "text": [
        "\n",
        "[0.45578703703703705, 0.3303312962367321, 0.7778695293146161]"
       ]
      },
      {
       "output_type": "stream",
       "stream": "stdout",
       "text": [
        "\n",
        "[0.45578703703703705, 0.3303312962367321, 0.7778695293146161]"
       ]
      },
      {
       "output_type": "stream",
       "stream": "stdout",
       "text": [
        "\n",
        "[0.45578703703703705, 0.3303312962367321, 0.7778695293146161]"
       ]
      },
      {
       "output_type": "stream",
       "stream": "stdout",
       "text": [
        "\n",
        "[0.45578703703703705, 0.3303312962367321, 0.7778695293146161]"
       ]
      },
      {
       "output_type": "stream",
       "stream": "stdout",
       "text": [
        "\n",
        "[0.45578703703703705, 0.3303312962367321, 0.7778695293146161]"
       ]
      },
      {
       "output_type": "stream",
       "stream": "stdout",
       "text": [
        "\n",
        "[0.45578703703703705, 0.3303312962367321, 0.7778695293146161]"
       ]
      },
      {
       "output_type": "stream",
       "stream": "stdout",
       "text": [
        "\n",
        "[0.45578703703703705, 0.3303312962367321, 0.7778695293146161]"
       ]
      },
      {
       "output_type": "stream",
       "stream": "stdout",
       "text": [
        "\n",
        "[0.45578703703703705, 0.3303312962367321, 0.7778695293146161]"
       ]
      },
      {
       "output_type": "stream",
       "stream": "stdout",
       "text": [
        "\n",
        "[0.45578703703703705, 0.3303312962367321, 0.7778695293146161]"
       ]
      },
      {
       "output_type": "stream",
       "stream": "stdout",
       "text": [
        "\n",
        "[0.45578703703703705, 0.3303312962367321, 0.7778695293146161]"
       ]
      },
      {
       "output_type": "stream",
       "stream": "stdout",
       "text": [
        "\n",
        "[0.45578703703703705, 0.3303312962367321, 0.7778695293146161]\n",
        "[0.45578703703703705, 0.3303312962367321, 0.7778695293146161]"
       ]
      },
      {
       "output_type": "stream",
       "stream": "stdout",
       "text": [
        "\n",
        "[0.45578703703703705, 0.3303312962367321, 0.7778695293146161]\n",
        "[0.45578703703703705, 0.3303312962367321, 0.7778695293146161]"
       ]
      },
      {
       "output_type": "stream",
       "stream": "stdout",
       "text": [
        "\n",
        "[0.45578703703703705, 0.3303312962367321, 0.7778695293146161]\n",
        "[0.45578703703703705, 0.3303312962367321, 0.7778695293146161]"
       ]
      },
      {
       "output_type": "stream",
       "stream": "stdout",
       "text": [
        "\n",
        "[0.45578703703703705, 0.3303312962367321, 0.7778695293146161]\n",
        "[0.45578703703703705, 0.3303312962367321, 0.7778695293146161]"
       ]
      },
      {
       "output_type": "stream",
       "stream": "stdout",
       "text": [
        "\n",
        "[0.45578703703703705, 0.3303312962367321, 0.7778695293146161]\n",
        "[0.45578703703703705, 0.3303312962367321, 0.7778695293146161]"
       ]
      },
      {
       "output_type": "stream",
       "stream": "stdout",
       "text": [
        "\n",
        "[0.45578703703703705, 0.3303312962367321, 0.7778695293146161]\n",
        "[0.45578703703703705, 0.3303312962367321, 0.7778695293146161]"
       ]
      },
      {
       "output_type": "stream",
       "stream": "stdout",
       "text": [
        "\n",
        "[0.45578703703703705, 0.3303312962367321, 0.7778695293146161]"
       ]
      },
      {
       "output_type": "stream",
       "stream": "stdout",
       "text": [
        "\n",
        "[0.45578703703703705, 0.3303312962367321, 0.7778695293146161]"
       ]
      },
      {
       "output_type": "stream",
       "stream": "stdout",
       "text": [
        "\n",
        "[0.45578703703703705, 0.3303312962367321, 0.7778695293146161]"
       ]
      },
      {
       "output_type": "stream",
       "stream": "stdout",
       "text": [
        "\n",
        "[0.45578703703703705, 0.3303312962367321, 0.7778695293146161]"
       ]
      },
      {
       "output_type": "stream",
       "stream": "stdout",
       "text": [
        "\n",
        "[0.45578703703703705, 0.3303312962367321, 0.7778695293146161]"
       ]
      },
      {
       "output_type": "stream",
       "stream": "stdout",
       "text": [
        "\n",
        "[0.45578703703703705, 0.3303312962367321, 0.7778695293146161]"
       ]
      },
      {
       "output_type": "stream",
       "stream": "stdout",
       "text": [
        "\n",
        "[0.45578703703703705, 0.3303312962367321, 0.7778695293146161]"
       ]
      },
      {
       "output_type": "stream",
       "stream": "stdout",
       "text": [
        "\n",
        "[0.45578703703703705, 0.3303312962367321, 0.7778695293146161]"
       ]
      },
      {
       "output_type": "stream",
       "stream": "stdout",
       "text": [
        "\n",
        "[0.45578703703703705, 0.3303312962367321, 0.7778695293146161]"
       ]
      },
      {
       "output_type": "stream",
       "stream": "stdout",
       "text": [
        "\n",
        "[0.45578703703703705, 0.3303312962367321, 0.7778695293146161]"
       ]
      },
      {
       "output_type": "stream",
       "stream": "stdout",
       "text": [
        "\n",
        "[0.45578703703703705, 0.3303312962367321, 0.7778695293146161]"
       ]
      },
      {
       "output_type": "stream",
       "stream": "stdout",
       "text": [
        "\n",
        "[0.45578703703703705, 0.3303312962367321, 0.7778695293146161]\n",
        "[0.45578703703703705, 0.3303312962367321, 0.7778695293146161]"
       ]
      },
      {
       "output_type": "stream",
       "stream": "stdout",
       "text": [
        "\n",
        "[0.45578703703703705, 0.3303312962367321, 0.7778695293146161]\n",
        "[0.45578703703703705, 0.3303312962367321, 0.7778695293146161]"
       ]
      },
      {
       "output_type": "stream",
       "stream": "stdout",
       "text": [
        "\n",
        "[0.45578703703703705, 0.3303312962367321, 0.7778695293146161]\n",
        "[0.45578703703703705, 0.3303312962367321, 0.7778695293146161]"
       ]
      },
      {
       "output_type": "stream",
       "stream": "stdout",
       "text": [
        "\n",
        "[0.45578703703703705, 0.3303312962367321, 0.7778695293146161]\n",
        "[0.45578703703703705, 0.3303312962367321, 0.7778695293146161]"
       ]
      },
      {
       "output_type": "stream",
       "stream": "stdout",
       "text": [
        "\n",
        "[0.45578703703703705, 0.3303312962367321, 0.7778695293146161]\n",
        "[0.45578703703703705, 0.3303312962367321, 0.7778695293146161]"
       ]
      },
      {
       "output_type": "stream",
       "stream": "stdout",
       "text": [
        "\n",
        "[0.45578703703703705, 0.3303312962367321, 0.7778695293146161]\n",
        "[0.45578703703703705, 0.3303312962367321, 0.7778695293146161]"
       ]
      },
      {
       "output_type": "stream",
       "stream": "stdout",
       "text": [
        "\n",
        "[0.45578703703703705, 0.3303312962367321, 0.7778695293146161]\n",
        "[0.45578703703703705, 0.3303312962367321, 0.7778695293146161]"
       ]
      },
      {
       "output_type": "stream",
       "stream": "stdout",
       "text": [
        "\n",
        "[0.45578703703703705, 0.3303312962367321, 0.7778695293146161]\n",
        "[0.45578703703703705, 0.3303312962367321, 0.7778695293146161]"
       ]
      },
      {
       "output_type": "stream",
       "stream": "stdout",
       "text": [
        "\n",
        "[0.45578703703703705, 0.3303312962367321, 0.7778695293146161]\n",
        "[0.45578703703703705, 0.3303312962367321, 0.7778695293146161]"
       ]
      },
      {
       "output_type": "stream",
       "stream": "stdout",
       "text": [
        "\n",
        "[0.45578703703703705, 0.3303312962367321, 0.7778695293146161]\n",
        "[0.45578703703703705, 0.3303312962367321, 0.7778695293146161]"
       ]
      },
      {
       "output_type": "stream",
       "stream": "stdout",
       "text": [
        "\n",
        "[0.45578703703703705, 0.3303312962367321, 0.7778695293146161]\n",
        "[0.45578703703703705, 0.3303312962367321, 0.7778695293146161]"
       ]
      },
      {
       "output_type": "stream",
       "stream": "stdout",
       "text": [
        "\n",
        "[0.45578703703703705, 0.3303312962367321, 0.7778695293146161]"
       ]
      },
      {
       "output_type": "stream",
       "stream": "stdout",
       "text": [
        "\n",
        "[0.45578703703703705, 0.3303312962367321, 0.7778695293146161]\n",
        "[0.45578703703703705, 0.3303312962367321, 0.7778695293146161]"
       ]
      },
      {
       "output_type": "stream",
       "stream": "stdout",
       "text": [
        "\n",
        "[0.45578703703703705, 0.3303312962367321, 0.7778695293146161]\n",
        "[0.45578703703703705, 0.3303312962367321, 0.7778695293146161]"
       ]
      },
      {
       "output_type": "stream",
       "stream": "stdout",
       "text": [
        "\n",
        "[0.45578703703703705, 0.3303312962367321, 0.7778695293146161]\n",
        "[0.45578703703703705, 0.3303312962367321, 0.7778695293146161]"
       ]
      },
      {
       "output_type": "stream",
       "stream": "stdout",
       "text": [
        "\n",
        "[0.45578703703703705, 0.3303312962367321, 0.7778695293146161]"
       ]
      },
      {
       "output_type": "stream",
       "stream": "stdout",
       "text": [
        "\n",
        "[0.45578703703703705, 0.3303312962367321, 0.7778695293146161]"
       ]
      },
      {
       "output_type": "stream",
       "stream": "stdout",
       "text": [
        "\n",
        "[0.45578703703703705, 0.3303312962367321, 0.7778695293146161]"
       ]
      },
      {
       "output_type": "stream",
       "stream": "stdout",
       "text": [
        "\n",
        "[0.45578703703703705, 0.3303312962367321, 0.7778695293146161]\n",
        "[0.45578703703703705, 0.3303312962367321, 0.7778695293146161]"
       ]
      },
      {
       "output_type": "stream",
       "stream": "stdout",
       "text": [
        "\n",
        "[0.45578703703703705, 0.3303312962367321, 0.7778695293146161]\n",
        "[0.45578703703703705, 0.3303312962367321, 0.7778695293146161]"
       ]
      },
      {
       "output_type": "stream",
       "stream": "stdout",
       "text": [
        "\n",
        "[0.45578703703703705, 0.3303312962367321, 0.7778695293146161]\n",
        "[0.45578703703703705, 0.3303312962367321, 0.7778695293146161]"
       ]
      },
      {
       "output_type": "stream",
       "stream": "stdout",
       "text": [
        "\n",
        "[0.45578703703703705, 0.3303312962367321, 0.7778695293146161]\n",
        "[0.45578703703703705, 0.3303312962367321, 0.7778695293146161]"
       ]
      },
      {
       "output_type": "stream",
       "stream": "stdout",
       "text": [
        "\n",
        "[0.45578703703703705, 0.3303312962367321, 0.7778695293146161]\n",
        "[0.45578703703703705, 0.3303312962367321, 0.7778695293146161]"
       ]
      },
      {
       "output_type": "stream",
       "stream": "stdout",
       "text": [
        "\n",
        "[0.45578703703703705, 0.3303312962367321, 0.7778695293146161]\n",
        "[0.45578703703703705, 0.3303312962367321, 0.7778695293146161]"
       ]
      },
      {
       "output_type": "stream",
       "stream": "stdout",
       "text": [
        "\n",
        "[0.45578703703703705, 0.3303312962367321, 0.7778695293146161]\n",
        "[0.45578703703703705, 0.3303312962367321, 0.7778695293146161]"
       ]
      },
      {
       "output_type": "stream",
       "stream": "stdout",
       "text": [
        "\n",
        "[0.45578703703703705, 0.3303312962367321, 0.7778695293146161]\n",
        "[0.45578703703703705, 0.3303312962367321, 0.7778695293146161]"
       ]
      },
      {
       "output_type": "stream",
       "stream": "stdout",
       "text": [
        "\n",
        "[0.45578703703703705, 0.3303312962367321, 0.7778695293146161]\n",
        "[0.45578703703703705, 0.3303312962367321, 0.7778695293146161]"
       ]
      },
      {
       "output_type": "stream",
       "stream": "stdout",
       "text": [
        "\n",
        "[0.45578703703703705, 0.3303312962367321, 0.7778695293146161]\n",
        "[0.45578703703703705, 0.3303312962367321, 0.7778695293146161]"
       ]
      },
      {
       "output_type": "stream",
       "stream": "stdout",
       "text": [
        "\n",
        "[0.45578703703703705, 0.3303312962367321, 0.7778695293146161]\n",
        "[0.45578703703703705, 0.3303312962367321, 0.7778695293146161]"
       ]
      },
      {
       "output_type": "stream",
       "stream": "stdout",
       "text": [
        "\n",
        "[0.45578703703703705, 0.3303312962367321, 0.7778695293146161]"
       ]
      },
      {
       "output_type": "stream",
       "stream": "stdout",
       "text": [
        "\n",
        "[0.45578703703703705, 0.3303312962367321, 0.7778695293146161]\n",
        "[0.45578703703703705, 0.3303312962367321, 0.7778695293146161]"
       ]
      },
      {
       "output_type": "stream",
       "stream": "stdout",
       "text": [
        "\n",
        "[0.45578703703703705, 0.3303312962367321, 0.7778695293146161]"
       ]
      },
      {
       "output_type": "stream",
       "stream": "stdout",
       "text": [
        "\n",
        "[0.45578703703703705, 0.3303312962367321, 0.7778695293146161]"
       ]
      },
      {
       "output_type": "stream",
       "stream": "stdout",
       "text": [
        "\n",
        "[0.45578703703703705, 0.3303312962367321, 0.7778695293146161]"
       ]
      },
      {
       "output_type": "stream",
       "stream": "stdout",
       "text": [
        "\n",
        "[0.45578703703703705, 0.3303312962367321, 0.7778695293146161]\n",
        "[0.45578703703703705, 0.3303312962367321, 0.7778695293146161]"
       ]
      },
      {
       "output_type": "stream",
       "stream": "stdout",
       "text": [
        "\n",
        "[0.45578703703703705, 0.3303312962367321, 0.7778695293146161]\n",
        "[0.45578703703703705, 0.3303312962367321, 0.7778695293146161]"
       ]
      },
      {
       "output_type": "stream",
       "stream": "stdout",
       "text": [
        "\n",
        "[0.45578703703703705, 0.3303312962367321, 0.7778695293146161]\n",
        "[0.45578703703703705, 0.3303312962367321, 0.7778695293146161]"
       ]
      },
      {
       "output_type": "stream",
       "stream": "stdout",
       "text": [
        "\n",
        "[0.45578703703703705, 0.3303312962367321, 0.7778695293146161]"
       ]
      },
      {
       "output_type": "stream",
       "stream": "stdout",
       "text": [
        "\n",
        "[0.45578703703703705, 0.3303312962367321, 0.7778695293146161]\n",
        "[0.45578703703703705, 0.3303312962367321, 0.7778695293146161]"
       ]
      },
      {
       "output_type": "stream",
       "stream": "stdout",
       "text": [
        "\n",
        "[0.45578703703703705, 0.3303312962367321, 0.7778695293146161]\n",
        "[0.45578703703703705, 0.3303312962367321, 0.7778695293146161]"
       ]
      },
      {
       "output_type": "stream",
       "stream": "stdout",
       "text": [
        "\n",
        "[0.45578703703703705, 0.3303312962367321, 0.7778695293146161]\n",
        "[0.45578703703703705, 0.3303312962367321, 0.7778695293146161]"
       ]
      },
      {
       "output_type": "stream",
       "stream": "stdout",
       "text": [
        "\n",
        "[0.45578703703703705, 0.3303312962367321, 0.7778695293146161]"
       ]
      },
      {
       "output_type": "stream",
       "stream": "stdout",
       "text": [
        "\n",
        "[0.45578703703703705, 0.3303312962367321, 0.7778695293146161]\n",
        "[0.45578703703703705, 0.3303312962367321, 0.7778695293146161]"
       ]
      },
      {
       "output_type": "stream",
       "stream": "stdout",
       "text": [
        "\n",
        "[0.45578703703703705, 0.3303312962367321, 0.7778695293146161]\n",
        "[0.45578703703703705, 0.3303312962367321, 0.7778695293146161]"
       ]
      },
      {
       "output_type": "stream",
       "stream": "stdout",
       "text": [
        "\n",
        "[0.45578703703703705, 0.3303312962367321, 0.7778695293146161]\n",
        "[0.45578703703703705, 0.3303312962367321, 0.7778695293146161]"
       ]
      },
      {
       "output_type": "stream",
       "stream": "stdout",
       "text": [
        "\n",
        "[0.45578703703703705, 0.3303312962367321, 0.7778695293146161]\n",
        "[0.45578703703703705, 0.3303312962367321, 0.7778695293146161]"
       ]
      },
      {
       "output_type": "stream",
       "stream": "stdout",
       "text": [
        "\n",
        "[0.45578703703703705, 0.3303312962367321, 0.7778695293146161]"
       ]
      },
      {
       "output_type": "stream",
       "stream": "stdout",
       "text": [
        "\n",
        "[0.45578703703703705, 0.3303312962367321, 0.7778695293146161]\n",
        "[0.45578703703703705, 0.3303312962367321, 0.7778695293146161]"
       ]
      },
      {
       "output_type": "stream",
       "stream": "stdout",
       "text": [
        "\n",
        "[0.45578703703703705, 0.3303312962367321, 0.7778695293146161]\n",
        "[0.45578703703703705, 0.3303312962367321, 0.7778695293146161]"
       ]
      },
      {
       "output_type": "stream",
       "stream": "stdout",
       "text": [
        "\n",
        "[0.45578703703703705, 0.3303312962367321, 0.7778695293146161]\n",
        "[0.45578703703703705, 0.3303312962367321, 0.7778695293146161]"
       ]
      },
      {
       "output_type": "stream",
       "stream": "stdout",
       "text": [
        "\n",
        "[0.45578703703703705, 0.3303312962367321, 0.7778695293146161]\n",
        "[0.45578703703703705, 0.3303312962367321, 0.7778695293146161]"
       ]
      },
      {
       "output_type": "stream",
       "stream": "stdout",
       "text": [
        "\n",
        "[0.45578703703703705, 0.3303312962367321, 0.7778695293146161]"
       ]
      },
      {
       "output_type": "stream",
       "stream": "stdout",
       "text": [
        "\n",
        "[0.45578703703703705, 0.3303312962367321, 0.7778695293146161]"
       ]
      },
      {
       "output_type": "stream",
       "stream": "stdout",
       "text": [
        "\n",
        "[0.45578703703703705, 0.3303312962367321, 0.7778695293146161]"
       ]
      },
      {
       "output_type": "stream",
       "stream": "stdout",
       "text": [
        "\n",
        "[0.45578703703703705, 0.3303312962367321, 0.7778695293146161]"
       ]
      },
      {
       "output_type": "stream",
       "stream": "stdout",
       "text": [
        "\n",
        "[0.45578703703703705, 0.3303312962367321, 0.7778695293146161]"
       ]
      },
      {
       "output_type": "stream",
       "stream": "stdout",
       "text": [
        "\n",
        "[0.45578703703703705, 0.3303312962367321, 0.7778695293146161]"
       ]
      },
      {
       "output_type": "stream",
       "stream": "stdout",
       "text": [
        "\n",
        "[0.45578703703703705, 0.3303312962367321, 0.7778695293146161]"
       ]
      },
      {
       "output_type": "stream",
       "stream": "stdout",
       "text": [
        "\n",
        "[0.45578703703703705, 0.3303312962367321, 0.7778695293146161]"
       ]
      },
      {
       "output_type": "stream",
       "stream": "stdout",
       "text": [
        "\n",
        "[0.45578703703703705, 0.3303312962367321, 0.7778695293146161]\n",
        "[0.45578703703703705, 0.3303312962367321, 0.7778695293146161]"
       ]
      },
      {
       "output_type": "stream",
       "stream": "stdout",
       "text": [
        "\n",
        "[0.45578703703703705, 0.3303312962367321, 0.7778695293146161]\n",
        "[0.45578703703703705, 0.3303312962367321, 0.7778695293146161]"
       ]
      },
      {
       "output_type": "stream",
       "stream": "stdout",
       "text": [
        "\n",
        "[0.45578703703703705, 0.3303312962367321, 0.7778695293146161]\n",
        "[0.45578703703703705, 0.3303312962367321, 0.7778695293146161]"
       ]
      },
      {
       "output_type": "stream",
       "stream": "stdout",
       "text": [
        "\n",
        "[0.45578703703703705, 0.3303312962367321, 0.7778695293146161]\n",
        "[0.45578703703703705, 0.3303312962367321, 0.7778695293146161]"
       ]
      },
      {
       "output_type": "stream",
       "stream": "stdout",
       "text": [
        "\n",
        "[0.45578703703703705, 0.3303312962367321, 0.7778695293146161]\n",
        "[0.45578703703703705, 0.3303312962367321, 0.7778695293146161]"
       ]
      },
      {
       "output_type": "stream",
       "stream": "stdout",
       "text": [
        "\n",
        "[0.45578703703703705, 0.3303312962367321, 0.7778695293146161]\n",
        "[0.45578703703703705, 0.3303312962367321, 0.7778695293146161]"
       ]
      },
      {
       "output_type": "stream",
       "stream": "stdout",
       "text": [
        "\n",
        "[0.45578703703703705, 0.3303312962367321, 0.7778695293146161]\n",
        "[0.45578703703703705, 0.3303312962367321, 0.7778695293146161]"
       ]
      },
      {
       "output_type": "stream",
       "stream": "stdout",
       "text": [
        "\n",
        "[0.45578703703703705, 0.3303312962367321, 0.7778695293146161]"
       ]
      },
      {
       "output_type": "stream",
       "stream": "stdout",
       "text": [
        "\n",
        "[0.45578703703703705, 0.3303312962367321, 0.7778695293146161]\n",
        "[0.45578703703703705, 0.3303312962367321, 0.7778695293146161]"
       ]
      },
      {
       "output_type": "stream",
       "stream": "stdout",
       "text": [
        "\n",
        "[0.45578703703703705, 0.3303312962367321, 0.7778695293146161]\n",
        "[0.45578703703703705, 0.3303312962367321, 0.7778695293146161]"
       ]
      },
      {
       "output_type": "stream",
       "stream": "stdout",
       "text": [
        "\n",
        "[0.45578703703703705, 0.3303312962367321, 0.7778695293146161]\n",
        "[0.45578703703703705, 0.3303312962367321, 0.7778695293146161]"
       ]
      },
      {
       "output_type": "stream",
       "stream": "stdout",
       "text": [
        "\n",
        "[0.45578703703703705, 0.3303312962367321, 0.7778695293146161]\n",
        "[0.45578703703703705, 0.3303312962367321, 0.7778695293146161]"
       ]
      },
      {
       "output_type": "stream",
       "stream": "stdout",
       "text": [
        "\n",
        "[0.45578703703703705, 0.3303312962367321, 0.7778695293146161]\n",
        "[0.45578703703703705, 0.3303312962367321, 0.7778695293146161]"
       ]
      },
      {
       "output_type": "stream",
       "stream": "stdout",
       "text": [
        "\n",
        "[0.45578703703703705, 0.3303312962367321, 0.7778695293146161]\n",
        "[0.45578703703703705, 0.3303312962367321, 0.7778695293146161]"
       ]
      },
      {
       "output_type": "stream",
       "stream": "stdout",
       "text": [
        "\n",
        "[0.45578703703703705, 0.3303312962367321, 0.7778695293146161]\n",
        "[0.45578703703703705, 0.3303312962367321, 0.7778695293146161]"
       ]
      },
      {
       "output_type": "stream",
       "stream": "stdout",
       "text": [
        "\n",
        "[0.45578703703703705, 0.3303312962367321, 0.7778695293146161]\n",
        "[0.45578703703703705, 0.3303312962367321, 0.7778695293146161]"
       ]
      },
      {
       "output_type": "stream",
       "stream": "stdout",
       "text": [
        "\n",
        "[0.45578703703703705, 0.3303312962367321, 0.7778695293146161]\n",
        "[0.45578703703703705, 0.3303312962367321, 0.7778695293146161]"
       ]
      },
      {
       "output_type": "stream",
       "stream": "stdout",
       "text": [
        "\n",
        "[0.45578703703703705, 0.3303312962367321, 0.7778695293146161]\n",
        "[0.45578703703703705, 0.3303312962367321, 0.7778695293146161]"
       ]
      },
      {
       "output_type": "stream",
       "stream": "stdout",
       "text": [
        "\n",
        "[0.45578703703703705, 0.3303312962367321, 0.7778695293146161]"
       ]
      },
      {
       "output_type": "stream",
       "stream": "stdout",
       "text": [
        "\n",
        "[0.45578703703703705, 0.3303312962367321, 0.7778695293146161]"
       ]
      },
      {
       "output_type": "stream",
       "stream": "stdout",
       "text": [
        "\n",
        "[0.45578703703703705, 0.3303312962367321, 0.7778695293146161]"
       ]
      },
      {
       "output_type": "stream",
       "stream": "stdout",
       "text": [
        "\n",
        "[0.45578703703703705, 0.3303312962367321, 0.7778695293146161]\n",
        "[0.45578703703703705, 0.3303312962367321, 0.7778695293146161]"
       ]
      },
      {
       "output_type": "stream",
       "stream": "stdout",
       "text": [
        "\n",
        "[0.45578703703703705, 0.3303312962367321, 0.7778695293146161]\n",
        "[0.45578703703703705, 0.3303312962367321, 0.7778695293146161]"
       ]
      },
      {
       "output_type": "stream",
       "stream": "stdout",
       "text": [
        "\n",
        "[0.45578703703703705, 0.3303312962367321, 0.7778695293146161]\n",
        "[0.45578703703703705, 0.3303312962367321, 0.7778695293146161]"
       ]
      },
      {
       "output_type": "stream",
       "stream": "stdout",
       "text": [
        "\n",
        "[0.45578703703703705, 0.3303312962367321, 0.7778695293146161]\n",
        "[0.45578703703703705, 0.3303312962367321, 0.7778695293146161]"
       ]
      },
      {
       "output_type": "stream",
       "stream": "stdout",
       "text": [
        "\n",
        "[0.45578703703703705, 0.3303312962367321, 0.7778695293146161]\n",
        "[0.45578703703703705, 0.3303312962367321, 0.7778695293146161]"
       ]
      },
      {
       "output_type": "stream",
       "stream": "stdout",
       "text": [
        "\n",
        "[0.45578703703703705, 0.3303312962367321, 0.7778695293146161]\n",
        "[0.45578703703703705, 0.3303312962367321, 0.7778695293146161]"
       ]
      },
      {
       "output_type": "stream",
       "stream": "stdout",
       "text": [
        "\n",
        "[0.45578703703703705, 0.3303312962367321, 0.7778695293146161]\n",
        "[0.45578703703703705, 0.3303312962367321, 0.7778695293146161]"
       ]
      },
      {
       "output_type": "stream",
       "stream": "stdout",
       "text": [
        "\n",
        "[0.45578703703703705, 0.3303312962367321, 0.7778695293146161]\n",
        "[0.45578703703703705, 0.3303312962367321, 0.7778695293146161]"
       ]
      },
      {
       "output_type": "stream",
       "stream": "stdout",
       "text": [
        "\n",
        "[0.45578703703703705, 0.3303312962367321, 0.7778695293146161]\n",
        "[0.45578703703703705, 0.3303312962367321, 0.7778695293146161]"
       ]
      },
      {
       "output_type": "stream",
       "stream": "stdout",
       "text": [
        "\n",
        "[0.45578703703703705, 0.3303312962367321, 0.7778695293146161]\n",
        "[0.45578703703703705, 0.3303312962367321, 0.7778695293146161]"
       ]
      },
      {
       "output_type": "stream",
       "stream": "stdout",
       "text": [
        "\n",
        "[0.45578703703703705, 0.3303312962367321, 0.7778695293146161]"
       ]
      },
      {
       "output_type": "stream",
       "stream": "stdout",
       "text": [
        "\n",
        "[0.45578703703703705, 0.3303312962367321, 0.7778695293146161]"
       ]
      },
      {
       "output_type": "stream",
       "stream": "stdout",
       "text": [
        "\n",
        "[0.45578703703703705, 0.3303312962367321, 0.7778695293146161]"
       ]
      },
      {
       "output_type": "stream",
       "stream": "stdout",
       "text": [
        "\n",
        "[0.45578703703703705, 0.3303312962367321, 0.7778695293146161]"
       ]
      },
      {
       "output_type": "stream",
       "stream": "stdout",
       "text": [
        "\n",
        "[0.45578703703703705, 0.3303312962367321, 0.7778695293146161]"
       ]
      },
      {
       "output_type": "stream",
       "stream": "stdout",
       "text": [
        "\n",
        "[0.45578703703703705, 0.3303312962367321, 0.7778695293146161]"
       ]
      },
      {
       "output_type": "stream",
       "stream": "stdout",
       "text": [
        "\n",
        "[0.45578703703703705, 0.3303312962367321, 0.7778695293146161]"
       ]
      },
      {
       "output_type": "stream",
       "stream": "stdout",
       "text": [
        "\n",
        "[0.45578703703703705, 0.3303312962367321, 0.7778695293146161]"
       ]
      },
      {
       "output_type": "stream",
       "stream": "stdout",
       "text": [
        "\n",
        "[0.45578703703703705, 0.3303312962367321, 0.7778695293146161]"
       ]
      },
      {
       "output_type": "stream",
       "stream": "stdout",
       "text": [
        "\n",
        "[0.45578703703703705, 0.3303312962367321, 0.7778695293146161]"
       ]
      },
      {
       "output_type": "stream",
       "stream": "stdout",
       "text": [
        "\n",
        "[0.45578703703703705, 0.3303312962367321, 0.7778695293146161]"
       ]
      },
      {
       "output_type": "stream",
       "stream": "stdout",
       "text": [
        "\n",
        "[0.45578703703703705, 0.3303312962367321, 0.7778695293146161]"
       ]
      },
      {
       "output_type": "stream",
       "stream": "stdout",
       "text": [
        "\n",
        "[0.45578703703703705, 0.3303312962367321, 0.7778695293146161]"
       ]
      },
      {
       "output_type": "stream",
       "stream": "stdout",
       "text": [
        "\n",
        "[0.45578703703703705, 0.3303312962367321, 0.7778695293146161]"
       ]
      },
      {
       "output_type": "stream",
       "stream": "stdout",
       "text": [
        "\n",
        "[0.45578703703703705, 0.3303312962367321, 0.7778695293146161]"
       ]
      },
      {
       "output_type": "stream",
       "stream": "stdout",
       "text": [
        "\n",
        "[0.45578703703703705, 0.3303312962367321, 0.7778695293146161]"
       ]
      },
      {
       "output_type": "stream",
       "stream": "stdout",
       "text": [
        "\n",
        "[0.45578703703703705, 0.3303312962367321, 0.7778695293146161]\n",
        "[0.45578703703703705, 0.3303312962367321, 0.7778695293146161]"
       ]
      },
      {
       "output_type": "stream",
       "stream": "stdout",
       "text": [
        "\n",
        "[0.45578703703703705, 0.3303312962367321, 0.7778695293146161]\n",
        "[0.45578703703703705, 0.3303312962367321, 0.7778695293146161]"
       ]
      },
      {
       "output_type": "stream",
       "stream": "stdout",
       "text": [
        "\n",
        "[0.45578703703703705, 0.3303312962367321, 0.7778695293146161]"
       ]
      },
      {
       "output_type": "stream",
       "stream": "stdout",
       "text": [
        "\n",
        "[0.45578703703703705, 0.3303312962367321, 0.7778695293146161]"
       ]
      },
      {
       "output_type": "stream",
       "stream": "stdout",
       "text": [
        "\n",
        "[0.45578703703703705, 0.3303312962367321, 0.7778695293146161]"
       ]
      },
      {
       "output_type": "stream",
       "stream": "stdout",
       "text": [
        "\n",
        "[0.45578703703703705, 0.3303312962367321, 0.7778695293146161]"
       ]
      },
      {
       "output_type": "stream",
       "stream": "stdout",
       "text": [
        "\n",
        "[0.45578703703703705, 0.3303312962367321, 0.7778695293146161]"
       ]
      },
      {
       "output_type": "stream",
       "stream": "stdout",
       "text": [
        "\n",
        "[0.45578703703703705, 0.3303312962367321, 0.7778695293146161]"
       ]
      },
      {
       "output_type": "stream",
       "stream": "stdout",
       "text": [
        "\n",
        "[0.45578703703703705, 0.3303312962367321, 0.7778695293146161]"
       ]
      },
      {
       "output_type": "stream",
       "stream": "stdout",
       "text": [
        "\n",
        "[0.45578703703703705, 0.3303312962367321, 0.7778695293146161]"
       ]
      },
      {
       "output_type": "stream",
       "stream": "stdout",
       "text": [
        "\n",
        "[0.45578703703703705, 0.3303312962367321, 0.7778695293146161]"
       ]
      },
      {
       "output_type": "stream",
       "stream": "stdout",
       "text": [
        "\n",
        "[0.45578703703703705, 0.3303312962367321, 0.7778695293146161]"
       ]
      },
      {
       "output_type": "stream",
       "stream": "stdout",
       "text": [
        "\n",
        "[0.45578703703703705, 0.3303312962367321, 0.7778695293146161]"
       ]
      },
      {
       "output_type": "stream",
       "stream": "stdout",
       "text": [
        "\n",
        "[0.45578703703703705, 0.3303312962367321, 0.7778695293146161]"
       ]
      },
      {
       "output_type": "stream",
       "stream": "stdout",
       "text": [
        "\n",
        "[0.45578703703703705, 0.3303312962367321, 0.7778695293146161]"
       ]
      },
      {
       "output_type": "stream",
       "stream": "stdout",
       "text": [
        "\n",
        "[0.45578703703703705, 0.3303312962367321, 0.7778695293146161]"
       ]
      },
      {
       "output_type": "stream",
       "stream": "stdout",
       "text": [
        "\n",
        "[0.45578703703703705, 0.3303312962367321, 0.7778695293146161]"
       ]
      },
      {
       "output_type": "stream",
       "stream": "stdout",
       "text": [
        "\n",
        "[0.45578703703703705, 0.3303312962367321, 0.7778695293146161]"
       ]
      },
      {
       "output_type": "stream",
       "stream": "stdout",
       "text": [
        "\n",
        "[0.45578703703703705, 0.3303312962367321, 0.7778695293146161]"
       ]
      },
      {
       "output_type": "stream",
       "stream": "stdout",
       "text": [
        "\n",
        "[0.45578703703703705, 0.3303312962367321, 0.7778695293146161]\n",
        "[0.45578703703703705, 0.3303312962367321, 0.7778695293146161]"
       ]
      },
      {
       "output_type": "stream",
       "stream": "stdout",
       "text": [
        "\n",
        "[0.45578703703703705, 0.3303312962367321, 0.7778695293146161]\n",
        "[0.45578703703703705, 0.3303312962367321, 0.7778695293146161]"
       ]
      },
      {
       "output_type": "stream",
       "stream": "stdout",
       "text": [
        "\n",
        "[0.45578703703703705, 0.3303312962367321, 0.7778695293146161]"
       ]
      },
      {
       "output_type": "stream",
       "stream": "stdout",
       "text": [
        "\n",
        "[0.45578703703703705, 0.3303312962367321, 0.7778695293146161]"
       ]
      },
      {
       "output_type": "stream",
       "stream": "stdout",
       "text": [
        "\n",
        "[0.45578703703703705, 0.3303312962367321, 0.7778695293146161]"
       ]
      },
      {
       "output_type": "stream",
       "stream": "stdout",
       "text": [
        "\n",
        "[0.45578703703703705, 0.3303312962367321, 0.7778695293146161]"
       ]
      },
      {
       "output_type": "stream",
       "stream": "stdout",
       "text": [
        "\n",
        "[0.45578703703703705, 0.3303312962367321, 0.7778695293146161]"
       ]
      },
      {
       "output_type": "stream",
       "stream": "stdout",
       "text": [
        "\n",
        "[0.45578703703703705, 0.3303312962367321, 0.7778695293146161]"
       ]
      },
      {
       "output_type": "stream",
       "stream": "stdout",
       "text": [
        "\n",
        "[0.45578703703703705, 0.3303312962367321, 0.7778695293146161]"
       ]
      },
      {
       "output_type": "stream",
       "stream": "stdout",
       "text": [
        "\n",
        "[0.45578703703703705, 0.3303312962367321, 0.7778695293146161]"
       ]
      },
      {
       "output_type": "stream",
       "stream": "stdout",
       "text": [
        "\n",
        "[0.45578703703703705, 0.3303312962367321, 0.7778695293146161]"
       ]
      },
      {
       "output_type": "stream",
       "stream": "stdout",
       "text": [
        "\n",
        "[0.45578703703703705, 0.3303312962367321, 0.7778695293146161]"
       ]
      },
      {
       "output_type": "stream",
       "stream": "stdout",
       "text": [
        "\n",
        "[0.45578703703703705, 0.3303312962367321, 0.7778695293146161]"
       ]
      },
      {
       "output_type": "stream",
       "stream": "stdout",
       "text": [
        "\n",
        "[0.45578703703703705, 0.3303312962367321, 0.7778695293146161]"
       ]
      },
      {
       "output_type": "stream",
       "stream": "stdout",
       "text": [
        "\n",
        "[0.45578703703703705, 0.3303312962367321, 0.7778695293146161]"
       ]
      },
      {
       "output_type": "stream",
       "stream": "stdout",
       "text": [
        "\n",
        "[0.45578703703703705, 0.3303312962367321, 0.7778695293146161]"
       ]
      },
      {
       "output_type": "stream",
       "stream": "stdout",
       "text": [
        "\n",
        "[0.45578703703703705, 0.3303312962367321, 0.7778695293146161]"
       ]
      },
      {
       "output_type": "stream",
       "stream": "stdout",
       "text": [
        "\n",
        "[0.45578703703703705, 0.3303312962367321, 0.7778695293146161]"
       ]
      },
      {
       "output_type": "stream",
       "stream": "stdout",
       "text": [
        "\n",
        "[0.45578703703703705, 0.3303312962367321, 0.7778695293146161]\n",
        "[0.45578703703703705, 0.3303312962367321, 0.7778695293146161]"
       ]
      },
      {
       "output_type": "stream",
       "stream": "stdout",
       "text": [
        "\n",
        "[0.45578703703703705, 0.3303312962367321, 0.7778695293146161]"
       ]
      },
      {
       "output_type": "stream",
       "stream": "stdout",
       "text": [
        "\n",
        "[0.45578703703703705, 0.3303312962367321, 0.7778695293146161]"
       ]
      },
      {
       "output_type": "stream",
       "stream": "stdout",
       "text": [
        "\n",
        "[0.45578703703703705, 0.3303312962367321, 0.7778695293146161]"
       ]
      },
      {
       "output_type": "stream",
       "stream": "stdout",
       "text": [
        "\n",
        "[0.45578703703703705, 0.3303312962367321, 0.7778695293146161]"
       ]
      },
      {
       "output_type": "stream",
       "stream": "stdout",
       "text": [
        "\n",
        "[0.45578703703703705, 0.3303312962367321, 0.7778695293146161]"
       ]
      },
      {
       "output_type": "stream",
       "stream": "stdout",
       "text": [
        "\n",
        "[0.45578703703703705, 0.3303312962367321, 0.7778695293146161]"
       ]
      },
      {
       "output_type": "stream",
       "stream": "stdout",
       "text": [
        "\n",
        "[0.45578703703703705, 0.3303312962367321, 0.7778695293146161]"
       ]
      },
      {
       "output_type": "stream",
       "stream": "stdout",
       "text": [
        "\n",
        "[0.45578703703703705, 0.3303312962367321, 0.7778695293146161]"
       ]
      },
      {
       "output_type": "stream",
       "stream": "stdout",
       "text": [
        "\n",
        "[0.45578703703703705, 0.3303312962367321, 0.7778695293146161]"
       ]
      },
      {
       "output_type": "stream",
       "stream": "stdout",
       "text": [
        "\n",
        "[0.45578703703703705, 0.3303312962367321, 0.7778695293146161]"
       ]
      },
      {
       "output_type": "stream",
       "stream": "stdout",
       "text": [
        "\n",
        "[0.45578703703703705, 0.3303312962367321, 0.7778695293146161]"
       ]
      },
      {
       "output_type": "stream",
       "stream": "stdout",
       "text": [
        "\n",
        "[0.45578703703703705, 0.3303312962367321, 0.7778695293146161]"
       ]
      },
      {
       "output_type": "stream",
       "stream": "stdout",
       "text": [
        "\n",
        "[0.45578703703703705, 0.3303312962367321, 0.7778695293146161]"
       ]
      },
      {
       "output_type": "stream",
       "stream": "stdout",
       "text": [
        "\n",
        "[0.45578703703703705, 0.3303312962367321, 0.7778695293146161]\n",
        "[0.45578703703703705, 0.3303312962367321, 0.7778695293146161]"
       ]
      },
      {
       "output_type": "stream",
       "stream": "stdout",
       "text": [
        "\n",
        "[0.45578703703703705, 0.3303312962367321, 0.7778695293146161]\n",
        "[0.45578703703703705, 0.3303312962367321, 0.7778695293146161]"
       ]
      },
      {
       "output_type": "stream",
       "stream": "stdout",
       "text": [
        "\n",
        "[0.45578703703703705, 0.3303312962367321, 0.7778695293146161]\n",
        "[0.45578703703703705, 0.3303312962367321, 0.7778695293146161]"
       ]
      },
      {
       "output_type": "stream",
       "stream": "stdout",
       "text": [
        "\n",
        "[0.45578703703703705, 0.3303312962367321, 0.7778695293146161]\n",
        "[0.45578703703703705, 0.3303312962367321, 0.7778695293146161]"
       ]
      },
      {
       "output_type": "stream",
       "stream": "stdout",
       "text": [
        "\n",
        "[0.45578703703703705, 0.3303312962367321, 0.7778695293146161]"
       ]
      },
      {
       "output_type": "stream",
       "stream": "stdout",
       "text": [
        "\n",
        "[0.45578703703703705, 0.3303312962367321, 0.7778695293146161]\n",
        "[0.45578703703703705, 0.3303312962367321, 0.7778695293146161]"
       ]
      },
      {
       "output_type": "stream",
       "stream": "stdout",
       "text": [
        "\n",
        "[0.45578703703703705, 0.3303312962367321, 0.7778695293146161]"
       ]
      },
      {
       "output_type": "stream",
       "stream": "stdout",
       "text": [
        "\n",
        "[0.45578703703703705, 0.3303312962367321, 0.7778695293146161]\n",
        "[0.45578703703703705, 0.3303312962367321, 0.7778695293146161]"
       ]
      },
      {
       "output_type": "stream",
       "stream": "stdout",
       "text": [
        "\n",
        "[0.45578703703703705, 0.3303312962367321, 0.7778695293146161]"
       ]
      },
      {
       "output_type": "stream",
       "stream": "stdout",
       "text": [
        "\n",
        "[0.45578703703703705, 0.3303312962367321, 0.7778695293146161]"
       ]
      },
      {
       "output_type": "stream",
       "stream": "stdout",
       "text": [
        "\n",
        "[0.45578703703703705, 0.3303312962367321, 0.7778695293146161]"
       ]
      },
      {
       "output_type": "stream",
       "stream": "stdout",
       "text": [
        "\n",
        "[0.45578703703703705, 0.3303312962367321, 0.7778695293146161]\n",
        "[0.45578703703703705, 0.3303312962367321, 0.7778695293146161]"
       ]
      },
      {
       "output_type": "stream",
       "stream": "stdout",
       "text": [
        "\n",
        "[0.45578703703703705, 0.3303312962367321, 0.7778695293146161]\n",
        "[0.45578703703703705, 0.3303312962367321, 0.7778695293146161]"
       ]
      },
      {
       "output_type": "stream",
       "stream": "stdout",
       "text": [
        "\n",
        "[0.45578703703703705, 0.3303312962367321, 0.7778695293146161]"
       ]
      },
      {
       "output_type": "stream",
       "stream": "stdout",
       "text": [
        "\n",
        "[0.45578703703703705, 0.3303312962367321, 0.7778695293146161]"
       ]
      },
      {
       "output_type": "stream",
       "stream": "stdout",
       "text": [
        "\n",
        "[0.45578703703703705, 0.3303312962367321, 0.7778695293146161]"
       ]
      },
      {
       "output_type": "stream",
       "stream": "stdout",
       "text": [
        "\n",
        "[0.45578703703703705, 0.3303312962367321, 0.7778695293146161]"
       ]
      },
      {
       "output_type": "stream",
       "stream": "stdout",
       "text": [
        "\n",
        "[0.45578703703703705, 0.3303312962367321, 0.7778695293146161]"
       ]
      },
      {
       "output_type": "stream",
       "stream": "stdout",
       "text": [
        "\n",
        "[0.45578703703703705, 0.3303312962367321, 0.7778695293146161]"
       ]
      },
      {
       "output_type": "stream",
       "stream": "stdout",
       "text": [
        "\n",
        "[0.45578703703703705, 0.3303312962367321, 0.7778695293146161]"
       ]
      },
      {
       "output_type": "stream",
       "stream": "stdout",
       "text": [
        "\n",
        "[0.45578703703703705, 0.3303312962367321, 0.7778695293146161]"
       ]
      },
      {
       "output_type": "stream",
       "stream": "stdout",
       "text": [
        "\n",
        "[0.45578703703703705, 0.3303312962367321, 0.7778695293146161]"
       ]
      },
      {
       "output_type": "stream",
       "stream": "stdout",
       "text": [
        "\n",
        "[0.45578703703703705, 0.3303312962367321, 0.7778695293146161]\n",
        "[0.45578703703703705, 0.3303312962367321, 0.7778695293146161]"
       ]
      },
      {
       "output_type": "stream",
       "stream": "stdout",
       "text": [
        "\n",
        "[0.45578703703703705, 0.3303312962367321, 0.7778695293146161]"
       ]
      },
      {
       "output_type": "stream",
       "stream": "stdout",
       "text": [
        "\n",
        "[0.45578703703703705, 0.3303312962367321, 0.7778695293146161]\n",
        "[0.45578703703703705, 0.3303312962367321, 0.7778695293146161]"
       ]
      },
      {
       "output_type": "stream",
       "stream": "stdout",
       "text": [
        "\n",
        "[0.45578703703703705, 0.3303312962367321, 0.7778695293146161]\n",
        "[0.45578703703703705, 0.3303312962367321, 0.7778695293146161]"
       ]
      },
      {
       "output_type": "stream",
       "stream": "stdout",
       "text": [
        "\n",
        "[0.45578703703703705, 0.3303312962367321, 0.7778695293146161]\n",
        "[0.45578703703703705, 0.3303312962367321, 0.7778695293146161]"
       ]
      },
      {
       "output_type": "stream",
       "stream": "stdout",
       "text": [
        "\n",
        "[0.45578703703703705, 0.3303312962367321, 0.7778695293146161]"
       ]
      },
      {
       "output_type": "stream",
       "stream": "stdout",
       "text": [
        "\n",
        "[0.45578703703703705, 0.3303312962367321, 0.7778695293146161]"
       ]
      },
      {
       "output_type": "stream",
       "stream": "stdout",
       "text": [
        "\n",
        "[0.45578703703703705, 0.3303312962367321, 0.7778695293146161]\n",
        "[0.45578703703703705, 0.3303312962367321, 0.7778695293146161]"
       ]
      },
      {
       "output_type": "stream",
       "stream": "stdout",
       "text": [
        "\n",
        "[0.45578703703703705, 0.3303312962367321, 0.7778695293146161]\n",
        "[0.45578703703703705, 0.3303312962367321, 0.7778695293146161]"
       ]
      },
      {
       "output_type": "stream",
       "stream": "stdout",
       "text": [
        "\n",
        "[0.45578703703703705, 0.3303312962367321, 0.7778695293146161]\n",
        "[0.45578703703703705, 0.3303312962367321, 0.7778695293146161]"
       ]
      },
      {
       "output_type": "stream",
       "stream": "stdout",
       "text": [
        "\n",
        "[0.45578703703703705, 0.3303312962367321, 0.7778695293146161]"
       ]
      },
      {
       "output_type": "stream",
       "stream": "stdout",
       "text": [
        "\n",
        "[0.45578703703703705, 0.3303312962367321, 0.7778695293146161]"
       ]
      },
      {
       "output_type": "stream",
       "stream": "stdout",
       "text": [
        "\n",
        "[0.45578703703703705, 0.3303312962367321, 0.7778695293146161]\n",
        "[0.45578703703703705, 0.3303312962367321, 0.7778695293146161]"
       ]
      },
      {
       "output_type": "stream",
       "stream": "stdout",
       "text": [
        "\n",
        "[0.45578703703703705, 0.3303312962367321, 0.7778695293146161]"
       ]
      },
      {
       "output_type": "stream",
       "stream": "stdout",
       "text": [
        "\n",
        "[0.45578703703703705, 0.3303312962367321, 0.7778695293146161]\n",
        "[0.45578703703703705, 0.3303312962367321, 0.7778695293146161]"
       ]
      },
      {
       "output_type": "stream",
       "stream": "stdout",
       "text": [
        "\n",
        "[0.45578703703703705, 0.3303312962367321, 0.7778695293146161]\n",
        "[0.45578703703703705, 0.3303312962367321, 0.7778695293146161]"
       ]
      },
      {
       "output_type": "stream",
       "stream": "stdout",
       "text": [
        "\n",
        "[0.45578703703703705, 0.3303312962367321, 0.7778695293146161]"
       ]
      },
      {
       "output_type": "stream",
       "stream": "stdout",
       "text": [
        "\n",
        "[0.45578703703703705, 0.3303312962367321, 0.7778695293146161]"
       ]
      },
      {
       "output_type": "stream",
       "stream": "stdout",
       "text": [
        "\n",
        "[0.45578703703703705, 0.3303312962367321, 0.7778695293146161]"
       ]
      },
      {
       "output_type": "stream",
       "stream": "stdout",
       "text": [
        "\n",
        "[0.45578703703703705, 0.3303312962367321, 0.7778695293146161]"
       ]
      },
      {
       "output_type": "stream",
       "stream": "stdout",
       "text": [
        "\n",
        "[0.45578703703703705, 0.3303312962367321, 0.7778695293146161]\n",
        "[0.45578703703703705, 0.3303312962367321, 0.7778695293146161]"
       ]
      },
      {
       "output_type": "stream",
       "stream": "stdout",
       "text": [
        "\n",
        "[0.45578703703703705, 0.3303312962367321, 0.7778695293146161]\n",
        "[0.45578703703703705, 0.3303312962367321, 0.7778695293146161]"
       ]
      },
      {
       "output_type": "stream",
       "stream": "stdout",
       "text": [
        "\n",
        "[0.45578703703703705, 0.3303312962367321, 0.7778695293146161]"
       ]
      },
      {
       "output_type": "stream",
       "stream": "stdout",
       "text": [
        "\n",
        "[0.45578703703703705, 0.3303312962367321, 0.7778695293146161]"
       ]
      },
      {
       "output_type": "stream",
       "stream": "stdout",
       "text": [
        "\n",
        "[0.45578703703703705, 0.3303312962367321, 0.7778695293146161]"
       ]
      },
      {
       "output_type": "stream",
       "stream": "stdout",
       "text": [
        "\n",
        "[0.45578703703703705, 0.3303312962367321, 0.7778695293146161]"
       ]
      },
      {
       "output_type": "stream",
       "stream": "stdout",
       "text": [
        "\n",
        "[0.45578703703703705, 0.3303312962367321, 0.7778695293146161]\n",
        "[0.45578703703703705, 0.3303312962367321, 0.7778695293146161]"
       ]
      },
      {
       "output_type": "stream",
       "stream": "stdout",
       "text": [
        "\n",
        "[0.45578703703703705, 0.3303312962367321, 0.7778695293146161]"
       ]
      },
      {
       "output_type": "stream",
       "stream": "stdout",
       "text": [
        "\n",
        "[0.45578703703703705, 0.3303312962367321, 0.7778695293146161]"
       ]
      },
      {
       "output_type": "stream",
       "stream": "stdout",
       "text": [
        "\n",
        "[0.45578703703703705, 0.3303312962367321, 0.7778695293146161]"
       ]
      },
      {
       "output_type": "stream",
       "stream": "stdout",
       "text": [
        "\n",
        "[0.45578703703703705, 0.3303312962367321, 0.7778695293146161]"
       ]
      },
      {
       "output_type": "stream",
       "stream": "stdout",
       "text": [
        "\n",
        "[0.45578703703703705, 0.3303312962367321, 0.7778695293146161]\n",
        "[0.45578703703703705, 0.3303312962367321, 0.7778695293146161]"
       ]
      },
      {
       "output_type": "stream",
       "stream": "stdout",
       "text": [
        "\n",
        "[0.45578703703703705, 0.3303312962367321, 0.7778695293146161]\n",
        "[0.45578703703703705, 0.3303312962367321, 0.7778695293146161]"
       ]
      },
      {
       "output_type": "stream",
       "stream": "stdout",
       "text": [
        "\n",
        "[0.45578703703703705, 0.3303312962367321, 0.7778695293146161]"
       ]
      },
      {
       "output_type": "stream",
       "stream": "stdout",
       "text": [
        "\n",
        "[0.45578703703703705, 0.3303312962367321, 0.7778695293146161]"
       ]
      },
      {
       "output_type": "stream",
       "stream": "stdout",
       "text": [
        "\n",
        "[0.45578703703703705, 0.3303312962367321, 0.7778695293146161]\n",
        "[0.45578703703703705, 0.3303312962367321, 0.7778695293146161]"
       ]
      },
      {
       "output_type": "stream",
       "stream": "stdout",
       "text": [
        "\n",
        "[0.45578703703703705, 0.3303312962367321, 0.7778695293146161]\n",
        "[0.45578703703703705, 0.3303312962367321, 0.7778695293146161]"
       ]
      },
      {
       "output_type": "stream",
       "stream": "stdout",
       "text": [
        "\n",
        "[0.45578703703703705, 0.3303312962367321, 0.7778695293146161]"
       ]
      },
      {
       "output_type": "stream",
       "stream": "stdout",
       "text": [
        "\n",
        "[0.45578703703703705, 0.3303312962367321, 0.7778695293146161]\n",
        "[0.45578703703703705, 0.3303312962367321, 0.7778695293146161]"
       ]
      },
      {
       "output_type": "stream",
       "stream": "stdout",
       "text": [
        "\n",
        "[0.45578703703703705, 0.3303312962367321, 0.7778695293146161]"
       ]
      },
      {
       "output_type": "stream",
       "stream": "stdout",
       "text": [
        "\n",
        "[0.45578703703703705, 0.3303312962367321, 0.7778695293146161]\n",
        "[0.45578703703703705, 0.3303312962367321, 0.7778695293146161]"
       ]
      },
      {
       "output_type": "stream",
       "stream": "stdout",
       "text": [
        "\n",
        "[0.45578703703703705, 0.3303312962367321, 0.7778695293146161]"
       ]
      },
      {
       "output_type": "stream",
       "stream": "stdout",
       "text": [
        "\n",
        "[0.45578703703703705, 0.3303312962367321, 0.7778695293146161]\n",
        "[0.45578703703703705, 0.3303312962367321, 0.7778695293146161]"
       ]
      },
      {
       "output_type": "stream",
       "stream": "stdout",
       "text": [
        "\n",
        "[0.45578703703703705, 0.3303312962367321, 0.7778695293146161]"
       ]
      },
      {
       "output_type": "stream",
       "stream": "stdout",
       "text": [
        "\n",
        "[0.45578703703703705, 0.3303312962367321, 0.7778695293146161]"
       ]
      },
      {
       "output_type": "stream",
       "stream": "stdout",
       "text": [
        "\n",
        "[0.45578703703703705, 0.3303312962367321, 0.7778695293146161]\n",
        "[0.45578703703703705, 0.3303312962367321, 0.7778695293146161]"
       ]
      },
      {
       "output_type": "stream",
       "stream": "stdout",
       "text": [
        "\n",
        "[0.45578703703703705, 0.3303312962367321, 0.7778695293146161]\n",
        "[0.45578703703703705, 0.3303312962367321, 0.7778695293146161]"
       ]
      },
      {
       "output_type": "stream",
       "stream": "stdout",
       "text": [
        "\n",
        "[0.45578703703703705, 0.3303312962367321, 0.7778695293146161]"
       ]
      },
      {
       "output_type": "stream",
       "stream": "stdout",
       "text": [
        "\n",
        "[0.45578703703703705, 0.3303312962367321, 0.7778695293146161]\n",
        "[0.45578703703703705, 0.3303312962367321, 0.7778695293146161]"
       ]
      },
      {
       "output_type": "stream",
       "stream": "stdout",
       "text": [
        "\n",
        "[0.45578703703703705, 0.3303312962367321, 0.7778695293146161]\n",
        "[0.45578703703703705, 0.3303312962367321, 0.7778695293146161]"
       ]
      },
      {
       "output_type": "stream",
       "stream": "stdout",
       "text": [
        "\n",
        "[0.45578703703703705, 0.3303312962367321, 0.7778695293146161]"
       ]
      },
      {
       "output_type": "stream",
       "stream": "stdout",
       "text": [
        "\n",
        "[0.45578703703703705, 0.3303312962367321, 0.7778695293146161]"
       ]
      },
      {
       "output_type": "stream",
       "stream": "stdout",
       "text": [
        "\n",
        "[0.45578703703703705, 0.3303312962367321, 0.7778695293146161]"
       ]
      },
      {
       "output_type": "stream",
       "stream": "stdout",
       "text": [
        "\n",
        "[0.45578703703703705, 0.3303312962367321, 0.7778695293146161]"
       ]
      },
      {
       "output_type": "stream",
       "stream": "stdout",
       "text": [
        "\n",
        "[0.45578703703703705, 0.3303312962367321, 0.7778695293146161]"
       ]
      },
      {
       "output_type": "stream",
       "stream": "stdout",
       "text": [
        "\n",
        "[0.45578703703703705, 0.3303312962367321, 0.7778695293146161]\n",
        "[0.45578703703703705, 0.3303312962367321, 0.7778695293146161]"
       ]
      },
      {
       "output_type": "stream",
       "stream": "stdout",
       "text": [
        "\n",
        "[0.45578703703703705, 0.3303312962367321, 0.7778695293146161]"
       ]
      },
      {
       "output_type": "stream",
       "stream": "stdout",
       "text": [
        "\n",
        "[0.45578703703703705, 0.3303312962367321, 0.7778695293146161]"
       ]
      },
      {
       "output_type": "stream",
       "stream": "stdout",
       "text": [
        "\n",
        "[0.45578703703703705, 0.3303312962367321, 0.7778695293146161]"
       ]
      },
      {
       "output_type": "stream",
       "stream": "stdout",
       "text": [
        "\n",
        "[0.45578703703703705, 0.3303312962367321, 0.7778695293146161]"
       ]
      },
      {
       "output_type": "stream",
       "stream": "stdout",
       "text": [
        "\n",
        "[0.45578703703703705, 0.3303312962367321, 0.7778695293146161]"
       ]
      },
      {
       "output_type": "stream",
       "stream": "stdout",
       "text": [
        "\n",
        "[0.45578703703703705, 0.3303312962367321, 0.7778695293146161]"
       ]
      },
      {
       "output_type": "stream",
       "stream": "stdout",
       "text": [
        "\n",
        "[0.45578703703703705, 0.3303312962367321, 0.7778695293146161]\n",
        "[0.45578703703703705, 0.3303312962367321, 0.7778695293146161]"
       ]
      },
      {
       "output_type": "stream",
       "stream": "stdout",
       "text": [
        "\n",
        "[0.45578703703703705, 0.3303312962367321, 0.7778695293146161]\n",
        "[0.45578703703703705, 0.3303312962367321, 0.7778695293146161]"
       ]
      },
      {
       "output_type": "stream",
       "stream": "stdout",
       "text": [
        "\n",
        "[0.45578703703703705, 0.3303312962367321, 0.7778695293146161]\n",
        "[0.45578703703703705, 0.3303312962367321, 0.7778695293146161]"
       ]
      },
      {
       "output_type": "stream",
       "stream": "stdout",
       "text": [
        "\n",
        "[0.45578703703703705, 0.3303312962367321, 0.7778695293146161]"
       ]
      },
      {
       "output_type": "stream",
       "stream": "stdout",
       "text": [
        "\n",
        "[0.45578703703703705, 0.3303312962367321, 0.7778695293146161]\n",
        "[0.45578703703703705, 0.3303312962367321, 0.7778695293146161]"
       ]
      },
      {
       "output_type": "stream",
       "stream": "stdout",
       "text": [
        "\n",
        "[0.45578703703703705, 0.3303312962367321, 0.7778695293146161]\n",
        "[0.45578703703703705, 0.3303312962367321, 0.7778695293146161]"
       ]
      },
      {
       "output_type": "stream",
       "stream": "stdout",
       "text": [
        "\n",
        "[0.45578703703703705, 0.3303312962367321, 0.7778695293146161]"
       ]
      },
      {
       "output_type": "stream",
       "stream": "stdout",
       "text": [
        "\n",
        "[0.45578703703703705, 0.3303312962367321, 0.7778695293146161]"
       ]
      },
      {
       "output_type": "stream",
       "stream": "stdout",
       "text": [
        "\n",
        "[0.45578703703703705, 0.3303312962367321, 0.7778695293146161]\n",
        "[0.45578703703703705, 0.3303312962367321, 0.7778695293146161]"
       ]
      },
      {
       "output_type": "stream",
       "stream": "stdout",
       "text": [
        "\n",
        "[0.45578703703703705, 0.3303312962367321, 0.7778695293146161]"
       ]
      },
      {
       "output_type": "stream",
       "stream": "stdout",
       "text": [
        "\n",
        "[0.45578703703703705, 0.3303312962367321, 0.7778695293146161]"
       ]
      },
      {
       "output_type": "stream",
       "stream": "stdout",
       "text": [
        "\n",
        "[0.45578703703703705, 0.3303312962367321, 0.7778695293146161]"
       ]
      },
      {
       "output_type": "stream",
       "stream": "stdout",
       "text": [
        "\n",
        "[0.45578703703703705, 0.3303312962367321, 0.7778695293146161]"
       ]
      },
      {
       "output_type": "stream",
       "stream": "stdout",
       "text": [
        "\n",
        "[0.45578703703703705, 0.3303312962367321, 0.7778695293146161]"
       ]
      },
      {
       "output_type": "stream",
       "stream": "stdout",
       "text": [
        "\n",
        "[0.45578703703703705, 0.3303312962367321, 0.7778695293146161]"
       ]
      },
      {
       "output_type": "stream",
       "stream": "stdout",
       "text": [
        "\n",
        "[0.45578703703703705, 0.3303312962367321, 0.7778695293146161]"
       ]
      },
      {
       "output_type": "stream",
       "stream": "stdout",
       "text": [
        "\n",
        "[0.45578703703703705, 0.3303312962367321, 0.7778695293146161]"
       ]
      },
      {
       "output_type": "stream",
       "stream": "stdout",
       "text": [
        "\n",
        "[0.45578703703703705, 0.3303312962367321, 0.7778695293146161]"
       ]
      },
      {
       "output_type": "stream",
       "stream": "stdout",
       "text": [
        "\n",
        "[0.45578703703703705, 0.3303312962367321, 0.7778695293146161]"
       ]
      },
      {
       "output_type": "stream",
       "stream": "stdout",
       "text": [
        "\n",
        "[0.45578703703703705, 0.3303312962367321, 0.7778695293146161]"
       ]
      },
      {
       "output_type": "stream",
       "stream": "stdout",
       "text": [
        "\n",
        "[0.45578703703703705, 0.3303312962367321, 0.7778695293146161]\n",
        "[0.45578703703703705, 0.3303312962367321, 0.7778695293146161]"
       ]
      },
      {
       "output_type": "stream",
       "stream": "stdout",
       "text": [
        "\n",
        "[0.45578703703703705, 0.3303312962367321, 0.7778695293146161]"
       ]
      },
      {
       "output_type": "stream",
       "stream": "stdout",
       "text": [
        "\n",
        "[0.45578703703703705, 0.3303312962367321, 0.7778695293146161]"
       ]
      },
      {
       "output_type": "stream",
       "stream": "stdout",
       "text": [
        "\n",
        "[0.45578703703703705, 0.3303312962367321, 0.7778695293146161]"
       ]
      },
      {
       "output_type": "stream",
       "stream": "stdout",
       "text": [
        "\n",
        "[0.45578703703703705, 0.3303312962367321, 0.7778695293146161]\n",
        "[0.45578703703703705, 0.3303312962367321, 0.7778695293146161]"
       ]
      },
      {
       "output_type": "stream",
       "stream": "stdout",
       "text": [
        "\n",
        "[0.45578703703703705, 0.3303312962367321, 0.7778695293146161]"
       ]
      },
      {
       "output_type": "stream",
       "stream": "stdout",
       "text": [
        "\n",
        "[0.45578703703703705, 0.3303312962367321, 0.7778695293146161]"
       ]
      },
      {
       "output_type": "stream",
       "stream": "stdout",
       "text": [
        "\n",
        "[0.45578703703703705, 0.3303312962367321, 0.7778695293146161]"
       ]
      },
      {
       "output_type": "stream",
       "stream": "stdout",
       "text": [
        "\n",
        "[0.45578703703703705, 0.3303312962367321, 0.7778695293146161]"
       ]
      },
      {
       "output_type": "stream",
       "stream": "stdout",
       "text": [
        "\n",
        "[0.45578703703703705, 0.3303312962367321, 0.7778695293146161]"
       ]
      },
      {
       "output_type": "stream",
       "stream": "stdout",
       "text": [
        "\n",
        "[0.45578703703703705, 0.3303312962367321, 0.7778695293146161]"
       ]
      },
      {
       "output_type": "stream",
       "stream": "stdout",
       "text": [
        "\n",
        "[0.45578703703703705, 0.3303312962367321, 0.7778695293146161]"
       ]
      },
      {
       "output_type": "stream",
       "stream": "stdout",
       "text": [
        "\n",
        "[0.45578703703703705, 0.3303312962367321, 0.7778695293146161]"
       ]
      },
      {
       "output_type": "stream",
       "stream": "stdout",
       "text": [
        "\n",
        "[0.45578703703703705, 0.3303312962367321, 0.7778695293146161]"
       ]
      },
      {
       "output_type": "stream",
       "stream": "stdout",
       "text": [
        "\n",
        "[0.45578703703703705, 0.3303312962367321, 0.7778695293146161]"
       ]
      },
      {
       "output_type": "stream",
       "stream": "stdout",
       "text": [
        "\n",
        "[0.45578703703703705, 0.3303312962367321, 0.7778695293146161]\n",
        "[0.45578703703703705, 0.3303312962367321, 0.7778695293146161]"
       ]
      },
      {
       "output_type": "stream",
       "stream": "stdout",
       "text": [
        "\n",
        "[0.45578703703703705, 0.3303312962367321, 0.7778695293146161]"
       ]
      },
      {
       "output_type": "stream",
       "stream": "stdout",
       "text": [
        "\n",
        "[0.45578703703703705, 0.3303312962367321, 0.7778695293146161]"
       ]
      },
      {
       "output_type": "stream",
       "stream": "stdout",
       "text": [
        "\n",
        "[0.45578703703703705, 0.3303312962367321, 0.7778695293146161]\n",
        "[0.45578703703703705, 0.3303312962367321, 0.7778695293146161]"
       ]
      },
      {
       "output_type": "stream",
       "stream": "stdout",
       "text": [
        "\n",
        "[0.45578703703703705, 0.3303312962367321, 0.7778695293146161]"
       ]
      },
      {
       "output_type": "stream",
       "stream": "stdout",
       "text": [
        "\n",
        "[0.45578703703703705, 0.3303312962367321, 0.7778695293146161]"
       ]
      },
      {
       "output_type": "stream",
       "stream": "stdout",
       "text": [
        "\n",
        "[0.45578703703703705, 0.3303312962367321, 0.7778695293146161]"
       ]
      },
      {
       "output_type": "stream",
       "stream": "stdout",
       "text": [
        "\n",
        "[0.45578703703703705, 0.3303312962367321, 0.7778695293146161]"
       ]
      },
      {
       "output_type": "stream",
       "stream": "stdout",
       "text": [
        "\n",
        "[0.45578703703703705, 0.3303312962367321, 0.7778695293146161]\n",
        "[0.45578703703703705, 0.3303312962367321, 0.7778695293146161]"
       ]
      },
      {
       "output_type": "stream",
       "stream": "stdout",
       "text": [
        "\n",
        "[0.45578703703703705, 0.3303312962367321, 0.7778695293146161]\n",
        "[0.45578703703703705, 0.3303312962367321, 0.7778695293146161]"
       ]
      },
      {
       "output_type": "stream",
       "stream": "stdout",
       "text": [
        "\n",
        "[0.45578703703703705, 0.3303312962367321, 0.7778695293146161]"
       ]
      },
      {
       "output_type": "stream",
       "stream": "stdout",
       "text": [
        "\n",
        "[0.45578703703703705, 0.3303312962367321, 0.7778695293146161]"
       ]
      },
      {
       "output_type": "stream",
       "stream": "stdout",
       "text": [
        "\n",
        "[0.45578703703703705, 0.3303312962367321, 0.7778695293146161]"
       ]
      },
      {
       "output_type": "stream",
       "stream": "stdout",
       "text": [
        "\n",
        "[0.45578703703703705, 0.3303312962367321, 0.7778695293146161]"
       ]
      },
      {
       "output_type": "stream",
       "stream": "stdout",
       "text": [
        "\n",
        "[0.45578703703703705, 0.3303312962367321, 0.7778695293146161]"
       ]
      },
      {
       "output_type": "stream",
       "stream": "stdout",
       "text": [
        "\n",
        "[0.45578703703703705, 0.3303312962367321, 0.7778695293146161]\n",
        "[0.45578703703703705, 0.3303312962367321, 0.7778695293146161]"
       ]
      },
      {
       "output_type": "stream",
       "stream": "stdout",
       "text": [
        "\n",
        "[0.45578703703703705, 0.3303312962367321, 0.7778695293146161]\n",
        "[0.45578703703703705, 0.3303312962367321, 0.7778695293146161]"
       ]
      },
      {
       "output_type": "stream",
       "stream": "stdout",
       "text": [
        "\n",
        "[0.45578703703703705, 0.3303312962367321, 0.7778695293146161]"
       ]
      },
      {
       "output_type": "stream",
       "stream": "stdout",
       "text": [
        "\n",
        "[0.45578703703703705, 0.3303312962367321, 0.7778695293146161]"
       ]
      },
      {
       "output_type": "stream",
       "stream": "stdout",
       "text": [
        "\n",
        "[0.45578703703703705, 0.3303312962367321, 0.7778695293146161]"
       ]
      },
      {
       "output_type": "stream",
       "stream": "stdout",
       "text": [
        "\n",
        "[0.45578703703703705, 0.3303312962367321, 0.7778695293146161]"
       ]
      },
      {
       "output_type": "stream",
       "stream": "stdout",
       "text": [
        "\n",
        "[0.45578703703703705, 0.3303312962367321, 0.7778695293146161]"
       ]
      },
      {
       "output_type": "stream",
       "stream": "stdout",
       "text": [
        "\n",
        "[0.45578703703703705, 0.3303312962367321, 0.7778695293146161]"
       ]
      },
      {
       "output_type": "stream",
       "stream": "stdout",
       "text": [
        "\n",
        "[0.45578703703703705, 0.3303312962367321, 0.7778695293146161]"
       ]
      },
      {
       "output_type": "stream",
       "stream": "stdout",
       "text": [
        "\n",
        "[0.45578703703703705, 0.3303312962367321, 0.7778695293146161]"
       ]
      },
      {
       "output_type": "stream",
       "stream": "stdout",
       "text": [
        "\n",
        "[0.45578703703703705, 0.3303312962367321, 0.7778695293146161]"
       ]
      },
      {
       "output_type": "stream",
       "stream": "stdout",
       "text": [
        "\n",
        "[0.45578703703703705, 0.3303312962367321, 0.7778695293146161]"
       ]
      },
      {
       "output_type": "stream",
       "stream": "stdout",
       "text": [
        "\n",
        "[0.45578703703703705, 0.3303312962367321, 0.7778695293146161]"
       ]
      },
      {
       "output_type": "stream",
       "stream": "stdout",
       "text": [
        "\n",
        "[0.45578703703703705, 0.3303312962367321, 0.7778695293146161]"
       ]
      },
      {
       "output_type": "stream",
       "stream": "stdout",
       "text": [
        "\n",
        "[0.45578703703703705, 0.3303312962367321, 0.7778695293146161]"
       ]
      },
      {
       "output_type": "stream",
       "stream": "stdout",
       "text": [
        "\n",
        "[0.45578703703703705, 0.3303312962367321, 0.7778695293146161]"
       ]
      },
      {
       "output_type": "stream",
       "stream": "stdout",
       "text": [
        "\n",
        "[0.45578703703703705, 0.3303312962367321, 0.7778695293146161]"
       ]
      },
      {
       "output_type": "stream",
       "stream": "stdout",
       "text": [
        "\n",
        "[0.45578703703703705, 0.3303312962367321, 0.7778695293146161]"
       ]
      },
      {
       "output_type": "stream",
       "stream": "stdout",
       "text": [
        "\n",
        "[0.45578703703703705, 0.3303312962367321, 0.7778695293146161]"
       ]
      },
      {
       "output_type": "stream",
       "stream": "stdout",
       "text": [
        "\n",
        "[0.45578703703703705, 0.3303312962367321, 0.7778695293146161]"
       ]
      },
      {
       "output_type": "stream",
       "stream": "stdout",
       "text": [
        "\n",
        "[0.45578703703703705, 0.3303312962367321, 0.7778695293146161]"
       ]
      },
      {
       "output_type": "stream",
       "stream": "stdout",
       "text": [
        "\n",
        "[0.45578703703703705, 0.3303312962367321, 0.7778695293146161]"
       ]
      },
      {
       "output_type": "stream",
       "stream": "stdout",
       "text": [
        "\n",
        "[0.45578703703703705, 0.3303312962367321, 0.7778695293146161]"
       ]
      },
      {
       "output_type": "stream",
       "stream": "stdout",
       "text": [
        "\n",
        "[0.45578703703703705, 0.3303312962367321, 0.7778695293146161]"
       ]
      },
      {
       "output_type": "stream",
       "stream": "stdout",
       "text": [
        "\n",
        "[0.45578703703703705, 0.3303312962367321, 0.7778695293146161]"
       ]
      },
      {
       "output_type": "stream",
       "stream": "stdout",
       "text": [
        "\n",
        "[0.45578703703703705, 0.3303312962367321, 0.7778695293146161]"
       ]
      },
      {
       "output_type": "stream",
       "stream": "stdout",
       "text": [
        "\n",
        "[0.45578703703703705, 0.3303312962367321, 0.7778695293146161]"
       ]
      },
      {
       "output_type": "stream",
       "stream": "stdout",
       "text": [
        "\n",
        "[0.45578703703703705, 0.3303312962367321, 0.7778695293146161]"
       ]
      },
      {
       "output_type": "stream",
       "stream": "stdout",
       "text": [
        "\n",
        "[0.45578703703703705, 0.3303312962367321, 0.7778695293146161]"
       ]
      },
      {
       "output_type": "stream",
       "stream": "stdout",
       "text": [
        "\n",
        "[0.45578703703703705, 0.3303312962367321, 0.7778695293146161]"
       ]
      },
      {
       "output_type": "stream",
       "stream": "stdout",
       "text": [
        "\n",
        "[0.45578703703703705, 0.3303312962367321, 0.7778695293146161]"
       ]
      },
      {
       "output_type": "stream",
       "stream": "stdout",
       "text": [
        "\n",
        "[0.45578703703703705, 0.3303312962367321, 0.7778695293146161]"
       ]
      },
      {
       "output_type": "stream",
       "stream": "stdout",
       "text": [
        "\n",
        "[0.45578703703703705, 0.3303312962367321, 0.7778695293146161]"
       ]
      },
      {
       "output_type": "stream",
       "stream": "stdout",
       "text": [
        "\n",
        "[0.45578703703703705, 0.3303312962367321, 0.7778695293146161]\n",
        "[0.45578703703703705, 0.3303312962367321, 0.7778695293146161]"
       ]
      },
      {
       "output_type": "stream",
       "stream": "stdout",
       "text": [
        "\n",
        "[0.45578703703703705, 0.3303312962367321, 0.7778695293146161]"
       ]
      },
      {
       "output_type": "stream",
       "stream": "stdout",
       "text": [
        "\n",
        "[0.45578703703703705, 0.3303312962367321, 0.7778695293146161]"
       ]
      },
      {
       "output_type": "stream",
       "stream": "stdout",
       "text": [
        "\n",
        "[0.45578703703703705, 0.3303312962367321, 0.7778695293146161]"
       ]
      },
      {
       "output_type": "stream",
       "stream": "stdout",
       "text": [
        "\n",
        "[0.45578703703703705, 0.3303312962367321, 0.7778695293146161]"
       ]
      },
      {
       "output_type": "stream",
       "stream": "stdout",
       "text": [
        "\n",
        "[0.45578703703703705, 0.3303312962367321, 0.7778695293146161]"
       ]
      },
      {
       "output_type": "stream",
       "stream": "stdout",
       "text": [
        "\n",
        "[0.45578703703703705, 0.3303312962367321, 0.7778695293146161]"
       ]
      },
      {
       "output_type": "stream",
       "stream": "stdout",
       "text": [
        "\n",
        "[0.45578703703703705, 0.3303312962367321, 0.7778695293146161]"
       ]
      },
      {
       "output_type": "stream",
       "stream": "stdout",
       "text": [
        "\n",
        "[0.45578703703703705, 0.3303312962367321, 0.7778695293146161]"
       ]
      },
      {
       "output_type": "stream",
       "stream": "stdout",
       "text": [
        "\n",
        "[0.45578703703703705, 0.3303312962367321, 0.7778695293146161]"
       ]
      },
      {
       "output_type": "stream",
       "stream": "stdout",
       "text": [
        "\n",
        "[0.45578703703703705, 0.3303312962367321, 0.7778695293146161]"
       ]
      },
      {
       "output_type": "stream",
       "stream": "stdout",
       "text": [
        "\n",
        "[0.45578703703703705, 0.3303312962367321, 0.7778695293146161]"
       ]
      },
      {
       "output_type": "stream",
       "stream": "stdout",
       "text": [
        "\n",
        "[0.45578703703703705, 0.3303312962367321, 0.7778695293146161]"
       ]
      },
      {
       "output_type": "stream",
       "stream": "stdout",
       "text": [
        "\n",
        "[0.45578703703703705, 0.3303312962367321, 0.7778695293146161]"
       ]
      },
      {
       "output_type": "stream",
       "stream": "stdout",
       "text": [
        "\n",
        "[0.45578703703703705, 0.3303312962367321, 0.7778695293146161]\n",
        "[0.45578703703703705, 0.3303312962367321, 0.7778695293146161]"
       ]
      },
      {
       "output_type": "stream",
       "stream": "stdout",
       "text": [
        "\n",
        "[0.45578703703703705, 0.3303312962367321, 0.7778695293146161]\n",
        "[0.45578703703703705, 0.3303312962367321, 0.7778695293146161]"
       ]
      },
      {
       "output_type": "stream",
       "stream": "stdout",
       "text": [
        "\n",
        "[0.45578703703703705, 0.3303312962367321, 0.7778695293146161]\n",
        "[0.45578703703703705, 0.3303312962367321, 0.7778695293146161]"
       ]
      },
      {
       "output_type": "stream",
       "stream": "stdout",
       "text": [
        "\n",
        "[0.45578703703703705, 0.3303312962367321, 0.7778695293146161]\n",
        "[0.45578703703703705, 0.3303312962367321, 0.7778695293146161]"
       ]
      },
      {
       "output_type": "stream",
       "stream": "stdout",
       "text": [
        "\n",
        "[0.45578703703703705, 0.3303312962367321, 0.7778695293146161]\n",
        "[0.45578703703703705, 0.3303312962367321, 0.7778695293146161]"
       ]
      },
      {
       "output_type": "stream",
       "stream": "stdout",
       "text": [
        "\n",
        "[0.45578703703703705, 0.3303312962367321, 0.7778695293146161]\n",
        "[0.45578703703703705, 0.3303312962367321, 0.7778695293146161]"
       ]
      },
      {
       "output_type": "stream",
       "stream": "stdout",
       "text": [
        "\n",
        "[0.45578703703703705, 0.3303312962367321, 0.7778695293146161]"
       ]
      },
      {
       "output_type": "stream",
       "stream": "stdout",
       "text": [
        "\n",
        "[0.45578703703703705, 0.3303312962367321, 0.7778695293146161]"
       ]
      },
      {
       "output_type": "stream",
       "stream": "stdout",
       "text": [
        "\n",
        "[0.45578703703703705, 0.3303312962367321, 0.7778695293146161]"
       ]
      },
      {
       "output_type": "stream",
       "stream": "stdout",
       "text": [
        "\n",
        "[0.45578703703703705, 0.3303312962367321, 0.7778695293146161]"
       ]
      },
      {
       "output_type": "stream",
       "stream": "stdout",
       "text": [
        "\n",
        "[0.45578703703703705, 0.3303312962367321, 0.7778695293146161]"
       ]
      },
      {
       "output_type": "stream",
       "stream": "stdout",
       "text": [
        "\n",
        "[0.45578703703703705, 0.3303312962367321, 0.7778695293146161]"
       ]
      },
      {
       "output_type": "stream",
       "stream": "stdout",
       "text": [
        "\n",
        "[0.45578703703703705, 0.3303312962367321, 0.7778695293146161]"
       ]
      },
      {
       "output_type": "stream",
       "stream": "stdout",
       "text": [
        "\n",
        "[0.45578703703703705, 0.3303312962367321, 0.7778695293146161]\n",
        "[0.45578703703703705, 0.3303312962367321, 0.7778695293146161]"
       ]
      },
      {
       "output_type": "stream",
       "stream": "stdout",
       "text": [
        "\n",
        "[0.45578703703703705, 0.3303312962367321, 0.7778695293146161]\n",
        "[0.45578703703703705, 0.3303312962367321, 0.7778695293146161]"
       ]
      },
      {
       "output_type": "stream",
       "stream": "stdout",
       "text": [
        "\n",
        "[0.45578703703703705, 0.3303312962367321, 0.7778695293146161]\n",
        "[0.45578703703703705, 0.3303312962367321, 0.7778695293146161]"
       ]
      },
      {
       "output_type": "stream",
       "stream": "stdout",
       "text": [
        "\n",
        "[0.45578703703703705, 0.3303312962367321, 0.7778695293146161]\n",
        "[0.45578703703703705, 0.3303312962367321, 0.7778695293146161]"
       ]
      },
      {
       "output_type": "stream",
       "stream": "stdout",
       "text": [
        "\n",
        "[0.45578703703703705, 0.3303312962367321, 0.7778695293146161]\n",
        "[0.45578703703703705, 0.3303312962367321, 0.7778695293146161]"
       ]
      },
      {
       "output_type": "stream",
       "stream": "stdout",
       "text": [
        "\n",
        "[0.45578703703703705, 0.3303312962367321, 0.7778695293146161]\n",
        "[0.45578703703703705, 0.3303312962367321, 0.7778695293146161]"
       ]
      },
      {
       "output_type": "stream",
       "stream": "stdout",
       "text": [
        "\n",
        "[0.45578703703703705, 0.3303312962367321, 0.7778695293146161]\n",
        "[0.45578703703703705, 0.3303312962367321, 0.7778695293146161]"
       ]
      },
      {
       "output_type": "stream",
       "stream": "stdout",
       "text": [
        "\n",
        "[0.45578703703703705, 0.3303312962367321, 0.7778695293146161]"
       ]
      },
      {
       "output_type": "stream",
       "stream": "stdout",
       "text": [
        "\n",
        "[0.45578703703703705, 0.3303312962367321, 0.7778695293146161]"
       ]
      },
      {
       "output_type": "stream",
       "stream": "stdout",
       "text": [
        "\n",
        "[0.45578703703703705, 0.3303312962367321, 0.7778695293146161]\n",
        "[0.45578703703703705, 0.3303312962367321, 0.7778695293146161]"
       ]
      },
      {
       "output_type": "stream",
       "stream": "stdout",
       "text": [
        "\n",
        "[0.45578703703703705, 0.3303312962367321, 0.7778695293146161]"
       ]
      },
      {
       "output_type": "stream",
       "stream": "stdout",
       "text": [
        "\n",
        "[0.45578703703703705, 0.3303312962367321, 0.7778695293146161]\n",
        "[0.45578703703703705, 0.3303312962367321, 0.7778695293146161]"
       ]
      },
      {
       "output_type": "stream",
       "stream": "stdout",
       "text": [
        "\n",
        "[0.45578703703703705, 0.3303312962367321, 0.7778695293146161]\n",
        "[0.45578703703703705, 0.3303312962367321, 0.7778695293146161]"
       ]
      },
      {
       "output_type": "stream",
       "stream": "stdout",
       "text": [
        "\n",
        "[0.45578703703703705, 0.3303312962367321, 0.7778695293146161]\n",
        "[0.45578703703703705, 0.3303312962367321, 0.7778695293146161]"
       ]
      },
      {
       "output_type": "stream",
       "stream": "stdout",
       "text": [
        "\n",
        "[0.45578703703703705, 0.3303312962367321, 0.7778695293146161]\n",
        "[0.45578703703703705, 0.3303312962367321, 0.7778695293146161]"
       ]
      },
      {
       "output_type": "stream",
       "stream": "stdout",
       "text": [
        "\n",
        "[0.45578703703703705, 0.3303312962367321, 0.7778695293146161]\n",
        "[0.45578703703703705, 0.3303312962367321, 0.7778695293146161]"
       ]
      },
      {
       "output_type": "stream",
       "stream": "stdout",
       "text": [
        "\n",
        "[0.45578703703703705, 0.3303312962367321, 0.7778695293146161]\n",
        "[0.45578703703703705, 0.3303312962367321, 0.7778695293146161]"
       ]
      },
      {
       "output_type": "stream",
       "stream": "stdout",
       "text": [
        "\n",
        "[0.45578703703703705, 0.3303312962367321, 0.7778695293146161]\n",
        "[0.45578703703703705, 0.3303312962367321, 0.7778695293146161]"
       ]
      },
      {
       "output_type": "stream",
       "stream": "stdout",
       "text": [
        "\n",
        "[0.45578703703703705, 0.3303312962367321, 0.7778695293146161]"
       ]
      },
      {
       "output_type": "stream",
       "stream": "stdout",
       "text": [
        "\n",
        "[0.45578703703703705, 0.3303312962367321, 0.7778695293146161]"
       ]
      },
      {
       "output_type": "stream",
       "stream": "stdout",
       "text": [
        "\n",
        "[0.45578703703703705, 0.3303312962367321, 0.7778695293146161]"
       ]
      },
      {
       "output_type": "stream",
       "stream": "stdout",
       "text": [
        "\n",
        "[0.45578703703703705, 0.3303312962367321, 0.7778695293146161]"
       ]
      },
      {
       "output_type": "stream",
       "stream": "stdout",
       "text": [
        "\n",
        "[0.45578703703703705, 0.3303312962367321, 0.7778695293146161]"
       ]
      },
      {
       "output_type": "stream",
       "stream": "stdout",
       "text": [
        "\n",
        "[0.45578703703703705, 0.3303312962367321, 0.7778695293146161]"
       ]
      },
      {
       "output_type": "stream",
       "stream": "stdout",
       "text": [
        "\n",
        "[0.45578703703703705, 0.3303312962367321, 0.7778695293146161]\n",
        "[0.45578703703703705, 0.3303312962367321, 0.7778695293146161]"
       ]
      },
      {
       "output_type": "stream",
       "stream": "stdout",
       "text": [
        "\n",
        "[0.45578703703703705, 0.3303312962367321, 0.7778695293146161]\n",
        "[0.45578703703703705, 0.3303312962367321, 0.7778695293146161]"
       ]
      },
      {
       "output_type": "stream",
       "stream": "stdout",
       "text": [
        "\n",
        "[0.45578703703703705, 0.3303312962367321, 0.7778695293146161]\n",
        "[0.45578703703703705, 0.3303312962367321, 0.7778695293146161]"
       ]
      },
      {
       "output_type": "stream",
       "stream": "stdout",
       "text": [
        "\n",
        "[0.45578703703703705, 0.3303312962367321, 0.7778695293146161]"
       ]
      },
      {
       "output_type": "stream",
       "stream": "stdout",
       "text": [
        "\n",
        "[0.45578703703703705, 0.3303312962367321, 0.7778695293146161]\n",
        "[0.45578703703703705, 0.3303312962367321, 0.7778695293146161]"
       ]
      },
      {
       "output_type": "stream",
       "stream": "stdout",
       "text": [
        "\n",
        "[0.45578703703703705, 0.3303312962367321, 0.7778695293146161]\n",
        "[0.45578703703703705, 0.3303312962367321, 0.7778695293146161]"
       ]
      },
      {
       "output_type": "stream",
       "stream": "stdout",
       "text": [
        "\n",
        "[0.45578703703703705, 0.3303312962367321, 0.7778695293146161]"
       ]
      },
      {
       "output_type": "stream",
       "stream": "stdout",
       "text": [
        "\n",
        "[0.45578703703703705, 0.3303312962367321, 0.7778695293146161]"
       ]
      },
      {
       "output_type": "stream",
       "stream": "stdout",
       "text": [
        "\n",
        "[0.45578703703703705, 0.3303312962367321, 0.7778695293146161]\n",
        "[0.45578703703703705, 0.3303312962367321, 0.7778695293146161]"
       ]
      },
      {
       "output_type": "stream",
       "stream": "stdout",
       "text": [
        "\n",
        "[0.45578703703703705, 0.3303312962367321, 0.7778695293146161]"
       ]
      },
      {
       "output_type": "stream",
       "stream": "stdout",
       "text": [
        "\n",
        "[0.45578703703703705, 0.3303312962367321, 0.7778695293146161]"
       ]
      },
      {
       "output_type": "stream",
       "stream": "stdout",
       "text": [
        "\n",
        "[0.45578703703703705, 0.3303312962367321, 0.7778695293146161]"
       ]
      },
      {
       "output_type": "stream",
       "stream": "stdout",
       "text": [
        "\n",
        "[0.45578703703703705, 0.3303312962367321, 0.7778695293146161]\n",
        "[0.45578703703703705, 0.3303312962367321, 0.7778695293146161]"
       ]
      },
      {
       "output_type": "stream",
       "stream": "stdout",
       "text": [
        "\n",
        "[0.45578703703703705, 0.3303312962367321, 0.7778695293146161]\n",
        "[0.45578703703703705, 0.3303312962367321, 0.7778695293146161]"
       ]
      },
      {
       "output_type": "stream",
       "stream": "stdout",
       "text": [
        "\n",
        "[0.45578703703703705, 0.3303312962367321, 0.7778695293146161]\n",
        "[0.45578703703703705, 0.3303312962367321, 0.7778695293146161]"
       ]
      },
      {
       "output_type": "stream",
       "stream": "stdout",
       "text": [
        "\n",
        "[0.45578703703703705, 0.3303312962367321, 0.7778695293146161]\n",
        "[0.45578703703703705, 0.3303312962367321, 0.7778695293146161]"
       ]
      },
      {
       "output_type": "stream",
       "stream": "stdout",
       "text": [
        "\n",
        "[0.45578703703703705, 0.3303312962367321, 0.7778695293146161]"
       ]
      },
      {
       "output_type": "stream",
       "stream": "stdout",
       "text": [
        "\n",
        "[0.45578703703703705, 0.3303312962367321, 0.7778695293146161]\n",
        "[0.45578703703703705, 0.3303312962367321, 0.7778695293146161]"
       ]
      },
      {
       "output_type": "stream",
       "stream": "stdout",
       "text": [
        "\n",
        "[0.45578703703703705, 0.3303312962367321, 0.7778695293146161]\n",
        "[0.45578703703703705, 0.3303312962367321, 0.7778695293146161]"
       ]
      },
      {
       "output_type": "stream",
       "stream": "stdout",
       "text": [
        "\n",
        "[0.45578703703703705, 0.3303312962367321, 0.7778695293146161]\n",
        "[0.45578703703703705, 0.3303312962367321, 0.7778695293146161]"
       ]
      },
      {
       "output_type": "stream",
       "stream": "stdout",
       "text": [
        "\n",
        "[0.45578703703703705, 0.3303312962367321, 0.7778695293146161]\n",
        "[0.45578703703703705, 0.3303312962367321, 0.7778695293146161]"
       ]
      },
      {
       "output_type": "stream",
       "stream": "stdout",
       "text": [
        "\n",
        "[0.45578703703703705, 0.3303312962367321, 0.7778695293146161]\n",
        "[0.45578703703703705, 0.3303312962367321, 0.7778695293146161]"
       ]
      },
      {
       "output_type": "stream",
       "stream": "stdout",
       "text": [
        "\n",
        "[0.45578703703703705, 0.3303312962367321, 0.7778695293146161]\n",
        "[0.45578703703703705, 0.3303312962367321, 0.7778695293146161]"
       ]
      },
      {
       "output_type": "stream",
       "stream": "stdout",
       "text": [
        "\n",
        "[0.45578703703703705, 0.3303312962367321, 0.7778695293146161]"
       ]
      },
      {
       "output_type": "stream",
       "stream": "stdout",
       "text": [
        "\n",
        "[0.45578703703703705, 0.3303312962367321, 0.7778695293146161]"
       ]
      },
      {
       "output_type": "stream",
       "stream": "stdout",
       "text": [
        "\n",
        "[0.45578703703703705, 0.3303312962367321, 0.7778695293146161]\n",
        "[0.45578703703703705, 0.3303312962367321, 0.7778695293146161]"
       ]
      },
      {
       "output_type": "stream",
       "stream": "stdout",
       "text": [
        "\n",
        "[0.45578703703703705, 0.3303312962367321, 0.7778695293146161]\n",
        "[0.45578703703703705, 0.3303312962367321, 0.7778695293146161]"
       ]
      },
      {
       "output_type": "stream",
       "stream": "stdout",
       "text": [
        "\n",
        "[0.45578703703703705, 0.3303312962367321, 0.7778695293146161]\n",
        "[0.45578703703703705, 0.3303312962367321, 0.7778695293146161]"
       ]
      },
      {
       "output_type": "stream",
       "stream": "stdout",
       "text": [
        "\n",
        "[0.45578703703703705, 0.3303312962367321, 0.7778695293146161]\n",
        "[0.45578703703703705, 0.3303312962367321, 0.7778695293146161]"
       ]
      },
      {
       "output_type": "stream",
       "stream": "stdout",
       "text": [
        "\n",
        "[0.45578703703703705, 0.3303312962367321, 0.7778695293146161]\n",
        "[0.45578703703703705, 0.3303312962367321, 0.7778695293146161]"
       ]
      },
      {
       "output_type": "stream",
       "stream": "stdout",
       "text": [
        "\n",
        "[0.45578703703703705, 0.3303312962367321, 0.7778695293146161]\n",
        "[0.45578703703703705, 0.3303312962367321, 0.7778695293146161]"
       ]
      },
      {
       "output_type": "stream",
       "stream": "stdout",
       "text": [
        "\n",
        "[0.45578703703703705, 0.3303312962367321, 0.7778695293146161]\n",
        "[0.45578703703703705, 0.3303312962367321, 0.7778695293146161]"
       ]
      },
      {
       "output_type": "stream",
       "stream": "stdout",
       "text": [
        "\n",
        "[0.45578703703703705, 0.3303312962367321, 0.7778695293146161]\n",
        "[0.45578703703703705, 0.3303312962367321, 0.7778695293146161]"
       ]
      },
      {
       "output_type": "stream",
       "stream": "stdout",
       "text": [
        "\n",
        "[0.45578703703703705, 0.3303312962367321, 0.7778695293146161]\n",
        "[0.45578703703703705, 0.3303312962367321, 0.7778695293146161]"
       ]
      },
      {
       "output_type": "stream",
       "stream": "stdout",
       "text": [
        "\n",
        "[0.45578703703703705, 0.3303312962367321, 0.7778695293146161]"
       ]
      },
      {
       "output_type": "stream",
       "stream": "stdout",
       "text": [
        "\n",
        "[0.45578703703703705, 0.3303312962367321, 0.7778695293146161]"
       ]
      },
      {
       "output_type": "stream",
       "stream": "stdout",
       "text": [
        "\n",
        "[0.45578703703703705, 0.3303312962367321, 0.7778695293146161]"
       ]
      },
      {
       "output_type": "stream",
       "stream": "stdout",
       "text": [
        "\n",
        "[0.45578703703703705, 0.3303312962367321, 0.7778695293146161]"
       ]
      },
      {
       "output_type": "stream",
       "stream": "stdout",
       "text": [
        "\n",
        "[0.45578703703703705, 0.3303312962367321, 0.7778695293146161]\n",
        "[0.45578703703703705, 0.3303312962367321, 0.7778695293146161]"
       ]
      },
      {
       "output_type": "stream",
       "stream": "stdout",
       "text": [
        "\n",
        "[0.45578703703703705, 0.3303312962367321, 0.7778695293146161]\n",
        "[0.45578703703703705, 0.3303312962367321, 0.7778695293146161]"
       ]
      },
      {
       "output_type": "stream",
       "stream": "stdout",
       "text": [
        "\n",
        "[0.45578703703703705, 0.3303312962367321, 0.7778695293146161]\n",
        "[0.45578703703703705, 0.3303312962367321, 0.7778695293146161]"
       ]
      },
      {
       "output_type": "stream",
       "stream": "stdout",
       "text": [
        "\n",
        "[0.45578703703703705, 0.3303312962367321, 0.7778695293146161]\n",
        "[0.45578703703703705, 0.3303312962367321, 0.7778695293146161]"
       ]
      },
      {
       "output_type": "stream",
       "stream": "stdout",
       "text": [
        "\n",
        "[0.45578703703703705, 0.3303312962367321, 0.7778695293146161]\n",
        "[0.45578703703703705, 0.3303312962367321, 0.7778695293146161]"
       ]
      },
      {
       "output_type": "stream",
       "stream": "stdout",
       "text": [
        "\n",
        "[0.45578703703703705, 0.3303312962367321, 0.7778695293146161]"
       ]
      },
      {
       "output_type": "stream",
       "stream": "stdout",
       "text": [
        "\n",
        "[0.45578703703703705, 0.3303312962367321, 0.7778695293146161]"
       ]
      },
      {
       "output_type": "stream",
       "stream": "stdout",
       "text": [
        "\n",
        "[0.45578703703703705, 0.3303312962367321, 0.7778695293146161]"
       ]
      },
      {
       "output_type": "stream",
       "stream": "stdout",
       "text": [
        "\n",
        "[0.45578703703703705, 0.3303312962367321, 0.7778695293146161]\n",
        "[0.45578703703703705, 0.3303312962367321, 0.7778695293146161]"
       ]
      },
      {
       "output_type": "stream",
       "stream": "stdout",
       "text": [
        "\n",
        "[0.45578703703703705, 0.3303312962367321, 0.7778695293146161]\n",
        "[0.45578703703703705, 0.3303312962367321, 0.7778695293146161]"
       ]
      },
      {
       "output_type": "stream",
       "stream": "stdout",
       "text": [
        "\n",
        "[0.45578703703703705, 0.3303312962367321, 0.7778695293146161]"
       ]
      },
      {
       "output_type": "stream",
       "stream": "stdout",
       "text": [
        "\n",
        "[0.45578703703703705, 0.3303312962367321, 0.7778695293146161]"
       ]
      },
      {
       "output_type": "stream",
       "stream": "stdout",
       "text": [
        "\n",
        "[0.45578703703703705, 0.3303312962367321, 0.7778695293146161]"
       ]
      },
      {
       "output_type": "stream",
       "stream": "stdout",
       "text": [
        "\n",
        "[0.45578703703703705, 0.3303312962367321, 0.7778695293146161]"
       ]
      },
      {
       "output_type": "stream",
       "stream": "stdout",
       "text": [
        "\n",
        "[0.45578703703703705, 0.3303312962367321, 0.7778695293146161]"
       ]
      },
      {
       "output_type": "stream",
       "stream": "stdout",
       "text": [
        "\n",
        "[0.45578703703703705, 0.3303312962367321, 0.7778695293146161]\n",
        "[0.45578703703703705, 0.3303312962367321, 0.7778695293146161]"
       ]
      },
      {
       "output_type": "stream",
       "stream": "stdout",
       "text": [
        "\n",
        "[0.45578703703703705, 0.3303312962367321, 0.7778695293146161]"
       ]
      },
      {
       "output_type": "stream",
       "stream": "stdout",
       "text": [
        "\n",
        "[0.45578703703703705, 0.3303312962367321, 0.7778695293146161]\n",
        "[0.45578703703703705, 0.3303312962367321, 0.7778695293146161]"
       ]
      },
      {
       "output_type": "stream",
       "stream": "stdout",
       "text": [
        "\n",
        "[0.45578703703703705, 0.3303312962367321, 0.7778695293146161]\n",
        "[0.45578703703703705, 0.3303312962367321, 0.7778695293146161]"
       ]
      },
      {
       "output_type": "stream",
       "stream": "stdout",
       "text": [
        "\n",
        "[0.45578703703703705, 0.3303312962367321, 0.7778695293146161]\n",
        "[0.45578703703703705, 0.3303312962367321, 0.7778695293146161]"
       ]
      },
      {
       "output_type": "stream",
       "stream": "stdout",
       "text": [
        "\n",
        "[0.45578703703703705, 0.3303312962367321, 0.7778695293146161]\n",
        "[0.45578703703703705, 0.3303312962367321, 0.7778695293146161]"
       ]
      },
      {
       "output_type": "stream",
       "stream": "stdout",
       "text": [
        "\n",
        "[0.45578703703703705, 0.3303312962367321, 0.7778695293146161]\n",
        "[0.45578703703703705, 0.3303312962367321, 0.7778695293146161]"
       ]
      },
      {
       "output_type": "stream",
       "stream": "stdout",
       "text": [
        "\n",
        "[0.45578703703703705, 0.3303312962367321, 0.7778695293146161]\n",
        "[0.45578703703703705, 0.3303312962367321, 0.7778695293146161]"
       ]
      },
      {
       "output_type": "stream",
       "stream": "stdout",
       "text": [
        "\n",
        "[0.45578703703703705, 0.3303312962367321, 0.7778695293146161]\n",
        "[0.45578703703703705, 0.3303312962367321, 0.7778695293146161]"
       ]
      },
      {
       "output_type": "stream",
       "stream": "stdout",
       "text": [
        "\n",
        "[0.45578703703703705, 0.3303312962367321, 0.7778695293146161]"
       ]
      },
      {
       "output_type": "stream",
       "stream": "stdout",
       "text": [
        "\n",
        "[0.45578703703703705, 0.3303312962367321, 0.7778695293146161]"
       ]
      },
      {
       "output_type": "stream",
       "stream": "stdout",
       "text": [
        "\n",
        "[0.45578703703703705, 0.3303312962367321, 0.7778695293146161]\n",
        "[0.45578703703703705, 0.3303312962367321, 0.7778695293146161]"
       ]
      },
      {
       "output_type": "stream",
       "stream": "stdout",
       "text": [
        "\n",
        "[0.45578703703703705, 0.3303312962367321, 0.7778695293146161]"
       ]
      },
      {
       "output_type": "stream",
       "stream": "stdout",
       "text": [
        "\n",
        "[0.45578703703703705, 0.3303312962367321, 0.7778695293146161]\n",
        "[0.45578703703703705, 0.3303312962367321, 0.7778695293146161]"
       ]
      },
      {
       "output_type": "stream",
       "stream": "stdout",
       "text": [
        "\n",
        "[0.45578703703703705, 0.3303312962367321, 0.7778695293146161]\n",
        "[0.45578703703703705, 0.3303312962367321, 0.7778695293146161]"
       ]
      },
      {
       "output_type": "stream",
       "stream": "stdout",
       "text": [
        "\n",
        "[0.45578703703703705, 0.3303312962367321, 0.7778695293146161]\n",
        "[0.45578703703703705, 0.3303312962367321, 0.7778695293146161]"
       ]
      },
      {
       "output_type": "stream",
       "stream": "stdout",
       "text": [
        "\n",
        "[0.45578703703703705, 0.3303312962367321, 0.7778695293146161]\n",
        "[0.45578703703703705, 0.3303312962367321, 0.7778695293146161]"
       ]
      },
      {
       "output_type": "stream",
       "stream": "stdout",
       "text": [
        "\n",
        "[0.45578703703703705, 0.3303312962367321, 0.7778695293146161]\n",
        "[0.45578703703703705, 0.3303312962367321, 0.7778695293146161]"
       ]
      },
      {
       "output_type": "stream",
       "stream": "stdout",
       "text": [
        "\n",
        "[0.45578703703703705, 0.3303312962367321, 0.7778695293146161]\n",
        "[0.45578703703703705, 0.3303312962367321, 0.7778695293146161]"
       ]
      },
      {
       "output_type": "stream",
       "stream": "stdout",
       "text": [
        "\n",
        "[0.45578703703703705, 0.3303312962367321, 0.7778695293146161]\n",
        "[0.45578703703703705, 0.3303312962367321, 0.7778695293146161]"
       ]
      },
      {
       "output_type": "stream",
       "stream": "stdout",
       "text": [
        "\n",
        "[0.45578703703703705, 0.3303312962367321, 0.7778695293146161]\n",
        "[0.45578703703703705, 0.3303312962367321, 0.7778695293146161]"
       ]
      },
      {
       "output_type": "stream",
       "stream": "stdout",
       "text": [
        "\n",
        "[0.45578703703703705, 0.3303312962367321, 0.7778695293146161]\n",
        "[0.45578703703703705, 0.3303312962367321, 0.7778695293146161]"
       ]
      },
      {
       "output_type": "stream",
       "stream": "stdout",
       "text": [
        "\n",
        "[0.45578703703703705, 0.3303312962367321, 0.7778695293146161]\n",
        "[0.45578703703703705, 0.3303312962367321, 0.7778695293146161]"
       ]
      },
      {
       "output_type": "stream",
       "stream": "stdout",
       "text": [
        "\n",
        "[0.45578703703703705, 0.3303312962367321, 0.7778695293146161]"
       ]
      },
      {
       "output_type": "stream",
       "stream": "stdout",
       "text": [
        "\n",
        "[0.45578703703703705, 0.3303312962367321, 0.7778695293146161]\n",
        "[0.45578703703703705, 0.3303312962367321, 0.7778695293146161]"
       ]
      },
      {
       "output_type": "stream",
       "stream": "stdout",
       "text": [
        "\n",
        "[0.45578703703703705, 0.3303312962367321, 0.7778695293146161]\n",
        "[0.45578703703703705, 0.3303312962367321, 0.7778695293146161]"
       ]
      },
      {
       "output_type": "stream",
       "stream": "stdout",
       "text": [
        "\n",
        "[0.45578703703703705, 0.3303312962367321, 0.7778695293146161]"
       ]
      },
      {
       "output_type": "stream",
       "stream": "stdout",
       "text": [
        "\n",
        "[0.45578703703703705, 0.3303312962367321, 0.7778695293146161]\n",
        "[0.45578703703703705, 0.3303312962367321, 0.7778695293146161]"
       ]
      },
      {
       "output_type": "stream",
       "stream": "stdout",
       "text": [
        "\n",
        "[0.45578703703703705, 0.3303312962367321, 0.7778695293146161]\n",
        "[0.45578703703703705, 0.3303312962367321, 0.7778695293146161]"
       ]
      },
      {
       "output_type": "stream",
       "stream": "stdout",
       "text": [
        "\n",
        "[0.45578703703703705, 0.3303312962367321, 0.7778695293146161]\n",
        "[0.45578703703703705, 0.3303312962367321, 0.7778695293146161]"
       ]
      },
      {
       "output_type": "stream",
       "stream": "stdout",
       "text": [
        "\n",
        "[0.45578703703703705, 0.3303312962367321, 0.7778695293146161]\n",
        "[0.45578703703703705, 0.3303312962367321, 0.7778695293146161]"
       ]
      },
      {
       "output_type": "stream",
       "stream": "stdout",
       "text": [
        "\n",
        "[0.45578703703703705, 0.3303312962367321, 0.7778695293146161]\n",
        "[0.45578703703703705, 0.3303312962367321, 0.7778695293146161]"
       ]
      },
      {
       "output_type": "stream",
       "stream": "stdout",
       "text": [
        "\n",
        "[0.45578703703703705, 0.3303312962367321, 0.7778695293146161]\n",
        "[0.45578703703703705, 0.3303312962367321, 0.7778695293146161]"
       ]
      },
      {
       "output_type": "stream",
       "stream": "stdout",
       "text": [
        "\n",
        "[0.45578703703703705, 0.3303312962367321, 0.7778695293146161]\n",
        "[0.45578703703703705, 0.3303312962367321, 0.7778695293146161]"
       ]
      },
      {
       "output_type": "stream",
       "stream": "stdout",
       "text": [
        "\n",
        "[0.45578703703703705, 0.3303312962367321, 0.7778695293146161]\n",
        "[0.45578703703703705, 0.3303312962367321, 0.7778695293146161]"
       ]
      },
      {
       "output_type": "stream",
       "stream": "stdout",
       "text": [
        "\n",
        "[0.45578703703703705, 0.3303312962367321, 0.7778695293146161]"
       ]
      },
      {
       "output_type": "stream",
       "stream": "stdout",
       "text": [
        "\n",
        "[0.45578703703703705, 0.3303312962367321, 0.7778695293146161]"
       ]
      },
      {
       "output_type": "stream",
       "stream": "stdout",
       "text": [
        "\n",
        "[0.45578703703703705, 0.3303312962367321, 0.7778695293146161]\n",
        "[0.45578703703703705, 0.3303312962367321, 0.7778695293146161]"
       ]
      },
      {
       "output_type": "stream",
       "stream": "stdout",
       "text": [
        "\n",
        "[0.45578703703703705, 0.3303312962367321, 0.7778695293146161]\n",
        "[0.45578703703703705, 0.3303312962367321, 0.7778695293146161]"
       ]
      },
      {
       "output_type": "stream",
       "stream": "stdout",
       "text": [
        "\n",
        "[0.45578703703703705, 0.3303312962367321, 0.7778695293146161]\n",
        "[0.45578703703703705, 0.3303312962367321, 0.7778695293146161]"
       ]
      },
      {
       "output_type": "stream",
       "stream": "stdout",
       "text": [
        "\n",
        "[0.45578703703703705, 0.3303312962367321, 0.7778695293146161]\n",
        "[0.45578703703703705, 0.3303312962367321, 0.7778695293146161]"
       ]
      },
      {
       "output_type": "stream",
       "stream": "stdout",
       "text": [
        "\n",
        "[0.45578703703703705, 0.3303312962367321, 0.7778695293146161]\n",
        "[0.45578703703703705, 0.3303312962367321, 0.7778695293146161]"
       ]
      },
      {
       "output_type": "stream",
       "stream": "stdout",
       "text": [
        "\n",
        "[0.45578703703703705, 0.3303312962367321, 0.7778695293146161]"
       ]
      },
      {
       "output_type": "stream",
       "stream": "stdout",
       "text": [
        "\n",
        "[0.45578703703703705, 0.3303312962367321, 0.7778695293146161]\n",
        "[0.45578703703703705, 0.3303312962367321, 0.7778695293146161]"
       ]
      },
      {
       "output_type": "stream",
       "stream": "stdout",
       "text": [
        "\n",
        "[0.45578703703703705, 0.3303312962367321, 0.7778695293146161]\n",
        "[0.45578703703703705, 0.3303312962367321, 0.7778695293146161]"
       ]
      },
      {
       "output_type": "stream",
       "stream": "stdout",
       "text": [
        "\n",
        "[0.45578703703703705, 0.3303312962367321, 0.7778695293146161]\n",
        "[0.45578703703703705, 0.3303312962367321, 0.7778695293146161]"
       ]
      },
      {
       "output_type": "stream",
       "stream": "stdout",
       "text": [
        "\n",
        "[0.45578703703703705, 0.3303312962367321, 0.7778695293146161]\n",
        "[0.45578703703703705, 0.3303312962367321, 0.7778695293146161]"
       ]
      },
      {
       "output_type": "stream",
       "stream": "stdout",
       "text": [
        "\n",
        "[0.45578703703703705, 0.3303312962367321, 0.7778695293146161]\n",
        "[0.45578703703703705, 0.3303312962367321, 0.7778695293146161]"
       ]
      },
      {
       "output_type": "stream",
       "stream": "stdout",
       "text": [
        "\n",
        "[0.45578703703703705, 0.3303312962367321, 0.7778695293146161]"
       ]
      },
      {
       "output_type": "stream",
       "stream": "stdout",
       "text": [
        "\n",
        "[0.45578703703703705, 0.3303312962367321, 0.7778695293146161]"
       ]
      },
      {
       "output_type": "stream",
       "stream": "stdout",
       "text": [
        "\n",
        "[0.45578703703703705, 0.3303312962367321, 0.7778695293146161]\n",
        "[0.45578703703703705, 0.3303312962367321, 0.7778695293146161]"
       ]
      },
      {
       "output_type": "stream",
       "stream": "stdout",
       "text": [
        "\n",
        "[0.45578703703703705, 0.3303312962367321, 0.7778695293146161]\n",
        "[0.45578703703703705, 0.3303312962367321, 0.7778695293146161]"
       ]
      },
      {
       "output_type": "stream",
       "stream": "stdout",
       "text": [
        "\n",
        "[0.45578703703703705, 0.3303312962367321, 0.7778695293146161]\n",
        "[0.45578703703703705, 0.3303312962367321, 0.7778695293146161]"
       ]
      },
      {
       "output_type": "stream",
       "stream": "stdout",
       "text": [
        "\n",
        "[0.45578703703703705, 0.3303312962367321, 0.7778695293146161]"
       ]
      },
      {
       "output_type": "stream",
       "stream": "stdout",
       "text": [
        "\n",
        "[0.45578703703703705, 0.3303312962367321, 0.7778695293146161]"
       ]
      },
      {
       "output_type": "stream",
       "stream": "stdout",
       "text": [
        "\n",
        "[0.45578703703703705, 0.3303312962367321, 0.7778695293146161]\n",
        "[0.45578703703703705, 0.3303312962367321, 0.7778695293146161]"
       ]
      },
      {
       "output_type": "stream",
       "stream": "stdout",
       "text": [
        "\n",
        "[0.45578703703703705, 0.3303312962367321, 0.7778695293146161]\n",
        "[0.45578703703703705, 0.3303312962367321, 0.7778695293146161]"
       ]
      },
      {
       "output_type": "stream",
       "stream": "stdout",
       "text": [
        "\n",
        "[0.45578703703703705, 0.3303312962367321, 0.7778695293146161]\n",
        "[0.45578703703703705, 0.3303312962367321, 0.7778695293146161]"
       ]
      },
      {
       "output_type": "stream",
       "stream": "stdout",
       "text": [
        "\n",
        "[0.45578703703703705, 0.3303312962367321, 0.7778695293146161]\n",
        "[0.45578703703703705, 0.3303312962367321, 0.7778695293146161]"
       ]
      },
      {
       "output_type": "stream",
       "stream": "stdout",
       "text": [
        "\n",
        "[0.45578703703703705, 0.3303312962367321, 0.7778695293146161]\n",
        "[0.45578703703703705, 0.3303312962367321, 0.7778695293146161]"
       ]
      },
      {
       "output_type": "stream",
       "stream": "stdout",
       "text": [
        "\n",
        "[0.45578703703703705, 0.3303312962367321, 0.7778695293146161]\n",
        "[0.45578703703703705, 0.3303312962367321, 0.7778695293146161]"
       ]
      },
      {
       "output_type": "stream",
       "stream": "stdout",
       "text": [
        "\n",
        "[0.45578703703703705, 0.3303312962367321, 0.7778695293146161]\n",
        "[0.45578703703703705, 0.3303312962367321, 0.7778695293146161]"
       ]
      },
      {
       "output_type": "stream",
       "stream": "stdout",
       "text": [
        "\n",
        "[0.45578703703703705, 0.3303312962367321, 0.7778695293146161]"
       ]
      },
      {
       "output_type": "stream",
       "stream": "stdout",
       "text": [
        "\n",
        "[0.45578703703703705, 0.3303312962367321, 0.7778695293146161]\n",
        "[0.45578703703703705, 0.3303312962367321, 0.7778695293146161]"
       ]
      },
      {
       "output_type": "stream",
       "stream": "stdout",
       "text": [
        "\n",
        "[0.45578703703703705, 0.3303312962367321, 0.7778695293146161]\n",
        "[0.45578703703703705, 0.3303312962367321, 0.7778695293146161]"
       ]
      },
      {
       "output_type": "stream",
       "stream": "stdout",
       "text": [
        "\n",
        "[0.45578703703703705, 0.3303312962367321, 0.7778695293146161]"
       ]
      },
      {
       "output_type": "stream",
       "stream": "stdout",
       "text": [
        "\n",
        "[0.45578703703703705, 0.3303312962367321, 0.7778695293146161]\n",
        "[0.45578703703703705, 0.3303312962367321, 0.7778695293146161]"
       ]
      },
      {
       "output_type": "stream",
       "stream": "stdout",
       "text": [
        "\n",
        "[0.45578703703703705, 0.3303312962367321, 0.7778695293146161]\n",
        "[0.45578703703703705, 0.3303312962367321, 0.7778695293146161]"
       ]
      },
      {
       "output_type": "stream",
       "stream": "stdout",
       "text": [
        "\n",
        "[0.45578703703703705, 0.3303312962367321, 0.7778695293146161]\n",
        "[0.45578703703703705, 0.3303312962367321, 0.7778695293146161]"
       ]
      },
      {
       "output_type": "stream",
       "stream": "stdout",
       "text": [
        "\n",
        "[0.45578703703703705, 0.3303312962367321, 0.7778695293146161]\n",
        "[0.45578703703703705, 0.3303312962367321, 0.7778695293146161]"
       ]
      },
      {
       "output_type": "stream",
       "stream": "stdout",
       "text": [
        "\n",
        "[0.45578703703703705, 0.3303312962367321, 0.7778695293146161]\n",
        "[0.45578703703703705, 0.3303312962367321, 0.7778695293146161]"
       ]
      },
      {
       "output_type": "stream",
       "stream": "stdout",
       "text": [
        "\n",
        "[0.45578703703703705, 0.3303312962367321, 0.7778695293146161]"
       ]
      },
      {
       "output_type": "stream",
       "stream": "stdout",
       "text": [
        "\n",
        "[0.45578703703703705, 0.3303312962367321, 0.7778695293146161]\n",
        "[0.45578703703703705, 0.3303312962367321, 0.7778695293146161]"
       ]
      },
      {
       "output_type": "stream",
       "stream": "stdout",
       "text": [
        "\n",
        "[0.45578703703703705, 0.3303312962367321, 0.7778695293146161]\n",
        "[0.45578703703703705, 0.3303312962367321, 0.7778695293146161]"
       ]
      },
      {
       "output_type": "stream",
       "stream": "stdout",
       "text": [
        "\n",
        "[0.45578703703703705, 0.3303312962367321, 0.7778695293146161]"
       ]
      },
      {
       "output_type": "stream",
       "stream": "stdout",
       "text": [
        "\n",
        "[0.45578703703703705, 0.3303312962367321, 0.7778695293146161]"
       ]
      },
      {
       "output_type": "stream",
       "stream": "stdout",
       "text": [
        "\n",
        "[0.45578703703703705, 0.3303312962367321, 0.7778695293146161]"
       ]
      },
      {
       "output_type": "stream",
       "stream": "stdout",
       "text": [
        "\n",
        "[0.45578703703703705, 0.3303312962367321, 0.7778695293146161]"
       ]
      },
      {
       "output_type": "stream",
       "stream": "stdout",
       "text": [
        "\n",
        "[0.45578703703703705, 0.3303312962367321, 0.7778695293146161]\n",
        "[0.45578703703703705, 0.3303312962367321, 0.7778695293146161]"
       ]
      },
      {
       "output_type": "stream",
       "stream": "stdout",
       "text": [
        "\n",
        "[0.45578703703703705, 0.3303312962367321, 0.7778695293146161]\n",
        "[0.45578703703703705, 0.3303312962367321, 0.7778695293146161]"
       ]
      },
      {
       "output_type": "stream",
       "stream": "stdout",
       "text": [
        "\n",
        "[0.45578703703703705, 0.3303312962367321, 0.7778695293146161]\n",
        "[0.45578703703703705, 0.3303312962367321, 0.7778695293146161]"
       ]
      },
      {
       "output_type": "stream",
       "stream": "stdout",
       "text": [
        "\n",
        "[0.45578703703703705, 0.3303312962367321, 0.7778695293146161]\n",
        "[0.45578703703703705, 0.3303312962367321, 0.7778695293146161]"
       ]
      },
      {
       "output_type": "stream",
       "stream": "stdout",
       "text": [
        "\n",
        "[0.45578703703703705, 0.3303312962367321, 0.7778695293146161]\n",
        "[0.45578703703703705, 0.3303312962367321, 0.7778695293146161]"
       ]
      },
      {
       "output_type": "stream",
       "stream": "stdout",
       "text": [
        "\n",
        "[0.45578703703703705, 0.3303312962367321, 0.7778695293146161]\n",
        "[0.45578703703703705, 0.3303312962367321, 0.7778695293146161]"
       ]
      },
      {
       "output_type": "stream",
       "stream": "stdout",
       "text": [
        "\n",
        "[0.45578703703703705, 0.3303312962367321, 0.7778695293146161]\n",
        "[0.45578703703703705, 0.3303312962367321, 0.7778695293146161]"
       ]
      },
      {
       "output_type": "stream",
       "stream": "stdout",
       "text": [
        "\n",
        "[0.45578703703703705, 0.3303312962367321, 0.7778695293146161]\n",
        "[0.45578703703703705, 0.3303312962367321, 0.7778695293146161]"
       ]
      },
      {
       "output_type": "stream",
       "stream": "stdout",
       "text": [
        "\n",
        "[0.45578703703703705, 0.3303312962367321, 0.7778695293146161]\n",
        "[0.45578703703703705, 0.3303312962367321, 0.7778695293146161]"
       ]
      },
      {
       "output_type": "stream",
       "stream": "stdout",
       "text": [
        "\n",
        "[0.45578703703703705, 0.3303312962367321, 0.7778695293146161]"
       ]
      },
      {
       "output_type": "stream",
       "stream": "stdout",
       "text": [
        "\n",
        "[0.45578703703703705, 0.3303312962367321, 0.7778695293146161]"
       ]
      },
      {
       "output_type": "stream",
       "stream": "stdout",
       "text": [
        "\n",
        "[0.45578703703703705, 0.3303312962367321, 0.7778695293146161]"
       ]
      },
      {
       "output_type": "stream",
       "stream": "stdout",
       "text": [
        "\n",
        "[0.45578703703703705, 0.3303312962367321, 0.7778695293146161]"
       ]
      },
      {
       "output_type": "stream",
       "stream": "stdout",
       "text": [
        "\n",
        "[0.45578703703703705, 0.3303312962367321, 0.7778695293146161]"
       ]
      },
      {
       "output_type": "stream",
       "stream": "stdout",
       "text": [
        "\n",
        "[0.45578703703703705, 0.3303312962367321, 0.7778695293146161]\n",
        "[0.45578703703703705, 0.3303312962367321, 0.7778695293146161]"
       ]
      },
      {
       "output_type": "stream",
       "stream": "stdout",
       "text": [
        "\n",
        "[0.45578703703703705, 0.3303312962367321, 0.7778695293146161]\n",
        "[0.45578703703703705, 0.3303312962367321, 0.7778695293146161]"
       ]
      },
      {
       "output_type": "stream",
       "stream": "stdout",
       "text": [
        "\n",
        "[0.45578703703703705, 0.3303312962367321, 0.7778695293146161]"
       ]
      },
      {
       "output_type": "stream",
       "stream": "stdout",
       "text": [
        "\n",
        "[0.45578703703703705, 0.3303312962367321, 0.7778695293146161]\n",
        "[0.45578703703703705, 0.3303312962367321, 0.7778695293146161]"
       ]
      },
      {
       "output_type": "stream",
       "stream": "stdout",
       "text": [
        "\n",
        "[0.45578703703703705, 0.3303312962367321, 0.7778695293146161]"
       ]
      },
      {
       "output_type": "stream",
       "stream": "stdout",
       "text": [
        "\n",
        "[0.45578703703703705, 0.3303312962367321, 0.7778695293146161]"
       ]
      },
      {
       "output_type": "stream",
       "stream": "stdout",
       "text": [
        "\n",
        "[0.45578703703703705, 0.3303312962367321, 0.7778695293146161]\n",
        "[0.45578703703703705, 0.3303312962367321, 0.7778695293146161]"
       ]
      },
      {
       "output_type": "stream",
       "stream": "stdout",
       "text": [
        "\n",
        "[0.45578703703703705, 0.3303312962367321, 0.7778695293146161]\n",
        "[0.45578703703703705, 0.3303312962367321, 0.7778695293146161]"
       ]
      },
      {
       "output_type": "stream",
       "stream": "stdout",
       "text": [
        "\n",
        "[0.45578703703703705, 0.3303312962367321, 0.7778695293146161]\n",
        "[0.45578703703703705, 0.3303312962367321, 0.7778695293146161]"
       ]
      },
      {
       "output_type": "stream",
       "stream": "stdout",
       "text": [
        "\n",
        "[0.45578703703703705, 0.3303312962367321, 0.7778695293146161]"
       ]
      },
      {
       "output_type": "stream",
       "stream": "stdout",
       "text": [
        "\n",
        "[0.45578703703703705, 0.3303312962367321, 0.7778695293146161]\n",
        "[0.45578703703703705, 0.3303312962367321, 0.7778695293146161]"
       ]
      },
      {
       "output_type": "stream",
       "stream": "stdout",
       "text": [
        "\n",
        "[0.45578703703703705, 0.3303312962367321, 0.7778695293146161]\n",
        "[0.45578703703703705, 0.3303312962367321, 0.7778695293146161]"
       ]
      },
      {
       "output_type": "stream",
       "stream": "stdout",
       "text": [
        "\n",
        "[0.45578703703703705, 0.3303312962367321, 0.7778695293146161]\n",
        "[0.45578703703703705, 0.3303312962367321, 0.7778695293146161]"
       ]
      },
      {
       "output_type": "stream",
       "stream": "stdout",
       "text": [
        "\n",
        "[0.45578703703703705, 0.3303312962367321, 0.7778695293146161]\n",
        "[0.45578703703703705, 0.3303312962367321, 0.7778695293146161]"
       ]
      },
      {
       "output_type": "stream",
       "stream": "stdout",
       "text": [
        "\n",
        "[0.45578703703703705, 0.3303312962367321, 0.7778695293146161]"
       ]
      },
      {
       "output_type": "stream",
       "stream": "stdout",
       "text": [
        "\n",
        "[0.45578703703703705, 0.3303312962367321, 0.7778695293146161]\n",
        "[0.45578703703703705, 0.3303312962367321, 0.7778695293146161]"
       ]
      },
      {
       "output_type": "stream",
       "stream": "stdout",
       "text": [
        "\n",
        "[0.45578703703703705, 0.3303312962367321, 0.7778695293146161]\n",
        "[0.45578703703703705, 0.3303312962367321, 0.7778695293146161]"
       ]
      },
      {
       "output_type": "stream",
       "stream": "stdout",
       "text": [
        "\n",
        "[0.45578703703703705, 0.3303312962367321, 0.7778695293146161]\n",
        "[0.45578703703703705, 0.3303312962367321, 0.7778695293146161]"
       ]
      },
      {
       "output_type": "stream",
       "stream": "stdout",
       "text": [
        "\n",
        "[0.45578703703703705, 0.3303312962367321, 0.7778695293146161]\n",
        "[0.45578703703703705, 0.3303312962367321, 0.7778695293146161]"
       ]
      },
      {
       "output_type": "stream",
       "stream": "stdout",
       "text": [
        "\n",
        "[0.45578703703703705, 0.3303312962367321, 0.7778695293146161]\n",
        "[0.45578703703703705, 0.3303312962367321, 0.7778695293146161]"
       ]
      },
      {
       "output_type": "stream",
       "stream": "stdout",
       "text": [
        "\n",
        "[0.45578703703703705, 0.3303312962367321, 0.7778695293146161]\n",
        "[0.45578703703703705, 0.3303312962367321, 0.7778695293146161]"
       ]
      },
      {
       "output_type": "stream",
       "stream": "stdout",
       "text": [
        "\n",
        "[0.45578703703703705, 0.3303312962367321, 0.7778695293146161]"
       ]
      },
      {
       "output_type": "stream",
       "stream": "stdout",
       "text": [
        "\n",
        "[0.45578703703703705, 0.3303312962367321, 0.7778695293146161]\n",
        "[0.45578703703703705, 0.3303312962367321, 0.7778695293146161]"
       ]
      },
      {
       "output_type": "stream",
       "stream": "stdout",
       "text": [
        "\n",
        "[0.45578703703703705, 0.3303312962367321, 0.7778695293146161]"
       ]
      },
      {
       "output_type": "stream",
       "stream": "stdout",
       "text": [
        "\n",
        "[0.45578703703703705, 0.3303312962367321, 0.7778695293146161]\n",
        "[0.45578703703703705, 0.3303312962367321, 0.7778695293146161]"
       ]
      },
      {
       "output_type": "stream",
       "stream": "stdout",
       "text": [
        "\n",
        "[0.45578703703703705, 0.3303312962367321, 0.7778695293146161]\n",
        "[0.45578703703703705, 0.3303312962367321, 0.7778695293146161]"
       ]
      },
      {
       "output_type": "stream",
       "stream": "stdout",
       "text": [
        "\n",
        "[0.45578703703703705, 0.3303312962367321, 0.7778695293146161]"
       ]
      },
      {
       "output_type": "stream",
       "stream": "stdout",
       "text": [
        "\n",
        "[0.45578703703703705, 0.3303312962367321, 0.7778695293146161]"
       ]
      },
      {
       "output_type": "stream",
       "stream": "stdout",
       "text": [
        "\n",
        "[0.45578703703703705, 0.3303312962367321, 0.7778695293146161]"
       ]
      },
      {
       "output_type": "stream",
       "stream": "stdout",
       "text": [
        "\n",
        "[0.45578703703703705, 0.3303312962367321, 0.7778695293146161]"
       ]
      },
      {
       "output_type": "stream",
       "stream": "stdout",
       "text": [
        "\n",
        "[0.45578703703703705, 0.3303312962367321, 0.7778695293146161]"
       ]
      },
      {
       "output_type": "stream",
       "stream": "stdout",
       "text": [
        "\n",
        "[0.45578703703703705, 0.3303312962367321, 0.7778695293146161]"
       ]
      },
      {
       "output_type": "stream",
       "stream": "stdout",
       "text": [
        "\n",
        "[0.45578703703703705, 0.3303312962367321, 0.7778695293146161]"
       ]
      },
      {
       "output_type": "stream",
       "stream": "stdout",
       "text": [
        "\n",
        "[0.45578703703703705, 0.3303312962367321, 0.7778695293146161]\n",
        "[0.45578703703703705, 0.3303312962367321, 0.7778695293146161]"
       ]
      },
      {
       "output_type": "stream",
       "stream": "stdout",
       "text": [
        "\n",
        "[0.45578703703703705, 0.3303312962367321, 0.7778695293146161]"
       ]
      },
      {
       "output_type": "stream",
       "stream": "stdout",
       "text": [
        "\n",
        "[0.45578703703703705, 0.3303312962367321, 0.7778695293146161]"
       ]
      },
      {
       "output_type": "stream",
       "stream": "stdout",
       "text": [
        "\n",
        "[0.45578703703703705, 0.3303312962367321, 0.7778695293146161]"
       ]
      },
      {
       "output_type": "stream",
       "stream": "stdout",
       "text": [
        "\n",
        "[0.45578703703703705, 0.3303312962367321, 0.7778695293146161]"
       ]
      },
      {
       "output_type": "stream",
       "stream": "stdout",
       "text": [
        "\n",
        "[0.45578703703703705, 0.3303312962367321, 0.7778695293146161]\n",
        "[0.45578703703703705, 0.3303312962367321, 0.7778695293146161]"
       ]
      },
      {
       "output_type": "stream",
       "stream": "stdout",
       "text": [
        "\n",
        "[0.45578703703703705, 0.3303312962367321, 0.7778695293146161]"
       ]
      },
      {
       "output_type": "stream",
       "stream": "stdout",
       "text": [
        "\n",
        "[0.45578703703703705, 0.3303312962367321, 0.7778695293146161]\n",
        "[0.45578703703703705, 0.3303312962367321, 0.7778695293146161]"
       ]
      },
      {
       "output_type": "stream",
       "stream": "stdout",
       "text": [
        "\n",
        "[0.45578703703703705, 0.3303312962367321, 0.7778695293146161]\n",
        "[0.45578703703703705, 0.3303312962367321, 0.7778695293146161]"
       ]
      },
      {
       "output_type": "stream",
       "stream": "stdout",
       "text": [
        "\n",
        "[0.45578703703703705, 0.3303312962367321, 0.7778695293146161]\n",
        "[0.45578703703703705, 0.3303312962367321, 0.7778695293146161]"
       ]
      },
      {
       "output_type": "stream",
       "stream": "stdout",
       "text": [
        "\n",
        "[0.45578703703703705, 0.3303312962367321, 0.7778695293146161]\n",
        "[0.45578703703703705, 0.3303312962367321, 0.7778695293146161]"
       ]
      },
      {
       "output_type": "stream",
       "stream": "stdout",
       "text": [
        "\n",
        "[0.45578703703703705, 0.3303312962367321, 0.7778695293146161]\n",
        "[0.45578703703703705, 0.3303312962367321, 0.7778695293146161]"
       ]
      },
      {
       "output_type": "stream",
       "stream": "stdout",
       "text": [
        "\n",
        "[0.45578703703703705, 0.3303312962367321, 0.7778695293146161]"
       ]
      },
      {
       "output_type": "stream",
       "stream": "stdout",
       "text": [
        "\n",
        "[0.45578703703703705, 0.3303312962367321, 0.7778695293146161]"
       ]
      },
      {
       "output_type": "stream",
       "stream": "stdout",
       "text": [
        "\n",
        "[0.45578703703703705, 0.3303312962367321, 0.7778695293146161]"
       ]
      },
      {
       "output_type": "stream",
       "stream": "stdout",
       "text": [
        "\n",
        "[0.45578703703703705, 0.3303312962367321, 0.7778695293146161]\n",
        "[0.45578703703703705, 0.3303312962367321, 0.7778695293146161]"
       ]
      },
      {
       "output_type": "stream",
       "stream": "stdout",
       "text": [
        "\n",
        "[0.45578703703703705, 0.3303312962367321, 0.7778695293146161]"
       ]
      },
      {
       "output_type": "stream",
       "stream": "stdout",
       "text": [
        "\n",
        "[0.45578703703703705, 0.3303312962367321, 0.7778695293146161]"
       ]
      },
      {
       "output_type": "stream",
       "stream": "stdout",
       "text": [
        "\n",
        "[0.45578703703703705, 0.3303312962367321, 0.7778695293146161]\n",
        "[0.45578703703703705, 0.3303312962367321, 0.7778695293146161]"
       ]
      },
      {
       "output_type": "stream",
       "stream": "stdout",
       "text": [
        "\n",
        "[0.45578703703703705, 0.3303312962367321, 0.7778695293146161]"
       ]
      },
      {
       "output_type": "stream",
       "stream": "stdout",
       "text": [
        "\n",
        "[0.45578703703703705, 0.3303312962367321, 0.7778695293146161]"
       ]
      },
      {
       "output_type": "stream",
       "stream": "stdout",
       "text": [
        "\n",
        "[0.45578703703703705, 0.3303312962367321, 0.7778695293146161]"
       ]
      },
      {
       "output_type": "stream",
       "stream": "stdout",
       "text": [
        "\n",
        "[0.45578703703703705, 0.3303312962367321, 0.7778695293146161]\n",
        "[0.45578703703703705, 0.3303312962367321, 0.7778695293146161]"
       ]
      },
      {
       "output_type": "stream",
       "stream": "stdout",
       "text": [
        "\n",
        "[0.45578703703703705, 0.3303312962367321, 0.7778695293146161]"
       ]
      },
      {
       "output_type": "stream",
       "stream": "stdout",
       "text": [
        "\n",
        "[0.45578703703703705, 0.3303312962367321, 0.7778695293146161]"
       ]
      },
      {
       "output_type": "stream",
       "stream": "stdout",
       "text": [
        "\n",
        "[0.45578703703703705, 0.3303312962367321, 0.7778695293146161]"
       ]
      },
      {
       "output_type": "stream",
       "stream": "stdout",
       "text": [
        "\n",
        "[0.45578703703703705, 0.3303312962367321, 0.7778695293146161]"
       ]
      },
      {
       "output_type": "stream",
       "stream": "stdout",
       "text": [
        "\n",
        "[0.45578703703703705, 0.3303312962367321, 0.7778695293146161]"
       ]
      },
      {
       "output_type": "stream",
       "stream": "stdout",
       "text": [
        "\n",
        "[0.45578703703703705, 0.3303312962367321, 0.7778695293146161]"
       ]
      },
      {
       "output_type": "stream",
       "stream": "stdout",
       "text": [
        "\n",
        "[0.45578703703703705, 0.3303312962367321, 0.7778695293146161]"
       ]
      },
      {
       "output_type": "stream",
       "stream": "stdout",
       "text": [
        "\n",
        "[0.45578703703703705, 0.3303312962367321, 0.7778695293146161]"
       ]
      },
      {
       "output_type": "stream",
       "stream": "stdout",
       "text": [
        "\n",
        "[0.45578703703703705, 0.3303312962367321, 0.7778695293146161]"
       ]
      },
      {
       "output_type": "stream",
       "stream": "stdout",
       "text": [
        "\n",
        "[0.45578703703703705, 0.3303312962367321, 0.7778695293146161]"
       ]
      },
      {
       "output_type": "stream",
       "stream": "stdout",
       "text": [
        "\n",
        "[0.45578703703703705, 0.3303312962367321, 0.7778695293146161]"
       ]
      },
      {
       "output_type": "stream",
       "stream": "stdout",
       "text": [
        "\n",
        "[0.45578703703703705, 0.3303312962367321, 0.7778695293146161]"
       ]
      },
      {
       "output_type": "stream",
       "stream": "stdout",
       "text": [
        "\n",
        "[0.45578703703703705, 0.3303312962367321, 0.7778695293146161]"
       ]
      },
      {
       "output_type": "stream",
       "stream": "stdout",
       "text": [
        "\n",
        "[0.45578703703703705, 0.3303312962367321, 0.7778695293146161]"
       ]
      },
      {
       "output_type": "stream",
       "stream": "stdout",
       "text": [
        "\n",
        "[0.45578703703703705, 0.3303312962367321, 0.7778695293146161]\n",
        "[0.45578703703703705, 0.3303312962367321, 0.7778695293146161]"
       ]
      },
      {
       "output_type": "stream",
       "stream": "stdout",
       "text": [
        "\n",
        "[0.45578703703703705, 0.3303312962367321, 0.7778695293146161]"
       ]
      },
      {
       "output_type": "stream",
       "stream": "stdout",
       "text": [
        "\n",
        "[0.45578703703703705, 0.3303312962367321, 0.7778695293146161]"
       ]
      },
      {
       "output_type": "stream",
       "stream": "stdout",
       "text": [
        "\n",
        "[0.45578703703703705, 0.3303312962367321, 0.7778695293146161]\n",
        "[0.45578703703703705, 0.3303312962367321, 0.7778695293146161]"
       ]
      },
      {
       "output_type": "stream",
       "stream": "stdout",
       "text": [
        "\n",
        "[0.45578703703703705, 0.3303312962367321, 0.7778695293146161]"
       ]
      },
      {
       "output_type": "stream",
       "stream": "stdout",
       "text": [
        "\n",
        "[0.45578703703703705, 0.3303312962367321, 0.7778695293146161]"
       ]
      },
      {
       "output_type": "stream",
       "stream": "stdout",
       "text": [
        "\n",
        "[0.45578703703703705, 0.3303312962367321, 0.7778695293146161]"
       ]
      },
      {
       "output_type": "stream",
       "stream": "stdout",
       "text": [
        "\n",
        "[0.45578703703703705, 0.3303312962367321, 0.7778695293146161]"
       ]
      },
      {
       "output_type": "stream",
       "stream": "stdout",
       "text": [
        "\n",
        "[0.45578703703703705, 0.3303312962367321, 0.7778695293146161]"
       ]
      },
      {
       "output_type": "stream",
       "stream": "stdout",
       "text": [
        "\n",
        "[0.45578703703703705, 0.3303312962367321, 0.7778695293146161]"
       ]
      },
      {
       "output_type": "stream",
       "stream": "stdout",
       "text": [
        "\n",
        "[0.45578703703703705, 0.3303312962367321, 0.7778695293146161]\n",
        "[0.45578703703703705, 0.3303312962367321, 0.7778695293146161]"
       ]
      },
      {
       "output_type": "stream",
       "stream": "stdout",
       "text": [
        "\n",
        "[0.45578703703703705, 0.3303312962367321, 0.7778695293146161]\n",
        "[0.45578703703703705, 0.3303312962367321, 0.7778695293146161]"
       ]
      },
      {
       "output_type": "stream",
       "stream": "stdout",
       "text": [
        "\n",
        "[0.45578703703703705, 0.3303312962367321, 0.7778695293146161]"
       ]
      },
      {
       "output_type": "stream",
       "stream": "stdout",
       "text": [
        "\n",
        "[0.45578703703703705, 0.3303312962367321, 0.7778695293146161]\n",
        "[0.45578703703703705, 0.3303312962367321, 0.7778695293146161]"
       ]
      },
      {
       "output_type": "stream",
       "stream": "stdout",
       "text": [
        "\n",
        "[0.45578703703703705, 0.3303312962367321, 0.7778695293146161]"
       ]
      },
      {
       "output_type": "stream",
       "stream": "stdout",
       "text": [
        "\n",
        "[0.45578703703703705, 0.3303312962367321, 0.7778695293146161]"
       ]
      },
      {
       "output_type": "stream",
       "stream": "stdout",
       "text": [
        "\n",
        "[0.45578703703703705, 0.3303312962367321, 0.7778695293146161]\n",
        "[0.45578703703703705, 0.3303312962367321, 0.7778695293146161]"
       ]
      },
      {
       "output_type": "stream",
       "stream": "stdout",
       "text": [
        "\n",
        "[0.45578703703703705, 0.3303312962367321, 0.7778695293146161]"
       ]
      },
      {
       "output_type": "stream",
       "stream": "stdout",
       "text": [
        "\n",
        "[0.45578703703703705, 0.3303312962367321, 0.7778695293146161]\n",
        "[0.45578703703703705, 0.3303312962367321, 0.7778695293146161]"
       ]
      },
      {
       "output_type": "stream",
       "stream": "stdout",
       "text": [
        "\n",
        "[0.45578703703703705, 0.3303312962367321, 0.7778695293146161]\n",
        "[0.45578703703703705, 0.3303312962367321, 0.7778695293146161]"
       ]
      },
      {
       "output_type": "stream",
       "stream": "stdout",
       "text": [
        "\n",
        "[0.45578703703703705, 0.3303312962367321, 0.7778695293146161]"
       ]
      },
      {
       "output_type": "stream",
       "stream": "stdout",
       "text": [
        "\n",
        "[0.45578703703703705, 0.3303312962367321, 0.7778695293146161]"
       ]
      },
      {
       "output_type": "stream",
       "stream": "stdout",
       "text": [
        "\n",
        "[0.45578703703703705, 0.3303312962367321, 0.7778695293146161]\n",
        "[0.45578703703703705, 0.3303312962367321, 0.7778695293146161]"
       ]
      },
      {
       "output_type": "stream",
       "stream": "stdout",
       "text": [
        "\n",
        "[0.45578703703703705, 0.3303312962367321, 0.7778695293146161]\n",
        "[0.45578703703703705, 0.3303312962367321, 0.7778695293146161]"
       ]
      },
      {
       "output_type": "stream",
       "stream": "stdout",
       "text": [
        "\n",
        "[0.45578703703703705, 0.3303312962367321, 0.7778695293146161]"
       ]
      },
      {
       "output_type": "stream",
       "stream": "stdout",
       "text": [
        "\n",
        "[0.45578703703703705, 0.3303312962367321, 0.7778695293146161]"
       ]
      },
      {
       "output_type": "stream",
       "stream": "stdout",
       "text": [
        "\n",
        "[0.45578703703703705, 0.3303312962367321, 0.7778695293146161]"
       ]
      },
      {
       "output_type": "stream",
       "stream": "stdout",
       "text": [
        "\n",
        "[0.45578703703703705, 0.3303312962367321, 0.7778695293146161]"
       ]
      },
      {
       "output_type": "stream",
       "stream": "stdout",
       "text": [
        "\n",
        "[0.45578703703703705, 0.3303312962367321, 0.7778695293146161]"
       ]
      },
      {
       "output_type": "stream",
       "stream": "stdout",
       "text": [
        "\n",
        "[0.45578703703703705, 0.3303312962367321, 0.7778695293146161]"
       ]
      },
      {
       "output_type": "stream",
       "stream": "stdout",
       "text": [
        "\n",
        "[0.45578703703703705, 0.3303312962367321, 0.7778695293146161]"
       ]
      },
      {
       "output_type": "stream",
       "stream": "stdout",
       "text": [
        "\n",
        "[0.45578703703703705, 0.3303312962367321, 0.7778695293146161]"
       ]
      },
      {
       "output_type": "stream",
       "stream": "stdout",
       "text": [
        "\n",
        "[0.45578703703703705, 0.3303312962367321, 0.7778695293146161]"
       ]
      },
      {
       "output_type": "stream",
       "stream": "stdout",
       "text": [
        "\n",
        "[0.45578703703703705, 0.3303312962367321, 0.7778695293146161]"
       ]
      },
      {
       "output_type": "stream",
       "stream": "stdout",
       "text": [
        "\n",
        "[0.45578703703703705, 0.3303312962367321, 0.7778695293146161]"
       ]
      },
      {
       "output_type": "stream",
       "stream": "stdout",
       "text": [
        "\n",
        "[0.45578703703703705, 0.3303312962367321, 0.7778695293146161]"
       ]
      },
      {
       "output_type": "stream",
       "stream": "stdout",
       "text": [
        "\n",
        "[0.45578703703703705, 0.3303312962367321, 0.7778695293146161]"
       ]
      },
      {
       "output_type": "stream",
       "stream": "stdout",
       "text": [
        "\n",
        "[0.45578703703703705, 0.3303312962367321, 0.7778695293146161]"
       ]
      },
      {
       "output_type": "stream",
       "stream": "stdout",
       "text": [
        "\n",
        "[0.45578703703703705, 0.3303312962367321, 0.7778695293146161]"
       ]
      },
      {
       "output_type": "stream",
       "stream": "stdout",
       "text": [
        "\n",
        "[0.45578703703703705, 0.3303312962367321, 0.7778695293146161]"
       ]
      },
      {
       "output_type": "stream",
       "stream": "stdout",
       "text": [
        "\n",
        "[0.45578703703703705, 0.3303312962367321, 0.7778695293146161]"
       ]
      },
      {
       "output_type": "stream",
       "stream": "stdout",
       "text": [
        "\n",
        "[0.45578703703703705, 0.3303312962367321, 0.7778695293146161]"
       ]
      },
      {
       "output_type": "stream",
       "stream": "stdout",
       "text": [
        "\n",
        "[0.45578703703703705, 0.3303312962367321, 0.7778695293146161]\n",
        "[0.45578703703703705, 0.3303312962367321, 0.7778695293146161]"
       ]
      },
      {
       "output_type": "stream",
       "stream": "stdout",
       "text": [
        "\n",
        "[0.45578703703703705, 0.3303312962367321, 0.7778695293146161]"
       ]
      },
      {
       "output_type": "stream",
       "stream": "stdout",
       "text": [
        "\n",
        "[0.45578703703703705, 0.3303312962367321, 0.7778695293146161]"
       ]
      },
      {
       "output_type": "stream",
       "stream": "stdout",
       "text": [
        "\n",
        "[0.45578703703703705, 0.3303312962367321, 0.7778695293146161]\n",
        "[0.45578703703703705, 0.3303312962367321, 0.7778695293146161]"
       ]
      },
      {
       "output_type": "stream",
       "stream": "stdout",
       "text": [
        "\n",
        "[0.45578703703703705, 0.3303312962367321, 0.7778695293146161]\n",
        "[0.45578703703703705, 0.3303312962367321, 0.7778695293146161]"
       ]
      },
      {
       "output_type": "stream",
       "stream": "stdout",
       "text": [
        "\n",
        "[0.45578703703703705, 0.3303312962367321, 0.7778695293146161]\n",
        "[0.45578703703703705, 0.3303312962367321, 0.7778695293146161]"
       ]
      },
      {
       "output_type": "stream",
       "stream": "stdout",
       "text": [
        "\n",
        "[0.45578703703703705, 0.3303312962367321, 0.7778695293146161]\n",
        "[0.45578703703703705, 0.3303312962367321, 0.7778695293146161]"
       ]
      },
      {
       "output_type": "stream",
       "stream": "stdout",
       "text": [
        "\n",
        "[0.45578703703703705, 0.3303312962367321, 0.7778695293146161]\n",
        "[0.45578703703703705, 0.3303312962367321, 0.7778695293146161]"
       ]
      },
      {
       "output_type": "stream",
       "stream": "stdout",
       "text": [
        "\n",
        "[0.45578703703703705, 0.3303312962367321, 0.7778695293146161]"
       ]
      },
      {
       "output_type": "stream",
       "stream": "stdout",
       "text": [
        "\n",
        "[0.45578703703703705, 0.3303312962367321, 0.7778695293146161]"
       ]
      },
      {
       "output_type": "stream",
       "stream": "stdout",
       "text": [
        "\n",
        "[0.45578703703703705, 0.3303312962367321, 0.7778695293146161]"
       ]
      },
      {
       "output_type": "stream",
       "stream": "stdout",
       "text": [
        "\n",
        "[0.45578703703703705, 0.3303312962367321, 0.7778695293146161]"
       ]
      },
      {
       "output_type": "stream",
       "stream": "stdout",
       "text": [
        "\n",
        "[0.45578703703703705, 0.3303312962367321, 0.7778695293146161]"
       ]
      },
      {
       "output_type": "stream",
       "stream": "stdout",
       "text": [
        "\n",
        "[0.45578703703703705, 0.3303312962367321, 0.7778695293146161]\n",
        "[0.45578703703703705, 0.3303312962367321, 0.7778695293146161]"
       ]
      },
      {
       "output_type": "stream",
       "stream": "stdout",
       "text": [
        "\n",
        "[0.45578703703703705, 0.3303312962367321, 0.7778695293146161]\n",
        "[0.45578703703703705, 0.3303312962367321, 0.7778695293146161]"
       ]
      },
      {
       "output_type": "stream",
       "stream": "stdout",
       "text": [
        "\n",
        "[0.45578703703703705, 0.3303312962367321, 0.7778695293146161]\n",
        "[0.45578703703703705, 0.3303312962367321, 0.7778695293146161]"
       ]
      },
      {
       "output_type": "stream",
       "stream": "stdout",
       "text": [
        "\n",
        "[0.45578703703703705, 0.3303312962367321, 0.7778695293146161]\n",
        "[0.45578703703703705, 0.3303312962367321, 0.7778695293146161]"
       ]
      },
      {
       "output_type": "stream",
       "stream": "stdout",
       "text": [
        "\n",
        "[0.45578703703703705, 0.3303312962367321, 0.7778695293146161]\n",
        "[0.45578703703703705, 0.3303312962367321, 0.7778695293146161]"
       ]
      },
      {
       "output_type": "stream",
       "stream": "stdout",
       "text": [
        "\n",
        "[0.45578703703703705, 0.3303312962367321, 0.7778695293146161]\n",
        "[0.45578703703703705, 0.3303312962367321, 0.7778695293146161]"
       ]
      },
      {
       "output_type": "stream",
       "stream": "stdout",
       "text": [
        "\n",
        "[0.45578703703703705, 0.3303312962367321, 0.7778695293146161]"
       ]
      },
      {
       "output_type": "stream",
       "stream": "stdout",
       "text": [
        "\n",
        "[0.45578703703703705, 0.3303312962367321, 0.7778695293146161]"
       ]
      },
      {
       "output_type": "stream",
       "stream": "stdout",
       "text": [
        "\n",
        "[0.45578703703703705, 0.3303312962367321, 0.7778695293146161]"
       ]
      },
      {
       "output_type": "stream",
       "stream": "stdout",
       "text": [
        "\n",
        "[0.45578703703703705, 0.3303312962367321, 0.7778695293146161]"
       ]
      },
      {
       "output_type": "stream",
       "stream": "stdout",
       "text": [
        "\n",
        "[0.45578703703703705, 0.3303312962367321, 0.7778695293146161]\n",
        "[0.45578703703703705, 0.3303312962367321, 0.7778695293146161]"
       ]
      },
      {
       "output_type": "stream",
       "stream": "stdout",
       "text": [
        "\n",
        "[0.45578703703703705, 0.3303312962367321, 0.7778695293146161]"
       ]
      },
      {
       "output_type": "stream",
       "stream": "stdout",
       "text": [
        "\n",
        "[0.45578703703703705, 0.3303312962367321, 0.7778695293146161]"
       ]
      },
      {
       "output_type": "stream",
       "stream": "stdout",
       "text": [
        "\n",
        "[0.45578703703703705, 0.3303312962367321, 0.7778695293146161]"
       ]
      },
      {
       "output_type": "stream",
       "stream": "stdout",
       "text": [
        "\n",
        "[0.45578703703703705, 0.3303312962367321, 0.7778695293146161]\n",
        "[0.45578703703703705, 0.3303312962367321, 0.7778695293146161]"
       ]
      },
      {
       "output_type": "stream",
       "stream": "stdout",
       "text": [
        "\n",
        "[0.45578703703703705, 0.3303312962367321, 0.7778695293146161]"
       ]
      },
      {
       "output_type": "stream",
       "stream": "stdout",
       "text": [
        "\n",
        "[0.45578703703703705, 0.3303312962367321, 0.7778695293146161]"
       ]
      },
      {
       "output_type": "stream",
       "stream": "stdout",
       "text": [
        "\n",
        "[0.45578703703703705, 0.3303312962367321, 0.7778695293146161]\n",
        "[0.45578703703703705, 0.3303312962367321, 0.7778695293146161]"
       ]
      },
      {
       "output_type": "stream",
       "stream": "stdout",
       "text": [
        "\n",
        "[0.45578703703703705, 0.3303312962367321, 0.7778695293146161]"
       ]
      },
      {
       "output_type": "stream",
       "stream": "stdout",
       "text": [
        "\n",
        "[0.45578703703703705, 0.3303312962367321, 0.7778695293146161]"
       ]
      },
      {
       "output_type": "stream",
       "stream": "stdout",
       "text": [
        "\n",
        "[0.45578703703703705, 0.3303312962367321, 0.7778695293146161]"
       ]
      },
      {
       "output_type": "stream",
       "stream": "stdout",
       "text": [
        "\n",
        "[0.45578703703703705, 0.3303312962367321, 0.7778695293146161]"
       ]
      },
      {
       "output_type": "stream",
       "stream": "stdout",
       "text": [
        "\n",
        "[0.45578703703703705, 0.3303312962367321, 0.7778695293146161]"
       ]
      },
      {
       "output_type": "stream",
       "stream": "stdout",
       "text": [
        "\n",
        "[0.45578703703703705, 0.3303312962367321, 0.7778695293146161]"
       ]
      },
      {
       "output_type": "stream",
       "stream": "stdout",
       "text": [
        "\n",
        "[0.45578703703703705, 0.3303312962367321, 0.7778695293146161]\n",
        "[0.45578703703703705, 0.3303312962367321, 0.7778695293146161]"
       ]
      },
      {
       "output_type": "stream",
       "stream": "stdout",
       "text": [
        "\n",
        "[0.45578703703703705, 0.3303312962367321, 0.7778695293146161]"
       ]
      },
      {
       "output_type": "stream",
       "stream": "stdout",
       "text": [
        "\n",
        "[0.45578703703703705, 0.3303312962367321, 0.7778695293146161]\n",
        "[0.45578703703703705, 0.3303312962367321, 0.7778695293146161]"
       ]
      },
      {
       "output_type": "stream",
       "stream": "stdout",
       "text": [
        "\n",
        "[0.45578703703703705, 0.3303312962367321, 0.7778695293146161]\n",
        "[0.45578703703703705, 0.3303312962367321, 0.7778695293146161]"
       ]
      },
      {
       "output_type": "stream",
       "stream": "stdout",
       "text": [
        "\n",
        "[0.45578703703703705, 0.3303312962367321, 0.7778695293146161]\n",
        "[0.45578703703703705, 0.3303312962367321, 0.7778695293146161]"
       ]
      },
      {
       "output_type": "stream",
       "stream": "stdout",
       "text": [
        "\n",
        "[0.45578703703703705, 0.3303312962367321, 0.7778695293146161]\n",
        "[0.45578703703703705, 0.3303312962367321, 0.7778695293146161]"
       ]
      },
      {
       "output_type": "stream",
       "stream": "stdout",
       "text": [
        "\n",
        "[0.45578703703703705, 0.3303312962367321, 0.7778695293146161]"
       ]
      },
      {
       "output_type": "stream",
       "stream": "stdout",
       "text": [
        "\n",
        "[0.45578703703703705, 0.3303312962367321, 0.7778695293146161]"
       ]
      },
      {
       "output_type": "stream",
       "stream": "stdout",
       "text": [
        "\n",
        "[0.45578703703703705, 0.3303312962367321, 0.7778695293146161]"
       ]
      },
      {
       "output_type": "stream",
       "stream": "stdout",
       "text": [
        "\n",
        "[0.45578703703703705, 0.3303312962367321, 0.7778695293146161]"
       ]
      },
      {
       "output_type": "stream",
       "stream": "stdout",
       "text": [
        "\n",
        "[0.45578703703703705, 0.3303312962367321, 0.7778695293146161]"
       ]
      },
      {
       "output_type": "stream",
       "stream": "stdout",
       "text": [
        "\n",
        "[0.45578703703703705, 0.3303312962367321, 0.7778695293146161]"
       ]
      },
      {
       "output_type": "stream",
       "stream": "stdout",
       "text": [
        "\n",
        "[0.45578703703703705, 0.3303312962367321, 0.7778695293146161]"
       ]
      },
      {
       "output_type": "stream",
       "stream": "stdout",
       "text": [
        "\n",
        "[0.45578703703703705, 0.3303312962367321, 0.7778695293146161]"
       ]
      },
      {
       "output_type": "stream",
       "stream": "stdout",
       "text": [
        "\n",
        "[0.45578703703703705, 0.3303312962367321, 0.7778695293146161]"
       ]
      },
      {
       "output_type": "stream",
       "stream": "stdout",
       "text": [
        "\n",
        "[0.45578703703703705, 0.3303312962367321, 0.7778695293146161]"
       ]
      },
      {
       "output_type": "stream",
       "stream": "stdout",
       "text": [
        "\n",
        "[0.45578703703703705, 0.3303312962367321, 0.7778695293146161]"
       ]
      },
      {
       "output_type": "stream",
       "stream": "stdout",
       "text": [
        "\n",
        "[0.45578703703703705, 0.3303312962367321, 0.7778695293146161]"
       ]
      },
      {
       "output_type": "stream",
       "stream": "stdout",
       "text": [
        "\n",
        "[0.45578703703703705, 0.3303312962367321, 0.7778695293146161]"
       ]
      },
      {
       "output_type": "stream",
       "stream": "stdout",
       "text": [
        "\n",
        "[0.45578703703703705, 0.3303312962367321, 0.7778695293146161]"
       ]
      },
      {
       "output_type": "stream",
       "stream": "stdout",
       "text": [
        "\n",
        "[0.45578703703703705, 0.3303312962367321, 0.7778695293146161]\n",
        "[0.45578703703703705, 0.3303312962367321, 0.7778695293146161]"
       ]
      },
      {
       "output_type": "stream",
       "stream": "stdout",
       "text": [
        "\n",
        "[0.45578703703703705, 0.3303312962367321, 0.7778695293146161]\n",
        "[0.45578703703703705, 0.3303312962367321, 0.7778695293146161]"
       ]
      },
      {
       "output_type": "stream",
       "stream": "stdout",
       "text": [
        "\n",
        "[0.45578703703703705, 0.3303312962367321, 0.7778695293146161]"
       ]
      },
      {
       "output_type": "stream",
       "stream": "stdout",
       "text": [
        "\n",
        "[0.45578703703703705, 0.3303312962367321, 0.7778695293146161]"
       ]
      },
      {
       "output_type": "stream",
       "stream": "stdout",
       "text": [
        "\n",
        "[0.45578703703703705, 0.3303312962367321, 0.7778695293146161]"
       ]
      },
      {
       "output_type": "stream",
       "stream": "stdout",
       "text": [
        "\n",
        "[0.45578703703703705, 0.3303312962367321, 0.7778695293146161]"
       ]
      },
      {
       "output_type": "stream",
       "stream": "stdout",
       "text": [
        "\n",
        "[0.45578703703703705, 0.3303312962367321, 0.7778695293146161]"
       ]
      },
      {
       "output_type": "stream",
       "stream": "stdout",
       "text": [
        "\n",
        "[0.45578703703703705, 0.3303312962367321, 0.7778695293146161]"
       ]
      },
      {
       "output_type": "stream",
       "stream": "stdout",
       "text": [
        "\n",
        "[0.45578703703703705, 0.3303312962367321, 0.7778695293146161]\n",
        "[0.45578703703703705, 0.3303312962367321, 0.7778695293146161]"
       ]
      },
      {
       "output_type": "stream",
       "stream": "stdout",
       "text": [
        "\n",
        "[0.45578703703703705, 0.3303312962367321, 0.7778695293146161]"
       ]
      },
      {
       "output_type": "stream",
       "stream": "stdout",
       "text": [
        "\n",
        "[0.45578703703703705, 0.3303312962367321, 0.7778695293146161]"
       ]
      },
      {
       "output_type": "stream",
       "stream": "stdout",
       "text": [
        "\n",
        "[0.45578703703703705, 0.3303312962367321, 0.7778695293146161]"
       ]
      },
      {
       "output_type": "stream",
       "stream": "stdout",
       "text": [
        "\n",
        "[0.45578703703703705, 0.3303312962367321, 0.7778695293146161]\n",
        "[0.45578703703703705, 0.3303312962367321, 0.7778695293146161]"
       ]
      },
      {
       "output_type": "stream",
       "stream": "stdout",
       "text": [
        "\n",
        "[0.45578703703703705, 0.3303312962367321, 0.7778695293146161]\n",
        "[0.45578703703703705, 0.3303312962367321, 0.7778695293146161]"
       ]
      },
      {
       "output_type": "stream",
       "stream": "stdout",
       "text": [
        "\n",
        "[0.45578703703703705, 0.3303312962367321, 0.7778695293146161]\n",
        "[0.45578703703703705, 0.3303312962367321, 0.7778695293146161]"
       ]
      },
      {
       "output_type": "stream",
       "stream": "stdout",
       "text": [
        "\n",
        "[0.45578703703703705, 0.3303312962367321, 0.7778695293146161]\n",
        "[0.45578703703703705, 0.3303312962367321, 0.7778695293146161]"
       ]
      },
      {
       "output_type": "stream",
       "stream": "stdout",
       "text": [
        "\n",
        "[0.45578703703703705, 0.3303312962367321, 0.7778695293146161]"
       ]
      },
      {
       "output_type": "stream",
       "stream": "stdout",
       "text": [
        "\n",
        "[0.45578703703703705, 0.3303312962367321, 0.7778695293146161]"
       ]
      },
      {
       "output_type": "stream",
       "stream": "stdout",
       "text": [
        "\n",
        "[0.45578703703703705, 0.3303312962367321, 0.7778695293146161]"
       ]
      },
      {
       "output_type": "stream",
       "stream": "stdout",
       "text": [
        "\n",
        "[0.45578703703703705, 0.3303312962367321, 0.7778695293146161]"
       ]
      },
      {
       "output_type": "stream",
       "stream": "stdout",
       "text": [
        "\n",
        "[0.45578703703703705, 0.3303312962367321, 0.7778695293146161]"
       ]
      },
      {
       "output_type": "stream",
       "stream": "stdout",
       "text": [
        "\n",
        "[0.45578703703703705, 0.3303312962367321, 0.7778695293146161]"
       ]
      },
      {
       "output_type": "stream",
       "stream": "stdout",
       "text": [
        "\n",
        "[0.45578703703703705, 0.3303312962367321, 0.7778695293146161]\n",
        "[0.45578703703703705, 0.3303312962367321, 0.7778695293146161]"
       ]
      },
      {
       "output_type": "stream",
       "stream": "stdout",
       "text": [
        "\n",
        "[0.45578703703703705, 0.3303312962367321, 0.7778695293146161]\n",
        "[0.45578703703703705, 0.3303312962367321, 0.7778695293146161]"
       ]
      },
      {
       "output_type": "stream",
       "stream": "stdout",
       "text": [
        "\n",
        "[0.45578703703703705, 0.3303312962367321, 0.7778695293146161]\n",
        "[0.45578703703703705, 0.3303312962367321, 0.7778695293146161]"
       ]
      },
      {
       "output_type": "stream",
       "stream": "stdout",
       "text": [
        "\n",
        "[0.45578703703703705, 0.3303312962367321, 0.7778695293146161]"
       ]
      },
      {
       "output_type": "stream",
       "stream": "stdout",
       "text": [
        "\n",
        "[0.45578703703703705, 0.3303312962367321, 0.7778695293146161]"
       ]
      },
      {
       "output_type": "stream",
       "stream": "stdout",
       "text": [
        "\n",
        "[0.45578703703703705, 0.3303312962367321, 0.7778695293146161]"
       ]
      },
      {
       "output_type": "stream",
       "stream": "stdout",
       "text": [
        "\n",
        "[0.45578703703703705, 0.3303312962367321, 0.7778695293146161]"
       ]
      },
      {
       "output_type": "stream",
       "stream": "stdout",
       "text": [
        "\n",
        "[0.45578703703703705, 0.3303312962367321, 0.7778695293146161]"
       ]
      },
      {
       "output_type": "stream",
       "stream": "stdout",
       "text": [
        "\n",
        "[0.45578703703703705, 0.3303312962367321, 0.7778695293146161]"
       ]
      },
      {
       "output_type": "stream",
       "stream": "stdout",
       "text": [
        "\n",
        "[0.45578703703703705, 0.3303312962367321, 0.7778695293146161]"
       ]
      },
      {
       "output_type": "stream",
       "stream": "stdout",
       "text": [
        "\n",
        "[0.45578703703703705, 0.3303312962367321, 0.7778695293146161]"
       ]
      },
      {
       "output_type": "stream",
       "stream": "stdout",
       "text": [
        "\n",
        "[0.45578703703703705, 0.3303312962367321, 0.7778695293146161]"
       ]
      },
      {
       "output_type": "stream",
       "stream": "stdout",
       "text": [
        "\n",
        "[0.45578703703703705, 0.3303312962367321, 0.7778695293146161]\n",
        "[0.45578703703703705, 0.3303312962367321, 0.7778695293146161]"
       ]
      },
      {
       "output_type": "stream",
       "stream": "stdout",
       "text": [
        "\n",
        "[0.45578703703703705, 0.3303312962367321, 0.7778695293146161]"
       ]
      },
      {
       "output_type": "stream",
       "stream": "stdout",
       "text": [
        "\n",
        "[0.45578703703703705, 0.3303312962367321, 0.7778695293146161]"
       ]
      },
      {
       "output_type": "stream",
       "stream": "stdout",
       "text": [
        "\n",
        "[0.45578703703703705, 0.3303312962367321, 0.7778695293146161]"
       ]
      },
      {
       "output_type": "stream",
       "stream": "stdout",
       "text": [
        "\n",
        "[0.45578703703703705, 0.3303312962367321, 0.7778695293146161]"
       ]
      },
      {
       "output_type": "stream",
       "stream": "stdout",
       "text": [
        "\n",
        "[0.45578703703703705, 0.3303312962367321, 0.7778695293146161]"
       ]
      },
      {
       "output_type": "stream",
       "stream": "stdout",
       "text": [
        "\n",
        "[0.45578703703703705, 0.3303312962367321, 0.7778695293146161]\n",
        "[0.45578703703703705, 0.3303312962367321, 0.7778695293146161]"
       ]
      },
      {
       "output_type": "stream",
       "stream": "stdout",
       "text": [
        "\n",
        "[0.45578703703703705, 0.3303312962367321, 0.7778695293146161]\n",
        "[0.45578703703703705, 0.3303312962367321, 0.7778695293146161]"
       ]
      },
      {
       "output_type": "stream",
       "stream": "stdout",
       "text": [
        "\n",
        "[0.45578703703703705, 0.3303312962367321, 0.7778695293146161]"
       ]
      },
      {
       "output_type": "stream",
       "stream": "stdout",
       "text": [
        "\n",
        "[0.45578703703703705, 0.3303312962367321, 0.7778695293146161]"
       ]
      },
      {
       "output_type": "stream",
       "stream": "stdout",
       "text": [
        "\n",
        "[0.45578703703703705, 0.3303312962367321, 0.7778695293146161]"
       ]
      },
      {
       "output_type": "stream",
       "stream": "stdout",
       "text": [
        "\n",
        "[0.45578703703703705, 0.3303312962367321, 0.7778695293146161]"
       ]
      },
      {
       "output_type": "stream",
       "stream": "stdout",
       "text": [
        "\n",
        "[0.45578703703703705, 0.3303312962367321, 0.7778695293146161]"
       ]
      },
      {
       "output_type": "stream",
       "stream": "stdout",
       "text": [
        "\n",
        "[0.45578703703703705, 0.3303312962367321, 0.7778695293146161]"
       ]
      },
      {
       "output_type": "stream",
       "stream": "stdout",
       "text": [
        "\n",
        "[0.45578703703703705, 0.3303312962367321, 0.7778695293146161]"
       ]
      },
      {
       "output_type": "stream",
       "stream": "stdout",
       "text": [
        "\n",
        "[0.45578703703703705, 0.3303312962367321, 0.7778695293146161]"
       ]
      },
      {
       "output_type": "stream",
       "stream": "stdout",
       "text": [
        "\n",
        "[0.45578703703703705, 0.3303312962367321, 0.7778695293146161]\n",
        "[0.45578703703703705, 0.3303312962367321, 0.7778695293146161]"
       ]
      },
      {
       "output_type": "stream",
       "stream": "stdout",
       "text": [
        "\n",
        "[0.45578703703703705, 0.3303312962367321, 0.7778695293146161]\n",
        "[0.45578703703703705, 0.3303312962367321, 0.7778695293146161]"
       ]
      },
      {
       "output_type": "stream",
       "stream": "stdout",
       "text": [
        "\n",
        "[0.45578703703703705, 0.3303312962367321, 0.7778695293146161]\n",
        "[0.45578703703703705, 0.3303312962367321, 0.7778695293146161]"
       ]
      },
      {
       "output_type": "stream",
       "stream": "stdout",
       "text": [
        "\n",
        "[0.45578703703703705, 0.3303312962367321, 0.7778695293146161]"
       ]
      },
      {
       "output_type": "stream",
       "stream": "stdout",
       "text": [
        "\n",
        "[0.45578703703703705, 0.3303312962367321, 0.7778695293146161]"
       ]
      },
      {
       "output_type": "stream",
       "stream": "stdout",
       "text": [
        "\n",
        "[0.45578703703703705, 0.3303312962367321, 0.7778695293146161]"
       ]
      },
      {
       "output_type": "stream",
       "stream": "stdout",
       "text": [
        "\n",
        "[0.45578703703703705, 0.3303312962367321, 0.7778695293146161]"
       ]
      },
      {
       "output_type": "stream",
       "stream": "stdout",
       "text": [
        "\n",
        "[0.45578703703703705, 0.3303312962367321, 0.7778695293146161]"
       ]
      },
      {
       "output_type": "stream",
       "stream": "stdout",
       "text": [
        "\n",
        "[0.45578703703703705, 0.3303312962367321, 0.7778695293146161]"
       ]
      },
      {
       "output_type": "stream",
       "stream": "stdout",
       "text": [
        "\n",
        "[0.45578703703703705, 0.3303312962367321, 0.7778695293146161]"
       ]
      },
      {
       "output_type": "stream",
       "stream": "stdout",
       "text": [
        "\n",
        "[0.45578703703703705, 0.3303312962367321, 0.7778695293146161]"
       ]
      },
      {
       "output_type": "stream",
       "stream": "stdout",
       "text": [
        "\n",
        "[0.45578703703703705, 0.3303312962367321, 0.7778695293146161]"
       ]
      },
      {
       "output_type": "stream",
       "stream": "stdout",
       "text": [
        "\n",
        "[0.45578703703703705, 0.3303312962367321, 0.7778695293146161]\n",
        "[0.45578703703703705, 0.3303312962367321, 0.7778695293146161]"
       ]
      },
      {
       "output_type": "stream",
       "stream": "stdout",
       "text": [
        "\n",
        "[0.45578703703703705, 0.3303312962367321, 0.7778695293146161]\n",
        "[0.45578703703703705, 0.3303312962367321, 0.7778695293146161]"
       ]
      },
      {
       "output_type": "stream",
       "stream": "stdout",
       "text": [
        "\n",
        "[0.45578703703703705, 0.3303312962367321, 0.7778695293146161]\n",
        "[0.45578703703703705, 0.3303312962367321, 0.7778695293146161]"
       ]
      },
      {
       "output_type": "stream",
       "stream": "stdout",
       "text": [
        "\n",
        "[0.45578703703703705, 0.3303312962367321, 0.7778695293146161]\n",
        "[0.45578703703703705, 0.3303312962367321, 0.7778695293146161]"
       ]
      },
      {
       "output_type": "stream",
       "stream": "stdout",
       "text": [
        "\n",
        "[0.45578703703703705, 0.3303312962367321, 0.7778695293146161]"
       ]
      },
      {
       "output_type": "stream",
       "stream": "stdout",
       "text": [
        "\n",
        "[0.45578703703703705, 0.3303312962367321, 0.7778695293146161]"
       ]
      },
      {
       "output_type": "stream",
       "stream": "stdout",
       "text": [
        "\n",
        "[0.45578703703703705, 0.3303312962367321, 0.7778695293146161]"
       ]
      },
      {
       "output_type": "stream",
       "stream": "stdout",
       "text": [
        "\n",
        "[0.45578703703703705, 0.3303312962367321, 0.7778695293146161]"
       ]
      },
      {
       "output_type": "stream",
       "stream": "stdout",
       "text": [
        "\n",
        "[0.45578703703703705, 0.3303312962367321, 0.7778695293146161]"
       ]
      },
      {
       "output_type": "stream",
       "stream": "stdout",
       "text": [
        "\n",
        "[0.45578703703703705, 0.3303312962367321, 0.7778695293146161]"
       ]
      },
      {
       "output_type": "stream",
       "stream": "stdout",
       "text": [
        "\n",
        "[0.45578703703703705, 0.3303312962367321, 0.7778695293146161]"
       ]
      },
      {
       "output_type": "stream",
       "stream": "stdout",
       "text": [
        "\n",
        "[0.45578703703703705, 0.3303312962367321, 0.7778695293146161]"
       ]
      },
      {
       "output_type": "stream",
       "stream": "stdout",
       "text": [
        "\n",
        "[0.45578703703703705, 0.3303312962367321, 0.7778695293146161]"
       ]
      },
      {
       "output_type": "stream",
       "stream": "stdout",
       "text": [
        "\n",
        "[0.45578703703703705, 0.3303312962367321, 0.7778695293146161]"
       ]
      },
      {
       "output_type": "stream",
       "stream": "stdout",
       "text": [
        "\n",
        "[0.45578703703703705, 0.3303312962367321, 0.7778695293146161]"
       ]
      },
      {
       "output_type": "stream",
       "stream": "stdout",
       "text": [
        "\n",
        "[0.45578703703703705, 0.3303312962367321, 0.7778695293146161]"
       ]
      },
      {
       "output_type": "stream",
       "stream": "stdout",
       "text": [
        "\n",
        "[0.45578703703703705, 0.3303312962367321, 0.7778695293146161]"
       ]
      },
      {
       "output_type": "stream",
       "stream": "stdout",
       "text": [
        "\n",
        "[0.45578703703703705, 0.3303312962367321, 0.7778695293146161]"
       ]
      },
      {
       "output_type": "stream",
       "stream": "stdout",
       "text": [
        "\n",
        "[0.45578703703703705, 0.3303312962367321, 0.7778695293146161]"
       ]
      },
      {
       "output_type": "stream",
       "stream": "stdout",
       "text": [
        "\n",
        "[0.45578703703703705, 0.3303312962367321, 0.7778695293146161]"
       ]
      },
      {
       "output_type": "stream",
       "stream": "stdout",
       "text": [
        "\n",
        "[0.45578703703703705, 0.3303312962367321, 0.7778695293146161]"
       ]
      },
      {
       "output_type": "stream",
       "stream": "stdout",
       "text": [
        "\n",
        "[0.45578703703703705, 0.3303312962367321, 0.7778695293146161]"
       ]
      },
      {
       "output_type": "stream",
       "stream": "stdout",
       "text": [
        "\n",
        "[0.45578703703703705, 0.3303312962367321, 0.7778695293146161]"
       ]
      },
      {
       "output_type": "stream",
       "stream": "stdout",
       "text": [
        "\n",
        "[0.45578703703703705, 0.3303312962367321, 0.7778695293146161]"
       ]
      },
      {
       "output_type": "stream",
       "stream": "stdout",
       "text": [
        "\n",
        "[0.45578703703703705, 0.3303312962367321, 0.7778695293146161]"
       ]
      },
      {
       "output_type": "stream",
       "stream": "stdout",
       "text": [
        "\n",
        "[0.45578703703703705, 0.3303312962367321, 0.7778695293146161]"
       ]
      },
      {
       "output_type": "stream",
       "stream": "stdout",
       "text": [
        "\n",
        "[0.45578703703703705, 0.3303312962367321, 0.7778695293146161]"
       ]
      },
      {
       "output_type": "stream",
       "stream": "stdout",
       "text": [
        "\n",
        "[0.45578703703703705, 0.3303312962367321, 0.7778695293146161]\n",
        "[0.45578703703703705, 0.3303312962367321, 0.7778695293146161]"
       ]
      },
      {
       "output_type": "stream",
       "stream": "stdout",
       "text": [
        "\n",
        "[0.45578703703703705, 0.3303312962367321, 0.7778695293146161]\n",
        "[0.45578703703703705, 0.3303312962367321, 0.7778695293146161]"
       ]
      },
      {
       "output_type": "stream",
       "stream": "stdout",
       "text": [
        "\n",
        "[0.45578703703703705, 0.3303312962367321, 0.7778695293146161]"
       ]
      },
      {
       "output_type": "stream",
       "stream": "stdout",
       "text": [
        "\n",
        "[0.45578703703703705, 0.3303312962367321, 0.7778695293146161]"
       ]
      },
      {
       "output_type": "stream",
       "stream": "stdout",
       "text": [
        "\n",
        "[0.45578703703703705, 0.3303312962367321, 0.7778695293146161]"
       ]
      },
      {
       "output_type": "stream",
       "stream": "stdout",
       "text": [
        "\n",
        "[0.45578703703703705, 0.3303312962367321, 0.7778695293146161]\n",
        "[0.45578703703703705, 0.3303312962367321, 0.7778695293146161]"
       ]
      },
      {
       "output_type": "stream",
       "stream": "stdout",
       "text": [
        "\n",
        "[0.45578703703703705, 0.3303312962367321, 0.7778695293146161]\n",
        "[0.45578703703703705, 0.3303312962367321, 0.7778695293146161]"
       ]
      },
      {
       "output_type": "stream",
       "stream": "stdout",
       "text": [
        "\n",
        "[0.45578703703703705, 0.3303312962367321, 0.7778695293146161]\n",
        "[0.45578703703703705, 0.3303312962367321, 0.7778695293146161]"
       ]
      },
      {
       "output_type": "stream",
       "stream": "stdout",
       "text": [
        "\n",
        "[0.45578703703703705, 0.3303312962367321, 0.7778695293146161]"
       ]
      },
      {
       "output_type": "stream",
       "stream": "stdout",
       "text": [
        "\n",
        "[0.45578703703703705, 0.3303312962367321, 0.7778695293146161]"
       ]
      },
      {
       "output_type": "stream",
       "stream": "stdout",
       "text": [
        "\n",
        "[0.45578703703703705, 0.3303312962367321, 0.7778695293146161]"
       ]
      },
      {
       "output_type": "stream",
       "stream": "stdout",
       "text": [
        "\n",
        "[0.45578703703703705, 0.3303312962367321, 0.7778695293146161]"
       ]
      },
      {
       "output_type": "stream",
       "stream": "stdout",
       "text": [
        "\n",
        "[0.45578703703703705, 0.3303312962367321, 0.7778695293146161]"
       ]
      },
      {
       "output_type": "stream",
       "stream": "stdout",
       "text": [
        "\n",
        "[0.45578703703703705, 0.3303312962367321, 0.7778695293146161]"
       ]
      },
      {
       "output_type": "stream",
       "stream": "stdout",
       "text": [
        "\n",
        "[0.45578703703703705, 0.3303312962367321, 0.7778695293146161]\n",
        "[0.45578703703703705, 0.3303312962367321, 0.7778695293146161]"
       ]
      },
      {
       "output_type": "stream",
       "stream": "stdout",
       "text": [
        "\n",
        "[0.45578703703703705, 0.3303312962367321, 0.7778695293146161]\n",
        "[0.45578703703703705, 0.3303312962367321, 0.7778695293146161]"
       ]
      },
      {
       "output_type": "stream",
       "stream": "stdout",
       "text": [
        "\n",
        "[0.45578703703703705, 0.3303312962367321, 0.7778695293146161]"
       ]
      },
      {
       "output_type": "stream",
       "stream": "stdout",
       "text": [
        "\n",
        "[0.45578703703703705, 0.3303312962367321, 0.7778695293146161]"
       ]
      },
      {
       "output_type": "stream",
       "stream": "stdout",
       "text": [
        "\n",
        "[0.45578703703703705, 0.3303312962367321, 0.7778695293146161]"
       ]
      },
      {
       "output_type": "stream",
       "stream": "stdout",
       "text": [
        "\n",
        "[0.45578703703703705, 0.3303312962367321, 0.7778695293146161]\n",
        "[0.45578703703703705, 0.3303312962367321, 0.7778695293146161]"
       ]
      },
      {
       "output_type": "stream",
       "stream": "stdout",
       "text": [
        "\n",
        "[0.45578703703703705, 0.3303312962367321, 0.7778695293146161]"
       ]
      },
      {
       "output_type": "stream",
       "stream": "stdout",
       "text": [
        "\n",
        "[0.45578703703703705, 0.3303312962367321, 0.7778695293146161]\n",
        "[0.45578703703703705, 0.3303312962367321, 0.7778695293146161]"
       ]
      },
      {
       "output_type": "stream",
       "stream": "stdout",
       "text": [
        "\n",
        "[0.45578703703703705, 0.3303312962367321, 0.7778695293146161]"
       ]
      },
      {
       "output_type": "stream",
       "stream": "stdout",
       "text": [
        "\n",
        "[0.45578703703703705, 0.3303312962367321, 0.7778695293146161]"
       ]
      },
      {
       "output_type": "stream",
       "stream": "stdout",
       "text": [
        "\n",
        "[0.45578703703703705, 0.3303312962367321, 0.7778695293146161]"
       ]
      },
      {
       "output_type": "stream",
       "stream": "stdout",
       "text": [
        "\n",
        "[0.45578703703703705, 0.3303312962367321, 0.7778695293146161]\n",
        "[0.45578703703703705, 0.3303312962367321, 0.7778695293146161]"
       ]
      },
      {
       "output_type": "stream",
       "stream": "stdout",
       "text": [
        "\n",
        "[0.45578703703703705, 0.3303312962367321, 0.7778695293146161]"
       ]
      },
      {
       "output_type": "stream",
       "stream": "stdout",
       "text": [
        "\n",
        "[0.45578703703703705, 0.3303312962367321, 0.7778695293146161]\n",
        "[0.45578703703703705, 0.3303312962367321, 0.7778695293146161]"
       ]
      },
      {
       "output_type": "stream",
       "stream": "stdout",
       "text": [
        "\n",
        "[0.45578703703703705, 0.3303312962367321, 0.7778695293146161]"
       ]
      },
      {
       "output_type": "stream",
       "stream": "stdout",
       "text": [
        "\n",
        "[0.45578703703703705, 0.3303312962367321, 0.7778695293146161]"
       ]
      },
      {
       "output_type": "stream",
       "stream": "stdout",
       "text": [
        "\n",
        "[0.45578703703703705, 0.3303312962367321, 0.7778695293146161]"
       ]
      },
      {
       "output_type": "stream",
       "stream": "stdout",
       "text": [
        "\n",
        "[0.45578703703703705, 0.3303312962367321, 0.7778695293146161]\n",
        "[0.45578703703703705, 0.3303312962367321, 0.7778695293146161]"
       ]
      },
      {
       "output_type": "stream",
       "stream": "stdout",
       "text": [
        "\n",
        "[0.45578703703703705, 0.3303312962367321, 0.7778695293146161]\n",
        "[0.45578703703703705, 0.3303312962367321, 0.7778695293146161]"
       ]
      },
      {
       "output_type": "stream",
       "stream": "stdout",
       "text": [
        "\n",
        "[0.45578703703703705, 0.3303312962367321, 0.7778695293146161]"
       ]
      },
      {
       "output_type": "stream",
       "stream": "stdout",
       "text": [
        "\n",
        "[0.45578703703703705, 0.3303312962367321, 0.7778695293146161]"
       ]
      },
      {
       "output_type": "stream",
       "stream": "stdout",
       "text": [
        "\n",
        "[0.45578703703703705, 0.3303312962367321, 0.7778695293146161]"
       ]
      },
      {
       "output_type": "stream",
       "stream": "stdout",
       "text": [
        "\n",
        "[0.45578703703703705, 0.3303312962367321, 0.7778695293146161]"
       ]
      },
      {
       "output_type": "stream",
       "stream": "stdout",
       "text": [
        "\n",
        "[0.45578703703703705, 0.3303312962367321, 0.7778695293146161]\n",
        "[0.45578703703703705, 0.3303312962367321, 0.7778695293146161]"
       ]
      },
      {
       "output_type": "stream",
       "stream": "stdout",
       "text": [
        "\n",
        "[0.45578703703703705, 0.3303312962367321, 0.7778695293146161]\n",
        "[0.45578703703703705, 0.3303312962367321, 0.7778695293146161]"
       ]
      },
      {
       "output_type": "stream",
       "stream": "stdout",
       "text": [
        "\n",
        "[0.45578703703703705, 0.3303312962367321, 0.7778695293146161]"
       ]
      },
      {
       "output_type": "stream",
       "stream": "stdout",
       "text": [
        "\n",
        "[0.45578703703703705, 0.3303312962367321, 0.7778695293146161]"
       ]
      },
      {
       "output_type": "stream",
       "stream": "stdout",
       "text": [
        "\n",
        "[0.45578703703703705, 0.3303312962367321, 0.7778695293146161]"
       ]
      },
      {
       "output_type": "stream",
       "stream": "stdout",
       "text": [
        "\n",
        "[0.45578703703703705, 0.3303312962367321, 0.7778695293146161]\n",
        "[0.45578703703703705, 0.3303312962367321, 0.7778695293146161]"
       ]
      },
      {
       "output_type": "stream",
       "stream": "stdout",
       "text": [
        "\n",
        "[0.45578703703703705, 0.3303312962367321, 0.7778695293146161]"
       ]
      },
      {
       "output_type": "stream",
       "stream": "stdout",
       "text": [
        "\n",
        "[0.45578703703703705, 0.3303312962367321, 0.7778695293146161]\n",
        "[0.45578703703703705, 0.3303312962367321, 0.7778695293146161]"
       ]
      },
      {
       "output_type": "stream",
       "stream": "stdout",
       "text": [
        "\n",
        "[0.45578703703703705, 0.3303312962367321, 0.7778695293146161]\n",
        "[0.45578703703703705, 0.3303312962367321, 0.7778695293146161]"
       ]
      },
      {
       "output_type": "stream",
       "stream": "stdout",
       "text": [
        "\n",
        "[0.45578703703703705, 0.3303312962367321, 0.7778695293146161]\n",
        "[0.45578703703703705, 0.3303312962367321, 0.7778695293146161]"
       ]
      },
      {
       "output_type": "stream",
       "stream": "stdout",
       "text": [
        "\n",
        "[0.45578703703703705, 0.3303312962367321, 0.7778695293146161]\n",
        "[0.45578703703703705, 0.3303312962367321, 0.7778695293146161]"
       ]
      },
      {
       "output_type": "stream",
       "stream": "stdout",
       "text": [
        "\n",
        "[0.45578703703703705, 0.3303312962367321, 0.7778695293146161]"
       ]
      },
      {
       "output_type": "stream",
       "stream": "stdout",
       "text": [
        "\n",
        "[0.45578703703703705, 0.3303312962367321, 0.7778695293146161]\n",
        "[0.45578703703703705, 0.3303312962367321, 0.7778695293146161]"
       ]
      },
      {
       "output_type": "stream",
       "stream": "stdout",
       "text": [
        "\n",
        "[0.45578703703703705, 0.3303312962367321, 0.7778695293146161]\n",
        "[0.45578703703703705, 0.3303312962367321, 0.7778695293146161]"
       ]
      },
      {
       "output_type": "stream",
       "stream": "stdout",
       "text": [
        "\n",
        "[0.45578703703703705, 0.3303312962367321, 0.7778695293146161]"
       ]
      },
      {
       "output_type": "stream",
       "stream": "stdout",
       "text": [
        "\n",
        "[0.45578703703703705, 0.3303312962367321, 0.7778695293146161]"
       ]
      },
      {
       "output_type": "stream",
       "stream": "stdout",
       "text": [
        "\n",
        "[0.45578703703703705, 0.3303312962367321, 0.7778695293146161]\n",
        "[0.45578703703703705, 0.3303312962367321, 0.7778695293146161]"
       ]
      },
      {
       "output_type": "stream",
       "stream": "stdout",
       "text": [
        "\n",
        "[0.45578703703703705, 0.3303312962367321, 0.7778695293146161]"
       ]
      },
      {
       "output_type": "stream",
       "stream": "stdout",
       "text": [
        "\n",
        "[0.45578703703703705, 0.3303312962367321, 0.7778695293146161]"
       ]
      },
      {
       "output_type": "stream",
       "stream": "stdout",
       "text": [
        "\n",
        "[0.45578703703703705, 0.3303312962367321, 0.7778695293146161]"
       ]
      },
      {
       "output_type": "stream",
       "stream": "stdout",
       "text": [
        "\n",
        "[0.45578703703703705, 0.3303312962367321, 0.7778695293146161]\n",
        "[0.45578703703703705, 0.3303312962367321, 0.7778695293146161]"
       ]
      },
      {
       "output_type": "stream",
       "stream": "stdout",
       "text": [
        "\n",
        "[0.45578703703703705, 0.3303312962367321, 0.7778695293146161]"
       ]
      },
      {
       "output_type": "stream",
       "stream": "stdout",
       "text": [
        "\n",
        "[0.45578703703703705, 0.3303312962367321, 0.7778695293146161]\n",
        "[0.45578703703703705, 0.3303312962367321, 0.7778695293146161]"
       ]
      },
      {
       "output_type": "stream",
       "stream": "stdout",
       "text": [
        "\n",
        "[0.45578703703703705, 0.3303312962367321, 0.7778695293146161]\n",
        "[0.45578703703703705, 0.3303312962367321, 0.7778695293146161]"
       ]
      },
      {
       "output_type": "stream",
       "stream": "stdout",
       "text": [
        "\n",
        "[0.45578703703703705, 0.3303312962367321, 0.7778695293146161]\n",
        "[0.45578703703703705, 0.3303312962367321, 0.7778695293146161]"
       ]
      },
      {
       "output_type": "stream",
       "stream": "stdout",
       "text": [
        "\n",
        "[0.45578703703703705, 0.3303312962367321, 0.7778695293146161]"
       ]
      },
      {
       "output_type": "stream",
       "stream": "stdout",
       "text": [
        "\n",
        "[0.45578703703703705, 0.3303312962367321, 0.7778695293146161]\n",
        "[0.45578703703703705, 0.3303312962367321, 0.7778695293146161]"
       ]
      },
      {
       "output_type": "stream",
       "stream": "stdout",
       "text": [
        "\n",
        "[0.45578703703703705, 0.3303312962367321, 0.7778695293146161]\n",
        "[0.45578703703703705, 0.3303312962367321, 0.7778695293146161]"
       ]
      },
      {
       "output_type": "stream",
       "stream": "stdout",
       "text": [
        "\n",
        "[0.45578703703703705, 0.3303312962367321, 0.7778695293146161]"
       ]
      },
      {
       "output_type": "stream",
       "stream": "stdout",
       "text": [
        "\n",
        "[0.45578703703703705, 0.3303312962367321, 0.7778695293146161]"
       ]
      },
      {
       "output_type": "stream",
       "stream": "stdout",
       "text": [
        "\n",
        "[0.45578703703703705, 0.3303312962367321, 0.7778695293146161]"
       ]
      },
      {
       "output_type": "stream",
       "stream": "stdout",
       "text": [
        "\n",
        "[0.45578703703703705, 0.3303312962367321, 0.7778695293146161]"
       ]
      },
      {
       "output_type": "stream",
       "stream": "stdout",
       "text": [
        "\n",
        "[0.45578703703703705, 0.3303312962367321, 0.7778695293146161]"
       ]
      },
      {
       "output_type": "stream",
       "stream": "stdout",
       "text": [
        "\n",
        "[0.45578703703703705, 0.3303312962367321, 0.7778695293146161]"
       ]
      },
      {
       "output_type": "stream",
       "stream": "stdout",
       "text": [
        "\n",
        "[0.45578703703703705, 0.3303312962367321, 0.7778695293146161]\n",
        "[0.45578703703703705, 0.3303312962367321, 0.7778695293146161]"
       ]
      },
      {
       "output_type": "stream",
       "stream": "stdout",
       "text": [
        "\n",
        "[0.45578703703703705, 0.3303312962367321, 0.7778695293146161]\n",
        "[0.45578703703703705, 0.3303312962367321, 0.7778695293146161]"
       ]
      },
      {
       "output_type": "stream",
       "stream": "stdout",
       "text": [
        "\n",
        "[0.45578703703703705, 0.3303312962367321, 0.7778695293146161]"
       ]
      },
      {
       "output_type": "stream",
       "stream": "stdout",
       "text": [
        "\n",
        "[0.45578703703703705, 0.3303312962367321, 0.7778695293146161]"
       ]
      },
      {
       "output_type": "stream",
       "stream": "stdout",
       "text": [
        "\n",
        "[0.45578703703703705, 0.3303312962367321, 0.7778695293146161]"
       ]
      },
      {
       "output_type": "stream",
       "stream": "stdout",
       "text": [
        "\n",
        "[0.45578703703703705, 0.3303312962367321, 0.7778695293146161]"
       ]
      },
      {
       "output_type": "stream",
       "stream": "stdout",
       "text": [
        "\n",
        "[0.45578703703703705, 0.3303312962367321, 0.7778695293146161]\n",
        "[0.45578703703703705, 0.3303312962367321, 0.7778695293146161]"
       ]
      },
      {
       "output_type": "stream",
       "stream": "stdout",
       "text": [
        "\n",
        "[0.45578703703703705, 0.3303312962367321, 0.7778695293146161]\n",
        "[0.45578703703703705, 0.3303312962367321, 0.7778695293146161]"
       ]
      },
      {
       "output_type": "stream",
       "stream": "stdout",
       "text": [
        "\n",
        "[0.45578703703703705, 0.3303312962367321, 0.7778695293146161]"
       ]
      },
      {
       "output_type": "stream",
       "stream": "stdout",
       "text": [
        "\n",
        "[0.45578703703703705, 0.3303312962367321, 0.7778695293146161]\n",
        "[0.45578703703703705, 0.3303312962367321, 0.7778695293146161]"
       ]
      },
      {
       "output_type": "stream",
       "stream": "stdout",
       "text": [
        "\n",
        "[0.45578703703703705, 0.3303312962367321, 0.7778695293146161]"
       ]
      },
      {
       "output_type": "stream",
       "stream": "stdout",
       "text": [
        "\n",
        "[0.45578703703703705, 0.3303312962367321, 0.7778695293146161]"
       ]
      },
      {
       "output_type": "stream",
       "stream": "stdout",
       "text": [
        "\n",
        "[0.45578703703703705, 0.3303312962367321, 0.7778695293146161]"
       ]
      },
      {
       "output_type": "stream",
       "stream": "stdout",
       "text": [
        "\n",
        "[0.45578703703703705, 0.3303312962367321, 0.7778695293146161]\n",
        "[0.45578703703703705, 0.3303312962367321, 0.7778695293146161]"
       ]
      },
      {
       "output_type": "stream",
       "stream": "stdout",
       "text": [
        "\n",
        "[0.45578703703703705, 0.3303312962367321, 0.7778695293146161]\n",
        "[0.45578703703703705, 0.3303312962367321, 0.7778695293146161]"
       ]
      },
      {
       "output_type": "stream",
       "stream": "stdout",
       "text": [
        "\n",
        "[0.45578703703703705, 0.3303312962367321, 0.7778695293146161]\n",
        "[0.45578703703703705, 0.3303312962367321, 0.7778695293146161]"
       ]
      },
      {
       "output_type": "stream",
       "stream": "stdout",
       "text": [
        "\n",
        "[0.45578703703703705, 0.3303312962367321, 0.7778695293146161]\n",
        "[0.45578703703703705, 0.3303312962367321, 0.7778695293146161]"
       ]
      },
      {
       "output_type": "stream",
       "stream": "stdout",
       "text": [
        "\n",
        "[0.45578703703703705, 0.3303312962367321, 0.7778695293146161]"
       ]
      },
      {
       "output_type": "stream",
       "stream": "stdout",
       "text": [
        "\n",
        "[0.45578703703703705, 0.3303312962367321, 0.7778695293146161]"
       ]
      },
      {
       "output_type": "stream",
       "stream": "stdout",
       "text": [
        "\n",
        "[0.45578703703703705, 0.3303312962367321, 0.7778695293146161]"
       ]
      },
      {
       "output_type": "stream",
       "stream": "stdout",
       "text": [
        "\n",
        "[0.45578703703703705, 0.3303312962367321, 0.7778695293146161]\n",
        "[0.45578703703703705, 0.3303312962367321, 0.7778695293146161]"
       ]
      },
      {
       "output_type": "stream",
       "stream": "stdout",
       "text": [
        "\n",
        "[0.45578703703703705, 0.3303312962367321, 0.7778695293146161]\n",
        "[0.45578703703703705, 0.3303312962367321, 0.7778695293146161]"
       ]
      },
      {
       "output_type": "stream",
       "stream": "stdout",
       "text": [
        "\n",
        "[0.45578703703703705, 0.3303312962367321, 0.7778695293146161]"
       ]
      },
      {
       "output_type": "stream",
       "stream": "stdout",
       "text": [
        "\n",
        "[0.45578703703703705, 0.3303312962367321, 0.7778695293146161]"
       ]
      },
      {
       "output_type": "stream",
       "stream": "stdout",
       "text": [
        "\n",
        "[0.45578703703703705, 0.3303312962367321, 0.7778695293146161]\n",
        "[0.45578703703703705, 0.3303312962367321, 0.7778695293146161]"
       ]
      },
      {
       "output_type": "stream",
       "stream": "stdout",
       "text": [
        "\n",
        "[0.45578703703703705, 0.3303312962367321, 0.7778695293146161]\n",
        "[0.45578703703703705, 0.3303312962367321, 0.7778695293146161]"
       ]
      },
      {
       "output_type": "stream",
       "stream": "stdout",
       "text": [
        "\n",
        "[0.45578703703703705, 0.3303312962367321, 0.7778695293146161]"
       ]
      },
      {
       "output_type": "stream",
       "stream": "stdout",
       "text": [
        "\n",
        "[0.45578703703703705, 0.3303312962367321, 0.7778695293146161]\n",
        "[0.45578703703703705, 0.3303312962367321, 0.7778695293146161]"
       ]
      },
      {
       "output_type": "stream",
       "stream": "stdout",
       "text": [
        "\n",
        "[0.45578703703703705, 0.3303312962367321, 0.7778695293146161]\n",
        "[0.45578703703703705, 0.3303312962367321, 0.7778695293146161]"
       ]
      },
      {
       "output_type": "stream",
       "stream": "stdout",
       "text": [
        "\n",
        "[0.45578703703703705, 0.3303312962367321, 0.7778695293146161]\n",
        "[0.45578703703703705, 0.3303312962367321, 0.7778695293146161]"
       ]
      },
      {
       "output_type": "stream",
       "stream": "stdout",
       "text": [
        "\n",
        "[0.45578703703703705, 0.3303312962367321, 0.7778695293146161]\n",
        "[0.45578703703703705, 0.3303312962367321, 0.7778695293146161]"
       ]
      },
      {
       "output_type": "stream",
       "stream": "stdout",
       "text": [
        "\n",
        "[0.45578703703703705, 0.3303312962367321, 0.7778695293146161]"
       ]
      },
      {
       "output_type": "stream",
       "stream": "stdout",
       "text": [
        "\n",
        "[0.45578703703703705, 0.3303312962367321, 0.7778695293146161]"
       ]
      },
      {
       "output_type": "stream",
       "stream": "stdout",
       "text": [
        "\n",
        "[0.45578703703703705, 0.3303312962367321, 0.7778695293146161]"
       ]
      },
      {
       "output_type": "stream",
       "stream": "stdout",
       "text": [
        "\n",
        "[0.45578703703703705, 0.3303312962367321, 0.7778695293146161]"
       ]
      },
      {
       "output_type": "stream",
       "stream": "stdout",
       "text": [
        "\n",
        "[0.45578703703703705, 0.3303312962367321, 0.7778695293146161]"
       ]
      },
      {
       "output_type": "stream",
       "stream": "stdout",
       "text": [
        "\n",
        "[0.45578703703703705, 0.3303312962367321, 0.7778695293146161]\n",
        "[0.45578703703703705, 0.3303312962367321, 0.7778695293146161]"
       ]
      },
      {
       "output_type": "stream",
       "stream": "stdout",
       "text": [
        "\n",
        "[0.45578703703703705, 0.3303312962367321, 0.7778695293146161]"
       ]
      },
      {
       "output_type": "stream",
       "stream": "stdout",
       "text": [
        "\n",
        "[0.45578703703703705, 0.3303312962367321, 0.7778695293146161]"
       ]
      },
      {
       "output_type": "stream",
       "stream": "stdout",
       "text": [
        "\n",
        "[0.45578703703703705, 0.3303312962367321, 0.7778695293146161]"
       ]
      },
      {
       "output_type": "stream",
       "stream": "stdout",
       "text": [
        "\n",
        "[0.45578703703703705, 0.3303312962367321, 0.7778695293146161]\n",
        "[0.45578703703703705, 0.3303312962367321, 0.7778695293146161]"
       ]
      },
      {
       "output_type": "stream",
       "stream": "stdout",
       "text": [
        "\n",
        "[0.45578703703703705, 0.3303312962367321, 0.7778695293146161]"
       ]
      },
      {
       "output_type": "stream",
       "stream": "stdout",
       "text": [
        "\n",
        "[0.45578703703703705, 0.3303312962367321, 0.7778695293146161]\n",
        "[0.45578703703703705, 0.3303312962367321, 0.7778695293146161]"
       ]
      },
      {
       "output_type": "stream",
       "stream": "stdout",
       "text": [
        "\n",
        "[0.45578703703703705, 0.3303312962367321, 0.7778695293146161]\n",
        "[0.45578703703703705, 0.3303312962367321, 0.7778695293146161]"
       ]
      },
      {
       "output_type": "stream",
       "stream": "stdout",
       "text": [
        "\n",
        "[0.45578703703703705, 0.3303312962367321, 0.7778695293146161]\n",
        "[0.45578703703703705, 0.3303312962367321, 0.7778695293146161]"
       ]
      },
      {
       "output_type": "stream",
       "stream": "stdout",
       "text": [
        "\n",
        "[0.45578703703703705, 0.3303312962367321, 0.7778695293146161]\n",
        "[0.45578703703703705, 0.3303312962367321, 0.7778695293146161]"
       ]
      },
      {
       "output_type": "stream",
       "stream": "stdout",
       "text": [
        "\n",
        "[0.45578703703703705, 0.3303312962367321, 0.7778695293146161]"
       ]
      },
      {
       "output_type": "stream",
       "stream": "stdout",
       "text": [
        "\n",
        "[0.45578703703703705, 0.3303312962367321, 0.7778695293146161]"
       ]
      },
      {
       "output_type": "stream",
       "stream": "stdout",
       "text": [
        "\n",
        "[0.45578703703703705, 0.3303312962367321, 0.7778695293146161]"
       ]
      },
      {
       "output_type": "stream",
       "stream": "stdout",
       "text": [
        "\n",
        "[0.45578703703703705, 0.3303312962367321, 0.7778695293146161]"
       ]
      },
      {
       "output_type": "stream",
       "stream": "stdout",
       "text": [
        "\n",
        "[0.45578703703703705, 0.3303312962367321, 0.7778695293146161]"
       ]
      },
      {
       "output_type": "stream",
       "stream": "stdout",
       "text": [
        "\n",
        "[0.45578703703703705, 0.3303312962367321, 0.7778695293146161]"
       ]
      },
      {
       "output_type": "stream",
       "stream": "stdout",
       "text": [
        "\n",
        "[0.45578703703703705, 0.3303312962367321, 0.7778695293146161]\n",
        "[0.45578703703703705, 0.3303312962367321, 0.7778695293146161]"
       ]
      },
      {
       "output_type": "stream",
       "stream": "stdout",
       "text": [
        "\n",
        "[0.45578703703703705, 0.3303312962367321, 0.7778695293146161]\n",
        "[0.45578703703703705, 0.3303312962367321, 0.7778695293146161]"
       ]
      },
      {
       "output_type": "stream",
       "stream": "stdout",
       "text": [
        "\n",
        "[0.45578703703703705, 0.3303312962367321, 0.7778695293146161]\n",
        "[0.45578703703703705, 0.3303312962367321, 0.7778695293146161]"
       ]
      },
      {
       "output_type": "stream",
       "stream": "stdout",
       "text": [
        "\n",
        "[0.45578703703703705, 0.3303312962367321, 0.7778695293146161]"
       ]
      },
      {
       "output_type": "stream",
       "stream": "stdout",
       "text": [
        "\n",
        "[0.45578703703703705, 0.3303312962367321, 0.7778695293146161]\n",
        "[0.45578703703703705, 0.3303312962367321, 0.7778695293146161]"
       ]
      },
      {
       "output_type": "stream",
       "stream": "stdout",
       "text": [
        "\n",
        "[0.45578703703703705, 0.3303312962367321, 0.7778695293146161]\n",
        "[0.45578703703703705, 0.3303312962367321, 0.7778695293146161]"
       ]
      },
      {
       "output_type": "stream",
       "stream": "stdout",
       "text": [
        "\n",
        "[0.45578703703703705, 0.3303312962367321, 0.7778695293146161]\n",
        "[0.45578703703703705, 0.3303312962367321, 0.7778695293146161]"
       ]
      },
      {
       "output_type": "stream",
       "stream": "stdout",
       "text": [
        "\n",
        "[0.45578703703703705, 0.3303312962367321, 0.7778695293146161]"
       ]
      },
      {
       "output_type": "stream",
       "stream": "stdout",
       "text": [
        "\n",
        "[0.45578703703703705, 0.3303312962367321, 0.7778695293146161]\n",
        "[0.45578703703703705, 0.3303312962367321, 0.7778695293146161]"
       ]
      },
      {
       "output_type": "stream",
       "stream": "stdout",
       "text": [
        "\n",
        "[0.45578703703703705, 0.3303312962367321, 0.7778695293146161]"
       ]
      },
      {
       "output_type": "stream",
       "stream": "stdout",
       "text": [
        "\n",
        "[0.45578703703703705, 0.3303312962367321, 0.7778695293146161]\n"
       ]
      },
      {
       "output_type": "stream",
       "stream": "stdout",
       "text": [
        "[0.45578703703703705, 0.3303312962367321, 0.7778695293146161]\n",
        "[0.45578703703703705, 0.3303312962367321, 0.7778695293146161]\n",
        "[0.45578703703703705, 0.3303312962367321, 0.7778695293146161]"
       ]
      },
      {
       "output_type": "stream",
       "stream": "stdout",
       "text": [
        "\n",
        "[0.45578703703703705, 0.3303312962367321, 0.7778695293146161]"
       ]
      },
      {
       "output_type": "stream",
       "stream": "stdout",
       "text": [
        "\n",
        "[0.45578703703703705, 0.3303312962367321, 0.7778695293146161]"
       ]
      },
      {
       "output_type": "stream",
       "stream": "stdout",
       "text": [
        "\n",
        "[0.45578703703703705, 0.3303312962367321, 0.7778695293146161]"
       ]
      },
      {
       "output_type": "stream",
       "stream": "stdout",
       "text": [
        "\n",
        "[0.45578703703703705, 0.3303312962367321, 0.7778695293146161]"
       ]
      },
      {
       "output_type": "stream",
       "stream": "stdout",
       "text": [
        "\n",
        "[0.45578703703703705, 0.3303312962367321, 0.7778695293146161]"
       ]
      },
      {
       "output_type": "stream",
       "stream": "stdout",
       "text": [
        "\n",
        "[0.45578703703703705, 0.3303312962367321, 0.7778695293146161]"
       ]
      },
      {
       "output_type": "stream",
       "stream": "stdout",
       "text": [
        "\n",
        "[0.45578703703703705, 0.3303312962367321, 0.7778695293146161]\n",
        "[0.45578703703703705, 0.3303312962367321, 0.7778695293146161]"
       ]
      },
      {
       "output_type": "stream",
       "stream": "stdout",
       "text": [
        "\n",
        "[0.45578703703703705, 0.3303312962367321, 0.7778695293146161]\n",
        "[0.45578703703703705, 0.3303312962367321, 0.7778695293146161]"
       ]
      },
      {
       "output_type": "stream",
       "stream": "stdout",
       "text": [
        "\n",
        "[0.45578703703703705, 0.3303312962367321, 0.7778695293146161]\n",
        "[0.45578703703703705, 0.3303312962367321, 0.7778695293146161]"
       ]
      },
      {
       "output_type": "stream",
       "stream": "stdout",
       "text": [
        "\n",
        "[0.45578703703703705, 0.3303312962367321, 0.7778695293146161]\n",
        "[0.45578703703703705, 0.3303312962367321, 0.7778695293146161]"
       ]
      },
      {
       "output_type": "stream",
       "stream": "stdout",
       "text": [
        "\n",
        "[0.45578703703703705, 0.3303312962367321, 0.7778695293146161]"
       ]
      },
      {
       "output_type": "stream",
       "stream": "stdout",
       "text": [
        "\n",
        "[0.45578703703703705, 0.3303312962367321, 0.7778695293146161]\n",
        "[0.45578703703703705, 0.3303312962367321, 0.7778695293146161]"
       ]
      },
      {
       "output_type": "stream",
       "stream": "stdout",
       "text": [
        "\n",
        "[0.45578703703703705, 0.3303312962367321, 0.7778695293146161]"
       ]
      },
      {
       "output_type": "stream",
       "stream": "stdout",
       "text": [
        "\n",
        "[0.45578703703703705, 0.3303312962367321, 0.7778695293146161]\n",
        "[0.45578703703703705, 0.3303312962367321, 0.7778695293146161]"
       ]
      },
      {
       "output_type": "stream",
       "stream": "stdout",
       "text": [
        "\n",
        "[0.45578703703703705, 0.3303312962367321, 0.7778695293146161]"
       ]
      },
      {
       "output_type": "stream",
       "stream": "stdout",
       "text": [
        "\n",
        "[0.45578703703703705, 0.3303312962367321, 0.7778695293146161]\n",
        "[0.45578703703703705, 0.3303312962367321, 0.7778695293146161]"
       ]
      },
      {
       "output_type": "stream",
       "stream": "stdout",
       "text": [
        "\n",
        "[0.45578703703703705, 0.3303312962367321, 0.7778695293146161]"
       ]
      },
      {
       "output_type": "stream",
       "stream": "stdout",
       "text": [
        "\n",
        "[0.45578703703703705, 0.3303312962367321, 0.7778695293146161]\n",
        "[0.45578703703703705, 0.3303312962367321, 0.7778695293146161]"
       ]
      },
      {
       "output_type": "stream",
       "stream": "stdout",
       "text": [
        "\n",
        "[0.45578703703703705, 0.3303312962367321, 0.7778695293146161]"
       ]
      },
      {
       "output_type": "stream",
       "stream": "stdout",
       "text": [
        "\n",
        "[0.45578703703703705, 0.3303312962367321, 0.7778695293146161]\n",
        "[0.45578703703703705, 0.3303312962367321, 0.7778695293146161]"
       ]
      },
      {
       "output_type": "stream",
       "stream": "stdout",
       "text": [
        "\n",
        "[0.45578703703703705, 0.3303312962367321, 0.7778695293146161]"
       ]
      },
      {
       "output_type": "stream",
       "stream": "stdout",
       "text": [
        "\n",
        "[0.45578703703703705, 0.3303312962367321, 0.7778695293146161]"
       ]
      },
      {
       "output_type": "stream",
       "stream": "stdout",
       "text": [
        "\n",
        "[0.45578703703703705, 0.3303312962367321, 0.7778695293146161]"
       ]
      },
      {
       "output_type": "stream",
       "stream": "stdout",
       "text": [
        "\n",
        "[0.45578703703703705, 0.3303312962367321, 0.7778695293146161]"
       ]
      },
      {
       "output_type": "stream",
       "stream": "stdout",
       "text": [
        "\n",
        "[0.45578703703703705, 0.3303312962367321, 0.7778695293146161]"
       ]
      },
      {
       "output_type": "stream",
       "stream": "stdout",
       "text": [
        "\n",
        "[0.45578703703703705, 0.3303312962367321, 0.7778695293146161]"
       ]
      },
      {
       "output_type": "stream",
       "stream": "stdout",
       "text": [
        "\n",
        "[0.45578703703703705, 0.3303312962367321, 0.7778695293146161]"
       ]
      },
      {
       "output_type": "stream",
       "stream": "stdout",
       "text": [
        "\n",
        "[0.45578703703703705, 0.3303312962367321, 0.7778695293146161]\n",
        "[0.45578703703703705, 0.3303312962367321, 0.7778695293146161]"
       ]
      },
      {
       "output_type": "stream",
       "stream": "stdout",
       "text": [
        "\n",
        "[0.45578703703703705, 0.3303312962367321, 0.7778695293146161]"
       ]
      },
      {
       "output_type": "stream",
       "stream": "stdout",
       "text": [
        "\n",
        "[0.45578703703703705, 0.3303312962367321, 0.7778695293146161]"
       ]
      },
      {
       "output_type": "stream",
       "stream": "stdout",
       "text": [
        "\n",
        "[0.45578703703703705, 0.3303312962367321, 0.7778695293146161]\n",
        "[0.45578703703703705, 0.3303312962367321, 0.7778695293146161]"
       ]
      },
      {
       "output_type": "stream",
       "stream": "stdout",
       "text": [
        "\n",
        "[0.45578703703703705, 0.3303312962367321, 0.7778695293146161]"
       ]
      },
      {
       "output_type": "stream",
       "stream": "stdout",
       "text": [
        "\n",
        "[0.45578703703703705, 0.3303312962367321, 0.7778695293146161]"
       ]
      },
      {
       "output_type": "stream",
       "stream": "stdout",
       "text": [
        "\n",
        "[0.45578703703703705, 0.3303312962367321, 0.7778695293146161]\n",
        "[0.45578703703703705, 0.3303312962367321, 0.7778695293146161]"
       ]
      },
      {
       "output_type": "stream",
       "stream": "stdout",
       "text": [
        "\n",
        "[0.45578703703703705, 0.3303312962367321, 0.7778695293146161]\n",
        "[0.45578703703703705, 0.3303312962367321, 0.7778695293146161]"
       ]
      },
      {
       "output_type": "stream",
       "stream": "stdout",
       "text": [
        "\n",
        "[0.45578703703703705, 0.3303312962367321, 0.7778695293146161]"
       ]
      },
      {
       "output_type": "stream",
       "stream": "stdout",
       "text": [
        "\n",
        "[0.45578703703703705, 0.3303312962367321, 0.7778695293146161]"
       ]
      },
      {
       "output_type": "stream",
       "stream": "stdout",
       "text": [
        "\n",
        "[0.45578703703703705, 0.3303312962367321, 0.7778695293146161]\n",
        "[0.45578703703703705, 0.3303312962367321, 0.7778695293146161]"
       ]
      },
      {
       "output_type": "stream",
       "stream": "stdout",
       "text": [
        "\n",
        "[0.45578703703703705, 0.3303312962367321, 0.7778695293146161]"
       ]
      },
      {
       "output_type": "stream",
       "stream": "stdout",
       "text": [
        "\n",
        "[0.45578703703703705, 0.3303312962367321, 0.7778695293146161]"
       ]
      },
      {
       "output_type": "stream",
       "stream": "stdout",
       "text": [
        "\n",
        "[0.45578703703703705, 0.3303312962367321, 0.7778695293146161]"
       ]
      },
      {
       "output_type": "stream",
       "stream": "stdout",
       "text": [
        "\n"
       ]
      }
     ],
     "prompt_number": 110
    },
    {
     "cell_type": "code",
     "collapsed": false,
     "input": [],
     "language": "python",
     "metadata": {},
     "outputs": []
    }
   ],
   "metadata": {}
  }
 ]
}