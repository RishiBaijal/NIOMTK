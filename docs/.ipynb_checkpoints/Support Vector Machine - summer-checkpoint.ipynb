{
 "metadata": {
  "name": "",
  "signature": "sha256:4e9b4b841fb022cd2d43a248bc639621cd084f6bb5d4670ced55628ae4eb498e"
 },
 "nbformat": 3,
 "nbformat_minor": 0,
 "worksheets": [
  {
   "cells": [
    {
     "cell_type": "code",
     "collapsed": false,
     "input": [
      "import numpy as np\n",
      "import pandas as pd\n",
      "from numpy import *\n",
      "from pandas import *\n",
      "import matplotlib\n",
      "import os\n",
      "import os.path\n",
      "from os import *\n",
      "from os.path import *\n",
      "import matplotlib.pyplot as plt\n",
      "from itertools import chain\n",
      "from sklearn import svm, datasets, metrics\n",
      "\n",
      "%matplotlib inline"
     ],
     "language": "python",
     "metadata": {},
     "outputs": [],
     "prompt_number": 1
    },
    {
     "cell_type": "markdown",
     "metadata": {},
     "source": [
      "Ground Truth Values\n",
      "---------------------"
     ]
    },
    {
     "cell_type": "code",
     "collapsed": false,
     "input": [
      "df = pd.read_csv('/Users/rishi/Documents/Master_folder/IIITD/6th_semester/BTP/NIOMTK/02_occupancy_csv/02_summer.csv')"
     ],
     "language": "python",
     "metadata": {},
     "outputs": [],
     "prompt_number": 2
    },
    {
     "cell_type": "code",
     "collapsed": false,
     "input": [
      "df.head()"
     ],
     "language": "python",
     "metadata": {},
     "outputs": [
      {
       "html": [
        "<div style=\"max-height:1000px;max-width:1500px;overflow:auto;\">\n",
        "<table border=\"1\" class=\"dataframe\">\n",
        "  <thead>\n",
        "    <tr style=\"text-align: right;\">\n",
        "      <th></th>\n",
        "      <th>Unnamed: 0</th>\n",
        "      <th>'00:00:00'</th>\n",
        "      <th>'00:00:01'</th>\n",
        "      <th>'00:00:02'</th>\n",
        "      <th>'00:00:03'</th>\n",
        "      <th>'00:00:04'</th>\n",
        "      <th>'00:00:05'</th>\n",
        "      <th>'00:00:06'</th>\n",
        "      <th>'00:00:07'</th>\n",
        "      <th>'00:00:08'</th>\n",
        "      <th>...</th>\n",
        "      <th>'23:59:50'</th>\n",
        "      <th>'23:59:51'</th>\n",
        "      <th>'23:59:52'</th>\n",
        "      <th>'23:59:53'</th>\n",
        "      <th>'23:59:54'</th>\n",
        "      <th>'23:59:55'</th>\n",
        "      <th>'23:59:56'</th>\n",
        "      <th>'23:59:57'</th>\n",
        "      <th>'23:59:58'</th>\n",
        "      <th>'23:59:59'</th>\n",
        "    </tr>\n",
        "  </thead>\n",
        "  <tbody>\n",
        "    <tr>\n",
        "      <th>0</th>\n",
        "      <td> 30-May-2012</td>\n",
        "      <td> 1</td>\n",
        "      <td> 1</td>\n",
        "      <td> 1</td>\n",
        "      <td> 1</td>\n",
        "      <td> 1</td>\n",
        "      <td> 1</td>\n",
        "      <td> 1</td>\n",
        "      <td> 1</td>\n",
        "      <td> 1</td>\n",
        "      <td>...</td>\n",
        "      <td> 1</td>\n",
        "      <td> 1</td>\n",
        "      <td> 1</td>\n",
        "      <td> 1</td>\n",
        "      <td> 1</td>\n",
        "      <td> 1</td>\n",
        "      <td> 1</td>\n",
        "      <td> 1</td>\n",
        "      <td> 1</td>\n",
        "      <td> 1</td>\n",
        "    </tr>\n",
        "    <tr>\n",
        "      <th>1</th>\n",
        "      <td> 31-May-2012</td>\n",
        "      <td> 1</td>\n",
        "      <td> 1</td>\n",
        "      <td> 1</td>\n",
        "      <td> 1</td>\n",
        "      <td> 1</td>\n",
        "      <td> 1</td>\n",
        "      <td> 1</td>\n",
        "      <td> 1</td>\n",
        "      <td> 1</td>\n",
        "      <td>...</td>\n",
        "      <td> 1</td>\n",
        "      <td> 1</td>\n",
        "      <td> 1</td>\n",
        "      <td> 1</td>\n",
        "      <td> 1</td>\n",
        "      <td> 1</td>\n",
        "      <td> 1</td>\n",
        "      <td> 1</td>\n",
        "      <td> 1</td>\n",
        "      <td> 1</td>\n",
        "    </tr>\n",
        "    <tr>\n",
        "      <th>2</th>\n",
        "      <td> 01-Jun-2012</td>\n",
        "      <td> 1</td>\n",
        "      <td> 1</td>\n",
        "      <td> 1</td>\n",
        "      <td> 1</td>\n",
        "      <td> 1</td>\n",
        "      <td> 1</td>\n",
        "      <td> 1</td>\n",
        "      <td> 1</td>\n",
        "      <td> 1</td>\n",
        "      <td>...</td>\n",
        "      <td> 1</td>\n",
        "      <td> 1</td>\n",
        "      <td> 1</td>\n",
        "      <td> 1</td>\n",
        "      <td> 1</td>\n",
        "      <td> 1</td>\n",
        "      <td> 1</td>\n",
        "      <td> 1</td>\n",
        "      <td> 1</td>\n",
        "      <td> 1</td>\n",
        "    </tr>\n",
        "    <tr>\n",
        "      <th>3</th>\n",
        "      <td> 02-Jun-2012</td>\n",
        "      <td> 1</td>\n",
        "      <td> 1</td>\n",
        "      <td> 1</td>\n",
        "      <td> 1</td>\n",
        "      <td> 1</td>\n",
        "      <td> 1</td>\n",
        "      <td> 1</td>\n",
        "      <td> 1</td>\n",
        "      <td> 1</td>\n",
        "      <td>...</td>\n",
        "      <td> 1</td>\n",
        "      <td> 1</td>\n",
        "      <td> 1</td>\n",
        "      <td> 1</td>\n",
        "      <td> 1</td>\n",
        "      <td> 1</td>\n",
        "      <td> 1</td>\n",
        "      <td> 1</td>\n",
        "      <td> 1</td>\n",
        "      <td> 1</td>\n",
        "    </tr>\n",
        "    <tr>\n",
        "      <th>4</th>\n",
        "      <td> 03-Jun-2012</td>\n",
        "      <td> 1</td>\n",
        "      <td> 1</td>\n",
        "      <td> 1</td>\n",
        "      <td> 1</td>\n",
        "      <td> 1</td>\n",
        "      <td> 1</td>\n",
        "      <td> 1</td>\n",
        "      <td> 1</td>\n",
        "      <td> 1</td>\n",
        "      <td>...</td>\n",
        "      <td> 1</td>\n",
        "      <td> 1</td>\n",
        "      <td> 1</td>\n",
        "      <td> 1</td>\n",
        "      <td> 1</td>\n",
        "      <td> 1</td>\n",
        "      <td> 1</td>\n",
        "      <td> 1</td>\n",
        "      <td> 1</td>\n",
        "      <td> 1</td>\n",
        "    </tr>\n",
        "  </tbody>\n",
        "</table>\n",
        "<p>5 rows \u00d7 86401 columns</p>\n",
        "</div>"
       ],
       "metadata": {},
       "output_type": "pyout",
       "prompt_number": 3,
       "text": [
        "    Unnamed: 0  '00:00:00'  '00:00:01'  '00:00:02'  '00:00:03'  '00:00:04'  \\\n",
        "0  30-May-2012           1           1           1           1           1   \n",
        "1  31-May-2012           1           1           1           1           1   \n",
        "2  01-Jun-2012           1           1           1           1           1   \n",
        "3  02-Jun-2012           1           1           1           1           1   \n",
        "4  03-Jun-2012           1           1           1           1           1   \n",
        "\n",
        "   '00:00:05'  '00:00:06'  '00:00:07'  '00:00:08'     ...      '23:59:50'  \\\n",
        "0           1           1           1           1     ...               1   \n",
        "1           1           1           1           1     ...               1   \n",
        "2           1           1           1           1     ...               1   \n",
        "3           1           1           1           1     ...               1   \n",
        "4           1           1           1           1     ...               1   \n",
        "\n",
        "   '23:59:51'  '23:59:52'  '23:59:53'  '23:59:54'  '23:59:55'  '23:59:56'  \\\n",
        "0           1           1           1           1           1           1   \n",
        "1           1           1           1           1           1           1   \n",
        "2           1           1           1           1           1           1   \n",
        "3           1           1           1           1           1           1   \n",
        "4           1           1           1           1           1           1   \n",
        "\n",
        "   '23:59:57'  '23:59:58'  '23:59:59'  \n",
        "0           1           1           1  \n",
        "1           1           1           1  \n",
        "2           1           1           1  \n",
        "3           1           1           1  \n",
        "4           1           1           1  \n",
        "\n",
        "[5 rows x 86401 columns]"
       ]
      }
     ],
     "prompt_number": 3
    },
    {
     "cell_type": "code",
     "collapsed": false,
     "input": [
      "df.tail()"
     ],
     "language": "python",
     "metadata": {},
     "outputs": [
      {
       "html": [
        "<div style=\"max-height:1000px;max-width:1500px;overflow:auto;\">\n",
        "<table border=\"1\" class=\"dataframe\">\n",
        "  <thead>\n",
        "    <tr style=\"text-align: right;\">\n",
        "      <th></th>\n",
        "      <th>Unnamed: 0</th>\n",
        "      <th>'00:00:00'</th>\n",
        "      <th>'00:00:01'</th>\n",
        "      <th>'00:00:02'</th>\n",
        "      <th>'00:00:03'</th>\n",
        "      <th>'00:00:04'</th>\n",
        "      <th>'00:00:05'</th>\n",
        "      <th>'00:00:06'</th>\n",
        "      <th>'00:00:07'</th>\n",
        "      <th>'00:00:08'</th>\n",
        "      <th>...</th>\n",
        "      <th>'23:59:50'</th>\n",
        "      <th>'23:59:51'</th>\n",
        "      <th>'23:59:52'</th>\n",
        "      <th>'23:59:53'</th>\n",
        "      <th>'23:59:54'</th>\n",
        "      <th>'23:59:55'</th>\n",
        "      <th>'23:59:56'</th>\n",
        "      <th>'23:59:57'</th>\n",
        "      <th>'23:59:58'</th>\n",
        "      <th>'23:59:59'</th>\n",
        "    </tr>\n",
        "  </thead>\n",
        "  <tbody>\n",
        "    <tr>\n",
        "      <th>78</th>\n",
        "      <td> 28-Aug-2012</td>\n",
        "      <td> 1</td>\n",
        "      <td> 1</td>\n",
        "      <td> 1</td>\n",
        "      <td> 1</td>\n",
        "      <td> 1</td>\n",
        "      <td> 1</td>\n",
        "      <td> 1</td>\n",
        "      <td> 1</td>\n",
        "      <td> 1</td>\n",
        "      <td>...</td>\n",
        "      <td> 1</td>\n",
        "      <td> 1</td>\n",
        "      <td> 1</td>\n",
        "      <td> 1</td>\n",
        "      <td> 1</td>\n",
        "      <td> 1</td>\n",
        "      <td> 1</td>\n",
        "      <td> 1</td>\n",
        "      <td> 1</td>\n",
        "      <td> 1</td>\n",
        "    </tr>\n",
        "    <tr>\n",
        "      <th>79</th>\n",
        "      <td> 29-Aug-2012</td>\n",
        "      <td> 1</td>\n",
        "      <td> 1</td>\n",
        "      <td> 1</td>\n",
        "      <td> 1</td>\n",
        "      <td> 1</td>\n",
        "      <td> 1</td>\n",
        "      <td> 1</td>\n",
        "      <td> 1</td>\n",
        "      <td> 1</td>\n",
        "      <td>...</td>\n",
        "      <td> 1</td>\n",
        "      <td> 1</td>\n",
        "      <td> 1</td>\n",
        "      <td> 1</td>\n",
        "      <td> 1</td>\n",
        "      <td> 1</td>\n",
        "      <td> 1</td>\n",
        "      <td> 1</td>\n",
        "      <td> 1</td>\n",
        "      <td> 1</td>\n",
        "    </tr>\n",
        "    <tr>\n",
        "      <th>80</th>\n",
        "      <td> 30-Aug-2012</td>\n",
        "      <td> 1</td>\n",
        "      <td> 1</td>\n",
        "      <td> 1</td>\n",
        "      <td> 1</td>\n",
        "      <td> 1</td>\n",
        "      <td> 1</td>\n",
        "      <td> 1</td>\n",
        "      <td> 1</td>\n",
        "      <td> 1</td>\n",
        "      <td>...</td>\n",
        "      <td> 1</td>\n",
        "      <td> 1</td>\n",
        "      <td> 1</td>\n",
        "      <td> 1</td>\n",
        "      <td> 1</td>\n",
        "      <td> 1</td>\n",
        "      <td> 1</td>\n",
        "      <td> 1</td>\n",
        "      <td> 1</td>\n",
        "      <td> 1</td>\n",
        "    </tr>\n",
        "    <tr>\n",
        "      <th>81</th>\n",
        "      <td> 31-Aug-2012</td>\n",
        "      <td> 1</td>\n",
        "      <td> 1</td>\n",
        "      <td> 1</td>\n",
        "      <td> 1</td>\n",
        "      <td> 1</td>\n",
        "      <td> 1</td>\n",
        "      <td> 1</td>\n",
        "      <td> 1</td>\n",
        "      <td> 1</td>\n",
        "      <td>...</td>\n",
        "      <td> 1</td>\n",
        "      <td> 1</td>\n",
        "      <td> 1</td>\n",
        "      <td> 1</td>\n",
        "      <td> 1</td>\n",
        "      <td> 1</td>\n",
        "      <td> 1</td>\n",
        "      <td> 1</td>\n",
        "      <td> 1</td>\n",
        "      <td> 1</td>\n",
        "    </tr>\n",
        "    <tr>\n",
        "      <th>82</th>\n",
        "      <td> 01-Sep-2012</td>\n",
        "      <td> 1</td>\n",
        "      <td> 1</td>\n",
        "      <td> 1</td>\n",
        "      <td> 1</td>\n",
        "      <td> 1</td>\n",
        "      <td> 1</td>\n",
        "      <td> 1</td>\n",
        "      <td> 1</td>\n",
        "      <td> 1</td>\n",
        "      <td>...</td>\n",
        "      <td> 1</td>\n",
        "      <td> 1</td>\n",
        "      <td> 1</td>\n",
        "      <td> 1</td>\n",
        "      <td> 1</td>\n",
        "      <td> 1</td>\n",
        "      <td> 1</td>\n",
        "      <td> 1</td>\n",
        "      <td> 1</td>\n",
        "      <td> 1</td>\n",
        "    </tr>\n",
        "  </tbody>\n",
        "</table>\n",
        "<p>5 rows \u00d7 86401 columns</p>\n",
        "</div>"
       ],
       "metadata": {},
       "output_type": "pyout",
       "prompt_number": 4,
       "text": [
        "     Unnamed: 0  '00:00:00'  '00:00:01'  '00:00:02'  '00:00:03'  '00:00:04'  \\\n",
        "78  28-Aug-2012           1           1           1           1           1   \n",
        "79  29-Aug-2012           1           1           1           1           1   \n",
        "80  30-Aug-2012           1           1           1           1           1   \n",
        "81  31-Aug-2012           1           1           1           1           1   \n",
        "82  01-Sep-2012           1           1           1           1           1   \n",
        "\n",
        "    '00:00:05'  '00:00:06'  '00:00:07'  '00:00:08'     ...      '23:59:50'  \\\n",
        "78           1           1           1           1     ...               1   \n",
        "79           1           1           1           1     ...               1   \n",
        "80           1           1           1           1     ...               1   \n",
        "81           1           1           1           1     ...               1   \n",
        "82           1           1           1           1     ...               1   \n",
        "\n",
        "    '23:59:51'  '23:59:52'  '23:59:53'  '23:59:54'  '23:59:55'  '23:59:56'  \\\n",
        "78           1           1           1           1           1           1   \n",
        "79           1           1           1           1           1           1   \n",
        "80           1           1           1           1           1           1   \n",
        "81           1           1           1           1           1           1   \n",
        "82           1           1           1           1           1           1   \n",
        "\n",
        "    '23:59:57'  '23:59:58'  '23:59:59'  \n",
        "78           1           1           1  \n",
        "79           1           1           1  \n",
        "80           1           1           1  \n",
        "81           1           1           1  \n",
        "82           1           1           1  \n",
        "\n",
        "[5 rows x 86401 columns]"
       ]
      }
     ],
     "prompt_number": 4
    },
    {
     "cell_type": "code",
     "collapsed": false,
     "input": [
      "index = pd.DatetimeIndex(start = '01-06-2012', periods = 7171200, freq = '1s')"
     ],
     "language": "python",
     "metadata": {},
     "outputs": [],
     "prompt_number": 5
    },
    {
     "cell_type": "code",
     "collapsed": false,
     "input": [],
     "language": "python",
     "metadata": {},
     "outputs": [],
     "prompt_number": 5
    },
    {
     "cell_type": "code",
     "collapsed": false,
     "input": [
      "index"
     ],
     "language": "python",
     "metadata": {},
     "outputs": [
      {
       "metadata": {},
       "output_type": "pyout",
       "prompt_number": 6,
       "text": [
        "<class 'pandas.tseries.index.DatetimeIndex'>\n",
        "[2012-01-06 00:00:00, ..., 2012-03-28 23:59:59]\n",
        "Length: 7171200, Freq: S, Timezone: None"
       ]
      }
     ],
     "prompt_number": 6
    },
    {
     "cell_type": "code",
     "collapsed": false,
     "input": [
      "out = []\n",
      "for i in range(len(df)):\n",
      "    out.append(df.ix[i].values[1:])\n",
      "out_1d = list(chain.from_iterable(out))"
     ],
     "language": "python",
     "metadata": {},
     "outputs": [],
     "prompt_number": 7
    },
    {
     "cell_type": "code",
     "collapsed": true,
     "input": [
      "out_1d[:5]"
     ],
     "language": "python",
     "metadata": {},
     "outputs": [
      {
       "metadata": {},
       "output_type": "pyout",
       "prompt_number": 8,
       "text": [
        "[1, 1, 1, 1, 1]"
       ]
      }
     ],
     "prompt_number": 8
    },
    {
     "cell_type": "code",
     "collapsed": false,
     "input": [
      "len(out_1d)"
     ],
     "language": "python",
     "metadata": {},
     "outputs": [
      {
       "metadata": {},
       "output_type": "pyout",
       "prompt_number": 9,
       "text": [
        "7171200"
       ]
      }
     ],
     "prompt_number": 9
    },
    {
     "cell_type": "code",
     "collapsed": false,
     "input": [
      "df_new = pd.Series(out_1d, index = index)"
     ],
     "language": "python",
     "metadata": {},
     "outputs": [],
     "prompt_number": 27
    },
    {
     "cell_type": "code",
     "collapsed": false,
     "input": [
      "df_new.head()"
     ],
     "language": "python",
     "metadata": {},
     "outputs": [
      {
       "metadata": {},
       "output_type": "pyout",
       "prompt_number": 28,
       "text": [
        "2012-01-06 00:00:00    1\n",
        "2012-01-06 00:00:01    1\n",
        "2012-01-06 00:00:02    1\n",
        "2012-01-06 00:00:03    1\n",
        "2012-01-06 00:00:04    1\n",
        "Freq: S, dtype: int64"
       ]
      }
     ],
     "prompt_number": 28
    },
    {
     "cell_type": "code",
     "collapsed": false,
     "input": [
      "df_new.tail()"
     ],
     "language": "python",
     "metadata": {},
     "outputs": [
      {
       "metadata": {},
       "output_type": "pyout",
       "prompt_number": 29,
       "text": [
        "2012-03-28 23:59:55    1\n",
        "2012-03-28 23:59:56    1\n",
        "2012-03-28 23:59:57    1\n",
        "2012-03-28 23:59:58    1\n",
        "2012-03-28 23:59:59    1\n",
        "Freq: S, dtype: int64"
       ]
      }
     ],
     "prompt_number": 29
    },
    {
     "cell_type": "code",
     "collapsed": false,
     "input": [
      "df_resampled = df_new.resample(\"15min\")"
     ],
     "language": "python",
     "metadata": {},
     "outputs": [],
     "prompt_number": 30
    },
    {
     "cell_type": "code",
     "collapsed": false,
     "input": [
      "df_resampled.plot(kind = 'hist')"
     ],
     "language": "python",
     "metadata": {},
     "outputs": [
      {
       "metadata": {},
       "output_type": "pyout",
       "prompt_number": 31,
       "text": [
        "<matplotlib.axes._subplots.AxesSubplot at 0x137fc43d0>"
       ]
      },
      {
       "metadata": {},
       "output_type": "display_data",
       "png": "[encoded data removed]",
       "text": [
        "<matplotlib.figure.Figure at 0x137fbead0>"
       ]
      }
     ],
     "prompt_number": 31
    },
    {
     "cell_type": "code",
     "collapsed": false,
     "input": [
      "#df_resampled = df_resampled['2012-06-01':]"
     ],
     "language": "python",
     "metadata": {},
     "outputs": [],
     "prompt_number": 32
    },
    {
     "cell_type": "code",
     "collapsed": false,
     "input": [
      "df_resampled.head()"
     ],
     "language": "python",
     "metadata": {},
     "outputs": [
      {
       "metadata": {},
       "output_type": "pyout",
       "prompt_number": 33,
       "text": [
        "2012-01-06 00:00:00    1\n",
        "2012-01-06 00:15:00    1\n",
        "2012-01-06 00:30:00    1\n",
        "2012-01-06 00:45:00    1\n",
        "2012-01-06 01:00:00    1\n",
        "Freq: 15T, dtype: float64"
       ]
      }
     ],
     "prompt_number": 33
    },
    {
     "cell_type": "code",
     "collapsed": false,
     "input": [
      "df_resampled.tail()"
     ],
     "language": "python",
     "metadata": {},
     "outputs": [
      {
       "metadata": {},
       "output_type": "pyout",
       "prompt_number": 34,
       "text": [
        "2012-03-28 22:45:00    0.000000\n",
        "2012-03-28 23:00:00    0.000000\n",
        "2012-03-28 23:15:00    0.000000\n",
        "2012-03-28 23:30:00    0.977778\n",
        "2012-03-28 23:45:00    1.000000\n",
        "Freq: 15T, dtype: float64"
       ]
      }
     ],
     "prompt_number": 34
    },
    {
     "cell_type": "markdown",
     "metadata": {},
     "source": [
      "The ground truth values are now stored in a variable called df_resampled."
     ]
    },
    {
     "cell_type": "markdown",
     "metadata": {},
     "source": [
      "\n",
      "\n",
      "Implementing the Support Vector Machine\n",
      "---------------"
     ]
    },
    {
     "cell_type": "code",
     "collapsed": false,
     "input": [
      "dir_path='/Users/rishi/Documents/Master_folder/IIITD/6th_semester/BTP/NIOMTK_datasets'\n",
      "store=HDFStore(join(dir_path, 'eco.h5'))\n",
      "df=store['/building2/elec/meter2']"
     ],
     "language": "python",
     "metadata": {},
     "outputs": [],
     "prompt_number": 35
    },
    {
     "cell_type": "code",
     "collapsed": false,
     "input": [
      "dataframe = df['power']['active']['2012-06-01':'2012-08-31'].resample('15min')"
     ],
     "language": "python",
     "metadata": {},
     "outputs": [],
     "prompt_number": 36
    },
    {
     "cell_type": "code",
     "collapsed": false,
     "input": [
      "len_df_values = len(dataframe.values)"
     ],
     "language": "python",
     "metadata": {},
     "outputs": [],
     "prompt_number": 41
    },
    {
     "cell_type": "code",
     "collapsed": false,
     "input": [
      "len_ground_truth_values = len(df_resampled.values)"
     ],
     "language": "python",
     "metadata": {},
     "outputs": [],
     "prompt_number": 42
    },
    {
     "cell_type": "code",
     "collapsed": false,
     "input": [
      "lis = []\n",
      "for i in dataframe.values[:min(len_df_values, len_ground_truth_values)]:\n",
      "    if np.isnan(i) == False:\n",
      "        lis.append([i])\n",
      "    else:\n",
      "        lis.append([0])\n",
      "power_array = np.asarray(lis)\n",
      "print (power_array)"
     ],
     "language": "python",
     "metadata": {},
     "outputs": [
      {
       "output_type": "stream",
       "stream": "stdout",
       "text": [
        "[[ 21.15791893]\n",
        " [ 21.15948486]\n",
        " [ 21.19428825]\n",
        " ..., \n",
        " [ 21.6312561 ]\n",
        " [ 21.64588356]\n",
        " [ 21.59136772]]\n"
       ]
      }
     ],
     "prompt_number": 44
    },
    {
     "cell_type": "code",
     "collapsed": false,
     "input": [],
     "language": "python",
     "metadata": {},
     "outputs": [],
     "prompt_number": 44
    },
    {
     "cell_type": "code",
     "collapsed": false,
     "input": [
      "print (df_resampled.values)"
     ],
     "language": "python",
     "metadata": {},
     "outputs": [
      {
       "output_type": "stream",
       "stream": "stdout",
       "text": [
        "[ 1.          1.          1.         ...,  0.          0.97777778  1.        ]\n"
       ]
      }
     ],
     "prompt_number": 45
    },
    {
     "cell_type": "code",
     "collapsed": false,
     "input": [
      "classifier = svm.SVC().fit(array, df_resampled.values)"
     ],
     "language": "python",
     "metadata": {},
     "outputs": [],
     "prompt_number": 46
    },
    {
     "cell_type": "code",
     "collapsed": false,
     "input": [
      "prediction = classifier.predict(array)"
     ],
     "language": "python",
     "metadata": {},
     "outputs": [],
     "prompt_number": 47
    },
    {
     "cell_type": "code",
     "collapsed": false,
     "input": [
      "arr1 = np.asarray([int(i) for i in prediction])\n",
      "arr2 = np.asarray([int(i) for i in df_resampled.values])\n",
      "\n",
      "print (metrics.classification_report(arr1, arr2))"
     ],
     "language": "python",
     "metadata": {},
     "outputs": [
      {
       "output_type": "stream",
       "stream": "stdout",
       "text": [
        "             precision    recall  f1-score   support\n",
        "\n",
        "          0       0.09      0.84      0.17       239\n",
        "          1       0.99      0.74      0.85      7729\n",
        "\n",
        "avg / total       0.97      0.75      0.83      7968\n",
        "\n"
       ]
      }
     ],
     "prompt_number": 48
    },
    {
     "cell_type": "code",
     "collapsed": false,
     "input": [
      "import matplotlib.pyplot as plt\n",
      "plt.scatter(arr1, arr2)\n",
      "plt.show()"
     ],
     "language": "python",
     "metadata": {},
     "outputs": [
      {
       "metadata": {},
       "output_type": "display_data",
       "png": "[encoded data removed]",
       "text": [
        "<matplotlib.figure.Figure at 0x117a24d10>"
       ]
      }
     ],
     "prompt_number": 49
    },
    {
     "cell_type": "code",
     "collapsed": false,
     "input": [
      "dataframe.head()"
     ],
     "language": "python",
     "metadata": {},
     "outputs": [
      {
       "metadata": {},
       "output_type": "pyout",
       "prompt_number": 50,
       "text": [
        "2012-06-01 02:00:00+02:00    21.157919\n",
        "2012-06-01 02:15:00+02:00    21.159485\n",
        "2012-06-01 02:30:00+02:00    21.194288\n",
        "2012-06-01 02:45:00+02:00    21.209436\n",
        "2012-06-01 03:00:00+02:00    21.127615\n",
        "Freq: 15T, Name: active, dtype: float32"
       ]
      }
     ],
     "prompt_number": 50
    },
    {
     "cell_type": "code",
     "collapsed": false,
     "input": [
      "df_resampled.head()"
     ],
     "language": "python",
     "metadata": {},
     "outputs": [
      {
       "metadata": {},
       "output_type": "pyout",
       "prompt_number": 51,
       "text": [
        "2012-01-06 00:00:00    1\n",
        "2012-01-06 00:15:00    1\n",
        "2012-01-06 00:30:00    1\n",
        "2012-01-06 00:45:00    1\n",
        "2012-01-06 01:00:00    1\n",
        "Freq: 15T, dtype: float64"
       ]
      }
     ],
     "prompt_number": 51
    },
    {
     "cell_type": "code",
     "collapsed": false,
     "input": [
      "df_resampled.index"
     ],
     "language": "python",
     "metadata": {},
     "outputs": [
      {
       "metadata": {},
       "output_type": "pyout",
       "prompt_number": 52,
       "text": [
        "<class 'pandas.tseries.index.DatetimeIndex'>\n",
        "[2012-01-06 00:00:00, ..., 2012-03-28 23:45:00]\n",
        "Length: 7968, Freq: 15T, Timezone: None"
       ]
      }
     ],
     "prompt_number": 52
    },
    {
     "cell_type": "code",
     "collapsed": false,
     "input": [
      "df_resampled.index[7968/2]"
     ],
     "language": "python",
     "metadata": {},
     "outputs": [
      {
       "metadata": {},
       "output_type": "pyout",
       "prompt_number": 53,
       "text": [
        "Timestamp('2012-02-16 12:00:00', offset='15T')"
       ]
      }
     ],
     "prompt_number": 53
    },
    {
     "cell_type": "code",
     "collapsed": false,
     "input": [
      "df_resampled_train = df_resampled[:\"2012-02-16 12:00:00\"]"
     ],
     "language": "python",
     "metadata": {},
     "outputs": [],
     "prompt_number": 54
    },
    {
     "cell_type": "code",
     "collapsed": false,
     "input": [
      "dataframe_train = dataframe[:\"2012-02-16 12:00:00 +02:00\"]"
     ],
     "language": "python",
     "metadata": {},
     "outputs": [],
     "prompt_number": 55
    },
    {
     "cell_type": "code",
     "collapsed": false,
     "input": [
      "dataframe_train = dataframe.head(3985)"
     ],
     "language": "python",
     "metadata": {},
     "outputs": [],
     "prompt_number": 56
    },
    {
     "cell_type": "code",
     "collapsed": false,
     "input": [
      "len(dataframe_train)"
     ],
     "language": "python",
     "metadata": {},
     "outputs": [
      {
       "metadata": {},
       "output_type": "pyout",
       "prompt_number": 57,
       "text": [
        "3985"
       ]
      }
     ],
     "prompt_number": 57
    },
    {
     "cell_type": "code",
     "collapsed": false,
     "input": [
      "len(df_resampled_train)"
     ],
     "language": "python",
     "metadata": {},
     "outputs": [
      {
       "metadata": {},
       "output_type": "pyout",
       "prompt_number": 58,
       "text": [
        "3985"
       ]
      }
     ],
     "prompt_number": 58
    },
    {
     "cell_type": "code",
     "collapsed": false,
     "input": [
      "#classify= svm.SVC().fit(dataframe_train.values, df_resampled_train.values)"
     ],
     "language": "python",
     "metadata": {},
     "outputs": [],
     "prompt_number": 59
    },
    {
     "cell_type": "code",
     "collapsed": false,
     "input": [
      "lis = []\n",
      "for i in dataframe_train:\n",
      "    if np.isnan(i) == False:\n",
      "        lis.append([i])\n",
      "    else:\n",
      "        lis.append([0])\n",
      "array = np.asarray(lis)\n",
      "print (array)"
     ],
     "language": "python",
     "metadata": {},
     "outputs": [
      {
       "output_type": "stream",
       "stream": "stdout",
       "text": [
        "[[ 21.15791893]\n",
        " [ 21.15948486]\n",
        " [ 21.19428825]\n",
        " ..., \n",
        " [ 21.65460205]\n",
        " [ 21.66838837]\n",
        " [ 21.6393013 ]]\n"
       ]
      }
     ],
     "prompt_number": 60
    },
    {
     "cell_type": "code",
     "collapsed": false,
     "input": [
      "classifier = svm.SVC().fit(array, df_resampled_train.values)"
     ],
     "language": "python",
     "metadata": {},
     "outputs": [],
     "prompt_number": 61
    },
    {
     "cell_type": "code",
     "collapsed": false,
     "input": [
      "dataframe_test = dataframe.tail(3985)"
     ],
     "language": "python",
     "metadata": {},
     "outputs": [],
     "prompt_number": 62
    },
    {
     "cell_type": "code",
     "collapsed": false,
     "input": [
      "df_resampled_test = df_resampled.tail(3985)"
     ],
     "language": "python",
     "metadata": {},
     "outputs": [],
     "prompt_number": 63
    },
    {
     "cell_type": "code",
     "collapsed": false,
     "input": [
      "lis = []\n",
      "for i in dataframe_test:\n",
      "    if np.isnan(i) == False:\n",
      "        lis.append([i])\n",
      "    else:\n",
      "        lis.append([0])\n",
      "array_test = np.asarray(lis)\n",
      "print (array_test)"
     ],
     "language": "python",
     "metadata": {},
     "outputs": [
      {
       "output_type": "stream",
       "stream": "stdout",
       "text": [
        "[[  42.62880325]\n",
        " [  42.43106461]\n",
        " [   0.        ]\n",
        " ..., \n",
        " [ 229.89730835]\n",
        " [ 229.84979248]\n",
        " [ 230.28807068]]\n"
       ]
      }
     ],
     "prompt_number": 64
    },
    {
     "cell_type": "code",
     "collapsed": false,
     "input": [
      "prediction = classifier.predict(array_test)"
     ],
     "language": "python",
     "metadata": {},
     "outputs": [],
     "prompt_number": 65
    },
    {
     "cell_type": "code",
     "collapsed": false,
     "input": [
      "arr1 = np.asarray([int(i) for i in prediction])\n",
      "arr2 = np.asarray([int(i) for i in df_resampled_test.values])\n",
      "\n",
      "print (metrics.classification_report(arr1, arr2))"
     ],
     "language": "python",
     "metadata": {},
     "outputs": [
      {
       "output_type": "stream",
       "stream": "stdout",
       "text": [
        "             precision    recall  f1-score   support\n",
        "\n",
        "          0       0.08      0.40      0.13       182\n",
        "          1       0.96      0.78      0.86      3803\n",
        "\n",
        "avg / total       0.92      0.76      0.83      3985\n",
        "\n"
       ]
      }
     ],
     "prompt_number": 66
    },
    {
     "cell_type": "code",
     "collapsed": false,
     "input": [
      "count = 0\n",
      "for i  in range(len(arr1)):\n",
      "    if arr1[i] == arr2[i]:\n",
      "        count+=1.0\n",
      "print (count/len(arr1) )"
     ],
     "language": "python",
     "metadata": {},
     "outputs": [
      {
       "output_type": "stream",
       "stream": "stdout",
       "text": [
        "0.758845671267\n"
       ]
      }
     ],
     "prompt_number": 67
    },
    {
     "cell_type": "markdown",
     "metadata": {},
     "source": [
      "Implementing the KNN algorithm\n",
      "----------------------------------"
     ]
    },
    {
     "cell_type": "code",
     "collapsed": false,
     "input": [
      "from sklearn.neighbors import NearestNeighbors"
     ],
     "language": "python",
     "metadata": {},
     "outputs": [],
     "prompt_number": 68
    },
    {
     "cell_type": "code",
     "collapsed": false,
     "input": [
      "array"
     ],
     "language": "python",
     "metadata": {},
     "outputs": [
      {
       "metadata": {},
       "output_type": "pyout",
       "prompt_number": 71,
       "text": [
        "array([[ 21.15791893],\n",
        "       [ 21.15948486],\n",
        "       [ 21.19428825],\n",
        "       ..., \n",
        "       [ 21.65460205],\n",
        "       [ 21.66838837],\n",
        "       [ 21.6393013 ]])"
       ]
      }
     ],
     "prompt_number": 71
    },
    {
     "cell_type": "code",
     "collapsed": false,
     "input": [
      "array_test"
     ],
     "language": "python",
     "metadata": {},
     "outputs": [
      {
       "metadata": {},
       "output_type": "pyout",
       "prompt_number": 72,
       "text": [
        "array([[  42.62880325],\n",
        "       [  42.43106461],\n",
        "       [   0.        ],\n",
        "       ..., \n",
        "       [ 229.89730835],\n",
        "       [ 229.84979248],\n",
        "       [ 230.28807068]])"
       ]
      }
     ],
     "prompt_number": 72
    },
    {
     "cell_type": "code",
     "collapsed": false,
     "input": [
      "neighbours = NearestNeighbors(n_neighbors=2, algorithm='ball_tree').fit(array)"
     ],
     "language": "python",
     "metadata": {},
     "outputs": [],
     "prompt_number": 74
    },
    {
     "cell_type": "code",
     "collapsed": false,
     "input": [
      "distances, indices = neighbours.kneighbors(array_test)"
     ],
     "language": "python",
     "metadata": {},
     "outputs": [],
     "prompt_number": 76
    },
    {
     "cell_type": "code",
     "collapsed": false,
     "input": [],
     "language": "python",
     "metadata": {},
     "outputs": []
    },
    {
     "cell_type": "code",
     "collapsed": false,
     "input": [],
     "language": "python",
     "metadata": {},
     "outputs": []
    }
   ],
   "metadata": {}
  }
 ]
}