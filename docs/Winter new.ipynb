{
 "metadata": {
  "name": "",
  "signature": "sha256:108dc7d960112ef0b5a0d36d7bdf77b68129f05b5145259ccd46b26ab95f4c1a"
 },
 "nbformat": 3,
 "nbformat_minor": 0,
 "worksheets": [
  {
   "cells": [
    {
     "cell_type": "code",
     "collapsed": false,
     "input": [
      "import numpy as np\n",
      "import pandas as pd\n",
      "from numpy import *\n",
      "from pandas import *\n",
      "import matplotlib\n",
      "import os\n",
      "import os.path\n",
      "from os import *\n",
      "from os.path import *\n",
      "import matplotlib.pyplot as plt\n",
      "from itertools import chain\n",
      "from sklearn import svm, datasets, metrics\n",
      "\n",
      "%matplotlib inline"
     ],
     "language": "python",
     "metadata": {},
     "outputs": [],
     "prompt_number": 1
    },
    {
     "cell_type": "markdown",
     "metadata": {},
     "source": [
      "Ground Truth Values\n",
      "---------------------"
     ]
    },
    {
     "cell_type": "code",
     "collapsed": false,
     "input": [
      "df = pd.read_csv('/Users/rishi/Documents/Master_folder/IIITD/6th_semester/BTP/NIOMTK/02_occupancy_csv/02_winter.csv')"
     ],
     "language": "python",
     "metadata": {},
     "outputs": [],
     "prompt_number": 2
    },
    {
     "cell_type": "code",
     "collapsed": false,
     "input": [
      "df.head()"
     ],
     "language": "python",
     "metadata": {},
     "outputs": [
      {
       "html": [
        "<div style=\"max-height:1000px;max-width:1500px;overflow:auto;\">\n",
        "<table border=\"1\" class=\"dataframe\">\n",
        "  <thead>\n",
        "    <tr style=\"text-align: right;\">\n",
        "      <th></th>\n",
        "      <th>Unnamed: 0</th>\n",
        "      <th>'00:00:00'</th>\n",
        "      <th>'00:00:01'</th>\n",
        "      <th>'00:00:02'</th>\n",
        "      <th>'00:00:03'</th>\n",
        "      <th>'00:00:04'</th>\n",
        "      <th>'00:00:05'</th>\n",
        "      <th>'00:00:06'</th>\n",
        "      <th>'00:00:07'</th>\n",
        "      <th>'00:00:08'</th>\n",
        "      <th>...</th>\n",
        "      <th>'23:59:50'</th>\n",
        "      <th>'23:59:51'</th>\n",
        "      <th>'23:59:52'</th>\n",
        "      <th>'23:59:53'</th>\n",
        "      <th>'23:59:54'</th>\n",
        "      <th>'23:59:55'</th>\n",
        "      <th>'23:59:56'</th>\n",
        "      <th>'23:59:57'</th>\n",
        "      <th>'23:59:58'</th>\n",
        "      <th>'23:59:59'</th>\n",
        "    </tr>\n",
        "  </thead>\n",
        "  <tbody>\n",
        "    <tr>\n",
        "      <th>0</th>\n",
        "      <td> 30-Nov-2012</td>\n",
        "      <td> 1</td>\n",
        "      <td> 1</td>\n",
        "      <td> 1</td>\n",
        "      <td> 1</td>\n",
        "      <td> 1</td>\n",
        "      <td> 1</td>\n",
        "      <td> 1</td>\n",
        "      <td> 1</td>\n",
        "      <td> 1</td>\n",
        "      <td>...</td>\n",
        "      <td> 1</td>\n",
        "      <td> 1</td>\n",
        "      <td> 1</td>\n",
        "      <td> 1</td>\n",
        "      <td> 1</td>\n",
        "      <td> 1</td>\n",
        "      <td> 1</td>\n",
        "      <td> 1</td>\n",
        "      <td> 1</td>\n",
        "      <td> 1</td>\n",
        "    </tr>\n",
        "    <tr>\n",
        "      <th>1</th>\n",
        "      <td> 01-Dec-2012</td>\n",
        "      <td> 1</td>\n",
        "      <td> 1</td>\n",
        "      <td> 1</td>\n",
        "      <td> 1</td>\n",
        "      <td> 1</td>\n",
        "      <td> 1</td>\n",
        "      <td> 1</td>\n",
        "      <td> 1</td>\n",
        "      <td> 1</td>\n",
        "      <td>...</td>\n",
        "      <td> 1</td>\n",
        "      <td> 1</td>\n",
        "      <td> 1</td>\n",
        "      <td> 1</td>\n",
        "      <td> 1</td>\n",
        "      <td> 1</td>\n",
        "      <td> 1</td>\n",
        "      <td> 1</td>\n",
        "      <td> 1</td>\n",
        "      <td> 1</td>\n",
        "    </tr>\n",
        "    <tr>\n",
        "      <th>2</th>\n",
        "      <td> 02-Dec-2012</td>\n",
        "      <td> 1</td>\n",
        "      <td> 1</td>\n",
        "      <td> 1</td>\n",
        "      <td> 1</td>\n",
        "      <td> 1</td>\n",
        "      <td> 1</td>\n",
        "      <td> 1</td>\n",
        "      <td> 1</td>\n",
        "      <td> 1</td>\n",
        "      <td>...</td>\n",
        "      <td> 1</td>\n",
        "      <td> 1</td>\n",
        "      <td> 1</td>\n",
        "      <td> 1</td>\n",
        "      <td> 1</td>\n",
        "      <td> 1</td>\n",
        "      <td> 1</td>\n",
        "      <td> 1</td>\n",
        "      <td> 1</td>\n",
        "      <td> 1</td>\n",
        "    </tr>\n",
        "    <tr>\n",
        "      <th>3</th>\n",
        "      <td> 03-Dec-2012</td>\n",
        "      <td> 1</td>\n",
        "      <td> 1</td>\n",
        "      <td> 1</td>\n",
        "      <td> 1</td>\n",
        "      <td> 1</td>\n",
        "      <td> 1</td>\n",
        "      <td> 1</td>\n",
        "      <td> 1</td>\n",
        "      <td> 1</td>\n",
        "      <td>...</td>\n",
        "      <td> 1</td>\n",
        "      <td> 1</td>\n",
        "      <td> 1</td>\n",
        "      <td> 1</td>\n",
        "      <td> 1</td>\n",
        "      <td> 1</td>\n",
        "      <td> 1</td>\n",
        "      <td> 1</td>\n",
        "      <td> 1</td>\n",
        "      <td> 1</td>\n",
        "    </tr>\n",
        "    <tr>\n",
        "      <th>4</th>\n",
        "      <td> 04-Dec-2012</td>\n",
        "      <td> 1</td>\n",
        "      <td> 1</td>\n",
        "      <td> 1</td>\n",
        "      <td> 1</td>\n",
        "      <td> 1</td>\n",
        "      <td> 1</td>\n",
        "      <td> 1</td>\n",
        "      <td> 1</td>\n",
        "      <td> 1</td>\n",
        "      <td>...</td>\n",
        "      <td> 1</td>\n",
        "      <td> 1</td>\n",
        "      <td> 1</td>\n",
        "      <td> 1</td>\n",
        "      <td> 1</td>\n",
        "      <td> 1</td>\n",
        "      <td> 1</td>\n",
        "      <td> 1</td>\n",
        "      <td> 1</td>\n",
        "      <td> 1</td>\n",
        "    </tr>\n",
        "  </tbody>\n",
        "</table>\n",
        "<p>5 rows \u00d7 86401 columns</p>\n",
        "</div>"
       ],
       "metadata": {},
       "output_type": "pyout",
       "prompt_number": 3,
       "text": [
        "    Unnamed: 0  '00:00:00'  '00:00:01'  '00:00:02'  '00:00:03'  '00:00:04'  \\\n",
        "0  30-Nov-2012           1           1           1           1           1   \n",
        "1  01-Dec-2012           1           1           1           1           1   \n",
        "2  02-Dec-2012           1           1           1           1           1   \n",
        "3  03-Dec-2012           1           1           1           1           1   \n",
        "4  04-Dec-2012           1           1           1           1           1   \n",
        "\n",
        "   '00:00:05'  '00:00:06'  '00:00:07'  '00:00:08'     ...      '23:59:50'  \\\n",
        "0           1           1           1           1     ...               1   \n",
        "1           1           1           1           1     ...               1   \n",
        "2           1           1           1           1     ...               1   \n",
        "3           1           1           1           1     ...               1   \n",
        "4           1           1           1           1     ...               1   \n",
        "\n",
        "   '23:59:51'  '23:59:52'  '23:59:53'  '23:59:54'  '23:59:55'  '23:59:56'  \\\n",
        "0           1           1           1           1           1           1   \n",
        "1           1           1           1           1           1           1   \n",
        "2           1           1           1           1           1           1   \n",
        "3           1           1           1           1           1           1   \n",
        "4           1           1           1           1           1           1   \n",
        "\n",
        "   '23:59:57'  '23:59:58'  '23:59:59'  \n",
        "0           1           1           1  \n",
        "1           1           1           1  \n",
        "2           1           1           1  \n",
        "3           1           1           1  \n",
        "4           1           1           1  \n",
        "\n",
        "[5 rows x 86401 columns]"
       ]
      }
     ],
     "prompt_number": 3
    },
    {
     "cell_type": "code",
     "collapsed": false,
     "input": [
      "df.tail()"
     ],
     "language": "python",
     "metadata": {},
     "outputs": [
      {
       "html": [
        "<div style=\"max-height:1000px;max-width:1500px;overflow:auto;\">\n",
        "<table border=\"1\" class=\"dataframe\">\n",
        "  <thead>\n",
        "    <tr style=\"text-align: right;\">\n",
        "      <th></th>\n",
        "      <th>Unnamed: 0</th>\n",
        "      <th>'00:00:00'</th>\n",
        "      <th>'00:00:01'</th>\n",
        "      <th>'00:00:02'</th>\n",
        "      <th>'00:00:03'</th>\n",
        "      <th>'00:00:04'</th>\n",
        "      <th>'00:00:05'</th>\n",
        "      <th>'00:00:06'</th>\n",
        "      <th>'00:00:07'</th>\n",
        "      <th>'00:00:08'</th>\n",
        "      <th>...</th>\n",
        "      <th>'23:59:50'</th>\n",
        "      <th>'23:59:51'</th>\n",
        "      <th>'23:59:52'</th>\n",
        "      <th>'23:59:53'</th>\n",
        "      <th>'23:59:54'</th>\n",
        "      <th>'23:59:55'</th>\n",
        "      <th>'23:59:56'</th>\n",
        "      <th>'23:59:57'</th>\n",
        "      <th>'23:59:58'</th>\n",
        "      <th>'23:59:59'</th>\n",
        "    </tr>\n",
        "  </thead>\n",
        "  <tbody>\n",
        "    <tr>\n",
        "      <th>40</th>\n",
        "      <td> 11-Jan-2013</td>\n",
        "      <td> 1</td>\n",
        "      <td> 1</td>\n",
        "      <td> 1</td>\n",
        "      <td> 1</td>\n",
        "      <td> 1</td>\n",
        "      <td> 1</td>\n",
        "      <td> 1</td>\n",
        "      <td> 1</td>\n",
        "      <td> 1</td>\n",
        "      <td>...</td>\n",
        "      <td> 1</td>\n",
        "      <td> 1</td>\n",
        "      <td> 1</td>\n",
        "      <td> 1</td>\n",
        "      <td> 1</td>\n",
        "      <td> 1</td>\n",
        "      <td> 1</td>\n",
        "      <td> 1</td>\n",
        "      <td> 1</td>\n",
        "      <td> 1</td>\n",
        "    </tr>\n",
        "    <tr>\n",
        "      <th>41</th>\n",
        "      <td> 12-Jan-2013</td>\n",
        "      <td> 1</td>\n",
        "      <td> 1</td>\n",
        "      <td> 1</td>\n",
        "      <td> 1</td>\n",
        "      <td> 1</td>\n",
        "      <td> 1</td>\n",
        "      <td> 1</td>\n",
        "      <td> 1</td>\n",
        "      <td> 1</td>\n",
        "      <td>...</td>\n",
        "      <td> 1</td>\n",
        "      <td> 1</td>\n",
        "      <td> 1</td>\n",
        "      <td> 1</td>\n",
        "      <td> 1</td>\n",
        "      <td> 1</td>\n",
        "      <td> 1</td>\n",
        "      <td> 1</td>\n",
        "      <td> 1</td>\n",
        "      <td> 1</td>\n",
        "    </tr>\n",
        "    <tr>\n",
        "      <th>42</th>\n",
        "      <td> 13-Jan-2013</td>\n",
        "      <td> 1</td>\n",
        "      <td> 1</td>\n",
        "      <td> 1</td>\n",
        "      <td> 1</td>\n",
        "      <td> 1</td>\n",
        "      <td> 1</td>\n",
        "      <td> 1</td>\n",
        "      <td> 1</td>\n",
        "      <td> 1</td>\n",
        "      <td>...</td>\n",
        "      <td> 1</td>\n",
        "      <td> 1</td>\n",
        "      <td> 1</td>\n",
        "      <td> 1</td>\n",
        "      <td> 1</td>\n",
        "      <td> 1</td>\n",
        "      <td> 1</td>\n",
        "      <td> 1</td>\n",
        "      <td> 1</td>\n",
        "      <td> 1</td>\n",
        "    </tr>\n",
        "    <tr>\n",
        "      <th>43</th>\n",
        "      <td> 14-Jan-2013</td>\n",
        "      <td> 1</td>\n",
        "      <td> 1</td>\n",
        "      <td> 1</td>\n",
        "      <td> 1</td>\n",
        "      <td> 1</td>\n",
        "      <td> 1</td>\n",
        "      <td> 1</td>\n",
        "      <td> 1</td>\n",
        "      <td> 1</td>\n",
        "      <td>...</td>\n",
        "      <td> 1</td>\n",
        "      <td> 1</td>\n",
        "      <td> 1</td>\n",
        "      <td> 1</td>\n",
        "      <td> 1</td>\n",
        "      <td> 1</td>\n",
        "      <td> 1</td>\n",
        "      <td> 1</td>\n",
        "      <td> 1</td>\n",
        "      <td> 1</td>\n",
        "    </tr>\n",
        "    <tr>\n",
        "      <th>44</th>\n",
        "      <td> 15-Jan-2013</td>\n",
        "      <td> 1</td>\n",
        "      <td> 1</td>\n",
        "      <td> 1</td>\n",
        "      <td> 1</td>\n",
        "      <td> 1</td>\n",
        "      <td> 1</td>\n",
        "      <td> 1</td>\n",
        "      <td> 1</td>\n",
        "      <td> 1</td>\n",
        "      <td>...</td>\n",
        "      <td> 1</td>\n",
        "      <td> 1</td>\n",
        "      <td> 1</td>\n",
        "      <td> 1</td>\n",
        "      <td> 1</td>\n",
        "      <td> 1</td>\n",
        "      <td> 1</td>\n",
        "      <td> 1</td>\n",
        "      <td> 1</td>\n",
        "      <td> 1</td>\n",
        "    </tr>\n",
        "  </tbody>\n",
        "</table>\n",
        "<p>5 rows \u00d7 86401 columns</p>\n",
        "</div>"
       ],
       "metadata": {},
       "output_type": "pyout",
       "prompt_number": 4,
       "text": [
        "     Unnamed: 0  '00:00:00'  '00:00:01'  '00:00:02'  '00:00:03'  '00:00:04'  \\\n",
        "40  11-Jan-2013           1           1           1           1           1   \n",
        "41  12-Jan-2013           1           1           1           1           1   \n",
        "42  13-Jan-2013           1           1           1           1           1   \n",
        "43  14-Jan-2013           1           1           1           1           1   \n",
        "44  15-Jan-2013           1           1           1           1           1   \n",
        "\n",
        "    '00:00:05'  '00:00:06'  '00:00:07'  '00:00:08'     ...      '23:59:50'  \\\n",
        "40           1           1           1           1     ...               1   \n",
        "41           1           1           1           1     ...               1   \n",
        "42           1           1           1           1     ...               1   \n",
        "43           1           1           1           1     ...               1   \n",
        "44           1           1           1           1     ...               1   \n",
        "\n",
        "    '23:59:51'  '23:59:52'  '23:59:53'  '23:59:54'  '23:59:55'  '23:59:56'  \\\n",
        "40           1           1           1           1           1           1   \n",
        "41           1           1           1           1           1           1   \n",
        "42           1           1           1           1           1           1   \n",
        "43           1           1           1           1           1           1   \n",
        "44           1           1           1           1           1           1   \n",
        "\n",
        "    '23:59:57'  '23:59:58'  '23:59:59'  \n",
        "40           1           1           1  \n",
        "41           1           1           1  \n",
        "42           1           1           1  \n",
        "43           1           1           1  \n",
        "44           1           1           1  \n",
        "\n",
        "[5 rows x 86401 columns]"
       ]
      }
     ],
     "prompt_number": 4
    },
    {
     "cell_type": "code",
     "collapsed": false,
     "input": [
      "index = pd.DatetimeIndex(start = '30-11-2012', periods = 45*86400, freq = '1s')"
     ],
     "language": "python",
     "metadata": {},
     "outputs": [],
     "prompt_number": 5
    },
    {
     "cell_type": "code",
     "collapsed": false,
     "input": [],
     "language": "python",
     "metadata": {},
     "outputs": [],
     "prompt_number": 5
    },
    {
     "cell_type": "code",
     "collapsed": false,
     "input": [
      "index"
     ],
     "language": "python",
     "metadata": {},
     "outputs": [
      {
       "metadata": {},
       "output_type": "pyout",
       "prompt_number": 6,
       "text": [
        "<class 'pandas.tseries.index.DatetimeIndex'>\n",
        "[2012-11-30 00:00:00, ..., 2013-01-13 23:59:59]\n",
        "Length: 3888000, Freq: S, Timezone: None"
       ]
      }
     ],
     "prompt_number": 6
    },
    {
     "cell_type": "code",
     "collapsed": false,
     "input": [
      "out = []\n",
      "for i in range(len(df)):\n",
      "    out.append(df.ix[i].values[1:])\n",
      "out_1d = list(chain.from_iterable(out))"
     ],
     "language": "python",
     "metadata": {},
     "outputs": [],
     "prompt_number": 7
    },
    {
     "cell_type": "code",
     "collapsed": true,
     "input": [
      "out_1d[:5]"
     ],
     "language": "python",
     "metadata": {},
     "outputs": [
      {
       "metadata": {},
       "output_type": "pyout",
       "prompt_number": 8,
       "text": [
        "[1, 1, 1, 1, 1]"
       ]
      }
     ],
     "prompt_number": 8
    },
    {
     "cell_type": "code",
     "collapsed": false,
     "input": [
      "len(out_1d)"
     ],
     "language": "python",
     "metadata": {},
     "outputs": [
      {
       "metadata": {},
       "output_type": "pyout",
       "prompt_number": 9,
       "text": [
        "3888000"
       ]
      }
     ],
     "prompt_number": 9
    },
    {
     "cell_type": "code",
     "collapsed": false,
     "input": [
      "df_new = pd.Series(out_1d, index = index)"
     ],
     "language": "python",
     "metadata": {},
     "outputs": [],
     "prompt_number": 10
    },
    {
     "cell_type": "code",
     "collapsed": false,
     "input": [
      "df_new.head()"
     ],
     "language": "python",
     "metadata": {},
     "outputs": [
      {
       "metadata": {},
       "output_type": "pyout",
       "prompt_number": 11,
       "text": [
        "2012-11-30 00:00:00    1\n",
        "2012-11-30 00:00:01    1\n",
        "2012-11-30 00:00:02    1\n",
        "2012-11-30 00:00:03    1\n",
        "2012-11-30 00:00:04    1\n",
        "Freq: S, dtype: int64"
       ]
      }
     ],
     "prompt_number": 11
    },
    {
     "cell_type": "code",
     "collapsed": false,
     "input": [
      "df_new.tail()"
     ],
     "language": "python",
     "metadata": {},
     "outputs": [
      {
       "metadata": {},
       "output_type": "pyout",
       "prompt_number": 12,
       "text": [
        "2013-01-13 23:59:55    1\n",
        "2013-01-13 23:59:56    1\n",
        "2013-01-13 23:59:57    1\n",
        "2013-01-13 23:59:58    1\n",
        "2013-01-13 23:59:59    1\n",
        "Freq: S, dtype: int64"
       ]
      }
     ],
     "prompt_number": 12
    },
    {
     "cell_type": "code",
     "collapsed": false,
     "input": [
      "df_resampled = df_new.resample(\"15min\")"
     ],
     "language": "python",
     "metadata": {},
     "outputs": [],
     "prompt_number": 13
    },
    {
     "cell_type": "code",
     "collapsed": false,
     "input": [
      "df_resampled.plot(kind = 'hist')"
     ],
     "language": "python",
     "metadata": {},
     "outputs": [
      {
       "metadata": {},
       "output_type": "pyout",
       "prompt_number": 14,
       "text": [
        "<matplotlib.axes._subplots.AxesSubplot at 0x10b56c3d0>"
       ]
      },
      {
       "metadata": {},
       "output_type": "display_data",
       "png": "[encoded data removed]",
       "text": [
        "<matplotlib.figure.Figure at 0x109e24cd0>"
       ]
      }
     ],
     "prompt_number": 14
    },
    {
     "cell_type": "code",
     "collapsed": false,
     "input": [
      "df_resampled = df_resampled['2012-11-30':]"
     ],
     "language": "python",
     "metadata": {},
     "outputs": [],
     "prompt_number": 15
    },
    {
     "cell_type": "code",
     "collapsed": false,
     "input": [
      "df_resampled.head()"
     ],
     "language": "python",
     "metadata": {},
     "outputs": [
      {
       "metadata": {},
       "output_type": "pyout",
       "prompt_number": 16,
       "text": [
        "2012-11-30 00:00:00    1\n",
        "2012-11-30 00:15:00    1\n",
        "2012-11-30 00:30:00    1\n",
        "2012-11-30 00:45:00    1\n",
        "2012-11-30 01:00:00    1\n",
        "Freq: 15T, dtype: float64"
       ]
      }
     ],
     "prompt_number": 16
    },
    {
     "cell_type": "code",
     "collapsed": false,
     "input": [
      "df_resampled.tail()"
     ],
     "language": "python",
     "metadata": {},
     "outputs": [
      {
       "metadata": {},
       "output_type": "pyout",
       "prompt_number": 17,
       "text": [
        "2013-01-13 22:45:00    1\n",
        "2013-01-13 23:00:00    1\n",
        "2013-01-13 23:15:00    1\n",
        "2013-01-13 23:30:00    1\n",
        "2013-01-13 23:45:00    1\n",
        "Freq: 15T, dtype: float64"
       ]
      }
     ],
     "prompt_number": 17
    },
    {
     "cell_type": "markdown",
     "metadata": {},
     "source": [
      "The ground truth values are now stored in a variable called df_resampled."
     ]
    },
    {
     "cell_type": "markdown",
     "metadata": {},
     "source": [
      "\n",
      "\n",
      "Implementing the Support Vector Machine\n",
      "---------------"
     ]
    },
    {
     "cell_type": "code",
     "collapsed": false,
     "input": [
      "dir_path='/Users/rishi/Documents/Master_folder/IIITD/6th_semester/BTP/NIOMTK_datasets'\n",
      "store=HDFStore(join(dir_path, 'eco.h5'))\n",
      "df=store['/building2/elec/meter2']"
     ],
     "language": "python",
     "metadata": {},
     "outputs": [],
     "prompt_number": 39
    },
    {
     "cell_type": "code",
     "collapsed": false,
     "input": [
      "dataframe = df['power']['active']['2012-11-30':'2013-01-13'].resample('15min')"
     ],
     "language": "python",
     "metadata": {},
     "outputs": [],
     "prompt_number": 19
    },
    {
     "cell_type": "code",
     "collapsed": false,
     "input": [
      "len(dataframe.values)"
     ],
     "language": "python",
     "metadata": {},
     "outputs": [
      {
       "metadata": {},
       "output_type": "pyout",
       "prompt_number": 20,
       "text": [
        "4320"
       ]
      }
     ],
     "prompt_number": 20
    },
    {
     "cell_type": "code",
     "collapsed": false,
     "input": [
      "len(df_resampled.values)"
     ],
     "language": "python",
     "metadata": {},
     "outputs": [
      {
       "metadata": {},
       "output_type": "pyout",
       "prompt_number": 21,
       "text": [
        "4320"
       ]
      }
     ],
     "prompt_number": 21
    },
    {
     "cell_type": "code",
     "collapsed": false,
     "input": [
      "lis = []\n",
      "for i in dataframe.values[:7968]:\n",
      "    if np.isnan(i) == False:\n",
      "        lis.append([i])\n",
      "    else:\n",
      "        lis.append([0])\n",
      "array = np.asarray(lis)\n",
      "print (array)"
     ],
     "language": "python",
     "metadata": {},
     "outputs": [
      {
       "output_type": "stream",
       "stream": "stdout",
       "text": [
        "[[ 231.40939331]\n",
        " [ 231.09788513]\n",
        " [ 231.16159058]\n",
        " ..., \n",
        " [ 229.68772888]\n",
        " [ 230.04670715]\n",
        " [ 263.51947021]]\n"
       ]
      }
     ],
     "prompt_number": 22
    },
    {
     "cell_type": "code",
     "collapsed": false,
     "input": [
      "print (array)"
     ],
     "language": "python",
     "metadata": {},
     "outputs": [
      {
       "output_type": "stream",
       "stream": "stdout",
       "text": [
        "[[ 231.40939331]\n",
        " [ 231.09788513]\n",
        " [ 231.16159058]\n",
        " ..., \n",
        " [ 229.68772888]\n",
        " [ 230.04670715]\n",
        " [ 263.51947021]]\n"
       ]
      }
     ],
     "prompt_number": 23
    },
    {
     "cell_type": "code",
     "collapsed": false,
     "input": [
      "print (df_resampled.values)"
     ],
     "language": "python",
     "metadata": {},
     "outputs": [
      {
       "output_type": "stream",
       "stream": "stdout",
       "text": [
        "[ 1.  1.  1. ...,  1.  1.  1.]\n"
       ]
      }
     ],
     "prompt_number": 24
    },
    {
     "cell_type": "code",
     "collapsed": false,
     "input": [
      "classifier = svm.SVC().fit(array, df_resampled.values)"
     ],
     "language": "python",
     "metadata": {},
     "outputs": [],
     "prompt_number": 25
    },
    {
     "cell_type": "code",
     "collapsed": false,
     "input": [
      "prediction = classifier.predict(array)"
     ],
     "language": "python",
     "metadata": {},
     "outputs": [],
     "prompt_number": 26
    },
    {
     "cell_type": "code",
     "collapsed": false,
     "input": [
      "arr1 = np.asarray([int(i) for i in prediction])\n",
      "arr2 = np.asarray([int(i) for i in df_resampled.values])\n",
      "\n",
      "print (metrics.classification_report(arr1, arr2))"
     ],
     "language": "python",
     "metadata": {},
     "outputs": [
      {
       "output_type": "stream",
       "stream": "stdout",
       "text": [
        "             precision    recall  f1-score   support\n",
        "\n",
        "          0       0.04      0.94      0.07        51\n",
        "          1       1.00      0.71      0.83      4269\n",
        "\n",
        "avg / total       0.99      0.71      0.82      4320\n",
        "\n"
       ]
      }
     ],
     "prompt_number": 27
    },
    {
     "cell_type": "code",
     "collapsed": false,
     "input": [
      "import matplotlib.pyplot as plt\n",
      "plt.scatter(arr1, arr2)\n",
      "plt.show()"
     ],
     "language": "python",
     "metadata": {},
     "outputs": [
      {
       "metadata": {},
       "output_type": "display_data",
       "png": "[encoded data removed]",
       "text": [
        "<matplotlib.figure.Figure at 0x1114eab50>"
       ]
      }
     ],
     "prompt_number": 28
    },
    {
     "cell_type": "code",
     "collapsed": false,
     "input": [
      "dataframe.head()"
     ],
     "language": "python",
     "metadata": {},
     "outputs": [
      {
       "metadata": {},
       "output_type": "pyout",
       "prompt_number": 29,
       "text": [
        "2012-11-30 00:00:00+01:00    231.409393\n",
        "2012-11-30 00:15:00+01:00    231.097885\n",
        "2012-11-30 00:30:00+01:00    231.161591\n",
        "2012-11-30 00:45:00+01:00    231.036926\n",
        "2012-11-30 01:00:00+01:00     24.860975\n",
        "Freq: 15T, Name: active, dtype: float32"
       ]
      }
     ],
     "prompt_number": 29
    },
    {
     "cell_type": "code",
     "collapsed": false,
     "input": [
      "df_resampled.head()"
     ],
     "language": "python",
     "metadata": {},
     "outputs": [
      {
       "metadata": {},
       "output_type": "pyout",
       "prompt_number": 30,
       "text": [
        "2012-11-30 00:00:00    1\n",
        "2012-11-30 00:15:00    1\n",
        "2012-11-30 00:30:00    1\n",
        "2012-11-30 00:45:00    1\n",
        "2012-11-30 01:00:00    1\n",
        "Freq: 15T, dtype: float64"
       ]
      }
     ],
     "prompt_number": 30
    },
    {
     "cell_type": "code",
     "collapsed": false,
     "input": [
      "df_resampled.index"
     ],
     "language": "python",
     "metadata": {},
     "outputs": [
      {
       "metadata": {},
       "output_type": "pyout",
       "prompt_number": 31,
       "text": [
        "<class 'pandas.tseries.index.DatetimeIndex'>\n",
        "[2012-11-30 00:00:00, ..., 2013-01-13 23:45:00]\n",
        "Length: 4320, Freq: 15T, Timezone: None"
       ]
      }
     ],
     "prompt_number": 31
    },
    {
     "cell_type": "code",
     "collapsed": false,
     "input": [
      "df_resampled.index[4320/2]"
     ],
     "language": "python",
     "metadata": {},
     "outputs": [
      {
       "metadata": {},
       "output_type": "pyout",
       "prompt_number": 32,
       "text": [
        "Timestamp('2012-12-22 12:00:00', offset='15T')"
       ]
      }
     ],
     "prompt_number": 32
    },
    {
     "cell_type": "code",
     "collapsed": false,
     "input": [
      "df_resampled_train = df_resampled[:'2012-12-22 12:00:00']"
     ],
     "language": "python",
     "metadata": {},
     "outputs": [],
     "prompt_number": 33
    },
    {
     "cell_type": "code",
     "collapsed": false,
     "input": [
      "dataframe_train = dataframe[:'2012-12-22 12:00:00']"
     ],
     "language": "python",
     "metadata": {},
     "outputs": [],
     "prompt_number": 34
    },
    {
     "cell_type": "code",
     "collapsed": false,
     "input": [
      "dataframe_train = dataframe.head(2160)"
     ],
     "language": "python",
     "metadata": {},
     "outputs": [],
     "prompt_number": 35
    },
    {
     "cell_type": "code",
     "collapsed": false,
     "input": [
      "len(dataframe_train)"
     ],
     "language": "python",
     "metadata": {},
     "outputs": [
      {
       "metadata": {},
       "output_type": "pyout",
       "prompt_number": 36,
       "text": [
        "2160"
       ]
      }
     ],
     "prompt_number": 36
    },
    {
     "cell_type": "code",
     "collapsed": false,
     "input": [
      "len(df_resampled_train)"
     ],
     "language": "python",
     "metadata": {},
     "outputs": [
      {
       "metadata": {},
       "output_type": "pyout",
       "prompt_number": 37,
       "text": [
        "2161"
       ]
      }
     ],
     "prompt_number": 37
    },
    {
     "cell_type": "code",
     "collapsed": false,
     "input": [
      "lis = []\n",
      "for i in dataframe_train:\n",
      "    if np.isnan(i) == False:\n",
      "        lis.append([i])\n",
      "    else:\n",
      "        lis.append([0])\n",
      "array = np.asarray(lis)\n",
      "print (array)"
     ],
     "language": "python",
     "metadata": {},
     "outputs": [
      {
       "output_type": "stream",
       "stream": "stdout",
       "text": [
        "[[ 231.40939331]\n",
        " [ 231.09788513]\n",
        " [ 231.16159058]\n",
        " ..., \n",
        " [ 131.45773315]\n",
        " [  78.55645752]\n",
        " [  75.18313599]]\n"
       ]
      }
     ],
     "prompt_number": 38
    },
    {
     "cell_type": "code",
     "collapsed": false,
     "input": [],
     "language": "python",
     "metadata": {},
     "outputs": [
      {
       "output_type": "stream",
       "stream": "stdout",
       "text": [
        "[[ 21.15791893]\n",
        " [ 21.15948486]\n",
        " [ 21.19428825]\n",
        " ..., \n",
        " [ 21.65460205]\n",
        " [ 21.66838837]\n",
        " [ 21.6393013 ]]\n"
       ]
      }
     ],
     "prompt_number": 75
    },
    {
     "cell_type": "code",
     "collapsed": false,
     "input": [
      "classifier = svm.SVC().fit(array, df_resampled_train.values[:2160])"
     ],
     "language": "python",
     "metadata": {},
     "outputs": [],
     "prompt_number": 42
    },
    {
     "cell_type": "code",
     "collapsed": false,
     "input": [
      "dataframe_test = dataframe.tail(2160)"
     ],
     "language": "python",
     "metadata": {},
     "outputs": [],
     "prompt_number": 43
    },
    {
     "cell_type": "code",
     "collapsed": false,
     "input": [
      "df_resampled_test = df_resampled.tail(2160)"
     ],
     "language": "python",
     "metadata": {},
     "outputs": [],
     "prompt_number": 44
    },
    {
     "cell_type": "code",
     "collapsed": false,
     "input": [
      "lis = []\n",
      "for i in dataframe_test:\n",
      "    if np.isnan(i) == False:\n",
      "        lis.append([i])\n",
      "    else:\n",
      "        lis.append([0])\n",
      "array_test = np.asarray(lis)\n",
      "print (array_test)"
     ],
     "language": "python",
     "metadata": {},
     "outputs": [
      {
       "output_type": "stream",
       "stream": "stdout",
       "text": [
        "[[  75.05242157]\n",
        " [  75.09697723]\n",
        " [  74.89871216]\n",
        " ..., \n",
        " [ 229.68772888]\n",
        " [ 230.04670715]\n",
        " [ 263.51947021]]\n"
       ]
      }
     ],
     "prompt_number": 45
    },
    {
     "cell_type": "code",
     "collapsed": false,
     "input": [
      "prediction = classifier.predict(array_test)"
     ],
     "language": "python",
     "metadata": {},
     "outputs": [],
     "prompt_number": 46
    },
    {
     "cell_type": "code",
     "collapsed": false,
     "input": [
      "arr1 = np.asarray([int(i) for i in prediction])\n",
      "arr2 = np.asarray([int(i) for i in df_resampled_test.values])\n",
      "\n",
      "print (metrics.classification_report(arr1, arr2))"
     ],
     "language": "python",
     "metadata": {},
     "outputs": [
      {
       "output_type": "stream",
       "stream": "stdout",
       "text": [
        "             precision    recall  f1-score   support\n",
        "\n",
        "          0       0.01      0.50      0.01        10\n",
        "          1       1.00      0.69      0.81      2150\n",
        "\n",
        "avg / total       0.99      0.69      0.81      2160\n",
        "\n"
       ]
      }
     ],
     "prompt_number": 47
    },
    {
     "cell_type": "code",
     "collapsed": false,
     "input": [
      "count = 0\n",
      "for i  in range(len(arr1)):\n",
      "    if arr1[i] == arr2[i]:\n",
      "        count+=1.0\n",
      "print (count/len(arr1) )"
     ],
     "language": "python",
     "metadata": {},
     "outputs": [
      {
       "output_type": "stream",
       "stream": "stdout",
       "text": [
        "0.688425925926\n"
       ]
      }
     ],
     "prompt_number": 48
    },
    {
     "cell_type": "code",
     "collapsed": false,
     "input": [],
     "language": "python",
     "metadata": {},
     "outputs": []
    }
   ],
   "metadata": {}
  }
 ]
}