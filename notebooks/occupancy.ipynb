{
 "cells": [
  {
   "cell_type": "code",
   "execution_count": 35,
   "metadata": {
    "collapsed": false
   },
   "outputs": [],
   "source": [
    "from os import *\n",
    "from os.path import *\n",
    "from itertools import chain\n",
    "import os\n",
    "from sklearn import tree\n",
    "import pandas as pd\n",
    "from numpy import *\n",
    "from pandas import *\n",
    "from sklearn import svm\n",
    "from sklearn.neighbors import KNeighborsClassifier\n",
    "import pytz\n",
    "import matplotlib.pyplot as plt\n",
    "from sklearn.cross_validation import train_test_split\n",
    "from sklearn.metrics import *\n",
    "from sklearn.ensemble import RandomForestClassifier\n",
    "import itertools\n",
    "import numpy as np\n",
    "np.random.seed(42)\n",
    "\n",
    "geyser_power = 2200\n",
    "fridge_power = 150\n",
    "results_dic = {}\n",
    "\n",
    "classifiers_dict = {\"SVM\": svm.SVC(), \"KNN\": KNeighborsClassifier(n_neighbors=3),\n",
    "                    \"DT\": tree.DecisionTreeClassifier(),\"RF\":RandomForestClassifier()}\n",
    "\n",
    "\n",
    "\n",
    "df_power= pd.read_csv(\"/Users/nipunbatra/git/energylensplus-offline/energylenserver/data/meter/103/PowerMeter.csv\", index_col=0)\n",
    "df_light= pd.read_csv(\"/Users/nipunbatra/git/energylensplus-offline/energylenserver/data/meter/103/LightMeter.csv\", index_col=0)\n",
    "\n",
    "df_power.index = pd.to_datetime(df_power.index, unit='s')\n",
    "df_power_copy = df_power.copy()\n",
    "df_power = df_power.resample(\"1T\")\n",
    "\n",
    "df_light.index = pd.to_datetime(df_light.index, unit='s')\n",
    "df_light_copy = df_light.copy()\n",
    "df_light = df_light.resample(\"1T\")\n",
    "\n",
    "\n",
    "df = df_power+df_light\n",
    "df = df[\"2015-02-06\"]"
   ]
  },
  {
   "cell_type": "code",
   "execution_count": 36,
   "metadata": {
    "collapsed": true
   },
   "outputs": [],
   "source": [
    "d = pd.read_csv(\"/Users/nipunbatra/git/energylensplus-offline/ground_truth/103_353325066658901_presencelog.csv\", index_col=0)\n",
    "d.index = pd.to_datetime(d.index, unit='s')\n",
    "d['location']=1\n",
    "d = d.resample('1T')\n",
    "d=d.fillna(0)\n",
    "df[\"occupancy\"]=d"
   ]
  },
  {
   "cell_type": "code",
   "execution_count": 37,
   "metadata": {
    "collapsed": true
   },
   "outputs": [],
   "source": [
    "df = df.between_time(\"06:00\", \"22:00\").copy()"
   ]
  },
  {
   "cell_type": "code",
   "execution_count": 38,
   "metadata": {
    "collapsed": true
   },
   "outputs": [],
   "source": [
    "from nilmtk.feature_detectors.steady_states import find_steady_states, find_steady_states_transients\n",
    "from nilmtk.disaggregate.hart_85 import Hart85\n",
    "h = Hart85()"
   ]
  },
  {
   "cell_type": "code",
   "execution_count": 39,
   "metadata": {
    "collapsed": true
   },
   "outputs": [],
   "source": [
    "geyser_min = geyser_power - 200\n",
    "geyser_max = geyser_power + 200\n",
    "fridge_min = fridge_power-100\n",
    "fridge_max = fridge_power+100\n"
   ]
  },
  {
   "cell_type": "code",
   "execution_count": 52,
   "metadata": {
    "collapsed": true
   },
   "outputs": [],
   "source": [
    "pred_index = pd.DatetimeIndex(start=\"2015-02-06\", end=\"2015-02-07\", freq='1s')\n",
    "pred = pd.DataFrame({\"occupancy\":np.zeros(len(pred_index))}, index=pred_index)"
   ]
  },
  {
   "cell_type": "code",
   "execution_count": 41,
   "metadata": {
    "collapsed": false
   },
   "outputs": [
    {
     "name": "stdout",
     "output_type": "stream",
     "text": [
      "Finding Edges, please wait ...\n",
      "Edge detection complete.\n",
      "Creating transition frame ...\n",
      "Transition frame created.\n",
      "Creating states frame ...\n",
      "States frame created.\n",
      "Finished.\n"
     ]
    }
   ],
   "source": [
    "df_data = df_power_copy\n",
    "ss, tr = find_steady_states(df_data)\n"
   ]
  },
  {
   "cell_type": "code",
   "execution_count": 42,
   "metadata": {
    "collapsed": false
   },
   "outputs": [
    {
     "data": {
      "text/html": [
       "<div>\n",
       "<table border=\"1\" class=\"dataframe\">\n",
       "  <thead>\n",
       "    <tr style=\"text-align: right;\">\n",
       "      <th></th>\n",
       "      <th>active transition</th>\n",
       "    </tr>\n",
       "  </thead>\n",
       "  <tbody>\n",
       "    <tr>\n",
       "      <th>2015-02-01 10:03:29</th>\n",
       "      <td>2167.900824</td>\n",
       "    </tr>\n",
       "    <tr>\n",
       "      <th>2015-02-01 10:45:20</th>\n",
       "      <td>121.368215</td>\n",
       "    </tr>\n",
       "    <tr>\n",
       "      <th>2015-02-01 11:09:29</th>\n",
       "      <td>-103.627729</td>\n",
       "    </tr>\n",
       "    <tr>\n",
       "      <th>2015-02-01 11:31:06</th>\n",
       "      <td>81.970468</td>\n",
       "    </tr>\n",
       "    <tr>\n",
       "      <th>2015-02-01 11:59:30</th>\n",
       "      <td>-2210.311545</td>\n",
       "    </tr>\n",
       "  </tbody>\n",
       "</table>\n",
       "</div>"
      ],
      "text/plain": [
       "                     active transition\n",
       "2015-02-01 10:03:29        2167.900824\n",
       "2015-02-01 10:45:20         121.368215\n",
       "2015-02-01 11:09:29        -103.627729\n",
       "2015-02-01 11:31:06          81.970468\n",
       "2015-02-01 11:59:30       -2210.311545"
      ]
     },
     "execution_count": 42,
     "metadata": {},
     "output_type": "execute_result"
    }
   ],
   "source": [
    "tr.head()"
   ]
  },
  {
   "cell_type": "code",
   "execution_count": 43,
   "metadata": {
    "collapsed": true
   },
   "outputs": [],
   "source": [
    "from copy import deepcopy"
   ]
  },
  {
   "cell_type": "code",
   "execution_count": 44,
   "metadata": {
    "collapsed": false
   },
   "outputs": [],
   "source": [
    "h.transients = deepcopy(tr['2015-02-06'])"
   ]
  },
  {
   "cell_type": "code",
   "execution_count": 45,
   "metadata": {
    "collapsed": true
   },
   "outputs": [],
   "source": [
    "pair_df = h.pair(buffer_size=20,\n",
    "                  min_tolerance=100, percent_tolerance=0.035,\n",
    "                  large_transition=1000)"
   ]
  },
  {
   "cell_type": "code",
   "execution_count": 46,
   "metadata": {
    "collapsed": false
   },
   "outputs": [
    {
     "data": {
      "text/html": [
       "<div>\n",
       "<table border=\"1\" class=\"dataframe\">\n",
       "  <thead>\n",
       "    <tr style=\"text-align: right;\">\n",
       "      <th></th>\n",
       "      <th>T1 Time</th>\n",
       "      <th>T1 Active</th>\n",
       "      <th>T2 Time</th>\n",
       "      <th>T2 Active</th>\n",
       "    </tr>\n",
       "  </thead>\n",
       "  <tbody>\n",
       "    <tr>\n",
       "      <th>0</th>\n",
       "      <td>2015-02-06 00:16:38</td>\n",
       "      <td>125.174074</td>\n",
       "      <td>2015-02-06 00:30:25</td>\n",
       "      <td>-142.125668</td>\n",
       "    </tr>\n",
       "    <tr>\n",
       "      <th>1</th>\n",
       "      <td>2015-02-06 00:47:52</td>\n",
       "      <td>2117.572144</td>\n",
       "      <td>2015-02-06 00:47:55</td>\n",
       "      <td>-2118.042867</td>\n",
       "    </tr>\n",
       "    <tr>\n",
       "      <th>2</th>\n",
       "      <td>2015-02-06 00:48:49</td>\n",
       "      <td>2115.641866</td>\n",
       "      <td>2015-02-06 00:48:57</td>\n",
       "      <td>-2117.186035</td>\n",
       "    </tr>\n",
       "    <tr>\n",
       "      <th>3</th>\n",
       "      <td>2015-02-06 00:49:27</td>\n",
       "      <td>2116.557818</td>\n",
       "      <td>2015-02-06 00:49:35</td>\n",
       "      <td>-2117.610504</td>\n",
       "    </tr>\n",
       "    <tr>\n",
       "      <th>4</th>\n",
       "      <td>2015-02-06 00:50:08</td>\n",
       "      <td>2118.930389</td>\n",
       "      <td>2015-02-06 00:50:11</td>\n",
       "      <td>-2118.809891</td>\n",
       "    </tr>\n",
       "    <tr>\n",
       "      <th>5</th>\n",
       "      <td>2015-02-06 00:51:04</td>\n",
       "      <td>2115.021692</td>\n",
       "      <td>2015-02-06 00:51:23</td>\n",
       "      <td>-2115.772186</td>\n",
       "    </tr>\n",
       "    <tr>\n",
       "      <th>6</th>\n",
       "      <td>2015-02-06 00:13:22</td>\n",
       "      <td>2273.560027</td>\n",
       "      <td>2015-02-06 01:08:10</td>\n",
       "      <td>-2203.388717</td>\n",
       "    </tr>\n",
       "    <tr>\n",
       "      <th>7</th>\n",
       "      <td>2015-02-06 01:29:21</td>\n",
       "      <td>139.560556</td>\n",
       "      <td>2015-02-06 01:46:36</td>\n",
       "      <td>-149.690234</td>\n",
       "    </tr>\n",
       "    <tr>\n",
       "      <th>8</th>\n",
       "      <td>2015-02-06 02:33:44</td>\n",
       "      <td>1777.986825</td>\n",
       "      <td>2015-02-06 02:37:33</td>\n",
       "      <td>-1792.095590</td>\n",
       "    </tr>\n",
       "    <tr>\n",
       "      <th>9</th>\n",
       "      <td>2015-02-06 02:42:46</td>\n",
       "      <td>123.635863</td>\n",
       "      <td>2015-02-06 02:56:38</td>\n",
       "      <td>-121.299202</td>\n",
       "    </tr>\n",
       "    <tr>\n",
       "      <th>10</th>\n",
       "      <td>2015-02-06 02:25:49</td>\n",
       "      <td>1097.899176</td>\n",
       "      <td>2015-02-06 03:26:46</td>\n",
       "      <td>-1073.609323</td>\n",
       "    </tr>\n",
       "    <tr>\n",
       "      <th>11</th>\n",
       "      <td>2015-02-06 03:49:31</td>\n",
       "      <td>126.858938</td>\n",
       "      <td>2015-02-06 04:03:59</td>\n",
       "      <td>-127.875407</td>\n",
       "    </tr>\n",
       "    <tr>\n",
       "      <th>12</th>\n",
       "      <td>2015-02-06 05:04:47</td>\n",
       "      <td>127.748244</td>\n",
       "      <td>2015-02-06 05:19:16</td>\n",
       "      <td>-127.893680</td>\n",
       "    </tr>\n",
       "    <tr>\n",
       "      <th>13</th>\n",
       "      <td>2015-02-06 06:18:00</td>\n",
       "      <td>130.210093</td>\n",
       "      <td>2015-02-06 06:32:28</td>\n",
       "      <td>-129.135884</td>\n",
       "    </tr>\n",
       "    <tr>\n",
       "      <th>14</th>\n",
       "      <td>2015-02-06 07:30:48</td>\n",
       "      <td>140.053904</td>\n",
       "      <td>2015-02-06 07:55:58</td>\n",
       "      <td>-165.195892</td>\n",
       "    </tr>\n",
       "    <tr>\n",
       "      <th>15</th>\n",
       "      <td>2015-02-06 08:55:14</td>\n",
       "      <td>213.881205</td>\n",
       "      <td>2015-02-06 09:23:49</td>\n",
       "      <td>-142.135161</td>\n",
       "    </tr>\n",
       "    <tr>\n",
       "      <th>16</th>\n",
       "      <td>2015-02-06 09:46:34</td>\n",
       "      <td>1766.433205</td>\n",
       "      <td>2015-02-06 09:48:13</td>\n",
       "      <td>-1770.378088</td>\n",
       "    </tr>\n",
       "    <tr>\n",
       "      <th>17</th>\n",
       "      <td>2015-02-06 10:25:25</td>\n",
       "      <td>128.869758</td>\n",
       "      <td>2015-02-06 10:46:10</td>\n",
       "      <td>-133.037101</td>\n",
       "    </tr>\n",
       "    <tr>\n",
       "      <th>18</th>\n",
       "      <td>2015-02-06 12:09:00</td>\n",
       "      <td>1768.199067</td>\n",
       "      <td>2015-02-06 12:11:46</td>\n",
       "      <td>-1796.200587</td>\n",
       "    </tr>\n",
       "    <tr>\n",
       "      <th>19</th>\n",
       "      <td>2015-02-06 12:14:54</td>\n",
       "      <td>1773.251173</td>\n",
       "      <td>2015-02-06 12:15:07</td>\n",
       "      <td>-1742.562470</td>\n",
       "    </tr>\n",
       "    <tr>\n",
       "      <th>20</th>\n",
       "      <td>2015-02-06 12:11:25</td>\n",
       "      <td>113.659443</td>\n",
       "      <td>2015-02-06 12:35:34</td>\n",
       "      <td>-121.800900</td>\n",
       "    </tr>\n",
       "    <tr>\n",
       "      <th>21</th>\n",
       "      <td>2015-02-06 13:21:52</td>\n",
       "      <td>126.663712</td>\n",
       "      <td>2015-02-06 13:36:09</td>\n",
       "      <td>-126.258883</td>\n",
       "    </tr>\n",
       "    <tr>\n",
       "      <th>22</th>\n",
       "      <td>2015-02-06 13:48:04</td>\n",
       "      <td>1759.862429</td>\n",
       "      <td>2015-02-06 13:49:17</td>\n",
       "      <td>-1759.007489</td>\n",
       "    </tr>\n",
       "    <tr>\n",
       "      <th>23</th>\n",
       "      <td>2015-02-06 14:21:05</td>\n",
       "      <td>131.169600</td>\n",
       "      <td>2015-02-06 14:35:22</td>\n",
       "      <td>-129.387525</td>\n",
       "    </tr>\n",
       "    <tr>\n",
       "      <th>24</th>\n",
       "      <td>2015-02-06 15:28:38</td>\n",
       "      <td>134.934934</td>\n",
       "      <td>2015-02-06 15:42:53</td>\n",
       "      <td>-132.892829</td>\n",
       "    </tr>\n",
       "    <tr>\n",
       "      <th>25</th>\n",
       "      <td>2015-02-06 16:37:18</td>\n",
       "      <td>133.387966</td>\n",
       "      <td>2015-02-06 16:51:44</td>\n",
       "      <td>-133.135134</td>\n",
       "    </tr>\n",
       "    <tr>\n",
       "      <th>26</th>\n",
       "      <td>2015-02-06 17:42:28</td>\n",
       "      <td>147.643121</td>\n",
       "      <td>2015-02-06 17:56:44</td>\n",
       "      <td>-133.770721</td>\n",
       "    </tr>\n",
       "    <tr>\n",
       "      <th>27</th>\n",
       "      <td>2015-02-06 18:52:32</td>\n",
       "      <td>135.919015</td>\n",
       "      <td>2015-02-06 19:06:42</td>\n",
       "      <td>-138.599282</td>\n",
       "    </tr>\n",
       "    <tr>\n",
       "      <th>28</th>\n",
       "      <td>2015-02-06 20:02:39</td>\n",
       "      <td>139.208616</td>\n",
       "      <td>2015-02-06 20:16:49</td>\n",
       "      <td>-138.783148</td>\n",
       "    </tr>\n",
       "    <tr>\n",
       "      <th>29</th>\n",
       "      <td>2015-02-06 21:13:14</td>\n",
       "      <td>140.300193</td>\n",
       "      <td>2015-02-06 21:27:27</td>\n",
       "      <td>-139.691507</td>\n",
       "    </tr>\n",
       "    <tr>\n",
       "      <th>30</th>\n",
       "      <td>2015-02-06 22:24:55</td>\n",
       "      <td>136.562910</td>\n",
       "      <td>2015-02-06 22:39:08</td>\n",
       "      <td>-141.660330</td>\n",
       "    </tr>\n",
       "    <tr>\n",
       "      <th>31</th>\n",
       "      <td>2015-02-06 23:37:13</td>\n",
       "      <td>181.215009</td>\n",
       "      <td>2015-02-06 23:51:36</td>\n",
       "      <td>-133.656492</td>\n",
       "    </tr>\n",
       "  </tbody>\n",
       "</table>\n",
       "</div>"
      ],
      "text/plain": [
       "               T1 Time    T1 Active             T2 Time    T2 Active\n",
       "0  2015-02-06 00:16:38   125.174074 2015-02-06 00:30:25  -142.125668\n",
       "1  2015-02-06 00:47:52  2117.572144 2015-02-06 00:47:55 -2118.042867\n",
       "2  2015-02-06 00:48:49  2115.641866 2015-02-06 00:48:57 -2117.186035\n",
       "3  2015-02-06 00:49:27  2116.557818 2015-02-06 00:49:35 -2117.610504\n",
       "4  2015-02-06 00:50:08  2118.930389 2015-02-06 00:50:11 -2118.809891\n",
       "5  2015-02-06 00:51:04  2115.021692 2015-02-06 00:51:23 -2115.772186\n",
       "6  2015-02-06 00:13:22  2273.560027 2015-02-06 01:08:10 -2203.388717\n",
       "7  2015-02-06 01:29:21   139.560556 2015-02-06 01:46:36  -149.690234\n",
       "8  2015-02-06 02:33:44  1777.986825 2015-02-06 02:37:33 -1792.095590\n",
       "9  2015-02-06 02:42:46   123.635863 2015-02-06 02:56:38  -121.299202\n",
       "10 2015-02-06 02:25:49  1097.899176 2015-02-06 03:26:46 -1073.609323\n",
       "11 2015-02-06 03:49:31   126.858938 2015-02-06 04:03:59  -127.875407\n",
       "12 2015-02-06 05:04:47   127.748244 2015-02-06 05:19:16  -127.893680\n",
       "13 2015-02-06 06:18:00   130.210093 2015-02-06 06:32:28  -129.135884\n",
       "14 2015-02-06 07:30:48   140.053904 2015-02-06 07:55:58  -165.195892\n",
       "15 2015-02-06 08:55:14   213.881205 2015-02-06 09:23:49  -142.135161\n",
       "16 2015-02-06 09:46:34  1766.433205 2015-02-06 09:48:13 -1770.378088\n",
       "17 2015-02-06 10:25:25   128.869758 2015-02-06 10:46:10  -133.037101\n",
       "18 2015-02-06 12:09:00  1768.199067 2015-02-06 12:11:46 -1796.200587\n",
       "19 2015-02-06 12:14:54  1773.251173 2015-02-06 12:15:07 -1742.562470\n",
       "20 2015-02-06 12:11:25   113.659443 2015-02-06 12:35:34  -121.800900\n",
       "21 2015-02-06 13:21:52   126.663712 2015-02-06 13:36:09  -126.258883\n",
       "22 2015-02-06 13:48:04  1759.862429 2015-02-06 13:49:17 -1759.007489\n",
       "23 2015-02-06 14:21:05   131.169600 2015-02-06 14:35:22  -129.387525\n",
       "24 2015-02-06 15:28:38   134.934934 2015-02-06 15:42:53  -132.892829\n",
       "25 2015-02-06 16:37:18   133.387966 2015-02-06 16:51:44  -133.135134\n",
       "26 2015-02-06 17:42:28   147.643121 2015-02-06 17:56:44  -133.770721\n",
       "27 2015-02-06 18:52:32   135.919015 2015-02-06 19:06:42  -138.599282\n",
       "28 2015-02-06 20:02:39   139.208616 2015-02-06 20:16:49  -138.783148\n",
       "29 2015-02-06 21:13:14   140.300193 2015-02-06 21:27:27  -139.691507\n",
       "30 2015-02-06 22:24:55   136.562910 2015-02-06 22:39:08  -141.660330\n",
       "31 2015-02-06 23:37:13   181.215009 2015-02-06 23:51:36  -133.656492"
      ]
     },
     "execution_count": 46,
     "metadata": {},
     "output_type": "execute_result"
    }
   ],
   "source": [
    "pair_df"
   ]
  },
  {
   "cell_type": "code",
   "execution_count": 17,
   "metadata": {
    "collapsed": true
   },
   "outputs": [],
   "source": [
    "%matplotlib qt"
   ]
  },
  {
   "cell_type": "code",
   "execution_count": 70,
   "metadata": {
    "collapsed": false
   },
   "outputs": [],
   "source": [
    "ax = df.plot(subplots=True)"
   ]
  },
  {
   "cell_type": "code",
   "execution_count": 57,
   "metadata": {
    "collapsed": false
   },
   "outputs": [
    {
     "name": "stdout",
     "output_type": "stream",
     "text": [
      "-----Filling between---- T1 Time      2015-02-06 02:33:44\n",
      "T1 Active               1777.987\n",
      "T2 Time      2015-02-06 02:37:33\n",
      "T2 Active              -1792.096\n",
      "Name: 8, dtype: object\n",
      "-----Filling between---- T1 Time      2015-02-06 02:25:49\n",
      "T1 Active               1097.899\n",
      "T2 Time      2015-02-06 03:26:46\n",
      "T2 Active              -1073.609\n",
      "Name: 10, dtype: object\n",
      "-----Filling between---- T1 Time      2015-02-06 09:46:34\n",
      "T1 Active               1766.433\n",
      "T2 Time      2015-02-06 09:48:13\n",
      "T2 Active              -1770.378\n",
      "Name: 16, dtype: object\n",
      "-----Filling between---- T1 Time      2015-02-06 12:09:00\n",
      "T1 Active               1768.199\n",
      "T2 Time      2015-02-06 12:11:46\n",
      "T2 Active              -1796.201\n",
      "Name: 18, dtype: object\n",
      "-----Filling between---- T1 Time      2015-02-06 12:14:54\n",
      "T1 Active               1773.251\n",
      "T2 Time      2015-02-06 12:15:07\n",
      "T2 Active              -1742.562\n",
      "Name: 19, dtype: object\n",
      "-----Filling between---- T1 Time      2015-02-06 13:48:04\n",
      "T1 Active               1759.862\n",
      "T2 Time      2015-02-06 13:49:17\n",
      "T2 Active              -1759.007\n",
      "Name: 22, dtype: object\n"
     ]
    }
   ],
   "source": [
    "for idx, row in pair_df.iterrows():\n",
    "    start = row['T1 Time']\n",
    "    end = row['T2 Time']\n",
    "    if not((fridge_min<=row['T1 Active']<=fridge_max) or (geyser_min<=row['T1 Active']<=geyser_max)):\n",
    "        print \"-----Filling between----\", row\n",
    "\n",
    "        pred[start:end] = 1\n",
    "    else:\n",
    "        pass\n",
    "        #print \"********Fridge or geyser**********\", row"
   ]
  },
  {
   "cell_type": "code",
   "execution_count": 58,
   "metadata": {
    "collapsed": false
   },
   "outputs": [],
   "source": [
    "out = pred.resample(\"15T\", how=\"max\")"
   ]
  },
  {
   "cell_type": "code",
   "execution_count": 59,
   "metadata": {
    "collapsed": false
   },
   "outputs": [
    {
     "data": {
      "text/plain": [
       "<matplotlib.axes._subplots.AxesSubplot at 0x116ad5310>"
      ]
     },
     "execution_count": 59,
     "metadata": {},
     "output_type": "execute_result"
    }
   ],
   "source": [
    "out.plot(ax=ax[1])"
   ]
  },
  {
   "cell_type": "code",
   "execution_count": 60,
   "metadata": {
    "collapsed": false
   },
   "outputs": [
    {
     "name": "stdout",
     "output_type": "stream",
     "text": [
      "Finding Edges, please wait ...\n",
      "Edge detection complete.\n",
      "Creating transition frame ...\n",
      "Transition frame created.\n",
      "Creating states frame ...\n",
      "States frame created.\n",
      "Finished.\n"
     ]
    }
   ],
   "source": [
    "df_data = df_light_copy\n",
    "ss, tr = find_steady_states(df_data)\n",
    "\n"
   ]
  },
  {
   "cell_type": "code",
   "execution_count": 61,
   "metadata": {
    "collapsed": false
   },
   "outputs": [],
   "source": [
    "h.transients = deepcopy(tr['2015-02-06'])"
   ]
  },
  {
   "cell_type": "code",
   "execution_count": 62,
   "metadata": {
    "collapsed": true
   },
   "outputs": [],
   "source": [
    "pair_df = h.pair(buffer_size=20,\n",
    "                  min_tolerance=100, percent_tolerance=0.035,\n",
    "                  large_transition=1000)"
   ]
  },
  {
   "cell_type": "code",
   "execution_count": 63,
   "metadata": {
    "collapsed": false
   },
   "outputs": [
    {
     "data": {
      "text/html": [
       "<div>\n",
       "<table border=\"1\" class=\"dataframe\">\n",
       "  <thead>\n",
       "    <tr style=\"text-align: right;\">\n",
       "      <th></th>\n",
       "      <th>T1 Time</th>\n",
       "      <th>T1 Active</th>\n",
       "      <th>T2 Time</th>\n",
       "      <th>T2 Active</th>\n",
       "    </tr>\n",
       "  </thead>\n",
       "  <tbody>\n",
       "    <tr>\n",
       "      <th>0</th>\n",
       "      <td>2015-02-06 09:59:40</td>\n",
       "      <td>70.219876</td>\n",
       "      <td>2015-02-06 10:23:07</td>\n",
       "      <td>-70.219876</td>\n",
       "    </tr>\n",
       "    <tr>\n",
       "      <th>1</th>\n",
       "      <td>2015-02-06 15:26:14</td>\n",
       "      <td>88.511444</td>\n",
       "      <td>2015-02-06 15:26:36</td>\n",
       "      <td>-91.178333</td>\n",
       "    </tr>\n",
       "    <tr>\n",
       "      <th>2</th>\n",
       "      <td>2015-02-06 15:41:56</td>\n",
       "      <td>93.491934</td>\n",
       "      <td>2015-02-06 15:42:31</td>\n",
       "      <td>-93.491934</td>\n",
       "    </tr>\n",
       "  </tbody>\n",
       "</table>\n",
       "</div>"
      ],
      "text/plain": [
       "              T1 Time  T1 Active             T2 Time  T2 Active\n",
       "0 2015-02-06 09:59:40  70.219876 2015-02-06 10:23:07 -70.219876\n",
       "1 2015-02-06 15:26:14  88.511444 2015-02-06 15:26:36 -91.178333\n",
       "2 2015-02-06 15:41:56  93.491934 2015-02-06 15:42:31 -93.491934"
      ]
     },
     "execution_count": 63,
     "metadata": {},
     "output_type": "execute_result"
    }
   ],
   "source": [
    "pair_df"
   ]
  },
  {
   "cell_type": "code",
   "execution_count": 65,
   "metadata": {
    "collapsed": true
   },
   "outputs": [],
   "source": [
    "for idx, row in pair_df.iterrows():\n",
    "    start = row['T1 Time']\n",
    "    end = row['T2 Time']\n",
    "    pred[start:end] = 1"
   ]
  },
  {
   "cell_type": "code",
   "execution_count": 68,
   "metadata": {
    "collapsed": false
   },
   "outputs": [],
   "source": [
    "out = pred.resample(\"15T\", how=\"max\")"
   ]
  },
  {
   "cell_type": "code",
   "execution_count": 71,
   "metadata": {
    "collapsed": false
   },
   "outputs": [
    {
     "data": {
      "text/plain": [
       "<matplotlib.axes._subplots.AxesSubplot at 0x12d9da210>"
      ]
     },
     "execution_count": 71,
     "metadata": {},
     "output_type": "execute_result"
    }
   ],
   "source": [
    "out.plot(ax=ax[1])"
   ]
  },
  {
   "cell_type": "code",
   "execution_count": 73,
   "metadata": {
    "collapsed": false
   },
   "outputs": [
    {
     "data": {
      "text/html": [
       "<div>\n",
       "<table border=\"1\" class=\"dataframe\">\n",
       "  <thead>\n",
       "    <tr style=\"text-align: right;\">\n",
       "      <th></th>\n",
       "      <th>active transition</th>\n",
       "    </tr>\n",
       "  </thead>\n",
       "  <tbody>\n",
       "    <tr>\n",
       "      <th>2015-02-06 09:59:40</th>\n",
       "      <td>70.219876</td>\n",
       "    </tr>\n",
       "    <tr>\n",
       "      <th>2015-02-06 10:23:07</th>\n",
       "      <td>-70.219876</td>\n",
       "    </tr>\n",
       "    <tr>\n",
       "      <th>2015-02-06 15:26:14</th>\n",
       "      <td>88.511444</td>\n",
       "    </tr>\n",
       "    <tr>\n",
       "      <th>2015-02-06 15:26:36</th>\n",
       "      <td>-91.178333</td>\n",
       "    </tr>\n",
       "    <tr>\n",
       "      <th>2015-02-06 15:41:56</th>\n",
       "      <td>93.491934</td>\n",
       "    </tr>\n",
       "    <tr>\n",
       "      <th>2015-02-06 15:42:31</th>\n",
       "      <td>-93.491934</td>\n",
       "    </tr>\n",
       "    <tr>\n",
       "      <th>2015-02-06 17:00:58</th>\n",
       "      <td>-102.586336</td>\n",
       "    </tr>\n",
       "  </tbody>\n",
       "</table>\n",
       "</div>"
      ],
      "text/plain": [
       "                     active transition\n",
       "2015-02-06 09:59:40          70.219876\n",
       "2015-02-06 10:23:07         -70.219876\n",
       "2015-02-06 15:26:14          88.511444\n",
       "2015-02-06 15:26:36         -91.178333\n",
       "2015-02-06 15:41:56          93.491934\n",
       "2015-02-06 15:42:31         -93.491934\n",
       "2015-02-06 17:00:58        -102.586336"
      ]
     },
     "execution_count": 73,
     "metadata": {},
     "output_type": "execute_result"
    }
   ],
   "source": [
    "tr['2015-02-06']"
   ]
  },
  {
   "cell_type": "code",
   "execution_count": 74,
   "metadata": {
    "collapsed": false
   },
   "outputs": [
    {
     "data": {
      "text/html": [
       "<div>\n",
       "<table border=\"1\" class=\"dataframe\">\n",
       "  <thead>\n",
       "    <tr style=\"text-align: right;\">\n",
       "      <th></th>\n",
       "      <th>T1 Time</th>\n",
       "      <th>T1 Active</th>\n",
       "      <th>T2 Time</th>\n",
       "      <th>T2 Active</th>\n",
       "    </tr>\n",
       "  </thead>\n",
       "  <tbody>\n",
       "    <tr>\n",
       "      <th>0</th>\n",
       "      <td>2015-02-06 09:59:40</td>\n",
       "      <td>70.219876</td>\n",
       "      <td>2015-02-06 10:23:07</td>\n",
       "      <td>-70.219876</td>\n",
       "    </tr>\n",
       "    <tr>\n",
       "      <th>1</th>\n",
       "      <td>2015-02-06 15:26:14</td>\n",
       "      <td>88.511444</td>\n",
       "      <td>2015-02-06 15:26:36</td>\n",
       "      <td>-91.178333</td>\n",
       "    </tr>\n",
       "    <tr>\n",
       "      <th>2</th>\n",
       "      <td>2015-02-06 15:41:56</td>\n",
       "      <td>93.491934</td>\n",
       "      <td>2015-02-06 15:42:31</td>\n",
       "      <td>-93.491934</td>\n",
       "    </tr>\n",
       "  </tbody>\n",
       "</table>\n",
       "</div>"
      ],
      "text/plain": [
       "              T1 Time  T1 Active             T2 Time  T2 Active\n",
       "0 2015-02-06 09:59:40  70.219876 2015-02-06 10:23:07 -70.219876\n",
       "1 2015-02-06 15:26:14  88.511444 2015-02-06 15:26:36 -91.178333\n",
       "2 2015-02-06 15:41:56  93.491934 2015-02-06 15:42:31 -93.491934"
      ]
     },
     "execution_count": 74,
     "metadata": {},
     "output_type": "execute_result"
    }
   ],
   "source": [
    "pair_df"
   ]
  },
  {
   "cell_type": "code",
   "execution_count": 76,
   "metadata": {
    "collapsed": false
   },
   "outputs": [
    {
     "name": "stdout",
     "output_type": "stream",
     "text": [
      "Finding Edges, please wait ...\n",
      "Edge detection complete.\n",
      "Creating transition frame ...\n",
      "Transition frame created.\n",
      "Creating states frame ...\n",
      "States frame created.\n",
      "Finished.\n",
      "Finding Edges, please wait ...\n",
      "Edge detection complete.\n",
      "Creating transition frame ...\n",
      "Transition frame created.\n",
      "Creating states frame ...\n",
      "States frame created.\n",
      "Finished.\n"
     ]
    }
   ],
   "source": [
    "ss_power, tr_power = find_steady_states(df_power_copy)\n",
    "days_power = pd.DatetimeIndex(np.unique(tr_power.index.date))\n",
    "\n",
    "ss_light, tr_light = find_steady_states(df_light_copy)\n",
    "days_light = pd.DatetimeIndex(np.unique(tr_light.index.date))\n",
    "\n",
    "days = np.union1d(days_light, days_power)"
   ]
  },
  {
   "cell_type": "code",
   "execution_count": 77,
   "metadata": {
    "collapsed": false
   },
   "outputs": [
    {
     "data": {
      "text/plain": [
       "(12, 9, 12)"
      ]
     },
     "execution_count": 77,
     "metadata": {},
     "output_type": "execute_result"
    }
   ],
   "source": [
    "len(days_power), len(days_light), len(days)"
   ]
  },
  {
   "cell_type": "code",
   "execution_count": 79,
   "metadata": {
    "collapsed": false
   },
   "outputs": [
    {
     "data": {
      "text/plain": [
       "DatetimeIndex(['2015-02-02', '2015-02-03', '2015-02-04', '2015-02-06',\n",
       "               '2015-02-07', '2015-02-08', '2015-02-09', '2015-02-10',\n",
       "               '2015-02-11'],\n",
       "              dtype='datetime64[ns]', freq=None, tz=None)"
      ]
     },
     "execution_count": 79,
     "metadata": {},
     "output_type": "execute_result"
    }
   ],
   "source": [
    "days_light"
   ]
  },
  {
   "cell_type": "code",
   "execution_count": 82,
   "metadata": {
    "collapsed": false
   },
   "outputs": [],
   "source": [
    "days = pd.DatetimeIndex(np.union1d(days_light, days_power))"
   ]
  },
  {
   "cell_type": "code",
   "execution_count": 84,
   "metadata": {
    "collapsed": false
   },
   "outputs": [],
   "source": [
    "for day in days:\n",
    "    try:\n",
    "        tr_day_light = tr_light[day.strftime(\"%Y-%m-%d\")]\n",
    "        \n",
    "    except:\n",
    "        pass"
   ]
  },
  {
   "cell_type": "code",
   "execution_count": 89,
   "metadata": {
    "collapsed": false
   },
   "outputs": [
    {
     "data": {
      "text/plain": [
       "False"
      ]
     },
     "execution_count": 89,
     "metadata": {},
     "output_type": "execute_result"
    }
   ],
   "source": [
    "tr_day_light.index[-1]<tr_day_light.index[0]"
   ]
  },
  {
   "cell_type": "code",
   "execution_count": 90,
   "metadata": {
    "collapsed": true
   },
   "outputs": [],
   "source": [
    "tr_day_power = tr_power[day.strftime(\"%Y-%m-%d\")].abs()"
   ]
  },
  {
   "cell_type": "code",
   "execution_count": 91,
   "metadata": {
    "collapsed": false
   },
   "outputs": [
    {
     "data": {
      "text/html": [
       "<div>\n",
       "<table border=\"1\" class=\"dataframe\">\n",
       "  <thead>\n",
       "    <tr style=\"text-align: right;\">\n",
       "      <th></th>\n",
       "      <th>active transition</th>\n",
       "    </tr>\n",
       "  </thead>\n",
       "  <tbody>\n",
       "    <tr>\n",
       "      <th>2015-02-12 00:13:18</th>\n",
       "      <td>2281.654360</td>\n",
       "    </tr>\n",
       "    <tr>\n",
       "      <th>2015-02-12 00:21:09</th>\n",
       "      <td>115.111132</td>\n",
       "    </tr>\n",
       "    <tr>\n",
       "      <th>2015-02-12 00:35:22</th>\n",
       "      <td>139.591468</td>\n",
       "    </tr>\n",
       "    <tr>\n",
       "      <th>2015-02-12 00:59:12</th>\n",
       "      <td>2217.946593</td>\n",
       "    </tr>\n",
       "  </tbody>\n",
       "</table>\n",
       "</div>"
      ],
      "text/plain": [
       "                     active transition\n",
       "2015-02-12 00:13:18        2281.654360\n",
       "2015-02-12 00:21:09         115.111132\n",
       "2015-02-12 00:35:22         139.591468\n",
       "2015-02-12 00:59:12        2217.946593"
      ]
     },
     "execution_count": 91,
     "metadata": {},
     "output_type": "execute_result"
    }
   ],
   "source": [
    "tr_day_power"
   ]
  },
  {
   "cell_type": "code",
   "execution_count": 98,
   "metadata": {
    "collapsed": true
   },
   "outputs": [],
   "source": [
    "tr_day_power_non_bg = tr_day_power[(tr_day_power['active transition']<fridge_min) & (tr_day_power['active transition']>fridge_max)\n",
    "        &(tr_day_power['active transition']<geyser_min)&(tr_day_power['active transition']>geyser_max)]"
   ]
  },
  {
   "cell_type": "code",
   "execution_count": 99,
   "metadata": {
    "collapsed": false
   },
   "outputs": [
    {
     "data": {
      "text/html": [
       "<div>\n",
       "<table border=\"1\" class=\"dataframe\">\n",
       "  <thead>\n",
       "    <tr style=\"text-align: right;\">\n",
       "      <th></th>\n",
       "      <th>active transition</th>\n",
       "    </tr>\n",
       "  </thead>\n",
       "  <tbody>\n",
       "  </tbody>\n",
       "</table>\n",
       "</div>"
      ],
      "text/plain": [
       "Empty DataFrame\n",
       "Columns: [active transition]\n",
       "Index: []"
      ]
     },
     "execution_count": 99,
     "metadata": {},
     "output_type": "execute_result"
    }
   ],
   "source": [
    "tr_day_power_non_bg"
   ]
  },
  {
   "cell_type": "code",
   "execution_count": 95,
   "metadata": {
    "collapsed": false
   },
   "outputs": [
    {
     "data": {
      "text/plain": [
       "(250, 50)"
      ]
     },
     "execution_count": 95,
     "metadata": {},
     "output_type": "execute_result"
    }
   ],
   "source": [
    "fridge_max, fridge_min, g"
   ]
  },
  {
   "cell_type": "code",
   "execution_count": null,
   "metadata": {
    "collapsed": true
   },
   "outputs": [],
   "source": []
  }
 ],
 "metadata": {
  "kernelspec": {
   "display_name": "Python 2",
   "language": "python",
   "name": "python2"
  },
  "language_info": {
   "codemirror_mode": {
    "name": "ipython",
    "version": 2
   },
   "file_extension": ".py",
   "mimetype": "text/x-python",
   "name": "python",
   "nbconvert_exporter": "python",
   "pygments_lexer": "ipython2",
   "version": "2.7.10"
  }
 },
 "nbformat": 4,
 "nbformat_minor": 0
}
