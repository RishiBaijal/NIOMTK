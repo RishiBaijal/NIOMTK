{
 "cells": [
  {
   "cell_type": "code",
   "execution_count": 4,
   "metadata": {
    "collapsed": false
   },
   "outputs": [],
   "source": [
    "from os import *\n",
    "from os.path import *\n",
    "from itertools import chain\n",
    "import os\n",
    "from sklearn import tree\n",
    "import pandas as pd\n",
    "from numpy import *\n",
    "from pandas import *\n",
    "from sklearn import svm\n",
    "from sklearn.neighbors import KNeighborsClassifier\n",
    "import pytz\n",
    "import matplotlib.pyplot as plt\n",
    "from sklearn.cross_validation import train_test_split\n",
    "from sklearn.metrics import *\n",
    "from sklearn.ensemble import RandomForestClassifier\n",
    "import itertools"
   ]
  },
  {
   "cell_type": "code",
   "execution_count": 5,
   "metadata": {
    "collapsed": true
   },
   "outputs": [],
   "source": [
    "import itertools\n",
    "\n",
    "\n",
    "def tp(gt, pred):\n",
    "    return np.sum((gt==1) &(pred==1))/1.0*np.size(gt)\n",
    "\n",
    "fridge_power = {1:48,\n",
    "                2:74,\n",
    "                3:64,\n",
    "                4:94,\n",
    "                5:113}\n",
    "\n",
    "gt_power = {'summer':{},'winter':{}}\n",
    "pair_df_dict = {'summer':{},'winter':{}}\n",
    "transients_dict = {'summer':{},'winter':{}}\n"
   ]
  },
  {
   "cell_type": "code",
   "execution_count": 6,
   "metadata": {
    "collapsed": true
   },
   "outputs": [],
   "source": [
    "\n",
    "results_dic = {}\n",
    "output_path = os.path.expanduser(\"~/Dropbox/niomtk_data/eco/downsampled\")\n",
    "\n",
    "classifiers_dict = {\"SVM\": svm.SVC(), \"KNN\": KNeighborsClassifier(n_neighbors=3),\n",
    "                    \"DT\": tree.DecisionTreeClassifier(),\"RF\":RandomForestClassifier()}\n",
    "\n",
    "metric_dict = {\"Precision\":precision_score, \"Recall\":recall_score,\n",
    "               \"MCC\":matthews_corrcoef, \"Accuracy\":tp}"
   ]
  },
  {
   "cell_type": "code",
   "execution_count": 7,
   "metadata": {
    "collapsed": true
   },
   "outputs": [],
   "source": [
    "def nilm_pair_remove_fridge(home, season, folder_path):\n",
    "    from copy import deepcopy\n",
    "    season_path = os.path.join(folder_path, season)\n",
    "    home_path = season_path+\"/\"+str(home)+\".csv\"\n",
    "    df = pd.read_csv(home_path, index_col=0)\n",
    "    df.index = pd.to_datetime(df.index)\n",
    "\n",
    "    df = df.between_time(\"06:00\", \"22:00\").copy()\n",
    "    train_size = len(df)/2\n",
    "    df = df.tail(train_size)\n",
    "    from nilmtk.feature_detectors.steady_states import find_steady_states, find_steady_states_transients\n",
    "    from nilmtk.disaggregate.hart_85 import Hart85\n",
    "    h = Hart85()\n",
    "\n",
    "    fridge_min = fridge_power[home]-30\n",
    "    fridge_max = fridge_power[home]+30\n",
    "\n",
    "    # Train on DF to get pairs.\n",
    "    # 1. Between pairs put occupancy as 1\n",
    "    # 2. If not a pair, then also put occupancy as 1\n",
    "    ss, tr = find_steady_states(df[[\"power\"]])\n",
    "    pred = pd.Series(np.zeros(len(df)),name=\"occupancy\", index=df.index)\n",
    "\n",
    "\n",
    "    # Find unique days\n",
    "    days = pd.DatetimeIndex(np.unique(df.index.date))\n",
    "    for day in days:\n",
    "        events_day = tr[day.strftime(\"%Y-%m-%d\")].abs()\n",
    "        # Find first non-fridge event\n",
    "        event_df = events_day[(events_day['active transition']<=fridge_min)|(events_day['active transition']>=fridge_max)]\n",
    "\n",
    "        if len(event_df)>0:\n",
    "            first_event=event_df.index[0]\n",
    "            last_event = event_df.index[-1]\n",
    "            pred[day.strftime(\"%Y-%m-%d\")][:first_event]=1\n",
    "            pred[day.strftime(\"%Y-%m-%d\")][last_event:]=1\n",
    "    for ix, row in tr.iterrows():\n",
    "\n",
    "        if not(fridge_min<=row['active transition']<=fridge_max):\n",
    "            pred.ix[tr.index] = 1\n",
    "    h.transients = deepcopy(tr)\n",
    "\n",
    "    pair_df = h.pair(buffer_size=20,\n",
    "              min_tolerance=100, percent_tolerance=0.035,\n",
    "              large_transition=1000)\n",
    "    pair_df_dict[season][home] = pair_df\n",
    "    transients_dict[season][home] = h.transients\n",
    "    for idx, row in pair_df.iterrows():\n",
    "        start = row['T1 Time']\n",
    "        end = row['T2 Time']\n",
    "        if not(fridge_min<=row['T1 Active']<=fridge_max):\n",
    "            time_delta = (end - start)/np.timedelta64(1, 'h')\n",
    "            if time_delta<24:\n",
    "                pred[start:end] = 1\n",
    "            else:\n",
    "                print \"*\"*80\n",
    "\n",
    "\n",
    "    pred_resampled = pred.resample(\"15T\", how=\"max\")\n",
    "    return pred_resampled"
   ]
  },
  {
   "cell_type": "code",
   "execution_count": 10,
   "metadata": {
    "collapsed": false
   },
   "outputs": [
    {
     "name": "stdout",
     "output_type": "stream",
     "text": [
      "Finding Edges, please wait ...\n",
      "Edge detection complete.\n",
      "Creating transition frame ...\n",
      "Transition frame created.\n",
      "Creating states frame ...\n",
      "States frame created.\n",
      "Finished.\n",
      "********************************************************************************\n",
      "********************************************************************************\n",
      "********************************************************************************\n",
      "********************************************************************************\n",
      "********************************************************************************\n",
      "********************************************************************************\n",
      "********************************************************************************\n"
     ]
    }
   ],
   "source": [
    "out = {}\n",
    "accuracy_dict = {}\n",
    "season = \"summer\"\n",
    "folder_path = os.path.expanduser(\"~/Dropbox/niomtk_data/eco/downsampled\")\n",
    "\n",
    "season_path = os.path.join(folder_path, season)\n",
    "all_homes = [1,2,3,4,5]\n",
    "home = 1\n",
    "    \n",
    "train_homes = [h for h in all_homes if h!=home]\n",
    "\n",
    "home_path = season_path+\"/\"+str(home)+\".csv\"\n",
    "df = pd.read_csv(home_path, index_col=0)\n",
    "df.index = pd.to_datetime(df.index)\n",
    "df = df.between_time(\"06:00\", \"22:00\")\n",
    "train_size = len(df)/2\n",
    "X_test = df.tail(train_size)\n",
    "y_test = X_test.pop(\"occupancy\")\n",
    "\n",
    "\n",
    "gt = y_test.resample(\"15T\", how=\"max\")\n",
    "        \n",
    "\n",
    "out = nilm_pair_remove_fridge(home, season,os.path.expanduser(\"~/Dropbox/niomtk_data/eco/1min/\"))\n",
    "\n",
    "        \n"
   ]
  },
  {
   "cell_type": "code",
   "execution_count": 12,
   "metadata": {
    "collapsed": false
   },
   "outputs": [],
   "source": [
    "%matplotlib qt"
   ]
  },
  {
   "cell_type": "code",
   "execution_count": 13,
   "metadata": {
    "collapsed": false
   },
   "outputs": [
    {
     "data": {
      "text/plain": [
       "<matplotlib.axes._subplots.AxesSubplot at 0x113838a90>"
      ]
     },
     "execution_count": 13,
     "metadata": {},
     "output_type": "execute_result"
    }
   ],
   "source": [
    "out.plot()"
   ]
  },
  {
   "cell_type": "code",
   "execution_count": 14,
   "metadata": {
    "collapsed": false
   },
   "outputs": [
    {
     "data": {
      "text/plain": [
       "<matplotlib.axes._subplots.AxesSubplot at 0x113838a90>"
      ]
     },
     "execution_count": 14,
     "metadata": {},
     "output_type": "execute_result"
    }
   ],
   "source": [
    "gt.plot()"
   ]
  },
  {
   "cell_type": "code",
   "execution_count": 15,
   "metadata": {
    "collapsed": false
   },
   "outputs": [
    {
     "data": {
      "text/plain": [
       "<matplotlib.axes._subplots.AxesSubplot at 0x119e90a90>"
      ]
     },
     "execution_count": 15,
     "metadata": {},
     "output_type": "execute_result"
    }
   ],
   "source": [
    "df.plot()"
   ]
  },
  {
   "cell_type": "code",
   "execution_count": 16,
   "metadata": {
    "collapsed": true
   },
   "outputs": [],
   "source": [
    " from copy import deepcopy\n",
    "season_path = os.path.join(folder_path, season)\n",
    "home_path = season_path+\"/\"+str(home)+\".csv\"\n",
    "df = pd.read_csv(home_path, index_col=0)\n",
    "df.index = pd.to_datetime(df.index)\n",
    "\n",
    "df = df.between_time(\"06:00\", \"22:00\").copy()\n",
    "train_size = len(df)/2\n",
    "df = df.tail(train_size)"
   ]
  },
  {
   "cell_type": "code",
   "execution_count": 18,
   "metadata": {
    "collapsed": false
   },
   "outputs": [
    {
     "data": {
      "text/plain": [
       "'/Users/nipunbatra/Dropbox/niomtk_data/eco/downsampled/summer'"
      ]
     },
     "execution_count": 18,
     "metadata": {},
     "output_type": "execute_result"
    }
   ],
   "source": [
    "season_path"
   ]
  },
  {
   "cell_type": "code",
   "execution_count": 21,
   "metadata": {
    "collapsed": false
   },
   "outputs": [],
   "source": [
    "df = pd.read_csv(\"/Users/nipunbatra/Dropbox/niomtk_data/eco/1min/summer/1.csv\", index_col=0)\n",
    "df = df.tail(len(df)/2)\n",
    "df.index = pd.to_datetime(df.index)"
   ]
  },
  {
   "cell_type": "code",
   "execution_count": 23,
   "metadata": {
    "collapsed": false
   },
   "outputs": [
    {
     "data": {
      "text/plain": [
       "<matplotlib.axes._subplots.AxesSubplot at 0x12c347ed0>"
      ]
     },
     "execution_count": 23,
     "metadata": {},
     "output_type": "execute_result"
    }
   ],
   "source": [
    "df.plot()"
   ]
  },
  {
   "cell_type": "code",
   "execution_count": 24,
   "metadata": {
    "collapsed": true
   },
   "outputs": [],
   "source": [
    "ax = df.plot(subplots=True)"
   ]
  },
  {
   "cell_type": "code",
   "execution_count": 25,
   "metadata": {
    "collapsed": false
   },
   "outputs": [
    {
     "data": {
      "text/plain": [
       "<matplotlib.axes._subplots.AxesSubplot at 0x12da8a610>"
      ]
     },
     "execution_count": 25,
     "metadata": {},
     "output_type": "execute_result"
    }
   ],
   "source": [
    "out.plot(ax=ax[1], color='g')"
   ]
  },
  {
   "cell_type": "code",
   "execution_count": 26,
   "metadata": {
    "collapsed": true
   },
   "outputs": [],
   "source": [
    "from common_functions import *"
   ]
  },
  {
   "cell_type": "code",
   "execution_count": 28,
   "metadata": {
    "collapsed": false
   },
   "outputs": [],
   "source": [
    "new_df = pd.DataFrame()"
   ]
  },
  {
   "cell_type": "code",
   "execution_count": 42,
   "metadata": {
    "collapsed": false
   },
   "outputs": [],
   "source": [
    "latexify(columns=1, fig_height=3)\n",
    "fig, ax = plt.subplots(nrows=3, sharex=True)\n",
    "df[\"2012-08-04 06:00\":\"2012-08-04 10:00\"].power.plot(ax=ax[0])\n",
    "df[\"2012-08-04 06:00\":\"2012-08-04 10:00\"].occupancy.plot(ax=ax[1])\n",
    "out[\"2012-08-04 06:00\":\"2012-08-04 10:00\"].plot(ax=ax[2])\n",
    "format_axes(ax[0])\n",
    "format_axes(ax[1])\n",
    "format_axes(ax[2])\n",
    "ax[0].set_ylabel(\"Power (W)\")\n",
    "ax[0].set_ylim((-100, 2500))\n",
    "ax[1].set_ylim((-0.1, 1.1))\n",
    "ax[2].set_ylim((-0.1, 1.1))\n",
    "ax[0].get_xaxis().set_ticks([])\n",
    "ax[1].get_xaxis().set_ticks([])\n",
    "ax[1].get_yaxis().set_ticks([])\n",
    "ax[2].get_yaxis().set_ticks([])\n",
    "\n",
    "\n",
    "\n",
    "\n",
    "\n",
    "\n",
    "\n",
    "\n",
    "\n",
    "ax[1].set_ylabel(\"Occupancy\\n Ground truth\")\n",
    "ax[2].set_ylabel(\"Occupancy\\n Predicted\")\n",
    "ax[2].set_xlabel(\"Time\")\n",
    "plt.tight_layout()\n",
    "plt.savefig(\"/Users/nipunbatra/git/NIOMTK/figures/eco_low_accuracy.pdf\", bbox_inches=\"tight\")"
   ]
  },
  {
   "cell_type": "code",
   "execution_count": 33,
   "metadata": {
    "collapsed": false
   },
   "outputs": [
    {
     "data": {
      "text/plain": [
       "<matplotlib.axes._subplots.AxesSubplot at 0x1316b6e50>"
      ]
     },
     "execution_count": 33,
     "metadata": {},
     "output_type": "execute_result"
    }
   ],
   "source": []
  },
  {
   "cell_type": "code",
   "execution_count": 34,
   "metadata": {
    "collapsed": false
   },
   "outputs": [
    {
     "data": {
      "text/plain": [
       "<matplotlib.axes._subplots.AxesSubplot at 0x1317335d0>"
      ]
     },
     "execution_count": 34,
     "metadata": {},
     "output_type": "execute_result"
    }
   ],
   "source": []
  },
  {
   "cell_type": "code",
   "execution_count": 35,
   "metadata": {
    "collapsed": false
   },
   "outputs": [
    {
     "data": {
      "text/plain": [
       "<matplotlib.axes._subplots.AxesSubplot at 0x133378c10>"
      ]
     },
     "execution_count": 35,
     "metadata": {},
     "output_type": "execute_result"
    }
   ],
   "source": []
  },
  {
   "cell_type": "code",
   "execution_count": 36,
   "metadata": {
    "collapsed": true
   },
   "outputs": [],
   "source": []
  },
  {
   "cell_type": "code",
   "execution_count": null,
   "metadata": {
    "collapsed": true
   },
   "outputs": [],
   "source": []
  }
 ],
 "metadata": {
  "kernelspec": {
   "display_name": "Python 2",
   "language": "python",
   "name": "python2"
  },
  "language_info": {
   "codemirror_mode": {
    "name": "ipython",
    "version": 2
   },
   "file_extension": ".py",
   "mimetype": "text/x-python",
   "name": "python",
   "nbconvert_exporter": "python",
   "pygments_lexer": "ipython2",
   "version": "2.7.10"
  }
 },
 "nbformat": 4,
 "nbformat_minor": 0
}
